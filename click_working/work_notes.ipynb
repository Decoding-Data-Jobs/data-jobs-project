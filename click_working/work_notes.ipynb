{
 "cells": [
  {
   "cell_type": "markdown",
   "metadata": {},
   "source": [
    "Clean Up\n",
    "\n",
    "- Columns to drop\n",
    "    - 'Unnamed: 0'\n",
    "    - 'index'\n",
    "    - 'commute_time'\n",
    "    - 'search_location'"
   ]
  },
  {
   "cell_type": "markdown",
   "metadata": {},
   "source": [
    "- Convert date_time to date_time\n",
    "- Description_tokens needs to be cleaned\n",
    "- Found that job_id is used for finding duplicates in data\n",
    "- Need to drop those dups\n"
   ]
  },
  {
   "cell_type": "markdown",
   "metadata": {},
   "source": [
    "salary columns have already been cleaned and formatted."
   ]
  },
  {
   "cell_type": "markdown",
   "metadata": {},
   "source": []
  },
  {
   "cell_type": "code",
   "execution_count": null,
   "metadata": {},
   "outputs": [],
   "source": []
  }
 ],
 "metadata": {
  "language_info": {
   "name": "python"
  }
 },
 "nbformat": 4,
 "nbformat_minor": 2
}
