{
 "cells": [
  {
   "cell_type": "code",
   "execution_count": 229,
   "metadata": {},
   "outputs": [],
   "source": [
    "def check_columns(DataFrame, reports=False, graphs=False, dates=False):\n",
    "    \"\"\"\n",
    "    This function takes a pandas dataframe as input and returns\n",
    "    a dataframe with information about each column in the dataframe.\n",
    "    \"\"\"\n",
    "\n",
    "    dataframeinfo = []\n",
    "\n",
    "    # Check information about the index\n",
    "    index_dtype = DataFrame.index.dtype\n",
    "    index_unique_vals = DataFrame.index.unique()\n",
    "    index_num_unique = DataFrame.index.nunique()\n",
    "    index_num_null = DataFrame.index.isna().sum()\n",
    "    index_pct_null = index_num_null / len(DataFrame.index)\n",
    "\n",
    "    if pd.api.types.is_numeric_dtype(index_dtype) and not isinstance(\n",
    "        DataFrame.index, pd.RangeIndex\n",
    "    ):\n",
    "        index_min_val = DataFrame.index.min()\n",
    "        index_max_val = DataFrame.index.max()\n",
    "        index_range_vals = (index_min_val, index_max_val)\n",
    "    elif pd.api.types.is_datetime64_any_dtype(index_dtype):\n",
    "        index_min_val = DataFrame.index.min()\n",
    "        index_max_val = DataFrame.index.max()\n",
    "        index_range_vals = (\n",
    "            index_min_val.strftime(\"%Y-%m-%d\"),\n",
    "            index_max_val.strftime(\"%Y-%m-%d\"),\n",
    "        )\n",
    "\n",
    "        # Check for missing dates in the index if dates kwarg is True\n",
    "        if dates:\n",
    "            full_date_range = pd.date_range(\n",
    "                start=index_min_val, end=index_max_val, freq=\"D\"\n",
    "            )\n",
    "            missing_dates = full_date_range.difference(DataFrame.index)\n",
    "            if not missing_dates.empty:\n",
    "                print(\n",
    "                    f\"Missing dates in index: ({len(missing_dates)} Total) {missing_dates.tolist()}\"\n",
    "                )\n",
    "    else:\n",
    "        index_range_vals = None\n",
    "\n",
    "    dataframeinfo.append(\n",
    "        [\n",
    "            \"index\",\n",
    "            index_dtype,\n",
    "            index_num_unique,\n",
    "            index_num_null,\n",
    "            index_pct_null,\n",
    "            index_unique_vals,\n",
    "            index_range_vals,\n",
    "        ]\n",
    "    )\n",
    "\n",
    "    print(f\"Total rows: {DataFrame.shape[0]}\")\n",
    "    print(f\"Total columns: {DataFrame.shape[1]}\")\n",
    "\n",
    "    if reports:\n",
    "        describe = DataFrame.describe().round(2)\n",
    "        print(describe)\n",
    "\n",
    "    if graphs:\n",
    "        DataFrame.hist(figsize=(10, 10))\n",
    "        plt.subplots_adjust(hspace=0.5)\n",
    "        plt.show()\n",
    "\n",
    "    for column in DataFrame.columns:\n",
    "        dtype = DataFrame[column].dtype\n",
    "        num_null = DataFrame[column].isna().sum()\n",
    "        pct_null = DataFrame[column].isna().mean().round(5)\n",
    "\n",
    "        try:\n",
    "            unique_vals = DataFrame[column].unique()\n",
    "            num_unique = DataFrame[column].nunique()\n",
    "        except TypeError:\n",
    "            unique_vals = \"Column contains multiple lists\"\n",
    "            num_unique = \"ERROR\"\n",
    "\n",
    "        if pd.api.types.is_numeric_dtype(dtype):\n",
    "            min_val = DataFrame[column].min()\n",
    "            max_val = DataFrame[column].max()\n",
    "            mean_val = DataFrame[column].mean()\n",
    "            range_vals = (min_val, max_val, mean_val)\n",
    "        elif pd.api.types.is_datetime64_any_dtype(dtype):\n",
    "            min_val = DataFrame[column].min()\n",
    "            max_val = DataFrame[column].max()\n",
    "            range_vals = (min_val.strftime(\"%Y-%m-%d\"), max_val.strftime(\"%Y-%m-%d\"))\n",
    "\n",
    "            if dates:\n",
    "                full_date_range_col = pd.date_range(\n",
    "                    start=min_val, end=max_val, freq=\"D\"\n",
    "                )\n",
    "                missing_dates_col = full_date_range_col.difference(DataFrame[column])\n",
    "                if not missing_dates_col.empty:\n",
    "                    print(\n",
    "                        f\"Missing dates in column '{column}': ({len(missing_dates_col)} Total) {missing_dates_col.tolist()}\"\n",
    "                    )\n",
    "                else:\n",
    "                    print(f\"No missing dates in column '{column}'\")\n",
    "\n",
    "        else:\n",
    "            range_vals = None\n",
    "\n",
    "        dataframeinfo.append(\n",
    "            [column, dtype, num_unique, num_null, pct_null, unique_vals, range_vals]\n",
    "        )\n",
    "\n",
    "    return pd.DataFrame(\n",
    "        dataframeinfo,\n",
    "        columns=[\n",
    "            \"col_name\",\n",
    "            \"dtype\",\n",
    "            \"num_unique\",\n",
    "            \"num_null\",\n",
    "            \"pct_null\",\n",
    "            \"unique_values\",\n",
    "            \"range (min, max, mean)\",\n",
    "        ],\n",
    "    )"
   ]
  },
  {
   "cell_type": "markdown",
   "metadata": {},
   "source": [
    "# **Decoding Data Jobs**\n",
    "##### **using Statistical Analysis, Natural Language Processing, and Classification**\n",
    "<p align =\"right\">Zacharia Schmitz <br>\n",
    "Joshua Click<br>\n",
    "November 2023\n",
    "\n",
    "---\n"
   ]
  },
  {
   "cell_type": "markdown",
   "metadata": {},
   "source": [
    "### Rate Limits & Ethics:\n",
    "\n",
    "Scraping\n",
    "\n",
    "[**From GitHub Acceptable Use Policies**](https://docs.github.com/en/github/site-policy/github-acceptable-use-policies)\n",
    "\n",
    ">\"Short version: We host a wide variety of collaborative projects from all over the world, and that collaboration only works when our users are able   to work together in good faith. While using the Service, you must comply with our Acceptable Use Policies, which include some restrictions on content and conduct on GitHub related to user safety, intellectual property, privacy, authenticity, and other limitations. In short, be excellent to each\n",
    ">other."
   ]
  },
  {
   "cell_type": "code",
   "execution_count": 230,
   "metadata": {},
   "outputs": [],
   "source": [
    "import requests\n",
    "import pandas as pd\n",
    "import matplotlib.pyplot as plt"
   ]
  },
  {
   "cell_type": "markdown",
   "metadata": {},
   "source": [
    "<div style=\"background-color: #; padding: 0px; \">\n",
    "\n",
    "## <font size='10'><i>**Plan**</i></font> <font size='5'><i>→ Acquire → Prepare → Explore → Model → Deliver</i></font>\n",
    "\n",
    "---"
   ]
  },
  {
   "cell_type": "markdown",
   "metadata": {},
   "source": [
    "### Initial Hypotheses"
   ]
  },
  {
   "cell_type": "markdown",
   "metadata": {},
   "source": [
    "1. Hypothesis\n",
    "\n",
    "2. Hypothesis\n",
    "\n",
    "3. Hypothesis\n",
    "\n",
    "4. Hypothesis\n",
    "\n",
    "5. Hypothesis\n",
    "\n",
    "6. Hypothesis"
   ]
  },
  {
   "cell_type": "markdown",
   "metadata": {},
   "source": [
    "<div style=\"background-color: #; padding: 0px; \">\n",
    "\n",
    "## <font size='5'><i>Plan → </i></font> <font size='10'><i>**Acquire**</i></font> <font size='5'><i> → Prepare → Explore → Model → Deliver</i></font>\n",
    "\n",
    "---"
   ]
  },
  {
   "cell_type": "markdown",
   "metadata": {},
   "source": [
    "### Acquisition\n"
   ]
  },
  {
   "cell_type": "markdown",
   "metadata": {},
   "source": [
    "\n",
    "- I originally intended on pulling all of the data myself using LinkedIn webscraping or another job resource.\n",
    "\n",
    "- I was able to use a scraper for LinkedIn, but after reading into it, they don't like that and have been known to send cease and desist letters.\n",
    "\n",
    "- Potential\n",
    "\n",
    "- Google however, is allowed to scrape LinkedIn, for search engine purposes.\n",
    "\n",
    "- Using Google's job search, we can then scrape all job postings (which also includes LinkedIn).\n",
    "\n",
    "- Although we have the capability to scrape the postings ourself, due to the limitations, the amount of data to be useful isn't feasibly with the timeline.\n",
    "\n",
    "- I found a public dataset that has a head start of 33 thousand job postings."
   ]
  },
  {
   "cell_type": "markdown",
   "metadata": {},
   "source": [
    "### The Dataset"
   ]
  },
  {
   "cell_type": "markdown",
   "metadata": {},
   "source": [
    "Due to time constraints on the project and the value added when using a large dataset, we searched for a public dataset.\n",
    "\n",
    "- We acquired the data from a Kaggle dataset that has been scraping \"Data Analyst\" job postings for the past year. The dataset has 33,000 entries as of 1 November 2023."
   ]
  },
  {
   "cell_type": "markdown",
   "metadata": {},
   "source": [
    "#### CSV From:\n",
    "\n",
    "- https://www.kaggle.com/datasets/lukebarousse/data-analyst-job-postings-google-search/data?select=gsearch_jobs.csv\n",
    "\n",
    "> \"This dataset pulls job postings from Google's search results for Data Analyst positions in the United States. <br>\n",
    "> Data collection started on November 4th, 2022, and adds ~100 new job postings to this dataset daily.\""
   ]
  },
  {
   "cell_type": "code",
   "execution_count": 231,
   "metadata": {},
   "outputs": [],
   "source": [
    "# Read in job_scrapes\n",
    "jobs_df = pd.read_csv(\"./support_files/working_docs/jobs.csv\")"
   ]
  },
  {
   "cell_type": "code",
   "execution_count": 232,
   "metadata": {},
   "outputs": [
    {
     "name": "stdout",
     "output_type": "stream",
     "text": [
      "Total rows: 34153\n",
      "Total columns: 27\n"
     ]
    },
    {
     "data": {
      "text/html": [
       "<div>\n",
       "<style scoped>\n",
       "    .dataframe tbody tr th:only-of-type {\n",
       "        vertical-align: middle;\n",
       "    }\n",
       "\n",
       "    .dataframe tbody tr th {\n",
       "        vertical-align: top;\n",
       "    }\n",
       "\n",
       "    .dataframe thead th {\n",
       "        text-align: right;\n",
       "    }\n",
       "</style>\n",
       "<table border=\"1\" class=\"dataframe\">\n",
       "  <thead>\n",
       "    <tr style=\"text-align: right;\">\n",
       "      <th></th>\n",
       "      <th>col_name</th>\n",
       "      <th>dtype</th>\n",
       "      <th>num_unique</th>\n",
       "      <th>num_null</th>\n",
       "      <th>pct_null</th>\n",
       "      <th>unique_values</th>\n",
       "      <th>range (min, max, mean)</th>\n",
       "    </tr>\n",
       "  </thead>\n",
       "  <tbody>\n",
       "    <tr>\n",
       "      <th>0</th>\n",
       "      <td>index</td>\n",
       "      <td>int64</td>\n",
       "      <td>34153</td>\n",
       "      <td>0</td>\n",
       "      <td>0.00000</td>\n",
       "      <td>RangeIndex(start=0, stop=34153, step=1)</td>\n",
       "      <td>None</td>\n",
       "    </tr>\n",
       "    <tr>\n",
       "      <th>1</th>\n",
       "      <td>Unnamed: 0</td>\n",
       "      <td>int64</td>\n",
       "      <td>34153</td>\n",
       "      <td>0</td>\n",
       "      <td>0.00000</td>\n",
       "      <td>[0, 1, 2, 3, 4, 5, 6, 7, 8, 9, 10, 11, 12, 13,...</td>\n",
       "      <td>(0, 34152, 17076.0)</td>\n",
       "    </tr>\n",
       "    <tr>\n",
       "      <th>2</th>\n",
       "      <td>index</td>\n",
       "      <td>int64</td>\n",
       "      <td>3785</td>\n",
       "      <td>0</td>\n",
       "      <td>0.00000</td>\n",
       "      <td>[0, 1, 2, 3, 4, 5, 6, 7, 8, 9, 10, 11, 12, 13,...</td>\n",
       "      <td>(0, 3784, 1141.691418030627)</td>\n",
       "    </tr>\n",
       "    <tr>\n",
       "      <th>3</th>\n",
       "      <td>title</td>\n",
       "      <td>object</td>\n",
       "      <td>13157</td>\n",
       "      <td>0</td>\n",
       "      <td>0.00000</td>\n",
       "      <td>[Data Analyst, Junior Data Analyst/Scientist R...</td>\n",
       "      <td>None</td>\n",
       "    </tr>\n",
       "    <tr>\n",
       "      <th>4</th>\n",
       "      <td>company_name</td>\n",
       "      <td>object</td>\n",
       "      <td>8208</td>\n",
       "      <td>0</td>\n",
       "      <td>0.00000</td>\n",
       "      <td>[Chloeta, Upwork, ATC, Guidehouse, AnMed Healt...</td>\n",
       "      <td>None</td>\n",
       "    </tr>\n",
       "    <tr>\n",
       "      <th>5</th>\n",
       "      <td>location</td>\n",
       "      <td>object</td>\n",
       "      <td>635</td>\n",
       "      <td>24</td>\n",
       "      <td>0.00070</td>\n",
       "      <td>[  Oklahoma City, OK   ,  Anywhere ,   United ...</td>\n",
       "      <td>None</td>\n",
       "    </tr>\n",
       "    <tr>\n",
       "      <th>6</th>\n",
       "      <td>via</td>\n",
       "      <td>object</td>\n",
       "      <td>556</td>\n",
       "      <td>9</td>\n",
       "      <td>0.00026</td>\n",
       "      <td>[via ZipRecruiter, via Upwork, via LinkedIn, v...</td>\n",
       "      <td>None</td>\n",
       "    </tr>\n",
       "    <tr>\n",
       "      <th>7</th>\n",
       "      <td>description</td>\n",
       "      <td>object</td>\n",
       "      <td>24276</td>\n",
       "      <td>0</td>\n",
       "      <td>0.00000</td>\n",
       "      <td>[Job Summary: The Data Analyst oversees data p...</td>\n",
       "      <td>None</td>\n",
       "    </tr>\n",
       "    <tr>\n",
       "      <th>8</th>\n",
       "      <td>extensions</td>\n",
       "      <td>object</td>\n",
       "      <td>5528</td>\n",
       "      <td>0</td>\n",
       "      <td>0.00000</td>\n",
       "      <td>[['21 hours ago', 'Full-time', 'Health insuran...</td>\n",
       "      <td>None</td>\n",
       "    </tr>\n",
       "    <tr>\n",
       "      <th>9</th>\n",
       "      <td>job_id</td>\n",
       "      <td>object</td>\n",
       "      <td>34133</td>\n",
       "      <td>0</td>\n",
       "      <td>0.00000</td>\n",
       "      <td>[eyJqb2JfdGl0bGUiOiJEYXRhIEFuYWx5c3QiLCJodGlkb...</td>\n",
       "      <td>None</td>\n",
       "    </tr>\n",
       "    <tr>\n",
       "      <th>10</th>\n",
       "      <td>thumbnail</td>\n",
       "      <td>object</td>\n",
       "      <td>5967</td>\n",
       "      <td>15125</td>\n",
       "      <td>0.44286</td>\n",
       "      <td>[nan, https://encrypted-tbn0.gstatic.com/image...</td>\n",
       "      <td>None</td>\n",
       "    </tr>\n",
       "    <tr>\n",
       "      <th>11</th>\n",
       "      <td>posted_at</td>\n",
       "      <td>object</td>\n",
       "      <td>80</td>\n",
       "      <td>0</td>\n",
       "      <td>0.00000</td>\n",
       "      <td>[21 hours ago, 17 hours ago, 12 hours ago, 10 ...</td>\n",
       "      <td>None</td>\n",
       "    </tr>\n",
       "    <tr>\n",
       "      <th>12</th>\n",
       "      <td>schedule_type</td>\n",
       "      <td>object</td>\n",
       "      <td>22</td>\n",
       "      <td>177</td>\n",
       "      <td>0.00518</td>\n",
       "      <td>[Full-time, Contractor, Part-time, Internship,...</td>\n",
       "      <td>None</td>\n",
       "    </tr>\n",
       "    <tr>\n",
       "      <th>13</th>\n",
       "      <td>work_from_home</td>\n",
       "      <td>object</td>\n",
       "      <td>1</td>\n",
       "      <td>18896</td>\n",
       "      <td>0.55327</td>\n",
       "      <td>[nan, True]</td>\n",
       "      <td>None</td>\n",
       "    </tr>\n",
       "    <tr>\n",
       "      <th>14</th>\n",
       "      <td>salary</td>\n",
       "      <td>object</td>\n",
       "      <td>1308</td>\n",
       "      <td>28050</td>\n",
       "      <td>0.82130</td>\n",
       "      <td>[nan, 40–75 an hour, 43–48 an hour, 17–46 an h...</td>\n",
       "      <td>None</td>\n",
       "    </tr>\n",
       "    <tr>\n",
       "      <th>15</th>\n",
       "      <td>search_term</td>\n",
       "      <td>object</td>\n",
       "      <td>1</td>\n",
       "      <td>0</td>\n",
       "      <td>0.00000</td>\n",
       "      <td>[data analyst]</td>\n",
       "      <td>None</td>\n",
       "    </tr>\n",
       "    <tr>\n",
       "      <th>16</th>\n",
       "      <td>date_time</td>\n",
       "      <td>object</td>\n",
       "      <td>3559</td>\n",
       "      <td>0</td>\n",
       "      <td>0.00000</td>\n",
       "      <td>[2023-08-03 03:00:09.849838, 2023-08-03 03:00:...</td>\n",
       "      <td>None</td>\n",
       "    </tr>\n",
       "    <tr>\n",
       "      <th>17</th>\n",
       "      <td>search_location</td>\n",
       "      <td>object</td>\n",
       "      <td>1</td>\n",
       "      <td>0</td>\n",
       "      <td>0.00000</td>\n",
       "      <td>[United States]</td>\n",
       "      <td>None</td>\n",
       "    </tr>\n",
       "    <tr>\n",
       "      <th>18</th>\n",
       "      <td>commute_time</td>\n",
       "      <td>float64</td>\n",
       "      <td>0</td>\n",
       "      <td>34153</td>\n",
       "      <td>1.00000</td>\n",
       "      <td>[nan]</td>\n",
       "      <td>(nan, nan, nan)</td>\n",
       "    </tr>\n",
       "    <tr>\n",
       "      <th>19</th>\n",
       "      <td>salary_pay</td>\n",
       "      <td>object</td>\n",
       "      <td>1308</td>\n",
       "      <td>28050</td>\n",
       "      <td>0.82130</td>\n",
       "      <td>[nan, 40–75, 43–48, 17–46, 18.33–28.20, 75–125...</td>\n",
       "      <td>None</td>\n",
       "    </tr>\n",
       "    <tr>\n",
       "      <th>20</th>\n",
       "      <td>salary_rate</td>\n",
       "      <td>object</td>\n",
       "      <td>3</td>\n",
       "      <td>28050</td>\n",
       "      <td>0.82130</td>\n",
       "      <td>[nan, an hour, a year, a month]</td>\n",
       "      <td>None</td>\n",
       "    </tr>\n",
       "    <tr>\n",
       "      <th>21</th>\n",
       "      <td>salary_avg</td>\n",
       "      <td>float64</td>\n",
       "      <td>659</td>\n",
       "      <td>28050</td>\n",
       "      <td>0.82130</td>\n",
       "      <td>[nan, 57.5, 45.5, 31.5, 23.265, 100.0, 41.5, 6...</td>\n",
       "      <td>(7.25, 288000.0, 34835.32406029822)</td>\n",
       "    </tr>\n",
       "    <tr>\n",
       "      <th>22</th>\n",
       "      <td>salary_min</td>\n",
       "      <td>float64</td>\n",
       "      <td>405</td>\n",
       "      <td>28400</td>\n",
       "      <td>0.83155</td>\n",
       "      <td>[nan, 40.0, 43.0, 17.0, 18.33, 75.0, 66053.0, ...</td>\n",
       "      <td>(8.0, 230000.0, 29361.50363810186)</td>\n",
       "    </tr>\n",
       "    <tr>\n",
       "      <th>23</th>\n",
       "      <td>salary_max</td>\n",
       "      <td>float64</td>\n",
       "      <td>445</td>\n",
       "      <td>28400</td>\n",
       "      <td>0.83155</td>\n",
       "      <td>[nan, 75.0, 48.0, 46.0, 28.2, 125.0, 43.0, 709...</td>\n",
       "      <td>(10.0, 346000.0, 41164.45734225622)</td>\n",
       "    </tr>\n",
       "    <tr>\n",
       "      <th>24</th>\n",
       "      <td>salary_hourly</td>\n",
       "      <td>float64</td>\n",
       "      <td>251</td>\n",
       "      <td>30147</td>\n",
       "      <td>0.88270</td>\n",
       "      <td>[nan, 57.5, 45.5, 31.5, 23.265, 100.0, 41.5, 4...</td>\n",
       "      <td>(7.25, 300.0, 42.73529830254617)</td>\n",
       "    </tr>\n",
       "    <tr>\n",
       "      <th>25</th>\n",
       "      <td>salary_yearly</td>\n",
       "      <td>float64</td>\n",
       "      <td>399</td>\n",
       "      <td>32068</td>\n",
       "      <td>0.93895</td>\n",
       "      <td>[nan, 68516.5, 70000.0, 125000.0, 96500.0, 100...</td>\n",
       "      <td>(29289.84, 288000.0, 101847.84247242207)</td>\n",
       "    </tr>\n",
       "    <tr>\n",
       "      <th>26</th>\n",
       "      <td>salary_standardized</td>\n",
       "      <td>float64</td>\n",
       "      <td>653</td>\n",
       "      <td>28050</td>\n",
       "      <td>0.82130</td>\n",
       "      <td>[nan, 119600.0, 94640.0, 65520.0, 48391.2, 208...</td>\n",
       "      <td>(15080.0, 624000.0, 93291.19661068328)</td>\n",
       "    </tr>\n",
       "    <tr>\n",
       "      <th>27</th>\n",
       "      <td>description_tokens</td>\n",
       "      <td>object</td>\n",
       "      <td>6838</td>\n",
       "      <td>0</td>\n",
       "      <td>0.00000</td>\n",
       "      <td>[['r', 'python'], ['r', 'matlab', 'python', 'm...</td>\n",
       "      <td>None</td>\n",
       "    </tr>\n",
       "  </tbody>\n",
       "</table>\n",
       "</div>"
      ],
      "text/plain": [
       "               col_name    dtype  num_unique  num_null  pct_null  \\\n",
       "0                 index    int64       34153         0   0.00000   \n",
       "1            Unnamed: 0    int64       34153         0   0.00000   \n",
       "2                 index    int64        3785         0   0.00000   \n",
       "3                 title   object       13157         0   0.00000   \n",
       "4          company_name   object        8208         0   0.00000   \n",
       "5              location   object         635        24   0.00070   \n",
       "6                   via   object         556         9   0.00026   \n",
       "7           description   object       24276         0   0.00000   \n",
       "8            extensions   object        5528         0   0.00000   \n",
       "9                job_id   object       34133         0   0.00000   \n",
       "10            thumbnail   object        5967     15125   0.44286   \n",
       "11            posted_at   object          80         0   0.00000   \n",
       "12        schedule_type   object          22       177   0.00518   \n",
       "13       work_from_home   object           1     18896   0.55327   \n",
       "14               salary   object        1308     28050   0.82130   \n",
       "15          search_term   object           1         0   0.00000   \n",
       "16            date_time   object        3559         0   0.00000   \n",
       "17      search_location   object           1         0   0.00000   \n",
       "18         commute_time  float64           0     34153   1.00000   \n",
       "19           salary_pay   object        1308     28050   0.82130   \n",
       "20          salary_rate   object           3     28050   0.82130   \n",
       "21           salary_avg  float64         659     28050   0.82130   \n",
       "22           salary_min  float64         405     28400   0.83155   \n",
       "23           salary_max  float64         445     28400   0.83155   \n",
       "24        salary_hourly  float64         251     30147   0.88270   \n",
       "25        salary_yearly  float64         399     32068   0.93895   \n",
       "26  salary_standardized  float64         653     28050   0.82130   \n",
       "27   description_tokens   object        6838         0   0.00000   \n",
       "\n",
       "                                        unique_values  \\\n",
       "0             RangeIndex(start=0, stop=34153, step=1)   \n",
       "1   [0, 1, 2, 3, 4, 5, 6, 7, 8, 9, 10, 11, 12, 13,...   \n",
       "2   [0, 1, 2, 3, 4, 5, 6, 7, 8, 9, 10, 11, 12, 13,...   \n",
       "3   [Data Analyst, Junior Data Analyst/Scientist R...   \n",
       "4   [Chloeta, Upwork, ATC, Guidehouse, AnMed Healt...   \n",
       "5   [  Oklahoma City, OK   ,  Anywhere ,   United ...   \n",
       "6   [via ZipRecruiter, via Upwork, via LinkedIn, v...   \n",
       "7   [Job Summary: The Data Analyst oversees data p...   \n",
       "8   [['21 hours ago', 'Full-time', 'Health insuran...   \n",
       "9   [eyJqb2JfdGl0bGUiOiJEYXRhIEFuYWx5c3QiLCJodGlkb...   \n",
       "10  [nan, https://encrypted-tbn0.gstatic.com/image...   \n",
       "11  [21 hours ago, 17 hours ago, 12 hours ago, 10 ...   \n",
       "12  [Full-time, Contractor, Part-time, Internship,...   \n",
       "13                                        [nan, True]   \n",
       "14  [nan, 40–75 an hour, 43–48 an hour, 17–46 an h...   \n",
       "15                                     [data analyst]   \n",
       "16  [2023-08-03 03:00:09.849838, 2023-08-03 03:00:...   \n",
       "17                                    [United States]   \n",
       "18                                              [nan]   \n",
       "19  [nan, 40–75, 43–48, 17–46, 18.33–28.20, 75–125...   \n",
       "20                    [nan, an hour, a year, a month]   \n",
       "21  [nan, 57.5, 45.5, 31.5, 23.265, 100.0, 41.5, 6...   \n",
       "22  [nan, 40.0, 43.0, 17.0, 18.33, 75.0, 66053.0, ...   \n",
       "23  [nan, 75.0, 48.0, 46.0, 28.2, 125.0, 43.0, 709...   \n",
       "24  [nan, 57.5, 45.5, 31.5, 23.265, 100.0, 41.5, 4...   \n",
       "25  [nan, 68516.5, 70000.0, 125000.0, 96500.0, 100...   \n",
       "26  [nan, 119600.0, 94640.0, 65520.0, 48391.2, 208...   \n",
       "27  [['r', 'python'], ['r', 'matlab', 'python', 'm...   \n",
       "\n",
       "                      range (min, max, mean)  \n",
       "0                                       None  \n",
       "1                        (0, 34152, 17076.0)  \n",
       "2               (0, 3784, 1141.691418030627)  \n",
       "3                                       None  \n",
       "4                                       None  \n",
       "5                                       None  \n",
       "6                                       None  \n",
       "7                                       None  \n",
       "8                                       None  \n",
       "9                                       None  \n",
       "10                                      None  \n",
       "11                                      None  \n",
       "12                                      None  \n",
       "13                                      None  \n",
       "14                                      None  \n",
       "15                                      None  \n",
       "16                                      None  \n",
       "17                                      None  \n",
       "18                           (nan, nan, nan)  \n",
       "19                                      None  \n",
       "20                                      None  \n",
       "21       (7.25, 288000.0, 34835.32406029822)  \n",
       "22        (8.0, 230000.0, 29361.50363810186)  \n",
       "23       (10.0, 346000.0, 41164.45734225622)  \n",
       "24          (7.25, 300.0, 42.73529830254617)  \n",
       "25  (29289.84, 288000.0, 101847.84247242207)  \n",
       "26    (15080.0, 624000.0, 93291.19661068328)  \n",
       "27                                      None  "
      ]
     },
     "execution_count": 232,
     "metadata": {},
     "output_type": "execute_result"
    }
   ],
   "source": [
    "check_columns(jobs_df)"
   ]
  },
  {
   "cell_type": "markdown",
   "metadata": {},
   "source": [
    "| Field Name | Description |\n",
    "| --- | --- |\n",
    "| `Unnamed: 0` | Appears to be an auto-incremented identifier. |\n",
    "| `index` | Another identifier, possibly redundant with \"Unnamed: 0\". |\n",
    "| `title` | Job title. |\n",
    "| `company_name` | Name of the company offering the job. |\n",
    "| `location` | Location of the job. |\n",
    "| `via` | Source/platform where the job was posted. |\n",
    "| `description` | Detailed description of the job. |\n",
    "| `extensions` | Additional information about the job (e.g., job type, benefits). |\n",
    "| `job_id` | A unique identifier for the job, possibly encoded. |\n",
    "| `thumbnail` | URL to a thumbnail image associated with the job/company. |\n",
    "| `url` | URL for the job posting. |\n",
    "| `company_description` | Description of the company. |\n",
    "| `company_rating` | Company's rating. |\n",
    "| `rating_count` | Number of ratings the company received. |\n",
    "| `job_type` | Type of the job (e.g., full-time, part-time). |\n",
    "| `benefits` | List of benefits provided by the company. |\n",
    "| `posted` | When the job was posted. |\n",
    "| `deadline` | Application deadline for the job. |\n",
    "| `employment_type` | Employment type (e.g., full-time, contract). |\n",
    "| `commute_time` | Information on commute time, if available. |\n",
    "| `salary_pay` | Salary payment value, if available. |\n",
    "| `salary_rate` | Salary rate (e.g., per hour, per year), if available. |\n",
    "| `salary_avg` | Average salary for the job, if available. |\n",
    "| `salary_min` | Minimum salary for the job, if available. |\n",
    "| `salary_max` | Maximum salary for the job, if available. |\n",
    "| `salary_hourly` | Hourly salary, if available. |\n",
    "| `salary_yearly` | Yearly salary, if available. |\n",
    "| `salary_standardized` | Standardized salary information, if available. |\n",
    "| `description_tokens` | List of skills extracted from the job description. |"
   ]
  },
  {
   "cell_type": "markdown",
   "metadata": {},
   "source": [
    "<div style=\"background-color: #; padding: 0px; \">\n",
    "\n",
    "## <font size='5'><i>Plan → Acquire → </i></font> <font size='10'><i>**Prepare**</i></font> <font size='5'><i> → Explore → Model → Deliver</i></font>\n",
    "\n",
    "--- "
   ]
  },
  {
   "cell_type": "markdown",
   "metadata": {},
   "source": [
    "The dataset had some columns that were engineered since the scraping. Due to us wanting reproducability for our own scraped data, we did not use any of the engineered columns from the dataset, and developed our own. We also dropped columns that we do not intend to use.\n",
    "\n",
    "From the original dataset, we dropped:"
   ]
  },
  {
   "cell_type": "markdown",
   "metadata": {},
   "source": [
    "### Drop Some Columns"
   ]
  },
  {
   "cell_type": "code",
   "execution_count": 233,
   "metadata": {},
   "outputs": [],
   "source": [
    "jobs_df_cleaned = jobs_df[\n",
    "    [\n",
    "        \"title\",\n",
    "        \"company_name\",\n",
    "        \"location\",\n",
    "        \"via\",\n",
    "        \"description\",\n",
    "        \"posted_at\",\n",
    "        \"schedule_type\",\n",
    "        \"work_from_home\",\n",
    "        \"salary\",\n",
    "        \"job_id\",\n",
    "        \"date_time\",\n",
    "        \"salary_pay\",\n",
    "        \"salary_rate\",\n",
    "    ]\n",
    "]\n",
    "\n",
    "# 'Unnamed: 0', # Extra index column\n",
    "# 'index', # Extra index column\n",
    "# 'extensions', # Google defined tokens for the posting, oftentimes benefits packages. Maybe later.\n",
    "# 'thumbnail', # The companies thumbnail\n",
    "# 'search_term', # All are \"Data Analyst\"\n",
    "# 'search_location', # All are United States\n",
    "# 'commute_time', # Not using\n",
    "# 'salary_avg', # Will engineer our own\n",
    "# 'salary_min', # Will engineer our own\n",
    "# 'salary_max', # Will engineer our own\n",
    "# 'salary_hourly', # Will engineer our own\n",
    "# 'salary_yearly', # Will engineer our own\n",
    "# 'salary_standardized', # Will engineer our own\n",
    "# 'description_tokens'] # Will engineer our own"
   ]
  },
  {
   "cell_type": "markdown",
   "metadata": {},
   "source": [
    "### Check for Duplicates"
   ]
  },
  {
   "cell_type": "code",
   "execution_count": 234,
   "metadata": {},
   "outputs": [
    {
     "data": {
      "text/plain": [
       "20"
      ]
     },
     "execution_count": 234,
     "metadata": {},
     "output_type": "execute_result"
    }
   ],
   "source": [
    "# Show how many duplicates in job_id\n",
    "jobs_df_cleaned[jobs_df_cleaned.duplicated(subset=[\"job_id\"])].shape[0]"
   ]
  },
  {
   "cell_type": "code",
   "execution_count": 235,
   "metadata": {},
   "outputs": [],
   "source": [
    "# Drop duplicates\n",
    "jobs_df_cleaned = jobs_df_cleaned.drop_duplicates(subset=[\"job_id\"])"
   ]
  },
  {
   "cell_type": "code",
   "execution_count": 236,
   "metadata": {},
   "outputs": [],
   "source": [
    "# Drop the column since we're not using it anymore\n",
    "jobs_df_cleaned = jobs_df_cleaned.drop(columns=[\"job_id\"])"
   ]
  },
  {
   "cell_type": "markdown",
   "metadata": {},
   "source": [
    "### Handling Missing Data"
   ]
  },
  {
   "cell_type": "markdown",
   "metadata": {},
   "source": [
    "The only assumptions we imputed to the data was `work_from_home`. \n",
    "- This had 55% nulls, and the rest was True.\n",
    "- We imputed the remaining 45% as False.\n",
    "\n",
    "`salary` had 82% missing, so most of our jobs don't have the salary included. We decided that was fine and what we had, could still provide insights.\n",
    "\n",
    "`schedule_type` had minimal nulls, but in the end we only worked with \"Full-time\" positions anyway. Full-time was 72% of the original dataset."
   ]
  },
  {
   "cell_type": "markdown",
   "metadata": {},
   "source": [
    "### Work From Home"
   ]
  },
  {
   "cell_type": "markdown",
   "metadata": {},
   "source": [
    "`work_from_home` had 55% nulls and the remaining 45% was True. We assumed the remaining 45% was False."
   ]
  },
  {
   "cell_type": "code",
   "execution_count": 237,
   "metadata": {},
   "outputs": [],
   "source": [
    "# Fill nulls in work from home with False\n",
    "jobs_df_cleaned[\"work_from_home\"] = jobs_df_cleaned[\"work_from_home\"].fillna(False)"
   ]
  },
  {
   "cell_type": "markdown",
   "metadata": {},
   "source": [
    "### Feature Engineering"
   ]
  },
  {
   "cell_type": "markdown",
   "metadata": {},
   "source": [
    "With the scraped `salary` column they all were not formatted the same. Some examples are:\n",
    "- \"77K-116K a year\"\n",
    "- \"40-75 an hour\"\n",
    "- \"165K a year\"\n",
    "- \"53 an hour\"\n",
    "- \"4.6K-6K a month\"\n",
    "\n",
    "From this column, we engineered:\n",
    "- `pay_rate` - hourly, monthly, or annually\n",
    "- `cleaned_salary` - salary stripped to numbers only\n",
    "\n",
    "For the following, we annualized all of the salaries (hourly * 2080, monthly * 12)\n",
    "- `min_salary` - lower end of the salary range provided\n",
    "- `max_salary` - upper end of the salary range provided \n",
    "- `avg_salary` - average salary between the two ranges"
   ]
  },
  {
   "cell_type": "code",
   "execution_count": 238,
   "metadata": {},
   "outputs": [],
   "source": [
    "# Create a salary cleaned column out of a copy of salary\n",
    "jobs_df_cleaned[\"cleaned_salary\"] = jobs_df_cleaned[\"salary\"]\n",
    "\n",
    "# Remove decimals and numeric character until you hit a - or [a-zA-Z]\n",
    "jobs_df_cleaned[\"cleaned_salary\"] = jobs_df_cleaned[\"cleaned_salary\"].str.replace(\n",
    "    r\"\\.\\d+(?=[a-zA-Z-])\", \"\", regex=True\n",
    ")\n",
    "\n",
    "# Replace 'K' or 'k' in the 'cleaned_salary' column with ',000'\n",
    "jobs_df_cleaned[\"cleaned_salary\"] = (\n",
    "    jobs_df_cleaned[\"cleaned_salary\"]\n",
    "    .str.replace(\"K\", \"000\", case=False, regex=True)\n",
    "    .str.replace(\"k\", \"000\", case=False, regex=True)\n",
    ")\n",
    "\n",
    "# Remove commas from all entries in the 'cleaned_salary' column\n",
    "jobs_df_cleaned[\"cleaned_salary\"] = jobs_df_cleaned[\"cleaned_salary\"].str.replace(\n",
    "    \",\", \"\", regex=False\n",
    ")\n",
    "\n",
    "# Extract pay rate\n",
    "jobs_df_cleaned[\"pay_rate\"] = jobs_df_cleaned[\"cleaned_salary\"].str.extract(\n",
    "    r\"(\\bhour\\b|\\bmonth\\b|\\byear\\b)\", expand=False\n",
    ")\n",
    "\n",
    "# Add \"ly\" to the entire column\n",
    "jobs_df_cleaned[\"pay_rate\"] = jobs_df_cleaned[\"pay_rate\"].str.replace(\n",
    "    r\"(\\bhour\\b|\\bmonth\\b|\\byear\\b)\", r\"\\1ly\", regex=True\n",
    ")\n",
    "\n",
    "# Drop all letters from salary cleaned column\n",
    "jobs_df_cleaned[\"cleaned_salary\"] = jobs_df_cleaned[\"cleaned_salary\"].str.replace(\n",
    "    r\"[a-zA-Z]\", \"\", regex=True\n",
    ")\n",
    "\n",
    "\n",
    "# Function to get min salary\n",
    "def get_min_salary(salary):\n",
    "    return salary.split(\"–\")[0]\n",
    "\n",
    "\n",
    "# Function to get max salary\n",
    "def get_max_salary(salary):\n",
    "    values = salary.split(\"–\")\n",
    "    if len(values) == 1:\n",
    "        return values[0]\n",
    "    return values[1]\n",
    "\n",
    "\n",
    "# Make salary cleaned a string\n",
    "jobs_df_cleaned[\"cleaned_salary\"] = jobs_df_cleaned[\"cleaned_salary\"].astype(str)\n",
    "\n",
    "# Apply the functions to get min_salary and max_salary columns\n",
    "jobs_df_cleaned[\"min_salary\"] = jobs_df_cleaned[\"cleaned_salary\"].apply(get_min_salary)\n",
    "jobs_df_cleaned[\"max_salary\"] = jobs_df_cleaned[\"cleaned_salary\"].apply(get_max_salary)\n",
    "\n",
    "# Make an avg_salary column using the average of min and max\n",
    "jobs_df_cleaned[\"avg_salary\"] = (\n",
    "    jobs_df_cleaned[\"min_salary\"].astype(float)\n",
    "    + jobs_df_cleaned[\"max_salary\"].astype(float)\n",
    ") / 2\n",
    "\n",
    "# If pay rate is hourly, multiply min_salary, max_salary, and avg_salary by 2080\n",
    "jobs_df_cleaned.loc[\n",
    "    jobs_df_cleaned[\"pay_rate\"] == \"hourly\", [\"min_salary\", \"max_salary\", \"avg_salary\"]\n",
    "] = (\n",
    "    jobs_df_cleaned.loc[\n",
    "        jobs_df_cleaned[\"pay_rate\"] == \"hourly\",\n",
    "        [\"min_salary\", \"max_salary\", \"avg_salary\"],\n",
    "    ].astype(float)\n",
    "    * 2080\n",
    ")\n",
    "\n",
    "# If pay rate is monthly, multiply min_salary, max_salary, and avg_salary by 12\n",
    "jobs_df_cleaned.loc[\n",
    "    jobs_df_cleaned[\"pay_rate\"] == \"monthly\", [\"min_salary\", \"max_salary\", \"avg_salary\"]\n",
    "] = (\n",
    "    jobs_df_cleaned.loc[\n",
    "        jobs_df_cleaned[\"pay_rate\"] == \"monthly\",\n",
    "        [\"min_salary\", \"max_salary\", \"avg_salary\"],\n",
    "    ].astype(float)\n",
    "    * 12\n",
    ")\n",
    "# Drop the old salary\n",
    "jobs_df_cleaned = jobs_df_cleaned.drop(columns=[\"salary\"])"
   ]
  },
  {
   "cell_type": "markdown",
   "metadata": {},
   "source": [
    "### Standardize Location Column"
   ]
  },
  {
   "cell_type": "markdown",
   "metadata": {},
   "source": [
    "`location` had 0.07% nulls. We won't drop those, as they will still provide information for non-location based analytics.\n",
    "\n",
    "Some postings had cities in the dataset. We won't be narrowing down that much, so we broadened each posting to the state level, if applicable."
   ]
  },
  {
   "cell_type": "code",
   "execution_count": 239,
   "metadata": {},
   "outputs": [],
   "source": [
    "# Make the column a string\n",
    "jobs_df_cleaned[\"location_cleaned\"] = jobs_df_cleaned[\"location\"].astype(str)\n",
    "\n",
    "# Make a lambda for all the states and apply it to a state column, to reduce location values\n",
    "jobs_df_cleaned[\"location_cleaned\"] = jobs_df_cleaned[\"location_cleaned\"].apply(\n",
    "    lambda x: x.split(\",\")[1].strip() if \",\" in x else x\n",
    ")\n",
    "\n",
    "# Create a dictionary with state abbreviations and full names\n",
    "state_dict = {\n",
    "    \"CA\": \"California\",\n",
    "    \"NY\": \"New York\",\n",
    "    \"NJ\": \"New Jersey\",\n",
    "    \"MO\": \"Missouri\",\n",
    "    \"OK\": \"Oklahoma\",\n",
    "    \"KS\": \"Kansas\",\n",
    "    \"AR\": \"Arkansas\",\n",
    "    \"TX\": \"Texas\",\n",
    "    \"MA\": \"Massachusetts\",\n",
    "    \"NE\": \"Nebraska\",\n",
    "    \"PA\": \"Pennsylvania\",\n",
    "    \"DC\": \"District of Columbia\",\n",
    "    \"CT\": \"Connecticut\",\n",
    "    \"NH\": \"New Hampshire\",\n",
    "}\n",
    "\n",
    "# Replace state abbreviations with full names\n",
    "jobs_df_cleaned[\"location_cleaned\"] = jobs_df_cleaned[\"location_cleaned\"].replace(\n",
    "    state_dict\n",
    ")\n",
    "\n",
    "# If the string has (+X others), change it to \"Multiple Locations\"\n",
    "jobs_df_cleaned[\"location_cleaned\"] = jobs_df_cleaned[\"location_cleaned\"].apply(\n",
    "    lambda x: \"Multiple Locations\" if \"(\" in x else x\n",
    ")\n",
    "\n",
    "# Remove leading and trailing white space\n",
    "jobs_df_cleaned[\"location_cleaned\"] = jobs_df_cleaned[\"location_cleaned\"].str.strip()"
   ]
  },
  {
   "cell_type": "markdown",
   "metadata": {},
   "source": [
    "### Date Formatting"
   ]
  },
  {
   "cell_type": "markdown",
   "metadata": {},
   "source": [
    "Our dataframe had `date_time`, which was the date and time that the data was scraped, we converted this to date_time type.\n",
    "\n",
    "We also had a `posted_at`, fromatted as \"X hours ago\", which was when the posting was created. We made this a timedelta type.\n",
    "\n",
    "With both of those columns, we created `posting_created`, by subtracting timedelta, from the date_time."
   ]
  },
  {
   "cell_type": "code",
   "execution_count": 261,
   "metadata": {},
   "outputs": [
    {
     "ename": "KeyError",
     "evalue": "'posted_at'",
     "output_type": "error",
     "traceback": [
      "\u001b[0;31m---------------------------------------------------------------------------\u001b[0m",
      "\u001b[0;31mKeyError\u001b[0m                                  Traceback (most recent call last)",
      "File \u001b[0;32m/opt/homebrew/anaconda3/lib/python3.11/site-packages/pandas/core/indexes/base.py:3653\u001b[0m, in \u001b[0;36mIndex.get_loc\u001b[0;34m(self, key)\u001b[0m\n\u001b[1;32m   3652\u001b[0m \u001b[39mtry\u001b[39;00m:\n\u001b[0;32m-> 3653\u001b[0m     \u001b[39mreturn\u001b[39;00m \u001b[39mself\u001b[39m\u001b[39m.\u001b[39m_engine\u001b[39m.\u001b[39mget_loc(casted_key)\n\u001b[1;32m   3654\u001b[0m \u001b[39mexcept\u001b[39;00m \u001b[39mKeyError\u001b[39;00m \u001b[39mas\u001b[39;00m err:\n",
      "File \u001b[0;32m/opt/homebrew/anaconda3/lib/python3.11/site-packages/pandas/_libs/index.pyx:147\u001b[0m, in \u001b[0;36mpandas._libs.index.IndexEngine.get_loc\u001b[0;34m()\u001b[0m\n",
      "File \u001b[0;32m/opt/homebrew/anaconda3/lib/python3.11/site-packages/pandas/_libs/index.pyx:176\u001b[0m, in \u001b[0;36mpandas._libs.index.IndexEngine.get_loc\u001b[0;34m()\u001b[0m\n",
      "File \u001b[0;32mpandas/_libs/hashtable_class_helper.pxi:7080\u001b[0m, in \u001b[0;36mpandas._libs.hashtable.PyObjectHashTable.get_item\u001b[0;34m()\u001b[0m\n",
      "File \u001b[0;32mpandas/_libs/hashtable_class_helper.pxi:7088\u001b[0m, in \u001b[0;36mpandas._libs.hashtable.PyObjectHashTable.get_item\u001b[0;34m()\u001b[0m\n",
      "\u001b[0;31mKeyError\u001b[0m: 'posted_at'",
      "\nThe above exception was the direct cause of the following exception:\n",
      "\u001b[0;31mKeyError\u001b[0m                                  Traceback (most recent call last)",
      "\u001b[1;32m/Users/zacschmitz/codeup-data-science/capstone/data-jobs-project/mvp_notebook.ipynb Cell 38\u001b[0m line \u001b[0;36m6\n\u001b[1;32m      <a href='vscode-notebook-cell:/Users/zacschmitz/codeup-data-science/capstone/data-jobs-project/mvp_notebook.ipynb#Y252sZmlsZQ%3D%3D?line=1'>2</a>\u001b[0m jobs_df_cleaned\u001b[39m.\u001b[39mrename(columns\u001b[39m=\u001b[39m{\u001b[39m\"\u001b[39m\u001b[39mdate_time\u001b[39m\u001b[39m\"\u001b[39m: \u001b[39m\"\u001b[39m\u001b[39mdate_scraped\u001b[39m\u001b[39m\"\u001b[39m}, inplace\u001b[39m=\u001b[39m\u001b[39mTrue\u001b[39;00m)\n\u001b[1;32m      <a href='vscode-notebook-cell:/Users/zacschmitz/codeup-data-science/capstone/data-jobs-project/mvp_notebook.ipynb#Y252sZmlsZQ%3D%3D?line=3'>4</a>\u001b[0m \u001b[39m# Convert \"posted_at\" to timedelta\u001b[39;00m\n\u001b[1;32m      <a href='vscode-notebook-cell:/Users/zacschmitz/codeup-data-science/capstone/data-jobs-project/mvp_notebook.ipynb#Y252sZmlsZQ%3D%3D?line=4'>5</a>\u001b[0m jobs_df_cleaned[\u001b[39m\"\u001b[39m\u001b[39mtime_since_posting\u001b[39m\u001b[39m\"\u001b[39m] \u001b[39m=\u001b[39m pd\u001b[39m.\u001b[39mto_timedelta(\n\u001b[0;32m----> <a href='vscode-notebook-cell:/Users/zacschmitz/codeup-data-science/capstone/data-jobs-project/mvp_notebook.ipynb#Y252sZmlsZQ%3D%3D?line=5'>6</a>\u001b[0m     jobs_df_cleaned[\u001b[39m\"\u001b[39m\u001b[39mposted_at\u001b[39m\u001b[39m\"\u001b[39m]\u001b[39m.\u001b[39mstr\u001b[39m.\u001b[39mextract(\u001b[39m\"\u001b[39m\u001b[39m(\u001b[39m\u001b[39m\\\u001b[39m\u001b[39md+)\u001b[39m\u001b[39m\"\u001b[39m)[\u001b[39m0\u001b[39m]\u001b[39m.\u001b[39mastype(\u001b[39mint\u001b[39m), unit\u001b[39m=\u001b[39m\u001b[39m\"\u001b[39m\u001b[39mh\u001b[39m\u001b[39m\"\u001b[39m\n\u001b[1;32m      <a href='vscode-notebook-cell:/Users/zacschmitz/codeup-data-science/capstone/data-jobs-project/mvp_notebook.ipynb#Y252sZmlsZQ%3D%3D?line=6'>7</a>\u001b[0m )\n\u001b[1;32m      <a href='vscode-notebook-cell:/Users/zacschmitz/codeup-data-science/capstone/data-jobs-project/mvp_notebook.ipynb#Y252sZmlsZQ%3D%3D?line=8'>9</a>\u001b[0m \u001b[39m# Convert \"date_scraped\" to datetime\u001b[39;00m\n\u001b[1;32m     <a href='vscode-notebook-cell:/Users/zacschmitz/codeup-data-science/capstone/data-jobs-project/mvp_notebook.ipynb#Y252sZmlsZQ%3D%3D?line=9'>10</a>\u001b[0m jobs_df_cleaned[\u001b[39m\"\u001b[39m\u001b[39mdate_scraped\u001b[39m\u001b[39m\"\u001b[39m] \u001b[39m=\u001b[39m pd\u001b[39m.\u001b[39mto_datetime(jobs_df_cleaned[\u001b[39m\"\u001b[39m\u001b[39mdate_scraped\u001b[39m\u001b[39m\"\u001b[39m])\n",
      "File \u001b[0;32m/opt/homebrew/anaconda3/lib/python3.11/site-packages/pandas/core/frame.py:3761\u001b[0m, in \u001b[0;36mDataFrame.__getitem__\u001b[0;34m(self, key)\u001b[0m\n\u001b[1;32m   3759\u001b[0m \u001b[39mif\u001b[39;00m \u001b[39mself\u001b[39m\u001b[39m.\u001b[39mcolumns\u001b[39m.\u001b[39mnlevels \u001b[39m>\u001b[39m \u001b[39m1\u001b[39m:\n\u001b[1;32m   3760\u001b[0m     \u001b[39mreturn\u001b[39;00m \u001b[39mself\u001b[39m\u001b[39m.\u001b[39m_getitem_multilevel(key)\n\u001b[0;32m-> 3761\u001b[0m indexer \u001b[39m=\u001b[39m \u001b[39mself\u001b[39m\u001b[39m.\u001b[39mcolumns\u001b[39m.\u001b[39mget_loc(key)\n\u001b[1;32m   3762\u001b[0m \u001b[39mif\u001b[39;00m is_integer(indexer):\n\u001b[1;32m   3763\u001b[0m     indexer \u001b[39m=\u001b[39m [indexer]\n",
      "File \u001b[0;32m/opt/homebrew/anaconda3/lib/python3.11/site-packages/pandas/core/indexes/base.py:3655\u001b[0m, in \u001b[0;36mIndex.get_loc\u001b[0;34m(self, key)\u001b[0m\n\u001b[1;32m   3653\u001b[0m     \u001b[39mreturn\u001b[39;00m \u001b[39mself\u001b[39m\u001b[39m.\u001b[39m_engine\u001b[39m.\u001b[39mget_loc(casted_key)\n\u001b[1;32m   3654\u001b[0m \u001b[39mexcept\u001b[39;00m \u001b[39mKeyError\u001b[39;00m \u001b[39mas\u001b[39;00m err:\n\u001b[0;32m-> 3655\u001b[0m     \u001b[39mraise\u001b[39;00m \u001b[39mKeyError\u001b[39;00m(key) \u001b[39mfrom\u001b[39;00m \u001b[39merr\u001b[39;00m\n\u001b[1;32m   3656\u001b[0m \u001b[39mexcept\u001b[39;00m \u001b[39mTypeError\u001b[39;00m:\n\u001b[1;32m   3657\u001b[0m     \u001b[39m# If we have a listlike key, _check_indexing_error will raise\u001b[39;00m\n\u001b[1;32m   3658\u001b[0m     \u001b[39m#  InvalidIndexError. Otherwise we fall through and re-raise\u001b[39;00m\n\u001b[1;32m   3659\u001b[0m     \u001b[39m#  the TypeError.\u001b[39;00m\n\u001b[1;32m   3660\u001b[0m     \u001b[39mself\u001b[39m\u001b[39m.\u001b[39m_check_indexing_error(key)\n",
      "\u001b[0;31mKeyError\u001b[0m: 'posted_at'"
     ]
    }
   ],
   "source": [
    "# Change date_time to date_scraped\n",
    "jobs_df_cleaned.rename(columns={\"date_time\": \"date_scraped\"}, inplace=True)\n",
    "\n",
    "# Convert \"posted_at\" to timedelta\n",
    "jobs_df_cleaned[\"posted_at\"] = pd.to_timedelta(\n",
    "    jobs_df_cleaned[\"posted_at\"].str.extract(\"(\\d+)\")[0].astype(int), unit=\"h\"\n",
    ")\n",
    "\n",
    "# Convert \"date_scraped\" to datetime\n",
    "jobs_df_cleaned[\"date_scraped\"] = pd.to_datetime(jobs_df_cleaned[\"date_scraped\"])\n",
    "\n",
    "# Create \"posting_created\" column\n",
    "jobs_df_cleaned[\"posting_created\"] = (\n",
    "    jobs_df_cleaned[\"date_scraped\"] - jobs_df_cleaned[\"posted_at\"]\n",
    ")\n",
    "\n",
    "# Change posting_created to be date time formated with only hours and minutes\n",
    "jobs_df_cleaned[\"posting_created\"] = jobs_df_cleaned[\"posting_created\"].dt.strftime(\n",
    "    \"%Y-%m-%d %H:%M\"\n",
    ")\n",
    "\n",
    "# Make it the index\n",
    "jobs_df_cleaned.set_index(\"posting_created\", inplace=True)"
   ]
  },
  {
   "cell_type": "markdown",
   "metadata": {},
   "source": [
    "### Standardize Job Title"
   ]
  },
  {
   "cell_type": "markdown",
   "metadata": {},
   "source": [
    "`title` originally had 13,157 different values in the dataset. We standardized these into `title_cleaned` by:\n",
    "- Data Scientist - titles containing \"scie\"\n",
    "- Data Engineer - titles containing \"eng\"\n",
    "- Data Analyst - titles containing \"ana\"\n",
    "- Other - if it didn't fit any of these\n",
    "\n",
    "Since our model will be predicting one of these categories, we decided to drop \"Other\" since predicting that will not provide value. \n",
    "\n",
    "Some examples of \"Other\" titles were:\n",
    "- \"Trillium Data Quality\"\n",
    "- \"Systematic review\"\n",
    "- \"GA4 full setup + Conversion and Pixel API setup\""
   ]
  },
  {
   "cell_type": "code",
   "execution_count": 241,
   "metadata": {},
   "outputs": [],
   "source": [
    "def standardize_titles(df):\n",
    "    \"\"\"\n",
    "    This function takes a DataFrame as a parameter.\n",
    "    It standardizes the job titles in the 'title' column based on certain keywords.\n",
    "\n",
    "    Parameters:\n",
    "    df (DataFrame): The input DataFrame.\n",
    "\n",
    "    Returns:\n",
    "    DataFrame: The DataFrame with standardized job titles.\n",
    "    \"\"\"\n",
    "\n",
    "    # Define the mapping of keywords to standardized titles\n",
    "    title_mapping = {\n",
    "        \"scie\": \"Data Scientist\",\n",
    "        \"eng\": \"Data Engineer\",\n",
    "        \"ana\": \"Data Analyst\",\n",
    "    }\n",
    "\n",
    "    # Apply the mapping to the 'title' column\n",
    "    df[\"title_cleaned\"] = df[\"title\"].apply(\n",
    "        lambda x: next((v for k, v in title_mapping.items() if k in x.lower()), x)\n",
    "    )\n",
    "\n",
    "    # If a title_cleaned isn't one of those 3, make it Other\n",
    "    df[\"title_cleaned\"] = df[\"title_cleaned\"].apply(\n",
    "        lambda x: \"Other\" if x not in title_mapping.values() else x\n",
    "    )\n",
    "\n",
    "    return df"
   ]
  },
  {
   "cell_type": "code",
   "execution_count": 242,
   "metadata": {},
   "outputs": [
    {
     "data": {
      "text/html": [
       "<div>\n",
       "<style scoped>\n",
       "    .dataframe tbody tr th:only-of-type {\n",
       "        vertical-align: middle;\n",
       "    }\n",
       "\n",
       "    .dataframe tbody tr th {\n",
       "        vertical-align: top;\n",
       "    }\n",
       "\n",
       "    .dataframe thead th {\n",
       "        text-align: right;\n",
       "    }\n",
       "</style>\n",
       "<table border=\"1\" class=\"dataframe\">\n",
       "  <thead>\n",
       "    <tr style=\"text-align: right;\">\n",
       "      <th></th>\n",
       "      <th>title</th>\n",
       "      <th>company_name</th>\n",
       "      <th>location</th>\n",
       "      <th>via</th>\n",
       "      <th>description</th>\n",
       "      <th>time_since_posting</th>\n",
       "      <th>schedule_type</th>\n",
       "      <th>work_from_home</th>\n",
       "      <th>date_scraped</th>\n",
       "      <th>salary_pay</th>\n",
       "      <th>salary_rate</th>\n",
       "      <th>cleaned_salary</th>\n",
       "      <th>pay_rate</th>\n",
       "      <th>min_salary</th>\n",
       "      <th>max_salary</th>\n",
       "      <th>avg_salary</th>\n",
       "      <th>location_cleaned</th>\n",
       "      <th>title_cleaned</th>\n",
       "    </tr>\n",
       "    <tr>\n",
       "      <th>posting_created</th>\n",
       "      <th></th>\n",
       "      <th></th>\n",
       "      <th></th>\n",
       "      <th></th>\n",
       "      <th></th>\n",
       "      <th></th>\n",
       "      <th></th>\n",
       "      <th></th>\n",
       "      <th></th>\n",
       "      <th></th>\n",
       "      <th></th>\n",
       "      <th></th>\n",
       "      <th></th>\n",
       "      <th></th>\n",
       "      <th></th>\n",
       "      <th></th>\n",
       "      <th></th>\n",
       "      <th></th>\n",
       "    </tr>\n",
       "  </thead>\n",
       "  <tbody>\n",
       "    <tr>\n",
       "      <th>2023-08-02 06:00</th>\n",
       "      <td>Data Analyst</td>\n",
       "      <td>Chloeta</td>\n",
       "      <td>Oklahoma City, OK</td>\n",
       "      <td>via ZipRecruiter</td>\n",
       "      <td>Job Summary: The Data Analyst oversees data pr...</td>\n",
       "      <td>0 days 21:00:00</td>\n",
       "      <td>Full-time</td>\n",
       "      <td>False</td>\n",
       "      <td>2023-08-03 03:00:09.849838</td>\n",
       "      <td>NaN</td>\n",
       "      <td>NaN</td>\n",
       "      <td>nan</td>\n",
       "      <td>NaN</td>\n",
       "      <td>nan</td>\n",
       "      <td>nan</td>\n",
       "      <td>NaN</td>\n",
       "      <td>Oklahoma</td>\n",
       "      <td>Data Analyst</td>\n",
       "    </tr>\n",
       "    <tr>\n",
       "      <th>2023-08-02 10:00</th>\n",
       "      <td>Junior Data Analyst/Scientist Role - Contract ...</td>\n",
       "      <td>Upwork</td>\n",
       "      <td>Anywhere</td>\n",
       "      <td>via Upwork</td>\n",
       "      <td>Company\\n\\nThe TAC Index provides independent,...</td>\n",
       "      <td>0 days 17:00:00</td>\n",
       "      <td>Contractor</td>\n",
       "      <td>True</td>\n",
       "      <td>2023-08-03 03:00:09.849838</td>\n",
       "      <td>NaN</td>\n",
       "      <td>NaN</td>\n",
       "      <td>nan</td>\n",
       "      <td>NaN</td>\n",
       "      <td>nan</td>\n",
       "      <td>nan</td>\n",
       "      <td>NaN</td>\n",
       "      <td>Anywhere</td>\n",
       "      <td>Data Scientist</td>\n",
       "    </tr>\n",
       "    <tr>\n",
       "      <th>2023-08-02 15:00</th>\n",
       "      <td>Data Analyst</td>\n",
       "      <td>ATC</td>\n",
       "      <td>United States</td>\n",
       "      <td>via LinkedIn</td>\n",
       "      <td>Job Title: Entry Level Business Analyst / Prod...</td>\n",
       "      <td>0 days 12:00:00</td>\n",
       "      <td>Full-time</td>\n",
       "      <td>False</td>\n",
       "      <td>2023-08-03 03:00:09.849838</td>\n",
       "      <td>NaN</td>\n",
       "      <td>NaN</td>\n",
       "      <td>nan</td>\n",
       "      <td>NaN</td>\n",
       "      <td>nan</td>\n",
       "      <td>nan</td>\n",
       "      <td>NaN</td>\n",
       "      <td>United States</td>\n",
       "      <td>Data Analyst</td>\n",
       "    </tr>\n",
       "    <tr>\n",
       "      <th>2023-08-02 17:00</th>\n",
       "      <td>Data Analyst</td>\n",
       "      <td>Guidehouse</td>\n",
       "      <td>Topeka, KS</td>\n",
       "      <td>via Nexxt</td>\n",
       "      <td>Job Family :\\n\\nData Science &amp; Analysis (Digit...</td>\n",
       "      <td>0 days 10:00:00</td>\n",
       "      <td>Full-time</td>\n",
       "      <td>False</td>\n",
       "      <td>2023-08-03 03:00:09.849838</td>\n",
       "      <td>NaN</td>\n",
       "      <td>NaN</td>\n",
       "      <td>nan</td>\n",
       "      <td>NaN</td>\n",
       "      <td>nan</td>\n",
       "      <td>nan</td>\n",
       "      <td>NaN</td>\n",
       "      <td>Kansas</td>\n",
       "      <td>Data Analyst</td>\n",
       "    </tr>\n",
       "    <tr>\n",
       "      <th>2023-08-02 09:00</th>\n",
       "      <td>Data Analyst</td>\n",
       "      <td>AnMed Health LLC</td>\n",
       "      <td>Anywhere</td>\n",
       "      <td>via LinkedIn</td>\n",
       "      <td>AnMed is a dynamic, comprehensive health syste...</td>\n",
       "      <td>0 days 18:00:00</td>\n",
       "      <td>Part-time</td>\n",
       "      <td>True</td>\n",
       "      <td>2023-08-03 03:00:09.849838</td>\n",
       "      <td>NaN</td>\n",
       "      <td>NaN</td>\n",
       "      <td>nan</td>\n",
       "      <td>NaN</td>\n",
       "      <td>nan</td>\n",
       "      <td>nan</td>\n",
       "      <td>NaN</td>\n",
       "      <td>Anywhere</td>\n",
       "      <td>Data Analyst</td>\n",
       "    </tr>\n",
       "    <tr>\n",
       "      <th>...</th>\n",
       "      <td>...</td>\n",
       "      <td>...</td>\n",
       "      <td>...</td>\n",
       "      <td>...</td>\n",
       "      <td>...</td>\n",
       "      <td>...</td>\n",
       "      <td>...</td>\n",
       "      <td>...</td>\n",
       "      <td>...</td>\n",
       "      <td>...</td>\n",
       "      <td>...</td>\n",
       "      <td>...</td>\n",
       "      <td>...</td>\n",
       "      <td>...</td>\n",
       "      <td>...</td>\n",
       "      <td>...</td>\n",
       "      <td>...</td>\n",
       "      <td>...</td>\n",
       "    </tr>\n",
       "    <tr>\n",
       "      <th>2022-11-03 04:40</th>\n",
       "      <td>Marketing Data &amp; BI Analyst II</td>\n",
       "      <td>EDWARD JONES</td>\n",
       "      <td>Houstonia, MO</td>\n",
       "      <td>via My ArkLaMiss Jobs</td>\n",
       "      <td>At Edward Jones, we help clients achieve their...</td>\n",
       "      <td>0 days 23:00:00</td>\n",
       "      <td>Full-time</td>\n",
       "      <td>False</td>\n",
       "      <td>2022-11-04 03:40:23.706734</td>\n",
       "      <td>76798–130764</td>\n",
       "      <td>a year</td>\n",
       "      <td>76798–130764</td>\n",
       "      <td>yearly</td>\n",
       "      <td>76798</td>\n",
       "      <td>130764</td>\n",
       "      <td>103781.0</td>\n",
       "      <td>Missouri</td>\n",
       "      <td>Data Analyst</td>\n",
       "    </tr>\n",
       "    <tr>\n",
       "      <th>2022-11-23 05:00</th>\n",
       "      <td>Lead-Data Analyst</td>\n",
       "      <td>EDWARD JONES</td>\n",
       "      <td>Marshfield, MO</td>\n",
       "      <td>via My ArkLaMiss Jobs</td>\n",
       "      <td>At Edward Jones, we help clients achieve their...</td>\n",
       "      <td>0 days 23:00:00</td>\n",
       "      <td>Full-time</td>\n",
       "      <td>False</td>\n",
       "      <td>2022-11-24 04:00:08.710801</td>\n",
       "      <td>106916–182047</td>\n",
       "      <td>a year</td>\n",
       "      <td>106916–182047</td>\n",
       "      <td>yearly</td>\n",
       "      <td>106916</td>\n",
       "      <td>182047</td>\n",
       "      <td>144481.5</td>\n",
       "      <td>Missouri</td>\n",
       "      <td>Data Analyst</td>\n",
       "    </tr>\n",
       "    <tr>\n",
       "      <th>2022-12-06 05:00</th>\n",
       "      <td>Lead-Data Analyst</td>\n",
       "      <td>EDWARD JONES</td>\n",
       "      <td>High Point, MO</td>\n",
       "      <td>via My ArkLaMiss Jobs</td>\n",
       "      <td>At Edward Jones, we help clients achieve their...</td>\n",
       "      <td>0 days 23:00:00</td>\n",
       "      <td>Full-time</td>\n",
       "      <td>False</td>\n",
       "      <td>2022-12-07 04:00:12.563831</td>\n",
       "      <td>106916–182047</td>\n",
       "      <td>a year</td>\n",
       "      <td>106916–182047</td>\n",
       "      <td>yearly</td>\n",
       "      <td>106916</td>\n",
       "      <td>182047</td>\n",
       "      <td>144481.5</td>\n",
       "      <td>Missouri</td>\n",
       "      <td>Data Analyst</td>\n",
       "    </tr>\n",
       "    <tr>\n",
       "      <th>2022-12-07 05:00</th>\n",
       "      <td>Lead-Data Analyst</td>\n",
       "      <td>EDWARD JONES</td>\n",
       "      <td>Calhoun, MO</td>\n",
       "      <td>via My ArkLaMiss Jobs</td>\n",
       "      <td>At Edward Jones, we help clients achieve their...</td>\n",
       "      <td>0 days 23:00:00</td>\n",
       "      <td>Full-time</td>\n",
       "      <td>False</td>\n",
       "      <td>2022-12-08 04:00:15.975728</td>\n",
       "      <td>106916–182047</td>\n",
       "      <td>a year</td>\n",
       "      <td>106916–182047</td>\n",
       "      <td>yearly</td>\n",
       "      <td>106916</td>\n",
       "      <td>182047</td>\n",
       "      <td>144481.5</td>\n",
       "      <td>Missouri</td>\n",
       "      <td>Data Analyst</td>\n",
       "    </tr>\n",
       "    <tr>\n",
       "      <th>2023-01-24 04:00</th>\n",
       "      <td>Institutional Credit Management - Lending Data...</td>\n",
       "      <td>Citi</td>\n",
       "      <td>United States</td>\n",
       "      <td>via My ArkLaMiss Jobs</td>\n",
       "      <td>The Institutional Credit Management (ICM) grou...</td>\n",
       "      <td>1 days 00:00:00</td>\n",
       "      <td>Full-time</td>\n",
       "      <td>False</td>\n",
       "      <td>2023-01-25 04:00:26.521124</td>\n",
       "      <td>105850–158780</td>\n",
       "      <td>a year</td>\n",
       "      <td>105850–158780</td>\n",
       "      <td>yearly</td>\n",
       "      <td>105850</td>\n",
       "      <td>158780</td>\n",
       "      <td>132315.0</td>\n",
       "      <td>United States</td>\n",
       "      <td>Data Analyst</td>\n",
       "    </tr>\n",
       "  </tbody>\n",
       "</table>\n",
       "<p>34133 rows × 18 columns</p>\n",
       "</div>"
      ],
      "text/plain": [
       "                                                              title  \\\n",
       "posting_created                                                       \n",
       "2023-08-02 06:00                                       Data Analyst   \n",
       "2023-08-02 10:00  Junior Data Analyst/Scientist Role - Contract ...   \n",
       "2023-08-02 15:00                                       Data Analyst   \n",
       "2023-08-02 17:00                                       Data Analyst   \n",
       "2023-08-02 09:00                                       Data Analyst   \n",
       "...                                                             ...   \n",
       "2022-11-03 04:40                     Marketing Data & BI Analyst II   \n",
       "2022-11-23 05:00                                  Lead-Data Analyst   \n",
       "2022-12-06 05:00                                  Lead-Data Analyst   \n",
       "2022-12-07 05:00                                  Lead-Data Analyst   \n",
       "2023-01-24 04:00  Institutional Credit Management - Lending Data...   \n",
       "\n",
       "                      company_name                location  \\\n",
       "posting_created                                              \n",
       "2023-08-02 06:00           Chloeta    Oklahoma City, OK      \n",
       "2023-08-02 10:00            Upwork               Anywhere    \n",
       "2023-08-02 15:00               ATC        United States      \n",
       "2023-08-02 17:00        Guidehouse           Topeka, KS      \n",
       "2023-08-02 09:00  AnMed Health LLC               Anywhere    \n",
       "...                            ...                     ...   \n",
       "2022-11-03 04:40      EDWARD JONES           Houstonia, MO   \n",
       "2022-11-23 05:00      EDWARD JONES          Marshfield, MO   \n",
       "2022-12-06 05:00      EDWARD JONES          High Point, MO   \n",
       "2022-12-07 05:00      EDWARD JONES             Calhoun, MO   \n",
       "2023-01-24 04:00              Citi           United States   \n",
       "\n",
       "                                    via  \\\n",
       "posting_created                           \n",
       "2023-08-02 06:00       via ZipRecruiter   \n",
       "2023-08-02 10:00             via Upwork   \n",
       "2023-08-02 15:00           via LinkedIn   \n",
       "2023-08-02 17:00              via Nexxt   \n",
       "2023-08-02 09:00           via LinkedIn   \n",
       "...                                 ...   \n",
       "2022-11-03 04:40  via My ArkLaMiss Jobs   \n",
       "2022-11-23 05:00  via My ArkLaMiss Jobs   \n",
       "2022-12-06 05:00  via My ArkLaMiss Jobs   \n",
       "2022-12-07 05:00  via My ArkLaMiss Jobs   \n",
       "2023-01-24 04:00  via My ArkLaMiss Jobs   \n",
       "\n",
       "                                                        description  \\\n",
       "posting_created                                                       \n",
       "2023-08-02 06:00  Job Summary: The Data Analyst oversees data pr...   \n",
       "2023-08-02 10:00  Company\\n\\nThe TAC Index provides independent,...   \n",
       "2023-08-02 15:00  Job Title: Entry Level Business Analyst / Prod...   \n",
       "2023-08-02 17:00  Job Family :\\n\\nData Science & Analysis (Digit...   \n",
       "2023-08-02 09:00  AnMed is a dynamic, comprehensive health syste...   \n",
       "...                                                             ...   \n",
       "2022-11-03 04:40  At Edward Jones, we help clients achieve their...   \n",
       "2022-11-23 05:00  At Edward Jones, we help clients achieve their...   \n",
       "2022-12-06 05:00  At Edward Jones, we help clients achieve their...   \n",
       "2022-12-07 05:00  At Edward Jones, we help clients achieve their...   \n",
       "2023-01-24 04:00  The Institutional Credit Management (ICM) grou...   \n",
       "\n",
       "                 time_since_posting schedule_type  work_from_home  \\\n",
       "posting_created                                                     \n",
       "2023-08-02 06:00    0 days 21:00:00     Full-time           False   \n",
       "2023-08-02 10:00    0 days 17:00:00    Contractor            True   \n",
       "2023-08-02 15:00    0 days 12:00:00     Full-time           False   \n",
       "2023-08-02 17:00    0 days 10:00:00     Full-time           False   \n",
       "2023-08-02 09:00    0 days 18:00:00     Part-time            True   \n",
       "...                             ...           ...             ...   \n",
       "2022-11-03 04:40    0 days 23:00:00     Full-time           False   \n",
       "2022-11-23 05:00    0 days 23:00:00     Full-time           False   \n",
       "2022-12-06 05:00    0 days 23:00:00     Full-time           False   \n",
       "2022-12-07 05:00    0 days 23:00:00     Full-time           False   \n",
       "2023-01-24 04:00    1 days 00:00:00     Full-time           False   \n",
       "\n",
       "                               date_scraped     salary_pay salary_rate  \\\n",
       "posting_created                                                          \n",
       "2023-08-02 06:00 2023-08-03 03:00:09.849838            NaN         NaN   \n",
       "2023-08-02 10:00 2023-08-03 03:00:09.849838            NaN         NaN   \n",
       "2023-08-02 15:00 2023-08-03 03:00:09.849838            NaN         NaN   \n",
       "2023-08-02 17:00 2023-08-03 03:00:09.849838            NaN         NaN   \n",
       "2023-08-02 09:00 2023-08-03 03:00:09.849838            NaN         NaN   \n",
       "...                                     ...            ...         ...   \n",
       "2022-11-03 04:40 2022-11-04 03:40:23.706734   76798–130764      a year   \n",
       "2022-11-23 05:00 2022-11-24 04:00:08.710801  106916–182047      a year   \n",
       "2022-12-06 05:00 2022-12-07 04:00:12.563831  106916–182047      a year   \n",
       "2022-12-07 05:00 2022-12-08 04:00:15.975728  106916–182047      a year   \n",
       "2023-01-24 04:00 2023-01-25 04:00:26.521124  105850–158780      a year   \n",
       "\n",
       "                   cleaned_salary pay_rate min_salary max_salary  avg_salary  \\\n",
       "posting_created                                                                \n",
       "2023-08-02 06:00              nan      NaN        nan        nan         NaN   \n",
       "2023-08-02 10:00              nan      NaN        nan        nan         NaN   \n",
       "2023-08-02 15:00              nan      NaN        nan        nan         NaN   \n",
       "2023-08-02 17:00              nan      NaN        nan        nan         NaN   \n",
       "2023-08-02 09:00              nan      NaN        nan        nan         NaN   \n",
       "...                           ...      ...        ...        ...         ...   \n",
       "2022-11-03 04:40   76798–130764     yearly      76798   130764      103781.0   \n",
       "2022-11-23 05:00  106916–182047     yearly     106916   182047      144481.5   \n",
       "2022-12-06 05:00  106916–182047     yearly     106916   182047      144481.5   \n",
       "2022-12-07 05:00  106916–182047     yearly     106916   182047      144481.5   \n",
       "2023-01-24 04:00  105850–158780     yearly     105850   158780      132315.0   \n",
       "\n",
       "                 location_cleaned   title_cleaned  \n",
       "posting_created                                    \n",
       "2023-08-02 06:00         Oklahoma    Data Analyst  \n",
       "2023-08-02 10:00         Anywhere  Data Scientist  \n",
       "2023-08-02 15:00    United States    Data Analyst  \n",
       "2023-08-02 17:00           Kansas    Data Analyst  \n",
       "2023-08-02 09:00         Anywhere    Data Analyst  \n",
       "...                           ...             ...  \n",
       "2022-11-03 04:40         Missouri    Data Analyst  \n",
       "2022-11-23 05:00         Missouri    Data Analyst  \n",
       "2022-12-06 05:00         Missouri    Data Analyst  \n",
       "2022-12-07 05:00         Missouri    Data Analyst  \n",
       "2023-01-24 04:00    United States    Data Analyst  \n",
       "\n",
       "[34133 rows x 18 columns]"
      ]
     },
     "execution_count": 242,
     "metadata": {},
     "output_type": "execute_result"
    }
   ],
   "source": [
    "standardize_titles(jobs_df_cleaned)"
   ]
  },
  {
   "cell_type": "markdown",
   "metadata": {},
   "source": [
    "### Job Description NLP Processing"
   ]
  },
  {
   "cell_type": "markdown",
   "metadata": {},
   "source": [
    "`description` was the job description in it's scraped format.\n",
    "\n",
    "We made `description_cleaned`, which was a tokenized, normalized, and lemmatized version of `description`\n",
    "\n",
    "From `description_cleaned`, we pulled out categories of keywords related to data jobs. The categories we looked at were:\n",
    "- programming languages\n",
    "- machine learning algorithms\n",
    "- visualization tools\n",
    "- big data tools\n",
    "- cloud tools\n",
    "- business intelligence\n",
    "\n",
    "With the words we defined from these categories, we created `description_tokens`."
   ]
  },
  {
   "cell_type": "markdown",
   "metadata": {},
   "source": [
    "#### Creation of `description_cleaned`"
   ]
  },
  {
   "cell_type": "code",
   "execution_count": 243,
   "metadata": {},
   "outputs": [
    {
     "name": "stderr",
     "output_type": "stream",
     "text": [
      "[nltk_data] Downloading package punkt to\n",
      "[nltk_data]     /Users/zacschmitz/nltk_data...\n",
      "[nltk_data]   Package punkt is already up-to-date!\n",
      "[nltk_data] Downloading package stopwords to\n",
      "[nltk_data]     /Users/zacschmitz/nltk_data...\n",
      "[nltk_data]   Package stopwords is already up-to-date!\n"
     ]
    }
   ],
   "source": [
    "import nltk\n",
    "from nltk.tokenize import word_tokenize\n",
    "from nltk.corpus import stopwords\n",
    "import string\n",
    "from collections import Counter\n",
    "from nltk.stem import WordNetLemmatizer\n",
    "\n",
    "# Ensure necessary resources are available\n",
    "nltk.download(\"punkt\")\n",
    "nltk.download(\"stopwords\")\n",
    "\n",
    "\n",
    "# Tokenize, normalize and lemmatize the descriptions\n",
    "def tokenize_normalize_lemmatize(text):\n",
    "    lemmatizer = WordNetLemmatizer()\n",
    "    tokens = word_tokenize(text)\n",
    "    # Convert to lowercase, remove punctuation and stopwords, and lemmatize\n",
    "    tokens = [\n",
    "        lemmatizer.lemmatize(word.lower())\n",
    "        for word in tokens\n",
    "        if word.isalpha() and word.lower() not in stopwords.words(\"english\")\n",
    "    ]\n",
    "    return tokens\n",
    "\n",
    "\n",
    "jobs_df_cleaned[\"description_cleaned\"] = jobs_df_cleaned[\"description\"].apply(\n",
    "    tokenize_normalize_lemmatize\n",
    ")\n",
    "\n"
   ]
  },
  {
   "cell_type": "markdown",
   "metadata": {},
   "source": [
    "#### Creation of `description_tokenized` "
   ]
  },
  {
   "cell_type": "code",
   "execution_count": 244,
   "metadata": {},
   "outputs": [],
   "source": [
    "from nltk.tokenize import MWETokenizer\n",
    "\n",
    "# Picked out keywords based on all keywords (only looked words with 100+ occurrences)\n",
    "keywords_programming = [\n",
    "'sql', 'python', 'r', 'c', 'c#', 'javascript', 'js',  'java', 'scala', 'sas', 'matlab', \n",
    "'c++', 'c/c++', 'perl', 'go', 'typescript', 'bash', 'html', 'css', 'php', 'powershell', 'rust', \n",
    "'kotlin', 'ruby',  'dart', 'assembly', 'swift', 'vba', 'lua', 'groovy', 'delphi', 'objective-c', \n",
    "'haskell', 'elixir', 'julia', 'clojure', 'solidity', 'lisp', 'f#', 'fortran', 'erlang', 'apl', \n",
    "'cobol', 'ocaml', 'crystal', 'javascript/typescript', 'golang', 'nosql', 'mongodb', 't-sql', 'no-sql',\n",
    "'visual_basic', 'pascal', 'mongo', 'pl/sql',  'sass', 'vb.net', 'mssql',\n",
    "]\n",
    "# Pick out ML Algorithm keywords\n",
    "keywords_ML_Algorithms = [x.lower() for x in ['regression','clustering', 'classification', 'predictive', 'prediction','decision trees',\n",
    "       'Decision Trees, Random Forests',\n",
    "       'Convolutional Neural Networks','CNN',\n",
    "       'Gradient Boosting Machines (xgboost, lightgbm, etc)',\n",
    "       'Bayesian Approaches', 'Dense Neural Networks (MLPs, etc)','DNN',\n",
    "       'Recurrent Neural Networks','RNN',\n",
    "       'Transformer Networks (BERT, gpt-3, etc)', 'Graph Neural Networks','Transformer'\n",
    "       'Autoencoder Networks (DAE, VAE, etc)',\n",
    "       'Generative Adversarial Networks', 'None',\n",
    "       'Evolutionary Approaches',] ]\n",
    "# Viz keywords\n",
    "keyword_viz = [x.lower() for x in ['Matplotlib', 'Seaborn', 'Plotly',\n",
    "       'Ggplot', 'None', 'Shiny', 'Geoplotlib', 'Bokeh',\n",
    "       'D3 js', 'Other', 'Leaflet / Folium', 'Pygal', 'Altair',\n",
    "       'Dygraphs', 'Highcharter', 'tableau',  'Microsoft Power BI', 'Google Data Studio',\n",
    "       'Amazon QuickSight', 'Qlik Sense', 'Other',\n",
    "       'Microsoft Azure Synapse ', 'Looker', 'Alteryx ',\n",
    "       'SAP Analytics Cloud ', 'TIBCO Spotfire', 'Domo', 'Sisense ',\n",
    "       'Thoughtspot '] ]\n",
    "# Computer vision and nlp\n",
    "keyword_cvnlp = ['computer vision','natural language processing']\n",
    "# Big data keywords\n",
    "keyword_big_data = ['mysql', 'postgresql', 'microsoft sql', 'sqlite', 'mongodb',\n",
    "                    'bigquery', 'oracle database', 'azure sql', 'amazon rds', 'google cloud sql', 'snowflake']\n",
    "# More big data\n",
    "keyword_big_data_2 = [x.lower() for x in  ['MySQL ', 'PostgreSQL ', 'Microsoft SQL Server ', 'SQLite ',\n",
    "       'MongoDB ', 'None', 'Google Cloud BigQuery ', 'Oracle Database ',\n",
    "       'Microsoft Azure SQL Database ', 'Amazon RDS ',\n",
    "       'Google Cloud SQL ', 'Snowflake ', 'Amazon Redshift ',\n",
    "       'Amazon DynamoDB ', 'Other', 'IBM Db2 '] ]\n",
    "# Business Intelligence keywords\n",
    "keyword_bi = [x.lower() for x in ['tableau',  'Power BI', 'Power_bi', 'Google Data Studio',\n",
    "       'QuickSight', 'Qlik Sense', 'Other',\n",
    "       'Azure Synapse ', 'Looker', 'Alteryx ',\n",
    "       'SAP Analytics Cloud ', 'TIBCO Spotfire', 'Domo', 'Sisense ',\n",
    "       'Thoughtspot '] ]\n",
    "# More business intelligence\n",
    "keyword_bi_2 = [x.lower() for x in ['tableau',  'Microsoft Power BI', 'Google Data Studio',\n",
    "       'Amazon QuickSight', 'Qlik Sense', 'Other',\n",
    "       'Microsoft Azure Synapse ', 'Looker', 'Alteryx ',\n",
    "       'SAP Analytics Cloud ', 'TIBCO Spotfire', 'Domo', 'Sisense ',\n",
    "       'Thoughtspot '] ]\n",
    "# Analyst tools\n",
    "keywords_analyst_tools = [\n",
    "'excel', 'tableau',  'word', 'powerpoint', 'looker', 'powerbi', 'outlook', 'azure', 'jira', 'twilio',  'snowflake', \n",
    "'shell', 'linux', 'sas', 'sharepoint', 'mysql', 'visio', 'git', 'mssql', 'powerpoints', 'postgresql', 'spreadsheets',\n",
    "'seaborn', 'pandas', 'gdpr', 'spreadsheet', 'alteryx', 'github', 'postgres', 'ssis', 'numpy', 'power_bi', 'spss', 'ssrs', \n",
    "'microstrategy',  'cognos', 'dax', 'matplotlib', 'dplyr', 'tidyr', 'ggplot2', 'plotly', 'esquisse', 'rshiny', 'mlr',\n",
    "'docker', 'linux', 'jira',  'hadoop', 'airflow', 'redis', 'graphql', 'sap', 'tensorflow', 'node', 'asp.net', 'unix',\n",
    "'jquery', 'pyspark', 'pytorch', 'gitlab', 'selenium', 'splunk', 'bitbucket', 'qlik', 'terminal', 'atlassian', 'unix/linux',\n",
    "'linux/unix', 'ubuntu', 'nuix', 'datarobot',\n",
    "]\n",
    "# Cloud tools\n",
    "keywords_cloud_tools = [\n",
    "'aws', 'azure', 'gcp', 'snowflake', 'redshift', 'bigquery', 'aurora','amazon','ec2','s3',\n",
    "]\n",
    "# Not using\n",
    "keywords_general_tools = [\n",
    "'microsoft', 'slack', 'apache', 'ibm', 'html5', 'datadog', 'bloomberg',  'ajax', 'persicope', 'oracle', \n",
    "]\n",
    "# Not using\n",
    "keywords_general = [\n",
    "'coding', 'server', 'database', 'cloud', 'warehousing', 'scrum', 'devops', 'programming', 'saas', 'ci/cd', 'cicd', \n",
    "'ml', 'data_lake', 'frontend',' front-end', 'back-end', 'backend', 'json', 'xml', 'ios', 'kanban', 'nlp',\n",
    "'iot', 'codebase', 'agile/scrum', 'agile', 'ai/ml', 'ai', 'paas', 'machine_learning', 'macros', 'iaas',\n",
    "'fullstack', 'dataops', 'scrum/agile', 'ssas', 'mlops', 'debug', 'etl', 'a/b', 'slack', 'erp', 'oop', \n",
    "'object-oriented', 'etl/elt', 'elt', 'dashboarding', 'big-data', 'twilio', 'ui/ux', 'ux/ui', 'vlookup', \n",
    "'crossover',  'data_lake', 'data_lakes', 'bi', \n",
    "]\n",
    "\n",
    "keywords = keywords_programming + keywords_ML_Algorithms + keywords_analyst_tools + keywords_cloud_tools \n",
    "\n",
    "jobs_df_cleaned = jobs_df_cleaned[jobs_df_cleaned.description.notnull()] # filter out null values\n",
    "jobs_df_cleaned = jobs_df_cleaned.reset_index() # throwing index issues if don't reset index\n",
    "# jobs_df_cleaned = jobs_df_cleaned.head(10) \n",
    "\n",
    "jobs_df_cleaned['description_tokens'] = \"\"\n",
    "for index, row in jobs_df_cleaned.iterrows():\n",
    "    # lowercase words\n",
    "    detail = row.description.lower()\n",
    "    # tokenize words\n",
    "    detail = word_tokenize(detail)\n",
    "    # handle multi-word tokenization (e.g., 'Power BI')\n",
    "    multi_tokens = [('power', 'bi'), ('data', 'lake'), ('data', 'lakes'), ('machine', 'learning'), ('objective', 'c'),\n",
    "                    ('visual', 'basic'), ('predictive', 'prediction'), ('plotly','express'), ('ggplot','ggplot'), ('d3','js') ]\n",
    "    tokenizer = MWETokenizer(multi_tokens)\n",
    "    detail = tokenizer.tokenize(detail)\n",
    "    # remove duplicates\n",
    "    detail = list(set(detail))\n",
    "    # filter for keywords only\n",
    "    detail = [word for word in detail if word in keywords] \n",
    "    # replace duplicate keywords\n",
    "    replace_tokens = {'powerbi' : 'power_bi', 'spreadsheets': 'spreadsheet'}\n",
    "    for key, value in replace_tokens.items():\n",
    "        detail = [d.replace(key, value) for d in detail]\n",
    "    # add to details list # row.description_tokens = detail\n",
    "    jobs_df_cleaned.at[index, 'description_tokens'] = detail\n",
    "\n",
    "def replace_skills(skills):\n",
    "    return ['c++' if skill in ['c/c++', 'c++'] else skill for skill in skills]\n",
    "\n",
    "jobs_df_cleaned['description_tokens'] = jobs_df_cleaned['description_tokens'].apply(replace_skills)"
   ]
  },
  {
   "cell_type": "code",
   "execution_count": 253,
   "metadata": {},
   "outputs": [
    {
     "data": {
      "text/plain": [
       "0"
      ]
     },
     "execution_count": 253,
     "metadata": {},
     "output_type": "execute_result"
    }
   ],
   "source": [
    "# Plays a sound when this is done running\n",
    "\n",
    "import os\n",
    "\n",
    "os.system('afplay /System/Library/Sounds/Ping.aiff')"
   ]
  },
  {
   "cell_type": "markdown",
   "metadata": {},
   "source": [
    "### Created a Sector Column\n",
    "<i>potential future usage</i>"
   ]
  },
  {
   "cell_type": "markdown",
   "metadata": {},
   "source": [
    "At present time, we did not include sector in our deliverable. We do intend to include this in later developments.\n",
    "\n",
    "We created `sector`, by checking for defined keywords to assign them into a sector.\n",
    "- \"finance\": \"Finance\",\n",
    "- \"business\": \"Business\",\n",
    "- \"healthcare\": \"Healthcare\",\n",
    "- \"patient\": \"Healthcare\",\n",
    "- \"technology\": \"Technology\",\n",
    "- \"education\": \"Education\",\n",
    "- \"retail\": \"Retail\",\n",
    "- \"property\": \"Real Estate\""
   ]
  },
  {
   "cell_type": "code",
   "execution_count": 255,
   "metadata": {},
   "outputs": [],
   "source": [
    "def create_sector_column(df):\n",
    "    \"\"\"\n",
    "    This function takes a DataFrame as a parameter.\n",
    "    It creates a new 'sector' column in the DataFrame based on certain keywords in the 'description' column.\n",
    "\n",
    "    Parameters:\n",
    "    df (DataFrame): The input DataFrame.\n",
    "\n",
    "    Returns:\n",
    "    DataFrame: The DataFrame with the new 'sector' column.\n",
    "    \"\"\"\n",
    "\n",
    "    # Define the mapping of keywords to sectors\n",
    "    sector_mapping = {\n",
    "        \"finance\": \"Finance\",\n",
    "        \"business\": \"Business\",\n",
    "        \"healthcare\": \"Healthcare\",\n",
    "        \"patient\": \"Healthcare\",\n",
    "        \"technology\": \"Technology\",\n",
    "        \"education\": \"Education\",\n",
    "        \"retail\": \"Retail\",\n",
    "        \"property\": \"Real Estate\",\n",
    "    }\n",
    "\n",
    "    # Apply the mapping to the 'description' column\n",
    "    df[\"sector\"] = df[\"description_cleaned\"].apply(\n",
    "        lambda x: next(\n",
    "            (v for k, v in sector_mapping.items() if k in \" \".join(x).lower()), \"Other\"\n",
    "        )\n",
    "    )\n",
    "\n",
    "    return df\n",
    "\n",
    "\n",
    "jobs_df_cleaned = create_sector_column(jobs_df_cleaned)"
   ]
  },
  {
   "cell_type": "markdown",
   "metadata": {},
   "source": [
    "### Schedule Types"
   ]
  },
  {
   "cell_type": "markdown",
   "metadata": {},
   "source": [
    "`schedule_type` contained many different values, and comparing freelance work to full-time, wasn't accurate and skewed the metrics.\n",
    "\n",
    "During exploration it was identified that contract (typically freelance) positions tend to pay a lot more than full time.\n",
    "- Some of these positions were offering up to $750 an hour\n",
    "- This caused issues when we annualized the pay (multiplied by 2080 for hourly)\n",
    "\n",
    "Freelance work is typically not something for entry level positions, so for now we will only look into full-time positions."
   ]
  },
  {
   "cell_type": "code",
   "execution_count": 256,
   "metadata": {},
   "outputs": [],
   "source": [
    "# If the schedule type does not have \"Full-time\", drop it\n",
    "jobs_df_cleaned = jobs_df_cleaned[jobs_df_cleaned[\"schedule_type\"] == \"Full-time\"]"
   ]
  },
  {
   "cell_type": "markdown",
   "metadata": {},
   "source": [
    "### Drop All Leftover Columns"
   ]
  },
  {
   "cell_type": "markdown",
   "metadata": {},
   "source": [
    "To narrow down our dataset, we'll drop columns we aren't using for exploration, modeling, and the final dashboard."
   ]
  },
  {
   "cell_type": "code",
   "execution_count": 247,
   "metadata": {},
   "outputs": [],
   "source": [
    "# # Drop title, location, description, time_since_posting, schedule_type, date_scraped, salary_pay, salary_rate, cleaned_salary, pay_rate, min_salary, max_salary\n",
    "# jobs_df_cleaned = jobs_df_cleaned.drop(\n",
    "#     columns=[\n",
    "#         \"title\",\n",
    "#         \"location\",\n",
    "#         \"description\",\n",
    "#         \"time_since_posting\",\n",
    "#         \"schedule_type\",\n",
    "#         \"date_scraped\",\n",
    "#         \"salary_pay\",\n",
    "#         \"salary_rate\",\n",
    "#         \"cleaned_salary\",\n",
    "#         \"pay_rate\",\n",
    "#         \"min_salary\",\n",
    "#         \"max_salary\",\n",
    "#     ]\n",
    "# )"
   ]
  },
  {
   "cell_type": "code",
   "execution_count": 257,
   "metadata": {},
   "outputs": [
    {
     "name": "stdout",
     "output_type": "stream",
     "text": [
      "Total rows: 24669\n",
      "Total columns: 22\n"
     ]
    },
    {
     "data": {
      "text/html": [
       "<div>\n",
       "<style scoped>\n",
       "    .dataframe tbody tr th:only-of-type {\n",
       "        vertical-align: middle;\n",
       "    }\n",
       "\n",
       "    .dataframe tbody tr th {\n",
       "        vertical-align: top;\n",
       "    }\n",
       "\n",
       "    .dataframe thead th {\n",
       "        text-align: right;\n",
       "    }\n",
       "</style>\n",
       "<table border=\"1\" class=\"dataframe\">\n",
       "  <thead>\n",
       "    <tr style=\"text-align: right;\">\n",
       "      <th></th>\n",
       "      <th>col_name</th>\n",
       "      <th>dtype</th>\n",
       "      <th>num_unique</th>\n",
       "      <th>num_null</th>\n",
       "      <th>pct_null</th>\n",
       "      <th>unique_values</th>\n",
       "      <th>range (min, max, mean)</th>\n",
       "    </tr>\n",
       "  </thead>\n",
       "  <tbody>\n",
       "    <tr>\n",
       "      <th>0</th>\n",
       "      <td>index</td>\n",
       "      <td>int64</td>\n",
       "      <td>24669</td>\n",
       "      <td>0</td>\n",
       "      <td>0.00000</td>\n",
       "      <td>Index([    0,     2,     3,     5,     6,     ...</td>\n",
       "      <td>(0, 34132)</td>\n",
       "    </tr>\n",
       "    <tr>\n",
       "      <th>1</th>\n",
       "      <td>posting_created</td>\n",
       "      <td>object</td>\n",
       "      <td>6892</td>\n",
       "      <td>0</td>\n",
       "      <td>0.00000</td>\n",
       "      <td>[2023-08-02 06:00, 2023-08-02 15:00, 2023-08-0...</td>\n",
       "      <td>None</td>\n",
       "    </tr>\n",
       "    <tr>\n",
       "      <th>2</th>\n",
       "      <td>title</td>\n",
       "      <td>object</td>\n",
       "      <td>7559</td>\n",
       "      <td>0</td>\n",
       "      <td>0.00000</td>\n",
       "      <td>[Data Analyst, Research Data Analyst 1, Health...</td>\n",
       "      <td>None</td>\n",
       "    </tr>\n",
       "    <tr>\n",
       "      <th>3</th>\n",
       "      <td>company_name</td>\n",
       "      <td>object</td>\n",
       "      <td>7251</td>\n",
       "      <td>0</td>\n",
       "      <td>0.00000</td>\n",
       "      <td>[Chloeta, ATC, Guidehouse, Oregon Health &amp; Sci...</td>\n",
       "      <td>None</td>\n",
       "    </tr>\n",
       "    <tr>\n",
       "      <th>4</th>\n",
       "      <td>location</td>\n",
       "      <td>object</td>\n",
       "      <td>623</td>\n",
       "      <td>22</td>\n",
       "      <td>0.00089</td>\n",
       "      <td>[  Oklahoma City, OK   ,   United States   ,  ...</td>\n",
       "      <td>None</td>\n",
       "    </tr>\n",
       "    <tr>\n",
       "      <th>5</th>\n",
       "      <td>via</td>\n",
       "      <td>object</td>\n",
       "      <td>522</td>\n",
       "      <td>9</td>\n",
       "      <td>0.00036</td>\n",
       "      <td>[via ZipRecruiter, via LinkedIn, via Nexxt, vi...</td>\n",
       "      <td>None</td>\n",
       "    </tr>\n",
       "    <tr>\n",
       "      <th>6</th>\n",
       "      <td>description</td>\n",
       "      <td>object</td>\n",
       "      <td>16439</td>\n",
       "      <td>0</td>\n",
       "      <td>0.00000</td>\n",
       "      <td>[Job Summary: The Data Analyst oversees data p...</td>\n",
       "      <td>None</td>\n",
       "    </tr>\n",
       "    <tr>\n",
       "      <th>7</th>\n",
       "      <td>time_since_posting</td>\n",
       "      <td>timedelta64[ns]</td>\n",
       "      <td>54</td>\n",
       "      <td>0</td>\n",
       "      <td>0.00000</td>\n",
       "      <td>[0 days 21:00:00, 0 days 12:00:00, 0 days 10:0...</td>\n",
       "      <td>None</td>\n",
       "    </tr>\n",
       "    <tr>\n",
       "      <th>8</th>\n",
       "      <td>schedule_type</td>\n",
       "      <td>object</td>\n",
       "      <td>1</td>\n",
       "      <td>0</td>\n",
       "      <td>0.00000</td>\n",
       "      <td>[Full-time]</td>\n",
       "      <td>None</td>\n",
       "    </tr>\n",
       "    <tr>\n",
       "      <th>9</th>\n",
       "      <td>work_from_home</td>\n",
       "      <td>bool</td>\n",
       "      <td>2</td>\n",
       "      <td>0</td>\n",
       "      <td>0.00000</td>\n",
       "      <td>[False, True]</td>\n",
       "      <td>(False, True, 0.29153998946045645)</td>\n",
       "    </tr>\n",
       "    <tr>\n",
       "      <th>10</th>\n",
       "      <td>date_scraped</td>\n",
       "      <td>datetime64[ns]</td>\n",
       "      <td>3481</td>\n",
       "      <td>0</td>\n",
       "      <td>0.00000</td>\n",
       "      <td>[2023-08-03 03:00:09.849838, 2023-08-03 03:00:...</td>\n",
       "      <td>(2022-11-04, 2023-11-02)</td>\n",
       "    </tr>\n",
       "    <tr>\n",
       "      <th>11</th>\n",
       "      <td>salary_pay</td>\n",
       "      <td>object</td>\n",
       "      <td>830</td>\n",
       "      <td>22104</td>\n",
       "      <td>0.89602</td>\n",
       "      <td>[nan, 43–48, 18.33–28.20, 66053–70980, 60K–80K...</td>\n",
       "      <td>None</td>\n",
       "    </tr>\n",
       "    <tr>\n",
       "      <th>12</th>\n",
       "      <td>salary_rate</td>\n",
       "      <td>object</td>\n",
       "      <td>3</td>\n",
       "      <td>22104</td>\n",
       "      <td>0.89602</td>\n",
       "      <td>[nan, an hour, a year, a month]</td>\n",
       "      <td>None</td>\n",
       "    </tr>\n",
       "    <tr>\n",
       "      <th>13</th>\n",
       "      <td>cleaned_salary</td>\n",
       "      <td>object</td>\n",
       "      <td>827</td>\n",
       "      <td>0</td>\n",
       "      <td>0.00000</td>\n",
       "      <td>[nan, 43–48  , 18.33–28.20  , 66053–70980  , 6...</td>\n",
       "      <td>None</td>\n",
       "    </tr>\n",
       "    <tr>\n",
       "      <th>14</th>\n",
       "      <td>pay_rate</td>\n",
       "      <td>object</td>\n",
       "      <td>3</td>\n",
       "      <td>22104</td>\n",
       "      <td>0.89602</td>\n",
       "      <td>[nan, hourly, yearly, monthly]</td>\n",
       "      <td>None</td>\n",
       "    </tr>\n",
       "    <tr>\n",
       "      <th>15</th>\n",
       "      <td>min_salary</td>\n",
       "      <td>object</td>\n",
       "      <td>396</td>\n",
       "      <td>0</td>\n",
       "      <td>0.00000</td>\n",
       "      <td>[nan, 89440.0, 38126.399999999994, 66053, 6000...</td>\n",
       "      <td>None</td>\n",
       "    </tr>\n",
       "    <tr>\n",
       "      <th>16</th>\n",
       "      <td>max_salary</td>\n",
       "      <td>object</td>\n",
       "      <td>412</td>\n",
       "      <td>0</td>\n",
       "      <td>0.00000</td>\n",
       "      <td>[nan, 99840.0, 58656.0, 70980  , 80000  , 1500...</td>\n",
       "      <td>None</td>\n",
       "    </tr>\n",
       "    <tr>\n",
       "      <th>17</th>\n",
       "      <td>avg_salary</td>\n",
       "      <td>float64</td>\n",
       "      <td>494</td>\n",
       "      <td>22104</td>\n",
       "      <td>0.89602</td>\n",
       "      <td>[nan, 94640.0, 48391.200000000004, 68516.5, 70...</td>\n",
       "      <td>(22880.0, 288000.0, 98364.6629434698)</td>\n",
       "    </tr>\n",
       "    <tr>\n",
       "      <th>18</th>\n",
       "      <td>location_cleaned</td>\n",
       "      <td>object</td>\n",
       "      <td>17</td>\n",
       "      <td>0</td>\n",
       "      <td>0.00000</td>\n",
       "      <td>[Oklahoma, United States, Kansas, Anywhere, Ar...</td>\n",
       "      <td>None</td>\n",
       "    </tr>\n",
       "    <tr>\n",
       "      <th>19</th>\n",
       "      <td>title_cleaned</td>\n",
       "      <td>object</td>\n",
       "      <td>4</td>\n",
       "      <td>0</td>\n",
       "      <td>0.00000</td>\n",
       "      <td>[Data Analyst, Data Engineer, Data Scientist, ...</td>\n",
       "      <td>None</td>\n",
       "    </tr>\n",
       "    <tr>\n",
       "      <th>20</th>\n",
       "      <td>description_cleaned</td>\n",
       "      <td>object</td>\n",
       "      <td>ERROR</td>\n",
       "      <td>0</td>\n",
       "      <td>0.00000</td>\n",
       "      <td>Column contains multiple lists</td>\n",
       "      <td>None</td>\n",
       "    </tr>\n",
       "    <tr>\n",
       "      <th>21</th>\n",
       "      <td>description_tokens</td>\n",
       "      <td>object</td>\n",
       "      <td>ERROR</td>\n",
       "      <td>0</td>\n",
       "      <td>0.00000</td>\n",
       "      <td>Column contains multiple lists</td>\n",
       "      <td>None</td>\n",
       "    </tr>\n",
       "    <tr>\n",
       "      <th>22</th>\n",
       "      <td>sector</td>\n",
       "      <td>object</td>\n",
       "      <td>8</td>\n",
       "      <td>0</td>\n",
       "      <td>0.00000</td>\n",
       "      <td>[Business, Healthcare, Finance, Other, Technol...</td>\n",
       "      <td>None</td>\n",
       "    </tr>\n",
       "  </tbody>\n",
       "</table>\n",
       "</div>"
      ],
      "text/plain": [
       "               col_name            dtype num_unique  num_null  pct_null  \\\n",
       "0                 index            int64      24669         0   0.00000   \n",
       "1       posting_created           object       6892         0   0.00000   \n",
       "2                 title           object       7559         0   0.00000   \n",
       "3          company_name           object       7251         0   0.00000   \n",
       "4              location           object        623        22   0.00089   \n",
       "5                   via           object        522         9   0.00036   \n",
       "6           description           object      16439         0   0.00000   \n",
       "7    time_since_posting  timedelta64[ns]         54         0   0.00000   \n",
       "8         schedule_type           object          1         0   0.00000   \n",
       "9        work_from_home             bool          2         0   0.00000   \n",
       "10         date_scraped   datetime64[ns]       3481         0   0.00000   \n",
       "11           salary_pay           object        830     22104   0.89602   \n",
       "12          salary_rate           object          3     22104   0.89602   \n",
       "13       cleaned_salary           object        827         0   0.00000   \n",
       "14             pay_rate           object          3     22104   0.89602   \n",
       "15           min_salary           object        396         0   0.00000   \n",
       "16           max_salary           object        412         0   0.00000   \n",
       "17           avg_salary          float64        494     22104   0.89602   \n",
       "18     location_cleaned           object         17         0   0.00000   \n",
       "19        title_cleaned           object          4         0   0.00000   \n",
       "20  description_cleaned           object      ERROR         0   0.00000   \n",
       "21   description_tokens           object      ERROR         0   0.00000   \n",
       "22               sector           object          8         0   0.00000   \n",
       "\n",
       "                                        unique_values  \\\n",
       "0   Index([    0,     2,     3,     5,     6,     ...   \n",
       "1   [2023-08-02 06:00, 2023-08-02 15:00, 2023-08-0...   \n",
       "2   [Data Analyst, Research Data Analyst 1, Health...   \n",
       "3   [Chloeta, ATC, Guidehouse, Oregon Health & Sci...   \n",
       "4   [  Oklahoma City, OK   ,   United States   ,  ...   \n",
       "5   [via ZipRecruiter, via LinkedIn, via Nexxt, vi...   \n",
       "6   [Job Summary: The Data Analyst oversees data p...   \n",
       "7   [0 days 21:00:00, 0 days 12:00:00, 0 days 10:0...   \n",
       "8                                         [Full-time]   \n",
       "9                                       [False, True]   \n",
       "10  [2023-08-03 03:00:09.849838, 2023-08-03 03:00:...   \n",
       "11  [nan, 43–48, 18.33–28.20, 66053–70980, 60K–80K...   \n",
       "12                    [nan, an hour, a year, a month]   \n",
       "13  [nan, 43–48  , 18.33–28.20  , 66053–70980  , 6...   \n",
       "14                     [nan, hourly, yearly, monthly]   \n",
       "15  [nan, 89440.0, 38126.399999999994, 66053, 6000...   \n",
       "16  [nan, 99840.0, 58656.0, 70980  , 80000  , 1500...   \n",
       "17  [nan, 94640.0, 48391.200000000004, 68516.5, 70...   \n",
       "18  [Oklahoma, United States, Kansas, Anywhere, Ar...   \n",
       "19  [Data Analyst, Data Engineer, Data Scientist, ...   \n",
       "20                     Column contains multiple lists   \n",
       "21                     Column contains multiple lists   \n",
       "22  [Business, Healthcare, Finance, Other, Technol...   \n",
       "\n",
       "                   range (min, max, mean)  \n",
       "0                              (0, 34132)  \n",
       "1                                    None  \n",
       "2                                    None  \n",
       "3                                    None  \n",
       "4                                    None  \n",
       "5                                    None  \n",
       "6                                    None  \n",
       "7                                    None  \n",
       "8                                    None  \n",
       "9      (False, True, 0.29153998946045645)  \n",
       "10               (2022-11-04, 2023-11-02)  \n",
       "11                                   None  \n",
       "12                                   None  \n",
       "13                                   None  \n",
       "14                                   None  \n",
       "15                                   None  \n",
       "16                                   None  \n",
       "17  (22880.0, 288000.0, 98364.6629434698)  \n",
       "18                                   None  \n",
       "19                                   None  \n",
       "20                                   None  \n",
       "21                                   None  \n",
       "22                                   None  "
      ]
     },
     "execution_count": 257,
     "metadata": {},
     "output_type": "execute_result"
    }
   ],
   "source": [
    "check_columns(jobs_df_cleaned)"
   ]
  },
  {
   "cell_type": "markdown",
   "metadata": {},
   "source": [
    "### Prepped CSV Export / Import"
   ]
  },
  {
   "cell_type": "code",
   "execution_count": 258,
   "metadata": {},
   "outputs": [],
   "source": [
    "# Export as MVP CSV\n",
    "# jobs_df_cleaned.to_csv(\"./support_files/working_docs/jobs_mvp.csv\", index=False)"
   ]
  },
  {
   "cell_type": "code",
   "execution_count": null,
   "metadata": {},
   "outputs": [
    {
     "name": "stdout",
     "output_type": "stream",
     "text": [
      "description_cleaned: <class 'list'>\n",
      "description_tokens: <class 'list'>\n"
     ]
    }
   ],
   "source": [
    "# import ast\n",
    "\n",
    "# # Read in CSV\n",
    "# jobs_df_cleaned = pd.read_csv(\"./support_files/working_docs/jobs_mvp.csv\")\n",
    "\n",
    "\n",
    "# # Convert the strings in 'description_cleaned' and 'description_tokens' back into lists\n",
    "# jobs_df_cleaned['description_cleaned'] = jobs_df_cleaned['description_cleaned'].apply(ast.literal_eval)\n",
    "# jobs_df_cleaned['description_tokens'] = jobs_df_cleaned['description_tokens'].apply(ast.literal_eval)\n",
    "\n",
    "# # Verify description cleaned column was assigned list class\n",
    "# type_of_first_element = type(jobs_df_cleaned.description_cleaned.iloc[0])\n",
    "# print(f'description_cleaned:', type_of_first_element)\n",
    "\n",
    "# # Verify description tokens column was assigned list class\n",
    "# type_of_first_element = type(jobs_df_cleaned.description_tokens.iloc[0])\n",
    "# print(f'description_tokens:', type_of_first_element)\n",
    "\n",
    "# # Make posting created the index and date time\n",
    "# jobs_df_cleaned.set_index('posting_created', inplace=True)\n",
    "# jobs_df_cleaned.index = pd.to_datetime(jobs_df_cleaned.index)"
   ]
  },
  {
   "cell_type": "code",
   "execution_count": 215,
   "metadata": {},
   "outputs": [
    {
     "name": "stdout",
     "output_type": "stream",
     "text": [
      "Total rows: 24669\n",
      "Total columns: 10\n"
     ]
    },
    {
     "data": {
      "text/html": [
       "<div>\n",
       "<style scoped>\n",
       "    .dataframe tbody tr th:only-of-type {\n",
       "        vertical-align: middle;\n",
       "    }\n",
       "\n",
       "    .dataframe tbody tr th {\n",
       "        vertical-align: top;\n",
       "    }\n",
       "\n",
       "    .dataframe thead th {\n",
       "        text-align: right;\n",
       "    }\n",
       "</style>\n",
       "<table border=\"1\" class=\"dataframe\">\n",
       "  <thead>\n",
       "    <tr style=\"text-align: right;\">\n",
       "      <th></th>\n",
       "      <th>col_name</th>\n",
       "      <th>dtype</th>\n",
       "      <th>num_unique</th>\n",
       "      <th>num_null</th>\n",
       "      <th>pct_null</th>\n",
       "      <th>unique_values</th>\n",
       "      <th>range (min, max, mean)</th>\n",
       "    </tr>\n",
       "  </thead>\n",
       "  <tbody>\n",
       "    <tr>\n",
       "      <th>0</th>\n",
       "      <td>index</td>\n",
       "      <td>datetime64[ns]</td>\n",
       "      <td>6892</td>\n",
       "      <td>0</td>\n",
       "      <td>0.00000</td>\n",
       "      <td>DatetimeIndex(['2023-08-02 06:00:00', '2023-08...</td>\n",
       "      <td>(2022-11-03, 2023-11-02)</td>\n",
       "    </tr>\n",
       "    <tr>\n",
       "      <th>1</th>\n",
       "      <td>level_0</td>\n",
       "      <td>int64</td>\n",
       "      <td>24669</td>\n",
       "      <td>0</td>\n",
       "      <td>0.00000</td>\n",
       "      <td>[0, 2, 3, 5, 6, 7, 8, 9, 10, 11, 12, 14, 15, 1...</td>\n",
       "      <td>(0, 34132, 17630.23961246909)</td>\n",
       "    </tr>\n",
       "    <tr>\n",
       "      <th>2</th>\n",
       "      <td>index</td>\n",
       "      <td>int64</td>\n",
       "      <td>24669</td>\n",
       "      <td>0</td>\n",
       "      <td>0.00000</td>\n",
       "      <td>[0, 2, 3, 5, 6, 7, 8, 9, 10, 11, 12, 14, 15, 1...</td>\n",
       "      <td>(0, 34152, 17639.45287607929)</td>\n",
       "    </tr>\n",
       "    <tr>\n",
       "      <th>3</th>\n",
       "      <td>company_name</td>\n",
       "      <td>object</td>\n",
       "      <td>7251</td>\n",
       "      <td>0</td>\n",
       "      <td>0.00000</td>\n",
       "      <td>[Chloeta, ATC, Guidehouse, Oregon Health &amp; Sci...</td>\n",
       "      <td>None</td>\n",
       "    </tr>\n",
       "    <tr>\n",
       "      <th>4</th>\n",
       "      <td>via</td>\n",
       "      <td>object</td>\n",
       "      <td>522</td>\n",
       "      <td>9</td>\n",
       "      <td>0.00036</td>\n",
       "      <td>[via ZipRecruiter, via LinkedIn, via Nexxt, vi...</td>\n",
       "      <td>None</td>\n",
       "    </tr>\n",
       "    <tr>\n",
       "      <th>5</th>\n",
       "      <td>work_from_home</td>\n",
       "      <td>bool</td>\n",
       "      <td>2</td>\n",
       "      <td>0</td>\n",
       "      <td>0.00000</td>\n",
       "      <td>[False, True]</td>\n",
       "      <td>(False, True, 0.29153998946045645)</td>\n",
       "    </tr>\n",
       "    <tr>\n",
       "      <th>6</th>\n",
       "      <td>avg_salary</td>\n",
       "      <td>float64</td>\n",
       "      <td>494</td>\n",
       "      <td>22104</td>\n",
       "      <td>0.89602</td>\n",
       "      <td>[nan, 94640.0, 48391.2, 68516.5, 70000.0, 1250...</td>\n",
       "      <td>(22880.0, 288000.0, 98364.6629434698)</td>\n",
       "    </tr>\n",
       "    <tr>\n",
       "      <th>7</th>\n",
       "      <td>location_cleaned</td>\n",
       "      <td>object</td>\n",
       "      <td>16</td>\n",
       "      <td>22</td>\n",
       "      <td>0.00089</td>\n",
       "      <td>[Oklahoma, United States, Kansas, Anywhere, Ar...</td>\n",
       "      <td>None</td>\n",
       "    </tr>\n",
       "    <tr>\n",
       "      <th>8</th>\n",
       "      <td>description_cleaned</td>\n",
       "      <td>object</td>\n",
       "      <td>ERROR</td>\n",
       "      <td>0</td>\n",
       "      <td>0.00000</td>\n",
       "      <td>Column contains multiple lists</td>\n",
       "      <td>None</td>\n",
       "    </tr>\n",
       "    <tr>\n",
       "      <th>9</th>\n",
       "      <td>description_tokens</td>\n",
       "      <td>object</td>\n",
       "      <td>ERROR</td>\n",
       "      <td>0</td>\n",
       "      <td>0.00000</td>\n",
       "      <td>Column contains multiple lists</td>\n",
       "      <td>None</td>\n",
       "    </tr>\n",
       "    <tr>\n",
       "      <th>10</th>\n",
       "      <td>sector</td>\n",
       "      <td>object</td>\n",
       "      <td>8</td>\n",
       "      <td>0</td>\n",
       "      <td>0.00000</td>\n",
       "      <td>[Business, Healthcare, Finance, Other, Technol...</td>\n",
       "      <td>None</td>\n",
       "    </tr>\n",
       "  </tbody>\n",
       "</table>\n",
       "</div>"
      ],
      "text/plain": [
       "               col_name           dtype num_unique  num_null  pct_null  \\\n",
       "0                 index  datetime64[ns]       6892         0   0.00000   \n",
       "1               level_0           int64      24669         0   0.00000   \n",
       "2                 index           int64      24669         0   0.00000   \n",
       "3          company_name          object       7251         0   0.00000   \n",
       "4                   via          object        522         9   0.00036   \n",
       "5        work_from_home            bool          2         0   0.00000   \n",
       "6            avg_salary         float64        494     22104   0.89602   \n",
       "7      location_cleaned          object         16        22   0.00089   \n",
       "8   description_cleaned          object      ERROR         0   0.00000   \n",
       "9    description_tokens          object      ERROR         0   0.00000   \n",
       "10               sector          object          8         0   0.00000   \n",
       "\n",
       "                                        unique_values  \\\n",
       "0   DatetimeIndex(['2023-08-02 06:00:00', '2023-08...   \n",
       "1   [0, 2, 3, 5, 6, 7, 8, 9, 10, 11, 12, 14, 15, 1...   \n",
       "2   [0, 2, 3, 5, 6, 7, 8, 9, 10, 11, 12, 14, 15, 1...   \n",
       "3   [Chloeta, ATC, Guidehouse, Oregon Health & Sci...   \n",
       "4   [via ZipRecruiter, via LinkedIn, via Nexxt, vi...   \n",
       "5                                       [False, True]   \n",
       "6   [nan, 94640.0, 48391.2, 68516.5, 70000.0, 1250...   \n",
       "7   [Oklahoma, United States, Kansas, Anywhere, Ar...   \n",
       "8                      Column contains multiple lists   \n",
       "9                      Column contains multiple lists   \n",
       "10  [Business, Healthcare, Finance, Other, Technol...   \n",
       "\n",
       "                   range (min, max, mean)  \n",
       "0                (2022-11-03, 2023-11-02)  \n",
       "1           (0, 34132, 17630.23961246909)  \n",
       "2           (0, 34152, 17639.45287607929)  \n",
       "3                                    None  \n",
       "4                                    None  \n",
       "5      (False, True, 0.29153998946045645)  \n",
       "6   (22880.0, 288000.0, 98364.6629434698)  \n",
       "7                                    None  \n",
       "8                                    None  \n",
       "9                                    None  \n",
       "10                                   None  "
      ]
     },
     "execution_count": 215,
     "metadata": {},
     "output_type": "execute_result"
    }
   ],
   "source": [
    "check_columns(jobs_df_cleaned)"
   ]
  },
  {
   "cell_type": "markdown",
   "metadata": {},
   "source": [
    "<div style=\"background-color: #; padding: 0px; \">\n",
    "\n",
    "## <font size='5'><i>Plan → Acquire → Prepare → </i></font> <font size='10'><i>**Explore**</i></font> <font size='5'><i>→ Model → Deliver</i></font>\n",
    "---"
   ]
  },
  {
   "cell_type": "markdown",
   "metadata": {},
   "source": [
    "### Questions"
   ]
  },
  {
   "cell_type": "markdown",
   "metadata": {},
   "source": [
    "1. Most Common Words in READMEs\n",
    "\n",
    "2. README Length by Programming Language\n",
    "\n",
    "3. Number of Unique Words by Programming Language\n",
    "\n",
    "4. Words Uniquely Identifying a Programming Language\n",
    "\n",
    "5. Further Exploration"
   ]
  },
  {
   "cell_type": "markdown",
   "metadata": {},
   "source": [
    "### Train, Validate, & Test Splits"
   ]
  },
  {
   "cell_type": "code",
   "execution_count": 12,
   "metadata": {},
   "outputs": [
    {
     "name": "stdout",
     "output_type": "stream",
     "text": [
      "Train: 421 (60% of 703)\n",
      "Validate: 141 (20% of 703)\n",
      "Test: 141 (20% of 703)\n"
     ]
    }
   ],
   "source": [
    "from sklearn.model_selection import train_test_split\n",
    "\n",
    "# Split the data into train and test sets (Our validate will be generated during GridSearch)\n",
    "train, test = train_test_split(jobs_df_cleaned, train_size=0.8, test_size=0.2, random_state=321)\n",
    "\n",
    "# Print sizes, length of set and ratio of total\n",
    "print(f\"Train size: {len(train)} ({len(train) / len(jobs_df_cleaned):.2%})\")\n",
    "print(f\"Test size: {len(test)} ({len(test) / len(jobs_df_cleaned):.2%})\")"
   ]
  },
  {
   "cell_type": "code",
   "execution_count": null,
   "metadata": {},
   "outputs": [],
   "source": [
    "jobs_df_cleaned = train.copy()"
   ]
  },
  {
   "cell_type": "code",
   "execution_count": 143,
   "metadata": {},
   "outputs": [],
   "source": [
    "import matplotlib.pyplot as plt\n",
    "import seaborn as sns\n",
    "\n",
    "def eda_plot(df, column, topn=20):\n",
    "    \"\"\"\n",
    "    This function takes a DataFrame, a column name, and a number as parameters. \n",
    "    It creates a bar plot of the top 'n' most frequent values in the specified column.\n",
    "\n",
    "    Parameters:\n",
    "    df (DataFrame): The input DataFrame.\n",
    "    column (str): The name of the column to plot.\n",
    "    topn (int): The number of top values to include in the plot.\n",
    "\n",
    "    Returns:\n",
    "    None\n",
    "    \"\"\"\n",
    "    \n",
    "    # Create a figure\n",
    "    plt.figure(figsize=(12, 4))\n",
    "    \n",
    "    # Get the top 'n' most frequent values in the column\n",
    "    top_values = df[column].value_counts().nlargest(topn)\n",
    "    \n",
    "    # Create a bar plot of the top values\n",
    "    # Use the 'hsv' colormap to get different colors for each bar\n",
    "    sns.barplot(x=top_values.index, y=top_values.values, palette=\"hsv\")\n",
    "    \n",
    "    # Set the title and labels\n",
    "    plt.title(f\"'{column}' column value counts\", fontsize=20)\n",
    "    plt.ylabel(\"Counts\", fontsize=15)\n",
    "    plt.xlabel(column, fontsize=15)\n",
    "    \n",
    "    # Rotate the x-axis labels for better readability\n",
    "    plt.xticks(rotation=45, ha=\"right\")\n",
    "\n",
    "    display(jobs_df_cleaned[column].value_counts(dropna=True).head(topn))\n",
    "    \n",
    "    # Display the plot\n",
    "    plt.show()\n"
   ]
  },
  {
   "cell_type": "markdown",
   "metadata": {},
   "source": [
    "### What companies have the most job postings?"
   ]
  },
  {
   "cell_type": "markdown",
   "metadata": {},
   "source": [
    "What the function does"
   ]
  },
  {
   "cell_type": "code",
   "execution_count": 144,
   "metadata": {},
   "outputs": [
    {
     "data": {
      "text/plain": [
       "company_name\n",
       "Walmart                             1136\n",
       "Talentify.io                         795\n",
       "EDWARD JONES                         732\n",
       "Corporate                            580\n",
       "Cox Communications                   524\n",
       "Centene Corporation                  192\n",
       "Insight Global                       181\n",
       "Staffigo Technical Services, LLC     167\n",
       "Dice                                 135\n",
       "Jobot                                107\n",
       "Name: count, dtype: int64"
      ]
     },
     "metadata": {},
     "output_type": "display_data"
    },
    {
     "data": {
      "image/png": "[encoded data removed]",
      "text/plain": [
       "<Figure size 1200x400 with 1 Axes>"
      ]
     },
     "metadata": {},
     "output_type": "display_data"
    }
   ],
   "source": [
    "eda_plot(jobs_df_cleaned, 'company_name', topn=10)"
   ]
  },
  {
   "cell_type": "markdown",
   "metadata": {},
   "source": [
    "Summary"
   ]
  },
  {
   "cell_type": "markdown",
   "metadata": {},
   "source": [
    "### What is the location spread for our dataset?"
   ]
  },
  {
   "cell_type": "markdown",
   "metadata": {},
   "source": [
    "What the function does"
   ]
  },
  {
   "cell_type": "code",
   "execution_count": 151,
   "metadata": {},
   "outputs": [
    {
     "data": {
      "text/plain": [
       "location_cleaned\n",
       "United States         8299\n",
       "Anywhere              7192\n",
       "Missouri              3542\n",
       "Oklahoma              2006\n",
       "Kansas                1786\n",
       "Arkansas              1608\n",
       "California              99\n",
       "Multiple Locations      44\n",
       "Name: count, dtype: int64"
      ]
     },
     "metadata": {},
     "output_type": "display_data"
    },
    {
     "data": {
      "image/png": "[encoded data removed]",
      "text/plain": [
       "<Figure size 1200x400 with 1 Axes>"
      ]
     },
     "metadata": {},
     "output_type": "display_data"
    }
   ],
   "source": [
    "eda_plot(jobs_df_cleaned, 'location_cleaned', topn=8)"
   ]
  },
  {
   "cell_type": "markdown",
   "metadata": {},
   "source": [
    "### Within the Google Jobs search, which site has the most postings?"
   ]
  },
  {
   "cell_type": "markdown",
   "metadata": {},
   "source": [
    "What the function does"
   ]
  },
  {
   "cell_type": "code",
   "execution_count": 145,
   "metadata": {},
   "outputs": [
    {
     "data": {
      "text/plain": [
       "via\n",
       "via LinkedIn        8315\n",
       "via BeBee           3224\n",
       "via Trabajo.org     2647\n",
       "via ZipRecruiter    1962\n",
       "via Indeed          1256\n",
       "Name: count, dtype: int64"
      ]
     },
     "metadata": {},
     "output_type": "display_data"
    },
    {
     "data": {
      "image/png": "[encoded data removed]",
      "text/plain": [
       "<Figure size 1200x400 with 1 Axes>"
      ]
     },
     "metadata": {},
     "output_type": "display_data"
    }
   ],
   "source": [
    "eda_plot(jobs_df_cleaned, 'via', topn=5)"
   ]
  },
  {
   "cell_type": "markdown",
   "metadata": {},
   "source": [
    "### What words are most common in data job descriptions?"
   ]
  },
  {
   "cell_type": "markdown",
   "metadata": {},
   "source": [
    "What the function does"
   ]
  },
  {
   "cell_type": "code",
   "execution_count": 152,
   "metadata": {},
   "outputs": [],
   "source": [
    "import pandas as pd\n",
    "from collections import Counter\n",
    "import matplotlib.pyplot as plt\n",
    "import seaborn as sns\n",
    "\n",
    "def plot_most_common_words(df, column_name, n):\n",
    "    \"\"\"\n",
    "    Get the n most common words from a specific column of a dataframe and plot them.\n",
    "    \n",
    "    Parameters:\n",
    "    - df (DataFrame): The dataframe containing the data.\n",
    "    - column_name (str): The name of the column containing lists of words.\n",
    "    - n (int): The number of most common words to retrieve.\n",
    "    \"\"\"\n",
    "    \n",
    "    # Ensure the column is interpreted as lists, but only if the value is a string\n",
    "    df[column_name] = df[column_name].apply(lambda x: eval(x) if isinstance(x, str) else x)\n",
    "\n",
    "    # Get the frequency of each word in each row\n",
    "    word_frequency = df[column_name].apply(lambda words_list: {word: 1 for word in set(words_list)})\n",
    "    \n",
    "    # Combine all the dictionaries into one big dictionary\n",
    "    combined_frequency = Counter({key: 0 for key in set().union(*word_frequency)})\n",
    "    for freq in word_frequency:\n",
    "        combined_frequency.update(freq)\n",
    "\n",
    "    # Sort the dictionary by values in descending order and get the top n words\n",
    "    most_common_words = combined_frequency.most_common(n)\n",
    "\n",
    "    # Convert to DataFrame\n",
    "    result_df = pd.DataFrame(most_common_words, columns=['word', 'count'])\n",
    "\n",
    "    # Sort by highest occurence first\n",
    "    result_df = result_df.sort_values(by='count', ascending=True)\n",
    "    \n",
    "    # Calculate the frequency\n",
    "    total_rows = df.shape[0]\n",
    "    result_df['frequency'] = result_df['count'] / total_rows\n",
    "\n",
    "    # Generate a list of colors\n",
    "    colors = sns.color_palette('hsv', len(result_df))\n",
    "\n",
    "    # Plot common words\n",
    "    plt.figure(figsize=(15, 10))\n",
    "    plt.barh(result_df['word'], result_df['count'], color=colors)\n",
    "    plt.title('Most Common Words in Job Descriptions')\n",
    "    plt.xlabel('Count')\n",
    "    plt.ylabel('Word')\n",
    "    plt.show()"
   ]
  },
  {
   "cell_type": "code",
   "execution_count": 153,
   "metadata": {},
   "outputs": [
    {
     "data": {
      "image/png": "[encoded data removed]",
      "text/plain": [
       "<Figure size 1500x1000 with 1 Axes>"
      ]
     },
     "metadata": {},
     "output_type": "display_data"
    }
   ],
   "source": [
    "plot_most_common_words(jobs_df_cleaned, 'description_cleaned', 20)"
   ]
  },
  {
   "cell_type": "markdown",
   "metadata": {},
   "source": [
    "### Do a majority of places allow work from home or want you in the work place?\n",
    "<i> Remember this is full time only </i>"
   ]
  },
  {
   "cell_type": "markdown",
   "metadata": {},
   "source": [
    "What the function does"
   ]
  },
  {
   "cell_type": "code",
   "execution_count": 154,
   "metadata": {},
   "outputs": [
    {
     "data": {
      "text/plain": [
       "work_from_home\n",
       "False    17477\n",
       "True      7192\n",
       "Name: count, dtype: int64"
      ]
     },
     "metadata": {},
     "output_type": "display_data"
    },
    {
     "data": {
      "image/png": "[encoded data removed]",
      "text/plain": [
       "<Figure size 1200x400 with 1 Axes>"
      ]
     },
     "metadata": {},
     "output_type": "display_data"
    }
   ],
   "source": [
    "eda_plot(jobs_df_cleaned, 'work_from_home', topn=2)"
   ]
  },
  {
   "cell_type": "markdown",
   "metadata": {},
   "source": [
    "### What sectors are hiring the most data analysts?"
   ]
  },
  {
   "cell_type": "markdown",
   "metadata": {},
   "source": [
    "What the function does"
   ]
  },
  {
   "cell_type": "code",
   "execution_count": 155,
   "metadata": {},
   "outputs": [
    {
     "data": {
      "text/plain": [
       "sector\n",
       "Business       14684\n",
       "Finance         5769\n",
       "Other           1711\n",
       "Technology      1090\n",
       "Healthcare       811\n",
       "Education        550\n",
       "Retail            41\n",
       "Real Estate       13\n",
       "Name: count, dtype: int64"
      ]
     },
     "metadata": {},
     "output_type": "display_data"
    },
    {
     "data": {
      "image/png": "[encoded data removed]",
      "text/plain": [
       "<Figure size 1200x400 with 1 Axes>"
      ]
     },
     "metadata": {},
     "output_type": "display_data"
    }
   ],
   "source": [
    "eda_plot(jobs_df_cleaned[jobs_df_cleaned['sector'] != 'Other'], 'sector', topn=10)"
   ]
  },
  {
   "cell_type": "markdown",
   "metadata": {},
   "source": [
    "### What are the overall top things to learn for data jobs?"
   ]
  },
  {
   "cell_type": "code",
   "execution_count": null,
   "metadata": {},
   "outputs": [],
   "source": [
    "import numpy as np\n",
    "\n",
    "def filtered_keywords(jobs_filtered, keywords, title=None, head=10):\n",
    "    # get keywords in a column\n",
    "    count_keywords = pd.DataFrame(jobs_filtered.description_tokens.sum()).value_counts().rename_axis('keywords').reset_index(name='counts')\n",
    "\n",
    "    # get frequency of occurence of word (as word only appears once per line)\n",
    "    length = len(jobs_filtered) # number of job postings\n",
    "    count_keywords['percentage'] = 100 * count_keywords.counts / length\n",
    "\n",
    "    # plot the results\n",
    "    count_keywords = count_keywords[count_keywords.keywords.isin(keywords)]\n",
    "    count_keywords = count_keywords.head(head)\n",
    "    g = plt.bar(x=\"keywords\", height=\"percentage\", data=count_keywords , color=np.random.rand(len(count_keywords.keywords), 3))\n",
    "    plt.xlabel(\"\")\n",
    "    plt.ylabel(\"Likelyhood to be in job posting (%)\")\n",
    "    plt.xticks(rotation = 45, ha='right')\n",
    "    plt.title(f'Top {head} {title} for Data Jobs') \n",
    "    plt.show(g)"
   ]
  },
  {
   "cell_type": "code",
   "execution_count": 165,
   "metadata": {},
   "outputs": [
    {
     "data": {
      "image/png": "[encoded data removed]",
      "text/plain": [
       "<Figure size 640x480 with 1 Axes>"
      ]
     },
     "metadata": {},
     "output_type": "display_data"
    }
   ],
   "source": [
    "filtered_keywords(jobs_df_cleaned, keywords, title=\"Tools\")"
   ]
  },
  {
   "cell_type": "markdown",
   "metadata": {},
   "source": [
    "### What are the most common programming languages in data jobs?"
   ]
  },
  {
   "cell_type": "code",
   "execution_count": 162,
   "metadata": {},
   "outputs": [
    {
     "data": {
      "image/png": "[encoded data removed]",
      "text/plain": [
       "<Figure size 640x480 with 1 Axes>"
      ]
     },
     "metadata": {},
     "output_type": "display_data"
    }
   ],
   "source": [
    "\n",
    "filtered_keywords(jobs_df_cleaned, keywords_programming, title=\"Programming Languages\", head=10)"
   ]
  },
  {
   "cell_type": "markdown",
   "metadata": {},
   "source": [
    "Summary"
   ]
  },
  {
   "cell_type": "markdown",
   "metadata": {},
   "source": [
    "### What are the most common Machine Learning principles for data jobs?"
   ]
  },
  {
   "cell_type": "markdown",
   "metadata": {},
   "source": [
    "What the function does"
   ]
  },
  {
   "cell_type": "code",
   "execution_count": 163,
   "metadata": {},
   "outputs": [
    {
     "data": {
      "image/png": "[encoded data removed]",
      "text/plain": [
       "<Figure size 640x480 with 1 Axes>"
      ]
     },
     "metadata": {},
     "output_type": "display_data"
    }
   ],
   "source": [
    "filtered_keywords(jobs_df_cleaned, keywords_ML_Algorithms, title=\"Top ML Algorithms Data Analysts\")"
   ]
  },
  {
   "cell_type": "markdown",
   "metadata": {},
   "source": [
    "### When do we see most data jobs being posted?"
   ]
  },
  {
   "cell_type": "code",
   "execution_count": 183,
   "metadata": {},
   "outputs": [],
   "source": [
    "import pandas as pd\n",
    "import matplotlib.pyplot as plt\n",
    "import matplotlib.dates as mdates\n",
    "\n",
    "def plot_monthly_postings(df):\n",
    "    \"\"\"\n",
    "    Plot the number of postings per month based on the DataFrame's datetime index.\n",
    "\n",
    "    Parameters:\n",
    "    - df (DataFrame): The DataFrame containing the data.\n",
    "    \"\"\"\n",
    "\n",
    "    # Resample the datetime index to monthly frequency and count the number of postings\n",
    "    monthly_postings = df.resample('M').size()\n",
    "\n",
    "    # Change the format of monthly_postings index to be MMM-YYYY\n",
    "    monthly_postings.index = monthly_postings.index.strftime('%b-%Y')\n",
    "\n",
    "    # Drop November 2023\n",
    "    monthly_postings = monthly_postings.drop('Nov-2023')\n",
    "\n",
    "    # Plot the monthly postings\n",
    "    fig, ax = plt.subplots(figsize=(12, 4))\n",
    "    monthly_postings.plot(kind=\"bar\", ax=ax)\n",
    "    ax.set_title(\"Value counts by month\")\n",
    "    ax.set_ylabel(\"Counts\")\n",
    "\n",
    "    plt.xticks(rotation=45, ha=\"right\")\n",
    "    plt.show()"
   ]
  },
  {
   "cell_type": "code",
   "execution_count": 184,
   "metadata": {},
   "outputs": [
    {
     "data": {
      "image/png": "[encoded data removed]",
      "text/plain": [
       "<Figure size 1200x400 with 1 Axes>"
      ]
     },
     "metadata": {},
     "output_type": "display_data"
    }
   ],
   "source": [
    "plot_monthly_postings(jobs_df_cleaned)"
   ]
  },
  {
   "cell_type": "markdown",
   "metadata": {},
   "source": [
    "What the function does"
   ]
  },
  {
   "cell_type": "code",
   "execution_count": 186,
   "metadata": {},
   "outputs": [],
   "source": [
    "def get_top_skills(df, qty):\n",
    "    \"\"\"\n",
    "    This function takes a DataFrame and a quantity as parameters. \n",
    "    It returns a DataFrame with the top skills by number of postings, their frequency, and their average yearly salary. \n",
    "    The quantity parameter determines the number of top skills to return.\n",
    "\n",
    "    Parameters:\n",
    "    df (DataFrame): The input DataFrame.\n",
    "    qty (int): The number of top skills to return.\n",
    "\n",
    "    Returns:\n",
    "    DataFrame: A DataFrame with the top skills, their number of postings, their frequency, and their average yearly salary.\n",
    "    \"\"\"\n",
    "    \n",
    "    # Initialize an empty dictionary to store the skills and their counts\n",
    "    skills_counts = {}\n",
    "    \n",
    "    # Loop over the values in the 'description_tokens' column\n",
    "    for val in df.description_tokens.values:\n",
    "        # Convert the list of skills in each posting to a set to remove duplicates\n",
    "        unique_skills = set(val)\n",
    "        # Increment the count for each unique skill\n",
    "        for skill in unique_skills:\n",
    "            if skill in skills_counts:\n",
    "                skills_counts[skill] += 1\n",
    "            else:\n",
    "                skills_counts[skill] = 1\n",
    "    \n",
    "    # Get the top skills and their counts\n",
    "    top_skill_count = sorted(skills_counts.items(), key=lambda x: -x[1])[:qty]\n",
    "    \n",
    "    # Separate the skills and counts into two lists\n",
    "    top_skills = list(map(lambda x: x[0], top_skill_count))\n",
    "    top_counts = list(map(lambda x: x[1], top_skill_count))\n",
    "    \n",
    "    # Initialize an empty list to store the average salaries\n",
    "    salaries = []\n",
    "    \n",
    "    # Loop over the top skills and calculate their average salary\n",
    "    for skill in top_skills: \n",
    "        skill_df = df[df.description_tokens.apply(lambda x: skill in x)]\n",
    "        if skill_df.avg_salary.isna().all():  # If all salaries for this skill are NaN\n",
    "            salaries.append(np.nan)  # Append NaN to the salaries list\n",
    "        else:\n",
    "            salaries.append(skill_df.avg_salary.mean())\n",
    "    \n",
    "    # Create a DataFrame with the top skills, their number of postings, and their average yearly salary\n",
    "    top_skills_df = pd.DataFrame({\n",
    "        \"skill\": top_skills, \n",
    "        \"number_of_postings\": top_counts,\n",
    "        \"avg_yearly_salary\": [round(s) if s == s else np.nan for s in salaries]  # Only round the salary if it is not NaN\n",
    "    })\n",
    "    \n",
    "    # Calculate the frequency of each skill\n",
    "    top_skills_df['frequency (%)'] = round((top_skills_df['number_of_postings'] / df.shape[0]) * 100, 2)\n",
    "    \n",
    "    # Sort the DataFrame by average yearly salary in descending order\n",
    "    top_skills_df = top_skills_df.sort_values(\"number_of_postings\", ascending=False)\n",
    "\n",
    "    # Remove 'none'\n",
    "    top_skills_df = top_skills_df[top_skills_df['skill'] != 'none']\n",
    "\n",
    "    # Round values to 2 decimals\n",
    "    top_skills_df['avg_yearly_salary'] = top_skills_df['avg_yearly_salary'].round()\n",
    "    \n",
    "    return top_skills_df"
   ]
  },
  {
   "cell_type": "code",
   "execution_count": null,
   "metadata": {},
   "outputs": [
    {
     "data": {
      "application/vnd.jupyter.widget-view+json": {
       "model_id": "1833fe7946904f35b9e978a63daf0cc3",
       "version_major": 2,
       "version_minor": 0
      },
      "text/plain": [
       "Dropdown(description='Skill Category:', options=(('All Skills', ['sql', 'python', 'r', 'c', 'c#', 'javascript'…"
      ]
     },
     "metadata": {},
     "output_type": "display_data"
    },
    {
     "data": {
      "application/vnd.jupyter.widget-view+json": {
       "model_id": "5dc7ae79262a44e1afac085e3f288ba5",
       "version_major": 2,
       "version_minor": 0
      },
      "text/plain": [
       "IntSlider(value=10, description='Number of Skills:', max=50, min=1)"
      ]
     },
     "metadata": {},
     "output_type": "display_data"
    },
    {
     "data": {
      "application/vnd.jupyter.widget-view+json": {
       "model_id": "fa9b9a0456504d79b095433e1a8828b7",
       "version_major": 2,
       "version_minor": 0
      },
      "text/plain": [
       "Button(description='Plot', style=ButtonStyle())"
      ]
     },
     "metadata": {},
     "output_type": "display_data"
    }
   ],
   "source": [
    "import ipywidgets as widgets\n",
    "from IPython.display import display, clear_output\n",
    "\n",
    "# Create a dropdown selector for the skill category\n",
    "skill_list_dropdown = widgets.Dropdown(\n",
    "    options=[\n",
    "        ('All Skills', keywords), \n",
    "        ('Programming Languages', keywords_programming), \n",
    "        ('ML Algorithms', keywords_ML_Algorithms), \n",
    "        ('Visualization Tools', keyword_viz + keyword_bi + keyword_bi_2), \n",
    "        ('Big Data & Cloud', keywords_cloud_tools + keyword_big_data)\n",
    "    ],\n",
    "    value=keywords,\n",
    "    description='Skill Category:',\n",
    ")\n",
    "\n",
    "# Create a slider to select the number of skills to plot\n",
    "num_skills_slider = widgets.IntSlider(\n",
    "    value=10,\n",
    "    min=1,\n",
    "    max=50,\n",
    "    step=1,\n",
    "    description='Number of Skills:',\n",
    ")\n",
    "\n",
    "plot_button = widgets.Button(description='Plot')\n",
    "reset_button = widgets.Button(description='Reset')\n",
    "\n",
    "def plot_skills_data(top_skills_df):\n",
    "    plot_button.on_click(update_plot)\n",
    "    reset_button.on_click(reset_selection)\n",
    "\n",
    "    display(skill_list_dropdown, num_skills_slider, plot_button)\n",
    "\n",
    "def update_plot(b):\n",
    "    clear_output(wait=True)\n",
    "    # Filter DataFrame based on selected skills\n",
    "    df = top_skills_df[top_skills_df['skill'].isin(skill_list_dropdown.value)]\n",
    "\n",
    "    # Select top N skills based on frequency\n",
    "    df = df.nlargest(num_skills_slider.value, 'frequency (%)')\n",
    "\n",
    "    fig = px.bar(df, x='skill', y='frequency (%)',\n",
    "                    color='avg_yearly_salary', color_continuous_scale='Blues')\n",
    "\n",
    "    fig.update_traces(textfont_size=20,\n",
    "                        hovertemplate='''\n",
    "    <b>Skill:</b> %{x} <br> \\\n",
    "    <b>Frequency:</b> %{y}% <br> \\\n",
    "    <b>Average Salary:</b> $%{marker.color}<extra></extra>''',\n",
    "                    hoverlabel=dict(font_size=20))\n",
    "\n",
    "    fig.update_layout(\n",
    "        title_text=\"Data Jobs - Salaries and Popularity<br><i style='font-size: 15px;'>Hover for details</i>\", \n",
    "        coloraxis_colorbar=dict(title=\"Average Annual Salary\"),\n",
    "        height=400,\n",
    "        width=1200,\n",
    "    )\n",
    "\n",
    "    fig.show()\n",
    "    display(reset_button)\n",
    "\n",
    "def reset_selection(b):\n",
    "    clear_output(wait=True)\n",
    "    plot_skills_data(top_skills_df)\n",
    "\n",
    "plot_skills_data(top_skills_df)"
   ]
  },
  {
   "cell_type": "markdown",
   "metadata": {},
   "source": [
    "### What are top skills overall?"
   ]
  },
  {
   "cell_type": "code",
   "execution_count": 209,
   "metadata": {},
   "outputs": [
    {
     "data": {
      "application/vnd.plotly.v1+json": {
       "config": {
        "plotlyServerURL": "https://plot.ly"
       },
       "data": [
        {
         "alignmentgroup": "True",
         "hoverlabel": {
          "font": {
           "size": 20
          }
         },
         "hovertemplate": "\n    <b>Skill:</b> %{x} <br>     <b>Frequency:</b> %{y}% <br>     <b>Average Salary:</b> $%{marker.color}<extra></extra>",
         "legendgroup": "",
         "marker": {
          "color": [
           100564,
           112009,
           105394,
           94600,
           134068,
           95965,
           111588,
           95515,
           122184,
           137930,
           83901,
           102124,
           115328,
           101712,
           81657,
           166101,
           93001,
           112190,
           77794
          ],
          "coloraxis": "coloraxis",
          "pattern": {
           "shape": ""
          }
         },
         "name": "",
         "offsetgroup": "",
         "orientation": "v",
         "showlegend": false,
         "textfont": {
          "size": 20
         },
         "textposition": "auto",
         "type": "bar",
         "x": [
          "sql",
          "python",
          "r",
          "sas",
          "scala",
          "go",
          "c",
          "vba",
          "nosql",
          "java",
          "javascript",
          "matlab",
          "pl/sql",
          "t-sql",
          "crystal",
          "c++",
          "html",
          "visual_basic",
          "powershell"
         ],
         "xaxis": "x",
         "y": [
          59.11,
          33.35,
          21.55,
          11.13,
          4.59,
          3.68,
          3.19,
          3.14,
          3.08,
          2.68,
          2.38,
          1.2,
          1.18,
          1.13,
          1.11,
          1.03,
          0.95,
          0.6,
          0.57
         ],
         "yaxis": "y"
        }
       ],
       "layout": {
        "barmode": "relative",
        "coloraxis": {
         "colorbar": {
          "title": {
           "text": "Average Annual Salary"
          }
         },
         "colorscale": [
          [
           0,
           "rgb(247,251,255)"
          ],
          [
           0.125,
           "rgb(222,235,247)"
          ],
          [
           0.25,
           "rgb(198,219,239)"
          ],
          [
           0.375,
           "rgb(158,202,225)"
          ],
          [
           0.5,
           "rgb(107,174,214)"
          ],
          [
           0.625,
           "rgb(66,146,198)"
          ],
          [
           0.75,
           "rgb(33,113,181)"
          ],
          [
           0.875,
           "rgb(8,81,156)"
          ],
          [
           1,
           "rgb(8,48,107)"
          ]
         ]
        },
        "height": 400,
        "legend": {
         "tracegroupgap": 0
        },
        "margin": {
         "t": 60
        },
        "template": {
         "data": {
          "bar": [
           {
            "error_x": {
             "color": "#2a3f5f"
            },
            "error_y": {
             "color": "#2a3f5f"
            },
            "marker": {
             "line": {
              "color": "#E5ECF6",
              "width": 0.5
             },
             "pattern": {
              "fillmode": "overlay",
              "size": 10,
              "solidity": 0.2
             }
            },
            "type": "bar"
           }
          ],
          "barpolar": [
           {
            "marker": {
             "line": {
              "color": "#E5ECF6",
              "width": 0.5
             },
             "pattern": {
              "fillmode": "overlay",
              "size": 10,
              "solidity": 0.2
             }
            },
            "type": "barpolar"
           }
          ],
          "carpet": [
           {
            "aaxis": {
             "endlinecolor": "#2a3f5f",
             "gridcolor": "white",
             "linecolor": "white",
             "minorgridcolor": "white",
             "startlinecolor": "#2a3f5f"
            },
            "baxis": {
             "endlinecolor": "#2a3f5f",
             "gridcolor": "white",
             "linecolor": "white",
             "minorgridcolor": "white",
             "startlinecolor": "#2a3f5f"
            },
            "type": "carpet"
           }
          ],
          "choropleth": [
           {
            "colorbar": {
             "outlinewidth": 0,
             "ticks": ""
            },
            "type": "choropleth"
           }
          ],
          "contour": [
           {
            "colorbar": {
             "outlinewidth": 0,
             "ticks": ""
            },
            "colorscale": [
             [
              0,
              "#0d0887"
             ],
             [
              0.1111111111111111,
              "#46039f"
             ],
             [
              0.2222222222222222,
              "#7201a8"
             ],
             [
              0.3333333333333333,
              "#9c179e"
             ],
             [
              0.4444444444444444,
              "#bd3786"
             ],
             [
              0.5555555555555556,
              "#d8576b"
             ],
             [
              0.6666666666666666,
              "#ed7953"
             ],
             [
              0.7777777777777778,
              "#fb9f3a"
             ],
             [
              0.8888888888888888,
              "#fdca26"
             ],
             [
              1,
              "#f0f921"
             ]
            ],
            "type": "contour"
           }
          ],
          "contourcarpet": [
           {
            "colorbar": {
             "outlinewidth": 0,
             "ticks": ""
            },
            "type": "contourcarpet"
           }
          ],
          "heatmap": [
           {
            "colorbar": {
             "outlinewidth": 0,
             "ticks": ""
            },
            "colorscale": [
             [
              0,
              "#0d0887"
             ],
             [
              0.1111111111111111,
              "#46039f"
             ],
             [
              0.2222222222222222,
              "#7201a8"
             ],
             [
              0.3333333333333333,
              "#9c179e"
             ],
             [
              0.4444444444444444,
              "#bd3786"
             ],
             [
              0.5555555555555556,
              "#d8576b"
             ],
             [
              0.6666666666666666,
              "#ed7953"
             ],
             [
              0.7777777777777778,
              "#fb9f3a"
             ],
             [
              0.8888888888888888,
              "#fdca26"
             ],
             [
              1,
              "#f0f921"
             ]
            ],
            "type": "heatmap"
           }
          ],
          "heatmapgl": [
           {
            "colorbar": {
             "outlinewidth": 0,
             "ticks": ""
            },
            "colorscale": [
             [
              0,
              "#0d0887"
             ],
             [
              0.1111111111111111,
              "#46039f"
             ],
             [
              0.2222222222222222,
              "#7201a8"
             ],
             [
              0.3333333333333333,
              "#9c179e"
             ],
             [
              0.4444444444444444,
              "#bd3786"
             ],
             [
              0.5555555555555556,
              "#d8576b"
             ],
             [
              0.6666666666666666,
              "#ed7953"
             ],
             [
              0.7777777777777778,
              "#fb9f3a"
             ],
             [
              0.8888888888888888,
              "#fdca26"
             ],
             [
              1,
              "#f0f921"
             ]
            ],
            "type": "heatmapgl"
           }
          ],
          "histogram": [
           {
            "marker": {
             "pattern": {
              "fillmode": "overlay",
              "size": 10,
              "solidity": 0.2
             }
            },
            "type": "histogram"
           }
          ],
          "histogram2d": [
           {
            "colorbar": {
             "outlinewidth": 0,
             "ticks": ""
            },
            "colorscale": [
             [
              0,
              "#0d0887"
             ],
             [
              0.1111111111111111,
              "#46039f"
             ],
             [
              0.2222222222222222,
              "#7201a8"
             ],
             [
              0.3333333333333333,
              "#9c179e"
             ],
             [
              0.4444444444444444,
              "#bd3786"
             ],
             [
              0.5555555555555556,
              "#d8576b"
             ],
             [
              0.6666666666666666,
              "#ed7953"
             ],
             [
              0.7777777777777778,
              "#fb9f3a"
             ],
             [
              0.8888888888888888,
              "#fdca26"
             ],
             [
              1,
              "#f0f921"
             ]
            ],
            "type": "histogram2d"
           }
          ],
          "histogram2dcontour": [
           {
            "colorbar": {
             "outlinewidth": 0,
             "ticks": ""
            },
            "colorscale": [
             [
              0,
              "#0d0887"
             ],
             [
              0.1111111111111111,
              "#46039f"
             ],
             [
              0.2222222222222222,
              "#7201a8"
             ],
             [
              0.3333333333333333,
              "#9c179e"
             ],
             [
              0.4444444444444444,
              "#bd3786"
             ],
             [
              0.5555555555555556,
              "#d8576b"
             ],
             [
              0.6666666666666666,
              "#ed7953"
             ],
             [
              0.7777777777777778,
              "#fb9f3a"
             ],
             [
              0.8888888888888888,
              "#fdca26"
             ],
             [
              1,
              "#f0f921"
             ]
            ],
            "type": "histogram2dcontour"
           }
          ],
          "mesh3d": [
           {
            "colorbar": {
             "outlinewidth": 0,
             "ticks": ""
            },
            "type": "mesh3d"
           }
          ],
          "parcoords": [
           {
            "line": {
             "colorbar": {
              "outlinewidth": 0,
              "ticks": ""
             }
            },
            "type": "parcoords"
           }
          ],
          "pie": [
           {
            "automargin": true,
            "type": "pie"
           }
          ],
          "scatter": [
           {
            "fillpattern": {
             "fillmode": "overlay",
             "size": 10,
             "solidity": 0.2
            },
            "type": "scatter"
           }
          ],
          "scatter3d": [
           {
            "line": {
             "colorbar": {
              "outlinewidth": 0,
              "ticks": ""
             }
            },
            "marker": {
             "colorbar": {
              "outlinewidth": 0,
              "ticks": ""
             }
            },
            "type": "scatter3d"
           }
          ],
          "scattercarpet": [
           {
            "marker": {
             "colorbar": {
              "outlinewidth": 0,
              "ticks": ""
             }
            },
            "type": "scattercarpet"
           }
          ],
          "scattergeo": [
           {
            "marker": {
             "colorbar": {
              "outlinewidth": 0,
              "ticks": ""
             }
            },
            "type": "scattergeo"
           }
          ],
          "scattergl": [
           {
            "marker": {
             "colorbar": {
              "outlinewidth": 0,
              "ticks": ""
             }
            },
            "type": "scattergl"
           }
          ],
          "scattermapbox": [
           {
            "marker": {
             "colorbar": {
              "outlinewidth": 0,
              "ticks": ""
             }
            },
            "type": "scattermapbox"
           }
          ],
          "scatterpolar": [
           {
            "marker": {
             "colorbar": {
              "outlinewidth": 0,
              "ticks": ""
             }
            },
            "type": "scatterpolar"
           }
          ],
          "scatterpolargl": [
           {
            "marker": {
             "colorbar": {
              "outlinewidth": 0,
              "ticks": ""
             }
            },
            "type": "scatterpolargl"
           }
          ],
          "scatterternary": [
           {
            "marker": {
             "colorbar": {
              "outlinewidth": 0,
              "ticks": ""
             }
            },
            "type": "scatterternary"
           }
          ],
          "surface": [
           {
            "colorbar": {
             "outlinewidth": 0,
             "ticks": ""
            },
            "colorscale": [
             [
              0,
              "#0d0887"
             ],
             [
              0.1111111111111111,
              "#46039f"
             ],
             [
              0.2222222222222222,
              "#7201a8"
             ],
             [
              0.3333333333333333,
              "#9c179e"
             ],
             [
              0.4444444444444444,
              "#bd3786"
             ],
             [
              0.5555555555555556,
              "#d8576b"
             ],
             [
              0.6666666666666666,
              "#ed7953"
             ],
             [
              0.7777777777777778,
              "#fb9f3a"
             ],
             [
              0.8888888888888888,
              "#fdca26"
             ],
             [
              1,
              "#f0f921"
             ]
            ],
            "type": "surface"
           }
          ],
          "table": [
           {
            "cells": {
             "fill": {
              "color": "#EBF0F8"
             },
             "line": {
              "color": "white"
             }
            },
            "header": {
             "fill": {
              "color": "#C8D4E3"
             },
             "line": {
              "color": "white"
             }
            },
            "type": "table"
           }
          ]
         },
         "layout": {
          "annotationdefaults": {
           "arrowcolor": "#2a3f5f",
           "arrowhead": 0,
           "arrowwidth": 1
          },
          "autotypenumbers": "strict",
          "coloraxis": {
           "colorbar": {
            "outlinewidth": 0,
            "ticks": ""
           }
          },
          "colorscale": {
           "diverging": [
            [
             0,
             "#8e0152"
            ],
            [
             0.1,
             "#c51b7d"
            ],
            [
             0.2,
             "#de77ae"
            ],
            [
             0.3,
             "#f1b6da"
            ],
            [
             0.4,
             "#fde0ef"
            ],
            [
             0.5,
             "#f7f7f7"
            ],
            [
             0.6,
             "#e6f5d0"
            ],
            [
             0.7,
             "#b8e186"
            ],
            [
             0.8,
             "#7fbc41"
            ],
            [
             0.9,
             "#4d9221"
            ],
            [
             1,
             "#276419"
            ]
           ],
           "sequential": [
            [
             0,
             "#0d0887"
            ],
            [
             0.1111111111111111,
             "#46039f"
            ],
            [
             0.2222222222222222,
             "#7201a8"
            ],
            [
             0.3333333333333333,
             "#9c179e"
            ],
            [
             0.4444444444444444,
             "#bd3786"
            ],
            [
             0.5555555555555556,
             "#d8576b"
            ],
            [
             0.6666666666666666,
             "#ed7953"
            ],
            [
             0.7777777777777778,
             "#fb9f3a"
            ],
            [
             0.8888888888888888,
             "#fdca26"
            ],
            [
             1,
             "#f0f921"
            ]
           ],
           "sequentialminus": [
            [
             0,
             "#0d0887"
            ],
            [
             0.1111111111111111,
             "#46039f"
            ],
            [
             0.2222222222222222,
             "#7201a8"
            ],
            [
             0.3333333333333333,
             "#9c179e"
            ],
            [
             0.4444444444444444,
             "#bd3786"
            ],
            [
             0.5555555555555556,
             "#d8576b"
            ],
            [
             0.6666666666666666,
             "#ed7953"
            ],
            [
             0.7777777777777778,
             "#fb9f3a"
            ],
            [
             0.8888888888888888,
             "#fdca26"
            ],
            [
             1,
             "#f0f921"
            ]
           ]
          },
          "colorway": [
           "#636efa",
           "#EF553B",
           "#00cc96",
           "#ab63fa",
           "#FFA15A",
           "#19d3f3",
           "#FF6692",
           "#B6E880",
           "#FF97FF",
           "#FECB52"
          ],
          "font": {
           "color": "#2a3f5f"
          },
          "geo": {
           "bgcolor": "white",
           "lakecolor": "white",
           "landcolor": "#E5ECF6",
           "showlakes": true,
           "showland": true,
           "subunitcolor": "white"
          },
          "hoverlabel": {
           "align": "left"
          },
          "hovermode": "closest",
          "mapbox": {
           "style": "light"
          },
          "paper_bgcolor": "white",
          "plot_bgcolor": "#E5ECF6",
          "polar": {
           "angularaxis": {
            "gridcolor": "white",
            "linecolor": "white",
            "ticks": ""
           },
           "bgcolor": "#E5ECF6",
           "radialaxis": {
            "gridcolor": "white",
            "linecolor": "white",
            "ticks": ""
           }
          },
          "scene": {
           "xaxis": {
            "backgroundcolor": "#E5ECF6",
            "gridcolor": "white",
            "gridwidth": 2,
            "linecolor": "white",
            "showbackground": true,
            "ticks": "",
            "zerolinecolor": "white"
           },
           "yaxis": {
            "backgroundcolor": "#E5ECF6",
            "gridcolor": "white",
            "gridwidth": 2,
            "linecolor": "white",
            "showbackground": true,
            "ticks": "",
            "zerolinecolor": "white"
           },
           "zaxis": {
            "backgroundcolor": "#E5ECF6",
            "gridcolor": "white",
            "gridwidth": 2,
            "linecolor": "white",
            "showbackground": true,
            "ticks": "",
            "zerolinecolor": "white"
           }
          },
          "shapedefaults": {
           "line": {
            "color": "#2a3f5f"
           }
          },
          "ternary": {
           "aaxis": {
            "gridcolor": "white",
            "linecolor": "white",
            "ticks": ""
           },
           "baxis": {
            "gridcolor": "white",
            "linecolor": "white",
            "ticks": ""
           },
           "bgcolor": "#E5ECF6",
           "caxis": {
            "gridcolor": "white",
            "linecolor": "white",
            "ticks": ""
           }
          },
          "title": {
           "x": 0.05
          },
          "xaxis": {
           "automargin": true,
           "gridcolor": "white",
           "linecolor": "white",
           "ticks": "",
           "title": {
            "standoff": 15
           },
           "zerolinecolor": "white",
           "zerolinewidth": 2
          },
          "yaxis": {
           "automargin": true,
           "gridcolor": "white",
           "linecolor": "white",
           "ticks": "",
           "title": {
            "standoff": 15
           },
           "zerolinecolor": "white",
           "zerolinewidth": 2
          }
         }
        },
        "title": {
         "text": "Data Jobs - Salaries and Popularity<br><i style='font-size: 15px;'>Hover for details</i>"
        },
        "width": 1200,
        "xaxis": {
         "anchor": "y",
         "domain": [
          0,
          1
         ],
         "title": {
          "text": "skill"
         }
        },
        "yaxis": {
         "anchor": "x",
         "domain": [
          0,
          1
         ],
         "title": {
          "text": "frequency (%)"
         }
        }
       }
      }
     },
     "metadata": {},
     "output_type": "display_data"
    },
    {
     "data": {
      "application/vnd.jupyter.widget-view+json": {
       "model_id": "e7fdf2f6e007496689591d4cefa33b91",
       "version_major": 2,
       "version_minor": 0
      },
      "text/plain": [
       "interactive(children=(IntSlider(value=19, continuous_update=False, description='Top N Skills:', max=50, min=1)…"
      ]
     },
     "metadata": {},
     "output_type": "display_data"
    },
    {
     "data": {
      "text/plain": [
       "<function __main__.update_plot(top_n, skill_list)>"
      ]
     },
     "execution_count": 209,
     "metadata": {},
     "output_type": "execute_result"
    }
   ],
   "source": [
    "top_skills_df = get_top_skills(jobs_df_cleaned, 100)\n",
    "\n",
    "interact(update_plot, top_n=top_n_slider, skill_list=skill_list_dropdown)"
   ]
  },
  {
   "cell_type": "markdown",
   "metadata": {},
   "source": [
    "### A deeper look into individual skills"
   ]
  },
  {
   "cell_type": "code",
   "execution_count": 277,
   "metadata": {},
   "outputs": [
    {
     "data": {
      "application/vnd.jupyter.widget-view+json": {
       "model_id": "c6decb50581244bfb8eade45f4d11b88",
       "version_major": 2,
       "version_minor": 0
      },
      "text/plain": [
       "Dropdown(description='Skill:', index=25, options=('airflow', 'alteryx', 'amazon', 'asp.net', 'assembly', 'atla…"
      ]
     },
     "metadata": {},
     "output_type": "display_data"
    },
    {
     "data": {
      "application/vnd.jupyter.widget-view+json": {
       "model_id": "12e891ca75214c3abf2146fd3075e30d",
       "version_major": 2,
       "version_minor": 0
      },
      "text/plain": [
       "Button(description='Plot', style=ButtonStyle())"
      ]
     },
     "metadata": {},
     "output_type": "display_data"
    }
   ],
   "source": [
    "from IPython.display import clear_output\n",
    "import ipywidgets as widgets\n",
    "\n",
    "def interactive_skill_salary(b):\n",
    "    clear_output(wait=True)\n",
    "    skill = skill_selector.value\n",
    "    if skill is None:  # Don't plot if skill is None\n",
    "        return None\n",
    "    # Filter the dataframe for jobs that mention the selected skill and have a salary\n",
    "    skill_df = jobs_df_cleaned[jobs_df_cleaned['description_tokens'].apply(lambda x: skill in x) & jobs_df_cleaned['avg_salary'].notna()].sort_values(by='avg_salary')\n",
    "\n",
    "    # Reset the index\n",
    "    skill_df = skill_df.reset_index(drop=True)\n",
    "\n",
    "    total_df = jobs_df_cleaned[jobs_df_cleaned['description_tokens'].apply(lambda x: skill in x)]\n",
    "    \n",
    "    # Calculate the average salary for the selected skill\n",
    "    avg_salary = skill_df['avg_salary'].mean()\n",
    "\n",
    "    # Create a bar plot\n",
    "    fig = px.bar(skill_df, x=skill_df.index, y='avg_salary', \n",
    "                 hover_data=['avg_salary', 'description_tokens', 'company_name'],  # Include 'company_name' in the hover data\n",
    "                 labels={'avg_salary':'Salary ($)', 'index':'Jobs WITH Salary'},\n",
    "                 title=f'Salary Distribution for Skill: {skill}')\n",
    "\n",
    "    # Format hover data\n",
    "    fig.update_traces(hovertemplate=\n",
    "                      \"<b>%{customdata[1]}</b><br><br>\" +\n",
    "                      \"<b>Avg Salary:</b> %{y:$,.2f}<br>\" +\n",
    "                      \"<b>Skills:</b> %{customdata[0]}<br>\" +\n",
    "                      \"<extra></extra>\"\n",
    "                     )\n",
    "\n",
    "    # Add a line for the average salary\n",
    "    fig.add_shape(\n",
    "        type='line',\n",
    "        line=dict(dash='dash'),\n",
    "        y0=avg_salary,\n",
    "        y1=avg_salary,\n",
    "        x0=0,\n",
    "        x1=1,\n",
    "        xref='paper',\n",
    "        yref='y'\n",
    "    )\n",
    "\n",
    "    # Add a text label for the average salary\n",
    "    fig.add_annotation(\n",
    "        y=avg_salary + 15000,\n",
    "        x=0,\n",
    "        xref='paper',\n",
    "        yref='y',\n",
    "        text=f'Average Salary: ${avg_salary:.2f}',\n",
    "        showarrow=False,\n",
    "        font=dict(size= 20, color='red')\n",
    "    )\n",
    "\n",
    "    # Update layout\n",
    "    fig.update_layout(\n",
    "        autosize=True,\n",
    "        hovermode='closest',\n",
    "        showlegend=False,\n",
    "        plot_bgcolor='white',\n",
    "        yaxis=dict(title='Salary ($)'),\n",
    "        xaxis=dict(title='Jobs WITH Salary')\n",
    "    )\n",
    "\n",
    "    fig.show()\n",
    "    display(reset_button)\n",
    "\n",
    "def reset_selection(b):\n",
    "    clear_output(wait=True)\n",
    "    display(skill_selector, plot_button)\n",
    "\n",
    "# Get the top skills sorted alphabetically\n",
    "sorted_skills = sorted(top_skills_df['skill'].unique())\n",
    "\n",
    "# Interactive dropdown widget\n",
    "skill_selector = widgets.Dropdown(\n",
    "    options=sorted_skills,\n",
    "    description='Skill:'\n",
    ")\n",
    "\n",
    "plot_button = widgets.Button(description='Plot')\n",
    "plot_button.on_click(interactive_skill_salary)\n",
    "\n",
    "reset_button = widgets.Button(description='Reset')\n",
    "reset_button.on_click(reset_selection)\n",
    "\n",
    "display(skill_selector, plot_button)"
   ]
  },
  {
   "cell_type": "markdown",
   "metadata": {},
   "source": [
    "### Job title specific skills"
   ]
  },
  {
   "cell_type": "code",
   "execution_count": 276,
   "metadata": {},
   "outputs": [
    {
     "data": {
      "application/vnd.jupyter.widget-view+json": {
       "model_id": "5ea5a5937d4d409c8dc654746323b3e8",
       "version_major": 2,
       "version_minor": 0
      },
      "text/plain": [
       "IntSlider(value=10, description='Top skills:', max=50, min=1)"
      ]
     },
     "metadata": {},
     "output_type": "display_data"
    },
    {
     "data": {
      "application/vnd.jupyter.widget-view+json": {
       "model_id": "b942d65073444856a763b0230c41dd11",
       "version_major": 2,
       "version_minor": 0
      },
      "text/plain": [
       "Dropdown(description='Job title:', options=('All Data Jobs', 'Data Analyst', 'Data Engineer', 'Data Scientist'…"
      ]
     },
     "metadata": {},
     "output_type": "display_data"
    },
    {
     "data": {
      "application/vnd.jupyter.widget-view+json": {
       "model_id": "d7e67d23bda7427fb6fa55cbeb783111",
       "version_major": 2,
       "version_minor": 0
      },
      "text/plain": [
       "Button(description='Update Plot', style=ButtonStyle())"
      ]
     },
     "metadata": {},
     "output_type": "display_data"
    }
   ],
   "source": [
    "import pandas as pd\n",
    "import plotly.express as px\n",
    "import ipywidgets as widgets\n",
    "from IPython.display import display, clear_output\n",
    "\n",
    "def plot_top_skills(df, qty, title_cleaned=None):\n",
    "    # Filter the dataframe based on the selected job title\n",
    "    if title_cleaned:\n",
    "        df = df[df['title_cleaned'] == title_cleaned]\n",
    "\n",
    "    # Get the top skills\n",
    "    top_skills_df = get_top_skills(df, qty)\n",
    "\n",
    "    # Calculate the ratio of postings the word shows up in and convert to percentage\n",
    "    top_skills_df['number_of_postings'] = (top_skills_df['number_of_postings'] / len(df)) * 100\n",
    "\n",
    "    # Sort by number of postings\n",
    "    top_skills_df.sort_values(by='number_of_postings', ascending=False, inplace=True)\n",
    "\n",
    "    # Plot it\n",
    "    fig = px.bar(top_skills_df, x='skill', y='number_of_postings', color='avg_yearly_salary', color_continuous_scale='Blues')\n",
    "\n",
    "    fig.update_traces(textfont_size=40, hovertemplate='''<b>Skill:</b> %{x}<br><b>Postings:</b> %{y}%<br><b>Average Annual Salary:</b> $%{marker.color}<extra></extra>''', hoverlabel=dict(font_size=20))\n",
    "\n",
    "    fig.update_layout(\n",
    "        title_text=f\"<b style='font-size: 30px;'>{title_cleaned if title_cleaned else 'All Jobs'} Skills</b><br><i style='font-size: 20px;'>Salaries and Popularity</i>\", \n",
    "        title_x=0.1, font_color=\"black\",\n",
    "        coloraxis_colorbar=dict(title=\"Average Annual Salary\"),\n",
    "        yaxis=dict(title='Percentage of Postings')\n",
    "    )\n",
    "    fig.show()\n",
    "\n",
    "    # Display the 'Go Back' button after the plot\n",
    "    display(go_back_button)\n",
    "\n",
    "qty_slider = widgets.IntSlider(min=1, max=50, step=1, value=10, description='Top skills:')\n",
    "title_dropdown = widgets.Dropdown(options=['All Data Jobs'] + list(jobs_df_cleaned['title_cleaned'].unique()), description='Job title:')\n",
    "update_button = widgets.Button(description='Update Plot')\n",
    "go_back_button = widgets.Button(description='Go Back')\n",
    "\n",
    "def on_update_button_clicked(b):\n",
    "    qty = qty_slider.value\n",
    "    title = title_dropdown.value\n",
    "    if title == 'All Data Jobs':\n",
    "        title = None\n",
    "    clear_output(wait=True)\n",
    "    plot_top_skills(jobs_df_cleaned, qty, title)\n",
    "\n",
    "def on_go_back_button_clicked(b):\n",
    "    clear_output(wait=True)\n",
    "    display(qty_slider, title_dropdown, update_button)\n",
    "\n",
    "update_button.on_click(on_update_button_clicked)\n",
    "go_back_button.on_click(on_go_back_button_clicked)\n",
    "\n",
    "display(qty_slider, title_dropdown, update_button)"
   ]
  },
  {
   "cell_type": "markdown",
   "metadata": {},
   "source": [
    "<div style=\"background-color: #; padding: 0px; \">\n",
    "\n",
    "## <font size='5'><i>Plan → Acquire → Prepare → Explore → </i></font> <font size='10'><i>**Model**</i></font> <font size='5'><i>→ Deliver</i></font>\n",
    "---"
   ]
  },
  {
   "cell_type": "code",
   "execution_count": 254,
   "metadata": {},
   "outputs": [
    {
     "data": {
      "text/plain": [
       "0"
      ]
     },
     "execution_count": 254,
     "metadata": {},
     "output_type": "execute_result"
    }
   ],
   "source": [
    "# Plays a sound when this is done running\n",
    "\n",
    "import os\n",
    "\n",
    "os.system('afplay /System/Library/Sounds/Ping.aiff')"
   ]
  },
  {
   "cell_type": "markdown",
   "metadata": {},
   "source": [
    "### Term Frequency-Inverse Document Frequency (TF-IDF) "
   ]
  },
  {
   "cell_type": "markdown",
   "metadata": {},
   "source": [
    "Useful hyperparameters for `TfidfVectorizer`:\n",
    "\n",
    "- `max_features`: This hyperparameter controls the maximum number of features (i.e., terms) to include in the TF-IDF matrix. Setting this to a smaller value can help reduce the dimensionality of the matrix and improve performance, especially if the dataset is large.\n",
    "\n",
    "- `min_df` and `max_df`: These hyperparameters control the minimum and maximum document frequency of terms to include in the TF-IDF matrix. Setting `min_df` to a higher value will exclude terms that appear in fewer than `min_df` documents, while setting `max_df` to a lower value will exclude terms that appear in more than `max_df` documents. These can be useful for removing very rare or very common terms that may not be informative.\n",
    "\n",
    "- `ngram_range`: This hyperparameter controls the range of n-grams to include in the TF-IDF matrix. An n-gram is a contiguous sequence of n words in a document. Setting `ngram_range` to `(1, 1)` will include only unigrams (i.e., single words), while setting it to `(1, 2)` will include both unigrams and bigrams (i.e., pairs of words).\n",
    "\n",
    "- `stop_words`: This hyperparameter can be set to a list of stop words to exclude from the TF-IDF matrix. Stop words are common words that are unlikely to be informative, such as \"the\", \"and\", and \"of\".\n",
    "\n",
    "- `tokenizer`: This hyperparameter can be set to a custom tokenizer function to use instead of the default tokenizer. The tokenizer function should take a string as input and return a list of tokens (i.e., words).\n",
    "\n",
    "These hyperparameters can be tuned to improve the performance of the TF-IDF vectorization for a specific task or dataset."
   ]
  },
  {
   "cell_type": "code",
   "execution_count": 29,
   "metadata": {},
   "outputs": [
    {
     "data": {
      "text/plain": [
       "language\n",
       "java          64\n",
       "typescript    58\n",
       "python        57\n",
       "ruby          56\n",
       "javascript    56\n",
       "c++           53\n",
       "go            44\n",
       "html          33\n",
       "Name: count, dtype: int64"
      ]
     },
     "execution_count": 29,
     "metadata": {},
     "output_type": "execute_result"
    }
   ],
   "source": [
    "# Find the baseline to get a language correct\n",
    "df.language.value_counts()"
   ]
  },
  {
   "cell_type": "code",
   "execution_count": 31,
   "metadata": {},
   "outputs": [
    {
     "data": {
      "text/plain": [
       "language\n",
       "java          0.152019\n",
       "typescript    0.137767\n",
       "python        0.135392\n",
       "ruby          0.133017\n",
       "javascript    0.133017\n",
       "c++           0.125891\n",
       "go            0.104513\n",
       "html          0.078385\n",
       "Name: proportion, dtype: float64"
      ]
     },
     "execution_count": 31,
     "metadata": {},
     "output_type": "execute_result"
    }
   ],
   "source": [
    "# Find the baseline to get a language correct\n",
    "df.language.value_counts(normalize=True)"
   ]
  },
  {
   "cell_type": "code",
   "execution_count": 32,
   "metadata": {},
   "outputs": [
    {
     "data": {
      "text/plain": [
       "(421, 6)"
      ]
     },
     "execution_count": 32,
     "metadata": {},
     "output_type": "execute_result"
    }
   ],
   "source": [
    "df.shape"
   ]
  },
  {
   "cell_type": "markdown",
   "metadata": {},
   "source": [
    "### X & Y Modeling Splits"
   ]
  },
  {
   "cell_type": "code",
   "execution_count": 33,
   "metadata": {},
   "outputs": [
    {
     "name": "stdout",
     "output_type": "stream",
     "text": [
      "Train Size:      X: 421, Y: 421\n",
      "Validation Size: X: 141, Y: 141\n",
      "Test Size:       X: 141, Y: 141\n"
     ]
    }
   ],
   "source": [
    "from sklearn.model_selection import train_test_split\n",
    "\n",
    "# Split the data into train and test sets\n",
    "X_train_validate, X_test, y_train_validate, y_test = train_test_split(\n",
    "    read_me[\"preprocessed_readme\"], read_me[\"language\"], test_size=0.2, random_state=321\n",
    ")\n",
    "\n",
    "# Split the train set into train and validation sets\n",
    "X_train, X_validate, y_train, y_validate = train_test_split(\n",
    "    X_train_validate, y_train_validate, test_size=0.25, random_state=321\n",
    ")\n",
    "\n",
    "# Print the shapes of the resulting datasets\n",
    "print(f\"Train Size:      X: {X_train.shape[0]}, Y: {y_train.shape[0]}\")\n",
    "print(f\"Validation Size: X: {X_validate.shape[0]}, Y: {y_validate.shape[0]}\")\n",
    "print(f\"Test Size:       X: {X_test.shape[0]}, Y: {y_test.shape[0]}\")"
   ]
  },
  {
   "cell_type": "markdown",
   "metadata": {},
   "source": [
    "### Baseline: 13%"
   ]
  },
  {
   "cell_type": "markdown",
   "metadata": {},
   "source": [
    "### The cell below has been converted to markdown so it will not run. \n",
    "\n",
    "Convert back to Python in the bottom right to run GridSearch again.\n",
    "\n",
    "The cell below is the results from the GridSearch"
   ]
  },
  {
   "cell_type": "markdown",
   "metadata": {},
   "source": [
    "```python\n",
    "\n",
    "from sklearn.pipeline import Pipeline\n",
    "from sklearn.model_selection import GridSearchCV\n",
    "from sklearn.model_selection import train_test_split\n",
    "from sklearn.feature_extraction.text import TfidfVectorizer\n",
    "from sklearn.linear_model import LogisticRegression\n",
    "import pandas as pd\n",
    "\n",
    "# Create a pipeline\n",
    "pipeline = Pipeline(\n",
    "    [\n",
    "        (\"tfidf\", TfidfVectorizer()),\n",
    "        (\"logreg\", LogisticRegression(max_iter=1000, random_state=321)),\n",
    "    ]\n",
    ")\n",
    "\n",
    "# Define the parameter grid\n",
    "param_grid = {\n",
    "    \"tfidf__max_features\": [50, 250, 500, 750, 1000],\n",
    "    \"tfidf__ngram_range\": [(1, 1), (1, 2), (1, 3)],\n",
    "    \"tfidf__min_df\": [10, 25, 50, 250, 500],\n",
    "    \"tfidf__max_df\": [25, 50, 100, 250, 500],\n",
    "    \"logreg__C\": [0.1, 1, 10],\n",
    "    \"logreg__penalty\": [\"l1\", \"l2\"],\n",
    "}\n",
    "\n",
    "# Initialize GridSearchCV with return_train_score=True\n",
    "grid_search = GridSearchCV(\n",
    "    pipeline, param_grid, cv=2, n_jobs=-1, verbose=1, return_train_score=True\n",
    ")\n",
    "\n",
    "# Fit the grid search\n",
    "grid_search.fit(X_train, y_train)\n",
    "\n",
    "# Get the results of the grid search\n",
    "results = pd.DataFrame(grid_search.cv_results_)\n",
    "\n",
    "# Calculate the train-validation score gap for each parameter combination\n",
    "results[\"score_gap\"] = results[\"mean_train_score\"] - results[\"mean_test_score\"]\n",
    "\n",
    "# Print the results\n",
    "print(results[[\"params\", \"mean_train_score\", \"mean_test_score\", \"score_gap\"]])\n",
    "\n",
    "```"
   ]
  },
  {
   "cell_type": "markdown",
   "metadata": {},
   "source": [
    "```python\n",
    "\n",
    "# Trim GridSearch DF down to what we need\n",
    "\n",
    "results_trimmed = results[\n",
    "    [\"score_gap\", \"mean_test_score\", \"mean_train_score\", \"params\"]\n",
    "]\n",
    "\n",
    "# Round all results to 2 decimals\n",
    "\n",
    "results_trimmed = results_trimmed.round(5)\n",
    "\n",
    "# Show highest test score, then lowest score gap, where test score >= X\n",
    "\n",
    "results_trimmed[\n",
    "    (results_trimmed[\"mean_test_score\"] >= 0.3)\n",
    "    & (results_trimmed[\"score_gap\"] <= 0.3)\n",
    "].sort_values(by=[\"mean_test_score\", \"score_gap\"], ascending=[False, True])"
   ]
  },
  {
   "cell_type": "code",
   "execution_count": 34,
   "metadata": {},
   "outputs": [
    {
     "name": "stdout",
     "output_type": "stream",
     "text": [
      "Logistic Regression Train Accuracy: 0.9079365079365079\n"
     ]
    }
   ],
   "source": [
    "# TF-IDF\n",
    "from sklearn.feature_extraction.text import TfidfVectorizer\n",
    "\n",
    "tfidf = TfidfVectorizer(max_df=250, max_features=500, min_df=25, ngram_range=(1, 2))\n",
    "X = tfidf.fit_transform(df[\"preprocessed_readme\"])\n",
    "y = df[\"language\"]\n",
    "\n",
    "# Split the data into training and test sets\n",
    "from sklearn.model_selection import train_test_split\n",
    "\n",
    "X_train, X_test, y_train, y_test = train_test_split(X, y, random_state=321)\n",
    "\n",
    "# Train a Logistic Regression model\n",
    "from sklearn.linear_model import LogisticRegression\n",
    "\n",
    "logit = LogisticRegression(random_state=321)\n",
    "logit.fit(X_train, y_train)\n",
    "\n",
    "# Calculate the accuracy of the model\n",
    "print(f\"Logistic Regression Train Accuracy: {logit.score(X_train, y_train)}\")"
   ]
  },
  {
   "cell_type": "code",
   "execution_count": 35,
   "metadata": {},
   "outputs": [
    {
     "name": "stdout",
     "output_type": "stream",
     "text": [
      "Logistic Regression Test Accuracy: 0.6132075471698113\n"
     ]
    }
   ],
   "source": [
    "print(f\"Logistic Regression Test Accuracy: {logit.score(X_test, y_test)}\")"
   ]
  },
  {
   "cell_type": "markdown",
   "metadata": {},
   "source": [
    "### Process to Save Our Models for Reapplying\n",
    "\n",
    "*converted to raw to not export new model files*"
   ]
  },
  {
   "cell_type": "markdown",
   "metadata": {},
   "source": [
    "```python\n",
    "\n",
    "import pickle\n",
    "\n",
    "# Save the TfidfVectorizer object\n",
    "with open(\"support_files/tfidf_vectorizer2.pkl\", \"wb\") as file:\n",
    "    pickle.dump(pipeline.named_steps['tfidf'], file)\n",
    "\n",
    "# Save the LogisticRegression object\n",
    "with open(\"support_files/logreg_model2.pkl\", \"wb\") as file:\n",
    "    pickle.dump(pipeline.named_steps['logreg'], file)"
   ]
  },
  {
   "cell_type": "markdown",
   "metadata": {},
   "source": [
    "## Function(ize) It"
   ]
  },
  {
   "cell_type": "markdown",
   "metadata": {},
   "source": [
    "## Testing the Functions (With our pulled Repos)"
   ]
  },
  {
   "cell_type": "code",
   "execution_count": 36,
   "metadata": {},
   "outputs": [
    {
     "name": "stdout",
     "output_type": "stream",
     "text": [
      "Random String: r net implementation keras repository attempt reproduce results presented technical report microsoft research asia report describes complex neural network called r net designed question answering blogpost describes details r net currently august 25 2017 best single model stanford qa database squad squad dataset uses two performance metrics exact match em f1 score f1 human performance estimated em823 f1912 test set report describes two versions r net first one called r net wang et al 2017 refers paper yet available online reaches em713 f1797 test set consists input encoders modified version match lstm self matching attention layer main contribution paper pointer network second version called r net march 2017 one additional bigru self matching attention layer pointer network reaches em723 f1807 current best single model squad leaderboard higher score means r net development continued march 2017 ensemble models reach higher scores repository contains implementation first version yet reproduce reported results best performance got far em5752 f16742 dev set aware differences implementation network described paper first formula 11 report contains strange summand wvq vrq tensors trainable anywhere else network replaced product single trainable vector size hidden layer 75 according report get better results lower number overfitting huge 75 neurons sure whether applied dropout correctly nothing weight initialization batch generation report question aware passage representation generation probably done bidirectional gru hand cant rule bugs instructions make sure running keras version 206 need parse split data python parsedatapy datatrain v11json trainratio 09 outfile datatrainparsedjson outfilevalid datavalidparsedjson python parsedatapy datadev v11json outfile datadevparsedjson preprocess data python preprocessingpy datatrainparsedjson outfile datatraindatastrpkl includestr python preprocessingpy datavalidparsedjson outfile datavaliddatastrpkl includestr python preprocessingpy datadevparsedjson outfile datadevdatastrpkl includestr train model python trainpy hdim 45 batchsize 50 nbepochs 50 optimizer adadelta lr 1 dropout 02 charlevelembeddings traindata datatraindatastrpkl validdata datavaliddatastrpkl predict devtest set samples python predictpy batchsize 100 devdata datadevdatastrpkl models31 t305458271443 v327696280528model predictionjson best model downloaded release v01\n",
      "\n",
      "Actual:    python\n",
      "Predicted: python (Score: 0.65)\n",
      "\n",
      "Other possible predictions:\n",
      "c++: 0.11\n",
      "typescript: 0.05\n"
     ]
    }
   ],
   "source": [
    "w.predict_language()"
   ]
  },
  {
   "cell_type": "code",
   "execution_count": 37,
   "metadata": {},
   "outputs": [
    {
     "name": "stdout",
     "output_type": "stream",
     "text": [
      "Predicted: java (Score: 0.73)\n",
      "\n",
      "Other possible predictions:\n",
      "c++: 0.05\n",
      "typescript: 0.05\n"
     ]
    }
   ],
   "source": [
    "w.predict_language(readme_string=\"license public new void\")"
   ]
  },
  {
   "cell_type": "code",
   "execution_count": 38,
   "metadata": {},
   "outputs": [],
   "source": [
    "# Read in our README\n",
    "\n",
    "readme = requests.get(\n",
    "    \"https://raw.githubusercontent.com/Zacharia-Schmitz/nlp_project/main/README.md\"\n",
    ").text"
   ]
  },
  {
   "cell_type": "code",
   "execution_count": 39,
   "metadata": {},
   "outputs": [
    {
     "name": "stdout",
     "output_type": "stream",
     "text": [
      "Predicted: python (Score: 0.44)\n",
      "\n",
      "Other possible predictions:\n",
      "c++: 0.12\n",
      "javascript: 0.10\n"
     ]
    }
   ],
   "source": [
    "w.predict_language(readme_string=readme)"
   ]
  },
  {
   "cell_type": "markdown",
   "metadata": {},
   "source": [
    "## Add model predictions to DF"
   ]
  },
  {
   "cell_type": "code",
   "execution_count": 40,
   "metadata": {},
   "outputs": [],
   "source": [
    "# Add a column named prediction, that adds the model prediction to the dataframe\n",
    "df[\"prediction\"] = logit.predict(X)"
   ]
  },
  {
   "cell_type": "code",
   "execution_count": 41,
   "metadata": {},
   "outputs": [
    {
     "data": {
      "text/plain": [
       "0.833729216152019"
      ]
     },
     "execution_count": 41,
     "metadata": {},
     "output_type": "execute_result"
    }
   ],
   "source": [
    "# What percentage of language = prediction\n",
    "(df.language == df.prediction).mean()"
   ]
  },
  {
   "cell_type": "code",
   "execution_count": 42,
   "metadata": {},
   "outputs": [],
   "source": [
    "# Format for export\n",
    "prediction_df = df[[\"language\", \"prediction\", \"readme\"]]"
   ]
  },
  {
   "cell_type": "markdown",
   "metadata": {},
   "source": [
    "```python\n",
    "\n",
    "# Export predictions\n",
    "prediction_df.to_csv('support_files/predictions.csv', index=False)"
   ]
  },
  {
   "cell_type": "markdown",
   "metadata": {},
   "source": [
    "<div style=\"background-color: #; padding: 0px; \">\n",
    "\n",
    "## <font size='5'><i>Plan → Acquire → Prepare → Explore → Model →</i></font> <font size='10'><i>**Deliver**</i></font>\n",
    "---"
   ]
  },
  {
   "cell_type": "markdown",
   "metadata": {},
   "source": [
    "### Takeaways\n",
    "\n",
    "- Some Repositories Have Multiple Languages\n",
    "\n",
    "- Read up on scraping/API policy beforehand\n",
    "\n",
    "- Cache along the way\n",
    "\n",
    "### Recommendations\n",
    "\n",
    "#### For Modeling:\n",
    "\n",
    "- **Feature Engineering:** Consider extracting additional features from the README text, such as the number of code snippets, mentions of specific libraries, and the use of certain punctuations typical to a programming language.\n",
    "\n",
    "- **Ensemble Methods:** Combine multiple models for better prediction. For instance, a combination of logistic regression, random forests, and gradient boosting might yield improved results.\n",
    "\n",
    "- **Deep Learning:** Explore deep learning techniques like RNNs or Transformers (e.g., BERT) which can capture sequential information in the text and might improve accuracy.\n",
    "\n",
    "#### For Data Collection:\n",
    "\n",
    "- **Diversify Sources:** To avoid biases, collect READMEs from various sources, not just popular repositories, to ensure a diverse representation of projects and languages.\n",
    "\n",
    "- **Update Data Periodically:** Languages and their ecosystems evolve. Ensure the dataset is updated periodically to reflect recent trends and libraries.\n",
    "\n",
    "### Next Steps:\n",
    "\n",
    "- **Validation:** Set up a validation framework to periodically test the model on new READMEs and ensure its predictions remain accurate over time.\n",
    "\n",
    "- **Expand Scope:** Beyond predicting programming languages, consider expanding the project's scope to categorize projects based on their purpose (e.g., web development, data analysis, gaming).\n",
    "\n",
    "- **Topic Modeling:** Beyond just predicting the language, perform topic modeling on READMEs to identify common themes or topics within specific language communities."
   ]
  }
 ],
 "metadata": {
  "kernelspec": {
   "display_name": "base",
   "language": "python",
   "name": "python3"
  },
  "language_info": {
   "codemirror_mode": {
    "name": "ipython",
    "version": 3
   },
   "file_extension": ".py",
   "mimetype": "text/x-python",
   "name": "python",
   "nbconvert_exporter": "python",
   "pygments_lexer": "ipython3",
   "version": "3.11.4"
  }
 },
 "nbformat": 4,
 "nbformat_minor": 2
}
