{
 "cells": [
  {
   "cell_type": "code",
   "execution_count": 1,
   "metadata": {},
   "outputs": [],
   "source": [
    "def check_columns(DataFrame, reports=False, graphs=False, dates=False):\n",
    "    \"\"\"\n",
    "    This function takes a pandas dataframe as input and returns\n",
    "    a dataframe with information about each column in the dataframe.\n",
    "    \"\"\"\n",
    "\n",
    "    dataframeinfo = []\n",
    "\n",
    "    # Check information about the index\n",
    "    index_dtype = DataFrame.index.dtype\n",
    "    index_unique_vals = DataFrame.index.unique()\n",
    "    index_num_unique = DataFrame.index.nunique()\n",
    "    index_num_null = DataFrame.index.isna().sum()\n",
    "    index_pct_null = index_num_null / len(DataFrame.index)\n",
    "\n",
    "    if pd.api.types.is_numeric_dtype(index_dtype) and not isinstance(\n",
    "        DataFrame.index, pd.RangeIndex\n",
    "    ):\n",
    "        index_min_val = DataFrame.index.min()\n",
    "        index_max_val = DataFrame.index.max()\n",
    "        index_range_vals = (index_min_val, index_max_val)\n",
    "    elif pd.api.types.is_datetime64_any_dtype(index_dtype):\n",
    "        index_min_val = DataFrame.index.min()\n",
    "        index_max_val = DataFrame.index.max()\n",
    "        index_range_vals = (\n",
    "            index_min_val.strftime(\"%Y-%m-%d\"),\n",
    "            index_max_val.strftime(\"%Y-%m-%d\"),\n",
    "        )\n",
    "\n",
    "        # Check for missing dates in the index if dates kwarg is True\n",
    "        if dates:\n",
    "            full_date_range = pd.date_range(\n",
    "                start=index_min_val, end=index_max_val, freq=\"D\"\n",
    "            )\n",
    "            missing_dates = full_date_range.difference(DataFrame.index)\n",
    "            if not missing_dates.empty:\n",
    "                print(\n",
    "                    f\"Missing dates in index: ({len(missing_dates)} Total) {missing_dates.tolist()}\"\n",
    "                )\n",
    "    else:\n",
    "        index_range_vals = None\n",
    "\n",
    "    dataframeinfo.append(\n",
    "        [\n",
    "            \"index\",\n",
    "            index_dtype,\n",
    "            index_num_unique,\n",
    "            index_num_null,\n",
    "            index_pct_null,\n",
    "            index_unique_vals,\n",
    "            index_range_vals,\n",
    "        ]\n",
    "    )\n",
    "\n",
    "    print(f\"Total rows: {DataFrame.shape[0]}\")\n",
    "    print(f\"Total columns: {DataFrame.shape[1]}\")\n",
    "\n",
    "    if reports:\n",
    "        describe = DataFrame.describe().round(2)\n",
    "        print(describe)\n",
    "\n",
    "    if graphs:\n",
    "        DataFrame.hist(figsize=(10, 10))\n",
    "        plt.subplots_adjust(hspace=0.5)\n",
    "        plt.show()\n",
    "\n",
    "    for column in DataFrame.columns:\n",
    "        dtype = DataFrame[column].dtype\n",
    "        num_null = DataFrame[column].isna().sum()\n",
    "        pct_null = DataFrame[column].isna().mean().round(5)\n",
    "\n",
    "        try:\n",
    "            unique_vals = DataFrame[column].unique()\n",
    "            num_unique = DataFrame[column].nunique()\n",
    "        except TypeError:\n",
    "            unique_vals = 'Column contains multiple lists'\n",
    "            num_unique = 'ERROR'\n",
    "\n",
    "        if pd.api.types.is_numeric_dtype(dtype):\n",
    "            min_val = DataFrame[column].min()\n",
    "            max_val = DataFrame[column].max()\n",
    "            mean_val = DataFrame[column].mean()\n",
    "            range_vals = (min_val, max_val, mean_val)\n",
    "        elif pd.api.types.is_datetime64_any_dtype(dtype):\n",
    "            min_val = DataFrame[column].min()\n",
    "            max_val = DataFrame[column].max()\n",
    "            range_vals = (min_val.strftime(\"%Y-%m-%d\"), max_val.strftime(\"%Y-%m-%d\"))\n",
    "\n",
    "            if dates:\n",
    "                full_date_range_col = pd.date_range(\n",
    "                    start=min_val, end=max_val, freq=\"D\"\n",
    "                )\n",
    "                missing_dates_col = full_date_range_col.difference(DataFrame[column])\n",
    "                if not missing_dates_col.empty:\n",
    "                    print(\n",
    "                        f\"Missing dates in column '{column}': ({len(missing_dates_col)} Total) {missing_dates_col.tolist()}\"\n",
    "                    )\n",
    "                else:\n",
    "                    print(f\"No missing dates in column '{column}'\")\n",
    "\n",
    "        else:\n",
    "            range_vals = None\n",
    "\n",
    "        dataframeinfo.append(\n",
    "            [column, dtype, num_unique, num_null, pct_null, unique_vals, range_vals]\n",
    "        )\n",
    "\n",
    "    return pd.DataFrame(\n",
    "        dataframeinfo,\n",
    "        columns=[\n",
    "            \"col_name\",\n",
    "            \"dtype\",\n",
    "            \"num_unique\",\n",
    "            \"num_null\",\n",
    "            \"pct_null\",\n",
    "            \"unique_values\",\n",
    "            \"range (min, max, mean)\",\n",
    "        ],\n",
    "    )"
   ]
  },
  {
   "cell_type": "markdown",
   "metadata": {},
   "source": [
    "# Analyst Job Scraping / Analyzing"
   ]
  },
  {
   "cell_type": "markdown",
   "metadata": {},
   "source": [
    "## CSV From:\n",
    "\n",
    "- https://www.kaggle.com/datasets/lukebarousse/data-analyst-job-postings-google-search/data?select=gsearch_jobs.csv\n",
    "\n",
    "> \"This dataset pulls job postings from Google's search results for Data Analyst positions in the United States. <br>\n",
    "> Data collection started on November 4th, 2022, and adds ~100 new job postings to this dataset daily.\""
   ]
  },
  {
   "cell_type": "markdown",
   "metadata": {},
   "source": [
    "## Acquisition\n",
    "\n",
    "- I originally intended on pulling all of the data myself using LinkedIn webscraping or another job resource.\n",
    "\n",
    "- I was able to use a scraper for LinkedIn, but after reading into it, they don't like that and have been known to send cease and desist letters.\n",
    "\n",
    "- Potential\n",
    "\n",
    "- Google however, is allowed to scrape LinkedIn, for search engine purposes.\n",
    "\n",
    "- Using Google's job search, we can then scrape all job postings (which also includes LinkedIn).\n",
    "\n",
    "- Although we have the capability to scrape the postings ourself, due to the limitations, the amount of data to be useful isn't feasibly with the timeline.\n",
    "\n",
    "- I found a public dataset that has a head start of 33 thousand job postings. (With duplicates)"
   ]
  },
  {
   "cell_type": "code",
   "execution_count": 2,
   "metadata": {},
   "outputs": [],
   "source": [
    "import pandas as pd\n",
    "import numpy as np\n",
    "import matplotlib.pyplot as plt\n",
    "from nltk.tokenize import word_tokenize, MWETokenizer"
   ]
  },
  {
   "cell_type": "markdown",
   "metadata": {},
   "source": [
    "```python\n",
    "\n",
    "from selenium import webdriver\n",
    "from selenium.webdriver.common.by import By\n",
    "from selenium.common.exceptions import NoSuchElementException\n",
    "\n",
    "# Initialize Selenium and navigate to the URL\n",
    "driver = webdriver.Chrome(executable_path='/path/to/chromedriver')\n",
    "driver.get('URL')\n",
    "\n",
    "# Define a function to check if \"Load More\" exists\n",
    "def load_more_exists():\n",
    "    try:\n",
    "        driver.find_element(By.XPATH, 'XPATH_OF_LOAD_MORE_BUTTON')\n",
    "        return True\n",
    "    except NoSuchElementException:\n",
    "        return False\n",
    "\n",
    "# Loop to scrape data and click Load More\n",
    "while True:\n",
    "    # Scrape data from the current page\n",
    "    job_elements = driver.find_elements(By.XPATH, 'XPATH_OF_JOB_ELEMENTS')\n",
    "    for job in job_elements:\n",
    "        # Extract and save job data\n",
    "        pass\n",
    "\n",
    "    # Check if \"Load More\" exists and click it\n",
    "    if load_more_exists():\n",
    "        load_more_button = driver.find_element(By.XPATH, 'XPATH_OF_LOAD_MORE_BUTTON')\n",
    "        load_more_button.click()\n",
    "    else:\n",
    "        break\n",
    "\n",
    "driver.close()\n",
    "\n",
    "```"
   ]
  },
  {
   "cell_type": "code",
   "execution_count": 3,
   "metadata": {},
   "outputs": [],
   "source": [
    "# Read in job_scrapes\n",
    "jobs_df = pd.read_csv(\"../support_files/working_docs/jobs.csv\")"
   ]
  },
  {
   "cell_type": "code",
   "execution_count": 4,
   "metadata": {},
   "outputs": [
    {
     "name": "stdout",
     "output_type": "stream",
     "text": [
      "Total rows: 34153\n",
      "Total columns: 27\n"
     ]
    },
    {
     "data": {
      "text/html": [
       "<div>\n",
       "<style scoped>\n",
       "    .dataframe tbody tr th:only-of-type {\n",
       "        vertical-align: middle;\n",
       "    }\n",
       "\n",
       "    .dataframe tbody tr th {\n",
       "        vertical-align: top;\n",
       "    }\n",
       "\n",
       "    .dataframe thead th {\n",
       "        text-align: right;\n",
       "    }\n",
       "</style>\n",
       "<table border=\"1\" class=\"dataframe\">\n",
       "  <thead>\n",
       "    <tr style=\"text-align: right;\">\n",
       "      <th></th>\n",
       "      <th>col_name</th>\n",
       "      <th>dtype</th>\n",
       "      <th>num_unique</th>\n",
       "      <th>num_null</th>\n",
       "      <th>pct_null</th>\n",
       "      <th>unique_values</th>\n",
       "      <th>range (min, max, mean)</th>\n",
       "    </tr>\n",
       "  </thead>\n",
       "  <tbody>\n",
       "    <tr>\n",
       "      <th>0</th>\n",
       "      <td>index</td>\n",
       "      <td>int64</td>\n",
       "      <td>34153</td>\n",
       "      <td>0</td>\n",
       "      <td>0.00000</td>\n",
       "      <td>RangeIndex(start=0, stop=34153, step=1)</td>\n",
       "      <td>None</td>\n",
       "    </tr>\n",
       "    <tr>\n",
       "      <th>1</th>\n",
       "      <td>Unnamed: 0</td>\n",
       "      <td>int64</td>\n",
       "      <td>34153</td>\n",
       "      <td>0</td>\n",
       "      <td>0.00000</td>\n",
       "      <td>[0, 1, 2, 3, 4, 5, 6, 7, 8, 9, 10, 11, 12, 13,...</td>\n",
       "      <td>(0, 34152, 17076.0)</td>\n",
       "    </tr>\n",
       "    <tr>\n",
       "      <th>2</th>\n",
       "      <td>index</td>\n",
       "      <td>int64</td>\n",
       "      <td>3785</td>\n",
       "      <td>0</td>\n",
       "      <td>0.00000</td>\n",
       "      <td>[0, 1, 2, 3, 4, 5, 6, 7, 8, 9, 10, 11, 12, 13,...</td>\n",
       "      <td>(0, 3784, 1141.691418030627)</td>\n",
       "    </tr>\n",
       "    <tr>\n",
       "      <th>3</th>\n",
       "      <td>title</td>\n",
       "      <td>object</td>\n",
       "      <td>13157</td>\n",
       "      <td>0</td>\n",
       "      <td>0.00000</td>\n",
       "      <td>[Data Analyst, Junior Data Analyst/Scientist R...</td>\n",
       "      <td>None</td>\n",
       "    </tr>\n",
       "    <tr>\n",
       "      <th>4</th>\n",
       "      <td>company_name</td>\n",
       "      <td>object</td>\n",
       "      <td>8208</td>\n",
       "      <td>0</td>\n",
       "      <td>0.00000</td>\n",
       "      <td>[Chloeta, Upwork, ATC, Guidehouse, AnMed Healt...</td>\n",
       "      <td>None</td>\n",
       "    </tr>\n",
       "    <tr>\n",
       "      <th>5</th>\n",
       "      <td>location</td>\n",
       "      <td>object</td>\n",
       "      <td>635</td>\n",
       "      <td>24</td>\n",
       "      <td>0.00070</td>\n",
       "      <td>[  Oklahoma City, OK   ,  Anywhere ,   United ...</td>\n",
       "      <td>None</td>\n",
       "    </tr>\n",
       "    <tr>\n",
       "      <th>6</th>\n",
       "      <td>via</td>\n",
       "      <td>object</td>\n",
       "      <td>556</td>\n",
       "      <td>9</td>\n",
       "      <td>0.00026</td>\n",
       "      <td>[via ZipRecruiter, via Upwork, via LinkedIn, v...</td>\n",
       "      <td>None</td>\n",
       "    </tr>\n",
       "    <tr>\n",
       "      <th>7</th>\n",
       "      <td>description</td>\n",
       "      <td>object</td>\n",
       "      <td>24276</td>\n",
       "      <td>0</td>\n",
       "      <td>0.00000</td>\n",
       "      <td>[Job Summary: The Data Analyst oversees data p...</td>\n",
       "      <td>None</td>\n",
       "    </tr>\n",
       "    <tr>\n",
       "      <th>8</th>\n",
       "      <td>extensions</td>\n",
       "      <td>object</td>\n",
       "      <td>5528</td>\n",
       "      <td>0</td>\n",
       "      <td>0.00000</td>\n",
       "      <td>[['21 hours ago', 'Full-time', 'Health insuran...</td>\n",
       "      <td>None</td>\n",
       "    </tr>\n",
       "    <tr>\n",
       "      <th>9</th>\n",
       "      <td>job_id</td>\n",
       "      <td>object</td>\n",
       "      <td>34133</td>\n",
       "      <td>0</td>\n",
       "      <td>0.00000</td>\n",
       "      <td>[eyJqb2JfdGl0bGUiOiJEYXRhIEFuYWx5c3QiLCJodGlkb...</td>\n",
       "      <td>None</td>\n",
       "    </tr>\n",
       "    <tr>\n",
       "      <th>10</th>\n",
       "      <td>thumbnail</td>\n",
       "      <td>object</td>\n",
       "      <td>5967</td>\n",
       "      <td>15125</td>\n",
       "      <td>0.44286</td>\n",
       "      <td>[nan, https://encrypted-tbn0.gstatic.com/image...</td>\n",
       "      <td>None</td>\n",
       "    </tr>\n",
       "    <tr>\n",
       "      <th>11</th>\n",
       "      <td>posted_at</td>\n",
       "      <td>object</td>\n",
       "      <td>80</td>\n",
       "      <td>0</td>\n",
       "      <td>0.00000</td>\n",
       "      <td>[21 hours ago, 17 hours ago, 12 hours ago, 10 ...</td>\n",
       "      <td>None</td>\n",
       "    </tr>\n",
       "    <tr>\n",
       "      <th>12</th>\n",
       "      <td>schedule_type</td>\n",
       "      <td>object</td>\n",
       "      <td>22</td>\n",
       "      <td>177</td>\n",
       "      <td>0.00518</td>\n",
       "      <td>[Full-time, Contractor, Part-time, Internship,...</td>\n",
       "      <td>None</td>\n",
       "    </tr>\n",
       "    <tr>\n",
       "      <th>13</th>\n",
       "      <td>work_from_home</td>\n",
       "      <td>object</td>\n",
       "      <td>1</td>\n",
       "      <td>18896</td>\n",
       "      <td>0.55327</td>\n",
       "      <td>[nan, True]</td>\n",
       "      <td>None</td>\n",
       "    </tr>\n",
       "    <tr>\n",
       "      <th>14</th>\n",
       "      <td>salary</td>\n",
       "      <td>object</td>\n",
       "      <td>1308</td>\n",
       "      <td>28050</td>\n",
       "      <td>0.82130</td>\n",
       "      <td>[nan, 40–75 an hour, 43–48 an hour, 17–46 an h...</td>\n",
       "      <td>None</td>\n",
       "    </tr>\n",
       "    <tr>\n",
       "      <th>15</th>\n",
       "      <td>search_term</td>\n",
       "      <td>object</td>\n",
       "      <td>1</td>\n",
       "      <td>0</td>\n",
       "      <td>0.00000</td>\n",
       "      <td>[data analyst]</td>\n",
       "      <td>None</td>\n",
       "    </tr>\n",
       "    <tr>\n",
       "      <th>16</th>\n",
       "      <td>date_time</td>\n",
       "      <td>object</td>\n",
       "      <td>3559</td>\n",
       "      <td>0</td>\n",
       "      <td>0.00000</td>\n",
       "      <td>[2023-08-03 03:00:09.849838, 2023-08-03 03:00:...</td>\n",
       "      <td>None</td>\n",
       "    </tr>\n",
       "    <tr>\n",
       "      <th>17</th>\n",
       "      <td>search_location</td>\n",
       "      <td>object</td>\n",
       "      <td>1</td>\n",
       "      <td>0</td>\n",
       "      <td>0.00000</td>\n",
       "      <td>[United States]</td>\n",
       "      <td>None</td>\n",
       "    </tr>\n",
       "    <tr>\n",
       "      <th>18</th>\n",
       "      <td>commute_time</td>\n",
       "      <td>float64</td>\n",
       "      <td>0</td>\n",
       "      <td>34153</td>\n",
       "      <td>1.00000</td>\n",
       "      <td>[nan]</td>\n",
       "      <td>(nan, nan, nan)</td>\n",
       "    </tr>\n",
       "    <tr>\n",
       "      <th>19</th>\n",
       "      <td>salary_pay</td>\n",
       "      <td>object</td>\n",
       "      <td>1308</td>\n",
       "      <td>28050</td>\n",
       "      <td>0.82130</td>\n",
       "      <td>[nan, 40–75, 43–48, 17–46, 18.33–28.20, 75–125...</td>\n",
       "      <td>None</td>\n",
       "    </tr>\n",
       "    <tr>\n",
       "      <th>20</th>\n",
       "      <td>salary_rate</td>\n",
       "      <td>object</td>\n",
       "      <td>3</td>\n",
       "      <td>28050</td>\n",
       "      <td>0.82130</td>\n",
       "      <td>[nan, an hour, a year, a month]</td>\n",
       "      <td>None</td>\n",
       "    </tr>\n",
       "    <tr>\n",
       "      <th>21</th>\n",
       "      <td>salary_avg</td>\n",
       "      <td>float64</td>\n",
       "      <td>659</td>\n",
       "      <td>28050</td>\n",
       "      <td>0.82130</td>\n",
       "      <td>[nan, 57.5, 45.5, 31.5, 23.265, 100.0, 41.5, 6...</td>\n",
       "      <td>(7.25, 288000.0, 34835.32406029822)</td>\n",
       "    </tr>\n",
       "    <tr>\n",
       "      <th>22</th>\n",
       "      <td>salary_min</td>\n",
       "      <td>float64</td>\n",
       "      <td>405</td>\n",
       "      <td>28400</td>\n",
       "      <td>0.83155</td>\n",
       "      <td>[nan, 40.0, 43.0, 17.0, 18.33, 75.0, 66053.0, ...</td>\n",
       "      <td>(8.0, 230000.0, 29361.50363810186)</td>\n",
       "    </tr>\n",
       "    <tr>\n",
       "      <th>23</th>\n",
       "      <td>salary_max</td>\n",
       "      <td>float64</td>\n",
       "      <td>445</td>\n",
       "      <td>28400</td>\n",
       "      <td>0.83155</td>\n",
       "      <td>[nan, 75.0, 48.0, 46.0, 28.2, 125.0, 43.0, 709...</td>\n",
       "      <td>(10.0, 346000.0, 41164.45734225622)</td>\n",
       "    </tr>\n",
       "    <tr>\n",
       "      <th>24</th>\n",
       "      <td>salary_hourly</td>\n",
       "      <td>float64</td>\n",
       "      <td>251</td>\n",
       "      <td>30147</td>\n",
       "      <td>0.88270</td>\n",
       "      <td>[nan, 57.5, 45.5, 31.5, 23.265, 100.0, 41.5, 4...</td>\n",
       "      <td>(7.25, 300.0, 42.73529830254617)</td>\n",
       "    </tr>\n",
       "    <tr>\n",
       "      <th>25</th>\n",
       "      <td>salary_yearly</td>\n",
       "      <td>float64</td>\n",
       "      <td>399</td>\n",
       "      <td>32068</td>\n",
       "      <td>0.93895</td>\n",
       "      <td>[nan, 68516.5, 70000.0, 125000.0, 96500.0, 100...</td>\n",
       "      <td>(29289.84, 288000.0, 101847.84247242207)</td>\n",
       "    </tr>\n",
       "    <tr>\n",
       "      <th>26</th>\n",
       "      <td>salary_standardized</td>\n",
       "      <td>float64</td>\n",
       "      <td>653</td>\n",
       "      <td>28050</td>\n",
       "      <td>0.82130</td>\n",
       "      <td>[nan, 119600.0, 94640.0, 65520.0, 48391.2, 208...</td>\n",
       "      <td>(15080.0, 624000.0, 93291.19661068328)</td>\n",
       "    </tr>\n",
       "    <tr>\n",
       "      <th>27</th>\n",
       "      <td>description_tokens</td>\n",
       "      <td>object</td>\n",
       "      <td>6838</td>\n",
       "      <td>0</td>\n",
       "      <td>0.00000</td>\n",
       "      <td>[['r', 'python'], ['r', 'matlab', 'python', 'm...</td>\n",
       "      <td>None</td>\n",
       "    </tr>\n",
       "  </tbody>\n",
       "</table>\n",
       "</div>"
      ],
      "text/plain": [
       "               col_name    dtype  num_unique  num_null  pct_null  \\\n",
       "0                 index    int64       34153         0   0.00000   \n",
       "1            Unnamed: 0    int64       34153         0   0.00000   \n",
       "2                 index    int64        3785         0   0.00000   \n",
       "3                 title   object       13157         0   0.00000   \n",
       "4          company_name   object        8208         0   0.00000   \n",
       "5              location   object         635        24   0.00070   \n",
       "6                   via   object         556         9   0.00026   \n",
       "7           description   object       24276         0   0.00000   \n",
       "8            extensions   object        5528         0   0.00000   \n",
       "9                job_id   object       34133         0   0.00000   \n",
       "10            thumbnail   object        5967     15125   0.44286   \n",
       "11            posted_at   object          80         0   0.00000   \n",
       "12        schedule_type   object          22       177   0.00518   \n",
       "13       work_from_home   object           1     18896   0.55327   \n",
       "14               salary   object        1308     28050   0.82130   \n",
       "15          search_term   object           1         0   0.00000   \n",
       "16            date_time   object        3559         0   0.00000   \n",
       "17      search_location   object           1         0   0.00000   \n",
       "18         commute_time  float64           0     34153   1.00000   \n",
       "19           salary_pay   object        1308     28050   0.82130   \n",
       "20          salary_rate   object           3     28050   0.82130   \n",
       "21           salary_avg  float64         659     28050   0.82130   \n",
       "22           salary_min  float64         405     28400   0.83155   \n",
       "23           salary_max  float64         445     28400   0.83155   \n",
       "24        salary_hourly  float64         251     30147   0.88270   \n",
       "25        salary_yearly  float64         399     32068   0.93895   \n",
       "26  salary_standardized  float64         653     28050   0.82130   \n",
       "27   description_tokens   object        6838         0   0.00000   \n",
       "\n",
       "                                        unique_values  \\\n",
       "0             RangeIndex(start=0, stop=34153, step=1)   \n",
       "1   [0, 1, 2, 3, 4, 5, 6, 7, 8, 9, 10, 11, 12, 13,...   \n",
       "2   [0, 1, 2, 3, 4, 5, 6, 7, 8, 9, 10, 11, 12, 13,...   \n",
       "3   [Data Analyst, Junior Data Analyst/Scientist R...   \n",
       "4   [Chloeta, Upwork, ATC, Guidehouse, AnMed Healt...   \n",
       "5   [  Oklahoma City, OK   ,  Anywhere ,   United ...   \n",
       "6   [via ZipRecruiter, via Upwork, via LinkedIn, v...   \n",
       "7   [Job Summary: The Data Analyst oversees data p...   \n",
       "8   [['21 hours ago', 'Full-time', 'Health insuran...   \n",
       "9   [eyJqb2JfdGl0bGUiOiJEYXRhIEFuYWx5c3QiLCJodGlkb...   \n",
       "10  [nan, https://encrypted-tbn0.gstatic.com/image...   \n",
       "11  [21 hours ago, 17 hours ago, 12 hours ago, 10 ...   \n",
       "12  [Full-time, Contractor, Part-time, Internship,...   \n",
       "13                                        [nan, True]   \n",
       "14  [nan, 40–75 an hour, 43–48 an hour, 17–46 an h...   \n",
       "15                                     [data analyst]   \n",
       "16  [2023-08-03 03:00:09.849838, 2023-08-03 03:00:...   \n",
       "17                                    [United States]   \n",
       "18                                              [nan]   \n",
       "19  [nan, 40–75, 43–48, 17–46, 18.33–28.20, 75–125...   \n",
       "20                    [nan, an hour, a year, a month]   \n",
       "21  [nan, 57.5, 45.5, 31.5, 23.265, 100.0, 41.5, 6...   \n",
       "22  [nan, 40.0, 43.0, 17.0, 18.33, 75.0, 66053.0, ...   \n",
       "23  [nan, 75.0, 48.0, 46.0, 28.2, 125.0, 43.0, 709...   \n",
       "24  [nan, 57.5, 45.5, 31.5, 23.265, 100.0, 41.5, 4...   \n",
       "25  [nan, 68516.5, 70000.0, 125000.0, 96500.0, 100...   \n",
       "26  [nan, 119600.0, 94640.0, 65520.0, 48391.2, 208...   \n",
       "27  [['r', 'python'], ['r', 'matlab', 'python', 'm...   \n",
       "\n",
       "                      range (min, max, mean)  \n",
       "0                                       None  \n",
       "1                        (0, 34152, 17076.0)  \n",
       "2               (0, 3784, 1141.691418030627)  \n",
       "3                                       None  \n",
       "4                                       None  \n",
       "5                                       None  \n",
       "6                                       None  \n",
       "7                                       None  \n",
       "8                                       None  \n",
       "9                                       None  \n",
       "10                                      None  \n",
       "11                                      None  \n",
       "12                                      None  \n",
       "13                                      None  \n",
       "14                                      None  \n",
       "15                                      None  \n",
       "16                                      None  \n",
       "17                                      None  \n",
       "18                           (nan, nan, nan)  \n",
       "19                                      None  \n",
       "20                                      None  \n",
       "21       (7.25, 288000.0, 34835.32406029822)  \n",
       "22        (8.0, 230000.0, 29361.50363810186)  \n",
       "23       (10.0, 346000.0, 41164.45734225622)  \n",
       "24          (7.25, 300.0, 42.73529830254617)  \n",
       "25  (29289.84, 288000.0, 101847.84247242207)  \n",
       "26    (15080.0, 624000.0, 93291.19661068328)  \n",
       "27                                      None  "
      ]
     },
     "execution_count": 4,
     "metadata": {},
     "output_type": "execute_result"
    }
   ],
   "source": [
    "check_columns(jobs_df)"
   ]
  },
  {
   "cell_type": "markdown",
   "metadata": {},
   "source": [
    "| Field Name | Description |\n",
    "| --- | --- |\n",
    "| `Unnamed: 0` | Appears to be an auto-incremented identifier. |\n",
    "| `index` | Another identifier, possibly redundant with \"Unnamed: 0\". |\n",
    "| `title` | Job title. |\n",
    "| `company_name` | Name of the company offering the job. |\n",
    "| `location` | Location of the job. |\n",
    "| `via` | Source/platform where the job was posted. |\n",
    "| `description` | Detailed description of the job. |\n",
    "| `extensions` | Additional information about the job (e.g., job type, benefits). |\n",
    "| `job_id` | A unique identifier for the job, possibly encoded. |\n",
    "| `thumbnail` | URL to a thumbnail image associated with the job/company. |\n",
    "| `url` | URL for the job posting. |\n",
    "| `company_description` | Description of the company. |\n",
    "| `company_rating` | Company's rating. |\n",
    "| `rating_count` | Number of ratings the company received. |\n",
    "| `job_type` | Type of the job (e.g., full-time, part-time). |\n",
    "| `benefits` | List of benefits provided by the company. |\n",
    "| `posted` | When the job was posted. |\n",
    "| `deadline` | Application deadline for the job. |\n",
    "| `employment_type` | Employment type (e.g., full-time, contract). |\n",
    "| `commute_time` | Information on commute time, if available. |\n",
    "| `salary_pay` | Salary payment value, if available. |\n",
    "| `salary_rate` | Salary rate (e.g., per hour, per year), if available. |\n",
    "| `salary_avg` | Average salary for the job, if available. |\n",
    "| `salary_min` | Minimum salary for the job, if available. |\n",
    "| `salary_max` | Maximum salary for the job, if available. |\n",
    "| `salary_hourly` | Hourly salary, if available. |\n",
    "| `salary_yearly` | Yearly salary, if available. |\n",
    "| `salary_standardized` | Standardized salary information, if available. |\n",
    "| `description_tokens` | List of skills extracted from the job description. |"
   ]
  },
  {
   "cell_type": "markdown",
   "metadata": {},
   "source": [
    "## Preparation"
   ]
  },
  {
   "cell_type": "markdown",
   "metadata": {},
   "source": [
    "The dataset acquired from Kaggle already had some preprocessed information."
   ]
  },
  {
   "cell_type": "code",
   "execution_count": 5,
   "metadata": {},
   "outputs": [
    {
     "name": "stdout",
     "output_type": "stream",
     "text": [
      "Total rows: 34153\n",
      "Total columns: 27\n"
     ]
    },
    {
     "data": {
      "text/html": [
       "<div>\n",
       "<style scoped>\n",
       "    .dataframe tbody tr th:only-of-type {\n",
       "        vertical-align: middle;\n",
       "    }\n",
       "\n",
       "    .dataframe tbody tr th {\n",
       "        vertical-align: top;\n",
       "    }\n",
       "\n",
       "    .dataframe thead th {\n",
       "        text-align: right;\n",
       "    }\n",
       "</style>\n",
       "<table border=\"1\" class=\"dataframe\">\n",
       "  <thead>\n",
       "    <tr style=\"text-align: right;\">\n",
       "      <th></th>\n",
       "      <th>col_name</th>\n",
       "      <th>dtype</th>\n",
       "      <th>num_unique</th>\n",
       "      <th>num_null</th>\n",
       "      <th>pct_null</th>\n",
       "      <th>unique_values</th>\n",
       "      <th>range (min, max, mean)</th>\n",
       "    </tr>\n",
       "  </thead>\n",
       "  <tbody>\n",
       "    <tr>\n",
       "      <th>0</th>\n",
       "      <td>index</td>\n",
       "      <td>int64</td>\n",
       "      <td>34153</td>\n",
       "      <td>0</td>\n",
       "      <td>0.00000</td>\n",
       "      <td>RangeIndex(start=0, stop=34153, step=1)</td>\n",
       "      <td>None</td>\n",
       "    </tr>\n",
       "    <tr>\n",
       "      <th>1</th>\n",
       "      <td>Unnamed: 0</td>\n",
       "      <td>int64</td>\n",
       "      <td>34153</td>\n",
       "      <td>0</td>\n",
       "      <td>0.00000</td>\n",
       "      <td>[0, 1, 2, 3, 4, 5, 6, 7, 8, 9, 10, 11, 12, 13,...</td>\n",
       "      <td>(0, 34152, 17076.0)</td>\n",
       "    </tr>\n",
       "    <tr>\n",
       "      <th>2</th>\n",
       "      <td>index</td>\n",
       "      <td>int64</td>\n",
       "      <td>3785</td>\n",
       "      <td>0</td>\n",
       "      <td>0.00000</td>\n",
       "      <td>[0, 1, 2, 3, 4, 5, 6, 7, 8, 9, 10, 11, 12, 13,...</td>\n",
       "      <td>(0, 3784, 1141.691418030627)</td>\n",
       "    </tr>\n",
       "    <tr>\n",
       "      <th>3</th>\n",
       "      <td>title</td>\n",
       "      <td>object</td>\n",
       "      <td>13157</td>\n",
       "      <td>0</td>\n",
       "      <td>0.00000</td>\n",
       "      <td>[Data Analyst, Junior Data Analyst/Scientist R...</td>\n",
       "      <td>None</td>\n",
       "    </tr>\n",
       "    <tr>\n",
       "      <th>4</th>\n",
       "      <td>company_name</td>\n",
       "      <td>object</td>\n",
       "      <td>8208</td>\n",
       "      <td>0</td>\n",
       "      <td>0.00000</td>\n",
       "      <td>[Chloeta, Upwork, ATC, Guidehouse, AnMed Healt...</td>\n",
       "      <td>None</td>\n",
       "    </tr>\n",
       "    <tr>\n",
       "      <th>5</th>\n",
       "      <td>location</td>\n",
       "      <td>object</td>\n",
       "      <td>635</td>\n",
       "      <td>24</td>\n",
       "      <td>0.00070</td>\n",
       "      <td>[  Oklahoma City, OK   ,  Anywhere ,   United ...</td>\n",
       "      <td>None</td>\n",
       "    </tr>\n",
       "    <tr>\n",
       "      <th>6</th>\n",
       "      <td>via</td>\n",
       "      <td>object</td>\n",
       "      <td>556</td>\n",
       "      <td>9</td>\n",
       "      <td>0.00026</td>\n",
       "      <td>[via ZipRecruiter, via Upwork, via LinkedIn, v...</td>\n",
       "      <td>None</td>\n",
       "    </tr>\n",
       "    <tr>\n",
       "      <th>7</th>\n",
       "      <td>description</td>\n",
       "      <td>object</td>\n",
       "      <td>24276</td>\n",
       "      <td>0</td>\n",
       "      <td>0.00000</td>\n",
       "      <td>[Job Summary: The Data Analyst oversees data p...</td>\n",
       "      <td>None</td>\n",
       "    </tr>\n",
       "    <tr>\n",
       "      <th>8</th>\n",
       "      <td>extensions</td>\n",
       "      <td>object</td>\n",
       "      <td>5528</td>\n",
       "      <td>0</td>\n",
       "      <td>0.00000</td>\n",
       "      <td>[['21 hours ago', 'Full-time', 'Health insuran...</td>\n",
       "      <td>None</td>\n",
       "    </tr>\n",
       "    <tr>\n",
       "      <th>9</th>\n",
       "      <td>job_id</td>\n",
       "      <td>object</td>\n",
       "      <td>34133</td>\n",
       "      <td>0</td>\n",
       "      <td>0.00000</td>\n",
       "      <td>[eyJqb2JfdGl0bGUiOiJEYXRhIEFuYWx5c3QiLCJodGlkb...</td>\n",
       "      <td>None</td>\n",
       "    </tr>\n",
       "    <tr>\n",
       "      <th>10</th>\n",
       "      <td>thumbnail</td>\n",
       "      <td>object</td>\n",
       "      <td>5967</td>\n",
       "      <td>15125</td>\n",
       "      <td>0.44286</td>\n",
       "      <td>[nan, https://encrypted-tbn0.gstatic.com/image...</td>\n",
       "      <td>None</td>\n",
       "    </tr>\n",
       "    <tr>\n",
       "      <th>11</th>\n",
       "      <td>posted_at</td>\n",
       "      <td>object</td>\n",
       "      <td>80</td>\n",
       "      <td>0</td>\n",
       "      <td>0.00000</td>\n",
       "      <td>[21 hours ago, 17 hours ago, 12 hours ago, 10 ...</td>\n",
       "      <td>None</td>\n",
       "    </tr>\n",
       "    <tr>\n",
       "      <th>12</th>\n",
       "      <td>schedule_type</td>\n",
       "      <td>object</td>\n",
       "      <td>22</td>\n",
       "      <td>177</td>\n",
       "      <td>0.00518</td>\n",
       "      <td>[Full-time, Contractor, Part-time, Internship,...</td>\n",
       "      <td>None</td>\n",
       "    </tr>\n",
       "    <tr>\n",
       "      <th>13</th>\n",
       "      <td>work_from_home</td>\n",
       "      <td>object</td>\n",
       "      <td>1</td>\n",
       "      <td>18896</td>\n",
       "      <td>0.55327</td>\n",
       "      <td>[nan, True]</td>\n",
       "      <td>None</td>\n",
       "    </tr>\n",
       "    <tr>\n",
       "      <th>14</th>\n",
       "      <td>salary</td>\n",
       "      <td>object</td>\n",
       "      <td>1308</td>\n",
       "      <td>28050</td>\n",
       "      <td>0.82130</td>\n",
       "      <td>[nan, 40–75 an hour, 43–48 an hour, 17–46 an h...</td>\n",
       "      <td>None</td>\n",
       "    </tr>\n",
       "    <tr>\n",
       "      <th>15</th>\n",
       "      <td>search_term</td>\n",
       "      <td>object</td>\n",
       "      <td>1</td>\n",
       "      <td>0</td>\n",
       "      <td>0.00000</td>\n",
       "      <td>[data analyst]</td>\n",
       "      <td>None</td>\n",
       "    </tr>\n",
       "    <tr>\n",
       "      <th>16</th>\n",
       "      <td>date_time</td>\n",
       "      <td>object</td>\n",
       "      <td>3559</td>\n",
       "      <td>0</td>\n",
       "      <td>0.00000</td>\n",
       "      <td>[2023-08-03 03:00:09.849838, 2023-08-03 03:00:...</td>\n",
       "      <td>None</td>\n",
       "    </tr>\n",
       "    <tr>\n",
       "      <th>17</th>\n",
       "      <td>search_location</td>\n",
       "      <td>object</td>\n",
       "      <td>1</td>\n",
       "      <td>0</td>\n",
       "      <td>0.00000</td>\n",
       "      <td>[United States]</td>\n",
       "      <td>None</td>\n",
       "    </tr>\n",
       "    <tr>\n",
       "      <th>18</th>\n",
       "      <td>commute_time</td>\n",
       "      <td>float64</td>\n",
       "      <td>0</td>\n",
       "      <td>34153</td>\n",
       "      <td>1.00000</td>\n",
       "      <td>[nan]</td>\n",
       "      <td>(nan, nan, nan)</td>\n",
       "    </tr>\n",
       "    <tr>\n",
       "      <th>19</th>\n",
       "      <td>salary_pay</td>\n",
       "      <td>object</td>\n",
       "      <td>1308</td>\n",
       "      <td>28050</td>\n",
       "      <td>0.82130</td>\n",
       "      <td>[nan, 40–75, 43–48, 17–46, 18.33–28.20, 75–125...</td>\n",
       "      <td>None</td>\n",
       "    </tr>\n",
       "    <tr>\n",
       "      <th>20</th>\n",
       "      <td>salary_rate</td>\n",
       "      <td>object</td>\n",
       "      <td>3</td>\n",
       "      <td>28050</td>\n",
       "      <td>0.82130</td>\n",
       "      <td>[nan, an hour, a year, a month]</td>\n",
       "      <td>None</td>\n",
       "    </tr>\n",
       "    <tr>\n",
       "      <th>21</th>\n",
       "      <td>salary_avg</td>\n",
       "      <td>float64</td>\n",
       "      <td>659</td>\n",
       "      <td>28050</td>\n",
       "      <td>0.82130</td>\n",
       "      <td>[nan, 57.5, 45.5, 31.5, 23.265, 100.0, 41.5, 6...</td>\n",
       "      <td>(7.25, 288000.0, 34835.32406029822)</td>\n",
       "    </tr>\n",
       "    <tr>\n",
       "      <th>22</th>\n",
       "      <td>salary_min</td>\n",
       "      <td>float64</td>\n",
       "      <td>405</td>\n",
       "      <td>28400</td>\n",
       "      <td>0.83155</td>\n",
       "      <td>[nan, 40.0, 43.0, 17.0, 18.33, 75.0, 66053.0, ...</td>\n",
       "      <td>(8.0, 230000.0, 29361.50363810186)</td>\n",
       "    </tr>\n",
       "    <tr>\n",
       "      <th>23</th>\n",
       "      <td>salary_max</td>\n",
       "      <td>float64</td>\n",
       "      <td>445</td>\n",
       "      <td>28400</td>\n",
       "      <td>0.83155</td>\n",
       "      <td>[nan, 75.0, 48.0, 46.0, 28.2, 125.0, 43.0, 709...</td>\n",
       "      <td>(10.0, 346000.0, 41164.45734225622)</td>\n",
       "    </tr>\n",
       "    <tr>\n",
       "      <th>24</th>\n",
       "      <td>salary_hourly</td>\n",
       "      <td>float64</td>\n",
       "      <td>251</td>\n",
       "      <td>30147</td>\n",
       "      <td>0.88270</td>\n",
       "      <td>[nan, 57.5, 45.5, 31.5, 23.265, 100.0, 41.5, 4...</td>\n",
       "      <td>(7.25, 300.0, 42.73529830254617)</td>\n",
       "    </tr>\n",
       "    <tr>\n",
       "      <th>25</th>\n",
       "      <td>salary_yearly</td>\n",
       "      <td>float64</td>\n",
       "      <td>399</td>\n",
       "      <td>32068</td>\n",
       "      <td>0.93895</td>\n",
       "      <td>[nan, 68516.5, 70000.0, 125000.0, 96500.0, 100...</td>\n",
       "      <td>(29289.84, 288000.0, 101847.84247242207)</td>\n",
       "    </tr>\n",
       "    <tr>\n",
       "      <th>26</th>\n",
       "      <td>salary_standardized</td>\n",
       "      <td>float64</td>\n",
       "      <td>653</td>\n",
       "      <td>28050</td>\n",
       "      <td>0.82130</td>\n",
       "      <td>[nan, 119600.0, 94640.0, 65520.0, 48391.2, 208...</td>\n",
       "      <td>(15080.0, 624000.0, 93291.19661068328)</td>\n",
       "    </tr>\n",
       "    <tr>\n",
       "      <th>27</th>\n",
       "      <td>description_tokens</td>\n",
       "      <td>object</td>\n",
       "      <td>6838</td>\n",
       "      <td>0</td>\n",
       "      <td>0.00000</td>\n",
       "      <td>[['r', 'python'], ['r', 'matlab', 'python', 'm...</td>\n",
       "      <td>None</td>\n",
       "    </tr>\n",
       "  </tbody>\n",
       "</table>\n",
       "</div>"
      ],
      "text/plain": [
       "               col_name    dtype  num_unique  num_null  pct_null  \\\n",
       "0                 index    int64       34153         0   0.00000   \n",
       "1            Unnamed: 0    int64       34153         0   0.00000   \n",
       "2                 index    int64        3785         0   0.00000   \n",
       "3                 title   object       13157         0   0.00000   \n",
       "4          company_name   object        8208         0   0.00000   \n",
       "5              location   object         635        24   0.00070   \n",
       "6                   via   object         556         9   0.00026   \n",
       "7           description   object       24276         0   0.00000   \n",
       "8            extensions   object        5528         0   0.00000   \n",
       "9                job_id   object       34133         0   0.00000   \n",
       "10            thumbnail   object        5967     15125   0.44286   \n",
       "11            posted_at   object          80         0   0.00000   \n",
       "12        schedule_type   object          22       177   0.00518   \n",
       "13       work_from_home   object           1     18896   0.55327   \n",
       "14               salary   object        1308     28050   0.82130   \n",
       "15          search_term   object           1         0   0.00000   \n",
       "16            date_time   object        3559         0   0.00000   \n",
       "17      search_location   object           1         0   0.00000   \n",
       "18         commute_time  float64           0     34153   1.00000   \n",
       "19           salary_pay   object        1308     28050   0.82130   \n",
       "20          salary_rate   object           3     28050   0.82130   \n",
       "21           salary_avg  float64         659     28050   0.82130   \n",
       "22           salary_min  float64         405     28400   0.83155   \n",
       "23           salary_max  float64         445     28400   0.83155   \n",
       "24        salary_hourly  float64         251     30147   0.88270   \n",
       "25        salary_yearly  float64         399     32068   0.93895   \n",
       "26  salary_standardized  float64         653     28050   0.82130   \n",
       "27   description_tokens   object        6838         0   0.00000   \n",
       "\n",
       "                                        unique_values  \\\n",
       "0             RangeIndex(start=0, stop=34153, step=1)   \n",
       "1   [0, 1, 2, 3, 4, 5, 6, 7, 8, 9, 10, 11, 12, 13,...   \n",
       "2   [0, 1, 2, 3, 4, 5, 6, 7, 8, 9, 10, 11, 12, 13,...   \n",
       "3   [Data Analyst, Junior Data Analyst/Scientist R...   \n",
       "4   [Chloeta, Upwork, ATC, Guidehouse, AnMed Healt...   \n",
       "5   [  Oklahoma City, OK   ,  Anywhere ,   United ...   \n",
       "6   [via ZipRecruiter, via Upwork, via LinkedIn, v...   \n",
       "7   [Job Summary: The Data Analyst oversees data p...   \n",
       "8   [['21 hours ago', 'Full-time', 'Health insuran...   \n",
       "9   [eyJqb2JfdGl0bGUiOiJEYXRhIEFuYWx5c3QiLCJodGlkb...   \n",
       "10  [nan, https://encrypted-tbn0.gstatic.com/image...   \n",
       "11  [21 hours ago, 17 hours ago, 12 hours ago, 10 ...   \n",
       "12  [Full-time, Contractor, Part-time, Internship,...   \n",
       "13                                        [nan, True]   \n",
       "14  [nan, 40–75 an hour, 43–48 an hour, 17–46 an h...   \n",
       "15                                     [data analyst]   \n",
       "16  [2023-08-03 03:00:09.849838, 2023-08-03 03:00:...   \n",
       "17                                    [United States]   \n",
       "18                                              [nan]   \n",
       "19  [nan, 40–75, 43–48, 17–46, 18.33–28.20, 75–125...   \n",
       "20                    [nan, an hour, a year, a month]   \n",
       "21  [nan, 57.5, 45.5, 31.5, 23.265, 100.0, 41.5, 6...   \n",
       "22  [nan, 40.0, 43.0, 17.0, 18.33, 75.0, 66053.0, ...   \n",
       "23  [nan, 75.0, 48.0, 46.0, 28.2, 125.0, 43.0, 709...   \n",
       "24  [nan, 57.5, 45.5, 31.5, 23.265, 100.0, 41.5, 4...   \n",
       "25  [nan, 68516.5, 70000.0, 125000.0, 96500.0, 100...   \n",
       "26  [nan, 119600.0, 94640.0, 65520.0, 48391.2, 208...   \n",
       "27  [['r', 'python'], ['r', 'matlab', 'python', 'm...   \n",
       "\n",
       "                      range (min, max, mean)  \n",
       "0                                       None  \n",
       "1                        (0, 34152, 17076.0)  \n",
       "2               (0, 3784, 1141.691418030627)  \n",
       "3                                       None  \n",
       "4                                       None  \n",
       "5                                       None  \n",
       "6                                       None  \n",
       "7                                       None  \n",
       "8                                       None  \n",
       "9                                       None  \n",
       "10                                      None  \n",
       "11                                      None  \n",
       "12                                      None  \n",
       "13                                      None  \n",
       "14                                      None  \n",
       "15                                      None  \n",
       "16                                      None  \n",
       "17                                      None  \n",
       "18                           (nan, nan, nan)  \n",
       "19                                      None  \n",
       "20                                      None  \n",
       "21       (7.25, 288000.0, 34835.32406029822)  \n",
       "22        (8.0, 230000.0, 29361.50363810186)  \n",
       "23       (10.0, 346000.0, 41164.45734225622)  \n",
       "24          (7.25, 300.0, 42.73529830254617)  \n",
       "25  (29289.84, 288000.0, 101847.84247242207)  \n",
       "26    (15080.0, 624000.0, 93291.19661068328)  \n",
       "27                                      None  "
      ]
     },
     "execution_count": 5,
     "metadata": {},
     "output_type": "execute_result"
    }
   ],
   "source": [
    "check_columns(jobs_df)"
   ]
  },
  {
   "cell_type": "markdown",
   "metadata": {},
   "source": [
    "### Steps Needed:\n",
    "\n",
    "Based on the initial examination of the dataset, here are some potential data cleaning tasks that may need to be performed\n",
    "\n",
    "- **Redundant Columns** \n",
    "  \n",
    "- **Missing Data**\n",
    "\n",
    "- **Data Transformation**\n",
    "\n",
    "- **Data Standardization**\n",
    "\n",
    "- **Data Encoding**\n",
    "  \n",
    "- **Outliers**\n",
    "\n",
    "- **URL Validation**\n",
    "\n",
    "- **Text Data Cleaning**\n",
    "\n",
    "- **Date Formatting**\n",
    "\n",
    "- **Duplicate Data**"
   ]
  },
  {
   "cell_type": "markdown",
   "metadata": {},
   "source": [
    "#### **Redundant Columns**: \n"
   ]
  },
  {
   "cell_type": "markdown",
   "metadata": {},
   "source": [
    "- The columns \"Unnamed: 0\" and \"index\" seem redundant. If they don't provide unique or relevant information, they can be dropped.<br><br>"
   ]
  },
  {
   "cell_type": "code",
   "execution_count": 6,
   "metadata": {},
   "outputs": [],
   "source": [
    "# Drop the redundant columns \"Unnamed: 0\" and \"index\"\n",
    "jobs_df_cleaned = jobs_df.drop(columns=['Unnamed: 0', 'index'])"
   ]
  },
  {
   "cell_type": "markdown",
   "metadata": {},
   "source": [
    "#### **Duplicate Data**:\n"
   ]
  },
  {
   "cell_type": "markdown",
   "metadata": {},
   "source": [
    "   - Check for duplicate rows and decide whether to keep, flag, or remove them.<br><br>"
   ]
  },
  {
   "cell_type": "code",
   "execution_count": 7,
   "metadata": {},
   "outputs": [
    {
     "data": {
      "text/plain": [
       "20"
      ]
     },
     "execution_count": 7,
     "metadata": {},
     "output_type": "execute_result"
    }
   ],
   "source": [
    "# Show how many duplicates in job_id\n",
    "jobs_df_cleaned[jobs_df_cleaned.duplicated(subset=['job_id'])].shape[0]"
   ]
  },
  {
   "cell_type": "code",
   "execution_count": 8,
   "metadata": {},
   "outputs": [],
   "source": [
    "# Drop duplicate job_id\n",
    "jobs_df_cleaned.drop_duplicates(subset=\"job_id\", inplace=True)"
   ]
  },
  {
   "cell_type": "markdown",
   "metadata": {},
   "source": [
    "#### **Drop columns we won't be using:**\n"
   ]
  },
  {
   "cell_type": "markdown",
   "metadata": {},
   "source": [
    "- Drop columns that we won't be able to find any use for"
   ]
  },
  {
   "cell_type": "code",
   "execution_count": 9,
   "metadata": {},
   "outputs": [],
   "source": [
    "# Drop the specified columns\n",
    "columns_to_drop = ['thumbnail', 'search_term', 'commute_time', 'search_location']\n",
    "jobs_df_cleaned = jobs_df_cleaned.drop(columns=columns_to_drop)"
   ]
  },
  {
   "cell_type": "code",
   "execution_count": 10,
   "metadata": {},
   "outputs": [],
   "source": [
    "# Drop salary columns that Kaggle dataset created. Only leaving original salary column\n",
    "columns_to_drop = ['salary_yearly', 'salary_hourly', 'salary_min', 'salary_max', 'salary_pay', 'salary_rate', 'salary_avg', 'salary_standardized', 'description_tokens']\n",
    "\n",
    "jobs_df_cleaned = jobs_df_cleaned.drop(columns=columns_to_drop)"
   ]
  },
  {
   "cell_type": "markdown",
   "metadata": {},
   "source": [
    "  \n",
    "#### **Look Into Missing Data**:\n"
   ]
  },
  {
   "cell_type": "markdown",
   "metadata": {},
   "source": [
    "- Several columns have missing data, represented by NaN values (e.g., \"thumbnail\", \"commute_time\", \"salary_pay\", etc.). Depending on the use-case:\n",
    "  - Fill missing data with appropriate values (mean, median, mode, etc.).\n",
    "  - Drop rows or columns with a significant amount of missing data.\n",
    "  - Use data imputation techniques, if appropriate.<br><br>\n"
   ]
  },
  {
   "cell_type": "code",
   "execution_count": 11,
   "metadata": {},
   "outputs": [
    {
     "data": {
      "text/plain": [
       "salary            82.125802\n",
       "work_from_home    55.313040\n",
       "schedule_type      0.518560\n",
       "location           0.070313\n",
       "via                0.026367\n",
       "dtype: float64"
      ]
     },
     "execution_count": 11,
     "metadata": {},
     "output_type": "execute_result"
    }
   ],
   "source": [
    "# Calculate the percentage of missing data for each column\n",
    "missing_data_percentage = (jobs_df_cleaned.isnull().sum() / len(jobs_df_cleaned)) * 100\n",
    "\n",
    "# Filter columns with missing data and sort them\n",
    "missing_data_columns = missing_data_percentage[missing_data_percentage > 0].sort_values(ascending=False)\n",
    "\n",
    "missing_data_columns"
   ]
  },
  {
   "cell_type": "markdown",
   "metadata": {},
   "source": [
    "#### **Fixing Salaries**"
   ]
  },
  {
   "cell_type": "code",
   "execution_count": 12,
   "metadata": {},
   "outputs": [
    {
     "data": {
      "text/plain": [
       "salary\n",
       "77K–116K a year           412\n",
       "40–75 an hour             198\n",
       "18.33–28.20 an hour       120\n",
       "15–45 an hour             110\n",
       "17–50 an hour              95\n",
       "                         ... \n",
       "165K a year                 1\n",
       "81K–140K a year             1\n",
       "68,880–101,220 a year       1\n",
       "52–54 an hour               1\n",
       "100,815–110,815 a year      1\n",
       "Name: count, Length: 1308, dtype: int64"
      ]
     },
     "execution_count": 12,
     "metadata": {},
     "output_type": "execute_result"
    }
   ],
   "source": [
    "# get a value counts of salary\n",
    "jobs_df_cleaned.salary.value_counts()"
   ]
  },
  {
   "cell_type": "code",
   "execution_count": 13,
   "metadata": {},
   "outputs": [],
   "source": [
    "# Create a salary cleaned column out of a copy of salary\n",
    "jobs_df_cleaned['cleaned_salary'] = jobs_df_cleaned['salary']"
   ]
  },
  {
   "cell_type": "code",
   "execution_count": 14,
   "metadata": {},
   "outputs": [],
   "source": [
    "# Remove decimals and numeric character until you hit a - or [a-zA-Z]\n",
    "jobs_df_cleaned['cleaned_salary'] = jobs_df_cleaned['cleaned_salary'].str.replace(r'\\.\\d+(?=[a-zA-Z-])', '', regex=True)\n",
    "\n",
    "# Replace 'K' or 'k' in the 'cleaned_salary' column with ',000'\n",
    "jobs_df_cleaned['cleaned_salary'] = jobs_df_cleaned['cleaned_salary'].str.replace('K', '000', case=False, regex=True).str.replace('k', '000', case=False, regex=True)\n",
    "\n",
    "# Remove commas from all entries in the 'cleaned_salary' column\n",
    "jobs_df_cleaned['cleaned_salary'] = jobs_df_cleaned['cleaned_salary'].str.replace(',', '', regex=False)"
   ]
  },
  {
   "cell_type": "code",
   "execution_count": 15,
   "metadata": {},
   "outputs": [],
   "source": [
    "# Extract pay rate\n",
    "jobs_df_cleaned['pay_rate'] = jobs_df_cleaned['cleaned_salary'].str.extract(r'(\\bhour\\b|\\bmonth\\b|\\byear\\b)', expand=False)\n",
    "\n",
    "# Add \"ly\" to the entire column\n",
    "jobs_df_cleaned['pay_rate'] = jobs_df_cleaned['pay_rate'].str.replace(r'(\\bhour\\b|\\bmonth\\b|\\byear\\b)', r'\\1ly', regex=True)"
   ]
  },
  {
   "cell_type": "code",
   "execution_count": 16,
   "metadata": {},
   "outputs": [],
   "source": [
    "# Drop all letters from salary cleaned column\n",
    "jobs_df_cleaned['cleaned_salary'] = jobs_df_cleaned['cleaned_salary'].str.replace(r'[a-zA-Z]', '', regex=True)"
   ]
  },
  {
   "cell_type": "code",
   "execution_count": 17,
   "metadata": {},
   "outputs": [],
   "source": [
    "# Function to get min salary\n",
    "def get_min_salary(salary):\n",
    "    return salary.split('–')[0]\n",
    "\n",
    "# Function to get max salary\n",
    "def get_max_salary(salary):\n",
    "    values = salary.split('–')\n",
    "    if len(values) == 1:\n",
    "        return values[0]\n",
    "    return values[1]\n",
    "\n",
    "# Make salary cleaned a string\n",
    "jobs_df_cleaned['cleaned_salary'] = jobs_df_cleaned['cleaned_salary'].astype(str)\n",
    "\n",
    "# Apply the functions to get min_salary and max_salary columns\n",
    "jobs_df_cleaned['min_salary'] = jobs_df_cleaned['cleaned_salary'].apply(get_min_salary)\n",
    "jobs_df_cleaned['max_salary'] = jobs_df_cleaned['cleaned_salary'].apply(get_max_salary)"
   ]
  },
  {
   "cell_type": "code",
   "execution_count": 18,
   "metadata": {},
   "outputs": [],
   "source": [
    "# Make an avg_salary column using the average of min and max\n",
    "jobs_df_cleaned['avg_salary'] = (jobs_df_cleaned['min_salary'].astype(float) + jobs_df_cleaned['max_salary'].astype(float)) / 2"
   ]
  },
  {
   "cell_type": "code",
   "execution_count": 19,
   "metadata": {},
   "outputs": [],
   "source": [
    "# If pay rate is hourly, multiply min_salary, max_salary, and avg_salary by 2080\n",
    "jobs_df_cleaned.loc[jobs_df_cleaned['pay_rate'] == 'hourly', ['min_salary', 'max_salary', 'avg_salary']] = jobs_df_cleaned.loc[jobs_df_cleaned['pay_rate'] == 'hourly', ['min_salary', 'max_salary', 'avg_salary']].astype(float) * 2080"
   ]
  },
  {
   "cell_type": "code",
   "execution_count": 20,
   "metadata": {},
   "outputs": [],
   "source": [
    "# If pay rate is monthly, multiply min_salary, max_salary, and avg_salary by 12\n",
    "jobs_df_cleaned.loc[jobs_df_cleaned['pay_rate'] == 'monthly', ['min_salary', 'max_salary', 'avg_salary']] = jobs_df_cleaned.loc[jobs_df_cleaned['pay_rate'] == 'monthly', ['min_salary', 'max_salary', 'avg_salary']].astype(float) * 12"
   ]
  },
  {
   "cell_type": "code",
   "execution_count": 21,
   "metadata": {},
   "outputs": [
    {
     "data": {
      "text/html": [
       "<div>\n",
       "<style scoped>\n",
       "    .dataframe tbody tr th:only-of-type {\n",
       "        vertical-align: middle;\n",
       "    }\n",
       "\n",
       "    .dataframe tbody tr th {\n",
       "        vertical-align: top;\n",
       "    }\n",
       "\n",
       "    .dataframe thead th {\n",
       "        text-align: right;\n",
       "    }\n",
       "</style>\n",
       "<table border=\"1\" class=\"dataframe\">\n",
       "  <thead>\n",
       "    <tr style=\"text-align: right;\">\n",
       "      <th></th>\n",
       "      <th>cleaned_salary</th>\n",
       "      <th>min_salary</th>\n",
       "      <th>max_salary</th>\n",
       "      <th>avg_salary</th>\n",
       "    </tr>\n",
       "  </thead>\n",
       "  <tbody>\n",
       "    <tr>\n",
       "      <th>16289</th>\n",
       "      <td>45–75</td>\n",
       "      <td>93600.0</td>\n",
       "      <td>156000.0</td>\n",
       "      <td>124800.0</td>\n",
       "    </tr>\n",
       "  </tbody>\n",
       "</table>\n",
       "</div>"
      ],
      "text/plain": [
       "      cleaned_salary min_salary max_salary  avg_salary\n",
       "16289        45–75      93600.0   156000.0    124800.0"
      ]
     },
     "execution_count": 21,
     "metadata": {},
     "output_type": "execute_result"
    }
   ],
   "source": [
    "# Look at hourly pay rates\n",
    "jobs_df_cleaned.filter(like='_salary').loc[jobs_df_cleaned['pay_rate'] == 'hourly'].sample(1)"
   ]
  },
  {
   "cell_type": "code",
   "execution_count": 22,
   "metadata": {},
   "outputs": [
    {
     "data": {
      "text/html": [
       "<div>\n",
       "<style scoped>\n",
       "    .dataframe tbody tr th:only-of-type {\n",
       "        vertical-align: middle;\n",
       "    }\n",
       "\n",
       "    .dataframe tbody tr th {\n",
       "        vertical-align: top;\n",
       "    }\n",
       "\n",
       "    .dataframe thead th {\n",
       "        text-align: right;\n",
       "    }\n",
       "</style>\n",
       "<table border=\"1\" class=\"dataframe\">\n",
       "  <thead>\n",
       "    <tr style=\"text-align: right;\">\n",
       "      <th></th>\n",
       "      <th>cleaned_salary</th>\n",
       "      <th>min_salary</th>\n",
       "      <th>max_salary</th>\n",
       "      <th>avg_salary</th>\n",
       "    </tr>\n",
       "  </thead>\n",
       "  <tbody>\n",
       "    <tr>\n",
       "      <th>25928</th>\n",
       "      <td>5000–6000</td>\n",
       "      <td>60000.0</td>\n",
       "      <td>72000.0</td>\n",
       "      <td>66000.0</td>\n",
       "    </tr>\n",
       "  </tbody>\n",
       "</table>\n",
       "</div>"
      ],
      "text/plain": [
       "      cleaned_salary min_salary max_salary  avg_salary\n",
       "25928    5000–6000      60000.0    72000.0     66000.0"
      ]
     },
     "execution_count": 22,
     "metadata": {},
     "output_type": "execute_result"
    }
   ],
   "source": [
    "# Look at monthly pay rates\n",
    "jobs_df_cleaned.filter(like='_salary').loc[jobs_df_cleaned['pay_rate'] == 'monthly'].sample(1)"
   ]
  },
  {
   "cell_type": "code",
   "execution_count": 23,
   "metadata": {},
   "outputs": [
    {
     "name": "stdout",
     "output_type": "stream",
     "text": [
      "Total rows: 34133\n",
      "Total columns: 17\n"
     ]
    },
    {
     "data": {
      "text/html": [
       "<div>\n",
       "<style scoped>\n",
       "    .dataframe tbody tr th:only-of-type {\n",
       "        vertical-align: middle;\n",
       "    }\n",
       "\n",
       "    .dataframe tbody tr th {\n",
       "        vertical-align: top;\n",
       "    }\n",
       "\n",
       "    .dataframe thead th {\n",
       "        text-align: right;\n",
       "    }\n",
       "</style>\n",
       "<table border=\"1\" class=\"dataframe\">\n",
       "  <thead>\n",
       "    <tr style=\"text-align: right;\">\n",
       "      <th></th>\n",
       "      <th>col_name</th>\n",
       "      <th>dtype</th>\n",
       "      <th>num_unique</th>\n",
       "      <th>num_null</th>\n",
       "      <th>pct_null</th>\n",
       "      <th>unique_values</th>\n",
       "      <th>range (min, max, mean)</th>\n",
       "    </tr>\n",
       "  </thead>\n",
       "  <tbody>\n",
       "    <tr>\n",
       "      <th>0</th>\n",
       "      <td>index</td>\n",
       "      <td>int64</td>\n",
       "      <td>34133</td>\n",
       "      <td>0</td>\n",
       "      <td>0.00000</td>\n",
       "      <td>Index([    0,     1,     2,     3,     4,     ...</td>\n",
       "      <td>(0, 34152)</td>\n",
       "    </tr>\n",
       "    <tr>\n",
       "      <th>1</th>\n",
       "      <td>title</td>\n",
       "      <td>object</td>\n",
       "      <td>13157</td>\n",
       "      <td>0</td>\n",
       "      <td>0.00000</td>\n",
       "      <td>[Data Analyst, Junior Data Analyst/Scientist R...</td>\n",
       "      <td>None</td>\n",
       "    </tr>\n",
       "    <tr>\n",
       "      <th>2</th>\n",
       "      <td>company_name</td>\n",
       "      <td>object</td>\n",
       "      <td>8208</td>\n",
       "      <td>0</td>\n",
       "      <td>0.00000</td>\n",
       "      <td>[Chloeta, Upwork, ATC, Guidehouse, AnMed Healt...</td>\n",
       "      <td>None</td>\n",
       "    </tr>\n",
       "    <tr>\n",
       "      <th>3</th>\n",
       "      <td>location</td>\n",
       "      <td>object</td>\n",
       "      <td>635</td>\n",
       "      <td>24</td>\n",
       "      <td>0.00070</td>\n",
       "      <td>[  Oklahoma City, OK   ,  Anywhere ,   United ...</td>\n",
       "      <td>None</td>\n",
       "    </tr>\n",
       "    <tr>\n",
       "      <th>4</th>\n",
       "      <td>via</td>\n",
       "      <td>object</td>\n",
       "      <td>556</td>\n",
       "      <td>9</td>\n",
       "      <td>0.00026</td>\n",
       "      <td>[via ZipRecruiter, via Upwork, via LinkedIn, v...</td>\n",
       "      <td>None</td>\n",
       "    </tr>\n",
       "    <tr>\n",
       "      <th>5</th>\n",
       "      <td>description</td>\n",
       "      <td>object</td>\n",
       "      <td>24276</td>\n",
       "      <td>0</td>\n",
       "      <td>0.00000</td>\n",
       "      <td>[Job Summary: The Data Analyst oversees data p...</td>\n",
       "      <td>None</td>\n",
       "    </tr>\n",
       "    <tr>\n",
       "      <th>6</th>\n",
       "      <td>extensions</td>\n",
       "      <td>object</td>\n",
       "      <td>5528</td>\n",
       "      <td>0</td>\n",
       "      <td>0.00000</td>\n",
       "      <td>[['21 hours ago', 'Full-time', 'Health insuran...</td>\n",
       "      <td>None</td>\n",
       "    </tr>\n",
       "    <tr>\n",
       "      <th>7</th>\n",
       "      <td>job_id</td>\n",
       "      <td>object</td>\n",
       "      <td>34133</td>\n",
       "      <td>0</td>\n",
       "      <td>0.00000</td>\n",
       "      <td>[eyJqb2JfdGl0bGUiOiJEYXRhIEFuYWx5c3QiLCJodGlkb...</td>\n",
       "      <td>None</td>\n",
       "    </tr>\n",
       "    <tr>\n",
       "      <th>8</th>\n",
       "      <td>posted_at</td>\n",
       "      <td>object</td>\n",
       "      <td>80</td>\n",
       "      <td>0</td>\n",
       "      <td>0.00000</td>\n",
       "      <td>[21 hours ago, 17 hours ago, 12 hours ago, 10 ...</td>\n",
       "      <td>None</td>\n",
       "    </tr>\n",
       "    <tr>\n",
       "      <th>9</th>\n",
       "      <td>schedule_type</td>\n",
       "      <td>object</td>\n",
       "      <td>22</td>\n",
       "      <td>177</td>\n",
       "      <td>0.00519</td>\n",
       "      <td>[Full-time, Contractor, Part-time, Internship,...</td>\n",
       "      <td>None</td>\n",
       "    </tr>\n",
       "    <tr>\n",
       "      <th>10</th>\n",
       "      <td>work_from_home</td>\n",
       "      <td>object</td>\n",
       "      <td>1</td>\n",
       "      <td>18880</td>\n",
       "      <td>0.55313</td>\n",
       "      <td>[nan, True]</td>\n",
       "      <td>None</td>\n",
       "    </tr>\n",
       "    <tr>\n",
       "      <th>11</th>\n",
       "      <td>salary</td>\n",
       "      <td>object</td>\n",
       "      <td>1308</td>\n",
       "      <td>28032</td>\n",
       "      <td>0.82126</td>\n",
       "      <td>[nan, 40–75 an hour, 43–48 an hour, 17–46 an h...</td>\n",
       "      <td>None</td>\n",
       "    </tr>\n",
       "    <tr>\n",
       "      <th>12</th>\n",
       "      <td>date_time</td>\n",
       "      <td>object</td>\n",
       "      <td>3557</td>\n",
       "      <td>0</td>\n",
       "      <td>0.00000</td>\n",
       "      <td>[2023-08-03 03:00:09.849838, 2023-08-03 03:00:...</td>\n",
       "      <td>None</td>\n",
       "    </tr>\n",
       "    <tr>\n",
       "      <th>13</th>\n",
       "      <td>cleaned_salary</td>\n",
       "      <td>object</td>\n",
       "      <td>1305</td>\n",
       "      <td>0</td>\n",
       "      <td>0.00000</td>\n",
       "      <td>[nan, 40–75  , 43–48  , 17–46  , 18.33–28.20  ...</td>\n",
       "      <td>None</td>\n",
       "    </tr>\n",
       "    <tr>\n",
       "      <th>14</th>\n",
       "      <td>pay_rate</td>\n",
       "      <td>object</td>\n",
       "      <td>3</td>\n",
       "      <td>28032</td>\n",
       "      <td>0.82126</td>\n",
       "      <td>[nan, hourly, yearly, monthly]</td>\n",
       "      <td>None</td>\n",
       "    </tr>\n",
       "    <tr>\n",
       "      <th>15</th>\n",
       "      <td>min_salary</td>\n",
       "      <td>object</td>\n",
       "      <td>451</td>\n",
       "      <td>0</td>\n",
       "      <td>0.00000</td>\n",
       "      <td>[nan, 83200.0, 89440.0, 35360.0, 38126.3999999...</td>\n",
       "      <td>None</td>\n",
       "    </tr>\n",
       "    <tr>\n",
       "      <th>16</th>\n",
       "      <td>max_salary</td>\n",
       "      <td>object</td>\n",
       "      <td>499</td>\n",
       "      <td>0</td>\n",
       "      <td>0.00000</td>\n",
       "      <td>[nan, 156000.0, 99840.0, 95680.0, 58656.0, 260...</td>\n",
       "      <td>None</td>\n",
       "    </tr>\n",
       "    <tr>\n",
       "      <th>17</th>\n",
       "      <td>avg_salary</td>\n",
       "      <td>float64</td>\n",
       "      <td>605</td>\n",
       "      <td>28032</td>\n",
       "      <td>0.82126</td>\n",
       "      <td>[nan, 119600.0, 94640.0, 65520.0, 48391.200000...</td>\n",
       "      <td>(15080.0, 624000.0, 93291.23470168826)</td>\n",
       "    </tr>\n",
       "  </tbody>\n",
       "</table>\n",
       "</div>"
      ],
      "text/plain": [
       "          col_name    dtype  num_unique  num_null  pct_null  \\\n",
       "0            index    int64       34133         0   0.00000   \n",
       "1            title   object       13157         0   0.00000   \n",
       "2     company_name   object        8208         0   0.00000   \n",
       "3         location   object         635        24   0.00070   \n",
       "4              via   object         556         9   0.00026   \n",
       "5      description   object       24276         0   0.00000   \n",
       "6       extensions   object        5528         0   0.00000   \n",
       "7           job_id   object       34133         0   0.00000   \n",
       "8        posted_at   object          80         0   0.00000   \n",
       "9    schedule_type   object          22       177   0.00519   \n",
       "10  work_from_home   object           1     18880   0.55313   \n",
       "11          salary   object        1308     28032   0.82126   \n",
       "12       date_time   object        3557         0   0.00000   \n",
       "13  cleaned_salary   object        1305         0   0.00000   \n",
       "14        pay_rate   object           3     28032   0.82126   \n",
       "15      min_salary   object         451         0   0.00000   \n",
       "16      max_salary   object         499         0   0.00000   \n",
       "17      avg_salary  float64         605     28032   0.82126   \n",
       "\n",
       "                                        unique_values  \\\n",
       "0   Index([    0,     1,     2,     3,     4,     ...   \n",
       "1   [Data Analyst, Junior Data Analyst/Scientist R...   \n",
       "2   [Chloeta, Upwork, ATC, Guidehouse, AnMed Healt...   \n",
       "3   [  Oklahoma City, OK   ,  Anywhere ,   United ...   \n",
       "4   [via ZipRecruiter, via Upwork, via LinkedIn, v...   \n",
       "5   [Job Summary: The Data Analyst oversees data p...   \n",
       "6   [['21 hours ago', 'Full-time', 'Health insuran...   \n",
       "7   [eyJqb2JfdGl0bGUiOiJEYXRhIEFuYWx5c3QiLCJodGlkb...   \n",
       "8   [21 hours ago, 17 hours ago, 12 hours ago, 10 ...   \n",
       "9   [Full-time, Contractor, Part-time, Internship,...   \n",
       "10                                        [nan, True]   \n",
       "11  [nan, 40–75 an hour, 43–48 an hour, 17–46 an h...   \n",
       "12  [2023-08-03 03:00:09.849838, 2023-08-03 03:00:...   \n",
       "13  [nan, 40–75  , 43–48  , 17–46  , 18.33–28.20  ...   \n",
       "14                     [nan, hourly, yearly, monthly]   \n",
       "15  [nan, 83200.0, 89440.0, 35360.0, 38126.3999999...   \n",
       "16  [nan, 156000.0, 99840.0, 95680.0, 58656.0, 260...   \n",
       "17  [nan, 119600.0, 94640.0, 65520.0, 48391.200000...   \n",
       "\n",
       "                    range (min, max, mean)  \n",
       "0                               (0, 34152)  \n",
       "1                                     None  \n",
       "2                                     None  \n",
       "3                                     None  \n",
       "4                                     None  \n",
       "5                                     None  \n",
       "6                                     None  \n",
       "7                                     None  \n",
       "8                                     None  \n",
       "9                                     None  \n",
       "10                                    None  \n",
       "11                                    None  \n",
       "12                                    None  \n",
       "13                                    None  \n",
       "14                                    None  \n",
       "15                                    None  \n",
       "16                                    None  \n",
       "17  (15080.0, 624000.0, 93291.23470168826)  "
      ]
     },
     "execution_count": 23,
     "metadata": {},
     "output_type": "execute_result"
    }
   ],
   "source": [
    "check_columns(jobs_df_cleaned)"
   ]
  },
  {
   "cell_type": "markdown",
   "metadata": {},
   "source": [
    "##### **Fixing Work From Home**"
   ]
  },
  {
   "cell_type": "code",
   "execution_count": 24,
   "metadata": {},
   "outputs": [],
   "source": [
    "# Fill NA in work from home with false\n",
    "jobs_df_cleaned['work_from_home'] = jobs_df_cleaned['work_from_home'].fillna(False)"
   ]
  },
  {
   "cell_type": "code",
   "execution_count": 25,
   "metadata": {},
   "outputs": [
    {
     "data": {
      "text/plain": [
       "work_from_home\n",
       "False    18880\n",
       "True     15253\n",
       "Name: count, dtype: int64"
      ]
     },
     "execution_count": 25,
     "metadata": {},
     "output_type": "execute_result"
    }
   ],
   "source": [
    "# value counts\n",
    "jobs_df_cleaned.work_from_home.value_counts(dropna=False)"
   ]
  },
  {
   "cell_type": "markdown",
   "metadata": {},
   "source": [
    "##### **Look at Location Nulls**"
   ]
  },
  {
   "cell_type": "code",
   "execution_count": 26,
   "metadata": {},
   "outputs": [
    {
     "data": {
      "text/plain": [
       "location\n",
       " Anywhere                 8159\n",
       "Anywhere                  7094\n",
       "  United States           5483\n",
       "United States             3660\n",
       "  Oklahoma City, OK        604\n",
       "                          ... \n",
       "  Cuba, KS                   1\n",
       "  Elmwood, MO                1\n",
       "  Edgerton, KS               1\n",
       "  Linwood, KS                1\n",
       "Sand Springs, OK             1\n",
       "Name: count, Length: 636, dtype: int64"
      ]
     },
     "execution_count": 26,
     "metadata": {},
     "output_type": "execute_result"
    }
   ],
   "source": [
    "# value counts\n",
    "jobs_df_cleaned.location.value_counts(dropna=False)"
   ]
  },
  {
   "cell_type": "code",
   "execution_count": 27,
   "metadata": {},
   "outputs": [],
   "source": [
    "# Remove leading whitespace\n",
    "jobs_df_cleaned['location'] = jobs_df_cleaned['location'].str.strip()"
   ]
  },
  {
   "cell_type": "code",
   "execution_count": 28,
   "metadata": {},
   "outputs": [
    {
     "data": {
      "text/plain": [
       "location\n",
       "Anywhere                        15253\n",
       "United States                    9143\n",
       "Kansas City, MO                  1072\n",
       "Oklahoma City, OK                 984\n",
       "Jefferson City, MO                767\n",
       "Bentonville, AR                   444\n",
       "Tulsa, OK                         392\n",
       "Wichita, KS                       352\n",
       "Overland Park, KS                 297\n",
       "Topeka, KS                        279\n",
       "Springfield, MO                   258\n",
       "Columbia, MO                      248\n",
       "Springdale, AR                    158\n",
       "Kansas City, KS                   145\n",
       "Lenexa, KS                        133\n",
       "Rogers, AR                        128\n",
       "Missouri                          111\n",
       "Fayetteville, AR                  109\n",
       "California, MO                    103\n",
       "Olathe, KS                         93\n",
       "Edmond, OK                         78\n",
       "Bella Vista, AR                    71\n",
       "Lee's Summit, MO                   69\n",
       "Norman, OK                         63\n",
       "Greenland, AR                      61\n",
       "Dearing, KS                        60\n",
       "Fort Smith, AR                     60\n",
       "Gravette, AR                       59\n",
       "Missouri City, MO                  57\n",
       "Lowell, AR                         57\n",
       "Noel, MO                           56\n",
       "Cassville, MO                      55\n",
       "Oklahoma                           53\n",
       "Warrensburg, MO                    53\n",
       "Centerton, AR                      49\n",
       "Cave Springs, AR                   49\n",
       "Pea Ridge, AR                      48\n",
       "Anderson, MO                       47\n",
       "Elkins, AR                         46\n",
       "Leawood, KS                        45\n",
       "Elm Springs, AR                    42\n",
       "Bartlesville, OK                   39\n",
       "Decatur, AR                        38\n",
       "Rolla, MO                          38\n",
       "Farmington, AR                     37\n",
       "Home, KS                           34\n",
       "Broken Arrow, OK                   33\n",
       "San Francisco, CA                  32\n",
       "Enid, OK                           31\n",
       "Goshen, AR                         31\n",
       "Maize, KS                          30\n",
       "Shawnee, KS                        29\n",
       "St Joseph, MO                      28\n",
       "Johnson, AR                        28\n",
       "Lawrence, KS                       27\n",
       "Tontitown, AR                      27\n",
       "Stillwater, OK                     26\n",
       "NaN                                24\n",
       "Midwest City, OK                   23\n",
       "The Village, OK                    21\n",
       "Derby, KS                          21\n",
       "Kansas                             21\n",
       "Moore, OK                          19\n",
       "Jones, OK                          19\n",
       "Manhattan, KS                      19\n",
       "Dover, AR                          18\n",
       "Grandview, MO                      18\n",
       "Yukon, OK                          18\n",
       "Nicoma Park, OK                    17\n",
       "Independence, MO                   17\n",
       "Joplin, MO                         17\n",
       "Andover, KS                        17\n",
       "Cammack Village, AR                17\n",
       "Nevada, MO                         17\n",
       "Warr Acres, OK                     17\n",
       "Mustang, OK                        17\n",
       "Mission, KS                        16\n",
       "Valley Center, KS                  16\n",
       "Conway, AR                         15\n",
       "Spencer, OK                        15\n",
       "Little Rock, AR                    15\n",
       "Haysville, KS                      15\n",
       "Goddard, KS                        15\n",
       "Benton, AR                         14\n",
       "Mulvane, KS                        14\n",
       "All, MO                            14\n",
       "Choctaw, OK                        14\n",
       "Nichols Hills, OK                  14\n",
       "United States (+1 other)           13\n",
       "Valley Brook, OK                   12\n",
       "Jamestown, MO                      12\n",
       "New Bloomfield, MO                 12\n",
       "Arcadia, OK                        12\n",
       "Tuttle, OK                         12\n",
       "McConnell AFB, KS                  12\n",
       "Benton, KS                         11\n",
       "Eugene, MO                         11\n",
       "Bel Aire, KS                       11\n",
       "Centralia, MO                      11\n",
       "Higginsville, MO                   11\n",
       "Leavenworth, KS                    11\n",
       "Rose Hill, KS                      11\n",
       "Centertown, MO                     11\n",
       "Dallas, AR                         11\n",
       "Piedmont, OK                       10\n",
       "Durant, OK                         10\n",
       "Branson, MO                        10\n",
       "De Soto, KS                        10\n",
       "Mountain Home, AR                  10\n",
       "Minneapolis, KS                    10\n",
       "Perry, OK                          10\n",
       "Del City, OK                       10\n",
       "Claremore, OK                       9\n",
       "Shawnee Mission, KS                 9\n",
       "Duncan, OK                          9\n",
       "Kechi, KS                           9\n",
       "Park City, KS                       9\n",
       "Edgar Springs, MO                   9\n",
       "Clearwater, KS                      9\n",
       "Colwich, KS                         9\n",
       "Duke, MO                            9\n",
       "Hartsburg, MO                       9\n",
       "Nashville, AR                       9\n",
       "Alameda, CA                         9\n",
       "Houstonia, MO                       9\n",
       "Nebraska City, NE                   9\n",
       "Wainwright, MO                      9\n",
       "Calhoun, MO                         8\n",
       "St James, MO                        8\n",
       "Mountain View, CA                   8\n",
       "Fulton, MO                          8\n",
       "Boonville, MO                       8\n",
       "Rocheport, MO                       8\n",
       "Sweet Springs, MO                   8\n",
       "Bethany, OK                         8\n",
       "Holts Summit, MO                    8\n",
       "Loose Creek, MO                     8\n",
       "Newburg, MO                         8\n",
       "Lawton, OK                          8\n",
       "New Home, MO                        8\n",
       "McGirk, MO                          8\n",
       "Fordland, MO                        7\n",
       "Holden, MO                          7\n",
       "Burlington, KS                      7\n",
       "Owasso, OK                          7\n",
       "Devils Elbow, MO                    7\n",
       "Bates City, MO                      7\n",
       "Nixa, MO                            7\n",
       "Linn, MO                            7\n",
       "Lone Jack, MO                       7\n",
       "Toronto, KS                         7\n",
       "Odessa, MO                          7\n",
       "Hot Springs, AR                     7\n",
       "Oakland, CA                         7\n",
       "United States (+2 others)           7\n",
       "Harrison, AR                        7\n",
       "Bentley, KS                         7\n",
       "St Thomas, MO                       7\n",
       "Marshfield, MO                      7\n",
       "Willard, MO                         6\n",
       "Rogersville, MO                     6\n",
       "Brinktown, MO                       6\n",
       "High Point, MO                      6\n",
       "Belle, MO                           6\n",
       "Bruner, MO                          6\n",
       "Walnut Grove, MO                    6\n",
       "Chilhowee, MO                       6\n",
       "Vienna, MO                          6\n",
       "Riverside, MO                       6\n",
       "Sherman, TX                         6\n",
       "Lincoln, KS                         6\n",
       "Pittsburg, KS                       6\n",
       "Beulah, MO                          6\n",
       "Salina, KS                          6\n",
       "Emma, MO                            6\n",
       "Lenox, MO                           6\n",
       "Prairie Village, KS                 6\n",
       "Skiatook, OK                        6\n",
       "Whiteman AFB, MO                    6\n",
       "Sand Springs, OK                    6\n",
       "Mayview, MO                         6\n",
       "Lake Spring, MO                     6\n",
       "Chamois, MO                         6\n",
       "Hallsville, MO                      6\n",
       "Billings, MO                        5\n",
       "Higbee, MO                          5\n",
       "Kingsville, MO                      5\n",
       "Bonnots Mill, MO                    5\n",
       "Liberty, MO                         5\n",
       "Helena, MO                          5\n",
       "Clark, MO                           5\n",
       "Madill, OK                          5\n",
       "St Elizabeth, MO                    5\n",
       "Turners, MO                         5\n",
       "Wesco, MO                           5\n",
       "Dixon, MO                           5\n",
       "San Jose, CA                        5\n",
       "Windsor, MO                         5\n",
       "Knob Noster, MO                     5\n",
       "New Franklin, MO                    5\n",
       "Jerome, MO                          5\n",
       "St Robert, MO                       5\n",
       "Avant, OK                           5\n",
       "Montreal, MO                        5\n",
       "Freeburg, MO                        5\n",
       "Siloam Springs, AR                  5\n",
       "Kellyville, OK                      5\n",
       "Tahlequah, OK                       5\n",
       "New York, NY                        5\n",
       "Cuba, MO                            5\n",
       "Lone Grove, OK                      5\n",
       "Ashland, MO                         5\n",
       "Bonner Springs, KS                  5\n",
       "Paris, TX                           5\n",
       "Jenks, OK                           5\n",
       "Prague, OK                          4\n",
       "Fair Grove, MO                      4\n",
       "Olean, MO                           4\n",
       "United States  (+1 other)           4\n",
       "Crane, MO                           4\n",
       "Lohman, MO                          4\n",
       "Sapulpa, OK                         4\n",
       "Kingdom City, MO                    4\n",
       "Kansas, OK                          4\n",
       "Webb City, MO                       4\n",
       "Meta, MO                            4\n",
       "Morrisville, MO                     4\n",
       "Ardmore, OK                         4\n",
       "Koeltztown, MO                      4\n",
       "Sacramento, CA                      4\n",
       "Auxvasse, MO                        4\n",
       "Vichy, MO                           4\n",
       "Kiefer, OK                          4\n",
       "Palo Alto, CA                       4\n",
       "Cook Station, MO                    4\n",
       "Sunnyvale, CA                       4\n",
       "La Monte, MO                        4\n",
       "Russellville, MO                    4\n",
       "Honey Grove, TX                     4\n",
       "Sturgeon, MO                        4\n",
       "Shawnee, OK                         3\n",
       "Bonham, TX                          3\n",
       "Atchison, KS                        3\n",
       "Cheyenne, OK                        3\n",
       "Corder, MO                          3\n",
       "McPherson, KS                       3\n",
       "Pottsboro, TX                       3\n",
       "Concordia, MO                       3\n",
       "Mounds, OK                          3\n",
       "Highlandville, MO                   3\n",
       "Waurika, OK                         3\n",
       "Tebbetts, MO                        3\n",
       "Calera, OK                          3\n",
       "Sparta, MO                          3\n",
       "Excelsior Springs, MO               3\n",
       "Henley, MO                          3\n",
       "Leonard, OK                         3\n",
       "Stanford, CA                        3\n",
       "Willow Springs, MO                  3\n",
       "Westphalia, MO                      3\n",
       "Leeton, MO                          3\n",
       "Elkland, MO                         3\n",
       "Grain Valley, MO                    3\n",
       "United States   (+25 others)        3\n",
       "Centerview, MO                      3\n",
       "Cupertino, CA                       3\n",
       "Hurley, MO                          3\n",
       "Alma, MO                            3\n",
       "Harrisburg, MO                      3\n",
       "New Century, KS                     3\n",
       "Pleasant Hope, MO                   3\n",
       "Green Ridge, MO                     3\n",
       "Gardner, KS                         3\n",
       "Strafford, MO                       3\n",
       "Blue Springs, MO                    3\n",
       "Prairie Home, MO                    3\n",
       "Raytown, MO                         3\n",
       "Stilwell, OK                        3\n",
       "Spokane, MO                         3\n",
       "Platte City, MO                     3\n",
       "Eastborough, KS                     3\n",
       "Redwood City, CA                    3\n",
       "Stilwell, KS                        3\n",
       "Everton, MO                         3\n",
       "Argyle, MO                          3\n",
       "Santa Clara, CA                     2\n",
       "Wooldridge, MO                      2\n",
       "Ivanhoe, TX                         2\n",
       "Brookston, TX                       2\n",
       "Oakhurst, OK                        2\n",
       "Halltown, MO                        2\n",
       "Independence, KS                    2\n",
       "Brighton, MO                        2\n",
       "Osage Beach, MO                     2\n",
       "Vera, OK                            2\n",
       "Washington, DC                      2\n",
       "Ozark, MO                           2\n",
       "Mannford, OK                        2\n",
       "Sperry, OK                          2\n",
       "Burlingame, CA                      2\n",
       "Fort Leavenworth, KS                2\n",
       "Marionville, MO                     2\n",
       "Ector, TX                           2\n",
       "Roxton, TX                          2\n",
       "Hutchinson, KS                      2\n",
       "Clarksville, TX                     2\n",
       "McAlester, OK                       2\n",
       "Lansing, KS                         2\n",
       "Weston, MO                          2\n",
       "Melbourne, AR                       2\n",
       "Clever, MO                          2\n",
       "Pleasanton, CA                      2\n",
       "Daly City, CA                       2\n",
       "Russellville, AR                    2\n",
       "Basehor, KS                         2\n",
       "Ponce De Leon, MO                   2\n",
       "San Mateo, CA                       2\n",
       "Hillsdale, KS                       2\n",
       "Glenpool, OK                        2\n",
       "Tonganoxie, KS                      2\n",
       "Eudora, KS                          2\n",
       "Mosby, MO                           2\n",
       "Lake Lotawana, MO                   2\n",
       "Strasburg, MO                       2\n",
       "United States (+26 others)          2\n",
       "Republic, MO                        2\n",
       "North Kansas City, MO               2\n",
       "Bolivar, MO                         2\n",
       "Lebanon, KS                         2\n",
       "Somerville, MA                      2\n",
       "Sun City, KS                        2\n",
       "Mokane, MO                          2\n",
       "Richards, MO                        2\n",
       "United States (+25 others)          2\n",
       "Tuscumbia, MO                       2\n",
       "Fayette, MO                         2\n",
       "Pacifica, CA                        2\n",
       "South San Francisco, CA             2\n",
       "Mountain View, AR                   2\n",
       "United States (+9 others)           2\n",
       "Dublin, CA                          2\n",
       "Murfreesboro, AR                    2\n",
       "Morganville, KS                     2\n",
       "Philadelphia, PA                    2\n",
       "Salem, MO                           2\n",
       "Osage, OK                           2\n",
       "Denison, TX                         2\n",
       "Menlo Park, CA                      2\n",
       "Tishomingo, OK                      2\n",
       "Marietta, OK                        2\n",
       "Whitesboro, TX                      2\n",
       "Schoenchen, KS                      1\n",
       "Redings Mill, MO                    1\n",
       "Lathrop, CA                         1\n",
       "Savoy, TX                           1\n",
       "Houston, MO                         1\n",
       "United States (+13 others)          1\n",
       "Windom, TX                          1\n",
       "Hunter, OK                          1\n",
       "Lexington, OK                       1\n",
       "Prue, OK                            1\n",
       "Smithville, MO                      1\n",
       "Gentry, AR                          1\n",
       "Lincoln, MO                         1\n",
       "Lake Quivira, KS                    1\n",
       "Carthage, MO                        1\n",
       "Arden-Arcade, CA                    1\n",
       "Shawnee County, KS                  1\n",
       "Novato, CA                          1\n",
       "Plant, AR                           1\n",
       "Atherton, CA                        1\n",
       "Monett, MO                          1\n",
       "Bois D'Arc, MO                      1\n",
       "Diggins, MO                         1\n",
       "Elmwood, MO                         1\n",
       "Cambridge, MA                       1\n",
       "Wichita, KS   (+2 others)           1\n",
       "Gladstone, MO                       1\n",
       "Stafford, KS                        1\n",
       "Ravenna, TX                         1\n",
       "Clinton, MO                         1\n",
       "Edwardsville, KS                    1\n",
       "Hayward, CA                         1\n",
       "Beloit, KS                          1\n",
       "Frontenac, KS                       1\n",
       "Solomon, KS                         1\n",
       "Porter, OK                          1\n",
       "Luther, OK                          1\n",
       "Parsons, KS                         1\n",
       "White Cloud, KS                     1\n",
       "San Ramon, CA                       1\n",
       "Healdton, OK                        1\n",
       "United States   (+13 others)        1\n",
       "Hatfield, AR                        1\n",
       "North Reading, MA                   1\n",
       "Eudora, MO                          1\n",
       "Licking, MO                         1\n",
       "Lacygne, KS                         1\n",
       "Bellaire, KS                        1\n",
       "Chickasha, OK                       1\n",
       "Moraga, CA                          1\n",
       "Santa Rosa, CA                      1\n",
       "Battlefield, MO                     1\n",
       "Moline, KS                          1\n",
       "Fresno, CA                          1\n",
       "Humphreys, MO                       1\n",
       "Albany, CA                          1\n",
       "Box, OK                             1\n",
       "Leon, KS                            1\n",
       "Grove, OK                           1\n",
       "Hollister, MO                       1\n",
       "Pawhuska, OK                        1\n",
       "Newport, MO                         1\n",
       "Clarksdale, MO                      1\n",
       "Heber Springs, AR                   1\n",
       "Spring Hill, KS                     1\n",
       "Louisburg, KS                       1\n",
       "United States (+7 others)           1\n",
       "Appleton, AR                        1\n",
       "Garfield, AR                        1\n",
       "United States (+10 others)          1\n",
       "United States   (+10 others)        1\n",
       "Bridgewater, MA                     1\n",
       "Bismarck, AR                        1\n",
       "Braintree, MA                       1\n",
       "Richmond, CA                        1\n",
       "Beatrice, NE                        1\n",
       "Castro Valley, CA                   1\n",
       "Marlborough, MA                     1\n",
       "Cherry Hill, AR                     1\n",
       "Chanute, KS                         1\n",
       "Rehoboth, MA                        1\n",
       "St Martins, MO                      1\n",
       "Lawton, KS                          1\n",
       "Oakview, MO                         1\n",
       "Greenwood, AR                       1\n",
       "Sedgwick, KS                        1\n",
       "Harrah, OK                          1\n",
       "Ada, OK                             1\n",
       "Berryton, KS                        1\n",
       "New York Township, MO               1\n",
       "Steedman, MO                        1\n",
       "Lemoore, CA                         1\n",
       "Blairstown, MO                      1\n",
       "Woodside, NY                        1\n",
       "Alburtis, PA                        1\n",
       "Riley, KS                           1\n",
       "Newark, NJ                          1\n",
       "Coweta, OK                          1\n",
       "Catoosa, OK                         1\n",
       "Roeland Park, KS                    1\n",
       "Concho, OK                          1\n",
       "Bixby, OK                           1\n",
       "Fairmont, OK                        1\n",
       "Summit, AR                          1\n",
       "United States   (+26 others)        1\n",
       "New York                            1\n",
       "West Plains, MO                     1\n",
       "United States   (+15 others)        1\n",
       "Warner, OK                          1\n",
       "Sugar Creek, MO                     1\n",
       "United States   (+2 others)         1\n",
       "Foster City, CA                     1\n",
       "Stamford, CT                        1\n",
       "United States (+18 others)          1\n",
       "Waldron, MO                         1\n",
       "Greenwood, MO                       1\n",
       "Roxbury, KS                         1\n",
       "Raymore, MO                         1\n",
       "Casa, AR                            1\n",
       "Linwood, KS                         1\n",
       "Edgerton, KS                        1\n",
       "Medicine Park, OK                   1\n",
       "Cuba, KS                            1\n",
       "Manchester, NH                      1\n",
       "United States (+11 others)          1\n",
       "Longford, KS                        1\n",
       "Reading, PA                         1\n",
       "Berryville, AR                      1\n",
       "Green, KS                           1\n",
       "United States   (+9 others)         1\n",
       "Westwood, MA                        1\n",
       "Northpoint, AR                      1\n",
       "Okay, OK                            1\n",
       "Revere, MA                          1\n",
       "Berkeley Heights, NJ                1\n",
       "Name: count, dtype: int64"
      ]
     },
     "execution_count": 28,
     "metadata": {},
     "output_type": "execute_result"
    }
   ],
   "source": [
    "# Make the output scrollable\n",
    "pd.set_option('display.max_rows', 500)\n",
    "\n",
    "# value counts\n",
    "jobs_df_cleaned.location.value_counts(dropna=False)"
   ]
  },
  {
   "cell_type": "code",
   "execution_count": 29,
   "metadata": {},
   "outputs": [
    {
     "name": "stdout",
     "output_type": "stream",
     "text": [
      "<class 'pandas.core.frame.DataFrame'>\n",
      "Index: 34133 entries, 0 to 34152\n",
      "Data columns (total 17 columns):\n",
      " #   Column          Non-Null Count  Dtype  \n",
      "---  ------          --------------  -----  \n",
      " 0   title           34133 non-null  object \n",
      " 1   company_name    34133 non-null  object \n",
      " 2   location        34109 non-null  object \n",
      " 3   via             34124 non-null  object \n",
      " 4   description     34133 non-null  object \n",
      " 5   extensions      34133 non-null  object \n",
      " 6   job_id          34133 non-null  object \n",
      " 7   posted_at       34133 non-null  object \n",
      " 8   schedule_type   33956 non-null  object \n",
      " 9   work_from_home  34133 non-null  bool   \n",
      " 10  salary          6101 non-null   object \n",
      " 11  date_time       34133 non-null  object \n",
      " 12  cleaned_salary  34133 non-null  object \n",
      " 13  pay_rate        6101 non-null   object \n",
      " 14  min_salary      34133 non-null  object \n",
      " 15  max_salary      34133 non-null  object \n",
      " 16  avg_salary      6101 non-null   float64\n",
      "dtypes: bool(1), float64(1), object(15)\n",
      "memory usage: 5.5+ MB\n"
     ]
    }
   ],
   "source": [
    "jobs_df_cleaned.info()"
   ]
  },
  {
   "cell_type": "code",
   "execution_count": 30,
   "metadata": {},
   "outputs": [],
   "source": [
    "# Make the column a string\n",
    "jobs_df_cleaned['location_cleaned'] = jobs_df_cleaned['location'].astype(str)\n",
    "\n",
    "# If the string has (+X others), change it to \"Multiple Locations\"\n",
    "jobs_df_cleaned['location_cleaned'] = jobs_df_cleaned['location_cleaned'].apply(lambda x: 'Multiple Locations' if '(' in x else x)"
   ]
  },
  {
   "cell_type": "code",
   "execution_count": 31,
   "metadata": {},
   "outputs": [],
   "source": [
    "# Make a lambda for all the states and apply it to a state column, to reduce location values\n",
    "jobs_df_cleaned['location_cleaned'] = jobs_df_cleaned['location_cleaned'].apply(lambda x: x.split(',')[1].strip() if ',' in x else x)"
   ]
  },
  {
   "cell_type": "code",
   "execution_count": 32,
   "metadata": {},
   "outputs": [],
   "source": [
    "# Create a dictionary with state abbreviations and full names\n",
    "state_dict = {'CA': 'California', 'NY': 'New York', 'NJ': 'New Jersey', 'MO': 'Missouri', 'OK': 'Oklahoma', 'KS': 'Kansas', 'AR': 'Arkansas', 'TX': 'Texas', 'MA': 'Massachusetts', 'NE': 'Nebraska', 'PA': 'Pennsylvania', 'DC': 'District of Columbia', 'CT': 'Connecticut', 'NH': 'New Hampshire'}\n",
    "\n",
    "# Replace state abbreviations with full names\n",
    "jobs_df_cleaned['location_cleaned'] = jobs_df_cleaned['location_cleaned'].replace(state_dict)"
   ]
  },
  {
   "cell_type": "code",
   "execution_count": 33,
   "metadata": {},
   "outputs": [
    {
     "data": {
      "text/plain": [
       "location_cleaned\n",
       "Anywhere                15253\n",
       "United States            9143\n",
       "Missouri                 3740\n",
       "Oklahoma                 2131\n",
       "Kansas                   1917\n",
       "Arkansas                 1691\n",
       "California                114\n",
       "Multiple Locations         45\n",
       "Texas                      38\n",
       "nan                        24\n",
       "Nebraska                   10\n",
       "Massachusetts              10\n",
       "New York                    7\n",
       "Pennsylvania                4\n",
       "District of Columbia        2\n",
       "New Jersey                  2\n",
       "Connecticut                 1\n",
       "New Hampshire               1\n",
       "Name: count, dtype: int64"
      ]
     },
     "execution_count": 33,
     "metadata": {},
     "output_type": "execute_result"
    }
   ],
   "source": [
    "# value counts\n",
    "jobs_df_cleaned.location_cleaned.value_counts(dropna=False)"
   ]
  },
  {
   "cell_type": "code",
   "execution_count": 34,
   "metadata": {},
   "outputs": [
    {
     "data": {
      "text/html": [
       "<div>\n",
       "<style scoped>\n",
       "    .dataframe tbody tr th:only-of-type {\n",
       "        vertical-align: middle;\n",
       "    }\n",
       "\n",
       "    .dataframe tbody tr th {\n",
       "        vertical-align: top;\n",
       "    }\n",
       "\n",
       "    .dataframe thead th {\n",
       "        text-align: right;\n",
       "    }\n",
       "</style>\n",
       "<table border=\"1\" class=\"dataframe\">\n",
       "  <thead>\n",
       "    <tr style=\"text-align: right;\">\n",
       "      <th></th>\n",
       "      <th>title</th>\n",
       "      <th>company_name</th>\n",
       "      <th>location</th>\n",
       "      <th>via</th>\n",
       "      <th>description</th>\n",
       "      <th>extensions</th>\n",
       "      <th>job_id</th>\n",
       "      <th>posted_at</th>\n",
       "      <th>schedule_type</th>\n",
       "      <th>work_from_home</th>\n",
       "      <th>salary</th>\n",
       "      <th>date_time</th>\n",
       "      <th>cleaned_salary</th>\n",
       "      <th>pay_rate</th>\n",
       "      <th>min_salary</th>\n",
       "      <th>max_salary</th>\n",
       "      <th>avg_salary</th>\n",
       "      <th>location_cleaned</th>\n",
       "    </tr>\n",
       "  </thead>\n",
       "  <tbody>\n",
       "    <tr>\n",
       "      <th>5632</th>\n",
       "      <td>Junior Data Scientist</td>\n",
       "      <td>AUX Partners</td>\n",
       "      <td>NaN</td>\n",
       "      <td>via LinkedIn</td>\n",
       "      <td>Junior Data Scientist\\n\\nSalary: 80-90k (annua...</td>\n",
       "      <td>['11 hours ago', '80K–90K a year', 'Full-time'...</td>\n",
       "      <td>eyJqb2JfdGl0bGUiOiJKdW5pb3IgRGF0YSBTY2llbnRpc3...</td>\n",
       "      <td>11 hours ago</td>\n",
       "      <td>Full-time</td>\n",
       "      <td>False</td>\n",
       "      <td>80K–90K a year</td>\n",
       "      <td>2023-10-10 03:00:29.664551</td>\n",
       "      <td>80000–90000</td>\n",
       "      <td>yearly</td>\n",
       "      <td>80000</td>\n",
       "      <td>90000</td>\n",
       "      <td>85000.0</td>\n",
       "      <td>nan</td>\n",
       "    </tr>\n",
       "    <tr>\n",
       "      <th>5726</th>\n",
       "      <td>Business Intelligence Analyst</td>\n",
       "      <td>Advantage Tech</td>\n",
       "      <td>NaN</td>\n",
       "      <td>via LinkedIn</td>\n",
       "      <td>Summary:\\n\\nThe BI Consultant will assist the ...</td>\n",
       "      <td>['13 hours ago', 'Full-time']</td>\n",
       "      <td>eyJqb2JfdGl0bGUiOiJCdXNpbmVzcyBJbnRlbGxpZ2VuY2...</td>\n",
       "      <td>13 hours ago</td>\n",
       "      <td>Full-time</td>\n",
       "      <td>False</td>\n",
       "      <td>NaN</td>\n",
       "      <td>2023-10-31 03:00:23.839760</td>\n",
       "      <td>nan</td>\n",
       "      <td>NaN</td>\n",
       "      <td>nan</td>\n",
       "      <td>nan</td>\n",
       "      <td>NaN</td>\n",
       "      <td>nan</td>\n",
       "    </tr>\n",
       "    <tr>\n",
       "      <th>5727</th>\n",
       "      <td>Business Intelligence Analyst</td>\n",
       "      <td>Advantage Tech</td>\n",
       "      <td>NaN</td>\n",
       "      <td>via LinkedIn</td>\n",
       "      <td>Summary:\\n\\nThe BI Consultant will assist the ...</td>\n",
       "      <td>['13 hours ago', 'Full-time']</td>\n",
       "      <td>eyJqb2JfdGl0bGUiOiJCdXNpbmVzcyBJbnRlbGxpZ2VuY2...</td>\n",
       "      <td>13 hours ago</td>\n",
       "      <td>Full-time</td>\n",
       "      <td>False</td>\n",
       "      <td>NaN</td>\n",
       "      <td>2023-10-31 03:00:25.990539</td>\n",
       "      <td>nan</td>\n",
       "      <td>NaN</td>\n",
       "      <td>nan</td>\n",
       "      <td>nan</td>\n",
       "      <td>NaN</td>\n",
       "      <td>nan</td>\n",
       "    </tr>\n",
       "    <tr>\n",
       "      <th>8282</th>\n",
       "      <td>Data Manager</td>\n",
       "      <td>Advantage Tech</td>\n",
       "      <td>NaN</td>\n",
       "      <td>via LinkedIn</td>\n",
       "      <td>REQUIREMENTS:\\n• Bachelor’s Degree in Computer...</td>\n",
       "      <td>['5 hours ago', '150K–155K a year', 'Full-time']</td>\n",
       "      <td>eyJqb2JfdGl0bGUiOiJEYXRhIE1hbmFnZXIiLCJodGlkb2...</td>\n",
       "      <td>5 hours ago</td>\n",
       "      <td>Full-time</td>\n",
       "      <td>False</td>\n",
       "      <td>150K–155K a year</td>\n",
       "      <td>2023-09-20 03:00:29.332068</td>\n",
       "      <td>150000–155000</td>\n",
       "      <td>yearly</td>\n",
       "      <td>150000</td>\n",
       "      <td>155000</td>\n",
       "      <td>152500.0</td>\n",
       "      <td>nan</td>\n",
       "    </tr>\n",
       "    <tr>\n",
       "      <th>8396</th>\n",
       "      <td>Business Intelligence Developer</td>\n",
       "      <td>Insight Global</td>\n",
       "      <td>NaN</td>\n",
       "      <td>via LinkedIn</td>\n",
       "      <td>Must haves:\\n• Confident in interfacing with b...</td>\n",
       "      <td>['8 hours ago', '60–65 an hour', 'Contractor']</td>\n",
       "      <td>eyJqb2JfdGl0bGUiOiJCdXNpbmVzcyBJbnRlbGxpZ2VuY2...</td>\n",
       "      <td>8 hours ago</td>\n",
       "      <td>Contractor</td>\n",
       "      <td>False</td>\n",
       "      <td>60–65 an hour</td>\n",
       "      <td>2023-09-27 03:00:31.478873</td>\n",
       "      <td>60–65</td>\n",
       "      <td>hourly</td>\n",
       "      <td>124800.0</td>\n",
       "      <td>135200.0</td>\n",
       "      <td>130000.0</td>\n",
       "      <td>nan</td>\n",
       "    </tr>\n",
       "    <tr>\n",
       "      <th>20856</th>\n",
       "      <td>Business Intelligence Analyst (Lenexa, KS)</td>\n",
       "      <td>Equity Staffing Group</td>\n",
       "      <td>NaN</td>\n",
       "      <td>via LinkedIn</td>\n",
       "      <td>Equity Staffing has a new Business Intelligenc...</td>\n",
       "      <td>['10 hours ago', 'Full-time']</td>\n",
       "      <td>eyJqb2JfdGl0bGUiOiJCdXNpbmVzcyBJbnRlbGxpZ2VuY2...</td>\n",
       "      <td>10 hours ago</td>\n",
       "      <td>Full-time</td>\n",
       "      <td>False</td>\n",
       "      <td>NaN</td>\n",
       "      <td>2023-06-24 03:00:25.669926</td>\n",
       "      <td>nan</td>\n",
       "      <td>NaN</td>\n",
       "      <td>nan</td>\n",
       "      <td>nan</td>\n",
       "      <td>NaN</td>\n",
       "      <td>nan</td>\n",
       "    </tr>\n",
       "    <tr>\n",
       "      <th>20859</th>\n",
       "      <td>Data Specialist</td>\n",
       "      <td>Advantage Tech</td>\n",
       "      <td>NaN</td>\n",
       "      <td>via LinkedIn</td>\n",
       "      <td>RESPONSIBILITIES\\n• Design, implement and main...</td>\n",
       "      <td>['10 hours ago', 'Full-time']</td>\n",
       "      <td>eyJqb2JfdGl0bGUiOiJEYXRhIFNwZWNpYWxpc3QiLCJodG...</td>\n",
       "      <td>10 hours ago</td>\n",
       "      <td>Full-time</td>\n",
       "      <td>False</td>\n",
       "      <td>NaN</td>\n",
       "      <td>2023-07-07 03:00:41.440998</td>\n",
       "      <td>nan</td>\n",
       "      <td>NaN</td>\n",
       "      <td>nan</td>\n",
       "      <td>nan</td>\n",
       "      <td>NaN</td>\n",
       "      <td>nan</td>\n",
       "    </tr>\n",
       "    <tr>\n",
       "      <th>20953</th>\n",
       "      <td>Business Intelligence Analyst (Lenexa, KS)</td>\n",
       "      <td>Equity Staffing Group</td>\n",
       "      <td>NaN</td>\n",
       "      <td>via LinkedIn</td>\n",
       "      <td>Equity Staffing has a new Business Intelligenc...</td>\n",
       "      <td>['10 hours ago', '95K–120K a year', 'Full-time']</td>\n",
       "      <td>eyJqb2JfdGl0bGUiOiJCdXNpbmVzcyBJbnRlbGxpZ2VuY2...</td>\n",
       "      <td>10 hours ago</td>\n",
       "      <td>Full-time</td>\n",
       "      <td>False</td>\n",
       "      <td>95K–120K a year</td>\n",
       "      <td>2023-06-28 03:00:37.183774</td>\n",
       "      <td>95000–120000</td>\n",
       "      <td>yearly</td>\n",
       "      <td>95000</td>\n",
       "      <td>120000</td>\n",
       "      <td>107500.0</td>\n",
       "      <td>nan</td>\n",
       "    </tr>\n",
       "    <tr>\n",
       "      <th>21283</th>\n",
       "      <td>Business Intelligence Analyst</td>\n",
       "      <td>Advantage Tech</td>\n",
       "      <td>NaN</td>\n",
       "      <td>via LinkedIn</td>\n",
       "      <td>The purpose of this position is to work direct...</td>\n",
       "      <td>['12 hours ago', '85K–95K a year', 'Full-time']</td>\n",
       "      <td>eyJqb2JfdGl0bGUiOiJCdXNpbmVzcyBJbnRlbGxpZ2VuY2...</td>\n",
       "      <td>12 hours ago</td>\n",
       "      <td>Full-time</td>\n",
       "      <td>False</td>\n",
       "      <td>85K–95K a year</td>\n",
       "      <td>2023-07-06 03:01:13.066700</td>\n",
       "      <td>85000–95000</td>\n",
       "      <td>yearly</td>\n",
       "      <td>85000</td>\n",
       "      <td>95000</td>\n",
       "      <td>90000.0</td>\n",
       "      <td>nan</td>\n",
       "    </tr>\n",
       "    <tr>\n",
       "      <th>24637</th>\n",
       "      <td>Health Data Analyst</td>\n",
       "      <td>Dobies Health Marketing</td>\n",
       "      <td>NaN</td>\n",
       "      <td>via LinkedIn</td>\n",
       "      <td>Health Data Analyst\\n\\nDobies Health Marketing...</td>\n",
       "      <td>['5 hours ago', 'Full-time']</td>\n",
       "      <td>eyJqb2JfdGl0bGUiOiJIZWFsdGggRGF0YSBBbmFseXN0Ii...</td>\n",
       "      <td>5 hours ago</td>\n",
       "      <td>Full-time</td>\n",
       "      <td>False</td>\n",
       "      <td>NaN</td>\n",
       "      <td>2023-01-20 04:00:46.456624</td>\n",
       "      <td>nan</td>\n",
       "      <td>NaN</td>\n",
       "      <td>nan</td>\n",
       "      <td>nan</td>\n",
       "      <td>NaN</td>\n",
       "      <td>nan</td>\n",
       "    </tr>\n",
       "    <tr>\n",
       "      <th>24694</th>\n",
       "      <td>Data Analysis Instructor</td>\n",
       "      <td>LaunchCode</td>\n",
       "      <td>NaN</td>\n",
       "      <td>via LinkedIn</td>\n",
       "      <td>LaunchCode is a non-profit solving the tech ta...</td>\n",
       "      <td>['5 hours ago', 'Contractor']</td>\n",
       "      <td>eyJqb2JfdGl0bGUiOiJEYXRhIEFuYWx5c2lzIEluc3RydW...</td>\n",
       "      <td>5 hours ago</td>\n",
       "      <td>Contractor</td>\n",
       "      <td>False</td>\n",
       "      <td>NaN</td>\n",
       "      <td>2022-11-12 04:00:19.130053</td>\n",
       "      <td>nan</td>\n",
       "      <td>NaN</td>\n",
       "      <td>nan</td>\n",
       "      <td>nan</td>\n",
       "      <td>NaN</td>\n",
       "      <td>nan</td>\n",
       "    </tr>\n",
       "    <tr>\n",
       "      <th>24921</th>\n",
       "      <td>Data Analyst</td>\n",
       "      <td>HeartLand, LLC</td>\n",
       "      <td>NaN</td>\n",
       "      <td>via LinkedIn</td>\n",
       "      <td>The Company:\\n\\nWe are a Private Equity backed...</td>\n",
       "      <td>['6 hours ago', 'Full-time', 'Health insurance...</td>\n",
       "      <td>eyJqb2JfdGl0bGUiOiJEYXRhIEFuYWx5c3QiLCJodGlkb2...</td>\n",
       "      <td>6 hours ago</td>\n",
       "      <td>Full-time</td>\n",
       "      <td>False</td>\n",
       "      <td>NaN</td>\n",
       "      <td>2022-11-19 04:00:24.941766</td>\n",
       "      <td>nan</td>\n",
       "      <td>NaN</td>\n",
       "      <td>nan</td>\n",
       "      <td>nan</td>\n",
       "      <td>NaN</td>\n",
       "      <td>nan</td>\n",
       "    </tr>\n",
       "    <tr>\n",
       "      <th>24926</th>\n",
       "      <td>Data Analyst</td>\n",
       "      <td>HeartLand, LLC</td>\n",
       "      <td>NaN</td>\n",
       "      <td>via LinkedIn</td>\n",
       "      <td>The Company:\\n\\nWe are a Private Equity backed...</td>\n",
       "      <td>['6 hours ago', 'Full-time', 'Health insurance...</td>\n",
       "      <td>eyJqb2JfdGl0bGUiOiJEYXRhIEFuYWx5c3QiLCJodGlkb2...</td>\n",
       "      <td>6 hours ago</td>\n",
       "      <td>Full-time</td>\n",
       "      <td>False</td>\n",
       "      <td>NaN</td>\n",
       "      <td>2022-12-23 04:00:34.658841</td>\n",
       "      <td>nan</td>\n",
       "      <td>NaN</td>\n",
       "      <td>nan</td>\n",
       "      <td>nan</td>\n",
       "      <td>NaN</td>\n",
       "      <td>nan</td>\n",
       "    </tr>\n",
       "    <tr>\n",
       "      <th>24927</th>\n",
       "      <td>Data Analyst</td>\n",
       "      <td>HeartLand, LLC</td>\n",
       "      <td>NaN</td>\n",
       "      <td>via LinkedIn</td>\n",
       "      <td>The Company:\\n\\nWe are a Private Equity backed...</td>\n",
       "      <td>['6 hours ago', 'Full-time', 'Health insurance...</td>\n",
       "      <td>eyJqb2JfdGl0bGUiOiJEYXRhIEFuYWx5c3QiLCJodGlkb2...</td>\n",
       "      <td>6 hours ago</td>\n",
       "      <td>Full-time</td>\n",
       "      <td>False</td>\n",
       "      <td>NaN</td>\n",
       "      <td>2022-12-23 04:00:41.415302</td>\n",
       "      <td>nan</td>\n",
       "      <td>NaN</td>\n",
       "      <td>nan</td>\n",
       "      <td>nan</td>\n",
       "      <td>NaN</td>\n",
       "      <td>nan</td>\n",
       "    </tr>\n",
       "    <tr>\n",
       "      <th>24933</th>\n",
       "      <td>Data Analyst</td>\n",
       "      <td>HeartLand, LLC</td>\n",
       "      <td>NaN</td>\n",
       "      <td>via LinkedIn</td>\n",
       "      <td>The Company:\\n\\nWe are a Private Equity backed...</td>\n",
       "      <td>['6 hours ago', 'Full-time', 'Health insurance...</td>\n",
       "      <td>eyJqb2JfdGl0bGUiOiJEYXRhIEFuYWx5c3QiLCJodGlkb2...</td>\n",
       "      <td>6 hours ago</td>\n",
       "      <td>Full-time</td>\n",
       "      <td>False</td>\n",
       "      <td>NaN</td>\n",
       "      <td>2023-01-19 04:01:01.003733</td>\n",
       "      <td>nan</td>\n",
       "      <td>NaN</td>\n",
       "      <td>nan</td>\n",
       "      <td>nan</td>\n",
       "      <td>NaN</td>\n",
       "      <td>nan</td>\n",
       "    </tr>\n",
       "    <tr>\n",
       "      <th>25936</th>\n",
       "      <td>Data Analyst</td>\n",
       "      <td>Robert Half</td>\n",
       "      <td>NaN</td>\n",
       "      <td>via LinkedIn</td>\n",
       "      <td>Perm Position: DATA ANALYST | BUSINESS INTELLI...</td>\n",
       "      <td>['8 hours ago', '85K–120K a year', 'Full-time'...</td>\n",
       "      <td>eyJqb2JfdGl0bGUiOiJEYXRhIEFuYWx5c3QiLCJodGlkb2...</td>\n",
       "      <td>8 hours ago</td>\n",
       "      <td>Full-time</td>\n",
       "      <td>False</td>\n",
       "      <td>85K–120K a year</td>\n",
       "      <td>2023-05-07 03:00:11.088703</td>\n",
       "      <td>85000–120000</td>\n",
       "      <td>yearly</td>\n",
       "      <td>85000</td>\n",
       "      <td>120000</td>\n",
       "      <td>102500.0</td>\n",
       "      <td>nan</td>\n",
       "    </tr>\n",
       "    <tr>\n",
       "      <th>26352</th>\n",
       "      <td>Data Engineer</td>\n",
       "      <td>Savion, LLC</td>\n",
       "      <td>NaN</td>\n",
       "      <td>via LinkedIn</td>\n",
       "      <td>Savion, a Shell Group portfolio company operat...</td>\n",
       "      <td>['10 hours ago', 'Full-time', 'Health insuranc...</td>\n",
       "      <td>eyJqb2JfdGl0bGUiOiJEYXRhIEVuZ2luZWVyIiwiaHRpZG...</td>\n",
       "      <td>10 hours ago</td>\n",
       "      <td>Full-time</td>\n",
       "      <td>False</td>\n",
       "      <td>NaN</td>\n",
       "      <td>2023-03-06 04:00:13.607892</td>\n",
       "      <td>nan</td>\n",
       "      <td>NaN</td>\n",
       "      <td>nan</td>\n",
       "      <td>nan</td>\n",
       "      <td>NaN</td>\n",
       "      <td>nan</td>\n",
       "    </tr>\n",
       "    <tr>\n",
       "      <th>26723</th>\n",
       "      <td>Digital Analytics - Lead Data Engineer</td>\n",
       "      <td>AdamsGabbert</td>\n",
       "      <td>NaN</td>\n",
       "      <td>via LinkedIn</td>\n",
       "      <td>Seeking a lead data engineer of digital analyt...</td>\n",
       "      <td>['11 hours ago', 'Full-time', 'Health insuranc...</td>\n",
       "      <td>eyJqb2JfdGl0bGUiOiJEaWdpdGFsIEFuYWx5dGljcyAtIE...</td>\n",
       "      <td>11 hours ago</td>\n",
       "      <td>Full-time</td>\n",
       "      <td>False</td>\n",
       "      <td>NaN</td>\n",
       "      <td>2023-03-14 03:00:49.387326</td>\n",
       "      <td>nan</td>\n",
       "      <td>NaN</td>\n",
       "      <td>nan</td>\n",
       "      <td>nan</td>\n",
       "      <td>NaN</td>\n",
       "      <td>nan</td>\n",
       "    </tr>\n",
       "    <tr>\n",
       "      <th>27151</th>\n",
       "      <td>Data Analyst</td>\n",
       "      <td>AUX Partners</td>\n",
       "      <td>NaN</td>\n",
       "      <td>via LinkedIn</td>\n",
       "      <td>Data Analyst\\n\\nLocation: North Kansas City; h...</td>\n",
       "      <td>['12 hours ago', 'Full-time', 'No degree menti...</td>\n",
       "      <td>eyJqb2JfdGl0bGUiOiJEYXRhIEFuYWx5c3QiLCJodGlkb2...</td>\n",
       "      <td>12 hours ago</td>\n",
       "      <td>Full-time</td>\n",
       "      <td>False</td>\n",
       "      <td>NaN</td>\n",
       "      <td>2023-02-04 04:00:15.627249</td>\n",
       "      <td>nan</td>\n",
       "      <td>NaN</td>\n",
       "      <td>nan</td>\n",
       "      <td>nan</td>\n",
       "      <td>NaN</td>\n",
       "      <td>nan</td>\n",
       "    </tr>\n",
       "    <tr>\n",
       "      <th>27152</th>\n",
       "      <td>Data Analyst</td>\n",
       "      <td>AUX Partners</td>\n",
       "      <td>NaN</td>\n",
       "      <td>via LinkedIn</td>\n",
       "      <td>Data Analyst\\n\\nLocation: North Kansas City; h...</td>\n",
       "      <td>['12 hours ago', 'Full-time', 'No degree menti...</td>\n",
       "      <td>eyJqb2JfdGl0bGUiOiJEYXRhIEFuYWx5c3QiLCJodGlkb2...</td>\n",
       "      <td>12 hours ago</td>\n",
       "      <td>Full-time</td>\n",
       "      <td>False</td>\n",
       "      <td>NaN</td>\n",
       "      <td>2023-02-04 04:00:18.080278</td>\n",
       "      <td>nan</td>\n",
       "      <td>NaN</td>\n",
       "      <td>nan</td>\n",
       "      <td>nan</td>\n",
       "      <td>NaN</td>\n",
       "      <td>nan</td>\n",
       "    </tr>\n",
       "    <tr>\n",
       "      <th>27569</th>\n",
       "      <td>Operations Data Analyst</td>\n",
       "      <td>SpecChem</td>\n",
       "      <td>NaN</td>\n",
       "      <td>via LinkedIn</td>\n",
       "      <td>SpecChem, LLC supplies and services the concre...</td>\n",
       "      <td>['13 hours ago', 'Full-time', 'Health insuranc...</td>\n",
       "      <td>eyJqb2JfdGl0bGUiOiJPcGVyYXRpb25zIERhdGEgQW5hbH...</td>\n",
       "      <td>13 hours ago</td>\n",
       "      <td>Full-time</td>\n",
       "      <td>False</td>\n",
       "      <td>NaN</td>\n",
       "      <td>2022-11-19 04:00:32.950855</td>\n",
       "      <td>nan</td>\n",
       "      <td>NaN</td>\n",
       "      <td>nan</td>\n",
       "      <td>nan</td>\n",
       "      <td>NaN</td>\n",
       "      <td>nan</td>\n",
       "    </tr>\n",
       "    <tr>\n",
       "      <th>28912</th>\n",
       "      <td>Data Scientist Intern - Technology Consulting ...</td>\n",
       "      <td>1898 &amp; Co.</td>\n",
       "      <td>NaN</td>\n",
       "      <td>via LinkedIn</td>\n",
       "      <td>Description\\n\\nData Scientist Intern is respon...</td>\n",
       "      <td>['16 hours ago', 'Full-time']</td>\n",
       "      <td>eyJqb2JfdGl0bGUiOiJEYXRhIFNjaWVudGlzdCBJbnRlcm...</td>\n",
       "      <td>16 hours ago</td>\n",
       "      <td>Full-time</td>\n",
       "      <td>False</td>\n",
       "      <td>NaN</td>\n",
       "      <td>2023-01-27 04:01:01.592364</td>\n",
       "      <td>nan</td>\n",
       "      <td>NaN</td>\n",
       "      <td>nan</td>\n",
       "      <td>nan</td>\n",
       "      <td>NaN</td>\n",
       "      <td>nan</td>\n",
       "    </tr>\n",
       "    <tr>\n",
       "      <th>29217</th>\n",
       "      <td>Data Scientist Intern - Technology Consulting ...</td>\n",
       "      <td>1898 &amp; Co.</td>\n",
       "      <td>NaN</td>\n",
       "      <td>via LinkedIn</td>\n",
       "      <td>Description\\n\\nData Scientist Intern is respon...</td>\n",
       "      <td>['17 hours ago', 'Full-time']</td>\n",
       "      <td>eyJqb2JfdGl0bGUiOiJEYXRhIFNjaWVudGlzdCBJbnRlcm...</td>\n",
       "      <td>17 hours ago</td>\n",
       "      <td>Full-time</td>\n",
       "      <td>False</td>\n",
       "      <td>NaN</td>\n",
       "      <td>2023-01-05 04:00:49.964702</td>\n",
       "      <td>nan</td>\n",
       "      <td>NaN</td>\n",
       "      <td>nan</td>\n",
       "      <td>nan</td>\n",
       "      <td>NaN</td>\n",
       "      <td>nan</td>\n",
       "    </tr>\n",
       "    <tr>\n",
       "      <th>29231</th>\n",
       "      <td>Data Scientist Intern - Technology Consulting ...</td>\n",
       "      <td>1898 &amp; Co.</td>\n",
       "      <td>NaN</td>\n",
       "      <td>via LinkedIn</td>\n",
       "      <td>Description\\n\\nData Scientist Intern is respon...</td>\n",
       "      <td>['17 hours ago', 'Full-time']</td>\n",
       "      <td>eyJqb2JfdGl0bGUiOiJEYXRhIFNjaWVudGlzdCBJbnRlcm...</td>\n",
       "      <td>17 hours ago</td>\n",
       "      <td>Full-time</td>\n",
       "      <td>False</td>\n",
       "      <td>NaN</td>\n",
       "      <td>2023-03-12 04:00:42.087904</td>\n",
       "      <td>nan</td>\n",
       "      <td>NaN</td>\n",
       "      <td>nan</td>\n",
       "      <td>nan</td>\n",
       "      <td>NaN</td>\n",
       "      <td>nan</td>\n",
       "    </tr>\n",
       "  </tbody>\n",
       "</table>\n",
       "</div>"
      ],
      "text/plain": [
       "                                                   title  \\\n",
       "5632                               Junior Data Scientist   \n",
       "5726                       Business Intelligence Analyst   \n",
       "5727                       Business Intelligence Analyst   \n",
       "8282                                        Data Manager   \n",
       "8396                     Business Intelligence Developer   \n",
       "20856         Business Intelligence Analyst (Lenexa, KS)   \n",
       "20859                                    Data Specialist   \n",
       "20953         Business Intelligence Analyst (Lenexa, KS)   \n",
       "21283                      Business Intelligence Analyst   \n",
       "24637                                Health Data Analyst   \n",
       "24694                           Data Analysis Instructor   \n",
       "24921                                       Data Analyst   \n",
       "24926                                       Data Analyst   \n",
       "24927                                       Data Analyst   \n",
       "24933                                       Data Analyst   \n",
       "25936                                       Data Analyst   \n",
       "26352                                      Data Engineer   \n",
       "26723             Digital Analytics - Lead Data Engineer   \n",
       "27151                                       Data Analyst   \n",
       "27152                                       Data Analyst   \n",
       "27569                            Operations Data Analyst   \n",
       "28912  Data Scientist Intern - Technology Consulting ...   \n",
       "29217  Data Scientist Intern - Technology Consulting ...   \n",
       "29231  Data Scientist Intern - Technology Consulting ...   \n",
       "\n",
       "                  company_name location           via  \\\n",
       "5632              AUX Partners      NaN  via LinkedIn   \n",
       "5726            Advantage Tech      NaN  via LinkedIn   \n",
       "5727            Advantage Tech      NaN  via LinkedIn   \n",
       "8282            Advantage Tech      NaN  via LinkedIn   \n",
       "8396            Insight Global      NaN  via LinkedIn   \n",
       "20856    Equity Staffing Group      NaN  via LinkedIn   \n",
       "20859           Advantage Tech      NaN  via LinkedIn   \n",
       "20953    Equity Staffing Group      NaN  via LinkedIn   \n",
       "21283           Advantage Tech      NaN  via LinkedIn   \n",
       "24637  Dobies Health Marketing      NaN  via LinkedIn   \n",
       "24694               LaunchCode      NaN  via LinkedIn   \n",
       "24921           HeartLand, LLC      NaN  via LinkedIn   \n",
       "24926           HeartLand, LLC      NaN  via LinkedIn   \n",
       "24927           HeartLand, LLC      NaN  via LinkedIn   \n",
       "24933           HeartLand, LLC      NaN  via LinkedIn   \n",
       "25936              Robert Half      NaN  via LinkedIn   \n",
       "26352              Savion, LLC      NaN  via LinkedIn   \n",
       "26723             AdamsGabbert      NaN  via LinkedIn   \n",
       "27151             AUX Partners      NaN  via LinkedIn   \n",
       "27152             AUX Partners      NaN  via LinkedIn   \n",
       "27569                 SpecChem      NaN  via LinkedIn   \n",
       "28912               1898 & Co.      NaN  via LinkedIn   \n",
       "29217               1898 & Co.      NaN  via LinkedIn   \n",
       "29231               1898 & Co.      NaN  via LinkedIn   \n",
       "\n",
       "                                             description  \\\n",
       "5632   Junior Data Scientist\\n\\nSalary: 80-90k (annua...   \n",
       "5726   Summary:\\n\\nThe BI Consultant will assist the ...   \n",
       "5727   Summary:\\n\\nThe BI Consultant will assist the ...   \n",
       "8282   REQUIREMENTS:\\n• Bachelor’s Degree in Computer...   \n",
       "8396   Must haves:\\n• Confident in interfacing with b...   \n",
       "20856  Equity Staffing has a new Business Intelligenc...   \n",
       "20859  RESPONSIBILITIES\\n• Design, implement and main...   \n",
       "20953  Equity Staffing has a new Business Intelligenc...   \n",
       "21283  The purpose of this position is to work direct...   \n",
       "24637  Health Data Analyst\\n\\nDobies Health Marketing...   \n",
       "24694  LaunchCode is a non-profit solving the tech ta...   \n",
       "24921  The Company:\\n\\nWe are a Private Equity backed...   \n",
       "24926  The Company:\\n\\nWe are a Private Equity backed...   \n",
       "24927  The Company:\\n\\nWe are a Private Equity backed...   \n",
       "24933  The Company:\\n\\nWe are a Private Equity backed...   \n",
       "25936  Perm Position: DATA ANALYST | BUSINESS INTELLI...   \n",
       "26352  Savion, a Shell Group portfolio company operat...   \n",
       "26723  Seeking a lead data engineer of digital analyt...   \n",
       "27151  Data Analyst\\n\\nLocation: North Kansas City; h...   \n",
       "27152  Data Analyst\\n\\nLocation: North Kansas City; h...   \n",
       "27569  SpecChem, LLC supplies and services the concre...   \n",
       "28912  Description\\n\\nData Scientist Intern is respon...   \n",
       "29217  Description\\n\\nData Scientist Intern is respon...   \n",
       "29231  Description\\n\\nData Scientist Intern is respon...   \n",
       "\n",
       "                                              extensions  \\\n",
       "5632   ['11 hours ago', '80K–90K a year', 'Full-time'...   \n",
       "5726                       ['13 hours ago', 'Full-time']   \n",
       "5727                       ['13 hours ago', 'Full-time']   \n",
       "8282    ['5 hours ago', '150K–155K a year', 'Full-time']   \n",
       "8396      ['8 hours ago', '60–65 an hour', 'Contractor']   \n",
       "20856                      ['10 hours ago', 'Full-time']   \n",
       "20859                      ['10 hours ago', 'Full-time']   \n",
       "20953   ['10 hours ago', '95K–120K a year', 'Full-time']   \n",
       "21283    ['12 hours ago', '85K–95K a year', 'Full-time']   \n",
       "24637                       ['5 hours ago', 'Full-time']   \n",
       "24694                      ['5 hours ago', 'Contractor']   \n",
       "24921  ['6 hours ago', 'Full-time', 'Health insurance...   \n",
       "24926  ['6 hours ago', 'Full-time', 'Health insurance...   \n",
       "24927  ['6 hours ago', 'Full-time', 'Health insurance...   \n",
       "24933  ['6 hours ago', 'Full-time', 'Health insurance...   \n",
       "25936  ['8 hours ago', '85K–120K a year', 'Full-time'...   \n",
       "26352  ['10 hours ago', 'Full-time', 'Health insuranc...   \n",
       "26723  ['11 hours ago', 'Full-time', 'Health insuranc...   \n",
       "27151  ['12 hours ago', 'Full-time', 'No degree menti...   \n",
       "27152  ['12 hours ago', 'Full-time', 'No degree menti...   \n",
       "27569  ['13 hours ago', 'Full-time', 'Health insuranc...   \n",
       "28912                      ['16 hours ago', 'Full-time']   \n",
       "29217                      ['17 hours ago', 'Full-time']   \n",
       "29231                      ['17 hours ago', 'Full-time']   \n",
       "\n",
       "                                                  job_id     posted_at  \\\n",
       "5632   eyJqb2JfdGl0bGUiOiJKdW5pb3IgRGF0YSBTY2llbnRpc3...  11 hours ago   \n",
       "5726   eyJqb2JfdGl0bGUiOiJCdXNpbmVzcyBJbnRlbGxpZ2VuY2...  13 hours ago   \n",
       "5727   eyJqb2JfdGl0bGUiOiJCdXNpbmVzcyBJbnRlbGxpZ2VuY2...  13 hours ago   \n",
       "8282   eyJqb2JfdGl0bGUiOiJEYXRhIE1hbmFnZXIiLCJodGlkb2...   5 hours ago   \n",
       "8396   eyJqb2JfdGl0bGUiOiJCdXNpbmVzcyBJbnRlbGxpZ2VuY2...   8 hours ago   \n",
       "20856  eyJqb2JfdGl0bGUiOiJCdXNpbmVzcyBJbnRlbGxpZ2VuY2...  10 hours ago   \n",
       "20859  eyJqb2JfdGl0bGUiOiJEYXRhIFNwZWNpYWxpc3QiLCJodG...  10 hours ago   \n",
       "20953  eyJqb2JfdGl0bGUiOiJCdXNpbmVzcyBJbnRlbGxpZ2VuY2...  10 hours ago   \n",
       "21283  eyJqb2JfdGl0bGUiOiJCdXNpbmVzcyBJbnRlbGxpZ2VuY2...  12 hours ago   \n",
       "24637  eyJqb2JfdGl0bGUiOiJIZWFsdGggRGF0YSBBbmFseXN0Ii...   5 hours ago   \n",
       "24694  eyJqb2JfdGl0bGUiOiJEYXRhIEFuYWx5c2lzIEluc3RydW...   5 hours ago   \n",
       "24921  eyJqb2JfdGl0bGUiOiJEYXRhIEFuYWx5c3QiLCJodGlkb2...   6 hours ago   \n",
       "24926  eyJqb2JfdGl0bGUiOiJEYXRhIEFuYWx5c3QiLCJodGlkb2...   6 hours ago   \n",
       "24927  eyJqb2JfdGl0bGUiOiJEYXRhIEFuYWx5c3QiLCJodGlkb2...   6 hours ago   \n",
       "24933  eyJqb2JfdGl0bGUiOiJEYXRhIEFuYWx5c3QiLCJodGlkb2...   6 hours ago   \n",
       "25936  eyJqb2JfdGl0bGUiOiJEYXRhIEFuYWx5c3QiLCJodGlkb2...   8 hours ago   \n",
       "26352  eyJqb2JfdGl0bGUiOiJEYXRhIEVuZ2luZWVyIiwiaHRpZG...  10 hours ago   \n",
       "26723  eyJqb2JfdGl0bGUiOiJEaWdpdGFsIEFuYWx5dGljcyAtIE...  11 hours ago   \n",
       "27151  eyJqb2JfdGl0bGUiOiJEYXRhIEFuYWx5c3QiLCJodGlkb2...  12 hours ago   \n",
       "27152  eyJqb2JfdGl0bGUiOiJEYXRhIEFuYWx5c3QiLCJodGlkb2...  12 hours ago   \n",
       "27569  eyJqb2JfdGl0bGUiOiJPcGVyYXRpb25zIERhdGEgQW5hbH...  13 hours ago   \n",
       "28912  eyJqb2JfdGl0bGUiOiJEYXRhIFNjaWVudGlzdCBJbnRlcm...  16 hours ago   \n",
       "29217  eyJqb2JfdGl0bGUiOiJEYXRhIFNjaWVudGlzdCBJbnRlcm...  17 hours ago   \n",
       "29231  eyJqb2JfdGl0bGUiOiJEYXRhIFNjaWVudGlzdCBJbnRlcm...  17 hours ago   \n",
       "\n",
       "      schedule_type  work_from_home            salary  \\\n",
       "5632      Full-time           False    80K–90K a year   \n",
       "5726      Full-time           False               NaN   \n",
       "5727      Full-time           False               NaN   \n",
       "8282      Full-time           False  150K–155K a year   \n",
       "8396     Contractor           False     60–65 an hour   \n",
       "20856     Full-time           False               NaN   \n",
       "20859     Full-time           False               NaN   \n",
       "20953     Full-time           False   95K–120K a year   \n",
       "21283     Full-time           False    85K–95K a year   \n",
       "24637     Full-time           False               NaN   \n",
       "24694    Contractor           False               NaN   \n",
       "24921     Full-time           False               NaN   \n",
       "24926     Full-time           False               NaN   \n",
       "24927     Full-time           False               NaN   \n",
       "24933     Full-time           False               NaN   \n",
       "25936     Full-time           False   85K–120K a year   \n",
       "26352     Full-time           False               NaN   \n",
       "26723     Full-time           False               NaN   \n",
       "27151     Full-time           False               NaN   \n",
       "27152     Full-time           False               NaN   \n",
       "27569     Full-time           False               NaN   \n",
       "28912     Full-time           False               NaN   \n",
       "29217     Full-time           False               NaN   \n",
       "29231     Full-time           False               NaN   \n",
       "\n",
       "                        date_time   cleaned_salary pay_rate min_salary  \\\n",
       "5632   2023-10-10 03:00:29.664551    80000–90000     yearly      80000   \n",
       "5726   2023-10-31 03:00:23.839760              nan      NaN        nan   \n",
       "5727   2023-10-31 03:00:25.990539              nan      NaN        nan   \n",
       "8282   2023-09-20 03:00:29.332068  150000–155000     yearly     150000   \n",
       "8396   2023-09-27 03:00:31.478873          60–65     hourly   124800.0   \n",
       "20856  2023-06-24 03:00:25.669926              nan      NaN        nan   \n",
       "20859  2023-07-07 03:00:41.440998              nan      NaN        nan   \n",
       "20953  2023-06-28 03:00:37.183774   95000–120000     yearly      95000   \n",
       "21283  2023-07-06 03:01:13.066700    85000–95000     yearly      85000   \n",
       "24637  2023-01-20 04:00:46.456624              nan      NaN        nan   \n",
       "24694  2022-11-12 04:00:19.130053              nan      NaN        nan   \n",
       "24921  2022-11-19 04:00:24.941766              nan      NaN        nan   \n",
       "24926  2022-12-23 04:00:34.658841              nan      NaN        nan   \n",
       "24927  2022-12-23 04:00:41.415302              nan      NaN        nan   \n",
       "24933  2023-01-19 04:01:01.003733              nan      NaN        nan   \n",
       "25936  2023-05-07 03:00:11.088703   85000–120000     yearly      85000   \n",
       "26352  2023-03-06 04:00:13.607892              nan      NaN        nan   \n",
       "26723  2023-03-14 03:00:49.387326              nan      NaN        nan   \n",
       "27151  2023-02-04 04:00:15.627249              nan      NaN        nan   \n",
       "27152  2023-02-04 04:00:18.080278              nan      NaN        nan   \n",
       "27569  2022-11-19 04:00:32.950855              nan      NaN        nan   \n",
       "28912  2023-01-27 04:01:01.592364              nan      NaN        nan   \n",
       "29217  2023-01-05 04:00:49.964702              nan      NaN        nan   \n",
       "29231  2023-03-12 04:00:42.087904              nan      NaN        nan   \n",
       "\n",
       "      max_salary  avg_salary location_cleaned  \n",
       "5632     90000       85000.0              nan  \n",
       "5726         nan         NaN              nan  \n",
       "5727         nan         NaN              nan  \n",
       "8282    155000      152500.0              nan  \n",
       "8396    135200.0    130000.0              nan  \n",
       "20856        nan         NaN              nan  \n",
       "20859        nan         NaN              nan  \n",
       "20953   120000      107500.0              nan  \n",
       "21283    95000       90000.0              nan  \n",
       "24637        nan         NaN              nan  \n",
       "24694        nan         NaN              nan  \n",
       "24921        nan         NaN              nan  \n",
       "24926        nan         NaN              nan  \n",
       "24927        nan         NaN              nan  \n",
       "24933        nan         NaN              nan  \n",
       "25936   120000      102500.0              nan  \n",
       "26352        nan         NaN              nan  \n",
       "26723        nan         NaN              nan  \n",
       "27151        nan         NaN              nan  \n",
       "27152        nan         NaN              nan  \n",
       "27569        nan         NaN              nan  \n",
       "28912        nan         NaN              nan  \n",
       "29217        nan         NaN              nan  \n",
       "29231        nan         NaN              nan  "
      ]
     },
     "execution_count": 34,
     "metadata": {},
     "output_type": "execute_result"
    }
   ],
   "source": [
    "# Show rows where state is \"nan\"\n",
    "jobs_df_cleaned.loc[jobs_df_cleaned['location_cleaned'] == 'nan']"
   ]
  },
  {
   "cell_type": "markdown",
   "metadata": {},
   "source": [
    "Insignificant amount of nulls when location is cleaned up. Value added with reducing location values. \n",
    "\n",
    "We'll leave the nulls, since they can still be used for analysis of everything besides location."
   ]
  },
  {
   "cell_type": "code",
   "execution_count": 35,
   "metadata": {},
   "outputs": [
    {
     "data": {
      "text/plain": [
       "salary           82.125802\n",
       "pay_rate         82.125802\n",
       "avg_salary       82.125802\n",
       "schedule_type     0.518560\n",
       "location          0.070313\n",
       "via               0.026367\n",
       "dtype: float64"
      ]
     },
     "execution_count": 35,
     "metadata": {},
     "output_type": "execute_result"
    }
   ],
   "source": [
    "# Calculate the percentage of missing data for each column\n",
    "missing_data_percentage = (jobs_df_cleaned.isnull().sum() / len(jobs_df_cleaned)) * 100\n",
    "\n",
    "# Filter columns with missing data and sort them\n",
    "missing_data_columns = missing_data_percentage[missing_data_percentage > 0].sort_values(ascending=False)\n",
    "\n",
    "missing_data_columns"
   ]
  },
  {
   "cell_type": "markdown",
   "metadata": {},
   "source": [
    "\n",
    "##### **Data Transformation**:\n",
    "   - The \"extensions\" column seems to have mixed data types (e.g., job type, benefits). This column might be split into multiple columns for easier analysis.\n",
    "   - The \"description_tokens\" column contains lists as strings. These might need to be parsed into actual lists or split into multiple columns.<br><br>\n"
   ]
  },
  {
   "cell_type": "code",
   "execution_count": null,
   "metadata": {},
   "outputs": [],
   "source": []
  },
  {
   "cell_type": "markdown",
   "metadata": {},
   "source": [
    "\n",
    "#### **Text Data Cleaning**:\n"
   ]
  },
  {
   "cell_type": "markdown",
   "metadata": {},
   "source": [
    "   - The \"description\" and \"company_description\" columns might contain special characters, HTML tags, or other non-textual data that need to be cleaned.\n",
    "   - Tokenization, stemming, and lemmatization might be applied to text data if you plan to perform Natural Language Processing (NLP) tasks.<br><br>\n"
   ]
  },
  {
   "cell_type": "code",
   "execution_count": 36,
   "metadata": {},
   "outputs": [
    {
     "name": "stderr",
     "output_type": "stream",
     "text": [
      "[nltk_data] Downloading package punkt to\n",
      "[nltk_data]     /Users/zacschmitz/nltk_data...\n",
      "[nltk_data]   Package punkt is already up-to-date!\n",
      "[nltk_data] Downloading package stopwords to\n",
      "[nltk_data]     /Users/zacschmitz/nltk_data...\n",
      "[nltk_data]   Package stopwords is already up-to-date!\n"
     ]
    }
   ],
   "source": [
    "import nltk\n",
    "from nltk.tokenize import word_tokenize\n",
    "from nltk.corpus import stopwords\n",
    "import string\n",
    "from collections import Counter\n",
    "\n",
    "# Ensure necessary resources are available\n",
    "nltk.download('punkt')\n",
    "nltk.download('stopwords')\n",
    "\n",
    "# Tokenize and normalize the descriptions\n",
    "def tokenize_and_normalize(text):\n",
    "    tokens = word_tokenize(text)\n",
    "    # Convert to lowercase and remove punctuation and stopwords\n",
    "    tokens = [word.lower() for word in tokens if word.isalpha() and word.lower() not in stopwords.words('english')]\n",
    "    return tokens"
   ]
  },
  {
   "cell_type": "code",
   "execution_count": null,
   "metadata": {},
   "outputs": [],
   "source": [
    "# df['description_cleaned'] = df['description'].apply(tokenize_and_normalize)"
   ]
  },
  {
   "cell_type": "code",
   "execution_count": 186,
   "metadata": {},
   "outputs": [
    {
     "ename": "KeyboardInterrupt",
     "evalue": "",
     "output_type": "error",
     "traceback": [
      "\u001b[0;31m---------------------------------------------------------------------------\u001b[0m",
      "\u001b[0;31mKeyboardInterrupt\u001b[0m                         Traceback (most recent call last)",
      "\u001b[1;32m/Users/zacschmitz/codeup-data-science/capstone/data-jobs-project/schmitz_working/schmitz_draft.ipynb Cell 61\u001b[0m line \u001b[0;36m2\n\u001b[1;32m      <a href='vscode-notebook-cell:/Users/zacschmitz/codeup-data-science/capstone/data-jobs-project/schmitz_working/schmitz_draft.ipynb#Y106sZmlsZQ%3D%3D?line=0'>1</a>\u001b[0m \u001b[39m# Apply the function to the description column\u001b[39;00m\n\u001b[0;32m----> <a href='vscode-notebook-cell:/Users/zacschmitz/codeup-data-science/capstone/data-jobs-project/schmitz_working/schmitz_draft.ipynb#Y106sZmlsZQ%3D%3D?line=1'>2</a>\u001b[0m tokenized_descriptions \u001b[39m=\u001b[39m jobs_df_cleaned[\u001b[39m'\u001b[39m\u001b[39mdescription\u001b[39m\u001b[39m'\u001b[39m]\u001b[39m.\u001b[39mapply(tokenize_and_normalize)\n",
      "File \u001b[0;32m/opt/homebrew/anaconda3/lib/python3.11/site-packages/pandas/core/series.py:4630\u001b[0m, in \u001b[0;36mSeries.apply\u001b[0;34m(self, func, convert_dtype, args, **kwargs)\u001b[0m\n\u001b[1;32m   4520\u001b[0m \u001b[39mdef\u001b[39;00m \u001b[39mapply\u001b[39m(\n\u001b[1;32m   4521\u001b[0m     \u001b[39mself\u001b[39m,\n\u001b[1;32m   4522\u001b[0m     func: AggFuncType,\n\u001b[0;32m   (...)\u001b[0m\n\u001b[1;32m   4525\u001b[0m     \u001b[39m*\u001b[39m\u001b[39m*\u001b[39mkwargs,\n\u001b[1;32m   4526\u001b[0m ) \u001b[39m-\u001b[39m\u001b[39m>\u001b[39m DataFrame \u001b[39m|\u001b[39m Series:\n\u001b[1;32m   4527\u001b[0m \u001b[39m    \u001b[39m\u001b[39m\"\"\"\u001b[39;00m\n\u001b[1;32m   4528\u001b[0m \u001b[39m    Invoke function on values of Series.\u001b[39;00m\n\u001b[1;32m   4529\u001b[0m \n\u001b[0;32m   (...)\u001b[0m\n\u001b[1;32m   4628\u001b[0m \u001b[39m    dtype: float64\u001b[39;00m\n\u001b[1;32m   4629\u001b[0m \u001b[39m    \"\"\"\u001b[39;00m\n\u001b[0;32m-> 4630\u001b[0m     \u001b[39mreturn\u001b[39;00m SeriesApply(\u001b[39mself\u001b[39m, func, convert_dtype, args, kwargs)\u001b[39m.\u001b[39mapply()\n",
      "File \u001b[0;32m/opt/homebrew/anaconda3/lib/python3.11/site-packages/pandas/core/apply.py:1025\u001b[0m, in \u001b[0;36mSeriesApply.apply\u001b[0;34m(self)\u001b[0m\n\u001b[1;32m   1022\u001b[0m     \u001b[39mreturn\u001b[39;00m \u001b[39mself\u001b[39m\u001b[39m.\u001b[39mapply_str()\n\u001b[1;32m   1024\u001b[0m \u001b[39m# self.f is Callable\u001b[39;00m\n\u001b[0;32m-> 1025\u001b[0m \u001b[39mreturn\u001b[39;00m \u001b[39mself\u001b[39m\u001b[39m.\u001b[39mapply_standard()\n",
      "File \u001b[0;32m/opt/homebrew/anaconda3/lib/python3.11/site-packages/pandas/core/apply.py:1076\u001b[0m, in \u001b[0;36mSeriesApply.apply_standard\u001b[0;34m(self)\u001b[0m\n\u001b[1;32m   1074\u001b[0m     \u001b[39melse\u001b[39;00m:\n\u001b[1;32m   1075\u001b[0m         values \u001b[39m=\u001b[39m obj\u001b[39m.\u001b[39mastype(\u001b[39mobject\u001b[39m)\u001b[39m.\u001b[39m_values\n\u001b[0;32m-> 1076\u001b[0m         mapped \u001b[39m=\u001b[39m lib\u001b[39m.\u001b[39mmap_infer(\n\u001b[1;32m   1077\u001b[0m             values,\n\u001b[1;32m   1078\u001b[0m             f,\n\u001b[1;32m   1079\u001b[0m             convert\u001b[39m=\u001b[39m\u001b[39mself\u001b[39m\u001b[39m.\u001b[39mconvert_dtype,\n\u001b[1;32m   1080\u001b[0m         )\n\u001b[1;32m   1082\u001b[0m \u001b[39mif\u001b[39;00m \u001b[39mlen\u001b[39m(mapped) \u001b[39mand\u001b[39;00m \u001b[39misinstance\u001b[39m(mapped[\u001b[39m0\u001b[39m], ABCSeries):\n\u001b[1;32m   1083\u001b[0m     \u001b[39m# GH#43986 Need to do list(mapped) in order to get treated as nested\u001b[39;00m\n\u001b[1;32m   1084\u001b[0m     \u001b[39m#  See also GH#25959 regarding EA support\u001b[39;00m\n\u001b[1;32m   1085\u001b[0m     \u001b[39mreturn\u001b[39;00m obj\u001b[39m.\u001b[39m_constructor_expanddim(\u001b[39mlist\u001b[39m(mapped), index\u001b[39m=\u001b[39mobj\u001b[39m.\u001b[39mindex)\n",
      "File \u001b[0;32m/opt/homebrew/anaconda3/lib/python3.11/site-packages/pandas/_libs/lib.pyx:2834\u001b[0m, in \u001b[0;36mpandas._libs.lib.map_infer\u001b[0;34m()\u001b[0m\n",
      "\u001b[1;32m/Users/zacschmitz/codeup-data-science/capstone/data-jobs-project/schmitz_working/schmitz_draft.ipynb Cell 61\u001b[0m line \u001b[0;36m1\n\u001b[1;32m     <a href='vscode-notebook-cell:/Users/zacschmitz/codeup-data-science/capstone/data-jobs-project/schmitz_working/schmitz_draft.ipynb#Y106sZmlsZQ%3D%3D?line=12'>13</a>\u001b[0m tokens \u001b[39m=\u001b[39m word_tokenize(text)\n\u001b[1;32m     <a href='vscode-notebook-cell:/Users/zacschmitz/codeup-data-science/capstone/data-jobs-project/schmitz_working/schmitz_draft.ipynb#Y106sZmlsZQ%3D%3D?line=13'>14</a>\u001b[0m \u001b[39m# Convert to lowercase and remove punctuation and stopwords\u001b[39;00m\n\u001b[0;32m---> <a href='vscode-notebook-cell:/Users/zacschmitz/codeup-data-science/capstone/data-jobs-project/schmitz_working/schmitz_draft.ipynb#Y106sZmlsZQ%3D%3D?line=14'>15</a>\u001b[0m tokens \u001b[39m=\u001b[39m [word\u001b[39m.\u001b[39mlower() \u001b[39mfor\u001b[39;00m word \u001b[39min\u001b[39;00m tokens \u001b[39mif\u001b[39;00m word\u001b[39m.\u001b[39misalpha() \u001b[39mand\u001b[39;00m word\u001b[39m.\u001b[39mlower() \u001b[39mnot\u001b[39;00m \u001b[39min\u001b[39;00m stopwords\u001b[39m.\u001b[39mwords(\u001b[39m'\u001b[39m\u001b[39menglish\u001b[39m\u001b[39m'\u001b[39m)]\n\u001b[1;32m     <a href='vscode-notebook-cell:/Users/zacschmitz/codeup-data-science/capstone/data-jobs-project/schmitz_working/schmitz_draft.ipynb#Y106sZmlsZQ%3D%3D?line=15'>16</a>\u001b[0m \u001b[39mreturn\u001b[39;00m tokens\n",
      "\u001b[1;32m/Users/zacschmitz/codeup-data-science/capstone/data-jobs-project/schmitz_working/schmitz_draft.ipynb Cell 61\u001b[0m line \u001b[0;36m1\n\u001b[1;32m     <a href='vscode-notebook-cell:/Users/zacschmitz/codeup-data-science/capstone/data-jobs-project/schmitz_working/schmitz_draft.ipynb#Y106sZmlsZQ%3D%3D?line=12'>13</a>\u001b[0m tokens \u001b[39m=\u001b[39m word_tokenize(text)\n\u001b[1;32m     <a href='vscode-notebook-cell:/Users/zacschmitz/codeup-data-science/capstone/data-jobs-project/schmitz_working/schmitz_draft.ipynb#Y106sZmlsZQ%3D%3D?line=13'>14</a>\u001b[0m \u001b[39m# Convert to lowercase and remove punctuation and stopwords\u001b[39;00m\n\u001b[0;32m---> <a href='vscode-notebook-cell:/Users/zacschmitz/codeup-data-science/capstone/data-jobs-project/schmitz_working/schmitz_draft.ipynb#Y106sZmlsZQ%3D%3D?line=14'>15</a>\u001b[0m tokens \u001b[39m=\u001b[39m [word\u001b[39m.\u001b[39mlower() \u001b[39mfor\u001b[39;00m word \u001b[39min\u001b[39;00m tokens \u001b[39mif\u001b[39;00m word\u001b[39m.\u001b[39misalpha() \u001b[39mand\u001b[39;00m word\u001b[39m.\u001b[39mlower() \u001b[39mnot\u001b[39;00m \u001b[39min\u001b[39;00m stopwords\u001b[39m.\u001b[39mwords(\u001b[39m'\u001b[39m\u001b[39menglish\u001b[39m\u001b[39m'\u001b[39m)]\n\u001b[1;32m     <a href='vscode-notebook-cell:/Users/zacschmitz/codeup-data-science/capstone/data-jobs-project/schmitz_working/schmitz_draft.ipynb#Y106sZmlsZQ%3D%3D?line=15'>16</a>\u001b[0m \u001b[39mreturn\u001b[39;00m tokens\n",
      "File \u001b[0;32m/opt/homebrew/anaconda3/lib/python3.11/site-packages/nltk/corpus/reader/wordlist.py:21\u001b[0m, in \u001b[0;36mWordListCorpusReader.words\u001b[0;34m(self, fileids, ignore_lines_startswith)\u001b[0m\n\u001b[1;32m     18\u001b[0m \u001b[39mdef\u001b[39;00m \u001b[39mwords\u001b[39m(\u001b[39mself\u001b[39m, fileids\u001b[39m=\u001b[39m\u001b[39mNone\u001b[39;00m, ignore_lines_startswith\u001b[39m=\u001b[39m\u001b[39m\"\u001b[39m\u001b[39m\\n\u001b[39;00m\u001b[39m\"\u001b[39m):\n\u001b[1;32m     19\u001b[0m     \u001b[39mreturn\u001b[39;00m [\n\u001b[1;32m     20\u001b[0m         line\n\u001b[0;32m---> 21\u001b[0m         \u001b[39mfor\u001b[39;00m line \u001b[39min\u001b[39;00m line_tokenize(\u001b[39mself\u001b[39m\u001b[39m.\u001b[39mraw(fileids))\n\u001b[1;32m     22\u001b[0m         \u001b[39mif\u001b[39;00m \u001b[39mnot\u001b[39;00m line\u001b[39m.\u001b[39mstartswith(ignore_lines_startswith)\n\u001b[1;32m     23\u001b[0m     ]\n",
      "File \u001b[0;32m/opt/homebrew/anaconda3/lib/python3.11/site-packages/nltk/tokenize/simple.py:137\u001b[0m, in \u001b[0;36mline_tokenize\u001b[0;34m(text, blanklines)\u001b[0m\n\u001b[1;32m    136\u001b[0m \u001b[39mdef\u001b[39;00m \u001b[39mline_tokenize\u001b[39m(text, blanklines\u001b[39m=\u001b[39m\u001b[39m\"\u001b[39m\u001b[39mdiscard\u001b[39m\u001b[39m\"\u001b[39m):\n\u001b[0;32m--> 137\u001b[0m     \u001b[39mreturn\u001b[39;00m LineTokenizer(blanklines)\u001b[39m.\u001b[39mtokenize(text)\n",
      "\u001b[0;31mKeyboardInterrupt\u001b[0m: "
     ]
    }
   ],
   "source": [
    "# Apply the function to the description column\n",
    "tokenized_descriptions = jobs_df_cleaned['description'].apply(tokenize_and_normalize)"
   ]
  },
  {
   "cell_type": "code",
   "execution_count": null,
   "metadata": {},
   "outputs": [],
   "source": [
    "def get_common_words(tokenized_descriptions, min_occurrences=100):\n",
    "    # Count words\n",
    "    word_counts = Counter()\n",
    "    tokenized_descriptions.apply(word_counts.update)\n",
    "    \n",
    "    # Filter words with more than num_occurrences\n",
    "    common_words = [(word, count) for word, count in word_counts.items() if count > min_occurrences]\n",
    "    \n",
    "    # Convert to DataFrame\n",
    "    df_common_words = pd.DataFrame(common_words, columns=['word', 'occurrences'])\n",
    "\n",
    "    # Sort by occurences\n",
    "    df_common_words.sort_values('occurrences', ascending=False, inplace=True)\n",
    "    \n",
    "    return df_common_words"
   ]
  },
  {
   "cell_type": "code",
   "execution_count": null,
   "metadata": {},
   "outputs": [
    {
     "data": {
      "text/html": [
       "<div>\n",
       "<style scoped>\n",
       "    .dataframe tbody tr th:only-of-type {\n",
       "        vertical-align: middle;\n",
       "    }\n",
       "\n",
       "    .dataframe tbody tr th {\n",
       "        vertical-align: top;\n",
       "    }\n",
       "\n",
       "    .dataframe thead th {\n",
       "        text-align: right;\n",
       "    }\n",
       "</style>\n",
       "<table border=\"1\" class=\"dataframe\">\n",
       "  <thead>\n",
       "    <tr style=\"text-align: right;\">\n",
       "      <th></th>\n",
       "      <th>word</th>\n",
       "      <th>occurrences</th>\n",
       "    </tr>\n",
       "  </thead>\n",
       "  <tbody>\n",
       "    <tr>\n",
       "      <th>2</th>\n",
       "      <td>data</td>\n",
       "      <td>356583</td>\n",
       "    </tr>\n",
       "    <tr>\n",
       "      <th>37</th>\n",
       "      <td>experience</td>\n",
       "      <td>136146</td>\n",
       "    </tr>\n",
       "    <tr>\n",
       "      <th>38</th>\n",
       "      <td>business</td>\n",
       "      <td>119413</td>\n",
       "    </tr>\n",
       "    <tr>\n",
       "      <th>60</th>\n",
       "      <td>work</td>\n",
       "      <td>88098</td>\n",
       "    </tr>\n",
       "    <tr>\n",
       "      <th>77</th>\n",
       "      <td>analysis</td>\n",
       "      <td>66599</td>\n",
       "    </tr>\n",
       "    <tr>\n",
       "      <th>...</th>\n",
       "      <td>...</td>\n",
       "      <td>...</td>\n",
       "    </tr>\n",
       "    <tr>\n",
       "      <th>5424</th>\n",
       "      <td>positioning</td>\n",
       "      <td>101</td>\n",
       "    </tr>\n",
       "    <tr>\n",
       "      <th>3391</th>\n",
       "      <td>issued</td>\n",
       "      <td>101</td>\n",
       "    </tr>\n",
       "    <tr>\n",
       "      <th>1334</th>\n",
       "      <td>diving</td>\n",
       "      <td>101</td>\n",
       "    </tr>\n",
       "    <tr>\n",
       "      <th>5441</th>\n",
       "      <td>tms</td>\n",
       "      <td>101</td>\n",
       "    </tr>\n",
       "    <tr>\n",
       "      <th>3040</th>\n",
       "      <td>conform</td>\n",
       "      <td>101</td>\n",
       "    </tr>\n",
       "  </tbody>\n",
       "</table>\n",
       "<p>5515 rows × 2 columns</p>\n",
       "</div>"
      ],
      "text/plain": [
       "             word  occurrences\n",
       "2            data       356583\n",
       "37     experience       136146\n",
       "38       business       119413\n",
       "60           work        88098\n",
       "77       analysis        66599\n",
       "...           ...          ...\n",
       "5424  positioning          101\n",
       "3391       issued          101\n",
       "1334       diving          101\n",
       "5441          tms          101\n",
       "3040      conform          101\n",
       "\n",
       "[5515 rows x 2 columns]"
      ]
     },
     "execution_count": 40,
     "metadata": {},
     "output_type": "execute_result"
    }
   ],
   "source": [
    "common_words = get_common_words(tokenized_descriptions, min_occurrences=100)\n",
    "common_words"
   ]
  },
  {
   "cell_type": "code",
   "execution_count": null,
   "metadata": {},
   "outputs": [],
   "source": [
    "# Picked out keywords based on all keywords (only looked words with 100+ occurrences)\n",
    "keywords_programming = [\n",
    "'sql', 'python', 'r', 'c', 'c#', 'javascript', 'js',  'java', 'scala', 'sas', 'matlab', \n",
    "'c++', 'c/c++', 'perl', 'go', 'typescript', 'bash', 'html', 'css', 'php', 'powershell', 'rust', \n",
    "'kotlin', 'ruby',  'dart', 'assembly', 'swift', 'vba', 'lua', 'groovy', 'delphi', 'objective-c', \n",
    "'haskell', 'elixir', 'julia', 'clojure', 'solidity', 'lisp', 'f#', 'fortran', 'erlang', 'apl', \n",
    "'cobol', 'ocaml', 'crystal', 'javascript/typescript', 'golang', 'nosql', 'mongodb', 't-sql', 'no-sql',\n",
    "'visual_basic', 'pascal', 'mongo', 'pl/sql',  'sass', 'vb.net', 'mssql',\n",
    "]"
   ]
  },
  {
   "cell_type": "code",
   "execution_count": null,
   "metadata": {},
   "outputs": [],
   "source": [
    "# Pick out ML Algorithm keywords\n",
    "keywords_ML_Algorithms = [x.lower() for x in ['regression','clustering', 'classification', 'predictive', 'prediction','decision trees',\n",
    "       'Decision Trees, Random Forests',\n",
    "       'Convolutional Neural Networks','CNN',\n",
    "       'Gradient Boosting Machines (xgboost, lightgbm, etc)',\n",
    "       'Bayesian Approaches', 'Dense Neural Networks (MLPs, etc)','DNN',\n",
    "       'Recurrent Neural Networks','RNN',\n",
    "       'Transformer Networks (BERT, gpt-3, etc)', 'Graph Neural Networks','Transformer'\n",
    "       'Autoencoder Networks (DAE, VAE, etc)',\n",
    "       'Generative Adversarial Networks', 'None',\n",
    "       'Evolutionary Approaches',] ]"
   ]
  },
  {
   "cell_type": "code",
   "execution_count": null,
   "metadata": {},
   "outputs": [],
   "source": [
    "# Viz keywords\n",
    "keyword_viz = [x.lower() for x in ['Matplotlib', 'Seaborn', 'Plotly',\n",
    "       'Ggplot', 'None', 'Shiny', 'Geoplotlib', 'Bokeh',\n",
    "       'D3 js', 'Other', 'Leaflet / Folium', 'Pygal', 'Altair',\n",
    "       'Dygraphs', 'Highcharter'] ]"
   ]
  },
  {
   "cell_type": "code",
   "execution_count": null,
   "metadata": {},
   "outputs": [],
   "source": [
    "# Computer vision and nlp\n",
    "keyword_cvnlp = ['computer vision','natural language processing']"
   ]
  },
  {
   "cell_type": "code",
   "execution_count": null,
   "metadata": {},
   "outputs": [],
   "source": [
    "# Big data keywords\n",
    "keyword_big_data = ['mysql', 'postgresql', 'microsoft sql', 'sqlite', 'mongodb',\n",
    "                    'bigquery', 'oracle database', 'azure sql', 'amazon rds', 'google cloud sql', 'snowflake']"
   ]
  },
  {
   "cell_type": "code",
   "execution_count": null,
   "metadata": {},
   "outputs": [],
   "source": [
    "# More big data\n",
    "keyword_big_data_2 = [x.lower() for x in  ['MySQL ', 'PostgreSQL ', 'Microsoft SQL Server ', 'SQLite ',\n",
    "       'MongoDB ', 'None', 'Google Cloud BigQuery ', 'Oracle Database ',\n",
    "       'Microsoft Azure SQL Database ', 'Amazon RDS ',\n",
    "       'Google Cloud SQL ', 'Snowflake ', 'Amazon Redshift ',\n",
    "       'Amazon DynamoDB ', 'Other', 'IBM Db2 '] ]"
   ]
  },
  {
   "cell_type": "code",
   "execution_count": null,
   "metadata": {},
   "outputs": [],
   "source": [
    "# Business Intelligence keywords\n",
    "keyword_bi = [x.lower() for x in ['tableau',  'Power BI', 'Power_bi', 'Google Data Studio',\n",
    "       'QuickSight', 'Qlik Sense', 'Other',\n",
    "       'Azure Synapse ', 'Looker', 'Alteryx ',\n",
    "       'SAP Analytics Cloud ', 'TIBCO Spotfire', 'Domo', 'Sisense ',\n",
    "       'Thoughtspot '] ]"
   ]
  },
  {
   "cell_type": "code",
   "execution_count": null,
   "metadata": {},
   "outputs": [],
   "source": [
    "# More business intelligence\n",
    "keyword_bi_2 = [x.lower() for x in ['tableau',  'Microsoft Power BI', 'Google Data Studio',\n",
    "       'Amazon QuickSight', 'Qlik Sense', 'Other',\n",
    "       'Microsoft Azure Synapse ', 'Looker', 'Alteryx ',\n",
    "       'SAP Analytics Cloud ', 'TIBCO Spotfire', 'Domo', 'Sisense ',\n",
    "       'Thoughtspot '] ]"
   ]
  },
  {
   "cell_type": "code",
   "execution_count": null,
   "metadata": {},
   "outputs": [],
   "source": [
    "# Analyst tools\n",
    "keywords_analyst_tools = [\n",
    "'excel', 'tableau',  'word', 'powerpoint', 'looker', 'powerbi', 'outlook', 'azure', 'jira', 'twilio',  'snowflake', \n",
    "'shell', 'linux', 'sas', 'sharepoint', 'mysql', 'visio', 'git', 'mssql', 'powerpoints', 'postgresql', 'spreadsheets',\n",
    "'seaborn', 'pandas', 'gdpr', 'spreadsheet', 'alteryx', 'github', 'postgres', 'ssis', 'numpy', 'power_bi', 'spss', 'ssrs', \n",
    "'microstrategy',  'cognos', 'dax', 'matplotlib', 'dplyr', 'tidyr', 'ggplot2', 'plotly', 'esquisse', 'rshiny', 'mlr',\n",
    "'docker', 'linux', 'jira',  'hadoop', 'airflow', 'redis', 'graphql', 'sap', 'tensorflow', 'node', 'asp.net', 'unix',\n",
    "'jquery', 'pyspark', 'pytorch', 'gitlab', 'selenium', 'splunk', 'bitbucket', 'qlik', 'terminal', 'atlassian', 'unix/linux',\n",
    "'linux/unix', 'ubuntu', 'nuix', 'datarobot',\n",
    "]"
   ]
  },
  {
   "cell_type": "code",
   "execution_count": null,
   "metadata": {},
   "outputs": [],
   "source": [
    "# Cloud tools\n",
    "keywords_cloud_tools = [\n",
    "'aws', 'azure', 'gcp', 'snowflake', 'redshift', 'bigquery', 'aurora','amazon','ec2','s3',\n",
    "]"
   ]
  },
  {
   "cell_type": "code",
   "execution_count": null,
   "metadata": {},
   "outputs": [],
   "source": [
    "# Not using\n",
    "keywords_general_tools = [\n",
    "'microsoft', 'slack', 'apache', 'ibm', 'html5', 'datadog', 'bloomberg',  'ajax', 'persicope', 'oracle', \n",
    "]"
   ]
  },
  {
   "cell_type": "code",
   "execution_count": null,
   "metadata": {},
   "outputs": [],
   "source": [
    "# Not using\n",
    "keywords_general = [\n",
    "'coding', 'server', 'database', 'cloud', 'warehousing', 'scrum', 'devops', 'programming', 'saas', 'ci/cd', 'cicd', \n",
    "'ml', 'data_lake', 'frontend',' front-end', 'back-end', 'backend', 'json', 'xml', 'ios', 'kanban', 'nlp',\n",
    "'iot', 'codebase', 'agile/scrum', 'agile', 'ai/ml', 'ai', 'paas', 'machine_learning', 'macros', 'iaas',\n",
    "'fullstack', 'dataops', 'scrum/agile', 'ssas', 'mlops', 'debug', 'etl', 'a/b', 'slack', 'erp', 'oop', \n",
    "'object-oriented', 'etl/elt', 'elt', 'dashboarding', 'big-data', 'twilio', 'ui/ux', 'ux/ui', 'vlookup', \n",
    "'crossover',  'data_lake', 'data_lakes', 'bi', \n",
    "]"
   ]
  },
  {
   "cell_type": "code",
   "execution_count": null,
   "metadata": {},
   "outputs": [],
   "source": [
    "keywords = keywords_programming + keywords_ML_Algorithms + keywords_analyst_tools + keywords_cloud_tools \n",
    "\n",
    "jobs_df_cleaned = jobs_df_cleaned[jobs_df_cleaned.description.notnull()] # filter out null values\n",
    "jobs_df_cleaned = jobs_df_cleaned.reset_index() # throwing index issues if don't reset index\n",
    "# jobs_df_cleaned = jobs_df_cleaned.head(10) \n",
    "\n",
    "jobs_df_cleaned['description_tokens'] = \"\"\n",
    "for index, row in jobs_df_cleaned.iterrows():\n",
    "    # lowercase words\n",
    "    detail = row.description.lower()\n",
    "    # tokenize words\n",
    "    detail = word_tokenize(detail)\n",
    "    # handle multi-word tokenization (e.g., 'Power BI')\n",
    "    multi_tokens = [('power', 'bi'), ('data', 'lake'), ('data', 'lakes'), ('machine', 'learning'), ('objective', 'c'),\n",
    "                    ('visual', 'basic'), ('predictive', 'prediction'), ('plotly','express'), ('ggplot','ggplot'), ('d3','js') ]\n",
    "    tokenizer = MWETokenizer(multi_tokens)\n",
    "    detail = tokenizer.tokenize(detail)\n",
    "    # remove duplicates\n",
    "    detail = list(set(detail))\n",
    "    # filter for keywords only\n",
    "    detail = [word for word in detail if word in keywords] \n",
    "    # replace duplicate keywords\n",
    "    replace_tokens = {'powerbi' : 'power_bi', 'spreadsheets': 'spreadsheet'}\n",
    "    for key, value in replace_tokens.items():\n",
    "        detail = [d.replace(key, value) for d in detail]\n",
    "    # add to details list # row.description_tokens = detail\n",
    "    jobs_df_cleaned.at[index, 'description_tokens'] = detail"
   ]
  },
  {
   "cell_type": "markdown",
   "metadata": {},
   "source": [
    "##### **Date Formatting**:\n",
    "   - Make our date time columns usable"
   ]
  },
  {
   "cell_type": "code",
   "execution_count": null,
   "metadata": {},
   "outputs": [],
   "source": [
    "# Change date_time to date_scraped\n",
    "jobs_df_cleaned.rename(columns={'date_time': 'date_scraped'}, inplace=True)"
   ]
  },
  {
   "cell_type": "code",
   "execution_count": null,
   "metadata": {},
   "outputs": [],
   "source": [
    "# Convert \"posted_at\" to timedelta\n",
    "jobs_df_cleaned['posted_at'] = pd.to_timedelta(jobs_df_cleaned['posted_at'].str.extract('(\\d+)')[0].astype(int), unit='h')"
   ]
  },
  {
   "cell_type": "code",
   "execution_count": null,
   "metadata": {},
   "outputs": [],
   "source": [
    "# Convert \"date_scraped\" to datetime\n",
    "jobs_df_cleaned['date_scraped'] = pd.to_datetime(jobs_df_cleaned['date_scraped'])"
   ]
  },
  {
   "cell_type": "code",
   "execution_count": null,
   "metadata": {},
   "outputs": [],
   "source": [
    "# Create \"posting_created\" column\n",
    "jobs_df_cleaned['posting_created'] = jobs_df_cleaned['date_scraped'] - jobs_df_cleaned['posted_at']"
   ]
  },
  {
   "cell_type": "code",
   "execution_count": null,
   "metadata": {},
   "outputs": [],
   "source": [
    "# Rename posted_at to time since posting\n",
    "jobs_df_cleaned.rename(columns={'posted_at': 'time_since_posting'}, inplace=True)"
   ]
  },
  {
   "cell_type": "code",
   "execution_count": null,
   "metadata": {},
   "outputs": [],
   "source": [
    "# Change posting_created to be date time formated with only hours and minutes\n",
    "jobs_df_cleaned['posting_created'] = jobs_df_cleaned['posting_created'].dt.strftime('%Y-%m-%d %H:%M')"
   ]
  },
  {
   "cell_type": "markdown",
   "metadata": {},
   "source": [
    "#### **Make a simple job title column**"
   ]
  },
  {
   "cell_type": "code",
   "execution_count": null,
   "metadata": {},
   "outputs": [
    {
     "data": {
      "text/plain": [
       "0                                             Data Analyst\n",
       "1        Junior Data Analyst/Scientist Role - Contract ...\n",
       "2                                             Data Analyst\n",
       "3                                             Data Analyst\n",
       "4                                             Data Analyst\n",
       "                               ...                        \n",
       "34128                       Marketing Data & BI Analyst II\n",
       "34129                                    Lead-Data Analyst\n",
       "34130                                    Lead-Data Analyst\n",
       "34131                                    Lead-Data Analyst\n",
       "34132    Institutional Credit Management - Lending Data...\n",
       "Name: title, Length: 34133, dtype: object"
      ]
     },
     "execution_count": 60,
     "metadata": {},
     "output_type": "execute_result"
    }
   ],
   "source": [
    "# Show me the title column\n",
    "jobs_df_cleaned.title"
   ]
  },
  {
   "cell_type": "code",
   "execution_count": null,
   "metadata": {},
   "outputs": [],
   "source": [
    "def standardize_titles(df):\n",
    "    \"\"\"\n",
    "    This function takes a DataFrame as a parameter. \n",
    "    It standardizes the job titles in the 'title' column based on certain keywords.\n",
    "\n",
    "    Parameters:\n",
    "    df (DataFrame): The input DataFrame.\n",
    "\n",
    "    Returns:\n",
    "    DataFrame: The DataFrame with standardized job titles.\n",
    "    \"\"\"\n",
    "    \n",
    "    # Define the mapping of keywords to standardized titles\n",
    "    title_mapping = {\n",
    "        \"scie\": \"Data Scientist\",\n",
    "        \"eng\": \"Data Engineer\",\n",
    "        \"ana\": \"Data Analyst\"\n",
    "    }\n",
    "    \n",
    "    # Apply the mapping to the 'title' column\n",
    "    df['title_cleaned'] = df['title'].apply(lambda x: next((v for k, v in title_mapping.items() if k in x.lower()), x))\n",
    "    \n",
    "    # If a title_cleaned isn't one of those 3, make it Other\n",
    "    df['title_cleaned'] = df['title_cleaned'].apply(lambda x: \"Other\" if x not in title_mapping.values() else x)\n",
    "\n",
    "    return df"
   ]
  },
  {
   "cell_type": "code",
   "execution_count": null,
   "metadata": {},
   "outputs": [],
   "source": [
    "jobs_df_cleaned = standardize_titles(jobs_df_cleaned)"
   ]
  },
  {
   "cell_type": "code",
   "execution_count": null,
   "metadata": {},
   "outputs": [
    {
     "data": {
      "text/plain": [
       "title_cleaned\n",
       "Data Analyst      29319\n",
       "Other              2172\n",
       "Data Scientist     1638\n",
       "Data Engineer      1004\n",
       "Name: count, dtype: int64"
      ]
     },
     "execution_count": 63,
     "metadata": {},
     "output_type": "execute_result"
    }
   ],
   "source": [
    "# Value count for title_cleaned\n",
    "jobs_df_cleaned.title_cleaned.value_counts()"
   ]
  },
  {
   "cell_type": "code",
   "execution_count": null,
   "metadata": {},
   "outputs": [
    {
     "data": {
      "text/html": [
       "<div>\n",
       "<style scoped>\n",
       "    .dataframe tbody tr th:only-of-type {\n",
       "        vertical-align: middle;\n",
       "    }\n",
       "\n",
       "    .dataframe tbody tr th {\n",
       "        vertical-align: top;\n",
       "    }\n",
       "\n",
       "    .dataframe thead th {\n",
       "        text-align: right;\n",
       "    }\n",
       "</style>\n",
       "<table border=\"1\" class=\"dataframe\">\n",
       "  <thead>\n",
       "    <tr style=\"text-align: right;\">\n",
       "      <th></th>\n",
       "      <th>title</th>\n",
       "      <th>title_cleaned</th>\n",
       "    </tr>\n",
       "  </thead>\n",
       "  <tbody>\n",
       "    <tr>\n",
       "      <th>26133</th>\n",
       "      <td>Data Analyst</td>\n",
       "      <td>Data Analyst</td>\n",
       "    </tr>\n",
       "    <tr>\n",
       "      <th>2381</th>\n",
       "      <td>Data Analyst</td>\n",
       "      <td>Data Analyst</td>\n",
       "    </tr>\n",
       "    <tr>\n",
       "      <th>19171</th>\n",
       "      <td>Data Analyst</td>\n",
       "      <td>Data Analyst</td>\n",
       "    </tr>\n",
       "    <tr>\n",
       "      <th>33875</th>\n",
       "      <td>Data Analyst II</td>\n",
       "      <td>Data Analyst</td>\n",
       "    </tr>\n",
       "    <tr>\n",
       "      <th>30669</th>\n",
       "      <td>Data Analyst - Now Hiring</td>\n",
       "      <td>Data Analyst</td>\n",
       "    </tr>\n",
       "    <tr>\n",
       "      <th>9475</th>\n",
       "      <td>Senior Manager II, Finance - Retail Operations...</td>\n",
       "      <td>Data Analyst</td>\n",
       "    </tr>\n",
       "    <tr>\n",
       "      <th>13865</th>\n",
       "      <td>Entry Level Data Analyst</td>\n",
       "      <td>Data Analyst</td>\n",
       "    </tr>\n",
       "    <tr>\n",
       "      <th>14010</th>\n",
       "      <td>Data Analyst</td>\n",
       "      <td>Data Analyst</td>\n",
       "    </tr>\n",
       "    <tr>\n",
       "      <th>14663</th>\n",
       "      <td>Data Analyst</td>\n",
       "      <td>Data Analyst</td>\n",
       "    </tr>\n",
       "    <tr>\n",
       "      <th>28876</th>\n",
       "      <td>Summer 2023 Data Intelligence Intern [Data Sci...</td>\n",
       "      <td>Data Scientist</td>\n",
       "    </tr>\n",
       "  </tbody>\n",
       "</table>\n",
       "</div>"
      ],
      "text/plain": [
       "                                                   title   title_cleaned\n",
       "26133                                       Data Analyst    Data Analyst\n",
       "2381                                        Data Analyst    Data Analyst\n",
       "19171                                       Data Analyst    Data Analyst\n",
       "33875                                    Data Analyst II    Data Analyst\n",
       "30669                          Data Analyst - Now Hiring    Data Analyst\n",
       "9475   Senior Manager II, Finance - Retail Operations...    Data Analyst\n",
       "13865                           Entry Level Data Analyst    Data Analyst\n",
       "14010                                       Data Analyst    Data Analyst\n",
       "14663                                       Data Analyst    Data Analyst\n",
       "28876  Summer 2023 Data Intelligence Intern [Data Sci...  Data Scientist"
      ]
     },
     "execution_count": 64,
     "metadata": {},
     "output_type": "execute_result"
    }
   ],
   "source": [
    "jobs_df_cleaned[['title', 'title_cleaned']].sample(10)"
   ]
  },
  {
   "cell_type": "markdown",
   "metadata": {},
   "source": [
    "#### **Make a Sector Column**"
   ]
  },
  {
   "cell_type": "code",
   "execution_count": null,
   "metadata": {},
   "outputs": [],
   "source": [
    "def create_sector_column(df):\n",
    "    \"\"\"\n",
    "    This function takes a DataFrame as a parameter. \n",
    "    It creates a new 'sector' column in the DataFrame based on certain keywords in the 'description' column.\n",
    "\n",
    "    Parameters:\n",
    "    df (DataFrame): The input DataFrame.\n",
    "\n",
    "    Returns:\n",
    "    DataFrame: The DataFrame with the new 'sector' column.\n",
    "    \"\"\"\n",
    "    \n",
    "    # Define the mapping of keywords to sectors\n",
    "    sector_mapping = {\n",
    "        \"finance\": \"Finance\",\n",
    "        \"budget\": \"Finance\",\n",
    "        \"healthcare\": \"Healthcare\",\n",
    "        \"patient\": \"Healthcare\",\n",
    "        \"technology\": \"Technology\",\n",
    "        \"education\": \"Education\",\n",
    "        \"retail\": \"Retail\",\n",
    "        \"property\": \"Real Estate\"\n",
    "    }\n",
    "    \n",
    "    # Apply the mapping to the 'description' column\n",
    "    df['sector'] = df['description'].apply(lambda x: next((v for k, v in sector_mapping.items() if k in x.lower()), \"Other\"))\n",
    "    \n",
    "    return df"
   ]
  },
  {
   "cell_type": "code",
   "execution_count": null,
   "metadata": {},
   "outputs": [],
   "source": [
    "jobs_df_cleaned = create_sector_column(jobs_df_cleaned)"
   ]
  },
  {
   "cell_type": "code",
   "execution_count": null,
   "metadata": {},
   "outputs": [
    {
     "data": {
      "text/html": [
       "<div>\n",
       "<style scoped>\n",
       "    .dataframe tbody tr th:only-of-type {\n",
       "        vertical-align: middle;\n",
       "    }\n",
       "\n",
       "    .dataframe tbody tr th {\n",
       "        vertical-align: top;\n",
       "    }\n",
       "\n",
       "    .dataframe thead th {\n",
       "        text-align: right;\n",
       "    }\n",
       "</style>\n",
       "<table border=\"1\" class=\"dataframe\">\n",
       "  <thead>\n",
       "    <tr style=\"text-align: right;\">\n",
       "      <th></th>\n",
       "      <th>index</th>\n",
       "      <th>title</th>\n",
       "      <th>company_name</th>\n",
       "      <th>location</th>\n",
       "      <th>via</th>\n",
       "      <th>description</th>\n",
       "      <th>extensions</th>\n",
       "      <th>job_id</th>\n",
       "      <th>time_since_posting</th>\n",
       "      <th>schedule_type</th>\n",
       "      <th>...</th>\n",
       "      <th>cleaned_salary</th>\n",
       "      <th>pay_rate</th>\n",
       "      <th>min_salary</th>\n",
       "      <th>max_salary</th>\n",
       "      <th>avg_salary</th>\n",
       "      <th>location_cleaned</th>\n",
       "      <th>description_tokens</th>\n",
       "      <th>posting_created</th>\n",
       "      <th>title_cleaned</th>\n",
       "      <th>sector</th>\n",
       "    </tr>\n",
       "  </thead>\n",
       "  <tbody>\n",
       "    <tr>\n",
       "      <th>0</th>\n",
       "      <td>0</td>\n",
       "      <td>Data Analyst</td>\n",
       "      <td>Chloeta</td>\n",
       "      <td>Oklahoma City, OK</td>\n",
       "      <td>via ZipRecruiter</td>\n",
       "      <td>Job Summary: The Data Analyst oversees data pr...</td>\n",
       "      <td>['21 hours ago', 'Full-time', 'Health insuranc...</td>\n",
       "      <td>eyJqb2JfdGl0bGUiOiJEYXRhIEFuYWx5c3QiLCJodGlkb2...</td>\n",
       "      <td>0 days 21:00:00</td>\n",
       "      <td>Full-time</td>\n",
       "      <td>...</td>\n",
       "      <td>nan</td>\n",
       "      <td>NaN</td>\n",
       "      <td>nan</td>\n",
       "      <td>nan</td>\n",
       "      <td>NaN</td>\n",
       "      <td>Oklahoma</td>\n",
       "      <td>[r, python, classification]</td>\n",
       "      <td>2023-08-02 06:00</td>\n",
       "      <td>Data Analyst</td>\n",
       "      <td>Finance</td>\n",
       "    </tr>\n",
       "    <tr>\n",
       "      <th>1</th>\n",
       "      <td>1</td>\n",
       "      <td>Junior Data Analyst/Scientist Role - Contract ...</td>\n",
       "      <td>Upwork</td>\n",
       "      <td>Anywhere</td>\n",
       "      <td>via Upwork</td>\n",
       "      <td>Company\\n\\nThe TAC Index provides independent,...</td>\n",
       "      <td>['17 hours ago', 'Work from home', 'Contractor...</td>\n",
       "      <td>eyJqb2JfdGl0bGUiOiJKdW5pb3IgRGF0YSBBbmFseXN0L1...</td>\n",
       "      <td>0 days 17:00:00</td>\n",
       "      <td>Contractor</td>\n",
       "      <td>...</td>\n",
       "      <td>nan</td>\n",
       "      <td>NaN</td>\n",
       "      <td>nan</td>\n",
       "      <td>nan</td>\n",
       "      <td>NaN</td>\n",
       "      <td>Anywhere</td>\n",
       "      <td>[mysql, pandas, matlab, postgresql, r, python,...</td>\n",
       "      <td>2023-08-02 10:00</td>\n",
       "      <td>Data Scientist</td>\n",
       "      <td>Education</td>\n",
       "    </tr>\n",
       "    <tr>\n",
       "      <th>2</th>\n",
       "      <td>2</td>\n",
       "      <td>Data Analyst</td>\n",
       "      <td>ATC</td>\n",
       "      <td>United States</td>\n",
       "      <td>via LinkedIn</td>\n",
       "      <td>Job Title: Entry Level Business Analyst / Prod...</td>\n",
       "      <td>['12 hours ago', 'Full-time', 'Health insurance']</td>\n",
       "      <td>eyJqb2JfdGl0bGUiOiJEYXRhIEFuYWx5c3QiLCJodGlkb2...</td>\n",
       "      <td>0 days 12:00:00</td>\n",
       "      <td>Full-time</td>\n",
       "      <td>...</td>\n",
       "      <td>nan</td>\n",
       "      <td>NaN</td>\n",
       "      <td>nan</td>\n",
       "      <td>nan</td>\n",
       "      <td>NaN</td>\n",
       "      <td>United States</td>\n",
       "      <td>[]</td>\n",
       "      <td>2023-08-02 15:00</td>\n",
       "      <td>Data Analyst</td>\n",
       "      <td>Other</td>\n",
       "    </tr>\n",
       "    <tr>\n",
       "      <th>3</th>\n",
       "      <td>3</td>\n",
       "      <td>Data Analyst</td>\n",
       "      <td>Guidehouse</td>\n",
       "      <td>Topeka, KS</td>\n",
       "      <td>via Nexxt</td>\n",
       "      <td>Job Family :\\n\\nData Science &amp; Analysis (Digit...</td>\n",
       "      <td>['10 hours ago', 'Full-time', 'Health insuranc...</td>\n",
       "      <td>eyJqb2JfdGl0bGUiOiJEYXRhIEFuYWx5c3QiLCJodGlkb2...</td>\n",
       "      <td>0 days 10:00:00</td>\n",
       "      <td>Full-time</td>\n",
       "      <td>...</td>\n",
       "      <td>nan</td>\n",
       "      <td>NaN</td>\n",
       "      <td>nan</td>\n",
       "      <td>nan</td>\n",
       "      <td>NaN</td>\n",
       "      <td>Kansas</td>\n",
       "      <td>[perl, tableau, r, excel, outlook, power_bi, p...</td>\n",
       "      <td>2023-08-02 17:00</td>\n",
       "      <td>Data Analyst</td>\n",
       "      <td>Real Estate</td>\n",
       "    </tr>\n",
       "    <tr>\n",
       "      <th>4</th>\n",
       "      <td>4</td>\n",
       "      <td>Data Analyst</td>\n",
       "      <td>AnMed Health LLC</td>\n",
       "      <td>Anywhere</td>\n",
       "      <td>via LinkedIn</td>\n",
       "      <td>AnMed is a dynamic, comprehensive health syste...</td>\n",
       "      <td>['18 hours ago', 'Work from home', 'Part-time'...</td>\n",
       "      <td>eyJqb2JfdGl0bGUiOiJEYXRhIEFuYWx5c3QiLCJodGlkb2...</td>\n",
       "      <td>0 days 18:00:00</td>\n",
       "      <td>Part-time</td>\n",
       "      <td>...</td>\n",
       "      <td>nan</td>\n",
       "      <td>NaN</td>\n",
       "      <td>nan</td>\n",
       "      <td>nan</td>\n",
       "      <td>NaN</td>\n",
       "      <td>Anywhere</td>\n",
       "      <td>[]</td>\n",
       "      <td>2023-08-02 09:00</td>\n",
       "      <td>Data Analyst</td>\n",
       "      <td>Other</td>\n",
       "    </tr>\n",
       "    <tr>\n",
       "      <th>...</th>\n",
       "      <td>...</td>\n",
       "      <td>...</td>\n",
       "      <td>...</td>\n",
       "      <td>...</td>\n",
       "      <td>...</td>\n",
       "      <td>...</td>\n",
       "      <td>...</td>\n",
       "      <td>...</td>\n",
       "      <td>...</td>\n",
       "      <td>...</td>\n",
       "      <td>...</td>\n",
       "      <td>...</td>\n",
       "      <td>...</td>\n",
       "      <td>...</td>\n",
       "      <td>...</td>\n",
       "      <td>...</td>\n",
       "      <td>...</td>\n",
       "      <td>...</td>\n",
       "      <td>...</td>\n",
       "      <td>...</td>\n",
       "      <td>...</td>\n",
       "    </tr>\n",
       "    <tr>\n",
       "      <th>34128</th>\n",
       "      <td>34148</td>\n",
       "      <td>Marketing Data &amp; BI Analyst II</td>\n",
       "      <td>EDWARD JONES</td>\n",
       "      <td>Houstonia, MO</td>\n",
       "      <td>via My ArkLaMiss Jobs</td>\n",
       "      <td>At Edward Jones, we help clients achieve their...</td>\n",
       "      <td>['23 hours ago', '76,798–130,764 a year', 'Ful...</td>\n",
       "      <td>eyJqb2JfdGl0bGUiOiJNYXJrZXRpbmcgRGF0YSBcdTAwMj...</td>\n",
       "      <td>0 days 23:00:00</td>\n",
       "      <td>Full-time</td>\n",
       "      <td>...</td>\n",
       "      <td>76798–130764</td>\n",
       "      <td>yearly</td>\n",
       "      <td>76798</td>\n",
       "      <td>130764</td>\n",
       "      <td>103781.0</td>\n",
       "      <td>Missouri</td>\n",
       "      <td>[snowflake, tableau, r, excel, python, sql, po...</td>\n",
       "      <td>2022-11-03 04:40</td>\n",
       "      <td>Data Analyst</td>\n",
       "      <td>Technology</td>\n",
       "    </tr>\n",
       "    <tr>\n",
       "      <th>34129</th>\n",
       "      <td>34149</td>\n",
       "      <td>Lead-Data Analyst</td>\n",
       "      <td>EDWARD JONES</td>\n",
       "      <td>Marshfield, MO</td>\n",
       "      <td>via My ArkLaMiss Jobs</td>\n",
       "      <td>At Edward Jones, we help clients achieve their...</td>\n",
       "      <td>['23 hours ago', '106,916–182,047 a year', 'Fu...</td>\n",
       "      <td>eyJqb2JfdGl0bGUiOiJMZWFkLURhdGEgQW5hbHlzdCIsIm...</td>\n",
       "      <td>0 days 23:00:00</td>\n",
       "      <td>Full-time</td>\n",
       "      <td>...</td>\n",
       "      <td>106916–182047</td>\n",
       "      <td>yearly</td>\n",
       "      <td>106916</td>\n",
       "      <td>182047</td>\n",
       "      <td>144481.5</td>\n",
       "      <td>Missouri</td>\n",
       "      <td>[]</td>\n",
       "      <td>2022-11-23 05:00</td>\n",
       "      <td>Data Analyst</td>\n",
       "      <td>Technology</td>\n",
       "    </tr>\n",
       "    <tr>\n",
       "      <th>34130</th>\n",
       "      <td>34150</td>\n",
       "      <td>Lead-Data Analyst</td>\n",
       "      <td>EDWARD JONES</td>\n",
       "      <td>High Point, MO</td>\n",
       "      <td>via My ArkLaMiss Jobs</td>\n",
       "      <td>At Edward Jones, we help clients achieve their...</td>\n",
       "      <td>['23 hours ago', '106,916–182,047 a year', 'Fu...</td>\n",
       "      <td>eyJqb2JfdGl0bGUiOiJMZWFkLURhdGEgQW5hbHlzdCIsIm...</td>\n",
       "      <td>0 days 23:00:00</td>\n",
       "      <td>Full-time</td>\n",
       "      <td>...</td>\n",
       "      <td>106916–182047</td>\n",
       "      <td>yearly</td>\n",
       "      <td>106916</td>\n",
       "      <td>182047</td>\n",
       "      <td>144481.5</td>\n",
       "      <td>Missouri</td>\n",
       "      <td>[]</td>\n",
       "      <td>2022-12-06 05:00</td>\n",
       "      <td>Data Analyst</td>\n",
       "      <td>Technology</td>\n",
       "    </tr>\n",
       "    <tr>\n",
       "      <th>34131</th>\n",
       "      <td>34151</td>\n",
       "      <td>Lead-Data Analyst</td>\n",
       "      <td>EDWARD JONES</td>\n",
       "      <td>Calhoun, MO</td>\n",
       "      <td>via My ArkLaMiss Jobs</td>\n",
       "      <td>At Edward Jones, we help clients achieve their...</td>\n",
       "      <td>['23 hours ago', '106,916–182,047 a year', 'Fu...</td>\n",
       "      <td>eyJqb2JfdGl0bGUiOiJMZWFkLURhdGEgQW5hbHlzdCIsIm...</td>\n",
       "      <td>0 days 23:00:00</td>\n",
       "      <td>Full-time</td>\n",
       "      <td>...</td>\n",
       "      <td>106916–182047</td>\n",
       "      <td>yearly</td>\n",
       "      <td>106916</td>\n",
       "      <td>182047</td>\n",
       "      <td>144481.5</td>\n",
       "      <td>Missouri</td>\n",
       "      <td>[]</td>\n",
       "      <td>2022-12-07 05:00</td>\n",
       "      <td>Data Analyst</td>\n",
       "      <td>Technology</td>\n",
       "    </tr>\n",
       "    <tr>\n",
       "      <th>34132</th>\n",
       "      <td>34152</td>\n",
       "      <td>Institutional Credit Management - Lending Data...</td>\n",
       "      <td>Citi</td>\n",
       "      <td>United States</td>\n",
       "      <td>via My ArkLaMiss Jobs</td>\n",
       "      <td>The Institutional Credit Management (ICM) grou...</td>\n",
       "      <td>['24 hours ago', '105,850–158,780 a year', 'Fu...</td>\n",
       "      <td>eyJqb2JfdGl0bGUiOiJJbnN0aXR1dGlvbmFsIENyZWRpdC...</td>\n",
       "      <td>1 days 00:00:00</td>\n",
       "      <td>Full-time</td>\n",
       "      <td>...</td>\n",
       "      <td>105850–158780</td>\n",
       "      <td>yearly</td>\n",
       "      <td>105850</td>\n",
       "      <td>158780</td>\n",
       "      <td>132315.0</td>\n",
       "      <td>United States</td>\n",
       "      <td>[cognos, tableau]</td>\n",
       "      <td>2023-01-24 04:00</td>\n",
       "      <td>Data Analyst</td>\n",
       "      <td>Technology</td>\n",
       "    </tr>\n",
       "  </tbody>\n",
       "</table>\n",
       "<p>34133 rows × 23 columns</p>\n",
       "</div>"
      ],
      "text/plain": [
       "       index                                              title  \\\n",
       "0          0                                       Data Analyst   \n",
       "1          1  Junior Data Analyst/Scientist Role - Contract ...   \n",
       "2          2                                       Data Analyst   \n",
       "3          3                                       Data Analyst   \n",
       "4          4                                       Data Analyst   \n",
       "...      ...                                                ...   \n",
       "34128  34148                     Marketing Data & BI Analyst II   \n",
       "34129  34149                                  Lead-Data Analyst   \n",
       "34130  34150                                  Lead-Data Analyst   \n",
       "34131  34151                                  Lead-Data Analyst   \n",
       "34132  34152  Institutional Credit Management - Lending Data...   \n",
       "\n",
       "           company_name           location                    via  \\\n",
       "0               Chloeta  Oklahoma City, OK       via ZipRecruiter   \n",
       "1                Upwork           Anywhere             via Upwork   \n",
       "2                   ATC      United States           via LinkedIn   \n",
       "3            Guidehouse         Topeka, KS              via Nexxt   \n",
       "4      AnMed Health LLC           Anywhere           via LinkedIn   \n",
       "...                 ...                ...                    ...   \n",
       "34128      EDWARD JONES      Houstonia, MO  via My ArkLaMiss Jobs   \n",
       "34129      EDWARD JONES     Marshfield, MO  via My ArkLaMiss Jobs   \n",
       "34130      EDWARD JONES     High Point, MO  via My ArkLaMiss Jobs   \n",
       "34131      EDWARD JONES        Calhoun, MO  via My ArkLaMiss Jobs   \n",
       "34132              Citi      United States  via My ArkLaMiss Jobs   \n",
       "\n",
       "                                             description  \\\n",
       "0      Job Summary: The Data Analyst oversees data pr...   \n",
       "1      Company\\n\\nThe TAC Index provides independent,...   \n",
       "2      Job Title: Entry Level Business Analyst / Prod...   \n",
       "3      Job Family :\\n\\nData Science & Analysis (Digit...   \n",
       "4      AnMed is a dynamic, comprehensive health syste...   \n",
       "...                                                  ...   \n",
       "34128  At Edward Jones, we help clients achieve their...   \n",
       "34129  At Edward Jones, we help clients achieve their...   \n",
       "34130  At Edward Jones, we help clients achieve their...   \n",
       "34131  At Edward Jones, we help clients achieve their...   \n",
       "34132  The Institutional Credit Management (ICM) grou...   \n",
       "\n",
       "                                              extensions  \\\n",
       "0      ['21 hours ago', 'Full-time', 'Health insuranc...   \n",
       "1      ['17 hours ago', 'Work from home', 'Contractor...   \n",
       "2      ['12 hours ago', 'Full-time', 'Health insurance']   \n",
       "3      ['10 hours ago', 'Full-time', 'Health insuranc...   \n",
       "4      ['18 hours ago', 'Work from home', 'Part-time'...   \n",
       "...                                                  ...   \n",
       "34128  ['23 hours ago', '76,798–130,764 a year', 'Ful...   \n",
       "34129  ['23 hours ago', '106,916–182,047 a year', 'Fu...   \n",
       "34130  ['23 hours ago', '106,916–182,047 a year', 'Fu...   \n",
       "34131  ['23 hours ago', '106,916–182,047 a year', 'Fu...   \n",
       "34132  ['24 hours ago', '105,850–158,780 a year', 'Fu...   \n",
       "\n",
       "                                                  job_id time_since_posting  \\\n",
       "0      eyJqb2JfdGl0bGUiOiJEYXRhIEFuYWx5c3QiLCJodGlkb2...    0 days 21:00:00   \n",
       "1      eyJqb2JfdGl0bGUiOiJKdW5pb3IgRGF0YSBBbmFseXN0L1...    0 days 17:00:00   \n",
       "2      eyJqb2JfdGl0bGUiOiJEYXRhIEFuYWx5c3QiLCJodGlkb2...    0 days 12:00:00   \n",
       "3      eyJqb2JfdGl0bGUiOiJEYXRhIEFuYWx5c3QiLCJodGlkb2...    0 days 10:00:00   \n",
       "4      eyJqb2JfdGl0bGUiOiJEYXRhIEFuYWx5c3QiLCJodGlkb2...    0 days 18:00:00   \n",
       "...                                                  ...                ...   \n",
       "34128  eyJqb2JfdGl0bGUiOiJNYXJrZXRpbmcgRGF0YSBcdTAwMj...    0 days 23:00:00   \n",
       "34129  eyJqb2JfdGl0bGUiOiJMZWFkLURhdGEgQW5hbHlzdCIsIm...    0 days 23:00:00   \n",
       "34130  eyJqb2JfdGl0bGUiOiJMZWFkLURhdGEgQW5hbHlzdCIsIm...    0 days 23:00:00   \n",
       "34131  eyJqb2JfdGl0bGUiOiJMZWFkLURhdGEgQW5hbHlzdCIsIm...    0 days 23:00:00   \n",
       "34132  eyJqb2JfdGl0bGUiOiJJbnN0aXR1dGlvbmFsIENyZWRpdC...    1 days 00:00:00   \n",
       "\n",
       "      schedule_type  ...   cleaned_salary pay_rate min_salary max_salary  \\\n",
       "0         Full-time  ...              nan      NaN        nan        nan   \n",
       "1        Contractor  ...              nan      NaN        nan        nan   \n",
       "2         Full-time  ...              nan      NaN        nan        nan   \n",
       "3         Full-time  ...              nan      NaN        nan        nan   \n",
       "4         Part-time  ...              nan      NaN        nan        nan   \n",
       "...             ...  ...              ...      ...        ...        ...   \n",
       "34128     Full-time  ...   76798–130764     yearly      76798   130764     \n",
       "34129     Full-time  ...  106916–182047     yearly     106916   182047     \n",
       "34130     Full-time  ...  106916–182047     yearly     106916   182047     \n",
       "34131     Full-time  ...  106916–182047     yearly     106916   182047     \n",
       "34132     Full-time  ...  105850–158780     yearly     105850   158780     \n",
       "\n",
       "      avg_salary location_cleaned  \\\n",
       "0            NaN         Oklahoma   \n",
       "1            NaN         Anywhere   \n",
       "2            NaN    United States   \n",
       "3            NaN           Kansas   \n",
       "4            NaN         Anywhere   \n",
       "...          ...              ...   \n",
       "34128   103781.0         Missouri   \n",
       "34129   144481.5         Missouri   \n",
       "34130   144481.5         Missouri   \n",
       "34131   144481.5         Missouri   \n",
       "34132   132315.0    United States   \n",
       "\n",
       "                                      description_tokens   posting_created  \\\n",
       "0                            [r, python, classification]  2023-08-02 06:00   \n",
       "1      [mysql, pandas, matlab, postgresql, r, python,...  2023-08-02 10:00   \n",
       "2                                                     []  2023-08-02 15:00   \n",
       "3      [perl, tableau, r, excel, outlook, power_bi, p...  2023-08-02 17:00   \n",
       "4                                                     []  2023-08-02 09:00   \n",
       "...                                                  ...               ...   \n",
       "34128  [snowflake, tableau, r, excel, python, sql, po...  2022-11-03 04:40   \n",
       "34129                                                 []  2022-11-23 05:00   \n",
       "34130                                                 []  2022-12-06 05:00   \n",
       "34131                                                 []  2022-12-07 05:00   \n",
       "34132                                  [cognos, tableau]  2023-01-24 04:00   \n",
       "\n",
       "        title_cleaned       sector  \n",
       "0        Data Analyst      Finance  \n",
       "1      Data Scientist    Education  \n",
       "2        Data Analyst        Other  \n",
       "3        Data Analyst  Real Estate  \n",
       "4        Data Analyst        Other  \n",
       "...               ...          ...  \n",
       "34128    Data Analyst   Technology  \n",
       "34129    Data Analyst   Technology  \n",
       "34130    Data Analyst   Technology  \n",
       "34131    Data Analyst   Technology  \n",
       "34132    Data Analyst   Technology  \n",
       "\n",
       "[34133 rows x 23 columns]"
      ]
     },
     "execution_count": 67,
     "metadata": {},
     "output_type": "execute_result"
    }
   ],
   "source": [
    "jobs_df_cleaned"
   ]
  },
  {
   "cell_type": "code",
   "execution_count": null,
   "metadata": {},
   "outputs": [
    {
     "data": {
      "text/html": [
       "<div>\n",
       "<style scoped>\n",
       "    .dataframe tbody tr th:only-of-type {\n",
       "        vertical-align: middle;\n",
       "    }\n",
       "\n",
       "    .dataframe tbody tr th {\n",
       "        vertical-align: top;\n",
       "    }\n",
       "\n",
       "    .dataframe thead th {\n",
       "        text-align: right;\n",
       "    }\n",
       "</style>\n",
       "<table border=\"1\" class=\"dataframe\">\n",
       "  <thead>\n",
       "    <tr style=\"text-align: right;\">\n",
       "      <th></th>\n",
       "      <th>sector</th>\n",
       "      <th>title_cleaned</th>\n",
       "      <th>title</th>\n",
       "    </tr>\n",
       "  </thead>\n",
       "  <tbody>\n",
       "    <tr>\n",
       "      <th>26250</th>\n",
       "      <td>Finance</td>\n",
       "      <td>Data Analyst</td>\n",
       "      <td>Data Analyst - Healthcare Analytics</td>\n",
       "    </tr>\n",
       "    <tr>\n",
       "      <th>9015</th>\n",
       "      <td>Retail</td>\n",
       "      <td>Data Analyst</td>\n",
       "      <td>Marketing Data Analyst (Remote)</td>\n",
       "    </tr>\n",
       "    <tr>\n",
       "      <th>4505</th>\n",
       "      <td>Finance</td>\n",
       "      <td>Data Analyst</td>\n",
       "      <td>Remote Data Analyst</td>\n",
       "    </tr>\n",
       "    <tr>\n",
       "      <th>31675</th>\n",
       "      <td>Other</td>\n",
       "      <td>Data Analyst</td>\n",
       "      <td>Data Analyst Sr</td>\n",
       "    </tr>\n",
       "    <tr>\n",
       "      <th>31931</th>\n",
       "      <td>Healthcare</td>\n",
       "      <td>Data Analyst</td>\n",
       "      <td>Data Analyst III</td>\n",
       "    </tr>\n",
       "    <tr>\n",
       "      <th>21212</th>\n",
       "      <td>Technology</td>\n",
       "      <td>Data Analyst</td>\n",
       "      <td>Senior Data Analyst (remote) ($81666.00 - $115...</td>\n",
       "    </tr>\n",
       "    <tr>\n",
       "      <th>3472</th>\n",
       "      <td>Finance</td>\n",
       "      <td>Data Analyst</td>\n",
       "      <td>Compensation Data Analyst</td>\n",
       "    </tr>\n",
       "    <tr>\n",
       "      <th>27005</th>\n",
       "      <td>Other</td>\n",
       "      <td>Data Scientist</td>\n",
       "      <td>Business Data Scientist</td>\n",
       "    </tr>\n",
       "    <tr>\n",
       "      <th>28600</th>\n",
       "      <td>Other</td>\n",
       "      <td>Data Analyst</td>\n",
       "      <td>Senior Tableau Data Analyst - REMOTE</td>\n",
       "    </tr>\n",
       "    <tr>\n",
       "      <th>9037</th>\n",
       "      <td>Other</td>\n",
       "      <td>Data Analyst</td>\n",
       "      <td>Hybrid - Business Analyst (SQL/SSRS)</td>\n",
       "    </tr>\n",
       "  </tbody>\n",
       "</table>\n",
       "</div>"
      ],
      "text/plain": [
       "           sector   title_cleaned  \\\n",
       "26250     Finance    Data Analyst   \n",
       "9015       Retail    Data Analyst   \n",
       "4505      Finance    Data Analyst   \n",
       "31675       Other    Data Analyst   \n",
       "31931  Healthcare    Data Analyst   \n",
       "21212  Technology    Data Analyst   \n",
       "3472      Finance    Data Analyst   \n",
       "27005       Other  Data Scientist   \n",
       "28600       Other    Data Analyst   \n",
       "9037        Other    Data Analyst   \n",
       "\n",
       "                                                   title  \n",
       "26250                Data Analyst - Healthcare Analytics  \n",
       "9015                     Marketing Data Analyst (Remote)  \n",
       "4505                                 Remote Data Analyst  \n",
       "31675                                    Data Analyst Sr  \n",
       "31931                                   Data Analyst III  \n",
       "21212  Senior Data Analyst (remote) ($81666.00 - $115...  \n",
       "3472                           Compensation Data Analyst  \n",
       "27005                            Business Data Scientist  \n",
       "28600               Senior Tableau Data Analyst - REMOTE  \n",
       "9037                Hybrid - Business Analyst (SQL/SSRS)  "
      ]
     },
     "execution_count": 68,
     "metadata": {},
     "output_type": "execute_result"
    }
   ],
   "source": [
    "# Show me sector and job title\n",
    "jobs_df_cleaned[['sector', 'title_cleaned', 'title']].sample(10)"
   ]
  },
  {
   "cell_type": "markdown",
   "metadata": {},
   "source": [
    "### **Only look at full time employees**"
   ]
  },
  {
   "cell_type": "markdown",
   "metadata": {},
   "source": [
    "During exploration it was identified that contract (typically freelance) positions tend to pay a lot more than full time.\n",
    "- Some of these positions were offering up to $750 an hour\n",
    "- This caused issues when we annualized the pay (multiplied by 2080 for hourly)\n",
    "\n",
    "Freelance work is typically not something for entry level positions, so for now we won't be looking into those."
   ]
  },
  {
   "cell_type": "code",
   "execution_count": null,
   "metadata": {},
   "outputs": [
    {
     "data": {
      "text/plain": [
       "schedule_type\n",
       "Full-time    20029\n",
       "Name: count, dtype: int64"
      ]
     },
     "execution_count": 149,
     "metadata": {},
     "output_type": "execute_result"
    }
   ],
   "source": [
    "# value counts for schedule type\n",
    "jobs_df_cleaned.schedule_type.value_counts(dropna=False)"
   ]
  },
  {
   "cell_type": "code",
   "execution_count": null,
   "metadata": {},
   "outputs": [],
   "source": [
    "# If the schedule type does not have \"Full-time\", drop it\n",
    "jobs_df_cleaned = jobs_df_cleaned[jobs_df_cleaned['schedule_type'].str.contains('Full-time', na=False)]\n",
    "\n",
    "# Rename remaining titles to \"Full-time\" if the schedule type contains \"Full-time\"\n",
    "jobs_df_cleaned.loc[jobs_df_cleaned['schedule_type'].str.contains('Full-time', na=False), 'schedule_type'] = 'Full-time'"
   ]
  },
  {
   "cell_type": "markdown",
   "metadata": {},
   "source": [
    "## Exploration"
   ]
  },
  {
   "cell_type": "markdown",
   "metadata": {},
   "source": [
    "### Splits"
   ]
  },
  {
   "cell_type": "code",
   "execution_count": null,
   "metadata": {},
   "outputs": [
    {
     "name": "stdout",
     "output_type": "stream",
     "text": [
      "Train size: 27305 (80.00%)\n",
      "Test size: 6827 (20.00%)\n"
     ]
    }
   ],
   "source": [
    "from sklearn.model_selection import train_test_split\n",
    "\n",
    "# Split the data into train and test sets (Our validate will be generated during GridSearch)\n",
    "train, test = train_test_split(jobs_df_cleaned, train_size=0.8, test_size=0.2, random_state=321)\n",
    "\n",
    "# Print sizes, length of set and ratio of total\n",
    "print(f\"Train size: {len(train)} ({len(train) / len(jobs_df_cleaned):.2%})\")\n",
    "print(f\"Test size: {len(test)} ({len(test) / len(jobs_df_cleaned):.2%})\")"
   ]
  },
  {
   "cell_type": "code",
   "execution_count": null,
   "metadata": {},
   "outputs": [],
   "source": [
    "# Rename our train, into our variable we have previously used\n",
    "jobs_df_cleaned = train.copy()"
   ]
  },
  {
   "cell_type": "markdown",
   "metadata": {},
   "source": [
    "### Plots"
   ]
  },
  {
   "cell_type": "code",
   "execution_count": null,
   "metadata": {},
   "outputs": [
    {
     "name": "stdout",
     "output_type": "stream",
     "text": [
      "Total rows: 27305\n",
      "Total columns: 23\n"
     ]
    },
    {
     "data": {
      "text/html": [
       "<div>\n",
       "<style scoped>\n",
       "    .dataframe tbody tr th:only-of-type {\n",
       "        vertical-align: middle;\n",
       "    }\n",
       "\n",
       "    .dataframe tbody tr th {\n",
       "        vertical-align: top;\n",
       "    }\n",
       "\n",
       "    .dataframe thead th {\n",
       "        text-align: right;\n",
       "    }\n",
       "</style>\n",
       "<table border=\"1\" class=\"dataframe\">\n",
       "  <thead>\n",
       "    <tr style=\"text-align: right;\">\n",
       "      <th></th>\n",
       "      <th>col_name</th>\n",
       "      <th>dtype</th>\n",
       "      <th>num_unique</th>\n",
       "      <th>num_null</th>\n",
       "      <th>pct_null</th>\n",
       "      <th>unique_values</th>\n",
       "      <th>range (min, max, mean)</th>\n",
       "    </tr>\n",
       "  </thead>\n",
       "  <tbody>\n",
       "    <tr>\n",
       "      <th>0</th>\n",
       "      <td>index</td>\n",
       "      <td>int64</td>\n",
       "      <td>27305</td>\n",
       "      <td>0</td>\n",
       "      <td>0.00000</td>\n",
       "      <td>Index([32165, 29259, 23881, 30171, 20135, 1502...</td>\n",
       "      <td>(0, 34132)</td>\n",
       "    </tr>\n",
       "    <tr>\n",
       "      <th>1</th>\n",
       "      <td>index</td>\n",
       "      <td>int64</td>\n",
       "      <td>27305</td>\n",
       "      <td>0</td>\n",
       "      <td>0.00000</td>\n",
       "      <td>[32185, 29279, 23901, 30191, 20145, 15024, 290...</td>\n",
       "      <td>(0, 34152, 17059.968137703716)</td>\n",
       "    </tr>\n",
       "    <tr>\n",
       "      <th>2</th>\n",
       "      <td>title</td>\n",
       "      <td>object</td>\n",
       "      <td>11210</td>\n",
       "      <td>0</td>\n",
       "      <td>0.00000</td>\n",
       "      <td>[Data Analyst, Data Analyst - Remote - Latin A...</td>\n",
       "      <td>None</td>\n",
       "    </tr>\n",
       "    <tr>\n",
       "      <th>3</th>\n",
       "      <td>company_name</td>\n",
       "      <td>object</td>\n",
       "      <td>7280</td>\n",
       "      <td>0</td>\n",
       "      <td>0.00000</td>\n",
       "      <td>[Dynamics ATS, FullStack Labs, EDWARD JONES, S...</td>\n",
       "      <td>None</td>\n",
       "    </tr>\n",
       "    <tr>\n",
       "      <th>4</th>\n",
       "      <td>location</td>\n",
       "      <td>object</td>\n",
       "      <td>453</td>\n",
       "      <td>20</td>\n",
       "      <td>0.00073</td>\n",
       "      <td>[United States, Anywhere, Centralia, MO, Richa...</td>\n",
       "      <td>None</td>\n",
       "    </tr>\n",
       "    <tr>\n",
       "      <th>5</th>\n",
       "      <td>via</td>\n",
       "      <td>object</td>\n",
       "      <td>510</td>\n",
       "      <td>9</td>\n",
       "      <td>0.00033</td>\n",
       "      <td>[via Trabajo.org, via LinkedIn, via Monster, v...</td>\n",
       "      <td>None</td>\n",
       "    </tr>\n",
       "    <tr>\n",
       "      <th>6</th>\n",
       "      <td>description</td>\n",
       "      <td>object</td>\n",
       "      <td>20268</td>\n",
       "      <td>0</td>\n",
       "      <td>0.00000</td>\n",
       "      <td>[Data Analyst\\n\\nJOB-10035344...\\n\\nAnticipate...</td>\n",
       "      <td>None</td>\n",
       "    </tr>\n",
       "    <tr>\n",
       "      <th>7</th>\n",
       "      <td>extensions</td>\n",
       "      <td>object</td>\n",
       "      <td>4759</td>\n",
       "      <td>0</td>\n",
       "      <td>0.00000</td>\n",
       "      <td>[['20 hours ago', 'Full-time', 'Health insuran...</td>\n",
       "      <td>None</td>\n",
       "    </tr>\n",
       "    <tr>\n",
       "      <th>8</th>\n",
       "      <td>job_id</td>\n",
       "      <td>object</td>\n",
       "      <td>27305</td>\n",
       "      <td>0</td>\n",
       "      <td>0.00000</td>\n",
       "      <td>[eyJqb2JfdGl0bGUiOiJEYXRhIEFuYWx5c3QiLCJodGlkb...</td>\n",
       "      <td>None</td>\n",
       "    </tr>\n",
       "    <tr>\n",
       "      <th>9</th>\n",
       "      <td>time_since_posting</td>\n",
       "      <td>timedelta64[ns]</td>\n",
       "      <td>54</td>\n",
       "      <td>0</td>\n",
       "      <td>0.00000</td>\n",
       "      <td>[0 days 20:00:00, 0 days 17:00:00, 0 days 19:0...</td>\n",
       "      <td>None</td>\n",
       "    </tr>\n",
       "    <tr>\n",
       "      <th>10</th>\n",
       "      <td>schedule_type</td>\n",
       "      <td>object</td>\n",
       "      <td>22</td>\n",
       "      <td>144</td>\n",
       "      <td>0.00527</td>\n",
       "      <td>[Full-time, Contractor, Part-time and Contract...</td>\n",
       "      <td>None</td>\n",
       "    </tr>\n",
       "    <tr>\n",
       "      <th>11</th>\n",
       "      <td>work_from_home</td>\n",
       "      <td>bool</td>\n",
       "      <td>2</td>\n",
       "      <td>0</td>\n",
       "      <td>0.00000</td>\n",
       "      <td>[False, True]</td>\n",
       "      <td>(False, True, 0.4473539644753708)</td>\n",
       "    </tr>\n",
       "    <tr>\n",
       "      <th>12</th>\n",
       "      <td>salary</td>\n",
       "      <td>object</td>\n",
       "      <td>1151</td>\n",
       "      <td>22451</td>\n",
       "      <td>0.82223</td>\n",
       "      <td>[nan, 51,824.00–109,535.33 a year, 20–30 an ho...</td>\n",
       "      <td>None</td>\n",
       "    </tr>\n",
       "    <tr>\n",
       "      <th>13</th>\n",
       "      <td>date_scraped</td>\n",
       "      <td>datetime64[ns]</td>\n",
       "      <td>3553</td>\n",
       "      <td>0</td>\n",
       "      <td>0.00000</td>\n",
       "      <td>[2022-12-11 04:00:28.227873, 2022-11-04 15:37:...</td>\n",
       "      <td>(2022-11-04, 2023-11-02)</td>\n",
       "    </tr>\n",
       "    <tr>\n",
       "      <th>14</th>\n",
       "      <td>cleaned_salary</td>\n",
       "      <td>object</td>\n",
       "      <td>1148</td>\n",
       "      <td>0</td>\n",
       "      <td>0.00000</td>\n",
       "      <td>[nan, 51824.00–109535.33  , 20–30  , 65–69  , ...</td>\n",
       "      <td>None</td>\n",
       "    </tr>\n",
       "    <tr>\n",
       "      <th>15</th>\n",
       "      <td>pay_rate</td>\n",
       "      <td>object</td>\n",
       "      <td>3</td>\n",
       "      <td>22451</td>\n",
       "      <td>0.82223</td>\n",
       "      <td>[nan, yearly, hourly, monthly]</td>\n",
       "      <td>None</td>\n",
       "    </tr>\n",
       "    <tr>\n",
       "      <th>16</th>\n",
       "      <td>min_salary</td>\n",
       "      <td>object</td>\n",
       "      <td>402</td>\n",
       "      <td>0</td>\n",
       "      <td>0.00000</td>\n",
       "      <td>[nan, 51824.00, 41600.0, 135200.0, 72800.0, 93...</td>\n",
       "      <td>None</td>\n",
       "    </tr>\n",
       "    <tr>\n",
       "      <th>17</th>\n",
       "      <td>max_salary</td>\n",
       "      <td>object</td>\n",
       "      <td>442</td>\n",
       "      <td>0</td>\n",
       "      <td>0.00000</td>\n",
       "      <td>[nan, 109535.33  , 62400.0, 143520.0, 124800.0...</td>\n",
       "      <td>None</td>\n",
       "    </tr>\n",
       "    <tr>\n",
       "      <th>18</th>\n",
       "      <td>avg_salary</td>\n",
       "      <td>float64</td>\n",
       "      <td>531</td>\n",
       "      <td>22451</td>\n",
       "      <td>0.82223</td>\n",
       "      <td>[nan, 80679.66500000001, 52000.0, 139360.0, 98...</td>\n",
       "      <td>(15080.0, 572000.0, 93080.76264009064)</td>\n",
       "    </tr>\n",
       "    <tr>\n",
       "      <th>19</th>\n",
       "      <td>location_cleaned</td>\n",
       "      <td>object</td>\n",
       "      <td>18</td>\n",
       "      <td>0</td>\n",
       "      <td>0.00000</td>\n",
       "      <td>[United States, Anywhere, Missouri, Arkansas, ...</td>\n",
       "      <td>None</td>\n",
       "    </tr>\n",
       "    <tr>\n",
       "      <th>20</th>\n",
       "      <td>description_tokens</td>\n",
       "      <td>object</td>\n",
       "      <td>ERROR</td>\n",
       "      <td>0</td>\n",
       "      <td>0.00000</td>\n",
       "      <td>Column contains multiple lists</td>\n",
       "      <td>None</td>\n",
       "    </tr>\n",
       "    <tr>\n",
       "      <th>21</th>\n",
       "      <td>posting_created</td>\n",
       "      <td>object</td>\n",
       "      <td>7413</td>\n",
       "      <td>0</td>\n",
       "      <td>0.00000</td>\n",
       "      <td>[2022-12-10 08:00, 2022-11-03 22:37, 2022-12-1...</td>\n",
       "      <td>None</td>\n",
       "    </tr>\n",
       "    <tr>\n",
       "      <th>22</th>\n",
       "      <td>title_cleaned</td>\n",
       "      <td>object</td>\n",
       "      <td>4</td>\n",
       "      <td>0</td>\n",
       "      <td>0.00000</td>\n",
       "      <td>[Data Analyst, Other, Data Engineer, Data Scie...</td>\n",
       "      <td>None</td>\n",
       "    </tr>\n",
       "    <tr>\n",
       "      <th>23</th>\n",
       "      <td>sector</td>\n",
       "      <td>object</td>\n",
       "      <td>7</td>\n",
       "      <td>0</td>\n",
       "      <td>0.00000</td>\n",
       "      <td>[Healthcare, Education, Technology, Other, Fin...</td>\n",
       "      <td>None</td>\n",
       "    </tr>\n",
       "  </tbody>\n",
       "</table>\n",
       "</div>"
      ],
      "text/plain": [
       "              col_name            dtype num_unique  num_null  pct_null  \\\n",
       "0                index            int64      27305         0   0.00000   \n",
       "1                index            int64      27305         0   0.00000   \n",
       "2                title           object      11210         0   0.00000   \n",
       "3         company_name           object       7280         0   0.00000   \n",
       "4             location           object        453        20   0.00073   \n",
       "5                  via           object        510         9   0.00033   \n",
       "6          description           object      20268         0   0.00000   \n",
       "7           extensions           object       4759         0   0.00000   \n",
       "8               job_id           object      27305         0   0.00000   \n",
       "9   time_since_posting  timedelta64[ns]         54         0   0.00000   \n",
       "10       schedule_type           object         22       144   0.00527   \n",
       "11      work_from_home             bool          2         0   0.00000   \n",
       "12              salary           object       1151     22451   0.82223   \n",
       "13        date_scraped   datetime64[ns]       3553         0   0.00000   \n",
       "14      cleaned_salary           object       1148         0   0.00000   \n",
       "15            pay_rate           object          3     22451   0.82223   \n",
       "16          min_salary           object        402         0   0.00000   \n",
       "17          max_salary           object        442         0   0.00000   \n",
       "18          avg_salary          float64        531     22451   0.82223   \n",
       "19    location_cleaned           object         18         0   0.00000   \n",
       "20  description_tokens           object      ERROR         0   0.00000   \n",
       "21     posting_created           object       7413         0   0.00000   \n",
       "22       title_cleaned           object          4         0   0.00000   \n",
       "23              sector           object          7         0   0.00000   \n",
       "\n",
       "                                        unique_values  \\\n",
       "0   Index([32165, 29259, 23881, 30171, 20135, 1502...   \n",
       "1   [32185, 29279, 23901, 30191, 20145, 15024, 290...   \n",
       "2   [Data Analyst, Data Analyst - Remote - Latin A...   \n",
       "3   [Dynamics ATS, FullStack Labs, EDWARD JONES, S...   \n",
       "4   [United States, Anywhere, Centralia, MO, Richa...   \n",
       "5   [via Trabajo.org, via LinkedIn, via Monster, v...   \n",
       "6   [Data Analyst\\n\\nJOB-10035344...\\n\\nAnticipate...   \n",
       "7   [['20 hours ago', 'Full-time', 'Health insuran...   \n",
       "8   [eyJqb2JfdGl0bGUiOiJEYXRhIEFuYWx5c3QiLCJodGlkb...   \n",
       "9   [0 days 20:00:00, 0 days 17:00:00, 0 days 19:0...   \n",
       "10  [Full-time, Contractor, Part-time and Contract...   \n",
       "11                                      [False, True]   \n",
       "12  [nan, 51,824.00–109,535.33 a year, 20–30 an ho...   \n",
       "13  [2022-12-11 04:00:28.227873, 2022-11-04 15:37:...   \n",
       "14  [nan, 51824.00–109535.33  , 20–30  , 65–69  , ...   \n",
       "15                     [nan, yearly, hourly, monthly]   \n",
       "16  [nan, 51824.00, 41600.0, 135200.0, 72800.0, 93...   \n",
       "17  [nan, 109535.33  , 62400.0, 143520.0, 124800.0...   \n",
       "18  [nan, 80679.66500000001, 52000.0, 139360.0, 98...   \n",
       "19  [United States, Anywhere, Missouri, Arkansas, ...   \n",
       "20                     Column contains multiple lists   \n",
       "21  [2022-12-10 08:00, 2022-11-03 22:37, 2022-12-1...   \n",
       "22  [Data Analyst, Other, Data Engineer, Data Scie...   \n",
       "23  [Healthcare, Education, Technology, Other, Fin...   \n",
       "\n",
       "                    range (min, max, mean)  \n",
       "0                               (0, 34132)  \n",
       "1           (0, 34152, 17059.968137703716)  \n",
       "2                                     None  \n",
       "3                                     None  \n",
       "4                                     None  \n",
       "5                                     None  \n",
       "6                                     None  \n",
       "7                                     None  \n",
       "8                                     None  \n",
       "9                                     None  \n",
       "10                                    None  \n",
       "11       (False, True, 0.4473539644753708)  \n",
       "12                                    None  \n",
       "13                (2022-11-04, 2023-11-02)  \n",
       "14                                    None  \n",
       "15                                    None  \n",
       "16                                    None  \n",
       "17                                    None  \n",
       "18  (15080.0, 572000.0, 93080.76264009064)  \n",
       "19                                    None  \n",
       "20                                    None  \n",
       "21                                    None  \n",
       "22                                    None  \n",
       "23                                    None  "
      ]
     },
     "execution_count": 115,
     "metadata": {},
     "output_type": "execute_result"
    }
   ],
   "source": [
    "check_columns(jobs_df_cleaned)"
   ]
  },
  {
   "cell_type": "code",
   "execution_count": null,
   "metadata": {},
   "outputs": [],
   "source": [
    "import matplotlib.pyplot as plt\n",
    "import seaborn as sns\n",
    "\n",
    "def eda_plot(df, column, topn=20):\n",
    "    \"\"\"\n",
    "    This function takes a DataFrame, a column name, and a number as parameters. \n",
    "    It creates a bar plot of the top 'n' most frequent values in the specified column.\n",
    "\n",
    "    Parameters:\n",
    "    df (DataFrame): The input DataFrame.\n",
    "    column (str): The name of the column to plot.\n",
    "    topn (int): The number of top values to include in the plot.\n",
    "\n",
    "    Returns:\n",
    "    None\n",
    "    \"\"\"\n",
    "    \n",
    "    # Create a figure\n",
    "    plt.figure(figsize=(12, 4))\n",
    "    \n",
    "    # Get the top 'n' most frequent values in the column\n",
    "    top_values = df[column].value_counts().nlargest(topn)\n",
    "    \n",
    "    # Create a bar plot of the top values\n",
    "    # Use the 'hsv' colormap to get different colors for each bar\n",
    "    sns.barplot(x=top_values.index, y=top_values.values, palette=\"hsv\")\n",
    "    \n",
    "    # Set the title and labels\n",
    "    plt.title(f\"'{column}' column value counts\", fontsize=20)\n",
    "    plt.ylabel(\"Counts\", fontsize=15)\n",
    "    plt.xlabel(column, fontsize=15)\n",
    "    \n",
    "    # Rotate the x-axis labels for better readability\n",
    "    plt.xticks(rotation=45, ha=\"right\")\n",
    "    \n",
    "    # Display the plot\n",
    "    plt.show()\n"
   ]
  },
  {
   "cell_type": "markdown",
   "metadata": {},
   "source": [
    "### What <u>core</u> job titles does our dataset consist of?"
   ]
  },
  {
   "cell_type": "code",
   "execution_count": null,
   "metadata": {},
   "outputs": [
    {
     "data": {
      "image/png": "[encoded data removed]",
      "text/plain": [
       "<Figure size 1200x400 with 1 Axes>"
      ]
     },
     "metadata": {},
     "output_type": "display_data"
    }
   ],
   "source": [
    "# Plot all of the counts of titles\n",
    "eda_plot(jobs_df_cleaned, 'title_cleaned', topn=10)"
   ]
  },
  {
   "cell_type": "code",
   "execution_count": null,
   "metadata": {},
   "outputs": [
    {
     "data": {
      "text/plain": [
       "title_cleaned\n",
       "Data Analyst      0.857865\n",
       "Other             0.064750\n",
       "Data Scientist    0.048563\n",
       "Data Engineer     0.028823\n",
       "Name: proportion, dtype: float64"
      ]
     },
     "execution_count": 118,
     "metadata": {},
     "output_type": "execute_result"
    }
   ],
   "source": [
    "jobs_df_cleaned['title_cleaned'].value_counts(normalize=True)"
   ]
  },
  {
   "cell_type": "code",
   "execution_count": null,
   "metadata": {},
   "outputs": [
    {
     "data": {
      "text/plain": [
       "title_cleaned\n",
       "Data Analyst      23424\n",
       "Other              1768\n",
       "Data Scientist     1326\n",
       "Data Engineer       787\n",
       "Name: count, dtype: int64"
      ]
     },
     "execution_count": 119,
     "metadata": {},
     "output_type": "execute_result"
    }
   ],
   "source": [
    "jobs_df_cleaned['title_cleaned'].value_counts(normalize=False)"
   ]
  },
  {
   "cell_type": "markdown",
   "metadata": {},
   "source": [
    "**Our dataset is PRIMARILY composed up of dat analyst roles**<br>\n",
    "*this makes sense, because the search term for the original scraping method was \"Data Analyst\"*\n",
    "\n",
    "1. Data Analyst (29,319)\n",
    "2. Data Scientist (1,638)\n",
    "3. Data Engineer (1,004)"
   ]
  },
  {
   "cell_type": "markdown",
   "metadata": {},
   "source": [
    "### What companies have the most job postings?"
   ]
  },
  {
   "cell_type": "code",
   "execution_count": null,
   "metadata": {},
   "outputs": [
    {
     "data": {
      "image/png": "[encoded data removed]",
      "text/plain": [
       "<Figure size 1200x400 with 1 Axes>"
      ]
     },
     "metadata": {},
     "output_type": "display_data"
    }
   ],
   "source": [
    "eda_plot(jobs_df_cleaned, 'company_name', topn=10)"
   ]
  },
  {
   "cell_type": "code",
   "execution_count": null,
   "metadata": {},
   "outputs": [
    {
     "data": {
      "text/plain": [
       "company_name\n",
       "Upwork                              4492\n",
       "Walmart                              937\n",
       "Talentify.io                         666\n",
       "EDWARD JONES                         585\n",
       "Corporate                            479\n",
       "Cox Communications                   393\n",
       "Dice                                 244\n",
       "Insight Global                       239\n",
       "Centene Corporation                  157\n",
       "Staffigo Technical Services, LLC     127\n",
       "Name: count, dtype: int64"
      ]
     },
     "execution_count": 121,
     "metadata": {},
     "output_type": "execute_result"
    }
   ],
   "source": [
    "jobs_df_cleaned['company_name'].value_counts().head(10)"
   ]
  },
  {
   "cell_type": "markdown",
   "metadata": {},
   "source": [
    "It looks like a majority of postings are for the company Upwork, which is a freelancer marketplace typically for contract-type work.\n",
    "\n",
    "Other companies that stand out are:\n",
    "\n",
    "1. Walmart (1,173)\n",
    "2. Edward Jones (738)\n",
    "3. Cox Communications (524)"
   ]
  },
  {
   "cell_type": "markdown",
   "metadata": {},
   "source": [
    "### What is the location spread for our dataset?"
   ]
  },
  {
   "cell_type": "code",
   "execution_count": null,
   "metadata": {},
   "outputs": [
    {
     "data": {
      "image/png": "[encoded data removed]",
      "text/plain": [
       "<Figure size 1200x400 with 1 Axes>"
      ]
     },
     "metadata": {},
     "output_type": "display_data"
    }
   ],
   "source": [
    "eda_plot(jobs_df_cleaned, 'location_cleaned', topn=8)"
   ]
  },
  {
   "cell_type": "code",
   "execution_count": null,
   "metadata": {},
   "outputs": [
    {
     "data": {
      "text/plain": [
       "location_cleaned\n",
       "Anywhere              12215\n",
       "United States          7365\n",
       "Missouri               2977\n",
       "Oklahoma               1687\n",
       "Kansas                 1531\n",
       "Arkansas               1328\n",
       "California               90\n",
       "Multiple Locations       33\n",
       "Texas                    28\n",
       "Name: count, dtype: int64"
      ]
     },
     "execution_count": 123,
     "metadata": {},
     "output_type": "execute_result"
    }
   ],
   "source": [
    "# value counts\n",
    "jobs_df_cleaned.location_cleaned.value_counts(dropna=False).head(9)"
   ]
  },
  {
   "cell_type": "markdown",
   "metadata": {},
   "source": [
    "Our dataset isn't actually the whole United States.\n",
    "\n",
    "- It looks like Anywhere (15,253) is fully remote, hiring globally\n",
    "- We believe that United States is going to be remote, hiring people from United States\n",
    "- In the specific region, Missouri seems to be hiring the most with 3,740 job postings"
   ]
  },
  {
   "cell_type": "markdown",
   "metadata": {},
   "source": [
    "### Within the Google Jobs search, which site has the most postings?"
   ]
  },
  {
   "cell_type": "code",
   "execution_count": null,
   "metadata": {},
   "outputs": [
    {
     "data": {
      "image/png": "[encoded data removed]",
      "text/plain": [
       "<Figure size 1200x400 with 1 Axes>"
      ]
     },
     "metadata": {},
     "output_type": "display_data"
    }
   ],
   "source": [
    "eda_plot(jobs_df_cleaned, 'via', topn=10)"
   ]
  },
  {
   "cell_type": "code",
   "execution_count": null,
   "metadata": {},
   "outputs": [
    {
     "data": {
      "text/plain": [
       "via\n",
       "via LinkedIn            8916\n",
       "via Upwork              4476\n",
       "via BeBee               2799\n",
       "via Trabajo.org         2117\n",
       "via ZipRecruiter        1639\n",
       "via Indeed              1196\n",
       "via Snagajob             580\n",
       "via Adzuna               460\n",
       "via Jobs Trabajo.org     336\n",
       "via Monster              263\n",
       "Name: count, dtype: int64"
      ]
     },
     "execution_count": 125,
     "metadata": {},
     "output_type": "execute_result"
    }
   ],
   "source": [
    "# value counts\n",
    "jobs_df_cleaned.via.value_counts(dropna=False).head(10)"
   ]
  },
  {
   "cell_type": "markdown",
   "metadata": {},
   "source": [
    "LinkedIn has the largest representation in Google Jobs searches at 11,129.\n",
    "\n",
    "- Upwork came in at 5,561\n",
    "- BeBee has 3,641"
   ]
  },
  {
   "cell_type": "markdown",
   "metadata": {},
   "source": [
    "### What schedule type are most people looking for in data analysts?"
   ]
  },
  {
   "cell_type": "code",
   "execution_count": null,
   "metadata": {},
   "outputs": [
    {
     "data": {
      "image/png": "[encoded data removed]",
      "text/plain": [
       "<Figure size 1200x400 with 1 Axes>"
      ]
     },
     "metadata": {},
     "output_type": "display_data"
    }
   ],
   "source": [
    "eda_plot(jobs_df_cleaned, 'schedule_type', topn=4)"
   ]
  },
  {
   "cell_type": "code",
   "execution_count": null,
   "metadata": {},
   "outputs": [
    {
     "data": {
      "text/plain": [
       "schedule_type\n",
       "Full-time                   19672\n",
       "Contractor                   5636\n",
       "Contractor and Temp work      983\n",
       "Part-time                     284\n",
       "Name: count, dtype: int64"
      ]
     },
     "execution_count": 127,
     "metadata": {},
     "output_type": "execute_result"
    }
   ],
   "source": [
    "# Value counts\n",
    "jobs_df_cleaned.schedule_type.value_counts(dropna=False).head(4)"
   ]
  },
  {
   "cell_type": "markdown",
   "metadata": {},
   "source": [
    "Most places are looking for full-time employees for data analysts."
   ]
  },
  {
   "cell_type": "markdown",
   "metadata": {},
   "source": [
    "### Do a majority of places want work from home or in-house workers?"
   ]
  },
  {
   "cell_type": "code",
   "execution_count": null,
   "metadata": {},
   "outputs": [
    {
     "data": {
      "image/png": "[encoded data removed]",
      "text/plain": [
       "<Figure size 1200x400 with 1 Axes>"
      ]
     },
     "metadata": {},
     "output_type": "display_data"
    }
   ],
   "source": [
    "eda_plot(jobs_df_cleaned, 'work_from_home', topn=10)"
   ]
  },
  {
   "cell_type": "markdown",
   "metadata": {},
   "source": [
    "During the time of this dataset (Nov 2022 through Oct 2023) a majority of postings did not want work from home employees.\n",
    "\n",
    "- While there may be more in-place demand, I'm sure compared jobs/sectors, this is a higher ration of work from home than most."
   ]
  },
  {
   "cell_type": "markdown",
   "metadata": {},
   "source": [
    "### What sectors are hiring the most data analysts?"
   ]
  },
  {
   "cell_type": "code",
   "execution_count": null,
   "metadata": {},
   "outputs": [
    {
     "data": {
      "image/png": "[encoded data removed]",
      "text/plain": [
       "<Figure size 1200x400 with 1 Axes>"
      ]
     },
     "metadata": {},
     "output_type": "display_data"
    }
   ],
   "source": [
    "# Only include sectors not equal to other\n",
    "eda_plot(jobs_df_cleaned[jobs_df_cleaned['sector'] != 'Other'], 'sector', topn=10)"
   ]
  },
  {
   "cell_type": "code",
   "execution_count": null,
   "metadata": {},
   "outputs": [
    {
     "data": {
      "text/plain": [
       "sector\n",
       "Other          9809\n",
       "Finance        6334\n",
       "Technology     4665\n",
       "Healthcare     3612\n",
       "Education      2380\n",
       "Retail          370\n",
       "Real Estate     135\n",
       "Name: count, dtype: int64"
      ]
     },
     "execution_count": 130,
     "metadata": {},
     "output_type": "execute_result"
    }
   ],
   "source": [
    "# value counts\n",
    "jobs_df_cleaned.sector.value_counts(dropna=False).head(10)"
   ]
  },
  {
   "cell_type": "markdown",
   "metadata": {},
   "source": [
    "Finance is by far the most popular sector with 8,008 postings.\n",
    "\n",
    "- Tech and healthcare positions were also popular with about 5,000 a piece."
   ]
  },
  {
   "cell_type": "markdown",
   "metadata": {},
   "source": [
    "### NLP Exploration"
   ]
  },
  {
   "cell_type": "code",
   "execution_count": null,
   "metadata": {},
   "outputs": [],
   "source": [
    "def filtered_keywords(jobs_filtered, keywords, title=\"Keyword Analysis\", head=20):\n",
    "    # get keywords in a column\n",
    "    count_keywords = pd.DataFrame(jobs_filtered.description_tokens.sum()).value_counts().rename_axis('keywords').reset_index(name='counts')\n",
    "\n",
    "    # get frequency of occurence of word (as word only appears once per line)\n",
    "    length = len(jobs_filtered) # number of job postings\n",
    "    count_keywords['percentage'] = 100 * count_keywords.counts / length\n",
    "\n",
    "    # plot the results\n",
    "    count_keywords = count_keywords[count_keywords.keywords.isin(keywords)]\n",
    "    count_keywords = count_keywords.head(head)\n",
    "    g = plt.bar(x=\"keywords\", height=\"percentage\", data=count_keywords , color=np.random.rand(len(count_keywords.keywords), 3))\n",
    "    plt.xlabel(\"\")\n",
    "    plt.ylabel(\"Likelyhood to be in job posting (%)\")\n",
    "    plt.xticks(rotation = 45, ha='right')\n",
    "    plt.title(title) \n",
    "    plt.show(g)"
   ]
  },
  {
   "cell_type": "code",
   "execution_count": null,
   "metadata": {},
   "outputs": [
    {
     "data": {
      "image/png": "[encoded data removed]",
      "text/plain": [
       "<Figure size 640x480 with 1 Axes>"
      ]
     },
     "metadata": {},
     "output_type": "display_data"
    }
   ],
   "source": [
    "filtered_keywords(jobs_df_cleaned, keywords_programming, title=\"Top Programming Languages for Data Analysts\")"
   ]
  },
  {
   "cell_type": "code",
   "execution_count": null,
   "metadata": {},
   "outputs": [
    {
     "data": {
      "image/png": "[encoded data removed]",
      "text/plain": [
       "<Figure size 640x480 with 1 Axes>"
      ]
     },
     "metadata": {},
     "output_type": "display_data"
    }
   ],
   "source": [
    "filtered_keywords(jobs_df_cleaned, keywords_ML_Algorithms, title=\"Top ML Algorithms Data Analysts\")"
   ]
  },
  {
   "cell_type": "code",
   "execution_count": null,
   "metadata": {},
   "outputs": [
    {
     "data": {
      "image/png": "[encoded data removed]",
      "text/plain": [
       "<Figure size 640x480 with 1 Axes>"
      ]
     },
     "metadata": {},
     "output_type": "display_data"
    }
   ],
   "source": [
    "filtered_keywords(jobs_df_cleaned, keywords, title=\"Top Tools for Data Analysts\")"
   ]
  },
  {
   "cell_type": "markdown",
   "metadata": {},
   "source": [
    "### Job Posting Timeline"
   ]
  },
  {
   "cell_type": "code",
   "execution_count": null,
   "metadata": {},
   "outputs": [
    {
     "data": {
      "image/png": "[encoded data removed]",
      "text/plain": [
       "<Figure size 1200x400 with 1 Axes>"
      ]
     },
     "metadata": {},
     "output_type": "display_data"
    }
   ],
   "source": [
    "# Make a new df with date time index\n",
    "jobs_df_cleaned_date = jobs_df_cleaned.copy()\n",
    "\n",
    "# Make posting_created date time\n",
    "jobs_df_cleaned_date['posting_created'] = pd.to_datetime(jobs_df_cleaned_date['posting_created'])\n",
    "\n",
    "# Set index to posting_created\n",
    "jobs_df_cleaned_date.set_index('posting_created', inplace=True)\n",
    "\n",
    "# Resample 'posting_created' to monthly frequency and count the number of postings\n",
    "monthly_postings = jobs_df_cleaned_date.resample('M').size()\n",
    "\n",
    "# Plot the monthly postings\n",
    "plt.figure(figsize=(12, 4))\n",
    "monthly_postings.plot(kind=\"bar\")\n",
    "plt.title(\"'posting_created' column value counts by month\")\n",
    "plt.ylabel(\"Counts\")\n",
    "plt.xticks(rotation=45, ha=\"right\")\n",
    "plt.show()"
   ]
  },
  {
   "cell_type": "markdown",
   "metadata": {},
   "source": [
    "<p style=\"font-size:40px;\">Tasha suggested breakdown of Title for time of year</p>"
   ]
  },
  {
   "cell_type": "code",
   "execution_count": null,
   "metadata": {},
   "outputs": [],
   "source": [
    "def get_top_skills(df, qty):\n",
    "    \"\"\"\n",
    "    This function takes a DataFrame and a quantity as parameters. \n",
    "    It returns a DataFrame with the top skills by number of postings and their average yearly salary. \n",
    "    The quantity parameter determines the number of top skills to return.\n",
    "\n",
    "    Parameters:\n",
    "    df (DataFrame): The input DataFrame.\n",
    "    qty (int): The number of top skills to return.\n",
    "\n",
    "    Returns:\n",
    "    DataFrame: A DataFrame with the top skills, their number of postings, and their average yearly salary.\n",
    "    \"\"\"\n",
    "    \n",
    "    # Initialize an empty list to store the skills\n",
    "    skills = []\n",
    "    \n",
    "    # Loop over the values in the 'description_tokens' column and add them to the 'skills' list\n",
    "    for val in df.description_tokens.values:\n",
    "        skills.extend(val)\n",
    "    \n",
    "    # Get the unique skills and their counts\n",
    "    skills, counts = np.unique(skills, return_counts=True)\n",
    "    \n",
    "    # Get the top skills and their counts\n",
    "    top_skill_count = sorted(zip(list(skills), list(counts)), key=lambda x: -x[1])[:qty]\n",
    "    \n",
    "    # Separate the skills and counts into two lists\n",
    "    top_skills = list(map(lambda x: x[0], top_skill_count))\n",
    "    top_counts = list(map(lambda x: x[1], top_skill_count))\n",
    "    \n",
    "    # Initialize an empty list to store the average salaries\n",
    "    salaries = []\n",
    "    \n",
    "    # Loop over the top skills and calculate their average salary\n",
    "    for skill in top_skills: \n",
    "        salaries.append(df[df.description_tokens.apply(lambda x: skill in x)].avg_salary.mean())\n",
    "    \n",
    "    # Create a DataFrame with the top skills, their number of postings, and their average yearly salary\n",
    "    top_skills_df = pd.DataFrame({\"skill\": list(top_skills), \"number_of_postings\": top_counts,\"avg_yearly_salary\": list(map(round, salaries))})\n",
    "    \n",
    "    # Sort the DataFrame by average yearly salary in descending order\n",
    "    top_skills_df = top_skills_df.sort_values(\"avg_yearly_salary\", ascending=False)\n",
    "    \n",
    "    return top_skills_df"
   ]
  },
  {
   "cell_type": "code",
   "execution_count": null,
   "metadata": {},
   "outputs": [
    {
     "data": {
      "text/html": [
       "<div>\n",
       "<style scoped>\n",
       "    .dataframe tbody tr th:only-of-type {\n",
       "        vertical-align: middle;\n",
       "    }\n",
       "\n",
       "    .dataframe tbody tr th {\n",
       "        vertical-align: top;\n",
       "    }\n",
       "\n",
       "    .dataframe thead th {\n",
       "        text-align: right;\n",
       "    }\n",
       "</style>\n",
       "<table border=\"1\" class=\"dataframe\">\n",
       "  <thead>\n",
       "    <tr style=\"text-align: right;\">\n",
       "      <th></th>\n",
       "      <th>skill</th>\n",
       "      <th>number_of_postings</th>\n",
       "      <th>avg_yearly_salary</th>\n",
       "    </tr>\n",
       "  </thead>\n",
       "  <tbody>\n",
       "    <tr>\n",
       "      <th>92</th>\n",
       "      <td>c/c++</td>\n",
       "      <td>28</td>\n",
       "      <td>173750</td>\n",
       "    </tr>\n",
       "    <tr>\n",
       "      <th>59</th>\n",
       "      <td>c++</td>\n",
       "      <td>218</td>\n",
       "      <td>148041</td>\n",
       "    </tr>\n",
       "    <tr>\n",
       "      <th>53</th>\n",
       "      <td>s3</td>\n",
       "      <td>240</td>\n",
       "      <td>140528</td>\n",
       "    </tr>\n",
       "    <tr>\n",
       "      <th>56</th>\n",
       "      <td>pyspark</td>\n",
       "      <td>231</td>\n",
       "      <td>132953</td>\n",
       "    </tr>\n",
       "    <tr>\n",
       "      <th>78</th>\n",
       "      <td>perl</td>\n",
       "      <td>64</td>\n",
       "      <td>131255</td>\n",
       "    </tr>\n",
       "    <tr>\n",
       "      <th>91</th>\n",
       "      <td>bitbucket</td>\n",
       "      <td>29</td>\n",
       "      <td>130800</td>\n",
       "    </tr>\n",
       "    <tr>\n",
       "      <th>69</th>\n",
       "      <td>splunk</td>\n",
       "      <td>124</td>\n",
       "      <td>130230</td>\n",
       "    </tr>\n",
       "    <tr>\n",
       "      <th>77</th>\n",
       "      <td>gitlab</td>\n",
       "      <td>64</td>\n",
       "      <td>130066</td>\n",
       "    </tr>\n",
       "    <tr>\n",
       "      <th>90</th>\n",
       "      <td>unix/linux</td>\n",
       "      <td>31</td>\n",
       "      <td>128650</td>\n",
       "    </tr>\n",
       "    <tr>\n",
       "      <th>83</th>\n",
       "      <td>ec2</td>\n",
       "      <td>57</td>\n",
       "      <td>126110</td>\n",
       "    </tr>\n",
       "    <tr>\n",
       "      <th>65</th>\n",
       "      <td>docker</td>\n",
       "      <td>152</td>\n",
       "      <td>123636</td>\n",
       "    </tr>\n",
       "    <tr>\n",
       "      <th>49</th>\n",
       "      <td>airflow</td>\n",
       "      <td>260</td>\n",
       "      <td>123521</td>\n",
       "    </tr>\n",
       "    <tr>\n",
       "      <th>57</th>\n",
       "      <td>tensorflow</td>\n",
       "      <td>226</td>\n",
       "      <td>123168</td>\n",
       "    </tr>\n",
       "    <tr>\n",
       "      <th>75</th>\n",
       "      <td>gdpr</td>\n",
       "      <td>78</td>\n",
       "      <td>122164</td>\n",
       "    </tr>\n",
       "    <tr>\n",
       "      <th>18</th>\n",
       "      <td>scala</td>\n",
       "      <td>983</td>\n",
       "      <td>121798</td>\n",
       "    </tr>\n",
       "    <tr>\n",
       "      <th>98</th>\n",
       "      <td>julia</td>\n",
       "      <td>23</td>\n",
       "      <td>119900</td>\n",
       "    </tr>\n",
       "    <tr>\n",
       "      <th>81</th>\n",
       "      <td>seaborn</td>\n",
       "      <td>58</td>\n",
       "      <td>119765</td>\n",
       "    </tr>\n",
       "    <tr>\n",
       "      <th>30</th>\n",
       "      <td>nosql</td>\n",
       "      <td>654</td>\n",
       "      <td>118843</td>\n",
       "    </tr>\n",
       "    <tr>\n",
       "      <th>74</th>\n",
       "      <td>mssql</td>\n",
       "      <td>97</td>\n",
       "      <td>118333</td>\n",
       "    </tr>\n",
       "    <tr>\n",
       "      <th>38</th>\n",
       "      <td>redshift</td>\n",
       "      <td>442</td>\n",
       "      <td>117655</td>\n",
       "    </tr>\n",
       "    <tr>\n",
       "      <th>82</th>\n",
       "      <td>atlassian</td>\n",
       "      <td>57</td>\n",
       "      <td>116798</td>\n",
       "    </tr>\n",
       "    <tr>\n",
       "      <th>85</th>\n",
       "      <td>ruby</td>\n",
       "      <td>56</td>\n",
       "      <td>116196</td>\n",
       "    </tr>\n",
       "    <tr>\n",
       "      <th>71</th>\n",
       "      <td>pytorch</td>\n",
       "      <td>103</td>\n",
       "      <td>116181</td>\n",
       "    </tr>\n",
       "    <tr>\n",
       "      <th>12</th>\n",
       "      <td>aws</td>\n",
       "      <td>1525</td>\n",
       "      <td>116161</td>\n",
       "    </tr>\n",
       "    <tr>\n",
       "      <th>52</th>\n",
       "      <td>numpy</td>\n",
       "      <td>251</td>\n",
       "      <td>115348</td>\n",
       "    </tr>\n",
       "    <tr>\n",
       "      <th>61</th>\n",
       "      <td>linux</td>\n",
       "      <td>207</td>\n",
       "      <td>114864</td>\n",
       "    </tr>\n",
       "    <tr>\n",
       "      <th>48</th>\n",
       "      <td>pl/sql</td>\n",
       "      <td>282</td>\n",
       "      <td>114443</td>\n",
       "    </tr>\n",
       "    <tr>\n",
       "      <th>45</th>\n",
       "      <td>git</td>\n",
       "      <td>335</td>\n",
       "      <td>114384</td>\n",
       "    </tr>\n",
       "    <tr>\n",
       "      <th>29</th>\n",
       "      <td>java</td>\n",
       "      <td>674</td>\n",
       "      <td>114305</td>\n",
       "    </tr>\n",
       "    <tr>\n",
       "      <th>33</th>\n",
       "      <td>gcp</td>\n",
       "      <td>530</td>\n",
       "      <td>113345</td>\n",
       "    </tr>\n",
       "    <tr>\n",
       "      <th>28</th>\n",
       "      <td>hadoop</td>\n",
       "      <td>674</td>\n",
       "      <td>112590</td>\n",
       "    </tr>\n",
       "    <tr>\n",
       "      <th>40</th>\n",
       "      <td>pandas</td>\n",
       "      <td>378</td>\n",
       "      <td>112503</td>\n",
       "    </tr>\n",
       "    <tr>\n",
       "      <th>10</th>\n",
       "      <td>snowflake</td>\n",
       "      <td>1609</td>\n",
       "      <td>110981</td>\n",
       "    </tr>\n",
       "    <tr>\n",
       "      <th>50</th>\n",
       "      <td>clustering</td>\n",
       "      <td>257</td>\n",
       "      <td>110937</td>\n",
       "    </tr>\n",
       "    <tr>\n",
       "      <th>79</th>\n",
       "      <td>php</td>\n",
       "      <td>59</td>\n",
       "      <td>110784</td>\n",
       "    </tr>\n",
       "    <tr>\n",
       "      <th>87</th>\n",
       "      <td>ggplot2</td>\n",
       "      <td>47</td>\n",
       "      <td>110773</td>\n",
       "    </tr>\n",
       "    <tr>\n",
       "      <th>21</th>\n",
       "      <td>regression</td>\n",
       "      <td>879</td>\n",
       "      <td>110648</td>\n",
       "    </tr>\n",
       "    <tr>\n",
       "      <th>7</th>\n",
       "      <td>predictive</td>\n",
       "      <td>2118</td>\n",
       "      <td>109853</td>\n",
       "    </tr>\n",
       "    <tr>\n",
       "      <th>58</th>\n",
       "      <td>github</td>\n",
       "      <td>225</td>\n",
       "      <td>108128</td>\n",
       "    </tr>\n",
       "    <tr>\n",
       "      <th>76</th>\n",
       "      <td>assembly</td>\n",
       "      <td>76</td>\n",
       "      <td>107240</td>\n",
       "    </tr>\n",
       "    <tr>\n",
       "      <th>51</th>\n",
       "      <td>t-sql</td>\n",
       "      <td>257</td>\n",
       "      <td>106671</td>\n",
       "    </tr>\n",
       "    <tr>\n",
       "      <th>24</th>\n",
       "      <td>c</td>\n",
       "      <td>745</td>\n",
       "      <td>106322</td>\n",
       "    </tr>\n",
       "    <tr>\n",
       "      <th>46</th>\n",
       "      <td>matplotlib</td>\n",
       "      <td>301</td>\n",
       "      <td>106154</td>\n",
       "    </tr>\n",
       "    <tr>\n",
       "      <th>99</th>\n",
       "      <td>cobol</td>\n",
       "      <td>22</td>\n",
       "      <td>106080</td>\n",
       "    </tr>\n",
       "    <tr>\n",
       "      <th>34</th>\n",
       "      <td>ssis</td>\n",
       "      <td>516</td>\n",
       "      <td>104765</td>\n",
       "    </tr>\n",
       "    <tr>\n",
       "      <th>2</th>\n",
       "      <td>python</td>\n",
       "      <td>7771</td>\n",
       "      <td>104602</td>\n",
       "    </tr>\n",
       "    <tr>\n",
       "      <th>47</th>\n",
       "      <td>matlab</td>\n",
       "      <td>291</td>\n",
       "      <td>104434</td>\n",
       "    </tr>\n",
       "    <tr>\n",
       "      <th>63</th>\n",
       "      <td>prediction</td>\n",
       "      <td>171</td>\n",
       "      <td>104079</td>\n",
       "    </tr>\n",
       "    <tr>\n",
       "      <th>23</th>\n",
       "      <td>alteryx</td>\n",
       "      <td>815</td>\n",
       "      <td>103870</td>\n",
       "    </tr>\n",
       "    <tr>\n",
       "      <th>37</th>\n",
       "      <td>qlik</td>\n",
       "      <td>480</td>\n",
       "      <td>103827</td>\n",
       "    </tr>\n",
       "    <tr>\n",
       "      <th>54</th>\n",
       "      <td>postgresql</td>\n",
       "      <td>237</td>\n",
       "      <td>103765</td>\n",
       "    </tr>\n",
       "    <tr>\n",
       "      <th>84</th>\n",
       "      <td>bash</td>\n",
       "      <td>56</td>\n",
       "      <td>103540</td>\n",
       "    </tr>\n",
       "    <tr>\n",
       "      <th>62</th>\n",
       "      <td>postgres</td>\n",
       "      <td>183</td>\n",
       "      <td>102847</td>\n",
       "    </tr>\n",
       "    <tr>\n",
       "      <th>73</th>\n",
       "      <td>css</td>\n",
       "      <td>99</td>\n",
       "      <td>102678</td>\n",
       "    </tr>\n",
       "    <tr>\n",
       "      <th>70</th>\n",
       "      <td>mongodb</td>\n",
       "      <td>109</td>\n",
       "      <td>102541</td>\n",
       "    </tr>\n",
       "    <tr>\n",
       "      <th>14</th>\n",
       "      <td>looker</td>\n",
       "      <td>1196</td>\n",
       "      <td>102160</td>\n",
       "    </tr>\n",
       "    <tr>\n",
       "      <th>88</th>\n",
       "      <td>aurora</td>\n",
       "      <td>42</td>\n",
       "      <td>101802</td>\n",
       "    </tr>\n",
       "    <tr>\n",
       "      <th>35</th>\n",
       "      <td>bigquery</td>\n",
       "      <td>509</td>\n",
       "      <td>101749</td>\n",
       "    </tr>\n",
       "    <tr>\n",
       "      <th>36</th>\n",
       "      <td>ssrs</td>\n",
       "      <td>500</td>\n",
       "      <td>101395</td>\n",
       "    </tr>\n",
       "    <tr>\n",
       "      <th>67</th>\n",
       "      <td>shell</td>\n",
       "      <td>144</td>\n",
       "      <td>100651</td>\n",
       "    </tr>\n",
       "    <tr>\n",
       "      <th>16</th>\n",
       "      <td>sap</td>\n",
       "      <td>992</td>\n",
       "      <td>100502</td>\n",
       "    </tr>\n",
       "    <tr>\n",
       "      <th>22</th>\n",
       "      <td>jira</td>\n",
       "      <td>875</td>\n",
       "      <td>100151</td>\n",
       "    </tr>\n",
       "    <tr>\n",
       "      <th>5</th>\n",
       "      <td>r</td>\n",
       "      <td>4966</td>\n",
       "      <td>98032</td>\n",
       "    </tr>\n",
       "    <tr>\n",
       "      <th>0</th>\n",
       "      <td>sql</td>\n",
       "      <td>13697</td>\n",
       "      <td>97421</td>\n",
       "    </tr>\n",
       "    <tr>\n",
       "      <th>31</th>\n",
       "      <td>microstrategy</td>\n",
       "      <td>605</td>\n",
       "      <td>97273</td>\n",
       "    </tr>\n",
       "    <tr>\n",
       "      <th>4</th>\n",
       "      <td>tableau</td>\n",
       "      <td>7437</td>\n",
       "      <td>96784</td>\n",
       "    </tr>\n",
       "    <tr>\n",
       "      <th>13</th>\n",
       "      <td>none</td>\n",
       "      <td>1405</td>\n",
       "      <td>96337</td>\n",
       "    </tr>\n",
       "    <tr>\n",
       "      <th>72</th>\n",
       "      <td>swift</td>\n",
       "      <td>101</td>\n",
       "      <td>96290</td>\n",
       "    </tr>\n",
       "    <tr>\n",
       "      <th>60</th>\n",
       "      <td>html</td>\n",
       "      <td>215</td>\n",
       "      <td>96260</td>\n",
       "    </tr>\n",
       "    <tr>\n",
       "      <th>3</th>\n",
       "      <td>power_bi</td>\n",
       "      <td>7547</td>\n",
       "      <td>95874</td>\n",
       "    </tr>\n",
       "    <tr>\n",
       "      <th>41</th>\n",
       "      <td>amazon</td>\n",
       "      <td>373</td>\n",
       "      <td>95804</td>\n",
       "    </tr>\n",
       "    <tr>\n",
       "      <th>93</th>\n",
       "      <td>mongo</td>\n",
       "      <td>28</td>\n",
       "      <td>95333</td>\n",
       "    </tr>\n",
       "    <tr>\n",
       "      <th>11</th>\n",
       "      <td>azure</td>\n",
       "      <td>1591</td>\n",
       "      <td>95094</td>\n",
       "    </tr>\n",
       "    <tr>\n",
       "      <th>95</th>\n",
       "      <td>js</td>\n",
       "      <td>25</td>\n",
       "      <td>94900</td>\n",
       "    </tr>\n",
       "    <tr>\n",
       "      <th>64</th>\n",
       "      <td>unix</td>\n",
       "      <td>170</td>\n",
       "      <td>93952</td>\n",
       "    </tr>\n",
       "    <tr>\n",
       "      <th>17</th>\n",
       "      <td>go</td>\n",
       "      <td>983</td>\n",
       "      <td>93913</td>\n",
       "    </tr>\n",
       "    <tr>\n",
       "      <th>68</th>\n",
       "      <td>visual_basic</td>\n",
       "      <td>132</td>\n",
       "      <td>93481</td>\n",
       "    </tr>\n",
       "    <tr>\n",
       "      <th>6</th>\n",
       "      <td>sas</td>\n",
       "      <td>2527</td>\n",
       "      <td>93058</td>\n",
       "    </tr>\n",
       "    <tr>\n",
       "      <th>44</th>\n",
       "      <td>visio</td>\n",
       "      <td>336</td>\n",
       "      <td>92939</td>\n",
       "    </tr>\n",
       "    <tr>\n",
       "      <th>39</th>\n",
       "      <td>mysql</td>\n",
       "      <td>419</td>\n",
       "      <td>92067</td>\n",
       "    </tr>\n",
       "    <tr>\n",
       "      <th>25</th>\n",
       "      <td>sharepoint</td>\n",
       "      <td>698</td>\n",
       "      <td>91451</td>\n",
       "    </tr>\n",
       "    <tr>\n",
       "      <th>97</th>\n",
       "      <td>asp.net</td>\n",
       "      <td>24</td>\n",
       "      <td>90960</td>\n",
       "    </tr>\n",
       "    <tr>\n",
       "      <th>32</th>\n",
       "      <td>javascript</td>\n",
       "      <td>545</td>\n",
       "      <td>89406</td>\n",
       "    </tr>\n",
       "    <tr>\n",
       "      <th>43</th>\n",
       "      <td>cognos</td>\n",
       "      <td>351</td>\n",
       "      <td>89043</td>\n",
       "    </tr>\n",
       "    <tr>\n",
       "      <th>8</th>\n",
       "      <td>powerpoint</td>\n",
       "      <td>2065</td>\n",
       "      <td>88722</td>\n",
       "    </tr>\n",
       "    <tr>\n",
       "      <th>42</th>\n",
       "      <td>dax</td>\n",
       "      <td>362</td>\n",
       "      <td>88027</td>\n",
       "    </tr>\n",
       "    <tr>\n",
       "      <th>15</th>\n",
       "      <td>spreadsheet</td>\n",
       "      <td>1038</td>\n",
       "      <td>87730</td>\n",
       "    </tr>\n",
       "    <tr>\n",
       "      <th>1</th>\n",
       "      <td>excel</td>\n",
       "      <td>9166</td>\n",
       "      <td>86005</td>\n",
       "    </tr>\n",
       "    <tr>\n",
       "      <th>27</th>\n",
       "      <td>vba</td>\n",
       "      <td>681</td>\n",
       "      <td>85864</td>\n",
       "    </tr>\n",
       "    <tr>\n",
       "      <th>86</th>\n",
       "      <td>terminal</td>\n",
       "      <td>53</td>\n",
       "      <td>85346</td>\n",
       "    </tr>\n",
       "    <tr>\n",
       "      <th>20</th>\n",
       "      <td>classification</td>\n",
       "      <td>907</td>\n",
       "      <td>84270</td>\n",
       "    </tr>\n",
       "    <tr>\n",
       "      <th>19</th>\n",
       "      <td>spss</td>\n",
       "      <td>924</td>\n",
       "      <td>81863</td>\n",
       "    </tr>\n",
       "    <tr>\n",
       "      <th>9</th>\n",
       "      <td>word</td>\n",
       "      <td>2051</td>\n",
       "      <td>80616</td>\n",
       "    </tr>\n",
       "    <tr>\n",
       "      <th>96</th>\n",
       "      <td>linux/unix</td>\n",
       "      <td>25</td>\n",
       "      <td>79000</td>\n",
       "    </tr>\n",
       "    <tr>\n",
       "      <th>94</th>\n",
       "      <td>jquery</td>\n",
       "      <td>26</td>\n",
       "      <td>78598</td>\n",
       "    </tr>\n",
       "    <tr>\n",
       "      <th>55</th>\n",
       "      <td>crystal</td>\n",
       "      <td>234</td>\n",
       "      <td>77650</td>\n",
       "    </tr>\n",
       "    <tr>\n",
       "      <th>26</th>\n",
       "      <td>outlook</td>\n",
       "      <td>681</td>\n",
       "      <td>76238</td>\n",
       "    </tr>\n",
       "    <tr>\n",
       "      <th>80</th>\n",
       "      <td>plotly</td>\n",
       "      <td>59</td>\n",
       "      <td>74025</td>\n",
       "    </tr>\n",
       "    <tr>\n",
       "      <th>66</th>\n",
       "      <td>powershell</td>\n",
       "      <td>151</td>\n",
       "      <td>66031</td>\n",
       "    </tr>\n",
       "    <tr>\n",
       "      <th>89</th>\n",
       "      <td>selenium</td>\n",
       "      <td>33</td>\n",
       "      <td>58096</td>\n",
       "    </tr>\n",
       "  </tbody>\n",
       "</table>\n",
       "</div>"
      ],
      "text/plain": [
       "             skill  number_of_postings  avg_yearly_salary\n",
       "92           c/c++                  28             173750\n",
       "59             c++                 218             148041\n",
       "53              s3                 240             140528\n",
       "56         pyspark                 231             132953\n",
       "78            perl                  64             131255\n",
       "91       bitbucket                  29             130800\n",
       "69          splunk                 124             130230\n",
       "77          gitlab                  64             130066\n",
       "90      unix/linux                  31             128650\n",
       "83             ec2                  57             126110\n",
       "65          docker                 152             123636\n",
       "49         airflow                 260             123521\n",
       "57      tensorflow                 226             123168\n",
       "75            gdpr                  78             122164\n",
       "18           scala                 983             121798\n",
       "98           julia                  23             119900\n",
       "81         seaborn                  58             119765\n",
       "30           nosql                 654             118843\n",
       "74           mssql                  97             118333\n",
       "38        redshift                 442             117655\n",
       "82       atlassian                  57             116798\n",
       "85            ruby                  56             116196\n",
       "71         pytorch                 103             116181\n",
       "12             aws                1525             116161\n",
       "52           numpy                 251             115348\n",
       "61           linux                 207             114864\n",
       "48          pl/sql                 282             114443\n",
       "45             git                 335             114384\n",
       "29            java                 674             114305\n",
       "33             gcp                 530             113345\n",
       "28          hadoop                 674             112590\n",
       "40          pandas                 378             112503\n",
       "10       snowflake                1609             110981\n",
       "50      clustering                 257             110937\n",
       "79             php                  59             110784\n",
       "87         ggplot2                  47             110773\n",
       "21      regression                 879             110648\n",
       "7       predictive                2118             109853\n",
       "58          github                 225             108128\n",
       "76        assembly                  76             107240\n",
       "51           t-sql                 257             106671\n",
       "24               c                 745             106322\n",
       "46      matplotlib                 301             106154\n",
       "99           cobol                  22             106080\n",
       "34            ssis                 516             104765\n",
       "2           python                7771             104602\n",
       "47          matlab                 291             104434\n",
       "63      prediction                 171             104079\n",
       "23         alteryx                 815             103870\n",
       "37            qlik                 480             103827\n",
       "54      postgresql                 237             103765\n",
       "84            bash                  56             103540\n",
       "62        postgres                 183             102847\n",
       "73             css                  99             102678\n",
       "70         mongodb                 109             102541\n",
       "14          looker                1196             102160\n",
       "88          aurora                  42             101802\n",
       "35        bigquery                 509             101749\n",
       "36            ssrs                 500             101395\n",
       "67           shell                 144             100651\n",
       "16             sap                 992             100502\n",
       "22            jira                 875             100151\n",
       "5                r                4966              98032\n",
       "0              sql               13697              97421\n",
       "31   microstrategy                 605              97273\n",
       "4          tableau                7437              96784\n",
       "13            none                1405              96337\n",
       "72           swift                 101              96290\n",
       "60            html                 215              96260\n",
       "3         power_bi                7547              95874\n",
       "41          amazon                 373              95804\n",
       "93           mongo                  28              95333\n",
       "11           azure                1591              95094\n",
       "95              js                  25              94900\n",
       "64            unix                 170              93952\n",
       "17              go                 983              93913\n",
       "68    visual_basic                 132              93481\n",
       "6              sas                2527              93058\n",
       "44           visio                 336              92939\n",
       "39           mysql                 419              92067\n",
       "25      sharepoint                 698              91451\n",
       "97         asp.net                  24              90960\n",
       "32      javascript                 545              89406\n",
       "43          cognos                 351              89043\n",
       "8       powerpoint                2065              88722\n",
       "42             dax                 362              88027\n",
       "15     spreadsheet                1038              87730\n",
       "1            excel                9166              86005\n",
       "27             vba                 681              85864\n",
       "86        terminal                  53              85346\n",
       "20  classification                 907              84270\n",
       "19            spss                 924              81863\n",
       "9             word                2051              80616\n",
       "96      linux/unix                  25              79000\n",
       "94          jquery                  26              78598\n",
       "55         crystal                 234              77650\n",
       "26         outlook                 681              76238\n",
       "80          plotly                  59              74025\n",
       "66      powershell                 151              66031\n",
       "89        selenium                  33              58096"
      ]
     },
     "execution_count": 137,
     "metadata": {},
     "output_type": "execute_result"
    }
   ],
   "source": [
    "top_skills_df = get_top_skills(jobs_df_cleaned, 100)\n",
    "top_skills_df"
   ]
  },
  {
   "cell_type": "code",
   "execution_count": null,
   "metadata": {},
   "outputs": [
    {
     "data": {
      "application/vnd.plotly.v1+json": {
       "config": {
        "plotlyServerURL": "https://plot.ly"
       },
       "data": [
        {
         "branchvalues": "total",
         "customdata": [
          [
           123521
          ],
          [
           103870
          ],
          [
           95804
          ],
          [
           90960
          ],
          [
           107240
          ],
          [
           116798
          ],
          [
           101802
          ],
          [
           116161
          ],
          [
           95094
          ],
          [
           103540
          ],
          [
           101749
          ],
          [
           130800
          ],
          [
           106322
          ],
          [
           148041
          ],
          [
           173750
          ],
          [
           84270
          ],
          [
           110937
          ],
          [
           106080
          ],
          [
           89043
          ],
          [
           77650
          ],
          [
           102678
          ],
          [
           88027
          ],
          [
           123636
          ],
          [
           126110
          ],
          [
           86005
          ],
          [
           113345
          ],
          [
           122164
          ],
          [
           110773
          ],
          [
           114384
          ],
          [
           108128
          ],
          [
           130066
          ],
          [
           93913
          ],
          [
           112590
          ],
          [
           96260
          ],
          [
           114305
          ],
          [
           89406
          ],
          [
           100151
          ],
          [
           78598
          ],
          [
           94900
          ],
          [
           119900
          ],
          [
           114864
          ],
          [
           79000
          ],
          [
           102160
          ],
          [
           104434
          ],
          [
           106154
          ],
          [
           97273
          ],
          [
           95333
          ],
          [
           102541
          ],
          [
           118333
          ],
          [
           92067
          ],
          [
           96337
          ],
          [
           118843
          ],
          [
           115348
          ],
          [
           76238
          ],
          [
           112503
          ],
          [
           131255
          ],
          [
           110784
          ],
          [
           114443
          ],
          [
           74025
          ],
          [
           102847
          ],
          [
           103765
          ],
          [
           95874
          ],
          [
           88722
          ],
          [
           66031
          ],
          [
           104079
          ],
          [
           109853
          ],
          [
           132953
          ],
          [
           104602
          ],
          [
           116181
          ],
          [
           103827
          ],
          [
           98032
          ],
          [
           117655
          ],
          [
           110648
          ],
          [
           116196
          ],
          [
           140528
          ],
          [
           100502
          ],
          [
           93058
          ],
          [
           121798
          ],
          [
           119765
          ],
          [
           58096
          ],
          [
           91451
          ],
          [
           100651
          ],
          [
           110981
          ],
          [
           130230
          ],
          [
           87730
          ],
          [
           81863
          ],
          [
           97421
          ],
          [
           104765
          ],
          [
           101395
          ],
          [
           96290
          ],
          [
           106671
          ],
          [
           96784
          ],
          [
           123168
          ],
          [
           85346
          ],
          [
           93952
          ],
          [
           128650
          ],
          [
           85864
          ],
          [
           92939
          ],
          [
           93481
          ],
          [
           80616
          ]
         ],
         "domain": {
          "x": [
           0,
           1
          ],
          "y": [
           0,
           1
          ]
         },
         "hovertemplate": "Skill: %{label} <br> Postings: %{value} <br> Average Annual salary: %{color}<extra></extra>",
         "ids": [
          "airflow",
          "alteryx",
          "amazon",
          "asp.net",
          "assembly",
          "atlassian",
          "aurora",
          "aws",
          "azure",
          "bash",
          "bigquery",
          "bitbucket",
          "c",
          "c++",
          "c/c++",
          "classification",
          "clustering",
          "cobol",
          "cognos",
          "crystal",
          "css",
          "dax",
          "docker",
          "ec2",
          "excel",
          "gcp",
          "gdpr",
          "ggplot2",
          "git",
          "github",
          "gitlab",
          "go",
          "hadoop",
          "html",
          "java",
          "javascript",
          "jira",
          "jquery",
          "js",
          "julia",
          "linux",
          "linux/unix",
          "looker",
          "matlab",
          "matplotlib",
          "microstrategy",
          "mongo",
          "mongodb",
          "mssql",
          "mysql",
          "none",
          "nosql",
          "numpy",
          "outlook",
          "pandas",
          "perl",
          "php",
          "pl/sql",
          "plotly",
          "postgres",
          "postgresql",
          "power_bi",
          "powerpoint",
          "powershell",
          "prediction",
          "predictive",
          "pyspark",
          "python",
          "pytorch",
          "qlik",
          "r",
          "redshift",
          "regression",
          "ruby",
          "s3",
          "sap",
          "sas",
          "scala",
          "seaborn",
          "selenium",
          "sharepoint",
          "shell",
          "snowflake",
          "splunk",
          "spreadsheet",
          "spss",
          "sql",
          "ssis",
          "ssrs",
          "swift",
          "t-sql",
          "tableau",
          "tensorflow",
          "terminal",
          "unix",
          "unix/linux",
          "vba",
          "visio",
          "visual_basic",
          "word"
         ],
         "labels": [
          "airflow",
          "alteryx",
          "amazon",
          "asp.net",
          "assembly",
          "atlassian",
          "aurora",
          "aws",
          "azure",
          "bash",
          "bigquery",
          "bitbucket",
          "c",
          "c++",
          "c/c++",
          "classification",
          "clustering",
          "cobol",
          "cognos",
          "crystal",
          "css",
          "dax",
          "docker",
          "ec2",
          "excel",
          "gcp",
          "gdpr",
          "ggplot2",
          "git",
          "github",
          "gitlab",
          "go",
          "hadoop",
          "html",
          "java",
          "javascript",
          "jira",
          "jquery",
          "js",
          "julia",
          "linux",
          "linux/unix",
          "looker",
          "matlab",
          "matplotlib",
          "microstrategy",
          "mongo",
          "mongodb",
          "mssql",
          "mysql",
          "none",
          "nosql",
          "numpy",
          "outlook",
          "pandas",
          "perl",
          "php",
          "pl/sql",
          "plotly",
          "postgres",
          "postgresql",
          "power_bi",
          "powerpoint",
          "powershell",
          "prediction",
          "predictive",
          "pyspark",
          "python",
          "pytorch",
          "qlik",
          "r",
          "redshift",
          "regression",
          "ruby",
          "s3",
          "sap",
          "sas",
          "scala",
          "seaborn",
          "selenium",
          "sharepoint",
          "shell",
          "snowflake",
          "splunk",
          "spreadsheet",
          "spss",
          "sql",
          "ssis",
          "ssrs",
          "swift",
          "t-sql",
          "tableau",
          "tensorflow",
          "terminal",
          "unix",
          "unix/linux",
          "vba",
          "visio",
          "visual_basic",
          "word"
         ],
         "marker": {
          "coloraxis": "coloraxis",
          "colors": [
           123521,
           103870,
           95804,
           90960,
           107240,
           116798,
           101802,
           116161,
           95094,
           103540,
           101749,
           130800,
           106322,
           148041,
           173750,
           84270,
           110937,
           106080,
           89043,
           77650,
           102678,
           88027,
           123636,
           126110,
           86005,
           113345,
           122164,
           110773,
           114384,
           108128,
           130066,
           93913,
           112590,
           96260,
           114305,
           89406,
           100151,
           78598,
           94900,
           119900,
           114864,
           79000,
           102160,
           104434,
           106154,
           97273,
           95333,
           102541,
           118333,
           92067,
           96337,
           118843,
           115348,
           76238,
           112503,
           131255,
           110784,
           114443,
           74025,
           102847,
           103765,
           95874,
           88722,
           66031,
           104079,
           109853,
           132953,
           104602,
           116181,
           103827,
           98032,
           117655,
           110648,
           116196,
           140528,
           100502,
           93058,
           121798,
           119765,
           58096,
           91451,
           100651,
           110981,
           130230,
           87730,
           81863,
           97421,
           104765,
           101395,
           96290,
           106671,
           96784,
           123168,
           85346,
           93952,
           128650,
           85864,
           92939,
           93481,
           80616
          ]
         },
         "name": "",
         "parents": [
          "",
          "",
          "",
          "",
          "",
          "",
          "",
          "",
          "",
          "",
          "",
          "",
          "",
          "",
          "",
          "",
          "",
          "",
          "",
          "",
          "",
          "",
          "",
          "",
          "",
          "",
          "",
          "",
          "",
          "",
          "",
          "",
          "",
          "",
          "",
          "",
          "",
          "",
          "",
          "",
          "",
          "",
          "",
          "",
          "",
          "",
          "",
          "",
          "",
          "",
          "",
          "",
          "",
          "",
          "",
          "",
          "",
          "",
          "",
          "",
          "",
          "",
          "",
          "",
          "",
          "",
          "",
          "",
          "",
          "",
          "",
          "",
          "",
          "",
          "",
          "",
          "",
          "",
          "",
          "",
          "",
          "",
          "",
          "",
          "",
          "",
          "",
          "",
          "",
          "",
          "",
          "",
          "",
          "",
          "",
          "",
          "",
          "",
          "",
          ""
         ],
         "type": "treemap",
         "values": [
          260,
          815,
          373,
          24,
          76,
          57,
          42,
          1525,
          1591,
          56,
          509,
          29,
          745,
          218,
          28,
          907,
          257,
          22,
          351,
          234,
          99,
          362,
          152,
          57,
          9166,
          530,
          78,
          47,
          335,
          225,
          64,
          983,
          674,
          215,
          674,
          545,
          875,
          26,
          25,
          23,
          207,
          25,
          1196,
          291,
          301,
          605,
          28,
          109,
          97,
          419,
          1405,
          654,
          251,
          681,
          378,
          64,
          59,
          282,
          59,
          183,
          237,
          7547,
          2065,
          151,
          171,
          2118,
          231,
          7771,
          103,
          480,
          4966,
          442,
          879,
          56,
          240,
          992,
          2527,
          983,
          58,
          33,
          698,
          144,
          1609,
          124,
          1038,
          924,
          13697,
          516,
          500,
          101,
          257,
          7437,
          226,
          53,
          170,
          31,
          681,
          336,
          132,
          2051
         ]
        }
       ],
       "layout": {
        "coloraxis": {
         "colorbar": {
          "title": {
           "text": "Average Annual Salary"
          }
         },
         "colorscale": [
          [
           0,
           "rgb(247,251,255)"
          ],
          [
           0.125,
           "rgb(222,235,247)"
          ],
          [
           0.25,
           "rgb(198,219,239)"
          ],
          [
           0.375,
           "rgb(158,202,225)"
          ],
          [
           0.5,
           "rgb(107,174,214)"
          ],
          [
           0.625,
           "rgb(66,146,198)"
          ],
          [
           0.75,
           "rgb(33,113,181)"
          ],
          [
           0.875,
           "rgb(8,81,156)"
          ],
          [
           1,
           "rgb(8,48,107)"
          ]
         ]
        },
        "font": {
         "color": "white"
        },
        "legend": {
         "tracegroupgap": 0
        },
        "margin": {
         "t": 60
        },
        "paper_bgcolor": "#444444",
        "template": {
         "data": {
          "bar": [
           {
            "error_x": {
             "color": "#2a3f5f"
            },
            "error_y": {
             "color": "#2a3f5f"
            },
            "marker": {
             "line": {
              "color": "#E5ECF6",
              "width": 0.5
             },
             "pattern": {
              "fillmode": "overlay",
              "size": 10,
              "solidity": 0.2
             }
            },
            "type": "bar"
           }
          ],
          "barpolar": [
           {
            "marker": {
             "line": {
              "color": "#E5ECF6",
              "width": 0.5
             },
             "pattern": {
              "fillmode": "overlay",
              "size": 10,
              "solidity": 0.2
             }
            },
            "type": "barpolar"
           }
          ],
          "carpet": [
           {
            "aaxis": {
             "endlinecolor": "#2a3f5f",
             "gridcolor": "white",
             "linecolor": "white",
             "minorgridcolor": "white",
             "startlinecolor": "#2a3f5f"
            },
            "baxis": {
             "endlinecolor": "#2a3f5f",
             "gridcolor": "white",
             "linecolor": "white",
             "minorgridcolor": "white",
             "startlinecolor": "#2a3f5f"
            },
            "type": "carpet"
           }
          ],
          "choropleth": [
           {
            "colorbar": {
             "outlinewidth": 0,
             "ticks": ""
            },
            "type": "choropleth"
           }
          ],
          "contour": [
           {
            "colorbar": {
             "outlinewidth": 0,
             "ticks": ""
            },
            "colorscale": [
             [
              0,
              "#0d0887"
             ],
             [
              0.1111111111111111,
              "#46039f"
             ],
             [
              0.2222222222222222,
              "#7201a8"
             ],
             [
              0.3333333333333333,
              "#9c179e"
             ],
             [
              0.4444444444444444,
              "#bd3786"
             ],
             [
              0.5555555555555556,
              "#d8576b"
             ],
             [
              0.6666666666666666,
              "#ed7953"
             ],
             [
              0.7777777777777778,
              "#fb9f3a"
             ],
             [
              0.8888888888888888,
              "#fdca26"
             ],
             [
              1,
              "#f0f921"
             ]
            ],
            "type": "contour"
           }
          ],
          "contourcarpet": [
           {
            "colorbar": {
             "outlinewidth": 0,
             "ticks": ""
            },
            "type": "contourcarpet"
           }
          ],
          "heatmap": [
           {
            "colorbar": {
             "outlinewidth": 0,
             "ticks": ""
            },
            "colorscale": [
             [
              0,
              "#0d0887"
             ],
             [
              0.1111111111111111,
              "#46039f"
             ],
             [
              0.2222222222222222,
              "#7201a8"
             ],
             [
              0.3333333333333333,
              "#9c179e"
             ],
             [
              0.4444444444444444,
              "#bd3786"
             ],
             [
              0.5555555555555556,
              "#d8576b"
             ],
             [
              0.6666666666666666,
              "#ed7953"
             ],
             [
              0.7777777777777778,
              "#fb9f3a"
             ],
             [
              0.8888888888888888,
              "#fdca26"
             ],
             [
              1,
              "#f0f921"
             ]
            ],
            "type": "heatmap"
           }
          ],
          "heatmapgl": [
           {
            "colorbar": {
             "outlinewidth": 0,
             "ticks": ""
            },
            "colorscale": [
             [
              0,
              "#0d0887"
             ],
             [
              0.1111111111111111,
              "#46039f"
             ],
             [
              0.2222222222222222,
              "#7201a8"
             ],
             [
              0.3333333333333333,
              "#9c179e"
             ],
             [
              0.4444444444444444,
              "#bd3786"
             ],
             [
              0.5555555555555556,
              "#d8576b"
             ],
             [
              0.6666666666666666,
              "#ed7953"
             ],
             [
              0.7777777777777778,
              "#fb9f3a"
             ],
             [
              0.8888888888888888,
              "#fdca26"
             ],
             [
              1,
              "#f0f921"
             ]
            ],
            "type": "heatmapgl"
           }
          ],
          "histogram": [
           {
            "marker": {
             "pattern": {
              "fillmode": "overlay",
              "size": 10,
              "solidity": 0.2
             }
            },
            "type": "histogram"
           }
          ],
          "histogram2d": [
           {
            "colorbar": {
             "outlinewidth": 0,
             "ticks": ""
            },
            "colorscale": [
             [
              0,
              "#0d0887"
             ],
             [
              0.1111111111111111,
              "#46039f"
             ],
             [
              0.2222222222222222,
              "#7201a8"
             ],
             [
              0.3333333333333333,
              "#9c179e"
             ],
             [
              0.4444444444444444,
              "#bd3786"
             ],
             [
              0.5555555555555556,
              "#d8576b"
             ],
             [
              0.6666666666666666,
              "#ed7953"
             ],
             [
              0.7777777777777778,
              "#fb9f3a"
             ],
             [
              0.8888888888888888,
              "#fdca26"
             ],
             [
              1,
              "#f0f921"
             ]
            ],
            "type": "histogram2d"
           }
          ],
          "histogram2dcontour": [
           {
            "colorbar": {
             "outlinewidth": 0,
             "ticks": ""
            },
            "colorscale": [
             [
              0,
              "#0d0887"
             ],
             [
              0.1111111111111111,
              "#46039f"
             ],
             [
              0.2222222222222222,
              "#7201a8"
             ],
             [
              0.3333333333333333,
              "#9c179e"
             ],
             [
              0.4444444444444444,
              "#bd3786"
             ],
             [
              0.5555555555555556,
              "#d8576b"
             ],
             [
              0.6666666666666666,
              "#ed7953"
             ],
             [
              0.7777777777777778,
              "#fb9f3a"
             ],
             [
              0.8888888888888888,
              "#fdca26"
             ],
             [
              1,
              "#f0f921"
             ]
            ],
            "type": "histogram2dcontour"
           }
          ],
          "mesh3d": [
           {
            "colorbar": {
             "outlinewidth": 0,
             "ticks": ""
            },
            "type": "mesh3d"
           }
          ],
          "parcoords": [
           {
            "line": {
             "colorbar": {
              "outlinewidth": 0,
              "ticks": ""
             }
            },
            "type": "parcoords"
           }
          ],
          "pie": [
           {
            "automargin": true,
            "type": "pie"
           }
          ],
          "scatter": [
           {
            "fillpattern": {
             "fillmode": "overlay",
             "size": 10,
             "solidity": 0.2
            },
            "type": "scatter"
           }
          ],
          "scatter3d": [
           {
            "line": {
             "colorbar": {
              "outlinewidth": 0,
              "ticks": ""
             }
            },
            "marker": {
             "colorbar": {
              "outlinewidth": 0,
              "ticks": ""
             }
            },
            "type": "scatter3d"
           }
          ],
          "scattercarpet": [
           {
            "marker": {
             "colorbar": {
              "outlinewidth": 0,
              "ticks": ""
             }
            },
            "type": "scattercarpet"
           }
          ],
          "scattergeo": [
           {
            "marker": {
             "colorbar": {
              "outlinewidth": 0,
              "ticks": ""
             }
            },
            "type": "scattergeo"
           }
          ],
          "scattergl": [
           {
            "marker": {
             "colorbar": {
              "outlinewidth": 0,
              "ticks": ""
             }
            },
            "type": "scattergl"
           }
          ],
          "scattermapbox": [
           {
            "marker": {
             "colorbar": {
              "outlinewidth": 0,
              "ticks": ""
             }
            },
            "type": "scattermapbox"
           }
          ],
          "scatterpolar": [
           {
            "marker": {
             "colorbar": {
              "outlinewidth": 0,
              "ticks": ""
             }
            },
            "type": "scatterpolar"
           }
          ],
          "scatterpolargl": [
           {
            "marker": {
             "colorbar": {
              "outlinewidth": 0,
              "ticks": ""
             }
            },
            "type": "scatterpolargl"
           }
          ],
          "scatterternary": [
           {
            "marker": {
             "colorbar": {
              "outlinewidth": 0,
              "ticks": ""
             }
            },
            "type": "scatterternary"
           }
          ],
          "surface": [
           {
            "colorbar": {
             "outlinewidth": 0,
             "ticks": ""
            },
            "colorscale": [
             [
              0,
              "#0d0887"
             ],
             [
              0.1111111111111111,
              "#46039f"
             ],
             [
              0.2222222222222222,
              "#7201a8"
             ],
             [
              0.3333333333333333,
              "#9c179e"
             ],
             [
              0.4444444444444444,
              "#bd3786"
             ],
             [
              0.5555555555555556,
              "#d8576b"
             ],
             [
              0.6666666666666666,
              "#ed7953"
             ],
             [
              0.7777777777777778,
              "#fb9f3a"
             ],
             [
              0.8888888888888888,
              "#fdca26"
             ],
             [
              1,
              "#f0f921"
             ]
            ],
            "type": "surface"
           }
          ],
          "table": [
           {
            "cells": {
             "fill": {
              "color": "#EBF0F8"
             },
             "line": {
              "color": "white"
             }
            },
            "header": {
             "fill": {
              "color": "#C8D4E3"
             },
             "line": {
              "color": "white"
             }
            },
            "type": "table"
           }
          ]
         },
         "layout": {
          "annotationdefaults": {
           "arrowcolor": "#2a3f5f",
           "arrowhead": 0,
           "arrowwidth": 1
          },
          "autotypenumbers": "strict",
          "coloraxis": {
           "colorbar": {
            "outlinewidth": 0,
            "ticks": ""
           }
          },
          "colorscale": {
           "diverging": [
            [
             0,
             "#8e0152"
            ],
            [
             0.1,
             "#c51b7d"
            ],
            [
             0.2,
             "#de77ae"
            ],
            [
             0.3,
             "#f1b6da"
            ],
            [
             0.4,
             "#fde0ef"
            ],
            [
             0.5,
             "#f7f7f7"
            ],
            [
             0.6,
             "#e6f5d0"
            ],
            [
             0.7,
             "#b8e186"
            ],
            [
             0.8,
             "#7fbc41"
            ],
            [
             0.9,
             "#4d9221"
            ],
            [
             1,
             "#276419"
            ]
           ],
           "sequential": [
            [
             0,
             "#0d0887"
            ],
            [
             0.1111111111111111,
             "#46039f"
            ],
            [
             0.2222222222222222,
             "#7201a8"
            ],
            [
             0.3333333333333333,
             "#9c179e"
            ],
            [
             0.4444444444444444,
             "#bd3786"
            ],
            [
             0.5555555555555556,
             "#d8576b"
            ],
            [
             0.6666666666666666,
             "#ed7953"
            ],
            [
             0.7777777777777778,
             "#fb9f3a"
            ],
            [
             0.8888888888888888,
             "#fdca26"
            ],
            [
             1,
             "#f0f921"
            ]
           ],
           "sequentialminus": [
            [
             0,
             "#0d0887"
            ],
            [
             0.1111111111111111,
             "#46039f"
            ],
            [
             0.2222222222222222,
             "#7201a8"
            ],
            [
             0.3333333333333333,
             "#9c179e"
            ],
            [
             0.4444444444444444,
             "#bd3786"
            ],
            [
             0.5555555555555556,
             "#d8576b"
            ],
            [
             0.6666666666666666,
             "#ed7953"
            ],
            [
             0.7777777777777778,
             "#fb9f3a"
            ],
            [
             0.8888888888888888,
             "#fdca26"
            ],
            [
             1,
             "#f0f921"
            ]
           ]
          },
          "colorway": [
           "#636efa",
           "#EF553B",
           "#00cc96",
           "#ab63fa",
           "#FFA15A",
           "#19d3f3",
           "#FF6692",
           "#B6E880",
           "#FF97FF",
           "#FECB52"
          ],
          "font": {
           "color": "#2a3f5f"
          },
          "geo": {
           "bgcolor": "white",
           "lakecolor": "white",
           "landcolor": "#E5ECF6",
           "showlakes": true,
           "showland": true,
           "subunitcolor": "white"
          },
          "hoverlabel": {
           "align": "left"
          },
          "hovermode": "closest",
          "mapbox": {
           "style": "light"
          },
          "paper_bgcolor": "white",
          "plot_bgcolor": "#E5ECF6",
          "polar": {
           "angularaxis": {
            "gridcolor": "white",
            "linecolor": "white",
            "ticks": ""
           },
           "bgcolor": "#E5ECF6",
           "radialaxis": {
            "gridcolor": "white",
            "linecolor": "white",
            "ticks": ""
           }
          },
          "scene": {
           "xaxis": {
            "backgroundcolor": "#E5ECF6",
            "gridcolor": "white",
            "gridwidth": 2,
            "linecolor": "white",
            "showbackground": true,
            "ticks": "",
            "zerolinecolor": "white"
           },
           "yaxis": {
            "backgroundcolor": "#E5ECF6",
            "gridcolor": "white",
            "gridwidth": 2,
            "linecolor": "white",
            "showbackground": true,
            "ticks": "",
            "zerolinecolor": "white"
           },
           "zaxis": {
            "backgroundcolor": "#E5ECF6",
            "gridcolor": "white",
            "gridwidth": 2,
            "linecolor": "white",
            "showbackground": true,
            "ticks": "",
            "zerolinecolor": "white"
           }
          },
          "shapedefaults": {
           "line": {
            "color": "#2a3f5f"
           }
          },
          "ternary": {
           "aaxis": {
            "gridcolor": "white",
            "linecolor": "white",
            "ticks": ""
           },
           "baxis": {
            "gridcolor": "white",
            "linecolor": "white",
            "ticks": ""
           },
           "bgcolor": "#E5ECF6",
           "caxis": {
            "gridcolor": "white",
            "linecolor": "white",
            "ticks": ""
           }
          },
          "title": {
           "x": 0.05
          },
          "xaxis": {
           "automargin": true,
           "gridcolor": "white",
           "linecolor": "white",
           "ticks": "",
           "title": {
            "standoff": 15
           },
           "zerolinecolor": "white",
           "zerolinewidth": 2
          },
          "yaxis": {
           "automargin": true,
           "gridcolor": "white",
           "linecolor": "white",
           "ticks": "",
           "title": {
            "standoff": 15
           },
           "zerolinecolor": "white",
           "zerolinewidth": 2
          }
         }
        },
        "title": {
         "text": "<b style='font-size: 30px;'>Data Analytics Skills</b><br><i style='font-size: 20px;'>Salaries and Popularity</i>",
         "x": 0.1
        }
       }
      }
     },
     "metadata": {},
     "output_type": "display_data"
    }
   ],
   "source": [
    "import plotly.express as px\n",
    "\n",
    "fig = px.treemap(top_skills_df, path=['skill'], values='number_of_postings',\n",
    "                  color='avg_yearly_salary', color_continuous_scale='Blues')\n",
    "\n",
    "fig.update_traces(hovertemplate='Skill: %{label} <br> \\\n",
    "Postings: %{value} <br> Average Annual salary: %{color}<extra></extra>')\n",
    "\n",
    "fig.update_layout(\n",
    "    title_text=\"<b style='font-size: 30px;'>Data Analytics Skills</b><br><i style='font-size: 20px;'>Salaries and Popularity</i>\", \n",
    "    title_x=0.1, font_color=\"white\",\n",
    "    paper_bgcolor=\"#444444\", \n",
    "    coloraxis_colorbar=dict(title=\"Average Annual Salary\")\n",
    ")\n",
    "\n",
    "fig.show()"
   ]
  },
  {
   "cell_type": "markdown",
   "metadata": {},
   "source": [
    "### Interactive Plot"
   ]
  },
  {
   "cell_type": "code",
   "execution_count": null,
   "metadata": {},
   "outputs": [
    {
     "name": "stdout",
     "output_type": "stream",
     "text": [
      "Total rows: 27305\n",
      "Total columns: 23\n"
     ]
    },
    {
     "data": {
      "text/html": [
       "<div>\n",
       "<style scoped>\n",
       "    .dataframe tbody tr th:only-of-type {\n",
       "        vertical-align: middle;\n",
       "    }\n",
       "\n",
       "    .dataframe tbody tr th {\n",
       "        vertical-align: top;\n",
       "    }\n",
       "\n",
       "    .dataframe thead th {\n",
       "        text-align: right;\n",
       "    }\n",
       "</style>\n",
       "<table border=\"1\" class=\"dataframe\">\n",
       "  <thead>\n",
       "    <tr style=\"text-align: right;\">\n",
       "      <th></th>\n",
       "      <th>col_name</th>\n",
       "      <th>dtype</th>\n",
       "      <th>num_unique</th>\n",
       "      <th>num_null</th>\n",
       "      <th>pct_null</th>\n",
       "      <th>unique_values</th>\n",
       "      <th>range (min, max, mean)</th>\n",
       "    </tr>\n",
       "  </thead>\n",
       "  <tbody>\n",
       "    <tr>\n",
       "      <th>0</th>\n",
       "      <td>index</td>\n",
       "      <td>int64</td>\n",
       "      <td>27305</td>\n",
       "      <td>0</td>\n",
       "      <td>0.00000</td>\n",
       "      <td>Index([32165, 29259, 23881, 30171, 20135, 1502...</td>\n",
       "      <td>(0, 34132)</td>\n",
       "    </tr>\n",
       "    <tr>\n",
       "      <th>1</th>\n",
       "      <td>index</td>\n",
       "      <td>int64</td>\n",
       "      <td>27305</td>\n",
       "      <td>0</td>\n",
       "      <td>0.00000</td>\n",
       "      <td>[32185, 29279, 23901, 30191, 20145, 15024, 290...</td>\n",
       "      <td>(0, 34152, 17059.968137703716)</td>\n",
       "    </tr>\n",
       "    <tr>\n",
       "      <th>2</th>\n",
       "      <td>title</td>\n",
       "      <td>object</td>\n",
       "      <td>11210</td>\n",
       "      <td>0</td>\n",
       "      <td>0.00000</td>\n",
       "      <td>[Data Analyst, Data Analyst - Remote - Latin A...</td>\n",
       "      <td>None</td>\n",
       "    </tr>\n",
       "    <tr>\n",
       "      <th>3</th>\n",
       "      <td>company_name</td>\n",
       "      <td>object</td>\n",
       "      <td>7280</td>\n",
       "      <td>0</td>\n",
       "      <td>0.00000</td>\n",
       "      <td>[Dynamics ATS, FullStack Labs, EDWARD JONES, S...</td>\n",
       "      <td>None</td>\n",
       "    </tr>\n",
       "    <tr>\n",
       "      <th>4</th>\n",
       "      <td>location</td>\n",
       "      <td>object</td>\n",
       "      <td>453</td>\n",
       "      <td>20</td>\n",
       "      <td>0.00073</td>\n",
       "      <td>[United States, Anywhere, Centralia, MO, Richa...</td>\n",
       "      <td>None</td>\n",
       "    </tr>\n",
       "    <tr>\n",
       "      <th>5</th>\n",
       "      <td>via</td>\n",
       "      <td>object</td>\n",
       "      <td>510</td>\n",
       "      <td>9</td>\n",
       "      <td>0.00033</td>\n",
       "      <td>[via Trabajo.org, via LinkedIn, via Monster, v...</td>\n",
       "      <td>None</td>\n",
       "    </tr>\n",
       "    <tr>\n",
       "      <th>6</th>\n",
       "      <td>description</td>\n",
       "      <td>object</td>\n",
       "      <td>20268</td>\n",
       "      <td>0</td>\n",
       "      <td>0.00000</td>\n",
       "      <td>[Data Analyst\\n\\nJOB-10035344...\\n\\nAnticipate...</td>\n",
       "      <td>None</td>\n",
       "    </tr>\n",
       "    <tr>\n",
       "      <th>7</th>\n",
       "      <td>extensions</td>\n",
       "      <td>object</td>\n",
       "      <td>4759</td>\n",
       "      <td>0</td>\n",
       "      <td>0.00000</td>\n",
       "      <td>[['20 hours ago', 'Full-time', 'Health insuran...</td>\n",
       "      <td>None</td>\n",
       "    </tr>\n",
       "    <tr>\n",
       "      <th>8</th>\n",
       "      <td>job_id</td>\n",
       "      <td>object</td>\n",
       "      <td>27305</td>\n",
       "      <td>0</td>\n",
       "      <td>0.00000</td>\n",
       "      <td>[eyJqb2JfdGl0bGUiOiJEYXRhIEFuYWx5c3QiLCJodGlkb...</td>\n",
       "      <td>None</td>\n",
       "    </tr>\n",
       "    <tr>\n",
       "      <th>9</th>\n",
       "      <td>time_since_posting</td>\n",
       "      <td>timedelta64[ns]</td>\n",
       "      <td>54</td>\n",
       "      <td>0</td>\n",
       "      <td>0.00000</td>\n",
       "      <td>[0 days 20:00:00, 0 days 17:00:00, 0 days 19:0...</td>\n",
       "      <td>None</td>\n",
       "    </tr>\n",
       "    <tr>\n",
       "      <th>10</th>\n",
       "      <td>schedule_type</td>\n",
       "      <td>object</td>\n",
       "      <td>22</td>\n",
       "      <td>144</td>\n",
       "      <td>0.00527</td>\n",
       "      <td>[Full-time, Contractor, Part-time and Contract...</td>\n",
       "      <td>None</td>\n",
       "    </tr>\n",
       "    <tr>\n",
       "      <th>11</th>\n",
       "      <td>work_from_home</td>\n",
       "      <td>bool</td>\n",
       "      <td>2</td>\n",
       "      <td>0</td>\n",
       "      <td>0.00000</td>\n",
       "      <td>[False, True]</td>\n",
       "      <td>(False, True, 0.4473539644753708)</td>\n",
       "    </tr>\n",
       "    <tr>\n",
       "      <th>12</th>\n",
       "      <td>salary</td>\n",
       "      <td>object</td>\n",
       "      <td>1151</td>\n",
       "      <td>22451</td>\n",
       "      <td>0.82223</td>\n",
       "      <td>[nan, 51,824.00–109,535.33 a year, 20–30 an ho...</td>\n",
       "      <td>None</td>\n",
       "    </tr>\n",
       "    <tr>\n",
       "      <th>13</th>\n",
       "      <td>date_scraped</td>\n",
       "      <td>datetime64[ns]</td>\n",
       "      <td>3553</td>\n",
       "      <td>0</td>\n",
       "      <td>0.00000</td>\n",
       "      <td>[2022-12-11 04:00:28.227873, 2022-11-04 15:37:...</td>\n",
       "      <td>(2022-11-04, 2023-11-02)</td>\n",
       "    </tr>\n",
       "    <tr>\n",
       "      <th>14</th>\n",
       "      <td>cleaned_salary</td>\n",
       "      <td>object</td>\n",
       "      <td>1148</td>\n",
       "      <td>0</td>\n",
       "      <td>0.00000</td>\n",
       "      <td>[nan, 51824.00–109535.33  , 20–30  , 65–69  , ...</td>\n",
       "      <td>None</td>\n",
       "    </tr>\n",
       "    <tr>\n",
       "      <th>15</th>\n",
       "      <td>pay_rate</td>\n",
       "      <td>object</td>\n",
       "      <td>3</td>\n",
       "      <td>22451</td>\n",
       "      <td>0.82223</td>\n",
       "      <td>[nan, yearly, hourly, monthly]</td>\n",
       "      <td>None</td>\n",
       "    </tr>\n",
       "    <tr>\n",
       "      <th>16</th>\n",
       "      <td>min_salary</td>\n",
       "      <td>object</td>\n",
       "      <td>402</td>\n",
       "      <td>0</td>\n",
       "      <td>0.00000</td>\n",
       "      <td>[nan, 51824.00, 41600.0, 135200.0, 72800.0, 93...</td>\n",
       "      <td>None</td>\n",
       "    </tr>\n",
       "    <tr>\n",
       "      <th>17</th>\n",
       "      <td>max_salary</td>\n",
       "      <td>object</td>\n",
       "      <td>442</td>\n",
       "      <td>0</td>\n",
       "      <td>0.00000</td>\n",
       "      <td>[nan, 109535.33  , 62400.0, 143520.0, 124800.0...</td>\n",
       "      <td>None</td>\n",
       "    </tr>\n",
       "    <tr>\n",
       "      <th>18</th>\n",
       "      <td>avg_salary</td>\n",
       "      <td>float64</td>\n",
       "      <td>531</td>\n",
       "      <td>22451</td>\n",
       "      <td>0.82223</td>\n",
       "      <td>[nan, 80679.66500000001, 52000.0, 139360.0, 98...</td>\n",
       "      <td>(15080.0, 572000.0, 93080.76264009064)</td>\n",
       "    </tr>\n",
       "    <tr>\n",
       "      <th>19</th>\n",
       "      <td>location_cleaned</td>\n",
       "      <td>object</td>\n",
       "      <td>18</td>\n",
       "      <td>0</td>\n",
       "      <td>0.00000</td>\n",
       "      <td>[United States, Anywhere, Missouri, Arkansas, ...</td>\n",
       "      <td>None</td>\n",
       "    </tr>\n",
       "    <tr>\n",
       "      <th>20</th>\n",
       "      <td>description_tokens</td>\n",
       "      <td>object</td>\n",
       "      <td>ERROR</td>\n",
       "      <td>0</td>\n",
       "      <td>0.00000</td>\n",
       "      <td>Column contains multiple lists</td>\n",
       "      <td>None</td>\n",
       "    </tr>\n",
       "    <tr>\n",
       "      <th>21</th>\n",
       "      <td>posting_created</td>\n",
       "      <td>object</td>\n",
       "      <td>7413</td>\n",
       "      <td>0</td>\n",
       "      <td>0.00000</td>\n",
       "      <td>[2022-12-10 08:00, 2022-11-03 22:37, 2022-12-1...</td>\n",
       "      <td>None</td>\n",
       "    </tr>\n",
       "    <tr>\n",
       "      <th>22</th>\n",
       "      <td>title_cleaned</td>\n",
       "      <td>object</td>\n",
       "      <td>4</td>\n",
       "      <td>0</td>\n",
       "      <td>0.00000</td>\n",
       "      <td>[Data Analyst, Other, Data Engineer, Data Scie...</td>\n",
       "      <td>None</td>\n",
       "    </tr>\n",
       "    <tr>\n",
       "      <th>23</th>\n",
       "      <td>sector</td>\n",
       "      <td>object</td>\n",
       "      <td>7</td>\n",
       "      <td>0</td>\n",
       "      <td>0.00000</td>\n",
       "      <td>[Healthcare, Education, Technology, Other, Fin...</td>\n",
       "      <td>None</td>\n",
       "    </tr>\n",
       "  </tbody>\n",
       "</table>\n",
       "</div>"
      ],
      "text/plain": [
       "              col_name            dtype num_unique  num_null  pct_null  \\\n",
       "0                index            int64      27305         0   0.00000   \n",
       "1                index            int64      27305         0   0.00000   \n",
       "2                title           object      11210         0   0.00000   \n",
       "3         company_name           object       7280         0   0.00000   \n",
       "4             location           object        453        20   0.00073   \n",
       "5                  via           object        510         9   0.00033   \n",
       "6          description           object      20268         0   0.00000   \n",
       "7           extensions           object       4759         0   0.00000   \n",
       "8               job_id           object      27305         0   0.00000   \n",
       "9   time_since_posting  timedelta64[ns]         54         0   0.00000   \n",
       "10       schedule_type           object         22       144   0.00527   \n",
       "11      work_from_home             bool          2         0   0.00000   \n",
       "12              salary           object       1151     22451   0.82223   \n",
       "13        date_scraped   datetime64[ns]       3553         0   0.00000   \n",
       "14      cleaned_salary           object       1148         0   0.00000   \n",
       "15            pay_rate           object          3     22451   0.82223   \n",
       "16          min_salary           object        402         0   0.00000   \n",
       "17          max_salary           object        442         0   0.00000   \n",
       "18          avg_salary          float64        531     22451   0.82223   \n",
       "19    location_cleaned           object         18         0   0.00000   \n",
       "20  description_tokens           object      ERROR         0   0.00000   \n",
       "21     posting_created           object       7413         0   0.00000   \n",
       "22       title_cleaned           object          4         0   0.00000   \n",
       "23              sector           object          7         0   0.00000   \n",
       "\n",
       "                                        unique_values  \\\n",
       "0   Index([32165, 29259, 23881, 30171, 20135, 1502...   \n",
       "1   [32185, 29279, 23901, 30191, 20145, 15024, 290...   \n",
       "2   [Data Analyst, Data Analyst - Remote - Latin A...   \n",
       "3   [Dynamics ATS, FullStack Labs, EDWARD JONES, S...   \n",
       "4   [United States, Anywhere, Centralia, MO, Richa...   \n",
       "5   [via Trabajo.org, via LinkedIn, via Monster, v...   \n",
       "6   [Data Analyst\\n\\nJOB-10035344...\\n\\nAnticipate...   \n",
       "7   [['20 hours ago', 'Full-time', 'Health insuran...   \n",
       "8   [eyJqb2JfdGl0bGUiOiJEYXRhIEFuYWx5c3QiLCJodGlkb...   \n",
       "9   [0 days 20:00:00, 0 days 17:00:00, 0 days 19:0...   \n",
       "10  [Full-time, Contractor, Part-time and Contract...   \n",
       "11                                      [False, True]   \n",
       "12  [nan, 51,824.00–109,535.33 a year, 20–30 an ho...   \n",
       "13  [2022-12-11 04:00:28.227873, 2022-11-04 15:37:...   \n",
       "14  [nan, 51824.00–109535.33  , 20–30  , 65–69  , ...   \n",
       "15                     [nan, yearly, hourly, monthly]   \n",
       "16  [nan, 51824.00, 41600.0, 135200.0, 72800.0, 93...   \n",
       "17  [nan, 109535.33  , 62400.0, 143520.0, 124800.0...   \n",
       "18  [nan, 80679.66500000001, 52000.0, 139360.0, 98...   \n",
       "19  [United States, Anywhere, Missouri, Arkansas, ...   \n",
       "20                     Column contains multiple lists   \n",
       "21  [2022-12-10 08:00, 2022-11-03 22:37, 2022-12-1...   \n",
       "22  [Data Analyst, Other, Data Engineer, Data Scie...   \n",
       "23  [Healthcare, Education, Technology, Other, Fin...   \n",
       "\n",
       "                    range (min, max, mean)  \n",
       "0                               (0, 34132)  \n",
       "1           (0, 34152, 17059.968137703716)  \n",
       "2                                     None  \n",
       "3                                     None  \n",
       "4                                     None  \n",
       "5                                     None  \n",
       "6                                     None  \n",
       "7                                     None  \n",
       "8                                     None  \n",
       "9                                     None  \n",
       "10                                    None  \n",
       "11       (False, True, 0.4473539644753708)  \n",
       "12                                    None  \n",
       "13                (2022-11-04, 2023-11-02)  \n",
       "14                                    None  \n",
       "15                                    None  \n",
       "16                                    None  \n",
       "17                                    None  \n",
       "18  (15080.0, 572000.0, 93080.76264009064)  \n",
       "19                                    None  \n",
       "20                                    None  \n",
       "21                                    None  \n",
       "22                                    None  \n",
       "23                                    None  "
      ]
     },
     "execution_count": 139,
     "metadata": {},
     "output_type": "execute_result"
    }
   ],
   "source": [
    "check_columns(jobs_df_cleaned)"
   ]
  },
  {
   "cell_type": "code",
   "execution_count": null,
   "metadata": {},
   "outputs": [],
   "source": [
    "# Import widgets\n",
    "import ipywidgets as widgets"
   ]
  },
  {
   "cell_type": "code",
   "execution_count": null,
   "metadata": {},
   "outputs": [
    {
     "ename": "KeyError",
     "evalue": "'[20162] not found in axis'",
     "output_type": "error",
     "traceback": [
      "\u001b[0;31m---------------------------------------------------------------------------\u001b[0m",
      "\u001b[0;31mKeyError\u001b[0m                                  Traceback (most recent call last)",
      "\u001b[1;32m/Users/zacschmitz/codeup-data-science/capstone/data-jobs-project/schmitz_working/schmitz_draft.ipynb Cell 147\u001b[0m line \u001b[0;36m5\n\u001b[1;32m      <a href='vscode-notebook-cell:/Users/zacschmitz/codeup-data-science/capstone/data-jobs-project/schmitz_working/schmitz_draft.ipynb#Y246sZmlsZQ%3D%3D?line=1'>2</a>\u001b[0m jobs_df_cleaned[jobs_df_cleaned[\u001b[39m'\u001b[39m\u001b[39mdescription_tokens\u001b[39m\u001b[39m'\u001b[39m]\u001b[39m.\u001b[39mapply(\u001b[39mlambda\u001b[39;00m x: \u001b[39m'\u001b[39m\u001b[39msql\u001b[39m\u001b[39m'\u001b[39m \u001b[39min\u001b[39;00m x)]\u001b[39m.\u001b[39msort_values(by\u001b[39m=\u001b[39m\u001b[39m'\u001b[39m\u001b[39mavg_salary\u001b[39m\u001b[39m'\u001b[39m, ascending\u001b[39m=\u001b[39m\u001b[39mFalse\u001b[39;00m)\u001b[39m.\u001b[39mhead(\u001b[39m1\u001b[39m)\n\u001b[1;32m      <a href='vscode-notebook-cell:/Users/zacschmitz/codeup-data-science/capstone/data-jobs-project/schmitz_working/schmitz_draft.ipynb#Y246sZmlsZQ%3D%3D?line=3'>4</a>\u001b[0m \u001b[39m# Drop index 20162\u001b[39;00m\n\u001b[0;32m----> <a href='vscode-notebook-cell:/Users/zacschmitz/codeup-data-science/capstone/data-jobs-project/schmitz_working/schmitz_draft.ipynb#Y246sZmlsZQ%3D%3D?line=4'>5</a>\u001b[0m jobs_df_cleaned\u001b[39m.\u001b[39mdrop(index\u001b[39m=\u001b[39m\u001b[39m20162\u001b[39m, inplace\u001b[39m=\u001b[39m\u001b[39mTrue\u001b[39;00m)\n",
      "File \u001b[0;32m/opt/homebrew/anaconda3/lib/python3.11/site-packages/pandas/core/frame.py:5258\u001b[0m, in \u001b[0;36mDataFrame.drop\u001b[0;34m(self, labels, axis, index, columns, level, inplace, errors)\u001b[0m\n\u001b[1;32m   5110\u001b[0m \u001b[39mdef\u001b[39;00m \u001b[39mdrop\u001b[39m(\n\u001b[1;32m   5111\u001b[0m     \u001b[39mself\u001b[39m,\n\u001b[1;32m   5112\u001b[0m     labels: IndexLabel \u001b[39m=\u001b[39m \u001b[39mNone\u001b[39;00m,\n\u001b[0;32m   (...)\u001b[0m\n\u001b[1;32m   5119\u001b[0m     errors: IgnoreRaise \u001b[39m=\u001b[39m \u001b[39m\"\u001b[39m\u001b[39mraise\u001b[39m\u001b[39m\"\u001b[39m,\n\u001b[1;32m   5120\u001b[0m ) \u001b[39m-\u001b[39m\u001b[39m>\u001b[39m DataFrame \u001b[39m|\u001b[39m \u001b[39mNone\u001b[39;00m:\n\u001b[1;32m   5121\u001b[0m \u001b[39m    \u001b[39m\u001b[39m\"\"\"\u001b[39;00m\n\u001b[1;32m   5122\u001b[0m \u001b[39m    Drop specified labels from rows or columns.\u001b[39;00m\n\u001b[1;32m   5123\u001b[0m \n\u001b[0;32m   (...)\u001b[0m\n\u001b[1;32m   5256\u001b[0m \u001b[39m            weight  1.0     0.8\u001b[39;00m\n\u001b[1;32m   5257\u001b[0m \u001b[39m    \"\"\"\u001b[39;00m\n\u001b[0;32m-> 5258\u001b[0m     \u001b[39mreturn\u001b[39;00m \u001b[39msuper\u001b[39m()\u001b[39m.\u001b[39mdrop(\n\u001b[1;32m   5259\u001b[0m         labels\u001b[39m=\u001b[39mlabels,\n\u001b[1;32m   5260\u001b[0m         axis\u001b[39m=\u001b[39maxis,\n\u001b[1;32m   5261\u001b[0m         index\u001b[39m=\u001b[39mindex,\n\u001b[1;32m   5262\u001b[0m         columns\u001b[39m=\u001b[39mcolumns,\n\u001b[1;32m   5263\u001b[0m         level\u001b[39m=\u001b[39mlevel,\n\u001b[1;32m   5264\u001b[0m         inplace\u001b[39m=\u001b[39minplace,\n\u001b[1;32m   5265\u001b[0m         errors\u001b[39m=\u001b[39merrors,\n\u001b[1;32m   5266\u001b[0m     )\n",
      "File \u001b[0;32m/opt/homebrew/anaconda3/lib/python3.11/site-packages/pandas/core/generic.py:4549\u001b[0m, in \u001b[0;36mNDFrame.drop\u001b[0;34m(self, labels, axis, index, columns, level, inplace, errors)\u001b[0m\n\u001b[1;32m   4547\u001b[0m \u001b[39mfor\u001b[39;00m axis, labels \u001b[39min\u001b[39;00m axes\u001b[39m.\u001b[39mitems():\n\u001b[1;32m   4548\u001b[0m     \u001b[39mif\u001b[39;00m labels \u001b[39mis\u001b[39;00m \u001b[39mnot\u001b[39;00m \u001b[39mNone\u001b[39;00m:\n\u001b[0;32m-> 4549\u001b[0m         obj \u001b[39m=\u001b[39m obj\u001b[39m.\u001b[39m_drop_axis(labels, axis, level\u001b[39m=\u001b[39mlevel, errors\u001b[39m=\u001b[39merrors)\n\u001b[1;32m   4551\u001b[0m \u001b[39mif\u001b[39;00m inplace:\n\u001b[1;32m   4552\u001b[0m     \u001b[39mself\u001b[39m\u001b[39m.\u001b[39m_update_inplace(obj)\n",
      "File \u001b[0;32m/opt/homebrew/anaconda3/lib/python3.11/site-packages/pandas/core/generic.py:4591\u001b[0m, in \u001b[0;36mNDFrame._drop_axis\u001b[0;34m(self, labels, axis, level, errors, only_slice)\u001b[0m\n\u001b[1;32m   4589\u001b[0m         new_axis \u001b[39m=\u001b[39m axis\u001b[39m.\u001b[39mdrop(labels, level\u001b[39m=\u001b[39mlevel, errors\u001b[39m=\u001b[39merrors)\n\u001b[1;32m   4590\u001b[0m     \u001b[39melse\u001b[39;00m:\n\u001b[0;32m-> 4591\u001b[0m         new_axis \u001b[39m=\u001b[39m axis\u001b[39m.\u001b[39mdrop(labels, errors\u001b[39m=\u001b[39merrors)\n\u001b[1;32m   4592\u001b[0m     indexer \u001b[39m=\u001b[39m axis\u001b[39m.\u001b[39mget_indexer(new_axis)\n\u001b[1;32m   4594\u001b[0m \u001b[39m# Case for non-unique axis\u001b[39;00m\n\u001b[1;32m   4595\u001b[0m \u001b[39melse\u001b[39;00m:\n",
      "File \u001b[0;32m/opt/homebrew/anaconda3/lib/python3.11/site-packages/pandas/core/indexes/base.py:6699\u001b[0m, in \u001b[0;36mIndex.drop\u001b[0;34m(self, labels, errors)\u001b[0m\n\u001b[1;32m   6697\u001b[0m \u001b[39mif\u001b[39;00m mask\u001b[39m.\u001b[39many():\n\u001b[1;32m   6698\u001b[0m     \u001b[39mif\u001b[39;00m errors \u001b[39m!=\u001b[39m \u001b[39m\"\u001b[39m\u001b[39mignore\u001b[39m\u001b[39m\"\u001b[39m:\n\u001b[0;32m-> 6699\u001b[0m         \u001b[39mraise\u001b[39;00m \u001b[39mKeyError\u001b[39;00m(\u001b[39mf\u001b[39m\u001b[39m\"\u001b[39m\u001b[39m{\u001b[39;00m\u001b[39mlist\u001b[39m(labels[mask])\u001b[39m}\u001b[39;00m\u001b[39m not found in axis\u001b[39m\u001b[39m\"\u001b[39m)\n\u001b[1;32m   6700\u001b[0m     indexer \u001b[39m=\u001b[39m indexer[\u001b[39m~\u001b[39mmask]\n\u001b[1;32m   6701\u001b[0m \u001b[39mreturn\u001b[39;00m \u001b[39mself\u001b[39m\u001b[39m.\u001b[39mdelete(indexer)\n",
      "\u001b[0;31mKeyError\u001b[0m: '[20162] not found in axis'"
     ]
    }
   ],
   "source": [
    "# Identified an extreme SQL outlier, dropping for visuals\n",
    "jobs_df_cleaned[jobs_df_cleaned['description_tokens'].apply(lambda x: 'sql' in x)].sort_values(by='avg_salary', ascending=False).head(1)\n",
    "\n",
    "# Drop index 20162\n",
    "jobs_df_cleaned.drop(index=20162, inplace=True)"
   ]
  },
  {
   "cell_type": "code",
   "execution_count": null,
   "metadata": {},
   "outputs": [],
   "source": [
    "def interactive_skill_salary(skill):\n",
    "    # Filter the dataframe for jobs that mention the selected skill and have a salary\n",
    "    skill_df = jobs_df_cleaned[jobs_df_cleaned['description_tokens'].apply(lambda x: skill in x) & jobs_df_cleaned['avg_salary'].notna()].sort_values(by='avg_salary')\n",
    "\n",
    "    total_df = jobs_df_cleaned[jobs_df_cleaned['description_tokens'].apply(lambda x: skill in x)]\n",
    "    \n",
    "    # Calculate the average salary for the selected skill\n",
    "    avg_salary = skill_df['avg_salary'].mean()\n",
    "\n",
    "    # Find the max salary\n",
    "    max_salary = skill_df['avg_salary'].max()\n",
    "\n",
    "    # Plotting\n",
    "    plt.figure(figsize=(15,8))\n",
    "    \n",
    "    # Plot each job's salary\n",
    "    plt.bar(range(len(skill_df)), skill_df['avg_salary'], color='skyblue', label='Job Salary')\n",
    "    \n",
    "    # Add a red line for the average salary\n",
    "    plt.axhline(avg_salary, color='red', linestyle='--')\n",
    "    \n",
    "    # Add a text label for the average salary\n",
    "    plt.text(0, avg_salary + 5000, f'Average Salary: ${avg_salary:.2f}', color='red', va='center', ha='left', fontsize=15)\n",
    "\n",
    "    # Add a text label for the job counts\n",
    "    plt.text(0, max_salary, f'Jobs WITHOUT Salary in Posting: {len(total_df)}', color='white', va='center', ha='left', fontsize=15)\n",
    "    plt.text(0, max_salary - 15000, f'Jobs WITH Salary: {len(skill_df)}', color='white', va='center', ha='left', fontsize=15)\n",
    "\n",
    "    plt.xlabel('Jobs WITH Salary')\n",
    "    plt.ylabel('Salary ($)')\n",
    "    plt.title(f'Salary Distribution for Skill: {skill}', fontsize=20)\n",
    "    plt.legend()\n",
    "    \n",
    "    plt.tight_layout()"
   ]
  },
  {
   "cell_type": "code",
   "execution_count": 37,
   "metadata": {},
   "outputs": [
    {
     "ename": "NameError",
     "evalue": "name 'top_skills_df' is not defined",
     "output_type": "error",
     "traceback": [
      "\u001b[0;31m---------------------------------------------------------------------------\u001b[0m",
      "\u001b[0;31mNameError\u001b[0m                                 Traceback (most recent call last)",
      "\u001b[1;32m/Users/zacschmitz/codeup-data-science/capstone/data-jobs-project/schmitz_working/schmitz_draft.ipynb Cell 151\u001b[0m line \u001b[0;36m2\n\u001b[1;32m      <a href='vscode-notebook-cell:/Users/zacschmitz/codeup-data-science/capstone/data-jobs-project/schmitz_working/schmitz_draft.ipynb#Y251sZmlsZQ%3D%3D?line=0'>1</a>\u001b[0m \u001b[39m# Get the top skills sorted alphabetically\u001b[39;00m\n\u001b[0;32m----> <a href='vscode-notebook-cell:/Users/zacschmitz/codeup-data-science/capstone/data-jobs-project/schmitz_working/schmitz_draft.ipynb#Y251sZmlsZQ%3D%3D?line=1'>2</a>\u001b[0m sorted_skills \u001b[39m=\u001b[39m \u001b[39msorted\u001b[39m(top_skills_df[\u001b[39m'\u001b[39m\u001b[39mskill\u001b[39m\u001b[39m'\u001b[39m]\u001b[39m.\u001b[39munique())\n\u001b[1;32m      <a href='vscode-notebook-cell:/Users/zacschmitz/codeup-data-science/capstone/data-jobs-project/schmitz_working/schmitz_draft.ipynb#Y251sZmlsZQ%3D%3D?line=3'>4</a>\u001b[0m \u001b[39m# Interactive dropdown widget\u001b[39;00m\n\u001b[1;32m      <a href='vscode-notebook-cell:/Users/zacschmitz/codeup-data-science/capstone/data-jobs-project/schmitz_working/schmitz_draft.ipynb#Y251sZmlsZQ%3D%3D?line=4'>5</a>\u001b[0m skill_selector \u001b[39m=\u001b[39m widgets\u001b[39m.\u001b[39mDropdown(\n\u001b[1;32m      <a href='vscode-notebook-cell:/Users/zacschmitz/codeup-data-science/capstone/data-jobs-project/schmitz_working/schmitz_draft.ipynb#Y251sZmlsZQ%3D%3D?line=5'>6</a>\u001b[0m     options\u001b[39m=\u001b[39msorted_skills,\n\u001b[1;32m      <a href='vscode-notebook-cell:/Users/zacschmitz/codeup-data-science/capstone/data-jobs-project/schmitz_working/schmitz_draft.ipynb#Y251sZmlsZQ%3D%3D?line=6'>7</a>\u001b[0m     description\u001b[39m=\u001b[39m\u001b[39m'\u001b[39m\u001b[39mSkill:\u001b[39m\u001b[39m'\u001b[39m\n\u001b[1;32m      <a href='vscode-notebook-cell:/Users/zacschmitz/codeup-data-science/capstone/data-jobs-project/schmitz_working/schmitz_draft.ipynb#Y251sZmlsZQ%3D%3D?line=7'>8</a>\u001b[0m )\n",
      "\u001b[0;31mNameError\u001b[0m: name 'top_skills_df' is not defined"
     ]
    }
   ],
   "source": [
    "# Get the top skills sorted alphabetically\n",
    "sorted_skills = sorted(top_skills_df['skill'].unique())\n",
    "\n",
    "# Interactive dropdown widget\n",
    "skill_selector = widgets.Dropdown(\n",
    "    options=sorted_skills,\n",
    "    description='Skill:'\n",
    ")\n",
    "\n",
    "# Display the widget\n",
    "widgets.interactive(interactive_skill_salary, skill=skill_selector)"
   ]
  },
  {
   "cell_type": "markdown",
   "metadata": {},
   "source": [
    "### Interactive Top Skills by Title"
   ]
  },
  {
   "cell_type": "code",
   "execution_count": null,
   "metadata": {},
   "outputs": [],
   "source": [
    "# Maybe"
   ]
  },
  {
   "cell_type": "markdown",
   "metadata": {},
   "source": [
    "### Top Skills (Data Analyst Only)"
   ]
  },
  {
   "cell_type": "code",
   "execution_count": null,
   "metadata": {},
   "outputs": [
    {
     "data": {
      "text/html": [
       "<div>\n",
       "<style scoped>\n",
       "    .dataframe tbody tr th:only-of-type {\n",
       "        vertical-align: middle;\n",
       "    }\n",
       "\n",
       "    .dataframe tbody tr th {\n",
       "        vertical-align: top;\n",
       "    }\n",
       "\n",
       "    .dataframe thead th {\n",
       "        text-align: right;\n",
       "    }\n",
       "</style>\n",
       "<table border=\"1\" class=\"dataframe\">\n",
       "  <thead>\n",
       "    <tr style=\"text-align: right;\">\n",
       "      <th></th>\n",
       "      <th>skill</th>\n",
       "      <th>number_of_postings</th>\n",
       "      <th>avg_yearly_salary</th>\n",
       "    </tr>\n",
       "  </thead>\n",
       "  <tbody>\n",
       "    <tr>\n",
       "      <th>0</th>\n",
       "      <td>sql</td>\n",
       "      <td>15286</td>\n",
       "      <td>94665</td>\n",
       "    </tr>\n",
       "    <tr>\n",
       "      <th>1</th>\n",
       "      <td>excel</td>\n",
       "      <td>10653</td>\n",
       "      <td>86842</td>\n",
       "    </tr>\n",
       "    <tr>\n",
       "      <th>2</th>\n",
       "      <td>power_bi</td>\n",
       "      <td>8794</td>\n",
       "      <td>95666</td>\n",
       "    </tr>\n",
       "    <tr>\n",
       "      <th>3</th>\n",
       "      <td>tableau</td>\n",
       "      <td>8614</td>\n",
       "      <td>95780</td>\n",
       "    </tr>\n",
       "    <tr>\n",
       "      <th>4</th>\n",
       "      <td>python</td>\n",
       "      <td>7870</td>\n",
       "      <td>96180</td>\n",
       "    </tr>\n",
       "    <tr>\n",
       "      <th>5</th>\n",
       "      <td>r</td>\n",
       "      <td>5210</td>\n",
       "      <td>93841</td>\n",
       "    </tr>\n",
       "    <tr>\n",
       "      <th>6</th>\n",
       "      <td>sas</td>\n",
       "      <td>2844</td>\n",
       "      <td>91522</td>\n",
       "    </tr>\n",
       "    <tr>\n",
       "      <th>7</th>\n",
       "      <td>powerpoint</td>\n",
       "      <td>2432</td>\n",
       "      <td>88949</td>\n",
       "    </tr>\n",
       "    <tr>\n",
       "      <th>8</th>\n",
       "      <td>word</td>\n",
       "      <td>2422</td>\n",
       "      <td>82438</td>\n",
       "    </tr>\n",
       "    <tr>\n",
       "      <th>9</th>\n",
       "      <td>predictive</td>\n",
       "      <td>2046</td>\n",
       "      <td>97534</td>\n",
       "    </tr>\n",
       "  </tbody>\n",
       "</table>\n",
       "</div>"
      ],
      "text/plain": [
       "        skill  number_of_postings  avg_yearly_salary\n",
       "0         sql               15286              94665\n",
       "1       excel               10653              86842\n",
       "2    power_bi                8794              95666\n",
       "3     tableau                8614              95780\n",
       "4      python                7870              96180\n",
       "5           r                5210              93841\n",
       "6         sas                2844              91522\n",
       "7  powerpoint                2432              88949\n",
       "8        word                2422              82438\n",
       "9  predictive                2046              97534"
      ]
     },
     "execution_count": 102,
     "metadata": {},
     "output_type": "execute_result"
    }
   ],
   "source": [
    "# Make a Data Analyst only df\n",
    "analysts = jobs_df_cleaned[jobs_df_cleaned['title_cleaned'] == 'Data Analyst']\n",
    "\n",
    "analysts_skills = get_top_skills(analysts, 10)\n",
    "\n",
    "# Sort by number of postings\n",
    "analysts_skills.sort_values(by='number_of_postings', ascending=False, inplace=True)\n",
    "\n",
    "analysts_skills"
   ]
  },
  {
   "cell_type": "code",
   "execution_count": null,
   "metadata": {},
   "outputs": [
    {
     "data": {
      "application/vnd.plotly.v1+json": {
       "config": {
        "plotlyServerURL": "https://plot.ly"
       },
       "data": [
        {
         "alignmentgroup": "True",
         "hovertemplate": "Skill: %{x} <br> Postings: %{y} <br> Average Annual salary: %{color}<extra></extra>",
         "legendgroup": "",
         "marker": {
          "color": [
           94665,
           86842,
           95666,
           95780,
           96180,
           93841,
           91522,
           88949,
           82438,
           97534
          ],
          "coloraxis": "coloraxis",
          "pattern": {
           "shape": ""
          }
         },
         "name": "",
         "offsetgroup": "",
         "orientation": "v",
         "showlegend": false,
         "textposition": "auto",
         "type": "bar",
         "x": [
          "sql",
          "excel",
          "power_bi",
          "tableau",
          "python",
          "r",
          "sas",
          "powerpoint",
          "word",
          "predictive"
         ],
         "xaxis": "x",
         "y": [
          15286,
          10653,
          8794,
          8614,
          7870,
          5210,
          2844,
          2432,
          2422,
          2046
         ],
         "yaxis": "y"
        }
       ],
       "layout": {
        "barmode": "relative",
        "coloraxis": {
         "colorbar": {
          "title": {
           "text": "Average Annual Salary"
          }
         },
         "colorscale": [
          [
           0,
           "rgb(247,251,255)"
          ],
          [
           0.125,
           "rgb(222,235,247)"
          ],
          [
           0.25,
           "rgb(198,219,239)"
          ],
          [
           0.375,
           "rgb(158,202,225)"
          ],
          [
           0.5,
           "rgb(107,174,214)"
          ],
          [
           0.625,
           "rgb(66,146,198)"
          ],
          [
           0.75,
           "rgb(33,113,181)"
          ],
          [
           0.875,
           "rgb(8,81,156)"
          ],
          [
           1,
           "rgb(8,48,107)"
          ]
         ]
        },
        "font": {
         "color": "white"
        },
        "legend": {
         "tracegroupgap": 0
        },
        "margin": {
         "t": 60
        },
        "paper_bgcolor": "#444444",
        "template": {
         "data": {
          "bar": [
           {
            "error_x": {
             "color": "#2a3f5f"
            },
            "error_y": {
             "color": "#2a3f5f"
            },
            "marker": {
             "line": {
              "color": "#E5ECF6",
              "width": 0.5
             },
             "pattern": {
              "fillmode": "overlay",
              "size": 10,
              "solidity": 0.2
             }
            },
            "type": "bar"
           }
          ],
          "barpolar": [
           {
            "marker": {
             "line": {
              "color": "#E5ECF6",
              "width": 0.5
             },
             "pattern": {
              "fillmode": "overlay",
              "size": 10,
              "solidity": 0.2
             }
            },
            "type": "barpolar"
           }
          ],
          "carpet": [
           {
            "aaxis": {
             "endlinecolor": "#2a3f5f",
             "gridcolor": "white",
             "linecolor": "white",
             "minorgridcolor": "white",
             "startlinecolor": "#2a3f5f"
            },
            "baxis": {
             "endlinecolor": "#2a3f5f",
             "gridcolor": "white",
             "linecolor": "white",
             "minorgridcolor": "white",
             "startlinecolor": "#2a3f5f"
            },
            "type": "carpet"
           }
          ],
          "choropleth": [
           {
            "colorbar": {
             "outlinewidth": 0,
             "ticks": ""
            },
            "type": "choropleth"
           }
          ],
          "contour": [
           {
            "colorbar": {
             "outlinewidth": 0,
             "ticks": ""
            },
            "colorscale": [
             [
              0,
              "#0d0887"
             ],
             [
              0.1111111111111111,
              "#46039f"
             ],
             [
              0.2222222222222222,
              "#7201a8"
             ],
             [
              0.3333333333333333,
              "#9c179e"
             ],
             [
              0.4444444444444444,
              "#bd3786"
             ],
             [
              0.5555555555555556,
              "#d8576b"
             ],
             [
              0.6666666666666666,
              "#ed7953"
             ],
             [
              0.7777777777777778,
              "#fb9f3a"
             ],
             [
              0.8888888888888888,
              "#fdca26"
             ],
             [
              1,
              "#f0f921"
             ]
            ],
            "type": "contour"
           }
          ],
          "contourcarpet": [
           {
            "colorbar": {
             "outlinewidth": 0,
             "ticks": ""
            },
            "type": "contourcarpet"
           }
          ],
          "heatmap": [
           {
            "colorbar": {
             "outlinewidth": 0,
             "ticks": ""
            },
            "colorscale": [
             [
              0,
              "#0d0887"
             ],
             [
              0.1111111111111111,
              "#46039f"
             ],
             [
              0.2222222222222222,
              "#7201a8"
             ],
             [
              0.3333333333333333,
              "#9c179e"
             ],
             [
              0.4444444444444444,
              "#bd3786"
             ],
             [
              0.5555555555555556,
              "#d8576b"
             ],
             [
              0.6666666666666666,
              "#ed7953"
             ],
             [
              0.7777777777777778,
              "#fb9f3a"
             ],
             [
              0.8888888888888888,
              "#fdca26"
             ],
             [
              1,
              "#f0f921"
             ]
            ],
            "type": "heatmap"
           }
          ],
          "heatmapgl": [
           {
            "colorbar": {
             "outlinewidth": 0,
             "ticks": ""
            },
            "colorscale": [
             [
              0,
              "#0d0887"
             ],
             [
              0.1111111111111111,
              "#46039f"
             ],
             [
              0.2222222222222222,
              "#7201a8"
             ],
             [
              0.3333333333333333,
              "#9c179e"
             ],
             [
              0.4444444444444444,
              "#bd3786"
             ],
             [
              0.5555555555555556,
              "#d8576b"
             ],
             [
              0.6666666666666666,
              "#ed7953"
             ],
             [
              0.7777777777777778,
              "#fb9f3a"
             ],
             [
              0.8888888888888888,
              "#fdca26"
             ],
             [
              1,
              "#f0f921"
             ]
            ],
            "type": "heatmapgl"
           }
          ],
          "histogram": [
           {
            "marker": {
             "pattern": {
              "fillmode": "overlay",
              "size": 10,
              "solidity": 0.2
             }
            },
            "type": "histogram"
           }
          ],
          "histogram2d": [
           {
            "colorbar": {
             "outlinewidth": 0,
             "ticks": ""
            },
            "colorscale": [
             [
              0,
              "#0d0887"
             ],
             [
              0.1111111111111111,
              "#46039f"
             ],
             [
              0.2222222222222222,
              "#7201a8"
             ],
             [
              0.3333333333333333,
              "#9c179e"
             ],
             [
              0.4444444444444444,
              "#bd3786"
             ],
             [
              0.5555555555555556,
              "#d8576b"
             ],
             [
              0.6666666666666666,
              "#ed7953"
             ],
             [
              0.7777777777777778,
              "#fb9f3a"
             ],
             [
              0.8888888888888888,
              "#fdca26"
             ],
             [
              1,
              "#f0f921"
             ]
            ],
            "type": "histogram2d"
           }
          ],
          "histogram2dcontour": [
           {
            "colorbar": {
             "outlinewidth": 0,
             "ticks": ""
            },
            "colorscale": [
             [
              0,
              "#0d0887"
             ],
             [
              0.1111111111111111,
              "#46039f"
             ],
             [
              0.2222222222222222,
              "#7201a8"
             ],
             [
              0.3333333333333333,
              "#9c179e"
             ],
             [
              0.4444444444444444,
              "#bd3786"
             ],
             [
              0.5555555555555556,
              "#d8576b"
             ],
             [
              0.6666666666666666,
              "#ed7953"
             ],
             [
              0.7777777777777778,
              "#fb9f3a"
             ],
             [
              0.8888888888888888,
              "#fdca26"
             ],
             [
              1,
              "#f0f921"
             ]
            ],
            "type": "histogram2dcontour"
           }
          ],
          "mesh3d": [
           {
            "colorbar": {
             "outlinewidth": 0,
             "ticks": ""
            },
            "type": "mesh3d"
           }
          ],
          "parcoords": [
           {
            "line": {
             "colorbar": {
              "outlinewidth": 0,
              "ticks": ""
             }
            },
            "type": "parcoords"
           }
          ],
          "pie": [
           {
            "automargin": true,
            "type": "pie"
           }
          ],
          "scatter": [
           {
            "fillpattern": {
             "fillmode": "overlay",
             "size": 10,
             "solidity": 0.2
            },
            "type": "scatter"
           }
          ],
          "scatter3d": [
           {
            "line": {
             "colorbar": {
              "outlinewidth": 0,
              "ticks": ""
             }
            },
            "marker": {
             "colorbar": {
              "outlinewidth": 0,
              "ticks": ""
             }
            },
            "type": "scatter3d"
           }
          ],
          "scattercarpet": [
           {
            "marker": {
             "colorbar": {
              "outlinewidth": 0,
              "ticks": ""
             }
            },
            "type": "scattercarpet"
           }
          ],
          "scattergeo": [
           {
            "marker": {
             "colorbar": {
              "outlinewidth": 0,
              "ticks": ""
             }
            },
            "type": "scattergeo"
           }
          ],
          "scattergl": [
           {
            "marker": {
             "colorbar": {
              "outlinewidth": 0,
              "ticks": ""
             }
            },
            "type": "scattergl"
           }
          ],
          "scattermapbox": [
           {
            "marker": {
             "colorbar": {
              "outlinewidth": 0,
              "ticks": ""
             }
            },
            "type": "scattermapbox"
           }
          ],
          "scatterpolar": [
           {
            "marker": {
             "colorbar": {
              "outlinewidth": 0,
              "ticks": ""
             }
            },
            "type": "scatterpolar"
           }
          ],
          "scatterpolargl": [
           {
            "marker": {
             "colorbar": {
              "outlinewidth": 0,
              "ticks": ""
             }
            },
            "type": "scatterpolargl"
           }
          ],
          "scatterternary": [
           {
            "marker": {
             "colorbar": {
              "outlinewidth": 0,
              "ticks": ""
             }
            },
            "type": "scatterternary"
           }
          ],
          "surface": [
           {
            "colorbar": {
             "outlinewidth": 0,
             "ticks": ""
            },
            "colorscale": [
             [
              0,
              "#0d0887"
             ],
             [
              0.1111111111111111,
              "#46039f"
             ],
             [
              0.2222222222222222,
              "#7201a8"
             ],
             [
              0.3333333333333333,
              "#9c179e"
             ],
             [
              0.4444444444444444,
              "#bd3786"
             ],
             [
              0.5555555555555556,
              "#d8576b"
             ],
             [
              0.6666666666666666,
              "#ed7953"
             ],
             [
              0.7777777777777778,
              "#fb9f3a"
             ],
             [
              0.8888888888888888,
              "#fdca26"
             ],
             [
              1,
              "#f0f921"
             ]
            ],
            "type": "surface"
           }
          ],
          "table": [
           {
            "cells": {
             "fill": {
              "color": "#EBF0F8"
             },
             "line": {
              "color": "white"
             }
            },
            "header": {
             "fill": {
              "color": "#C8D4E3"
             },
             "line": {
              "color": "white"
             }
            },
            "type": "table"
           }
          ]
         },
         "layout": {
          "annotationdefaults": {
           "arrowcolor": "#2a3f5f",
           "arrowhead": 0,
           "arrowwidth": 1
          },
          "autotypenumbers": "strict",
          "coloraxis": {
           "colorbar": {
            "outlinewidth": 0,
            "ticks": ""
           }
          },
          "colorscale": {
           "diverging": [
            [
             0,
             "#8e0152"
            ],
            [
             0.1,
             "#c51b7d"
            ],
            [
             0.2,
             "#de77ae"
            ],
            [
             0.3,
             "#f1b6da"
            ],
            [
             0.4,
             "#fde0ef"
            ],
            [
             0.5,
             "#f7f7f7"
            ],
            [
             0.6,
             "#e6f5d0"
            ],
            [
             0.7,
             "#b8e186"
            ],
            [
             0.8,
             "#7fbc41"
            ],
            [
             0.9,
             "#4d9221"
            ],
            [
             1,
             "#276419"
            ]
           ],
           "sequential": [
            [
             0,
             "#0d0887"
            ],
            [
             0.1111111111111111,
             "#46039f"
            ],
            [
             0.2222222222222222,
             "#7201a8"
            ],
            [
             0.3333333333333333,
             "#9c179e"
            ],
            [
             0.4444444444444444,
             "#bd3786"
            ],
            [
             0.5555555555555556,
             "#d8576b"
            ],
            [
             0.6666666666666666,
             "#ed7953"
            ],
            [
             0.7777777777777778,
             "#fb9f3a"
            ],
            [
             0.8888888888888888,
             "#fdca26"
            ],
            [
             1,
             "#f0f921"
            ]
           ],
           "sequentialminus": [
            [
             0,
             "#0d0887"
            ],
            [
             0.1111111111111111,
             "#46039f"
            ],
            [
             0.2222222222222222,
             "#7201a8"
            ],
            [
             0.3333333333333333,
             "#9c179e"
            ],
            [
             0.4444444444444444,
             "#bd3786"
            ],
            [
             0.5555555555555556,
             "#d8576b"
            ],
            [
             0.6666666666666666,
             "#ed7953"
            ],
            [
             0.7777777777777778,
             "#fb9f3a"
            ],
            [
             0.8888888888888888,
             "#fdca26"
            ],
            [
             1,
             "#f0f921"
            ]
           ]
          },
          "colorway": [
           "#636efa",
           "#EF553B",
           "#00cc96",
           "#ab63fa",
           "#FFA15A",
           "#19d3f3",
           "#FF6692",
           "#B6E880",
           "#FF97FF",
           "#FECB52"
          ],
          "font": {
           "color": "#2a3f5f"
          },
          "geo": {
           "bgcolor": "white",
           "lakecolor": "white",
           "landcolor": "#E5ECF6",
           "showlakes": true,
           "showland": true,
           "subunitcolor": "white"
          },
          "hoverlabel": {
           "align": "left"
          },
          "hovermode": "closest",
          "mapbox": {
           "style": "light"
          },
          "paper_bgcolor": "white",
          "plot_bgcolor": "#E5ECF6",
          "polar": {
           "angularaxis": {
            "gridcolor": "white",
            "linecolor": "white",
            "ticks": ""
           },
           "bgcolor": "#E5ECF6",
           "radialaxis": {
            "gridcolor": "white",
            "linecolor": "white",
            "ticks": ""
           }
          },
          "scene": {
           "xaxis": {
            "backgroundcolor": "#E5ECF6",
            "gridcolor": "white",
            "gridwidth": 2,
            "linecolor": "white",
            "showbackground": true,
            "ticks": "",
            "zerolinecolor": "white"
           },
           "yaxis": {
            "backgroundcolor": "#E5ECF6",
            "gridcolor": "white",
            "gridwidth": 2,
            "linecolor": "white",
            "showbackground": true,
            "ticks": "",
            "zerolinecolor": "white"
           },
           "zaxis": {
            "backgroundcolor": "#E5ECF6",
            "gridcolor": "white",
            "gridwidth": 2,
            "linecolor": "white",
            "showbackground": true,
            "ticks": "",
            "zerolinecolor": "white"
           }
          },
          "shapedefaults": {
           "line": {
            "color": "#2a3f5f"
           }
          },
          "ternary": {
           "aaxis": {
            "gridcolor": "white",
            "linecolor": "white",
            "ticks": ""
           },
           "baxis": {
            "gridcolor": "white",
            "linecolor": "white",
            "ticks": ""
           },
           "bgcolor": "#E5ECF6",
           "caxis": {
            "gridcolor": "white",
            "linecolor": "white",
            "ticks": ""
           }
          },
          "title": {
           "x": 0.05
          },
          "xaxis": {
           "automargin": true,
           "gridcolor": "white",
           "linecolor": "white",
           "ticks": "",
           "title": {
            "standoff": 15
           },
           "zerolinecolor": "white",
           "zerolinewidth": 2
          },
          "yaxis": {
           "automargin": true,
           "gridcolor": "white",
           "linecolor": "white",
           "ticks": "",
           "title": {
            "standoff": 15
           },
           "zerolinecolor": "white",
           "zerolinewidth": 2
          }
         }
        },
        "title": {
         "text": "<b style='font-size: 30px;'>Data Analyst Skills</b><br><i style='font-size: 20px;'>Salaries and Popularity</i>",
         "x": 0.1
        },
        "xaxis": {
         "anchor": "y",
         "domain": [
          0,
          1
         ],
         "title": {
          "text": "skill"
         }
        },
        "yaxis": {
         "anchor": "x",
         "domain": [
          0,
          1
         ],
         "title": {
          "text": "number_of_postings"
         }
        }
       }
      }
     },
     "metadata": {},
     "output_type": "display_data"
    }
   ],
   "source": [
    "# Plot it\n",
    "fig = px.bar(analysts_skills, x='skill', y='number_of_postings', color='avg_yearly_salary', color_continuous_scale='Blues')\n",
    "fig.update_traces(hovertemplate='Skill: %{x} <br> \\\n",
    "Postings: %{y} <br> Average Annual salary: %{color}<extra></extra>')\n",
    "fig.update_layout(\n",
    "    title_text=\"<b style='font-size: 30px;'>Data Analyst Skills</b><br><i style='font-size: 20px;'>Salaries and Popularity</i>\", \n",
    "    title_x=0.1, font_color=\"white\",\n",
    "    paper_bgcolor=\"#444444\", \n",
    "    coloraxis_colorbar=dict(title=\"Average Annual Salary\")\n",
    ")\n",
    "fig.show()\n"
   ]
  },
  {
   "cell_type": "markdown",
   "metadata": {},
   "source": [
    "### Top Skills (Data Scientist Only)"
   ]
  },
  {
   "cell_type": "code",
   "execution_count": null,
   "metadata": {},
   "outputs": [
    {
     "data": {
      "text/html": [
       "<div>\n",
       "<style scoped>\n",
       "    .dataframe tbody tr th:only-of-type {\n",
       "        vertical-align: middle;\n",
       "    }\n",
       "\n",
       "    .dataframe tbody tr th {\n",
       "        vertical-align: top;\n",
       "    }\n",
       "\n",
       "    .dataframe thead th {\n",
       "        text-align: right;\n",
       "    }\n",
       "</style>\n",
       "<table border=\"1\" class=\"dataframe\">\n",
       "  <thead>\n",
       "    <tr style=\"text-align: right;\">\n",
       "      <th></th>\n",
       "      <th>skill</th>\n",
       "      <th>number_of_postings</th>\n",
       "      <th>avg_yearly_salary</th>\n",
       "    </tr>\n",
       "  </thead>\n",
       "  <tbody>\n",
       "    <tr>\n",
       "      <th>0</th>\n",
       "      <td>python</td>\n",
       "      <td>1093</td>\n",
       "      <td>131438</td>\n",
       "    </tr>\n",
       "    <tr>\n",
       "      <th>1</th>\n",
       "      <td>sql</td>\n",
       "      <td>865</td>\n",
       "      <td>127272</td>\n",
       "    </tr>\n",
       "    <tr>\n",
       "      <th>2</th>\n",
       "      <td>r</td>\n",
       "      <td>655</td>\n",
       "      <td>127227</td>\n",
       "    </tr>\n",
       "    <tr>\n",
       "      <th>3</th>\n",
       "      <td>predictive</td>\n",
       "      <td>499</td>\n",
       "      <td>130971</td>\n",
       "    </tr>\n",
       "    <tr>\n",
       "      <th>4</th>\n",
       "      <td>tableau</td>\n",
       "      <td>370</td>\n",
       "      <td>121931</td>\n",
       "    </tr>\n",
       "    <tr>\n",
       "      <th>5</th>\n",
       "      <td>power_bi</td>\n",
       "      <td>261</td>\n",
       "      <td>114645</td>\n",
       "    </tr>\n",
       "    <tr>\n",
       "      <th>6</th>\n",
       "      <td>excel</td>\n",
       "      <td>232</td>\n",
       "      <td>98708</td>\n",
       "    </tr>\n",
       "    <tr>\n",
       "      <th>7</th>\n",
       "      <td>aws</td>\n",
       "      <td>215</td>\n",
       "      <td>130288</td>\n",
       "    </tr>\n",
       "    <tr>\n",
       "      <th>8</th>\n",
       "      <td>regression</td>\n",
       "      <td>201</td>\n",
       "      <td>137232</td>\n",
       "    </tr>\n",
       "    <tr>\n",
       "      <th>9</th>\n",
       "      <td>sas</td>\n",
       "      <td>173</td>\n",
       "      <td>123004</td>\n",
       "    </tr>\n",
       "  </tbody>\n",
       "</table>\n",
       "</div>"
      ],
      "text/plain": [
       "        skill  number_of_postings  avg_yearly_salary\n",
       "0      python                1093             131438\n",
       "1         sql                 865             127272\n",
       "2           r                 655             127227\n",
       "3  predictive                 499             130971\n",
       "4     tableau                 370             121931\n",
       "5    power_bi                 261             114645\n",
       "6       excel                 232              98708\n",
       "7         aws                 215             130288\n",
       "8  regression                 201             137232\n",
       "9         sas                 173             123004"
      ]
     },
     "execution_count": 104,
     "metadata": {},
     "output_type": "execute_result"
    }
   ],
   "source": [
    "# Make a scientist only df\n",
    "scientists = jobs_df_cleaned[jobs_df_cleaned['title_cleaned'] == 'Data Scientist']\n",
    "\n",
    "scientists_skills = get_top_skills(scientists, 10)\n",
    "\n",
    "# Sort by number of postings\n",
    "scientists_skills.sort_values(by='number_of_postings', ascending=False, inplace=True)\n",
    "\n",
    "scientists_skills"
   ]
  },
  {
   "cell_type": "code",
   "execution_count": null,
   "metadata": {},
   "outputs": [
    {
     "data": {
      "application/vnd.plotly.v1+json": {
       "config": {
        "plotlyServerURL": "https://plot.ly"
       },
       "data": [
        {
         "alignmentgroup": "True",
         "hovertemplate": "Skill: %{x} <br> Postings: %{y} <br> Average Annual salary: %{color}<extra></extra>",
         "legendgroup": "",
         "marker": {
          "color": [
           131438,
           127272,
           127227,
           130971,
           121931,
           114645,
           98708,
           130288,
           137232,
           123004
          ],
          "coloraxis": "coloraxis",
          "pattern": {
           "shape": ""
          }
         },
         "name": "",
         "offsetgroup": "",
         "orientation": "v",
         "showlegend": false,
         "textposition": "auto",
         "type": "bar",
         "x": [
          "python",
          "sql",
          "r",
          "predictive",
          "tableau",
          "power_bi",
          "excel",
          "aws",
          "regression",
          "sas"
         ],
         "xaxis": "x",
         "y": [
          1093,
          865,
          655,
          499,
          370,
          261,
          232,
          215,
          201,
          173
         ],
         "yaxis": "y"
        }
       ],
       "layout": {
        "barmode": "relative",
        "coloraxis": {
         "colorbar": {
          "title": {
           "text": "Average Annual Salary"
          }
         },
         "colorscale": [
          [
           0,
           "rgb(247,251,255)"
          ],
          [
           0.125,
           "rgb(222,235,247)"
          ],
          [
           0.25,
           "rgb(198,219,239)"
          ],
          [
           0.375,
           "rgb(158,202,225)"
          ],
          [
           0.5,
           "rgb(107,174,214)"
          ],
          [
           0.625,
           "rgb(66,146,198)"
          ],
          [
           0.75,
           "rgb(33,113,181)"
          ],
          [
           0.875,
           "rgb(8,81,156)"
          ],
          [
           1,
           "rgb(8,48,107)"
          ]
         ]
        },
        "font": {
         "color": "white"
        },
        "legend": {
         "tracegroupgap": 0
        },
        "margin": {
         "t": 60
        },
        "paper_bgcolor": "#444444",
        "template": {
         "data": {
          "bar": [
           {
            "error_x": {
             "color": "#2a3f5f"
            },
            "error_y": {
             "color": "#2a3f5f"
            },
            "marker": {
             "line": {
              "color": "#E5ECF6",
              "width": 0.5
             },
             "pattern": {
              "fillmode": "overlay",
              "size": 10,
              "solidity": 0.2
             }
            },
            "type": "bar"
           }
          ],
          "barpolar": [
           {
            "marker": {
             "line": {
              "color": "#E5ECF6",
              "width": 0.5
             },
             "pattern": {
              "fillmode": "overlay",
              "size": 10,
              "solidity": 0.2
             }
            },
            "type": "barpolar"
           }
          ],
          "carpet": [
           {
            "aaxis": {
             "endlinecolor": "#2a3f5f",
             "gridcolor": "white",
             "linecolor": "white",
             "minorgridcolor": "white",
             "startlinecolor": "#2a3f5f"
            },
            "baxis": {
             "endlinecolor": "#2a3f5f",
             "gridcolor": "white",
             "linecolor": "white",
             "minorgridcolor": "white",
             "startlinecolor": "#2a3f5f"
            },
            "type": "carpet"
           }
          ],
          "choropleth": [
           {
            "colorbar": {
             "outlinewidth": 0,
             "ticks": ""
            },
            "type": "choropleth"
           }
          ],
          "contour": [
           {
            "colorbar": {
             "outlinewidth": 0,
             "ticks": ""
            },
            "colorscale": [
             [
              0,
              "#0d0887"
             ],
             [
              0.1111111111111111,
              "#46039f"
             ],
             [
              0.2222222222222222,
              "#7201a8"
             ],
             [
              0.3333333333333333,
              "#9c179e"
             ],
             [
              0.4444444444444444,
              "#bd3786"
             ],
             [
              0.5555555555555556,
              "#d8576b"
             ],
             [
              0.6666666666666666,
              "#ed7953"
             ],
             [
              0.7777777777777778,
              "#fb9f3a"
             ],
             [
              0.8888888888888888,
              "#fdca26"
             ],
             [
              1,
              "#f0f921"
             ]
            ],
            "type": "contour"
           }
          ],
          "contourcarpet": [
           {
            "colorbar": {
             "outlinewidth": 0,
             "ticks": ""
            },
            "type": "contourcarpet"
           }
          ],
          "heatmap": [
           {
            "colorbar": {
             "outlinewidth": 0,
             "ticks": ""
            },
            "colorscale": [
             [
              0,
              "#0d0887"
             ],
             [
              0.1111111111111111,
              "#46039f"
             ],
             [
              0.2222222222222222,
              "#7201a8"
             ],
             [
              0.3333333333333333,
              "#9c179e"
             ],
             [
              0.4444444444444444,
              "#bd3786"
             ],
             [
              0.5555555555555556,
              "#d8576b"
             ],
             [
              0.6666666666666666,
              "#ed7953"
             ],
             [
              0.7777777777777778,
              "#fb9f3a"
             ],
             [
              0.8888888888888888,
              "#fdca26"
             ],
             [
              1,
              "#f0f921"
             ]
            ],
            "type": "heatmap"
           }
          ],
          "heatmapgl": [
           {
            "colorbar": {
             "outlinewidth": 0,
             "ticks": ""
            },
            "colorscale": [
             [
              0,
              "#0d0887"
             ],
             [
              0.1111111111111111,
              "#46039f"
             ],
             [
              0.2222222222222222,
              "#7201a8"
             ],
             [
              0.3333333333333333,
              "#9c179e"
             ],
             [
              0.4444444444444444,
              "#bd3786"
             ],
             [
              0.5555555555555556,
              "#d8576b"
             ],
             [
              0.6666666666666666,
              "#ed7953"
             ],
             [
              0.7777777777777778,
              "#fb9f3a"
             ],
             [
              0.8888888888888888,
              "#fdca26"
             ],
             [
              1,
              "#f0f921"
             ]
            ],
            "type": "heatmapgl"
           }
          ],
          "histogram": [
           {
            "marker": {
             "pattern": {
              "fillmode": "overlay",
              "size": 10,
              "solidity": 0.2
             }
            },
            "type": "histogram"
           }
          ],
          "histogram2d": [
           {
            "colorbar": {
             "outlinewidth": 0,
             "ticks": ""
            },
            "colorscale": [
             [
              0,
              "#0d0887"
             ],
             [
              0.1111111111111111,
              "#46039f"
             ],
             [
              0.2222222222222222,
              "#7201a8"
             ],
             [
              0.3333333333333333,
              "#9c179e"
             ],
             [
              0.4444444444444444,
              "#bd3786"
             ],
             [
              0.5555555555555556,
              "#d8576b"
             ],
             [
              0.6666666666666666,
              "#ed7953"
             ],
             [
              0.7777777777777778,
              "#fb9f3a"
             ],
             [
              0.8888888888888888,
              "#fdca26"
             ],
             [
              1,
              "#f0f921"
             ]
            ],
            "type": "histogram2d"
           }
          ],
          "histogram2dcontour": [
           {
            "colorbar": {
             "outlinewidth": 0,
             "ticks": ""
            },
            "colorscale": [
             [
              0,
              "#0d0887"
             ],
             [
              0.1111111111111111,
              "#46039f"
             ],
             [
              0.2222222222222222,
              "#7201a8"
             ],
             [
              0.3333333333333333,
              "#9c179e"
             ],
             [
              0.4444444444444444,
              "#bd3786"
             ],
             [
              0.5555555555555556,
              "#d8576b"
             ],
             [
              0.6666666666666666,
              "#ed7953"
             ],
             [
              0.7777777777777778,
              "#fb9f3a"
             ],
             [
              0.8888888888888888,
              "#fdca26"
             ],
             [
              1,
              "#f0f921"
             ]
            ],
            "type": "histogram2dcontour"
           }
          ],
          "mesh3d": [
           {
            "colorbar": {
             "outlinewidth": 0,
             "ticks": ""
            },
            "type": "mesh3d"
           }
          ],
          "parcoords": [
           {
            "line": {
             "colorbar": {
              "outlinewidth": 0,
              "ticks": ""
             }
            },
            "type": "parcoords"
           }
          ],
          "pie": [
           {
            "automargin": true,
            "type": "pie"
           }
          ],
          "scatter": [
           {
            "fillpattern": {
             "fillmode": "overlay",
             "size": 10,
             "solidity": 0.2
            },
            "type": "scatter"
           }
          ],
          "scatter3d": [
           {
            "line": {
             "colorbar": {
              "outlinewidth": 0,
              "ticks": ""
             }
            },
            "marker": {
             "colorbar": {
              "outlinewidth": 0,
              "ticks": ""
             }
            },
            "type": "scatter3d"
           }
          ],
          "scattercarpet": [
           {
            "marker": {
             "colorbar": {
              "outlinewidth": 0,
              "ticks": ""
             }
            },
            "type": "scattercarpet"
           }
          ],
          "scattergeo": [
           {
            "marker": {
             "colorbar": {
              "outlinewidth": 0,
              "ticks": ""
             }
            },
            "type": "scattergeo"
           }
          ],
          "scattergl": [
           {
            "marker": {
             "colorbar": {
              "outlinewidth": 0,
              "ticks": ""
             }
            },
            "type": "scattergl"
           }
          ],
          "scattermapbox": [
           {
            "marker": {
             "colorbar": {
              "outlinewidth": 0,
              "ticks": ""
             }
            },
            "type": "scattermapbox"
           }
          ],
          "scatterpolar": [
           {
            "marker": {
             "colorbar": {
              "outlinewidth": 0,
              "ticks": ""
             }
            },
            "type": "scatterpolar"
           }
          ],
          "scatterpolargl": [
           {
            "marker": {
             "colorbar": {
              "outlinewidth": 0,
              "ticks": ""
             }
            },
            "type": "scatterpolargl"
           }
          ],
          "scatterternary": [
           {
            "marker": {
             "colorbar": {
              "outlinewidth": 0,
              "ticks": ""
             }
            },
            "type": "scatterternary"
           }
          ],
          "surface": [
           {
            "colorbar": {
             "outlinewidth": 0,
             "ticks": ""
            },
            "colorscale": [
             [
              0,
              "#0d0887"
             ],
             [
              0.1111111111111111,
              "#46039f"
             ],
             [
              0.2222222222222222,
              "#7201a8"
             ],
             [
              0.3333333333333333,
              "#9c179e"
             ],
             [
              0.4444444444444444,
              "#bd3786"
             ],
             [
              0.5555555555555556,
              "#d8576b"
             ],
             [
              0.6666666666666666,
              "#ed7953"
             ],
             [
              0.7777777777777778,
              "#fb9f3a"
             ],
             [
              0.8888888888888888,
              "#fdca26"
             ],
             [
              1,
              "#f0f921"
             ]
            ],
            "type": "surface"
           }
          ],
          "table": [
           {
            "cells": {
             "fill": {
              "color": "#EBF0F8"
             },
             "line": {
              "color": "white"
             }
            },
            "header": {
             "fill": {
              "color": "#C8D4E3"
             },
             "line": {
              "color": "white"
             }
            },
            "type": "table"
           }
          ]
         },
         "layout": {
          "annotationdefaults": {
           "arrowcolor": "#2a3f5f",
           "arrowhead": 0,
           "arrowwidth": 1
          },
          "autotypenumbers": "strict",
          "coloraxis": {
           "colorbar": {
            "outlinewidth": 0,
            "ticks": ""
           }
          },
          "colorscale": {
           "diverging": [
            [
             0,
             "#8e0152"
            ],
            [
             0.1,
             "#c51b7d"
            ],
            [
             0.2,
             "#de77ae"
            ],
            [
             0.3,
             "#f1b6da"
            ],
            [
             0.4,
             "#fde0ef"
            ],
            [
             0.5,
             "#f7f7f7"
            ],
            [
             0.6,
             "#e6f5d0"
            ],
            [
             0.7,
             "#b8e186"
            ],
            [
             0.8,
             "#7fbc41"
            ],
            [
             0.9,
             "#4d9221"
            ],
            [
             1,
             "#276419"
            ]
           ],
           "sequential": [
            [
             0,
             "#0d0887"
            ],
            [
             0.1111111111111111,
             "#46039f"
            ],
            [
             0.2222222222222222,
             "#7201a8"
            ],
            [
             0.3333333333333333,
             "#9c179e"
            ],
            [
             0.4444444444444444,
             "#bd3786"
            ],
            [
             0.5555555555555556,
             "#d8576b"
            ],
            [
             0.6666666666666666,
             "#ed7953"
            ],
            [
             0.7777777777777778,
             "#fb9f3a"
            ],
            [
             0.8888888888888888,
             "#fdca26"
            ],
            [
             1,
             "#f0f921"
            ]
           ],
           "sequentialminus": [
            [
             0,
             "#0d0887"
            ],
            [
             0.1111111111111111,
             "#46039f"
            ],
            [
             0.2222222222222222,
             "#7201a8"
            ],
            [
             0.3333333333333333,
             "#9c179e"
            ],
            [
             0.4444444444444444,
             "#bd3786"
            ],
            [
             0.5555555555555556,
             "#d8576b"
            ],
            [
             0.6666666666666666,
             "#ed7953"
            ],
            [
             0.7777777777777778,
             "#fb9f3a"
            ],
            [
             0.8888888888888888,
             "#fdca26"
            ],
            [
             1,
             "#f0f921"
            ]
           ]
          },
          "colorway": [
           "#636efa",
           "#EF553B",
           "#00cc96",
           "#ab63fa",
           "#FFA15A",
           "#19d3f3",
           "#FF6692",
           "#B6E880",
           "#FF97FF",
           "#FECB52"
          ],
          "font": {
           "color": "#2a3f5f"
          },
          "geo": {
           "bgcolor": "white",
           "lakecolor": "white",
           "landcolor": "#E5ECF6",
           "showlakes": true,
           "showland": true,
           "subunitcolor": "white"
          },
          "hoverlabel": {
           "align": "left"
          },
          "hovermode": "closest",
          "mapbox": {
           "style": "light"
          },
          "paper_bgcolor": "white",
          "plot_bgcolor": "#E5ECF6",
          "polar": {
           "angularaxis": {
            "gridcolor": "white",
            "linecolor": "white",
            "ticks": ""
           },
           "bgcolor": "#E5ECF6",
           "radialaxis": {
            "gridcolor": "white",
            "linecolor": "white",
            "ticks": ""
           }
          },
          "scene": {
           "xaxis": {
            "backgroundcolor": "#E5ECF6",
            "gridcolor": "white",
            "gridwidth": 2,
            "linecolor": "white",
            "showbackground": true,
            "ticks": "",
            "zerolinecolor": "white"
           },
           "yaxis": {
            "backgroundcolor": "#E5ECF6",
            "gridcolor": "white",
            "gridwidth": 2,
            "linecolor": "white",
            "showbackground": true,
            "ticks": "",
            "zerolinecolor": "white"
           },
           "zaxis": {
            "backgroundcolor": "#E5ECF6",
            "gridcolor": "white",
            "gridwidth": 2,
            "linecolor": "white",
            "showbackground": true,
            "ticks": "",
            "zerolinecolor": "white"
           }
          },
          "shapedefaults": {
           "line": {
            "color": "#2a3f5f"
           }
          },
          "ternary": {
           "aaxis": {
            "gridcolor": "white",
            "linecolor": "white",
            "ticks": ""
           },
           "baxis": {
            "gridcolor": "white",
            "linecolor": "white",
            "ticks": ""
           },
           "bgcolor": "#E5ECF6",
           "caxis": {
            "gridcolor": "white",
            "linecolor": "white",
            "ticks": ""
           }
          },
          "title": {
           "x": 0.05
          },
          "xaxis": {
           "automargin": true,
           "gridcolor": "white",
           "linecolor": "white",
           "ticks": "",
           "title": {
            "standoff": 15
           },
           "zerolinecolor": "white",
           "zerolinewidth": 2
          },
          "yaxis": {
           "automargin": true,
           "gridcolor": "white",
           "linecolor": "white",
           "ticks": "",
           "title": {
            "standoff": 15
           },
           "zerolinecolor": "white",
           "zerolinewidth": 2
          }
         }
        },
        "title": {
         "text": "<b style='font-size: 30px;'>Data Scientist Skills</b><br><i style='font-size: 20px;'>Salaries and Popularity</i>",
         "x": 0.1
        },
        "xaxis": {
         "anchor": "y",
         "domain": [
          0,
          1
         ],
         "title": {
          "text": "skill"
         }
        },
        "yaxis": {
         "anchor": "x",
         "domain": [
          0,
          1
         ],
         "title": {
          "text": "number_of_postings"
         }
        }
       }
      }
     },
     "metadata": {},
     "output_type": "display_data"
    }
   ],
   "source": [
    "# Plot it\n",
    "fig = px.bar(scientists_skills, x='skill', y='number_of_postings', color='avg_yearly_salary', color_continuous_scale='Blues')\n",
    "fig.update_traces(hovertemplate='Skill: %{x} <br> \\\n",
    "Postings: %{y} <br> Average Annual salary: %{color}<extra></extra>')\n",
    "fig.update_layout(\n",
    "    title_text=\"<b style='font-size: 30px;'>Data Scientist Skills</b><br><i style='font-size: 20px;'>Salaries and Popularity</i>\", \n",
    "    title_x=0.1, font_color=\"white\",\n",
    "    paper_bgcolor=\"#444444\", \n",
    "    coloraxis_colorbar=dict(title=\"Average Annual Salary\")\n",
    ")\n",
    "fig.show()"
   ]
  },
  {
   "cell_type": "markdown",
   "metadata": {},
   "source": [
    "### Top Skills (Data Engineer Only)"
   ]
  },
  {
   "cell_type": "code",
   "execution_count": null,
   "metadata": {},
   "outputs": [
    {
     "data": {
      "text/html": [
       "<div>\n",
       "<style scoped>\n",
       "    .dataframe tbody tr th:only-of-type {\n",
       "        vertical-align: middle;\n",
       "    }\n",
       "\n",
       "    .dataframe tbody tr th {\n",
       "        vertical-align: top;\n",
       "    }\n",
       "\n",
       "    .dataframe thead th {\n",
       "        text-align: right;\n",
       "    }\n",
       "</style>\n",
       "<table border=\"1\" class=\"dataframe\">\n",
       "  <thead>\n",
       "    <tr style=\"text-align: right;\">\n",
       "      <th></th>\n",
       "      <th>skill</th>\n",
       "      <th>number_of_postings</th>\n",
       "      <th>avg_yearly_salary</th>\n",
       "    </tr>\n",
       "  </thead>\n",
       "  <tbody>\n",
       "    <tr>\n",
       "      <th>0</th>\n",
       "      <td>sql</td>\n",
       "      <td>639</td>\n",
       "      <td>124958</td>\n",
       "    </tr>\n",
       "    <tr>\n",
       "      <th>1</th>\n",
       "      <td>python</td>\n",
       "      <td>512</td>\n",
       "      <td>137258</td>\n",
       "    </tr>\n",
       "    <tr>\n",
       "      <th>2</th>\n",
       "      <td>aws</td>\n",
       "      <td>289</td>\n",
       "      <td>132162</td>\n",
       "    </tr>\n",
       "    <tr>\n",
       "      <th>3</th>\n",
       "      <td>azure</td>\n",
       "      <td>234</td>\n",
       "      <td>130665</td>\n",
       "    </tr>\n",
       "    <tr>\n",
       "      <th>4</th>\n",
       "      <td>tableau</td>\n",
       "      <td>206</td>\n",
       "      <td>102044</td>\n",
       "    </tr>\n",
       "    <tr>\n",
       "      <th>5</th>\n",
       "      <td>power_bi</td>\n",
       "      <td>199</td>\n",
       "      <td>105611</td>\n",
       "    </tr>\n",
       "    <tr>\n",
       "      <th>6</th>\n",
       "      <td>snowflake</td>\n",
       "      <td>185</td>\n",
       "      <td>135338</td>\n",
       "    </tr>\n",
       "    <tr>\n",
       "      <th>7</th>\n",
       "      <td>excel</td>\n",
       "      <td>134</td>\n",
       "      <td>126245</td>\n",
       "    </tr>\n",
       "    <tr>\n",
       "      <th>8</th>\n",
       "      <td>r</td>\n",
       "      <td>133</td>\n",
       "      <td>131508</td>\n",
       "    </tr>\n",
       "    <tr>\n",
       "      <th>9</th>\n",
       "      <td>java</td>\n",
       "      <td>123</td>\n",
       "      <td>168612</td>\n",
       "    </tr>\n",
       "  </tbody>\n",
       "</table>\n",
       "</div>"
      ],
      "text/plain": [
       "       skill  number_of_postings  avg_yearly_salary\n",
       "0        sql                 639             124958\n",
       "1     python                 512             137258\n",
       "2        aws                 289             132162\n",
       "3      azure                 234             130665\n",
       "4    tableau                 206             102044\n",
       "5   power_bi                 199             105611\n",
       "6  snowflake                 185             135338\n",
       "7      excel                 134             126245\n",
       "8          r                 133             131508\n",
       "9       java                 123             168612"
      ]
     },
     "execution_count": 106,
     "metadata": {},
     "output_type": "execute_result"
    }
   ],
   "source": [
    "# Make a Data Engineer only df\n",
    "engineers = jobs_df_cleaned[jobs_df_cleaned['title_cleaned'] == 'Data Engineer']\n",
    "\n",
    "engineers_skills = get_top_skills(engineers, 10)\n",
    "\n",
    "# Sort by number of postings\n",
    "engineers_skills.sort_values(by='number_of_postings', ascending=False, inplace=True)\n",
    "\n",
    "engineers_skills"
   ]
  },
  {
   "cell_type": "code",
   "execution_count": null,
   "metadata": {},
   "outputs": [
    {
     "data": {
      "application/vnd.plotly.v1+json": {
       "config": {
        "plotlyServerURL": "https://plot.ly"
       },
       "data": [
        {
         "alignmentgroup": "True",
         "hovertemplate": "Skill: %{x} <br> Postings: %{y} <br> Average Annual salary: %{color}<extra></extra>",
         "legendgroup": "",
         "marker": {
          "color": [
           124958,
           137258,
           132162,
           130665,
           102044,
           105611,
           135338,
           126245,
           131508,
           168612
          ],
          "coloraxis": "coloraxis",
          "pattern": {
           "shape": ""
          }
         },
         "name": "",
         "offsetgroup": "",
         "orientation": "v",
         "showlegend": false,
         "textposition": "auto",
         "type": "bar",
         "x": [
          "sql",
          "python",
          "aws",
          "azure",
          "tableau",
          "power_bi",
          "snowflake",
          "excel",
          "r",
          "java"
         ],
         "xaxis": "x",
         "y": [
          639,
          512,
          289,
          234,
          206,
          199,
          185,
          134,
          133,
          123
         ],
         "yaxis": "y"
        }
       ],
       "layout": {
        "barmode": "relative",
        "coloraxis": {
         "colorbar": {
          "title": {
           "text": "Average Annual Salary"
          }
         },
         "colorscale": [
          [
           0,
           "rgb(247,251,255)"
          ],
          [
           0.125,
           "rgb(222,235,247)"
          ],
          [
           0.25,
           "rgb(198,219,239)"
          ],
          [
           0.375,
           "rgb(158,202,225)"
          ],
          [
           0.5,
           "rgb(107,174,214)"
          ],
          [
           0.625,
           "rgb(66,146,198)"
          ],
          [
           0.75,
           "rgb(33,113,181)"
          ],
          [
           0.875,
           "rgb(8,81,156)"
          ],
          [
           1,
           "rgb(8,48,107)"
          ]
         ]
        },
        "font": {
         "color": "white"
        },
        "legend": {
         "tracegroupgap": 0
        },
        "margin": {
         "t": 60
        },
        "paper_bgcolor": "#444444",
        "template": {
         "data": {
          "bar": [
           {
            "error_x": {
             "color": "#2a3f5f"
            },
            "error_y": {
             "color": "#2a3f5f"
            },
            "marker": {
             "line": {
              "color": "#E5ECF6",
              "width": 0.5
             },
             "pattern": {
              "fillmode": "overlay",
              "size": 10,
              "solidity": 0.2
             }
            },
            "type": "bar"
           }
          ],
          "barpolar": [
           {
            "marker": {
             "line": {
              "color": "#E5ECF6",
              "width": 0.5
             },
             "pattern": {
              "fillmode": "overlay",
              "size": 10,
              "solidity": 0.2
             }
            },
            "type": "barpolar"
           }
          ],
          "carpet": [
           {
            "aaxis": {
             "endlinecolor": "#2a3f5f",
             "gridcolor": "white",
             "linecolor": "white",
             "minorgridcolor": "white",
             "startlinecolor": "#2a3f5f"
            },
            "baxis": {
             "endlinecolor": "#2a3f5f",
             "gridcolor": "white",
             "linecolor": "white",
             "minorgridcolor": "white",
             "startlinecolor": "#2a3f5f"
            },
            "type": "carpet"
           }
          ],
          "choropleth": [
           {
            "colorbar": {
             "outlinewidth": 0,
             "ticks": ""
            },
            "type": "choropleth"
           }
          ],
          "contour": [
           {
            "colorbar": {
             "outlinewidth": 0,
             "ticks": ""
            },
            "colorscale": [
             [
              0,
              "#0d0887"
             ],
             [
              0.1111111111111111,
              "#46039f"
             ],
             [
              0.2222222222222222,
              "#7201a8"
             ],
             [
              0.3333333333333333,
              "#9c179e"
             ],
             [
              0.4444444444444444,
              "#bd3786"
             ],
             [
              0.5555555555555556,
              "#d8576b"
             ],
             [
              0.6666666666666666,
              "#ed7953"
             ],
             [
              0.7777777777777778,
              "#fb9f3a"
             ],
             [
              0.8888888888888888,
              "#fdca26"
             ],
             [
              1,
              "#f0f921"
             ]
            ],
            "type": "contour"
           }
          ],
          "contourcarpet": [
           {
            "colorbar": {
             "outlinewidth": 0,
             "ticks": ""
            },
            "type": "contourcarpet"
           }
          ],
          "heatmap": [
           {
            "colorbar": {
             "outlinewidth": 0,
             "ticks": ""
            },
            "colorscale": [
             [
              0,
              "#0d0887"
             ],
             [
              0.1111111111111111,
              "#46039f"
             ],
             [
              0.2222222222222222,
              "#7201a8"
             ],
             [
              0.3333333333333333,
              "#9c179e"
             ],
             [
              0.4444444444444444,
              "#bd3786"
             ],
             [
              0.5555555555555556,
              "#d8576b"
             ],
             [
              0.6666666666666666,
              "#ed7953"
             ],
             [
              0.7777777777777778,
              "#fb9f3a"
             ],
             [
              0.8888888888888888,
              "#fdca26"
             ],
             [
              1,
              "#f0f921"
             ]
            ],
            "type": "heatmap"
           }
          ],
          "heatmapgl": [
           {
            "colorbar": {
             "outlinewidth": 0,
             "ticks": ""
            },
            "colorscale": [
             [
              0,
              "#0d0887"
             ],
             [
              0.1111111111111111,
              "#46039f"
             ],
             [
              0.2222222222222222,
              "#7201a8"
             ],
             [
              0.3333333333333333,
              "#9c179e"
             ],
             [
              0.4444444444444444,
              "#bd3786"
             ],
             [
              0.5555555555555556,
              "#d8576b"
             ],
             [
              0.6666666666666666,
              "#ed7953"
             ],
             [
              0.7777777777777778,
              "#fb9f3a"
             ],
             [
              0.8888888888888888,
              "#fdca26"
             ],
             [
              1,
              "#f0f921"
             ]
            ],
            "type": "heatmapgl"
           }
          ],
          "histogram": [
           {
            "marker": {
             "pattern": {
              "fillmode": "overlay",
              "size": 10,
              "solidity": 0.2
             }
            },
            "type": "histogram"
           }
          ],
          "histogram2d": [
           {
            "colorbar": {
             "outlinewidth": 0,
             "ticks": ""
            },
            "colorscale": [
             [
              0,
              "#0d0887"
             ],
             [
              0.1111111111111111,
              "#46039f"
             ],
             [
              0.2222222222222222,
              "#7201a8"
             ],
             [
              0.3333333333333333,
              "#9c179e"
             ],
             [
              0.4444444444444444,
              "#bd3786"
             ],
             [
              0.5555555555555556,
              "#d8576b"
             ],
             [
              0.6666666666666666,
              "#ed7953"
             ],
             [
              0.7777777777777778,
              "#fb9f3a"
             ],
             [
              0.8888888888888888,
              "#fdca26"
             ],
             [
              1,
              "#f0f921"
             ]
            ],
            "type": "histogram2d"
           }
          ],
          "histogram2dcontour": [
           {
            "colorbar": {
             "outlinewidth": 0,
             "ticks": ""
            },
            "colorscale": [
             [
              0,
              "#0d0887"
             ],
             [
              0.1111111111111111,
              "#46039f"
             ],
             [
              0.2222222222222222,
              "#7201a8"
             ],
             [
              0.3333333333333333,
              "#9c179e"
             ],
             [
              0.4444444444444444,
              "#bd3786"
             ],
             [
              0.5555555555555556,
              "#d8576b"
             ],
             [
              0.6666666666666666,
              "#ed7953"
             ],
             [
              0.7777777777777778,
              "#fb9f3a"
             ],
             [
              0.8888888888888888,
              "#fdca26"
             ],
             [
              1,
              "#f0f921"
             ]
            ],
            "type": "histogram2dcontour"
           }
          ],
          "mesh3d": [
           {
            "colorbar": {
             "outlinewidth": 0,
             "ticks": ""
            },
            "type": "mesh3d"
           }
          ],
          "parcoords": [
           {
            "line": {
             "colorbar": {
              "outlinewidth": 0,
              "ticks": ""
             }
            },
            "type": "parcoords"
           }
          ],
          "pie": [
           {
            "automargin": true,
            "type": "pie"
           }
          ],
          "scatter": [
           {
            "fillpattern": {
             "fillmode": "overlay",
             "size": 10,
             "solidity": 0.2
            },
            "type": "scatter"
           }
          ],
          "scatter3d": [
           {
            "line": {
             "colorbar": {
              "outlinewidth": 0,
              "ticks": ""
             }
            },
            "marker": {
             "colorbar": {
              "outlinewidth": 0,
              "ticks": ""
             }
            },
            "type": "scatter3d"
           }
          ],
          "scattercarpet": [
           {
            "marker": {
             "colorbar": {
              "outlinewidth": 0,
              "ticks": ""
             }
            },
            "type": "scattercarpet"
           }
          ],
          "scattergeo": [
           {
            "marker": {
             "colorbar": {
              "outlinewidth": 0,
              "ticks": ""
             }
            },
            "type": "scattergeo"
           }
          ],
          "scattergl": [
           {
            "marker": {
             "colorbar": {
              "outlinewidth": 0,
              "ticks": ""
             }
            },
            "type": "scattergl"
           }
          ],
          "scattermapbox": [
           {
            "marker": {
             "colorbar": {
              "outlinewidth": 0,
              "ticks": ""
             }
            },
            "type": "scattermapbox"
           }
          ],
          "scatterpolar": [
           {
            "marker": {
             "colorbar": {
              "outlinewidth": 0,
              "ticks": ""
             }
            },
            "type": "scatterpolar"
           }
          ],
          "scatterpolargl": [
           {
            "marker": {
             "colorbar": {
              "outlinewidth": 0,
              "ticks": ""
             }
            },
            "type": "scatterpolargl"
           }
          ],
          "scatterternary": [
           {
            "marker": {
             "colorbar": {
              "outlinewidth": 0,
              "ticks": ""
             }
            },
            "type": "scatterternary"
           }
          ],
          "surface": [
           {
            "colorbar": {
             "outlinewidth": 0,
             "ticks": ""
            },
            "colorscale": [
             [
              0,
              "#0d0887"
             ],
             [
              0.1111111111111111,
              "#46039f"
             ],
             [
              0.2222222222222222,
              "#7201a8"
             ],
             [
              0.3333333333333333,
              "#9c179e"
             ],
             [
              0.4444444444444444,
              "#bd3786"
             ],
             [
              0.5555555555555556,
              "#d8576b"
             ],
             [
              0.6666666666666666,
              "#ed7953"
             ],
             [
              0.7777777777777778,
              "#fb9f3a"
             ],
             [
              0.8888888888888888,
              "#fdca26"
             ],
             [
              1,
              "#f0f921"
             ]
            ],
            "type": "surface"
           }
          ],
          "table": [
           {
            "cells": {
             "fill": {
              "color": "#EBF0F8"
             },
             "line": {
              "color": "white"
             }
            },
            "header": {
             "fill": {
              "color": "#C8D4E3"
             },
             "line": {
              "color": "white"
             }
            },
            "type": "table"
           }
          ]
         },
         "layout": {
          "annotationdefaults": {
           "arrowcolor": "#2a3f5f",
           "arrowhead": 0,
           "arrowwidth": 1
          },
          "autotypenumbers": "strict",
          "coloraxis": {
           "colorbar": {
            "outlinewidth": 0,
            "ticks": ""
           }
          },
          "colorscale": {
           "diverging": [
            [
             0,
             "#8e0152"
            ],
            [
             0.1,
             "#c51b7d"
            ],
            [
             0.2,
             "#de77ae"
            ],
            [
             0.3,
             "#f1b6da"
            ],
            [
             0.4,
             "#fde0ef"
            ],
            [
             0.5,
             "#f7f7f7"
            ],
            [
             0.6,
             "#e6f5d0"
            ],
            [
             0.7,
             "#b8e186"
            ],
            [
             0.8,
             "#7fbc41"
            ],
            [
             0.9,
             "#4d9221"
            ],
            [
             1,
             "#276419"
            ]
           ],
           "sequential": [
            [
             0,
             "#0d0887"
            ],
            [
             0.1111111111111111,
             "#46039f"
            ],
            [
             0.2222222222222222,
             "#7201a8"
            ],
            [
             0.3333333333333333,
             "#9c179e"
            ],
            [
             0.4444444444444444,
             "#bd3786"
            ],
            [
             0.5555555555555556,
             "#d8576b"
            ],
            [
             0.6666666666666666,
             "#ed7953"
            ],
            [
             0.7777777777777778,
             "#fb9f3a"
            ],
            [
             0.8888888888888888,
             "#fdca26"
            ],
            [
             1,
             "#f0f921"
            ]
           ],
           "sequentialminus": [
            [
             0,
             "#0d0887"
            ],
            [
             0.1111111111111111,
             "#46039f"
            ],
            [
             0.2222222222222222,
             "#7201a8"
            ],
            [
             0.3333333333333333,
             "#9c179e"
            ],
            [
             0.4444444444444444,
             "#bd3786"
            ],
            [
             0.5555555555555556,
             "#d8576b"
            ],
            [
             0.6666666666666666,
             "#ed7953"
            ],
            [
             0.7777777777777778,
             "#fb9f3a"
            ],
            [
             0.8888888888888888,
             "#fdca26"
            ],
            [
             1,
             "#f0f921"
            ]
           ]
          },
          "colorway": [
           "#636efa",
           "#EF553B",
           "#00cc96",
           "#ab63fa",
           "#FFA15A",
           "#19d3f3",
           "#FF6692",
           "#B6E880",
           "#FF97FF",
           "#FECB52"
          ],
          "font": {
           "color": "#2a3f5f"
          },
          "geo": {
           "bgcolor": "white",
           "lakecolor": "white",
           "landcolor": "#E5ECF6",
           "showlakes": true,
           "showland": true,
           "subunitcolor": "white"
          },
          "hoverlabel": {
           "align": "left"
          },
          "hovermode": "closest",
          "mapbox": {
           "style": "light"
          },
          "paper_bgcolor": "white",
          "plot_bgcolor": "#E5ECF6",
          "polar": {
           "angularaxis": {
            "gridcolor": "white",
            "linecolor": "white",
            "ticks": ""
           },
           "bgcolor": "#E5ECF6",
           "radialaxis": {
            "gridcolor": "white",
            "linecolor": "white",
            "ticks": ""
           }
          },
          "scene": {
           "xaxis": {
            "backgroundcolor": "#E5ECF6",
            "gridcolor": "white",
            "gridwidth": 2,
            "linecolor": "white",
            "showbackground": true,
            "ticks": "",
            "zerolinecolor": "white"
           },
           "yaxis": {
            "backgroundcolor": "#E5ECF6",
            "gridcolor": "white",
            "gridwidth": 2,
            "linecolor": "white",
            "showbackground": true,
            "ticks": "",
            "zerolinecolor": "white"
           },
           "zaxis": {
            "backgroundcolor": "#E5ECF6",
            "gridcolor": "white",
            "gridwidth": 2,
            "linecolor": "white",
            "showbackground": true,
            "ticks": "",
            "zerolinecolor": "white"
           }
          },
          "shapedefaults": {
           "line": {
            "color": "#2a3f5f"
           }
          },
          "ternary": {
           "aaxis": {
            "gridcolor": "white",
            "linecolor": "white",
            "ticks": ""
           },
           "baxis": {
            "gridcolor": "white",
            "linecolor": "white",
            "ticks": ""
           },
           "bgcolor": "#E5ECF6",
           "caxis": {
            "gridcolor": "white",
            "linecolor": "white",
            "ticks": ""
           }
          },
          "title": {
           "x": 0.05
          },
          "xaxis": {
           "automargin": true,
           "gridcolor": "white",
           "linecolor": "white",
           "ticks": "",
           "title": {
            "standoff": 15
           },
           "zerolinecolor": "white",
           "zerolinewidth": 2
          },
          "yaxis": {
           "automargin": true,
           "gridcolor": "white",
           "linecolor": "white",
           "ticks": "",
           "title": {
            "standoff": 15
           },
           "zerolinecolor": "white",
           "zerolinewidth": 2
          }
         }
        },
        "title": {
         "text": "<b style='font-size: 30px;'>Data Engineer Skills</b><br><i style='font-size: 20px;'>Salaries and Popularity</i>",
         "x": 0.1
        },
        "xaxis": {
         "anchor": "y",
         "domain": [
          0,
          1
         ],
         "title": {
          "text": "skill"
         }
        },
        "yaxis": {
         "anchor": "x",
         "domain": [
          0,
          1
         ],
         "title": {
          "text": "number_of_postings"
         }
        }
       }
      }
     },
     "metadata": {},
     "output_type": "display_data"
    }
   ],
   "source": [
    "# Plot it\n",
    "fig = px.bar(engineers_skills, x='skill', y='number_of_postings', color='avg_yearly_salary', color_continuous_scale='Blues')\n",
    "fig.update_traces(hovertemplate='Skill: %{x} <br> \\\n",
    "Postings: %{y} <br> Average Annual salary: %{color}<extra></extra>')\n",
    "fig.update_layout(\n",
    "    title_text=\"<b style='font-size: 30px;'>Data Engineer Skills</b><br><i style='font-size: 20px;'>Salaries and Popularity</i>\", \n",
    "    title_x=0.1, font_color=\"white\",\n",
    "    paper_bgcolor=\"#444444\", \n",
    "    coloraxis_colorbar=dict(title=\"Average Annual Salary\")\n",
    ")\n",
    "fig.show()"
   ]
  },
  {
   "cell_type": "markdown",
   "metadata": {},
   "source": [
    "## Modeling"
   ]
  },
  {
   "cell_type": "markdown",
   "metadata": {},
   "source": [
    "Due to the huge imbalance in the dataset that we didn't anticipate, can we cut data analyst, data scientist, and data engineer down to 1k a piece, and model that way?"
   ]
  },
  {
   "cell_type": "code",
   "execution_count": null,
   "metadata": {},
   "outputs": [],
   "source": [
    "# Predicting \"Other\" job title won't provide any value, so we'll drop it from all of our datasets\n",
    "\n",
    "filtered_jobs_df = jobs_df_cleaned[jobs_df_cleaned[\"title_cleaned\"] != \"Other\"]"
   ]
  }
 ],
 "metadata": {
  "kernelspec": {
   "display_name": "Python 3",
   "language": "python",
   "name": "python3"
  },
  "language_info": {
   "codemirror_mode": {
    "name": "ipython",
    "version": 3
   },
   "file_extension": ".py",
   "mimetype": "text/x-python",
   "name": "python",
   "nbconvert_exporter": "python",
   "pygments_lexer": "ipython3",
   "version": "3.11.4"
  }
 },
 "nbformat": 4,
 "nbformat_minor": 2
}
