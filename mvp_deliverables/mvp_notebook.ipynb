{
 "cells": [
  {
   "cell_type": "markdown",
   "metadata": {},
   "source": [
    "# **Decoding Data Jobs**\n",
    "##### **using Statistical Analysis, Natural Language Processing, and Classification**\n",
    "<p align =\"right\">Zacharia Schmitz <br>\n",
    "Joshua Click<br>\n",
    "November 2023\n",
    "\n",
    "---\n"
   ]
  },
  {
   "cell_type": "markdown",
   "metadata": {},
   "source": [
    "### Rate Limits & Ethics:\n",
    "\n",
    "Scraping\n",
    "\n",
    "[**From GitHub Acceptable Use Policies**](https://docs.github.com/en/github/site-policy/github-acceptable-use-policies)\n",
    "\n",
    ">\"Short version: We host a wide variety of collaborative projects from all over the world, and that collaboration only works when our users are able   to work together in good faith. While using the Service, you must comply with our Acceptable Use Policies, which include some restrictions on content and conduct on GitHub related to user safety, intellectual property, privacy, authenticity, and other limitations. In short, be excellent to each\n",
    ">other."
   ]
  },
  {
   "cell_type": "code",
   "execution_count": 65,
   "metadata": {},
   "outputs": [],
   "source": [
    "import wrangle as w\n",
    "import traceback"
   ]
  },
  {
   "cell_type": "code",
   "execution_count": 66,
   "metadata": {},
   "outputs": [],
   "source": [
    "# Picked out keywords based on all keywords (only looked words with 100+ occurrences)\n",
    "keywords_programming = [\n",
    "    \"sql\",\n",
    "    \"python\",\n",
    "    \"r\",\n",
    "    \"c\",\n",
    "    \"c#\",\n",
    "    \"javascript\",\n",
    "    \"js\",\n",
    "    \"java\",\n",
    "    \"scala\",\n",
    "    \"sas\",\n",
    "    \"matlab\",\n",
    "    \"c++\",\n",
    "    \"c/c++\",\n",
    "    \"perl\",\n",
    "    \"go\",\n",
    "    \"typescript\",\n",
    "    \"bash\",\n",
    "    \"html\",\n",
    "    \"css\",\n",
    "    \"php\",\n",
    "    \"powershell\",\n",
    "    \"rust\",\n",
    "    \"kotlin\",\n",
    "    \"ruby\",\n",
    "    \"dart\",\n",
    "    \"assembly\",\n",
    "    \"swift\",\n",
    "    \"vba\",\n",
    "    \"lua\",\n",
    "    \"groovy\",\n",
    "    \"delphi\",\n",
    "    \"objective-c\",\n",
    "    \"haskell\",\n",
    "    \"elixir\",\n",
    "    \"julia\",\n",
    "    \"clojure\",\n",
    "    \"solidity\",\n",
    "    \"lisp\",\n",
    "    \"f#\",\n",
    "    \"fortran\",\n",
    "    \"erlang\",\n",
    "    \"apl\",\n",
    "    \"cobol\",\n",
    "    \"ocaml\",\n",
    "    \"crystal\",\n",
    "    \"javascript/typescript\",\n",
    "    \"golang\",\n",
    "    \"nosql\",\n",
    "    \"mongodb\",\n",
    "    \"t-sql\",\n",
    "    \"no-sql\",\n",
    "    \"visual_basic\",\n",
    "    \"pascal\",\n",
    "    \"mongo\",\n",
    "    \"pl/sql\",\n",
    "    \"sass\",\n",
    "    \"vb.net\",\n",
    "    \"mssql\",\n",
    "]\n",
    "# Pick out ML Algorithm keywords\n",
    "keywords_ML_Algorithms = [\n",
    "    x.lower()\n",
    "    for x in [\n",
    "        \"regression\",\n",
    "        \"clustering\",\n",
    "        \"classification\",\n",
    "        \"predictive\",\n",
    "        \"prediction\",\n",
    "        \"decision trees\",\n",
    "        \"Decision Trees, Random Forests\",\n",
    "        \"Convolutional Neural Networks\",\n",
    "        \"CNN\",\n",
    "        \"Gradient Boosting Machines (xgboost, lightgbm, etc)\",\n",
    "        \"Bayesian Approaches\",\n",
    "        \"Dense Neural Networks (MLPs, etc)\",\n",
    "        \"DNN\",\n",
    "        \"Recurrent Neural Networks\",\n",
    "        \"RNN\",\n",
    "        \"Transformer Networks (BERT, gpt-3, etc)\",\n",
    "        \"Graph Neural Networks\",\n",
    "        \"Transformer\" \"Autoencoder Networks (DAE, VAE, etc)\",\n",
    "        \"Generative Adversarial Networks\",\n",
    "        \"None\",\n",
    "        \"Evolutionary Approaches\",\n",
    "    ]\n",
    "]\n",
    "# Viz keywords\n",
    "keyword_viz = [\n",
    "    x.lower()\n",
    "    for x in [\n",
    "        \"Matplotlib\",\n",
    "        \"Seaborn\",\n",
    "        \"Plotly\",\n",
    "        \"Ggplot\",\n",
    "        \"None\",\n",
    "        \"Shiny\",\n",
    "        \"Geoplotlib\",\n",
    "        \"Bokeh\",\n",
    "        \"D3 js\",\n",
    "        \"Other\",\n",
    "        \"Leaflet / Folium\",\n",
    "        \"Pygal\",\n",
    "        \"Altair\",\n",
    "        \"Dygraphs\",\n",
    "        \"Highcharter\",\n",
    "        \"tableau\",\n",
    "        \"Microsoft Power BI\",\n",
    "        \"Google Data Studio\",\n",
    "        \"Amazon QuickSight\",\n",
    "        \"Qlik Sense\",\n",
    "        \"Other\",\n",
    "        \"Microsoft Azure Synapse \",\n",
    "        \"Looker\",\n",
    "        \"Alteryx \",\n",
    "        \"SAP Analytics Cloud \",\n",
    "        \"TIBCO Spotfire\",\n",
    "        \"Domo\",\n",
    "        \"Sisense \",\n",
    "        \"Thoughtspot \",\n",
    "    ]\n",
    "]\n",
    "# Computer vision and nlp\n",
    "keyword_cvnlp = [\"computer vision\", \"natural language processing\"]\n",
    "\n",
    "# Big data keywords\n",
    "keyword_big_data = [\n",
    "    \"mysql\",\n",
    "    \"postgresql\",\n",
    "    \"microsoft sql\",\n",
    "    \"sqlite\",\n",
    "    \"mongodb\",\n",
    "    \"bigquery\",\n",
    "    \"oracle database\",\n",
    "    \"azure sql\",\n",
    "    \"amazon rds\",\n",
    "    \"google cloud sql\",\n",
    "    \"snowflake\",\n",
    "]\n",
    "# More big data\n",
    "keyword_big_data_2 = [\n",
    "    x.lower()\n",
    "    for x in [\n",
    "        \"MySQL \",\n",
    "        \"PostgreSQL \",\n",
    "        \"Microsoft SQL Server \",\n",
    "        \"SQLite \",\n",
    "        \"MongoDB \",\n",
    "        \"None\",\n",
    "        \"Google Cloud BigQuery \",\n",
    "        \"Oracle Database \",\n",
    "        \"Microsoft Azure SQL Database \",\n",
    "        \"Amazon RDS \",\n",
    "        \"Google Cloud SQL \",\n",
    "        \"Snowflake \",\n",
    "        \"Amazon Redshift \",\n",
    "        \"Amazon DynamoDB \",\n",
    "        \"Other\",\n",
    "        \"IBM Db2 \",\n",
    "    ]\n",
    "]\n",
    "# Business Intelligence keywords\n",
    "keyword_bi = [\n",
    "    x.lower()\n",
    "    for x in [\n",
    "        \"tableau\",\n",
    "        \"Power BI\",\n",
    "        \"Power_bi\",\n",
    "        \"Google Data Studio\",\n",
    "        \"QuickSight\",\n",
    "        \"Qlik Sense\",\n",
    "        \"Other\",\n",
    "        \"Azure Synapse \",\n",
    "        \"Looker\",\n",
    "        \"Alteryx \",\n",
    "        \"SAP Analytics Cloud \",\n",
    "        \"TIBCO Spotfire\",\n",
    "        \"Domo\",\n",
    "        \"Sisense \",\n",
    "        \"Thoughtspot \",\n",
    "    ]\n",
    "]\n",
    "# More business intelligence\n",
    "keyword_bi_2 = [\n",
    "    x.lower()\n",
    "    for x in [\n",
    "        \"tableau\",\n",
    "        \"Microsoft Power BI\",\n",
    "        \"Google Data Studio\",\n",
    "        \"Amazon QuickSight\",\n",
    "        \"Qlik Sense\",\n",
    "        \"Other\",\n",
    "        \"Microsoft Azure Synapse \",\n",
    "        \"Looker\",\n",
    "        \"Alteryx \",\n",
    "        \"SAP Analytics Cloud \",\n",
    "        \"TIBCO Spotfire\",\n",
    "        \"Domo\",\n",
    "        \"Sisense \",\n",
    "        \"Thoughtspot \",\n",
    "    ]\n",
    "]\n",
    "# Analyst tools\n",
    "keywords_analyst_tools = [\n",
    "    \"excel\",\n",
    "    \"tableau\",\n",
    "    \"word\",\n",
    "    \"powerpoint\",\n",
    "    \"looker\",\n",
    "    \"powerbi\",\n",
    "    \"outlook\",\n",
    "    \"azure\",\n",
    "    \"jira\",\n",
    "    \"twilio\",\n",
    "    \"snowflake\",\n",
    "    \"shell\",\n",
    "    \"linux\",\n",
    "    \"sas\",\n",
    "    \"sharepoint\",\n",
    "    \"mysql\",\n",
    "    \"visio\",\n",
    "    \"git\",\n",
    "    \"mssql\",\n",
    "    \"powerpoints\",\n",
    "    \"postgresql\",\n",
    "    \"spreadsheets\",\n",
    "    \"seaborn\",\n",
    "    \"pandas\",\n",
    "    \"gdpr\",\n",
    "    \"spreadsheet\",\n",
    "    \"alteryx\",\n",
    "    \"github\",\n",
    "    \"postgres\",\n",
    "    \"ssis\",\n",
    "    \"numpy\",\n",
    "    \"power_bi\",\n",
    "    \"spss\",\n",
    "    \"ssrs\",\n",
    "    \"microstrategy\",\n",
    "    \"cognos\",\n",
    "    \"dax\",\n",
    "    \"matplotlib\",\n",
    "    \"dplyr\",\n",
    "    \"tidyr\",\n",
    "    \"ggplot2\",\n",
    "    \"plotly\",\n",
    "    \"esquisse\",\n",
    "    \"rshiny\",\n",
    "    \"mlr\",\n",
    "    \"docker\",\n",
    "    \"linux\",\n",
    "    \"jira\",\n",
    "    \"hadoop\",\n",
    "    \"airflow\",\n",
    "    \"redis\",\n",
    "    \"graphql\",\n",
    "    \"sap\",\n",
    "    \"tensorflow\",\n",
    "    \"node\",\n",
    "    \"asp.net\",\n",
    "    \"unix\",\n",
    "    \"jquery\",\n",
    "    \"pyspark\",\n",
    "    \"pytorch\",\n",
    "    \"gitlab\",\n",
    "    \"selenium\",\n",
    "    \"splunk\",\n",
    "    \"bitbucket\",\n",
    "    \"qlik\",\n",
    "    \"terminal\",\n",
    "    \"atlassian\",\n",
    "    \"unix/linux\",\n",
    "    \"linux/unix\",\n",
    "    \"ubuntu\",\n",
    "    \"nuix\",\n",
    "    \"datarobot\",\n",
    "]\n",
    "# Cloud tools\n",
    "keywords_cloud_tools = [\n",
    "    \"aws\",\n",
    "    \"azure\",\n",
    "    \"gcp\",\n",
    "    \"snowflake\",\n",
    "    \"redshift\",\n",
    "    \"bigquery\",\n",
    "    \"aurora\",\n",
    "    \"amazon\",\n",
    "    \"ec2\",\n",
    "    \"s3\",\n",
    "]\n",
    "# Not using\n",
    "keywords_general_tools = [\n",
    "    \"microsoft\",\n",
    "    \"slack\",\n",
    "    \"apache\",\n",
    "    \"ibm\",\n",
    "    \"html5\",\n",
    "    \"datadog\",\n",
    "    \"bloomberg\",\n",
    "    \"ajax\",\n",
    "    \"persicope\",\n",
    "    \"oracle\",\n",
    "]\n",
    "# Not using\n",
    "keywords_general = [\n",
    "    \"coding\",\n",
    "    \"server\",\n",
    "    \"database\",\n",
    "    \"cloud\",\n",
    "    \"warehousing\",\n",
    "    \"scrum\",\n",
    "    \"devops\",\n",
    "    \"programming\",\n",
    "    \"saas\",\n",
    "    \"ci/cd\",\n",
    "    \"cicd\",\n",
    "    \"ml\",\n",
    "    \"data_lake\",\n",
    "    \"frontend\",\n",
    "    \" front-end\",\n",
    "    \"back-end\",\n",
    "    \"backend\",\n",
    "    \"json\",\n",
    "    \"xml\",\n",
    "    \"ios\",\n",
    "    \"kanban\",\n",
    "    \"nlp\",\n",
    "    \"iot\",\n",
    "    \"codebase\",\n",
    "    \"agile/scrum\",\n",
    "    \"agile\",\n",
    "    \"ai/ml\",\n",
    "    \"ai\",\n",
    "    \"paas\",\n",
    "    \"machine_learning\",\n",
    "    \"macros\",\n",
    "    \"iaas\",\n",
    "    \"fullstack\",\n",
    "    \"dataops\",\n",
    "    \"scrum/agile\",\n",
    "    \"ssas\",\n",
    "    \"mlops\",\n",
    "    \"debug\",\n",
    "    \"etl\",\n",
    "    \"a/b\",\n",
    "    \"slack\",\n",
    "    \"erp\",\n",
    "    \"oop\",\n",
    "    \"object-oriented\",\n",
    "    \"etl/elt\",\n",
    "    \"elt\",\n",
    "    \"dashboarding\",\n",
    "    \"big-data\",\n",
    "    \"twilio\",\n",
    "    \"ui/ux\",\n",
    "    \"ux/ui\",\n",
    "    \"vlookup\",\n",
    "    \"crossover\",\n",
    "    \"data_lake\",\n",
    "    \"data_lakes\",\n",
    "    \"bi\",\n",
    "]\n",
    "\n",
    "keywords = (\n",
    "    keywords_programming\n",
    "    + keywords_ML_Algorithms\n",
    "    + keywords_analyst_tools\n",
    "    + keywords_cloud_tools\n",
    ")"
   ]
  },
  {
   "cell_type": "code",
   "execution_count": 67,
   "metadata": {},
   "outputs": [],
   "source": [
    "import os\n",
    "import pandas as pd\n",
    "import numpy as np\n",
    "\n",
    "def create_sector_column(df):\n",
    "        \"\"\"\n",
    "        This function takes a DataFrame as a parameter.\n",
    "        It creates a new 'sector' column in the DataFrame based on certain keywords in the 'description' column.\n",
    "\n",
    "        Parameters:\n",
    "        df (DataFrame): The input DataFrame.\n",
    "\n",
    "        Returns:\n",
    "        DataFrame: The DataFrame with the new 'sector' column.\n",
    "        \"\"\"\n",
    "\n",
    "        # Define the mapping of keywords to sectors\n",
    "        sector_mapping = {\n",
    "            \"finance\": \"Finance\",\n",
    "            \"business\": \"Business\",\n",
    "            \"healthcare\": \"Healthcare\",\n",
    "            \"patient\": \"Healthcare\",\n",
    "            \"technology\": \"Technology\",\n",
    "            \"education\": \"Education\",\n",
    "            \"retail\": \"Retail\",\n",
    "            \"property\": \"Real Estate\",\n",
    "        }\n",
    "\n",
    "        # Apply the mapping to the 'description' column\n",
    "        df[\"sector\"] = df[\"description_cleaned\"].apply(\n",
    "            lambda x: next(\n",
    "                (v for k, v in sector_mapping.items() if k in \" \".join(x).lower()), \"Other\"\n",
    "            )\n",
    "        )\n",
    "\n",
    "        return df"
   ]
  },
  {
   "cell_type": "code",
   "execution_count": 68,
   "metadata": {},
   "outputs": [
    {
     "name": "stderr",
     "output_type": "stream",
     "text": [
      "[nltk_data] Downloading package punkt to\n",
      "[nltk_data]     /Users/zacschmitz/nltk_data...\n",
      "[nltk_data]   Package punkt is already up-to-date!\n",
      "[nltk_data] Downloading package stopwords to\n",
      "[nltk_data]     /Users/zacschmitz/nltk_data...\n",
      "[nltk_data]   Package stopwords is already up-to-date!\n"
     ]
    }
   ],
   "source": [
    "import nltk\n",
    "from nltk.tokenize import word_tokenize\n",
    "from nltk.corpus import stopwords\n",
    "import string\n",
    "from collections import Counter\n",
    "from nltk.stem import WordNetLemmatizer\n",
    "\n",
    "# Ensure necessary resources are available\n",
    "nltk.download(\"punkt\")\n",
    "nltk.download(\"stopwords\")\n",
    "\n",
    "\n",
    "# Tokenize, normalize and lemmatize the descriptions\n",
    "def tokenize_normalize_lemmatize(text):\n",
    "    lemmatizer = WordNetLemmatizer()\n",
    "    tokens = word_tokenize(text)\n",
    "    # Convert to lowercase, remove punctuation and stopwords, and lemmatize\n",
    "    tokens = [\n",
    "        lemmatizer.lemmatize(word.lower())\n",
    "        for word in tokens\n",
    "        if word.isalpha() and word.lower() not in stopwords.words(\"english\")\n",
    "    ]\n",
    "    return tokens"
   ]
  },
  {
   "cell_type": "code",
   "execution_count": 69,
   "metadata": {},
   "outputs": [],
   "source": [
    "\n",
    "from nltk.tokenize import MWETokenizer, word_tokenize\n",
    "\n",
    "def process_description(description, keywords):\n",
    "    \"\"\"\n",
    "    This function processes a job description by tokenizing the words, handling multi-word tokenization,\n",
    "    removing duplicates, filtering for keywords only, and replacing certain keywords.\n",
    "\n",
    "    Parameters:\n",
    "    description (str): The job description to process.\n",
    "    keywords (list): The list of keywords to filter for.\n",
    "\n",
    "    Returns:\n",
    "    list: The processed job description as a list of keywords.\n",
    "    \"\"\"\n",
    "    # Convert the description to lowercase\n",
    "    detail = description.lower()\n",
    "\n",
    "    # Tokenize the description into individual words\n",
    "    detail = word_tokenize(detail)\n",
    "\n",
    "    # Define multi-word tokens\n",
    "    multi_tokens = [\n",
    "        (\"power\", \"bi\"),\n",
    "        (\"data\", \"lake\"),\n",
    "        (\"data\", \"lakes\"),\n",
    "        (\"machine\", \"learning\"),\n",
    "        (\"objective\", \"c\"),\n",
    "        (\"visual\", \"basic\"),\n",
    "        (\"predictive\", \"prediction\"),\n",
    "        (\"plotly\", \"express\"),\n",
    "        (\"ggplot\", \"ggplot\"),\n",
    "        (\"d3\", \"js\"),\n",
    "    ]\n",
    "\n",
    "    # Initialize a multi-word tokenizer with the defined tokens\n",
    "    tokenizer = MWETokenizer(multi_tokens)\n",
    "\n",
    "    # Tokenize the description with the multi-word tokenizer\n",
    "    detail = tokenizer.tokenize(detail)\n",
    "\n",
    "    # Remove duplicate words\n",
    "    detail = list(set(detail))\n",
    "\n",
    "    # Filter the description for the specified keywords\n",
    "    detail = [word for word in detail if word in keywords]\n",
    "\n",
    "    # Define tokens to replace\n",
    "    replace_tokens = {\"powerbi\": \"power_bi\", \"spreadsheets\": \"spreadsheet\"}\n",
    "\n",
    "    # Replace the defined tokens in the description\n",
    "    for key, value in replace_tokens.items():\n",
    "        detail = [d.replace(key, value) for d in detail]\n",
    "\n",
    "    # Replace \"c/c++\" and \"c++\" with \"c++\"\n",
    "    detail = [\"c++\" if skill in [\"c/c++\", \"c++\"] else skill for skill in detail]\n",
    "\n",
    "    return detail\n",
    "\n",
    "    \n"
   ]
  },
  {
   "cell_type": "code",
   "execution_count": 70,
   "metadata": {},
   "outputs": [],
   "source": [
    "def prepare_jobs(df):\n",
    "    \"\"\"\n",
    "    1. Selects a subset of columns from the DataFrame.\n",
    "    2. Drops duplicate rows based on the \"job_id\" column.\n",
    "    3. Drops the \"job_id\" column.\n",
    "    4. Fills null values in the \"work_from_home\" column with False.\n",
    "    5. Creates a new \"cleaned_salary\" column and performs several transformations on it \n",
    "        to standardize the salary information.\n",
    "    6. Extracts the pay rate from the \"cleaned_salary\" column.\n",
    "    7. Drops all letters from the \"cleaned_salary\" column.\n",
    "    8. Splits the \"cleaned_salary\" into \"min_salary\" and \"max_salary\" columns.\n",
    "    9. Creates an \"avg_salary\" column by averaging the \"min_salary\" and \"max_salary\" columns.\n",
    "    10. Adjusts the salary columns based on the pay rate.\n",
    "    11. Drops the original \"salary\" column.\n",
    "    12. Cleans the \"location\" column and replaces state abbreviations with full names.\n",
    "    13. Renames the \"date_time\" column to \"date_scraped\" and converts it to datetime.\n",
    "    14. Converts the \"posted_at\" column to a timedelta.\n",
    "    15. Creates a new \"posting_created\" column by subtracting \"posted_at\" from \"date_scraped\".\n",
    "    16. Standardizes the job titles in the \"title\" column.\n",
    "    17. Tokenizes the job descriptions and filters for certain keywords.\n",
    "    18. Creates a new 'sector' column based on certain keywords in the 'description' column.\n",
    "    19. Filters the DataFrame to only include full-time jobs.\n",
    "\n",
    "    Parameters:\n",
    "    df (DataFrame): The input DataFrame.\n",
    "\n",
    "    Returns:\n",
    "    A prepped dataframe\n",
    "    \"\"\"\n",
    "    try:\n",
    "        jobs_df_cleaned = df[[\n",
    "                \"title\",\n",
    "                \"company_name\",\n",
    "                \"location\",\n",
    "                \"via\",\n",
    "                \"description\",\n",
    "                \"posted_at\",\n",
    "                \"schedule_type\",\n",
    "                \"work_from_home\",\n",
    "                \"salary\",\n",
    "                \"job_id\",\n",
    "                \"date_time\",\n",
    "                \"salary_pay\",\n",
    "                \"salary_rate\"]]\n",
    "\n",
    "        # Drop duplicates on the unique identifier\n",
    "        jobs_df_cleaned = jobs_df_cleaned.drop_duplicates(subset=[\"job_id\"])   \n",
    "\n",
    "        # Drop the column since we're not using it anymore\n",
    "        jobs_df_cleaned = jobs_df_cleaned.drop(columns=[\"job_id\"])\n",
    "\n",
    "        # Fill nulls in work from home with False\n",
    "        jobs_df_cleaned[\"work_from_home\"] = jobs_df_cleaned[\"work_from_home\"].fillna(False)\n",
    "\n",
    "        # Create a salary cleaned column out of a copy of salary\n",
    "        jobs_df_cleaned[\"cleaned_salary\"] = jobs_df_cleaned[\"salary\"]\n",
    "\n",
    "        # Remove decimals and numeric character until you hit a - or [a-zA-Z]\n",
    "        jobs_df_cleaned[\"cleaned_salary\"] = jobs_df_cleaned[\"cleaned_salary\"].str.replace(\n",
    "        r\"\\.\\d+(?=[a-zA-Z-])\", \"\", regex=True)\n",
    "\n",
    "        # Replace 'K' or 'k' in the 'cleaned_salary' column with ',000'\n",
    "        jobs_df_cleaned[\"cleaned_salary\"] = (\n",
    "        jobs_df_cleaned[\"cleaned_salary\"]\n",
    "        .str.replace(\"K\", \"000\", case=False, regex=True)\n",
    "        .str.replace(\"k\", \"000\", case=False, regex=True))\n",
    "\n",
    "        # Remove commas from all entries in the 'cleaned_salary' column\n",
    "        jobs_df_cleaned[\"cleaned_salary\"] = jobs_df_cleaned[\"cleaned_salary\"].str.replace(\n",
    "        \",\", \"\", regex=False)\n",
    "\n",
    "        # Extract pay rate\n",
    "        jobs_df_cleaned[\"pay_rate\"] = jobs_df_cleaned[\"cleaned_salary\"].str.extract(\n",
    "        r\"(\\bhour\\b|\\bmonth\\b|\\byear\\b)\", expand=False)\n",
    "\n",
    "        # Add \"ly\" to the entire column\n",
    "        jobs_df_cleaned[\"pay_rate\"] = jobs_df_cleaned[\"pay_rate\"].str.replace(\n",
    "        r\"(\\bhour\\b|\\bmonth\\b|\\byear\\b)\", r\"\\1ly\", regex=True)\n",
    "\n",
    "        # Drop all letters from salary cleaned column\n",
    "        jobs_df_cleaned[\"cleaned_salary\"] = jobs_df_cleaned[\"cleaned_salary\"].str.replace(\n",
    "        r\"[a-zA-Z]\", \"\", regex=True)\n",
    "\n",
    "        # Function to get min salary\n",
    "        def get_min_salary(salary):\n",
    "            return salary.split(\"–\")[0]\n",
    "\n",
    "        # Function to get max salary\n",
    "        def get_max_salary(salary):\n",
    "            values = salary.split(\"–\")\n",
    "            if len(values) == 1:\n",
    "                return values[0]\n",
    "            return values[1]\n",
    "        \n",
    "        # Make salary cleaned a string\n",
    "        jobs_df_cleaned[\"cleaned_salary\"] = jobs_df_cleaned[\"cleaned_salary\"].astype(str)\n",
    "\n",
    "        # Apply the functions to get min_salary and max_salary columns\n",
    "        jobs_df_cleaned[\"min_salary\"] = jobs_df_cleaned[\"cleaned_salary\"].apply(get_min_salary)\n",
    "        jobs_df_cleaned[\"max_salary\"] = jobs_df_cleaned[\"cleaned_salary\"].apply(get_max_salary)\n",
    "\n",
    "        # Make an avg_salary column using the average of min and max\n",
    "        jobs_df_cleaned[\"avg_salary\"] = (\n",
    "        jobs_df_cleaned[\"min_salary\"].astype(float)\n",
    "        + jobs_df_cleaned[\"max_salary\"].astype(float)\n",
    "        ) / 2\n",
    "\n",
    "        # If pay rate is hourly, multiply min_salary, max_salary, and avg_salary by 2080\n",
    "        jobs_df_cleaned.loc[\n",
    "            jobs_df_cleaned[\"pay_rate\"] == \"hourly\", [\"min_salary\", \"max_salary\", \"avg_salary\"]\n",
    "        ] = (\n",
    "            jobs_df_cleaned.loc[\n",
    "                jobs_df_cleaned[\"pay_rate\"] == \"hourly\",\n",
    "                [\"min_salary\", \"max_salary\", \"avg_salary\"],\n",
    "            ].astype(float)\n",
    "            * 2080)\n",
    "\n",
    "        # If pay rate is monthly, multiply min_salary, max_salary, and avg_salary by 12\n",
    "        jobs_df_cleaned.loc[\n",
    "        jobs_df_cleaned[\"pay_rate\"] == \"monthly\", [\"min_salary\", \"max_salary\", \"avg_salary\"]\n",
    "        ] = (\n",
    "        jobs_df_cleaned.loc[\n",
    "            jobs_df_cleaned[\"pay_rate\"] == \"monthly\",\n",
    "            [\"min_salary\", \"max_salary\", \"avg_salary\"],\n",
    "        ].astype(float)\n",
    "        * 12)\n",
    "\n",
    "        # Drop the old salary\n",
    "        jobs_df_cleaned = jobs_df_cleaned.drop(columns=[\"salary\"])\n",
    "\n",
    "        # Make them floats\n",
    "        jobs_df_cleaned['min_salary'] = jobs_df_cleaned[\"min_salary\"].astype(float)\n",
    "        jobs_df_cleaned[\"max_salary\"] = jobs_df_cleaned[\"max_salary\"].astype(float)\n",
    "\n",
    "        # Replace \"nan\" in cleaned_salary with nulls\n",
    "        jobs_df_cleaned[\"cleaned_salary\"] = jobs_df_cleaned[\"cleaned_salary\"].replace(\n",
    "        \"nan\", np.nan)\n",
    "\n",
    "        # Make the column a string\n",
    "        jobs_df_cleaned[\"location_cleaned\"] = jobs_df_cleaned[\"location\"].astype(str)\n",
    "\n",
    "        # Make a lambda for all the states and apply it to a state column, to reduce location values\n",
    "        jobs_df_cleaned[\"location_cleaned\"] = jobs_df_cleaned[\"location_cleaned\"].apply(\n",
    "            lambda x: x.split(\",\")[1].strip() if \",\" in x else x    )\n",
    "\n",
    "        # Create a dictionary with state abbreviations and full names\n",
    "        state_dict = {\n",
    "            \"CA\": \"California\",\n",
    "            \"NY\": \"New York\",\n",
    "            \"NJ\": \"New Jersey\",\n",
    "            \"MO\": \"Missouri\",\n",
    "            \"OK\": \"Oklahoma\",\n",
    "            \"KS\": \"Kansas\",\n",
    "            \"AR\": \"Arkansas\",\n",
    "            \"TX\": \"Texas\",\n",
    "            \"MA\": \"Massachusetts\",\n",
    "            \"NE\": \"Nebraska\",\n",
    "            \"PA\": \"Pennsylvania\",\n",
    "            \"DC\": \"District of Columbia\",\n",
    "            \"CT\": \"Connecticut\",\n",
    "            \"NH\": \"New Hampshire\",\n",
    "        }\n",
    "\n",
    "        # Replace state abbreviations with full names\n",
    "        jobs_df_cleaned[\"location_cleaned\"] = jobs_df_cleaned[\"location_cleaned\"].replace(\n",
    "            state_dict\n",
    "        )\n",
    "\n",
    "        # If the string has (+X others), change it to \"Multiple Locations\"\n",
    "        jobs_df_cleaned[\"location_cleaned\"] = jobs_df_cleaned[\"location_cleaned\"].apply(\n",
    "            lambda x: \"Multiple Locations\" if \"(\" in x else x\n",
    "        )\n",
    "\n",
    "        # Remove leading and trailing white space\n",
    "        jobs_df_cleaned[\"location_cleaned\"] = jobs_df_cleaned[\"location_cleaned\"].str.strip()\n",
    "\n",
    "        # Replace \"nan\" with Unkown\n",
    "        jobs_df_cleaned[\"location_cleaned\"] = jobs_df_cleaned[\"location_cleaned\"].replace(\n",
    "            \"nan\", \"Unknown\"\n",
    "        )\n",
    "\n",
    "        # Change date_time to date_scraped\n",
    "        jobs_df_cleaned.rename(columns={\"date_time\": \"date_scraped\"}, inplace=True)\n",
    "\n",
    "        # Convert \"posted_at\" to timedelta\n",
    "        jobs_df_cleaned[\"posted_at\"] = pd.to_timedelta(\n",
    "            jobs_df_cleaned[\"posted_at\"].str.extract(\"(\\d+)\")[0].astype(int), unit=\"h\"\n",
    "        )\n",
    "\n",
    "        # Convert \"date_scraped\" to datetime\n",
    "        jobs_df_cleaned[\"date_scraped\"] = pd.to_datetime(jobs_df_cleaned[\"date_scraped\"])\n",
    "\n",
    "        # Create \"posting_created\" column\n",
    "        jobs_df_cleaned[\"posting_created\"] = (\n",
    "            jobs_df_cleaned[\"date_scraped\"] - jobs_df_cleaned[\"posted_at\"]\n",
    "        )\n",
    "\n",
    "        # Change posting_created to be date time formated with only hours and minutes\n",
    "        jobs_df_cleaned[\"posting_created\"] = jobs_df_cleaned[\"posting_created\"].dt.strftime(\n",
    "            \"%Y-%m-%d %H:%M\"\n",
    "        )\n",
    "        # Make the index date time\n",
    "        jobs_df_cleaned.index = pd.to_datetime(jobs_df_cleaned[\"posting_created\"])\n",
    "\n",
    "        # Define the mapping of keywords to standardized titles\n",
    "        title_mapping = {\n",
    "            \"scie\": \"Data Scientist\",\n",
    "            \"eng\": \"Data Engineer\",\n",
    "            \"ana\": \"Data Analyst\",\n",
    "        }\n",
    "\n",
    "        # Apply the mapping to the 'title' column\n",
    "        jobs_df_cleaned[\"title_cleaned\"] = jobs_df_cleaned[\"title\"].apply(\n",
    "            lambda x: next((v for k, v in title_mapping.items() if k in x.lower()), x)\n",
    "        )\n",
    "\n",
    "        # If a title_cleaned isn't one of those 3, make it Other\n",
    "        jobs_df_cleaned[\"title_cleaned\"] = jobs_df_cleaned[\"title_cleaned\"].apply(\n",
    "            lambda x: \"Other\" if x not in title_mapping.values() else x\n",
    "        )\n",
    "\n",
    "        jobs_df_cleaned[\"description_cleaned\"] = jobs_df_cleaned[\"description\"].apply(tokenize_normalize_lemmatize)\n",
    "\n",
    "        jobs_df_cleaned[\"description_tokens\"] = jobs_df_cleaned[\"description\"].apply(lambda x: process_description(x, keywords))\n",
    "\n",
    "        # If the schedule type does not have \"Full-time\", drop it\n",
    "        jobs_df_cleaned = jobs_df_cleaned[jobs_df_cleaned[\"schedule_type\"] == \"Full-time\"]\n",
    "\n",
    "        # Play a sound when completed\n",
    "        os.system('afplay /System/Library/Sounds/Ping.aiff')\n",
    "\n",
    "        return jobs_df_cleaned\n",
    "    except Exception as e:\n",
    "        os.system('afplay /System/Library/Sounds/Ping.aiff')\n",
    "        print('Prep failed.')\n",
    "        traceback.print_exc()\n"
   ]
  },
  {
   "cell_type": "code",
   "execution_count": 79,
   "metadata": {},
   "outputs": [
    {
     "name": "stdout",
     "output_type": "stream",
     "text": [
      "Total rows: 34153\n",
      "Total columns: 27\n"
     ]
    },
    {
     "data": {
      "text/html": [
       "<div>\n",
       "<style scoped>\n",
       "    .dataframe tbody tr th:only-of-type {\n",
       "        vertical-align: middle;\n",
       "    }\n",
       "\n",
       "    .dataframe tbody tr th {\n",
       "        vertical-align: top;\n",
       "    }\n",
       "\n",
       "    .dataframe thead th {\n",
       "        text-align: right;\n",
       "    }\n",
       "</style>\n",
       "<table border=\"1\" class=\"dataframe\">\n",
       "  <thead>\n",
       "    <tr style=\"text-align: right;\">\n",
       "      <th></th>\n",
       "      <th>col_name</th>\n",
       "      <th>dtype</th>\n",
       "      <th>num_unique</th>\n",
       "      <th>num_null</th>\n",
       "      <th>pct_null</th>\n",
       "      <th>unique_values</th>\n",
       "      <th>range (min, max, mean)</th>\n",
       "    </tr>\n",
       "  </thead>\n",
       "  <tbody>\n",
       "    <tr>\n",
       "      <th>0</th>\n",
       "      <td>index</td>\n",
       "      <td>int64</td>\n",
       "      <td>34153</td>\n",
       "      <td>0</td>\n",
       "      <td>0.00000</td>\n",
       "      <td>RangeIndex(start=0, stop=34153, step=1)</td>\n",
       "      <td>None</td>\n",
       "    </tr>\n",
       "    <tr>\n",
       "      <th>1</th>\n",
       "      <td>Unnamed: 0</td>\n",
       "      <td>int64</td>\n",
       "      <td>34153</td>\n",
       "      <td>0</td>\n",
       "      <td>0.00000</td>\n",
       "      <td>[0, 1, 2, 3, 4, 5, 6, 7, 8, 9, 10, 11, 12, 13,...</td>\n",
       "      <td>(0, 34152, 17076.0)</td>\n",
       "    </tr>\n",
       "    <tr>\n",
       "      <th>2</th>\n",
       "      <td>index</td>\n",
       "      <td>int64</td>\n",
       "      <td>3785</td>\n",
       "      <td>0</td>\n",
       "      <td>0.00000</td>\n",
       "      <td>[0, 1, 2, 3, 4, 5, 6, 7, 8, 9, 10, 11, 12, 13,...</td>\n",
       "      <td>(0, 3784, 1141.691418030627)</td>\n",
       "    </tr>\n",
       "    <tr>\n",
       "      <th>3</th>\n",
       "      <td>title</td>\n",
       "      <td>object</td>\n",
       "      <td>13157</td>\n",
       "      <td>0</td>\n",
       "      <td>0.00000</td>\n",
       "      <td>[Data Analyst, Junior Data Analyst/Scientist R...</td>\n",
       "      <td>None</td>\n",
       "    </tr>\n",
       "    <tr>\n",
       "      <th>4</th>\n",
       "      <td>company_name</td>\n",
       "      <td>object</td>\n",
       "      <td>8208</td>\n",
       "      <td>0</td>\n",
       "      <td>0.00000</td>\n",
       "      <td>[Chloeta, Upwork, ATC, Guidehouse, AnMed Healt...</td>\n",
       "      <td>None</td>\n",
       "    </tr>\n",
       "    <tr>\n",
       "      <th>5</th>\n",
       "      <td>location</td>\n",
       "      <td>object</td>\n",
       "      <td>635</td>\n",
       "      <td>24</td>\n",
       "      <td>0.00070</td>\n",
       "      <td>[  Oklahoma City, OK   ,  Anywhere ,   United ...</td>\n",
       "      <td>None</td>\n",
       "    </tr>\n",
       "    <tr>\n",
       "      <th>6</th>\n",
       "      <td>via</td>\n",
       "      <td>object</td>\n",
       "      <td>556</td>\n",
       "      <td>9</td>\n",
       "      <td>0.00026</td>\n",
       "      <td>[via ZipRecruiter, via Upwork, via LinkedIn, v...</td>\n",
       "      <td>None</td>\n",
       "    </tr>\n",
       "    <tr>\n",
       "      <th>7</th>\n",
       "      <td>description</td>\n",
       "      <td>object</td>\n",
       "      <td>24276</td>\n",
       "      <td>0</td>\n",
       "      <td>0.00000</td>\n",
       "      <td>[Job Summary: The Data Analyst oversees data p...</td>\n",
       "      <td>None</td>\n",
       "    </tr>\n",
       "    <tr>\n",
       "      <th>8</th>\n",
       "      <td>extensions</td>\n",
       "      <td>object</td>\n",
       "      <td>5528</td>\n",
       "      <td>0</td>\n",
       "      <td>0.00000</td>\n",
       "      <td>[['21 hours ago', 'Full-time', 'Health insuran...</td>\n",
       "      <td>None</td>\n",
       "    </tr>\n",
       "    <tr>\n",
       "      <th>9</th>\n",
       "      <td>job_id</td>\n",
       "      <td>object</td>\n",
       "      <td>34133</td>\n",
       "      <td>0</td>\n",
       "      <td>0.00000</td>\n",
       "      <td>[eyJqb2JfdGl0bGUiOiJEYXRhIEFuYWx5c3QiLCJodGlkb...</td>\n",
       "      <td>None</td>\n",
       "    </tr>\n",
       "    <tr>\n",
       "      <th>10</th>\n",
       "      <td>thumbnail</td>\n",
       "      <td>object</td>\n",
       "      <td>5967</td>\n",
       "      <td>15125</td>\n",
       "      <td>0.44286</td>\n",
       "      <td>[nan, https://encrypted-tbn0.gstatic.com/image...</td>\n",
       "      <td>None</td>\n",
       "    </tr>\n",
       "    <tr>\n",
       "      <th>11</th>\n",
       "      <td>posted_at</td>\n",
       "      <td>object</td>\n",
       "      <td>80</td>\n",
       "      <td>0</td>\n",
       "      <td>0.00000</td>\n",
       "      <td>[21 hours ago, 17 hours ago, 12 hours ago, 10 ...</td>\n",
       "      <td>None</td>\n",
       "    </tr>\n",
       "    <tr>\n",
       "      <th>12</th>\n",
       "      <td>schedule_type</td>\n",
       "      <td>object</td>\n",
       "      <td>22</td>\n",
       "      <td>177</td>\n",
       "      <td>0.00518</td>\n",
       "      <td>[Full-time, Contractor, Part-time, Internship,...</td>\n",
       "      <td>None</td>\n",
       "    </tr>\n",
       "    <tr>\n",
       "      <th>13</th>\n",
       "      <td>work_from_home</td>\n",
       "      <td>object</td>\n",
       "      <td>1</td>\n",
       "      <td>18896</td>\n",
       "      <td>0.55327</td>\n",
       "      <td>[nan, True]</td>\n",
       "      <td>None</td>\n",
       "    </tr>\n",
       "    <tr>\n",
       "      <th>14</th>\n",
       "      <td>salary</td>\n",
       "      <td>object</td>\n",
       "      <td>1308</td>\n",
       "      <td>28050</td>\n",
       "      <td>0.82130</td>\n",
       "      <td>[nan, 40–75 an hour, 43–48 an hour, 17–46 an h...</td>\n",
       "      <td>None</td>\n",
       "    </tr>\n",
       "    <tr>\n",
       "      <th>15</th>\n",
       "      <td>search_term</td>\n",
       "      <td>object</td>\n",
       "      <td>1</td>\n",
       "      <td>0</td>\n",
       "      <td>0.00000</td>\n",
       "      <td>[data analyst]</td>\n",
       "      <td>None</td>\n",
       "    </tr>\n",
       "    <tr>\n",
       "      <th>16</th>\n",
       "      <td>date_time</td>\n",
       "      <td>object</td>\n",
       "      <td>3559</td>\n",
       "      <td>0</td>\n",
       "      <td>0.00000</td>\n",
       "      <td>[2023-08-03 03:00:09.849838, 2023-08-03 03:00:...</td>\n",
       "      <td>None</td>\n",
       "    </tr>\n",
       "    <tr>\n",
       "      <th>17</th>\n",
       "      <td>search_location</td>\n",
       "      <td>object</td>\n",
       "      <td>1</td>\n",
       "      <td>0</td>\n",
       "      <td>0.00000</td>\n",
       "      <td>[United States]</td>\n",
       "      <td>None</td>\n",
       "    </tr>\n",
       "    <tr>\n",
       "      <th>18</th>\n",
       "      <td>commute_time</td>\n",
       "      <td>float64</td>\n",
       "      <td>0</td>\n",
       "      <td>34153</td>\n",
       "      <td>1.00000</td>\n",
       "      <td>[nan]</td>\n",
       "      <td>(nan, nan, nan)</td>\n",
       "    </tr>\n",
       "    <tr>\n",
       "      <th>19</th>\n",
       "      <td>salary_pay</td>\n",
       "      <td>object</td>\n",
       "      <td>1308</td>\n",
       "      <td>28050</td>\n",
       "      <td>0.82130</td>\n",
       "      <td>[nan, 40–75, 43–48, 17–46, 18.33–28.20, 75–125...</td>\n",
       "      <td>None</td>\n",
       "    </tr>\n",
       "    <tr>\n",
       "      <th>20</th>\n",
       "      <td>salary_rate</td>\n",
       "      <td>object</td>\n",
       "      <td>3</td>\n",
       "      <td>28050</td>\n",
       "      <td>0.82130</td>\n",
       "      <td>[nan, an hour, a year, a month]</td>\n",
       "      <td>None</td>\n",
       "    </tr>\n",
       "    <tr>\n",
       "      <th>21</th>\n",
       "      <td>salary_avg</td>\n",
       "      <td>float64</td>\n",
       "      <td>659</td>\n",
       "      <td>28050</td>\n",
       "      <td>0.82130</td>\n",
       "      <td>[nan, 57.5, 45.5, 31.5, 23.265, 100.0, 41.5, 6...</td>\n",
       "      <td>(7.25, 288000.0, 34835.32406029822)</td>\n",
       "    </tr>\n",
       "    <tr>\n",
       "      <th>22</th>\n",
       "      <td>salary_min</td>\n",
       "      <td>float64</td>\n",
       "      <td>405</td>\n",
       "      <td>28400</td>\n",
       "      <td>0.83155</td>\n",
       "      <td>[nan, 40.0, 43.0, 17.0, 18.33, 75.0, 66053.0, ...</td>\n",
       "      <td>(8.0, 230000.0, 29361.50363810186)</td>\n",
       "    </tr>\n",
       "    <tr>\n",
       "      <th>23</th>\n",
       "      <td>salary_max</td>\n",
       "      <td>float64</td>\n",
       "      <td>445</td>\n",
       "      <td>28400</td>\n",
       "      <td>0.83155</td>\n",
       "      <td>[nan, 75.0, 48.0, 46.0, 28.2, 125.0, 43.0, 709...</td>\n",
       "      <td>(10.0, 346000.0, 41164.45734225622)</td>\n",
       "    </tr>\n",
       "    <tr>\n",
       "      <th>24</th>\n",
       "      <td>salary_hourly</td>\n",
       "      <td>float64</td>\n",
       "      <td>251</td>\n",
       "      <td>30147</td>\n",
       "      <td>0.88270</td>\n",
       "      <td>[nan, 57.5, 45.5, 31.5, 23.265, 100.0, 41.5, 4...</td>\n",
       "      <td>(7.25, 300.0, 42.73529830254617)</td>\n",
       "    </tr>\n",
       "    <tr>\n",
       "      <th>25</th>\n",
       "      <td>salary_yearly</td>\n",
       "      <td>float64</td>\n",
       "      <td>399</td>\n",
       "      <td>32068</td>\n",
       "      <td>0.93895</td>\n",
       "      <td>[nan, 68516.5, 70000.0, 125000.0, 96500.0, 100...</td>\n",
       "      <td>(29289.84, 288000.0, 101847.84247242207)</td>\n",
       "    </tr>\n",
       "    <tr>\n",
       "      <th>26</th>\n",
       "      <td>salary_standardized</td>\n",
       "      <td>float64</td>\n",
       "      <td>653</td>\n",
       "      <td>28050</td>\n",
       "      <td>0.82130</td>\n",
       "      <td>[nan, 119600.0, 94640.0, 65520.0, 48391.2, 208...</td>\n",
       "      <td>(15080.0, 624000.0, 93291.19661068328)</td>\n",
       "    </tr>\n",
       "    <tr>\n",
       "      <th>27</th>\n",
       "      <td>description_tokens</td>\n",
       "      <td>object</td>\n",
       "      <td>6838</td>\n",
       "      <td>0</td>\n",
       "      <td>0.00000</td>\n",
       "      <td>[['r', 'python'], ['r', 'matlab', 'python', 'm...</td>\n",
       "      <td>None</td>\n",
       "    </tr>\n",
       "  </tbody>\n",
       "</table>\n",
       "</div>"
      ],
      "text/plain": [
       "               col_name    dtype  num_unique  num_null  pct_null  \\\n",
       "0                 index    int64       34153         0   0.00000   \n",
       "1            Unnamed: 0    int64       34153         0   0.00000   \n",
       "2                 index    int64        3785         0   0.00000   \n",
       "3                 title   object       13157         0   0.00000   \n",
       "4          company_name   object        8208         0   0.00000   \n",
       "5              location   object         635        24   0.00070   \n",
       "6                   via   object         556         9   0.00026   \n",
       "7           description   object       24276         0   0.00000   \n",
       "8            extensions   object        5528         0   0.00000   \n",
       "9                job_id   object       34133         0   0.00000   \n",
       "10            thumbnail   object        5967     15125   0.44286   \n",
       "11            posted_at   object          80         0   0.00000   \n",
       "12        schedule_type   object          22       177   0.00518   \n",
       "13       work_from_home   object           1     18896   0.55327   \n",
       "14               salary   object        1308     28050   0.82130   \n",
       "15          search_term   object           1         0   0.00000   \n",
       "16            date_time   object        3559         0   0.00000   \n",
       "17      search_location   object           1         0   0.00000   \n",
       "18         commute_time  float64           0     34153   1.00000   \n",
       "19           salary_pay   object        1308     28050   0.82130   \n",
       "20          salary_rate   object           3     28050   0.82130   \n",
       "21           salary_avg  float64         659     28050   0.82130   \n",
       "22           salary_min  float64         405     28400   0.83155   \n",
       "23           salary_max  float64         445     28400   0.83155   \n",
       "24        salary_hourly  float64         251     30147   0.88270   \n",
       "25        salary_yearly  float64         399     32068   0.93895   \n",
       "26  salary_standardized  float64         653     28050   0.82130   \n",
       "27   description_tokens   object        6838         0   0.00000   \n",
       "\n",
       "                                        unique_values  \\\n",
       "0             RangeIndex(start=0, stop=34153, step=1)   \n",
       "1   [0, 1, 2, 3, 4, 5, 6, 7, 8, 9, 10, 11, 12, 13,...   \n",
       "2   [0, 1, 2, 3, 4, 5, 6, 7, 8, 9, 10, 11, 12, 13,...   \n",
       "3   [Data Analyst, Junior Data Analyst/Scientist R...   \n",
       "4   [Chloeta, Upwork, ATC, Guidehouse, AnMed Healt...   \n",
       "5   [  Oklahoma City, OK   ,  Anywhere ,   United ...   \n",
       "6   [via ZipRecruiter, via Upwork, via LinkedIn, v...   \n",
       "7   [Job Summary: The Data Analyst oversees data p...   \n",
       "8   [['21 hours ago', 'Full-time', 'Health insuran...   \n",
       "9   [eyJqb2JfdGl0bGUiOiJEYXRhIEFuYWx5c3QiLCJodGlkb...   \n",
       "10  [nan, https://encrypted-tbn0.gstatic.com/image...   \n",
       "11  [21 hours ago, 17 hours ago, 12 hours ago, 10 ...   \n",
       "12  [Full-time, Contractor, Part-time, Internship,...   \n",
       "13                                        [nan, True]   \n",
       "14  [nan, 40–75 an hour, 43–48 an hour, 17–46 an h...   \n",
       "15                                     [data analyst]   \n",
       "16  [2023-08-03 03:00:09.849838, 2023-08-03 03:00:...   \n",
       "17                                    [United States]   \n",
       "18                                              [nan]   \n",
       "19  [nan, 40–75, 43–48, 17–46, 18.33–28.20, 75–125...   \n",
       "20                    [nan, an hour, a year, a month]   \n",
       "21  [nan, 57.5, 45.5, 31.5, 23.265, 100.0, 41.5, 6...   \n",
       "22  [nan, 40.0, 43.0, 17.0, 18.33, 75.0, 66053.0, ...   \n",
       "23  [nan, 75.0, 48.0, 46.0, 28.2, 125.0, 43.0, 709...   \n",
       "24  [nan, 57.5, 45.5, 31.5, 23.265, 100.0, 41.5, 4...   \n",
       "25  [nan, 68516.5, 70000.0, 125000.0, 96500.0, 100...   \n",
       "26  [nan, 119600.0, 94640.0, 65520.0, 48391.2, 208...   \n",
       "27  [['r', 'python'], ['r', 'matlab', 'python', 'm...   \n",
       "\n",
       "                      range (min, max, mean)  \n",
       "0                                       None  \n",
       "1                        (0, 34152, 17076.0)  \n",
       "2               (0, 3784, 1141.691418030627)  \n",
       "3                                       None  \n",
       "4                                       None  \n",
       "5                                       None  \n",
       "6                                       None  \n",
       "7                                       None  \n",
       "8                                       None  \n",
       "9                                       None  \n",
       "10                                      None  \n",
       "11                                      None  \n",
       "12                                      None  \n",
       "13                                      None  \n",
       "14                                      None  \n",
       "15                                      None  \n",
       "16                                      None  \n",
       "17                                      None  \n",
       "18                           (nan, nan, nan)  \n",
       "19                                      None  \n",
       "20                                      None  \n",
       "21       (7.25, 288000.0, 34835.32406029822)  \n",
       "22        (8.0, 230000.0, 29361.50363810186)  \n",
       "23       (10.0, 346000.0, 41164.45734225622)  \n",
       "24          (7.25, 300.0, 42.73529830254617)  \n",
       "25  (29289.84, 288000.0, 101847.84247242207)  \n",
       "26    (15080.0, 624000.0, 93291.19661068328)  \n",
       "27                                      None  "
      ]
     },
     "execution_count": 79,
     "metadata": {},
     "output_type": "execute_result"
    }
   ],
   "source": [
    "check_columns(jobs_df)"
   ]
  },
  {
   "cell_type": "code",
   "execution_count": 71,
   "metadata": {},
   "outputs": [],
   "source": [
    "def check_columns(DataFrame, reports=False, graphs=False, dates=False):\n",
    "    \"\"\"\n",
    "    This function takes a pandas dataframe as input and returns\n",
    "    a dataframe with information about each column in the dataframe.\n",
    "    \"\"\"\n",
    "\n",
    "    dataframeinfo = []\n",
    "\n",
    "    # Check information about the index\n",
    "    index_dtype = DataFrame.index.dtype\n",
    "    index_unique_vals = DataFrame.index.unique()\n",
    "    index_num_unique = DataFrame.index.nunique()\n",
    "    index_num_null = DataFrame.index.isna().sum()\n",
    "    index_pct_null = index_num_null / len(DataFrame.index)\n",
    "\n",
    "    if pd.api.types.is_numeric_dtype(index_dtype) and not isinstance(\n",
    "        DataFrame.index, pd.RangeIndex\n",
    "    ):\n",
    "        index_min_val = DataFrame.index.min()\n",
    "        index_max_val = DataFrame.index.max()\n",
    "        index_range_vals = (index_min_val, index_max_val)\n",
    "    elif pd.api.types.is_datetime64_any_dtype(index_dtype):\n",
    "        index_min_val = DataFrame.index.min()\n",
    "        index_max_val = DataFrame.index.max()\n",
    "        index_range_vals = (\n",
    "            index_min_val.strftime(\"%Y-%m-%d\"),\n",
    "            index_max_val.strftime(\"%Y-%m-%d\"),\n",
    "        )\n",
    "\n",
    "        # Check for missing dates in the index if dates kwarg is True\n",
    "        if dates:\n",
    "            full_date_range = pd.date_range(\n",
    "                start=index_min_val, end=index_max_val, freq=\"D\"\n",
    "            )\n",
    "            missing_dates = full_date_range.difference(DataFrame.index)\n",
    "            if not missing_dates.empty:\n",
    "                print(\n",
    "                    f\"Missing dates in index: ({len(missing_dates)} Total) {missing_dates.tolist()}\"\n",
    "                )\n",
    "    else:\n",
    "        index_range_vals = None\n",
    "\n",
    "    dataframeinfo.append(\n",
    "        [\n",
    "            \"index\",\n",
    "            index_dtype,\n",
    "            index_num_unique,\n",
    "            index_num_null,\n",
    "            index_pct_null,\n",
    "            index_unique_vals,\n",
    "            index_range_vals,\n",
    "        ]\n",
    "    )\n",
    "\n",
    "    print(f\"Total rows: {DataFrame.shape[0]}\")\n",
    "    print(f\"Total columns: {DataFrame.shape[1]}\")\n",
    "\n",
    "    if reports:\n",
    "        describe = DataFrame.describe().round(2)\n",
    "        print(describe)\n",
    "\n",
    "    if graphs:\n",
    "        DataFrame.hist(figsize=(10, 10))\n",
    "        plt.subplots_adjust(hspace=0.5)\n",
    "        plt.show()\n",
    "\n",
    "    for column in DataFrame.columns:\n",
    "        dtype = DataFrame[column].dtype\n",
    "        num_null = DataFrame[column].isna().sum()\n",
    "        pct_null = DataFrame[column].isna().mean().round(5)\n",
    "\n",
    "        try:\n",
    "            unique_vals = DataFrame[column].unique()\n",
    "            num_unique = DataFrame[column].nunique()\n",
    "        except TypeError:\n",
    "            unique_vals = \"Column contains multiple lists\"\n",
    "            num_unique = \"ERROR\"\n",
    "\n",
    "        if pd.api.types.is_numeric_dtype(dtype):\n",
    "            min_val = DataFrame[column].min()\n",
    "            max_val = DataFrame[column].max()\n",
    "            mean_val = DataFrame[column].mean()\n",
    "            range_vals = (min_val, max_val, mean_val)\n",
    "        elif pd.api.types.is_datetime64_any_dtype(dtype):\n",
    "            min_val = DataFrame[column].min()\n",
    "            max_val = DataFrame[column].max()\n",
    "            range_vals = (min_val.strftime(\"%Y-%m-%d\"), max_val.strftime(\"%Y-%m-%d\"))\n",
    "\n",
    "            if dates:\n",
    "                full_date_range_col = pd.date_range(\n",
    "                    start=min_val, end=max_val, freq=\"D\"\n",
    "                )\n",
    "                missing_dates_col = full_date_range_col.difference(DataFrame[column])\n",
    "                if not missing_dates_col.empty:\n",
    "                    print(\n",
    "                        f\"Missing dates in column '{column}': ({len(missing_dates_col)} Total) {missing_dates_col.tolist()}\"\n",
    "                    )\n",
    "                else:\n",
    "                    print(f\"No missing dates in column '{column}'\")\n",
    "\n",
    "        else:\n",
    "            range_vals = None\n",
    "\n",
    "        dataframeinfo.append(\n",
    "            [column, dtype, num_unique, num_null, pct_null, unique_vals, range_vals]\n",
    "        )\n",
    "\n",
    "    return pd.DataFrame(\n",
    "        dataframeinfo,\n",
    "        columns=[\n",
    "            \"col_name\",\n",
    "            \"dtype\",\n",
    "            \"num_unique\",\n",
    "            \"num_null\",\n",
    "            \"pct_null\",\n",
    "            \"unique_values\",\n",
    "            \"range (min, max, mean)\",\n",
    "        ],\n",
    "    )"
   ]
  },
  {
   "cell_type": "markdown",
   "metadata": {},
   "source": [
    "<div style=\"background-color: #; padding: 0px; \">\n",
    "\n",
    "## <font size='10'><i>**Plan**</i></font> <font size='5'><i>→ Acquire → Prepare → Explore → Model → Deliver</i></font>\n",
    "\n",
    "---"
   ]
  },
  {
   "cell_type": "markdown",
   "metadata": {},
   "source": [
    "### Initial Hypotheses"
   ]
  },
  {
   "cell_type": "markdown",
   "metadata": {},
   "source": [
    "1. Hypothesis\n",
    "\n",
    "2. Hypothesis\n",
    "\n",
    "3. Hypothesis\n",
    "\n",
    "4. Hypothesis\n",
    "\n",
    "5. Hypothesis\n",
    "\n",
    "6. Hypothesis"
   ]
  },
  {
   "cell_type": "markdown",
   "metadata": {},
   "source": [
    "<div style=\"background-color: #; padding: 0px; \">\n",
    "\n",
    "## <font size='5'><i>Plan → </i></font> <font size='10'><i>**Acquire**</i></font> <font size='5'><i> → Prepare → Explore → Model → Deliver</i></font>\n",
    "\n",
    "---"
   ]
  },
  {
   "cell_type": "markdown",
   "metadata": {},
   "source": [
    "### Acquisition\n"
   ]
  },
  {
   "cell_type": "markdown",
   "metadata": {},
   "source": [
    "\n",
    "- I originally intended on pulling all of the data myself using LinkedIn webscraping or another job resource.\n",
    "\n",
    "- I was able to use a scraper for LinkedIn, but after reading into it, they don't like that and have been known to send cease and desist letters.\n",
    "\n",
    "- Potential\n",
    "\n",
    "- Google however, is allowed to scrape LinkedIn, for search engine purposes.\n",
    "\n",
    "- Using Google's job search, we can then scrape all job postings (which also includes LinkedIn).\n",
    "\n",
    "- Although we have the capability to scrape the postings ourself, due to the limitations, the amount of data to be useful isn't feasibly with the timeline.\n",
    "\n",
    "- I found a public dataset that has a head start of 33 thousand job postings."
   ]
  },
  {
   "cell_type": "markdown",
   "metadata": {},
   "source": [
    "### The Dataset"
   ]
  },
  {
   "cell_type": "markdown",
   "metadata": {},
   "source": [
    "Due to time constraints on the project and the value added when using a large dataset, we searched for a public dataset.\n",
    "\n",
    "- We acquired the data from a Kaggle dataset that has been scraping \"Data Analyst\" job postings for the past year. The dataset has 33,000 entries as of 1 November 2023."
   ]
  },
  {
   "cell_type": "markdown",
   "metadata": {},
   "source": [
    "#### CSV From:\n",
    "\n",
    "- https://www.kaggle.com/datasets/lukebarousse/data-analyst-job-postings-google-search/data?select=gsearch_jobs.csv\n",
    "\n",
    "> \"This dataset pulls job postings from Google's search results for Data Analyst positions in the United States. <br>\n",
    "> Data collection started on November 4th, 2022, and adds ~100 new job postings to this dataset daily.\""
   ]
  },
  {
   "cell_type": "code",
   "execution_count": 72,
   "metadata": {},
   "outputs": [],
   "source": [
    "import pandas as pd\n",
    "\n",
    "# Read in job_scrapes\n",
    "jobs_df = pd.read_csv(\"../support_files/working_docs/jobs.csv\")"
   ]
  },
  {
   "cell_type": "markdown",
   "metadata": {},
   "source": [
    "| Field Name | Description |\n",
    "| --- | --- |\n",
    "| `Unnamed: 0` | Appears to be an auto-incremented identifier. |\n",
    "| `index` | Another identifier, possibly redundant with \"Unnamed: 0\". |\n",
    "| `title` | Job title. |\n",
    "| `company_name` | Name of the company offering the job. |\n",
    "| `location` | Location of the job. |\n",
    "| `via` | Source/platform where the job was posted. |\n",
    "| `description` | Detailed description of the job. |\n",
    "| `extensions` | Additional information about the job (e.g., job type, benefits). |\n",
    "| `job_id` | A unique identifier for the job, possibly encoded. |\n",
    "| `thumbnail` | URL to a thumbnail image associated with the job/company. |\n",
    "| `url` | URL for the job posting. |\n",
    "| `company_description` | Description of the company. |\n",
    "| `company_rating` | Company's rating. |\n",
    "| `rating_count` | Number of ratings the company received. |\n",
    "| `job_type` | Type of the job (e.g., full-time, part-time). |\n",
    "| `benefits` | List of benefits provided by the company. |\n",
    "| `posted` | When the job was posted. |\n",
    "| `deadline` | Application deadline for the job. |\n",
    "| `employment_type` | Employment type (e.g., full-time, contract). |\n",
    "| `commute_time` | Information on commute time, if available. |\n",
    "| `salary_pay` | Salary payment value, if available. |\n",
    "| `salary_rate` | Salary rate (e.g., per hour, per year), if available. |\n",
    "| `salary_avg` | Average salary for the job, if available. |\n",
    "| `salary_min` | Minimum salary for the job, if available. |\n",
    "| `salary_max` | Maximum salary for the job, if available. |\n",
    "| `salary_hourly` | Hourly salary, if available. |\n",
    "| `salary_yearly` | Yearly salary, if available. |\n",
    "| `salary_standardized` | Standardized salary information, if available. |\n",
    "| `description_tokens` | List of skills extracted from the job description. |"
   ]
  },
  {
   "cell_type": "markdown",
   "metadata": {},
   "source": [
    "<div style=\"background-color: #; padding: 0px; \">\n",
    "\n",
    "## <font size='5'><i>Plan → Acquire → </i></font> <font size='10'><i>**Prepare**</i></font> <font size='5'><i> → Explore → Model → Deliver</i></font>\n",
    "\n",
    "--- "
   ]
  },
  {
   "cell_type": "markdown",
   "metadata": {},
   "source": [
    "The dataset had some columns that were engineered since the scraping. Due to us wanting reproducability for our own scraped data, we did not use any of the engineered columns from the dataset, and developed our own. We also dropped columns that we do not intend to use.\n",
    "\n",
    "From the original dataset, we dropped:"
   ]
  },
  {
   "cell_type": "code",
   "execution_count": null,
   "metadata": {},
   "outputs": [],
   "source": [
    "jobs_df_cleaned = prepare_jobs(jobs_df)"
   ]
  },
  {
   "cell_type": "markdown",
   "metadata": {},
   "source": [
    "### Drop Columns\n",
    "*Looking to reduce dimensionality of the dataset*"
   ]
  },
  {
   "cell_type": "markdown",
   "metadata": {},
   "source": [
    "- Our dataset came with some extra index columns that we dropped\n",
    "\n",
    "    - `Unnamed: 0`\n",
    "    - `index`"
   ]
  },
  {
   "cell_type": "markdown",
   "metadata": {},
   "source": [
    "- These were just columns we didn't see a use for and wanted to reduce dimensionality\n",
    "\n",
    "    - `extensions` - *Google defined tokens for the posting oftentimes benefits packages. Maybe later.*\n",
    "    - `thumbnail` - *The companies thumbnail*\n",
    "    - `search_term` - *All are \"Data Analyst\"*\n",
    "    - `search_location` - *All are \"United States\"*\n",
    "    - `commute_time` - *All nulls*"
   ]
  },
  {
   "cell_type": "markdown",
   "metadata": {},
   "source": [
    "- Although our dataset came with the following columns, we wanted to be able to reproduce on unseen data, so we created functions to create these ourselves:\n",
    "\n",
    "    - `salary_avg`\n",
    "    - `salary_min`\n",
    "    - `salary_max`\n",
    "    - `salary_hourly`\n",
    "    - `salary_yearly`\n",
    "    - `salary_standardized`\n",
    "    - `description_tokens`"
   ]
  },
  {
   "cell_type": "markdown",
   "metadata": {},
   "source": [
    "### Check for Duplicates\n",
    "\n",
    "*`job_id` was the only unique column per job posting, turned out to be 20 duplicate posts from scraping*"
   ]
  },
  {
   "cell_type": "markdown",
   "metadata": {},
   "source": [
    "### Handling Missing Data\n",
    "*Some columns had nulls. They aren't a big deal for analysis and we won't use those for modeling anyway.*"
   ]
  },
  {
   "cell_type": "markdown",
   "metadata": {},
   "source": [
    "The only assumptions we imputed to the data was `work_from_home`. \n",
    "\n",
    "- This had 55% nulls, and the rest was True.\n",
    "- We imputed the remaining 45% as False."
   ]
  },
  {
   "cell_type": "markdown",
   "metadata": {},
   "source": [
    "\n",
    "`salary` had 82% missing, so most of our jobs don't have the salary included. We decided that was fine and what we had, could still provide insights.\n",
    "\n",
    "`schedule_type` had minimal nulls, but in the end we only worked with \"Full-time\" positions anyway. Full-time was 72% of the original dataset."
   ]
  },
  {
   "cell_type": "markdown",
   "metadata": {},
   "source": [
    "#### Work From Home"
   ]
  },
  {
   "cell_type": "markdown",
   "metadata": {},
   "source": [
    "`work_from_home` had 55% nulls and the remaining 45% was True. We assumed the remaining 45% was False."
   ]
  },
  {
   "cell_type": "markdown",
   "metadata": {},
   "source": [
    "### Feature Engineering - Standardizing Salary\n",
    "*original dataframe had some weird metrics, and we wanted/needed to do it ourselves for reproducability*"
   ]
  },
  {
   "cell_type": "markdown",
   "metadata": {},
   "source": [
    "- With the scraped `salary` column they all were not formatted the same. Some examples are:\n",
    "\n",
    "    - \"77K-116K a year\"\n",
    "    - \"40-75 an hour\"\n",
    "    - \"165K a year\"\n",
    "    - \"53 an hour\"\n",
    "    - \"4.6K-6K a month\""
   ]
  },
  {
   "cell_type": "markdown",
   "metadata": {},
   "source": [
    "- From this column, we engineered:\n",
    "\n",
    "    - `pay_rate` - hourly, monthly, or annually\n",
    "    - `cleaned_salary` - salary stripped to numbers only"
   ]
  },
  {
   "cell_type": "markdown",
   "metadata": {},
   "source": [
    "- For the following, we annualized all of the salaries (hourly * 2080, monthly * 12)\n",
    "\n",
    "    - `min_salary` - lower end of the salary range provided *(or the only digit provided)*\n",
    "    - `max_salary` - upper end of the salary range provided *(or the only digit provided)*\n",
    "    - `avg_salary` - average salary between the two ranges *(or the only digit provided)*"
   ]
  },
  {
   "cell_type": "markdown",
   "metadata": {},
   "source": [
    "### Standardize Location Column\n",
    "*`location` had 0.07% nulls. We won't drop those, as they will still provide information for non-location based analytics.*"
   ]
  },
  {
   "cell_type": "markdown",
   "metadata": {},
   "source": [
    "*Some postings had cities in the dataset. We won't be narrowing down that much, so we broadened each posting to the state level, if applicable.*\n",
    "\n",
    "Our dataset only had the following locations:\n",
    "\n",
    "| Location             | Percentage |\n",
    "|----------------------|------------|\n",
    "| United States        | 33%        |\n",
    "| Anywhere             | 29%        |\n",
    "| Missouri             | 14%        |\n",
    "| Oklahoma             | 8%         |\n",
    "| Kansas               | 7%         |\n",
    "| Arkansas             | 6%         |\n",
    "| California           | 0.4%       |\n",
    "| Multiple Locations   | 0.17%      |\n",
    "| Texas                | 0.14%      |\n",
    "| Unknown              | 0.09%      |\n",
    "| Nebraska             | 0.04%      |\n",
    "| Massachusetts        | 0.04%      |\n",
    "| New York             | 0.03%      |\n",
    "| Pennsylvania         | 0.02%      |\n",
    "| District of Columbia | 0.01%      |\n",
    "| New Jersey           | 0.004%     |\n",
    "| Connecticut          | 0.004%     |"
   ]
  },
  {
   "cell_type": "markdown",
   "metadata": {},
   "source": [
    "### Date Formatting\n",
    "*feature engineered a `posting_created` column*"
   ]
  },
  {
   "cell_type": "markdown",
   "metadata": {},
   "source": [
    "Our dataframe had `date_time`, which was the date and time that the data was scraped, we converted this to date_time type and renamed to `date_scraped`\n",
    "\n",
    "We also had a `posted_at`, fromatted as \"X hours ago\", which was when the posting was created. We made this a timedelta type.\n",
    "\n",
    "With both of those columns, we created `posting_created`, by subtracting timedelta, from the date_time."
   ]
  },
  {
   "cell_type": "markdown",
   "metadata": {},
   "source": [
    "### Standardize Job Title"
   ]
  },
  {
   "cell_type": "markdown",
   "metadata": {},
   "source": [
    "`title` originally had 13,157 different values in the dataset. We standardized these into `title_cleaned` by:\n",
    "- Data Scientist - titles containing \"scie\"\n",
    "- Data Engineer - titles containing \"eng\"\n",
    "- Data Analyst - titles containing \"ana\"\n",
    "- Other - if it didn't fit any of these\n",
    "\n",
    "We left Other in the dataframe, since it still provided value with data job descriptions. We did not include it in our model predictions, since there was no value in predicting it.\n",
    "\n",
    "Some examples of \"Other\" titles were:\n",
    "- \"Trillium Data Quality\"\n",
    "- \"Systematic review\"\n",
    "- \"GA4 full setup + Conversion and Pixel API setup\""
   ]
  },
  {
   "cell_type": "markdown",
   "metadata": {},
   "source": [
    "### Job Description NLP Processing"
   ]
  },
  {
   "cell_type": "markdown",
   "metadata": {},
   "source": [
    "`description` was the job description in it's scraped format.\n",
    "\n",
    "We made `description_cleaned`, which was a tokenized, normalized, and lemmatized version of `description`\n",
    "\n",
    "From `description_cleaned`, we pulled out categories of keywords related to data jobs. The categories we looked at were:\n",
    "- programming languages\n",
    "- machine learning algorithms\n",
    "- visualization tools\n",
    "- big data tools\n",
    "- cloud tools\n",
    "- business intelligence\n",
    "\n",
    "With the words we defined from these categories, we created `description_tokens`."
   ]
  },
  {
   "cell_type": "markdown",
   "metadata": {},
   "source": [
    "#### Creation of `description_cleaned`\n",
    "*We used `punkt` (for sentence tokenization) and standard `stopwords` for tokenizing, normalizing, and lemmatizing*"
   ]
  },
  {
   "cell_type": "markdown",
   "metadata": {},
   "source": [
    "#### Define Keywords for `description_tokenized`\n",
    "\n",
    "*We selected some keywords that identify into certain data categories. Then we checked the description for single occurences of these words and assigned it to `description_tokens`*"
   ]
  },
  {
   "cell_type": "markdown",
   "metadata": {},
   "source": [
    "| Analyst Tools       | Programming Languages | Business Intelligence | Big Data           | ML Algorithms                                | Visualization Tools       | Cloud Tools   | Computer Vision & NLP        |\n",
    "|---------------------|-----------------------|-----------------------|--------------------|---------------------------------------------|---------------------------|---------------|------------------------------|\n",
    "| excel               | sql                   | tableau               | mysql              | regression                                  | matplotlib                | aws           | computer vision             |\n",
    "| tableau             | python                | power bi              | postgresql         | clustering                                  | seaborn                   | azure         | natural language processing |\n",
    "| word                | r                     | power_bi              | microsoft sql      | classification                              | plotly                    | gcp           |                              |\n",
    "| powerpoint          | c                     | google data studio    | sqlite             | predictive                                  | ggplot                    | snowflake     |                              |\n",
    "| looker              | c#                    | quicksight            | mongodb            | prediction                                  | shiny                     | redshift      |                              |\n",
    "| powerbi             | javascript            | qlik sense            | bigquery           | decision trees                              | geoplotlib                | bigquery      |                              |\n",
    "| outlook             | js                    | azure synapse         | oracle database    | random forests                              | bokeh                     | aurora        |                              |\n",
    "| azure               | java                  | looker                | azure sql          | cnn                                         | d3 js                     | amazon        |                              |\n",
    "| jira                | scala                 | alteryx               | amazon rds         | gradient boosting                           | leaflet / folium          | ec2           |                              |\n",
    "| twilio              | sas                   | sap analytics cloud   | google cloud sql   | bayesian approaches                         | pygal                     | s3            |                              |\n",
    "| snowflake           | matlab                | tibco spotfire        | snowflake          | dense neural networks                       | altair                    |               |                              |\n",
    "| shell               | c++                   | domo                  |                    | mlp                                         | dygraphs                  |               |                              |\n",
    "| linux               | c/c++                 | sisense               |                    | rnn                                         | highcharter               |               |                              |\n",
    "| sas                 | perl                  | thoughtspot           |                    | transformer networks                        | tableau                   |               |                              |\n",
    "| sharepoint          | go                    |                       |                    | bert                                        | microsoft power bi        |               |                              |\n",
    "| mysql               | typescript            |                       |                    | gpt-3                                       | google data studio        |               |                              |\n",
    "| visio               | bash                  |                       |                    | graph neural networks                       | amazon quicksight         |               |                              |\n",
    "| git                 | html                  |                       |                    | autoencoder networks                        | qlik sense                |               |                              |\n",
    "| mssql               | css                   |                       |                    | dae                                         | azure synapse             |               |                              |\n",
    "| powerpoints         | php                   |                       |                    | vae                                         | looker                    |               |                              |\n",
    "| postgresql          | powershell            |                       |                    | gan                                         | alteryx                   |               |                              |\n",
    "| spreadsheets        | rust                  |                       |                    | evolutionary approaches                     | sap analytics cloud       |               |                              |\n",
    "| seaborn             | kotlin                |                       |                    |                                             | tibco spotfire            |               |                              |\n",
    "| pandas              | ruby                  |                       |                    |                                             | domo                      |               |                              |\n",
    "| gdpr                | dart                  |                       |                    |                                             | sisense                   |               |                              |\n",
    "| spreadsheet         | assembly              |                       |                    |                                             | thoughtspot               |               |                              |\n",
    "| alteryx             | swift                 |                       |                    |                                             |                           |               |                              |\n",
    "| github              | vba                   |                       |                    |                                             |                           |               |                              |\n",
    "| postgres            | lua                   |                       |                    |                                             |                           |               |                              |\n",
    "| ssis                | groovy                |                       |                    |                                             |                           |               |                              |\n",
    "| numpy               | delphi                |                       |                    |                                             |                           |               |                              |\n",
    "| power_bi            | objective-c           |                       |                    |                                             |                           |               |                              |\n",
    "| spss                | haskell               |                       |                    |                                             |                           |               |                              |\n",
    "| ssrs                | elixir                |                       |                    |                                             |                           |               |                              |\n",
    "| microstrategy       | julia                 |                       |                    |                                             |                           |               |                              |\n",
    "| cognos              | clojure               |                       |                    |                                             |                           |               |                              |\n",
    "| dax                 | solidity              |                       |                    |                                             |                           |               |                              |\n",
    "| matplotlib          | lisp                  |                       |                    |                                             |                           |               |                              |\n",
    "| dplyr               | f#                    |                       |                    |                                             |                           |               |                              |\n",
    "| tidyr               | fortran               |                       |                    |                                             |                           |               |                              |\n",
    "| ggplot2             | erlang                |                       |                    |                                             |                           |               |                              |\n",
    "| plotly              | apl                   |                       |                    |                                             |                           |               |                              |\n",
    "| esquisse            | cobol                 |                       |                    |                                             |                           |               |                              |\n",
    "| rshiny              | ocaml                 |                       |                    |                                             |                           |               |                              |\n",
    "| mlr                 | crystal               |                       |                    |                                             |                           |               |                              |\n",
    "| docker              | javascript/typescript |                       |                    |                                             |                           |               |                              |\n",
    "| linux               | golang                |                       |                    |                                             |                           |               |                              |\n",
    "| jira                | nosql                 |                       |                    |                                             |                           |               |                              |\n",
    "| hadoop              | mongodb               |                       |                    |                                             |                           |               |                              |\n",
    "| airflow             | t-sql                 |                       |                    |                                             |                           |               |                              |\n",
    "| redis               | no-sql                |                       |                    |                                             |                           |               |                              |\n",
    "| graphql             | visual_basic          |                       |                    |                                             |                           |               |                              |\n",
    "| sap                 | pascal                |                       |                    |                                             |                           |               |                              |\n",
    "| tensorflow          | mongo                 |                       |                    |                                             |                           |               |                              |\n",
    "| node                | pl/sql                |                       |                    |                                             |                           |               |                              |\n",
    "| asp.net             | sass                  |                       |                    |                                             |                           |               |                              |\n",
    "| unix                | vb.net                |                       |                    |                                             |                           |               |                              |\n",
    "| jquery              | mssql                 |                       |                    |                                             |                           |               |                              |\n",
    "| pyspark             |                       |                       |                    |                                             |                           |               |                              |\n",
    "| pytorch             |                       |                       |                    |                                             |                           |               |                              |\n",
    "| gitlab              |                       |                       |                    |                                             |                           |               |                              |\n",
    "| selenium            |                       |                       |                    |                                             |                           |               |                              |\n",
    "| splunk              |                       |                       |                    |                                             |                           |               |                              |\n",
    "| bitbucket           |                       |                       |                    |                                             |                           |               |                              |\n",
    "| qlik                |                       |                       |                    |                                             |                           |               |                              |\n",
    "| terminal            |                       |                       |                    |                                             |                           |               |                              |\n",
    "| atlassian           |                       |                       |                    |                                             |                           |               |                              |\n",
    "| unix/linux          |                       |                       |                    |                                             |                           |               |                              |\n",
    "| linux/unix          |                       |                       |                    |                                             |                           |               |                              |\n",
    "| ubuntu              |                       |                       |                    |                                             |                           |               |                              |\n",
    "| nuix                |                       |                       |                    |                                             |                           |               |                              |\n",
    "| datarobot           |                       |                       |                    |                                             |                           |               |                              |\n"
   ]
  },
  {
   "cell_type": "markdown",
   "metadata": {},
   "source": [
    "### Schedule Types"
   ]
  },
  {
   "cell_type": "markdown",
   "metadata": {},
   "source": [
    "`schedule_type` contained many different values, and comparing freelance work to full-time, wasn't accurate and skewed the metrics.\n",
    "\n",
    "During exploration it was identified that contract (typically freelance) positions tend to pay a lot more than full time.\n",
    "- Some of these positions were offering up to $750 an hour\n",
    "- This caused issues when we annualized the pay (multiplied by 2080 for hourly)\n",
    "\n",
    "Freelance work is typically not something for entry level positions, so for now we will only look into full-time positions."
   ]
  },
  {
   "cell_type": "markdown",
   "metadata": {},
   "source": [
    "### Check out the final dataframe"
   ]
  },
  {
   "cell_type": "code",
   "execution_count": 113,
   "metadata": {},
   "outputs": [
    {
     "name": "stdout",
     "output_type": "stream",
     "text": [
      "Total rows: 24669\n",
      "Total columns: 22\n"
     ]
    },
    {
     "data": {
      "text/html": [
       "<div>\n",
       "<style scoped>\n",
       "    .dataframe tbody tr th:only-of-type {\n",
       "        vertical-align: middle;\n",
       "    }\n",
       "\n",
       "    .dataframe tbody tr th {\n",
       "        vertical-align: top;\n",
       "    }\n",
       "\n",
       "    .dataframe thead th {\n",
       "        text-align: right;\n",
       "    }\n",
       "</style>\n",
       "<table border=\"1\" class=\"dataframe\">\n",
       "  <thead>\n",
       "    <tr style=\"text-align: right;\">\n",
       "      <th></th>\n",
       "      <th>col_name</th>\n",
       "      <th>dtype</th>\n",
       "      <th>num_unique</th>\n",
       "      <th>num_null</th>\n",
       "      <th>pct_null</th>\n",
       "      <th>unique_values</th>\n",
       "      <th>range (min, max, mean)</th>\n",
       "    </tr>\n",
       "  </thead>\n",
       "  <tbody>\n",
       "    <tr>\n",
       "      <th>0</th>\n",
       "      <td>index</td>\n",
       "      <td>datetime64[ns]</td>\n",
       "      <td>6892</td>\n",
       "      <td>0</td>\n",
       "      <td>0.00000</td>\n",
       "      <td>DatetimeIndex(['2023-08-02 06:00:00', '2023-08...</td>\n",
       "      <td>(2022-11-03, 2023-11-02)</td>\n",
       "    </tr>\n",
       "    <tr>\n",
       "      <th>1</th>\n",
       "      <td>title</td>\n",
       "      <td>object</td>\n",
       "      <td>7559</td>\n",
       "      <td>0</td>\n",
       "      <td>0.00000</td>\n",
       "      <td>[Data Analyst, Research Data Analyst 1, Health...</td>\n",
       "      <td>None</td>\n",
       "    </tr>\n",
       "    <tr>\n",
       "      <th>2</th>\n",
       "      <td>company_name</td>\n",
       "      <td>object</td>\n",
       "      <td>7251</td>\n",
       "      <td>0</td>\n",
       "      <td>0.00000</td>\n",
       "      <td>[Chloeta, ATC, Guidehouse, Oregon Health &amp; Sci...</td>\n",
       "      <td>None</td>\n",
       "    </tr>\n",
       "    <tr>\n",
       "      <th>3</th>\n",
       "      <td>location</td>\n",
       "      <td>object</td>\n",
       "      <td>623</td>\n",
       "      <td>22</td>\n",
       "      <td>0.00089</td>\n",
       "      <td>[  Oklahoma City, OK   ,   United States   ,  ...</td>\n",
       "      <td>None</td>\n",
       "    </tr>\n",
       "    <tr>\n",
       "      <th>4</th>\n",
       "      <td>via</td>\n",
       "      <td>object</td>\n",
       "      <td>522</td>\n",
       "      <td>9</td>\n",
       "      <td>0.00036</td>\n",
       "      <td>[via ZipRecruiter, via LinkedIn, via Nexxt, vi...</td>\n",
       "      <td>None</td>\n",
       "    </tr>\n",
       "    <tr>\n",
       "      <th>5</th>\n",
       "      <td>description</td>\n",
       "      <td>object</td>\n",
       "      <td>16439</td>\n",
       "      <td>0</td>\n",
       "      <td>0.00000</td>\n",
       "      <td>[Job Summary: The Data Analyst oversees data p...</td>\n",
       "      <td>None</td>\n",
       "    </tr>\n",
       "    <tr>\n",
       "      <th>6</th>\n",
       "      <td>posted_at</td>\n",
       "      <td>timedelta64[ns]</td>\n",
       "      <td>54</td>\n",
       "      <td>0</td>\n",
       "      <td>0.00000</td>\n",
       "      <td>[0 days 21:00:00, 0 days 12:00:00, 0 days 10:0...</td>\n",
       "      <td>None</td>\n",
       "    </tr>\n",
       "    <tr>\n",
       "      <th>7</th>\n",
       "      <td>schedule_type</td>\n",
       "      <td>object</td>\n",
       "      <td>1</td>\n",
       "      <td>0</td>\n",
       "      <td>0.00000</td>\n",
       "      <td>[Full-time]</td>\n",
       "      <td>None</td>\n",
       "    </tr>\n",
       "    <tr>\n",
       "      <th>8</th>\n",
       "      <td>work_from_home</td>\n",
       "      <td>bool</td>\n",
       "      <td>2</td>\n",
       "      <td>0</td>\n",
       "      <td>0.00000</td>\n",
       "      <td>[False, True]</td>\n",
       "      <td>(False, True, 0.29153998946045645)</td>\n",
       "    </tr>\n",
       "    <tr>\n",
       "      <th>9</th>\n",
       "      <td>date_scraped</td>\n",
       "      <td>datetime64[ns]</td>\n",
       "      <td>3481</td>\n",
       "      <td>0</td>\n",
       "      <td>0.00000</td>\n",
       "      <td>[2023-08-03 03:00:09.849838, 2023-08-03 03:00:...</td>\n",
       "      <td>(2022-11-04, 2023-11-02)</td>\n",
       "    </tr>\n",
       "    <tr>\n",
       "      <th>10</th>\n",
       "      <td>salary_pay</td>\n",
       "      <td>object</td>\n",
       "      <td>830</td>\n",
       "      <td>22104</td>\n",
       "      <td>0.89602</td>\n",
       "      <td>[nan, 43–48, 18.33–28.20, 66053–70980, 60K–80K...</td>\n",
       "      <td>None</td>\n",
       "    </tr>\n",
       "    <tr>\n",
       "      <th>11</th>\n",
       "      <td>salary_rate</td>\n",
       "      <td>object</td>\n",
       "      <td>3</td>\n",
       "      <td>22104</td>\n",
       "      <td>0.89602</td>\n",
       "      <td>[nan, an hour, a year, a month]</td>\n",
       "      <td>None</td>\n",
       "    </tr>\n",
       "    <tr>\n",
       "      <th>12</th>\n",
       "      <td>cleaned_salary</td>\n",
       "      <td>object</td>\n",
       "      <td>826</td>\n",
       "      <td>22104</td>\n",
       "      <td>0.89602</td>\n",
       "      <td>[nan, 43–48  , 18.33–28.20  , 66053–70980  , 6...</td>\n",
       "      <td>None</td>\n",
       "    </tr>\n",
       "    <tr>\n",
       "      <th>13</th>\n",
       "      <td>pay_rate</td>\n",
       "      <td>object</td>\n",
       "      <td>3</td>\n",
       "      <td>22104</td>\n",
       "      <td>0.89602</td>\n",
       "      <td>[nan, hourly, yearly, monthly]</td>\n",
       "      <td>None</td>\n",
       "    </tr>\n",
       "    <tr>\n",
       "      <th>14</th>\n",
       "      <td>min_salary</td>\n",
       "      <td>float64</td>\n",
       "      <td>352</td>\n",
       "      <td>22104</td>\n",
       "      <td>0.89602</td>\n",
       "      <td>[nan, 89440.0, 38126.399999999994, 66053.0, 60...</td>\n",
       "      <td>(20800.0, 249600.0, 83357.73004288498)</td>\n",
       "    </tr>\n",
       "    <tr>\n",
       "      <th>15</th>\n",
       "      <td>max_salary</td>\n",
       "      <td>float64</td>\n",
       "      <td>405</td>\n",
       "      <td>22104</td>\n",
       "      <td>0.89602</td>\n",
       "      <td>[nan, 99840.0, 58656.0, 70980.0, 80000.0, 1500...</td>\n",
       "      <td>(24960.0, 346000.0, 113371.59584405457)</td>\n",
       "    </tr>\n",
       "    <tr>\n",
       "      <th>16</th>\n",
       "      <td>avg_salary</td>\n",
       "      <td>float64</td>\n",
       "      <td>494</td>\n",
       "      <td>22104</td>\n",
       "      <td>0.89602</td>\n",
       "      <td>[nan, 94640.0, 48391.200000000004, 68516.5, 70...</td>\n",
       "      <td>(22880.0, 288000.0, 98364.6629434698)</td>\n",
       "    </tr>\n",
       "    <tr>\n",
       "      <th>17</th>\n",
       "      <td>location_cleaned</td>\n",
       "      <td>object</td>\n",
       "      <td>17</td>\n",
       "      <td>0</td>\n",
       "      <td>0.00000</td>\n",
       "      <td>[Oklahoma, United States, Kansas, Anywhere, Ar...</td>\n",
       "      <td>None</td>\n",
       "    </tr>\n",
       "    <tr>\n",
       "      <th>18</th>\n",
       "      <td>posting_created</td>\n",
       "      <td>object</td>\n",
       "      <td>6892</td>\n",
       "      <td>0</td>\n",
       "      <td>0.00000</td>\n",
       "      <td>[2023-08-02 06:00, 2023-08-02 15:00, 2023-08-0...</td>\n",
       "      <td>None</td>\n",
       "    </tr>\n",
       "    <tr>\n",
       "      <th>19</th>\n",
       "      <td>title_cleaned</td>\n",
       "      <td>object</td>\n",
       "      <td>4</td>\n",
       "      <td>0</td>\n",
       "      <td>0.00000</td>\n",
       "      <td>[Data Analyst, Data Engineer, Data Scientist, ...</td>\n",
       "      <td>None</td>\n",
       "    </tr>\n",
       "    <tr>\n",
       "      <th>20</th>\n",
       "      <td>description_cleaned</td>\n",
       "      <td>object</td>\n",
       "      <td>ERROR</td>\n",
       "      <td>0</td>\n",
       "      <td>0.00000</td>\n",
       "      <td>Column contains multiple lists</td>\n",
       "      <td>None</td>\n",
       "    </tr>\n",
       "    <tr>\n",
       "      <th>21</th>\n",
       "      <td>description_tokens</td>\n",
       "      <td>object</td>\n",
       "      <td>ERROR</td>\n",
       "      <td>0</td>\n",
       "      <td>0.00000</td>\n",
       "      <td>Column contains multiple lists</td>\n",
       "      <td>None</td>\n",
       "    </tr>\n",
       "    <tr>\n",
       "      <th>22</th>\n",
       "      <td>sector</td>\n",
       "      <td>object</td>\n",
       "      <td>8</td>\n",
       "      <td>0</td>\n",
       "      <td>0.00000</td>\n",
       "      <td>[Business, Healthcare, Finance, Other, Technol...</td>\n",
       "      <td>None</td>\n",
       "    </tr>\n",
       "  </tbody>\n",
       "</table>\n",
       "</div>"
      ],
      "text/plain": [
       "               col_name            dtype num_unique  num_null  pct_null  \\\n",
       "0                 index   datetime64[ns]       6892         0   0.00000   \n",
       "1                 title           object       7559         0   0.00000   \n",
       "2          company_name           object       7251         0   0.00000   \n",
       "3              location           object        623        22   0.00089   \n",
       "4                   via           object        522         9   0.00036   \n",
       "5           description           object      16439         0   0.00000   \n",
       "6             posted_at  timedelta64[ns]         54         0   0.00000   \n",
       "7         schedule_type           object          1         0   0.00000   \n",
       "8        work_from_home             bool          2         0   0.00000   \n",
       "9          date_scraped   datetime64[ns]       3481         0   0.00000   \n",
       "10           salary_pay           object        830     22104   0.89602   \n",
       "11          salary_rate           object          3     22104   0.89602   \n",
       "12       cleaned_salary           object        826     22104   0.89602   \n",
       "13             pay_rate           object          3     22104   0.89602   \n",
       "14           min_salary          float64        352     22104   0.89602   \n",
       "15           max_salary          float64        405     22104   0.89602   \n",
       "16           avg_salary          float64        494     22104   0.89602   \n",
       "17     location_cleaned           object         17         0   0.00000   \n",
       "18      posting_created           object       6892         0   0.00000   \n",
       "19        title_cleaned           object          4         0   0.00000   \n",
       "20  description_cleaned           object      ERROR         0   0.00000   \n",
       "21   description_tokens           object      ERROR         0   0.00000   \n",
       "22               sector           object          8         0   0.00000   \n",
       "\n",
       "                                        unique_values  \\\n",
       "0   DatetimeIndex(['2023-08-02 06:00:00', '2023-08...   \n",
       "1   [Data Analyst, Research Data Analyst 1, Health...   \n",
       "2   [Chloeta, ATC, Guidehouse, Oregon Health & Sci...   \n",
       "3   [  Oklahoma City, OK   ,   United States   ,  ...   \n",
       "4   [via ZipRecruiter, via LinkedIn, via Nexxt, vi...   \n",
       "5   [Job Summary: The Data Analyst oversees data p...   \n",
       "6   [0 days 21:00:00, 0 days 12:00:00, 0 days 10:0...   \n",
       "7                                         [Full-time]   \n",
       "8                                       [False, True]   \n",
       "9   [2023-08-03 03:00:09.849838, 2023-08-03 03:00:...   \n",
       "10  [nan, 43–48, 18.33–28.20, 66053–70980, 60K–80K...   \n",
       "11                    [nan, an hour, a year, a month]   \n",
       "12  [nan, 43–48  , 18.33–28.20  , 66053–70980  , 6...   \n",
       "13                     [nan, hourly, yearly, monthly]   \n",
       "14  [nan, 89440.0, 38126.399999999994, 66053.0, 60...   \n",
       "15  [nan, 99840.0, 58656.0, 70980.0, 80000.0, 1500...   \n",
       "16  [nan, 94640.0, 48391.200000000004, 68516.5, 70...   \n",
       "17  [Oklahoma, United States, Kansas, Anywhere, Ar...   \n",
       "18  [2023-08-02 06:00, 2023-08-02 15:00, 2023-08-0...   \n",
       "19  [Data Analyst, Data Engineer, Data Scientist, ...   \n",
       "20                     Column contains multiple lists   \n",
       "21                     Column contains multiple lists   \n",
       "22  [Business, Healthcare, Finance, Other, Technol...   \n",
       "\n",
       "                     range (min, max, mean)  \n",
       "0                  (2022-11-03, 2023-11-02)  \n",
       "1                                      None  \n",
       "2                                      None  \n",
       "3                                      None  \n",
       "4                                      None  \n",
       "5                                      None  \n",
       "6                                      None  \n",
       "7                                      None  \n",
       "8        (False, True, 0.29153998946045645)  \n",
       "9                  (2022-11-04, 2023-11-02)  \n",
       "10                                     None  \n",
       "11                                     None  \n",
       "12                                     None  \n",
       "13                                     None  \n",
       "14   (20800.0, 249600.0, 83357.73004288498)  \n",
       "15  (24960.0, 346000.0, 113371.59584405457)  \n",
       "16    (22880.0, 288000.0, 98364.6629434698)  \n",
       "17                                     None  \n",
       "18                                     None  \n",
       "19                                     None  \n",
       "20                                     None  \n",
       "21                                     None  \n",
       "22                                     None  "
      ]
     },
     "execution_count": 113,
     "metadata": {},
     "output_type": "execute_result"
    }
   ],
   "source": [
    "check_columns(jobs_df_cleaned)"
   ]
  },
  {
   "cell_type": "markdown",
   "metadata": {},
   "source": [
    "### Prepped CSV Export / Import"
   ]
  },
  {
   "cell_type": "code",
   "execution_count": 78,
   "metadata": {},
   "outputs": [],
   "source": [
    "# Export as MVP CSV\n",
    "#jobs_df_cleaned.to_csv(\"../support_files/working_docs/jobs_mvp.csv\", index=False)"
   ]
  },
  {
   "cell_type": "code",
   "execution_count": 31,
   "metadata": {},
   "outputs": [],
   "source": [
    "# import ast\n",
    "\n",
    "# # Read in CSV\n",
    "# jobs_df_cleaned = pd.read_csv(\"../support_files/working_docs/jobs_mvp.csv\")\n",
    "\n",
    "# # Convert the strings in 'description_cleaned' and 'description_tokens' back into lists\n",
    "# jobs_df_cleaned['description_cleaned'] = jobs_df_cleaned['description_cleaned'].apply(ast.literal_eval)\n",
    "# jobs_df_cleaned['description_tokens'] = jobs_df_cleaned['description_tokens'].apply(ast.literal_eval)\n",
    "\n",
    "# # Verify description cleaned column was assigned list class\n",
    "# type_of_first_element = type(jobs_df_cleaned.description_cleaned.iloc[0])\n",
    "# print(f'description_cleaned:', type_of_first_element)\n",
    "\n",
    "# # Verify description tokens column was assigned list class\n",
    "# type_of_first_element = type(jobs_df_cleaned.description_tokens.iloc[0])\n",
    "# print(f'description_tokens:', type_of_first_element)\n",
    "\n",
    "# # Make the index date time\n",
    "# jobs_df_cleaned.index = pd.to_datetime(jobs_df_cleaned[\"posting_created\"])\n",
    "\n",
    "# check_columns(jobs_df_cleaned)"
   ]
  },
  {
   "cell_type": "markdown",
   "metadata": {},
   "source": [
    "<div style=\"background-color: #; padding: 0px; \">\n",
    "\n",
    "## <font size='5'><i>Plan → Acquire → Prepare → </i></font> <font size='10'><i>**Explore**</i></font> <font size='5'><i>→ Model → Deliver</i></font>\n",
    "---"
   ]
  },
  {
   "cell_type": "markdown",
   "metadata": {},
   "source": [
    "### Questions"
   ]
  },
  {
   "cell_type": "markdown",
   "metadata": {},
   "source": [
    "1. Most Common Words in READMEs\n",
    "\n",
    "2. README Length by Programming Language\n",
    "\n",
    "3. Number of Unique Words by Programming Language\n",
    "\n",
    "4. Words Uniquely Identifying a Programming Language\n",
    "\n",
    "5. Further Exploration"
   ]
  },
  {
   "cell_type": "markdown",
   "metadata": {},
   "source": [
    "### Train, Validate, & Test Splits"
   ]
  },
  {
   "cell_type": "code",
   "execution_count": 79,
   "metadata": {},
   "outputs": [
    {
     "name": "stdout",
     "output_type": "stream",
     "text": [
      "Train size: 15788 (80.00%)\n",
      "Test size: 3947 (20.00%)\n"
     ]
    }
   ],
   "source": [
    "from sklearn.model_selection import train_test_split\n",
    "\n",
    "# Split the data into train and test sets (Our validate will be generated during GridSearch)\n",
    "train, test = train_test_split(\n",
    "    jobs_df_cleaned, train_size=0.8, test_size=0.2, random_state=321\n",
    ")\n",
    "\n",
    "# Print sizes, length of set and ratio of total\n",
    "print(f\"Train size: {len(train)} ({len(train) / len(jobs_df_cleaned):.2%})\")\n",
    "print(f\"Test size: {len(test)} ({len(test) / len(jobs_df_cleaned):.2%})\")"
   ]
  },
  {
   "cell_type": "code",
   "execution_count": 8,
   "metadata": {},
   "outputs": [],
   "source": [
    "# Retain variable\n",
    "jobs_df_cleaned = train.copy()"
   ]
  },
  {
   "cell_type": "code",
   "execution_count": 35,
   "metadata": {},
   "outputs": [],
   "source": [
    "import matplotlib.pyplot as plt\n",
    "import seaborn as sns\n",
    "\n",
    "\n",
    "def eda_plot(df, column, topn=20):\n",
    "    \"\"\"\n",
    "    This function takes a DataFrame, a column name, and a number as parameters.\n",
    "    It creates a bar plot of the top 'n' most frequent values in the specified column.\n",
    "\n",
    "    Parameters:\n",
    "    df (DataFrame): The input DataFrame.\n",
    "    column (str): The name of the column to plot.\n",
    "    topn (int): The number of top values to include in the plot.\n",
    "\n",
    "    Returns:\n",
    "    None\n",
    "    \"\"\"\n",
    "\n",
    "    # Create a figure\n",
    "    plt.figure(figsize=(12, 4))\n",
    "\n",
    "    # Get the top 'n' most frequent values in the column\n",
    "    top_values = df[column].value_counts().nlargest(topn)\n",
    "\n",
    "    # Create a bar plot of the top values\n",
    "    # Use the 'hsv' colormap to get different colors for each bar\n",
    "    sns.barplot(x=top_values.index, y=top_values.values, palette=\"hsv\")\n",
    "\n",
    "    # Set the title and labels\n",
    "    plt.title(f\"'{column}' column value counts\", fontsize=20)\n",
    "    plt.ylabel(\"Counts\", fontsize=15)\n",
    "    plt.xlabel(column, fontsize=15)\n",
    "\n",
    "    # Rotate the x-axis labels for better readability\n",
    "    plt.xticks(rotation=45, ha=\"right\")\n",
    "\n",
    "    display(jobs_df_cleaned[column].value_counts(dropna=True).head(topn))\n",
    "\n",
    "    # Display the plot\n",
    "    plt.show()"
   ]
  },
  {
   "cell_type": "markdown",
   "metadata": {},
   "source": [
    "### What companies have the most job postings?"
   ]
  },
  {
   "cell_type": "markdown",
   "metadata": {},
   "source": [
    "What the function does"
   ]
  },
  {
   "cell_type": "code",
   "execution_count": 36,
   "metadata": {},
   "outputs": [
    {
     "data": {
      "text/plain": [
       "company_name\n",
       "Walmart                             941\n",
       "Talentify.io                        620\n",
       "EDWARD JONES                        568\n",
       "Corporate                           463\n",
       "Cox Communications                  417\n",
       "Centene Corporation                 155\n",
       "Insight Global                      138\n",
       "Staffigo Technical Services, LLC    128\n",
       "Dice                                108\n",
       "Jobot                                83\n",
       "Name: count, dtype: int64"
      ]
     },
     "metadata": {},
     "output_type": "display_data"
    },
    {
     "data": {
      "image/png": "[encoded data removed]",
      "text/plain": [
       "<Figure size 1200x400 with 1 Axes>"
      ]
     },
     "metadata": {},
     "output_type": "display_data"
    }
   ],
   "source": [
    "eda_plot(jobs_df_cleaned, \"company_name\", topn=10)"
   ]
  },
  {
   "cell_type": "markdown",
   "metadata": {},
   "source": [
    "Summary"
   ]
  },
  {
   "cell_type": "markdown",
   "metadata": {},
   "source": [
    "### What is the location spread for our dataset?"
   ]
  },
  {
   "cell_type": "markdown",
   "metadata": {},
   "source": [
    "What the function does"
   ]
  },
  {
   "cell_type": "code",
   "execution_count": 37,
   "metadata": {},
   "outputs": [
    {
     "data": {
      "text/plain": [
       "location_cleaned\n",
       "United States         6636\n",
       "Anywhere              5762\n",
       "Missouri              2813\n",
       "Oklahoma              1602\n",
       "Kansas                1416\n",
       "Arkansas              1317\n",
       "California              74\n",
       "Multiple Locations      38\n",
       "Name: count, dtype: int64"
      ]
     },
     "metadata": {},
     "output_type": "display_data"
    },
    {
     "data": {
      "image/png": "[encoded data removed]",
      "text/plain": [
       "<Figure size 1200x400 with 1 Axes>"
      ]
     },
     "metadata": {},
     "output_type": "display_data"
    }
   ],
   "source": [
    "eda_plot(jobs_df_cleaned, \"location_cleaned\", topn=8)"
   ]
  },
  {
   "cell_type": "markdown",
   "metadata": {},
   "source": [
    "### Within the Google Jobs search, which site has the most postings?"
   ]
  },
  {
   "cell_type": "markdown",
   "metadata": {},
   "source": [
    "What the function does"
   ]
  },
  {
   "cell_type": "code",
   "execution_count": 38,
   "metadata": {},
   "outputs": [
    {
     "data": {
      "text/plain": [
       "via\n",
       "via LinkedIn        6628\n",
       "via BeBee           2596\n",
       "via Trabajo.org     2110\n",
       "via ZipRecruiter    1576\n",
       "via Indeed           994\n",
       "Name: count, dtype: int64"
      ]
     },
     "metadata": {},
     "output_type": "display_data"
    },
    {
     "data": {
      "image/png": "[encoded data removed]",
      "text/plain": [
       "<Figure size 1200x400 with 1 Axes>"
      ]
     },
     "metadata": {},
     "output_type": "display_data"
    }
   ],
   "source": [
    "eda_plot(jobs_df_cleaned, \"via\", topn=5)"
   ]
  },
  {
   "cell_type": "markdown",
   "metadata": {},
   "source": [
    "### What words are most common in data job descriptions?"
   ]
  },
  {
   "cell_type": "markdown",
   "metadata": {},
   "source": [
    "What the function does"
   ]
  },
  {
   "cell_type": "code",
   "execution_count": 39,
   "metadata": {},
   "outputs": [],
   "source": [
    "import pandas as pd\n",
    "from collections import Counter\n",
    "import matplotlib.pyplot as plt\n",
    "import seaborn as sns\n",
    "\n",
    "\n",
    "def plot_most_common_words(df, column_name, n):\n",
    "    \"\"\"\n",
    "    Get the n most common words from a specific column of a dataframe and plot them.\n",
    "\n",
    "    Parameters:\n",
    "    - df (DataFrame): The dataframe containing the data.\n",
    "    - column_name (str): The name of the column containing lists of words.\n",
    "    - n (int): The number of most common words to retrieve.\n",
    "    \"\"\"\n",
    "\n",
    "    # Ensure the column is interpreted as lists, but only if the value is a string\n",
    "    df[column_name] = df[column_name].apply(\n",
    "        lambda x: eval(x) if isinstance(x, str) else x\n",
    "    )\n",
    "\n",
    "    # Get the frequency of each word in each row\n",
    "    word_frequency = df[column_name].apply(\n",
    "        lambda words_list: {word: 1 for word in set(words_list)}\n",
    "    )\n",
    "\n",
    "    # Combine all the dictionaries into one big dictionary\n",
    "    combined_frequency = Counter({key: 0 for key in set().union(*word_frequency)})\n",
    "    for freq in word_frequency:\n",
    "        combined_frequency.update(freq)\n",
    "\n",
    "    # Sort the dictionary by values in descending order and get the top n words\n",
    "    most_common_words = combined_frequency.most_common(n)\n",
    "\n",
    "    # Convert to DataFrame\n",
    "    result_df = pd.DataFrame(most_common_words, columns=[\"word\", \"count\"])\n",
    "\n",
    "    # Sort by highest occurence first\n",
    "    result_df = result_df.sort_values(by=\"count\", ascending=True)\n",
    "\n",
    "    # Calculate the frequency\n",
    "    total_rows = df.shape[0]\n",
    "    result_df[\"frequency\"] = result_df[\"count\"] / total_rows\n",
    "\n",
    "    # Generate a list of colors\n",
    "    colors = sns.color_palette(\"hsv\", len(result_df))\n",
    "\n",
    "    # Plot common words\n",
    "    plt.figure(figsize=(15, 10))\n",
    "    plt.barh(result_df[\"word\"], result_df[\"count\"], color=colors)\n",
    "    plt.title(\"Most Common Words in Job Descriptions\")\n",
    "    plt.xlabel(\"Count\")\n",
    "    plt.ylabel(\"Word\")\n",
    "    plt.show()"
   ]
  },
  {
   "cell_type": "code",
   "execution_count": 40,
   "metadata": {},
   "outputs": [
    {
     "data": {
      "image/png": "[encoded data removed]",
      "text/plain": [
       "<Figure size 1500x1000 with 1 Axes>"
      ]
     },
     "metadata": {},
     "output_type": "display_data"
    }
   ],
   "source": [
    "plot_most_common_words(jobs_df_cleaned, \"description_cleaned\", 20)"
   ]
  },
  {
   "cell_type": "markdown",
   "metadata": {},
   "source": [
    "### Do a majority of places allow work from home or want you in the work place?\n",
    "<i> Remember this is full time only </i>"
   ]
  },
  {
   "cell_type": "markdown",
   "metadata": {},
   "source": [
    "What the function does"
   ]
  },
  {
   "cell_type": "code",
   "execution_count": 41,
   "metadata": {},
   "outputs": [
    {
     "data": {
      "text/plain": [
       "work_from_home\n",
       "False    13973\n",
       "True      5762\n",
       "Name: count, dtype: int64"
      ]
     },
     "metadata": {},
     "output_type": "display_data"
    },
    {
     "data": {
      "image/png": "[encoded data removed]",
      "text/plain": [
       "<Figure size 1200x400 with 1 Axes>"
      ]
     },
     "metadata": {},
     "output_type": "display_data"
    }
   ],
   "source": [
    "eda_plot(jobs_df_cleaned, \"work_from_home\", topn=2)"
   ]
  },
  {
   "cell_type": "markdown",
   "metadata": {},
   "source": [
    "### **(NEEDS WORK)** What sectors are hiring the most data analysts?"
   ]
  },
  {
   "cell_type": "markdown",
   "metadata": {},
   "source": [
    "What the function does"
   ]
  },
  {
   "cell_type": "code",
   "execution_count": 42,
   "metadata": {},
   "outputs": [
    {
     "data": {
      "text/plain": [
       "sector\n",
       "Business       11739\n",
       "Finance         4633\n",
       "Other           1345\n",
       "Technology       891\n",
       "Healthcare       651\n",
       "Education        435\n",
       "Retail            33\n",
       "Real Estate        8\n",
       "Name: count, dtype: int64"
      ]
     },
     "metadata": {},
     "output_type": "display_data"
    },
    {
     "data": {
      "image/png": "[encoded data removed]",
      "text/plain": [
       "<Figure size 1200x400 with 1 Axes>"
      ]
     },
     "metadata": {},
     "output_type": "display_data"
    }
   ],
   "source": [
    "eda_plot(jobs_df_cleaned[jobs_df_cleaned[\"sector\"] != \"Other\"], \"sector\", topn=10)"
   ]
  },
  {
   "cell_type": "markdown",
   "metadata": {},
   "source": [
    "### What are the overall top things to learn for data jobs?"
   ]
  },
  {
   "cell_type": "code",
   "execution_count": 43,
   "metadata": {},
   "outputs": [],
   "source": [
    "import numpy as np\n",
    "\n",
    "\n",
    "def filtered_keywords(jobs_filtered, keywords, title=None, head=10):\n",
    "    # get keywords in a column\n",
    "    count_keywords = (\n",
    "        pd.DataFrame(jobs_filtered.description_tokens.sum())\n",
    "        .value_counts()\n",
    "        .rename_axis(\"keywords\")\n",
    "        .reset_index(name=\"counts\")\n",
    "    )\n",
    "\n",
    "    # get frequency of occurence of word (as word only appears once per line)\n",
    "    length = len(jobs_filtered)  # number of job postings\n",
    "    count_keywords[\"percentage\"] = 100 * count_keywords.counts / length\n",
    "\n",
    "    # plot the results\n",
    "    count_keywords = count_keywords[count_keywords.keywords.isin(keywords)]\n",
    "    count_keywords = count_keywords.head(head)\n",
    "    g = plt.bar(\n",
    "        x=\"keywords\",\n",
    "        height=\"percentage\",\n",
    "        data=count_keywords,\n",
    "        color=np.random.rand(len(count_keywords.keywords), 3),\n",
    "    )\n",
    "    plt.xlabel(\"\")\n",
    "    plt.ylabel(\"Likelyhood to be in job posting (%)\")\n",
    "    plt.xticks(rotation=45, ha=\"right\")\n",
    "    plt.title(f\"Top {head} {title} for Data Jobs\")\n",
    "    plt.show(g)"
   ]
  },
  {
   "cell_type": "code",
   "execution_count": 44,
   "metadata": {},
   "outputs": [
    {
     "data": {
      "image/png": "[encoded data removed]",
      "text/plain": [
       "<Figure size 640x480 with 1 Axes>"
      ]
     },
     "metadata": {},
     "output_type": "display_data"
    }
   ],
   "source": [
    "filtered_keywords(jobs_df_cleaned, keywords, title=\"Tools\", head=10)"
   ]
  },
  {
   "cell_type": "markdown",
   "metadata": {},
   "source": [
    "### What are the most common programming languages in data jobs?"
   ]
  },
  {
   "cell_type": "code",
   "execution_count": 45,
   "metadata": {},
   "outputs": [
    {
     "data": {
      "image/png": "[encoded data removed]",
      "text/plain": [
       "<Figure size 640x480 with 1 Axes>"
      ]
     },
     "metadata": {},
     "output_type": "display_data"
    }
   ],
   "source": [
    "filtered_keywords(\n",
    "    jobs_df_cleaned, keywords_programming, title=\"Programming Languages\", head=10\n",
    ")"
   ]
  },
  {
   "cell_type": "markdown",
   "metadata": {},
   "source": [
    "Summary"
   ]
  },
  {
   "cell_type": "markdown",
   "metadata": {},
   "source": [
    "### What are the most common Machine Learning principles for data jobs?"
   ]
  },
  {
   "cell_type": "markdown",
   "metadata": {},
   "source": [
    "What the function does"
   ]
  },
  {
   "cell_type": "code",
   "execution_count": 46,
   "metadata": {},
   "outputs": [
    {
     "data": {
      "image/png": "[encoded data removed]",
      "text/plain": [
       "<Figure size 640x480 with 1 Axes>"
      ]
     },
     "metadata": {},
     "output_type": "display_data"
    }
   ],
   "source": [
    "filtered_keywords(\n",
    "    jobs_df_cleaned, keywords_ML_Algorithms, title=\"Top ML Algorithms Data Analysts\"\n",
    ")"
   ]
  },
  {
   "cell_type": "markdown",
   "metadata": {},
   "source": [
    "### When do we see most data jobs being posted?"
   ]
  },
  {
   "cell_type": "code",
   "execution_count": 47,
   "metadata": {},
   "outputs": [],
   "source": [
    "import pandas as pd\n",
    "import matplotlib.pyplot as plt\n",
    "import matplotlib.dates as mdates\n",
    "\n",
    "\n",
    "def plot_monthly_postings(df):\n",
    "    \"\"\"\n",
    "    Plot the number of postings per month based on the DataFrame's datetime index.\n",
    "\n",
    "    Parameters:\n",
    "    - df (DataFrame): The DataFrame containing the data.\n",
    "    \"\"\"\n",
    "\n",
    "    # Resample the datetime index to monthly frequency and count the number of postings\n",
    "    monthly_postings = df.resample(\"M\").size()\n",
    "\n",
    "    # Change the format of monthly_postings index to be MMM-YYYY\n",
    "    monthly_postings.index = monthly_postings.index.strftime(\"%b-%Y\")\n",
    "\n",
    "    # Drop November 2023\n",
    "    monthly_postings = monthly_postings.drop(\"Nov-2023\")\n",
    "\n",
    "    # Plot the monthly postings\n",
    "    fig, ax = plt.subplots(figsize=(12, 4))\n",
    "    monthly_postings.plot(kind=\"bar\", ax=ax)\n",
    "    ax.set_title(\"Value counts by month\")\n",
    "    ax.set_ylabel(\"Counts\")\n",
    "\n",
    "    plt.xticks(rotation=45, ha=\"right\")\n",
    "    plt.show()"
   ]
  },
  {
   "cell_type": "code",
   "execution_count": 48,
   "metadata": {},
   "outputs": [
    {
     "data": {
      "image/png": "[encoded data removed]",
      "text/plain": [
       "<Figure size 1200x400 with 1 Axes>"
      ]
     },
     "metadata": {},
     "output_type": "display_data"
    }
   ],
   "source": [
    "plot_monthly_postings(jobs_df_cleaned)"
   ]
  },
  {
   "cell_type": "markdown",
   "metadata": {},
   "source": [
    "What the function does"
   ]
  },
  {
   "cell_type": "markdown",
   "metadata": {},
   "source": [
    "### Interactive Plots"
   ]
  },
  {
   "cell_type": "code",
   "execution_count": 103,
   "metadata": {},
   "outputs": [],
   "source": [
    "def get_top_skills(df, qty):\n",
    "    \"\"\"\n",
    "    This function takes a DataFrame and a quantity as parameters.\n",
    "    It returns a DataFrame with the top skills by number of postings, their frequency, and their average yearly salary.\n",
    "    The quantity parameter determines the number of top skills to return.\n",
    "\n",
    "    Parameters:\n",
    "    df (DataFrame): The input DataFrame.\n",
    "    qty (int): The number of top skills to return.\n",
    "\n",
    "    Returns:\n",
    "    DataFrame: A DataFrame with the top skills, their number of postings, their frequency, and their average yearly salary.\n",
    "    \"\"\"\n",
    "\n",
    "    # Initialize an empty dictionary to store the skills and their counts\n",
    "    skills_counts = {}\n",
    "\n",
    "    # Loop over the values in the 'description_tokens' column\n",
    "    for val in df.description_tokens.values:\n",
    "        # Convert the list of skills in each posting to a set to remove duplicates\n",
    "        unique_skills = set(val)\n",
    "        # Increment the count for each unique skill\n",
    "        for skill in unique_skills:\n",
    "            if skill in skills_counts:\n",
    "                skills_counts[skill] += 1\n",
    "            else:\n",
    "                skills_counts[skill] = 1\n",
    "\n",
    "    # Get the top skills and their counts\n",
    "    top_skill_count = sorted(skills_counts.items(), key=lambda x: -x[1])[:qty]\n",
    "\n",
    "    # Separate the skills and counts into two lists\n",
    "    top_skills = list(map(lambda x: x[0], top_skill_count))\n",
    "    top_counts = list(map(lambda x: x[1], top_skill_count))\n",
    "\n",
    "    # Initialize an empty list to store the average salaries\n",
    "    salaries = []\n",
    "\n",
    "    # Loop over the top skills and calculate their average salary\n",
    "    for skill in top_skills:\n",
    "        skill_df = df[df.description_tokens.apply(lambda x: skill in x)]\n",
    "        if skill_df.avg_salary.isna().all():  # If all salaries for this skill are NaN\n",
    "            salaries.append(np.nan)  # Append NaN to the salaries list\n",
    "        else:\n",
    "            salaries.append(skill_df.avg_salary.mean())\n",
    "\n",
    "    # Create a DataFrame with the top skills, their number of postings, and their average yearly salary\n",
    "    top_skills_df = pd.DataFrame(\n",
    "        {\n",
    "            \"skill\": top_skills,\n",
    "            \"number_of_postings\": top_counts,\n",
    "            \"avg_yearly_salary\": [\n",
    "                round(s) if s == s else np.nan for s in salaries\n",
    "            ],  # Only round the salary if it is not NaN\n",
    "        }\n",
    "    )\n",
    "\n",
    "    # Calculate the frequency of each skill\n",
    "    top_skills_df[\"frequency (%)\"] = round(\n",
    "        (top_skills_df[\"number_of_postings\"] / df.shape[0]) * 100, 2\n",
    "    )\n",
    "\n",
    "    # Sort the DataFrame by average yearly salary in descending order\n",
    "    top_skills_df = top_skills_df.sort_values(\"number_of_postings\", ascending=False)\n",
    "\n",
    "    # Remove 'none'\n",
    "    top_skills_df = top_skills_df[top_skills_df[\"skill\"] != \"none\"]\n",
    "\n",
    "    # Round values to 2 decimals\n",
    "    top_skills_df[\"avg_yearly_salary\"] = top_skills_df[\"avg_yearly_salary\"].round()\n",
    "\n",
    "    return top_skills_df\n",
    "def create_skill_plot(top_skills_df):\n",
    "    import ipywidgets as widgets\n",
    "    from IPython.display import clear_output\n",
    "    import plotly.express as px\n",
    "\n",
    "    # Create a dropdown selector for the skill category\n",
    "    skill_list_dropdown = widgets.Dropdown(\n",
    "        options=[\n",
    "            (\"All Skills\", keywords),\n",
    "            (\"Programming Languages\", keywords_programming),\n",
    "            (\"ML Algorithms\", keywords_ML_Algorithms),\n",
    "            (\"Visualization Tools\", keyword_viz + keyword_bi + keyword_bi_2),\n",
    "            (\"Big Data & Cloud\", keywords_cloud_tools + keyword_big_data),\n",
    "        ],\n",
    "        value=keywords,\n",
    "        description=\"Skill Category:\",\n",
    "    )\n",
    "\n",
    "    # Create a slider to select the number of skills to plot\n",
    "    num_skills_slider = widgets.IntSlider(\n",
    "        value=10,\n",
    "        min=1,\n",
    "        max=50,\n",
    "        step=1,\n",
    "        description=\"Number of Skills:\",\n",
    "    )\n",
    "\n",
    "    plot_button = widgets.Button(description=\"Plot\")\n",
    "    reset_button = widgets.Button(description=\"Reset\")\n",
    "\n",
    "    def plot_skills_data():\n",
    "        plot_button.on_click(update_plot)\n",
    "        reset_button.on_click(reset_selection)\n",
    "\n",
    "        display(skill_list_dropdown, num_skills_slider, plot_button)\n",
    "\n",
    "    def update_plot(b):\n",
    "        clear_output(wait=True)\n",
    "        # Filter DataFrame based on selected skills\n",
    "        df = top_skills_df[top_skills_df[\"skill\"].isin(skill_list_dropdown.value)]\n",
    "\n",
    "        # Select top N skills based on frequency\n",
    "        df = df.nlargest(num_skills_slider.value, \"frequency (%)\")\n",
    "\n",
    "        fig = px.bar(\n",
    "            df,\n",
    "            x=\"skill\",\n",
    "            y=\"frequency (%)\",\n",
    "            color=\"avg_yearly_salary\",\n",
    "            color_continuous_scale=\"Blues\",\n",
    "        )\n",
    "\n",
    "        fig.update_traces(\n",
    "            textfont_size=20,\n",
    "            hovertemplate=\"\"\"\n",
    "        <b>Skill:</b> %{x} <br> \\\n",
    "        <b>Frequency:</b> %{y}% <br> \\\n",
    "        <b>Average Salary:</b> $%{marker.color}<extra></extra>\"\"\",\n",
    "            hoverlabel=dict(font_size=20),\n",
    "        )\n",
    "\n",
    "        fig.update_layout(\n",
    "            title_text=\"Data Jobs - Salaries and Popularity<br><i style='font-size: 15px;'>Hover for details</i>\",\n",
    "            coloraxis_colorbar=dict(title=\"Average Annual Salary\"),\n",
    "            height=400,\n",
    "            width=1200,\n",
    "        )\n",
    "\n",
    "        fig.show()\n",
    "        display(reset_button)\n",
    "\n",
    "    def reset_selection(b):\n",
    "        clear_output(wait=True)\n",
    "        plot_skills_data()\n",
    "\n",
    "    plot_skills_data()\n",
    "import ipywidgets as widgets\n",
    "from IPython.display import clear_output\n",
    "import plotly.express as px\n",
    "\n",
    "def create_interactive_salary_plot(jobs_df_cleaned, top_skills_df):\n",
    "    def interactive_skill_salary(b):\n",
    "        clear_output(wait=True)\n",
    "        skill = skill_selector.value\n",
    "        if skill is None:  # Don't plot if skill is None\n",
    "            return None\n",
    "        # Filter the dataframe for jobs that mention the selected skill and have a salary\n",
    "        skill_df = jobs_df_cleaned[\n",
    "            jobs_df_cleaned[\"description_tokens\"].apply(lambda x: skill in x)\n",
    "            & jobs_df_cleaned[\"avg_salary\"].notna()\n",
    "        ].sort_values(by=\"avg_salary\")\n",
    "\n",
    "        # Reset the index\n",
    "        skill_df = skill_df.reset_index(drop=True)\n",
    "\n",
    "        total_df = jobs_df_cleaned[\n",
    "            jobs_df_cleaned[\"description_tokens\"].apply(lambda x: skill in x)\n",
    "        ]\n",
    "\n",
    "        # Calculate the average salary for the selected skill\n",
    "        avg_salary = skill_df[\"avg_salary\"].mean()\n",
    "\n",
    "        # Create a bar plot\n",
    "        fig = px.bar(\n",
    "            skill_df,\n",
    "            x=skill_df.index,\n",
    "            y=\"avg_salary\",\n",
    "            hover_data=[\n",
    "                \"avg_salary\",\n",
    "                \"description_tokens\",\n",
    "                \"company_name\",\n",
    "            ],  # Include 'company_name' in the hover data\n",
    "            labels={\"avg_salary\": \"Salary ($)\", \"index\": \"Jobs WITH Salary\"},\n",
    "            title=f\"Salary Distribution for Skill: {skill}\",\n",
    "        )\n",
    "\n",
    "        # Format hover data\n",
    "        fig.update_traces(\n",
    "            hovertemplate=\"<b>%{customdata[1]}</b><br><br>\"\n",
    "            + \"<b>Avg Salary:</b> %{y:$,.2f}<br>\"\n",
    "            + \"<b>Skills:</b> %{customdata[0]}<br>\"\n",
    "            + \"<extra></extra>\"\n",
    "        )\n",
    "\n",
    "        # Add a line for the average salary\n",
    "        fig.add_shape(\n",
    "            type=\"line\",\n",
    "            line=dict(dash=\"dash\"),\n",
    "            y0=avg_salary,\n",
    "            y1=avg_salary,\n",
    "            x0=0,\n",
    "            x1=1,\n",
    "            xref=\"paper\",\n",
    "            yref=\"y\",\n",
    "        )\n",
    "\n",
    "        # Add a text label for the average salary\n",
    "        fig.add_annotation(\n",
    "            y=avg_salary + 15000,\n",
    "            x=0,\n",
    "            xref=\"paper\",\n",
    "            yref=\"y\",\n",
    "            text=f\"Average Salary: ${avg_salary:.2f}\",\n",
    "            showarrow=False,\n",
    "            font=dict(size=20, color=\"red\"),\n",
    "        )\n",
    "\n",
    "        # Update layout\n",
    "        fig.update_layout(\n",
    "            autosize=True,\n",
    "            hovermode=\"closest\",\n",
    "            showlegend=False,\n",
    "            plot_bgcolor=\"white\",\n",
    "            yaxis=dict(title=\"Salary ($)\"),\n",
    "            xaxis=dict(title=\"Jobs WITH Salary\"),\n",
    "        )\n",
    "\n",
    "        fig.show()\n",
    "        display(reset_button)\n",
    "\n",
    "    def reset_selection(b):\n",
    "        clear_output(wait=True)\n",
    "        display(skill_selector, plot_button)\n",
    "\n",
    "    # Get the top skills sorted alphabetically\n",
    "    sorted_skills = sorted(top_skills_df[\"skill\"].unique())\n",
    "\n",
    "    # Interactive dropdown widget\n",
    "    skill_selector = widgets.Dropdown(options=sorted_skills, description=\"Skill:\")\n",
    "\n",
    "    plot_button = widgets.Button(description=\"Plot\")\n",
    "    plot_button.on_click(interactive_skill_salary)\n",
    "\n",
    "    reset_button = widgets.Button(description=\"Reset\")\n",
    "    reset_button.on_click(reset_selection)\n",
    "\n",
    "    display(skill_selector, plot_button)\n",
    "\n",
    "    import ipywidgets as widgets\n",
    "from IPython.display import clear_output\n",
    "import plotly.express as px\n",
    "\n",
    "def create_skill_postings_plot(jobs_df_cleaned, get_top_skills):\n",
    "    def plot_top_skills(df, qty, title_cleaned=None):\n",
    "        # Filter the dataframe based on the selected job title\n",
    "        if title_cleaned:\n",
    "            df = df[df[\"title_cleaned\"] == title_cleaned]\n",
    "\n",
    "        # Get the top skills\n",
    "        top_skills_df = get_top_skills(df, qty)\n",
    "\n",
    "        # Calculate the ratio of postings the word shows up in and convert to percentage\n",
    "        top_skills_df[\"number_of_postings\"] = (\n",
    "            top_skills_df[\"number_of_postings\"] / len(df)\n",
    "        ) * 100\n",
    "\n",
    "        # Sort by number of postings\n",
    "        top_skills_df.sort_values(by=\"number_of_postings\", ascending=False, inplace=True)\n",
    "\n",
    "        # Plot it\n",
    "        fig = px.bar(\n",
    "            top_skills_df,\n",
    "            x=\"skill\",\n",
    "            y=\"number_of_postings\",\n",
    "            color=\"avg_yearly_salary\",\n",
    "            color_continuous_scale=\"Blues\",\n",
    "        )\n",
    "\n",
    "        fig.update_traces(\n",
    "            textfont_size=40,\n",
    "            hovertemplate=\"\"\"<b>Skill:</b> %{x}<br><b>Postings:</b> %{y}%<br><b>Average Annual Salary:</b> $%{marker.color}<extra></extra>\"\"\",\n",
    "            hoverlabel=dict(font_size=20),\n",
    "        )\n",
    "\n",
    "        fig.update_layout(\n",
    "            title_text=f\"<b style='font-size: 30px;'>{title_cleaned if title_cleaned else 'All Jobs'} Skills</b><br><i style='font-size: 20px;'>Salaries and Popularity</i>\",\n",
    "            title_x=0.1,\n",
    "            font_color=\"black\",\n",
    "                        coloraxis_colorbar=dict(title=\"Average Annual Salary\"),\n",
    "            yaxis=dict(title=\"Percentage of Postings\"),\n",
    "        )\n",
    "        fig.show()\n",
    "\n",
    "        # Display the 'Go Back' button after the plot\n",
    "        display(go_back_button)\n",
    "\n",
    "    def on_update_button_clicked(b):\n",
    "        qty = qty_slider.value\n",
    "        title = title_dropdown.value\n",
    "        if title == \"All Data Jobs\":\n",
    "            title = None\n",
    "        clear_output(wait=True)\n",
    "        plot_top_skills(jobs_df_cleaned, qty, title)\n",
    "\n",
    "    def on_go_back_button_clicked(b):\n",
    "        clear_output(wait=True)\n",
    "        display(qty_slider, title_dropdown, update_button)\n",
    "\n",
    "    # Get unique job titles excluding 'Other'\n",
    "    job_titles = [\n",
    "        title for title in jobs_df_cleaned[\"title_cleaned\"].unique() if title != \"Other\"\n",
    "    ]\n",
    "\n",
    "    qty_slider = widgets.IntSlider(\n",
    "        min=1, max=50, step=1, value=10, description=\"Top skills:\"\n",
    "    )\n",
    "\n",
    "    # Create the dropdown widget\n",
    "    title_dropdown = widgets.Dropdown(\n",
    "        options=[\"All Data Jobs\"] + job_titles, description=\"Job title:\"\n",
    "    )\n",
    "    update_button = widgets.Button(description=\"Update Plot\")\n",
    "    update_button.on_click(on_update_button_clicked)\n",
    "\n",
    "    go_back_button = widgets.Button(description=\"Go Back\")\n",
    "    go_back_button.on_click(on_go_back_button_clicked)\n",
    "\n",
    "    display(qty_slider, title_dropdown, update_button)"
   ]
  },
  {
   "cell_type": "code",
   "execution_count": 88,
   "metadata": {},
   "outputs": [],
   "source": [
    "# Get the top skills\n",
    "top_skills_df = get_top_skills(jobs_df_cleaned, qty=100)"
   ]
  },
  {
   "cell_type": "code",
   "execution_count": 93,
   "metadata": {},
   "outputs": [],
   "source": [
    "import ipywidgets as widgets\n",
    "from IPython.display import display, clear_output\n",
    "from IPython.display import clear_output\n",
    "import ipywidgets as widgets\n",
    "from ipywidgets import interact\n",
    "import pandas as pd\n",
    "import plotly.express as px\n",
    "import ipywidgets as widgets\n",
    "from IPython.display import display, clear_output"
   ]
  },
  {
   "cell_type": "markdown",
   "metadata": {},
   "source": [
    "### What are top skills overall?"
   ]
  },
  {
   "cell_type": "code",
   "execution_count": 97,
   "metadata": {},
   "outputs": [
    {
     "data": {
      "application/vnd.plotly.v1+json": {
       "config": {
        "plotlyServerURL": "https://plot.ly"
       },
       "data": [
        {
         "alignmentgroup": "True",
         "hoverlabel": {
          "font": {
           "size": 20
          }
         },
         "hovertemplate": "\n        <b>Skill:</b> %{x} <br>         <b>Frequency:</b> %{y}% <br>         <b>Average Salary:</b> $%{marker.color}<extra></extra>",
         "legendgroup": "",
         "marker": {
          "color": [
           110981,
           97210,
           118452,
           125093,
           129954,
           null
          ],
          "coloraxis": "coloraxis",
          "pattern": {
           "shape": ""
          }
         },
         "name": "",
         "offsetgroup": "",
         "orientation": "v",
         "showlegend": false,
         "textfont": {
          "size": 20
         },
         "textposition": "auto",
         "type": "bar",
         "x": [
          "predictive",
          "classification",
          "regression",
          "clustering",
          "prediction",
          "cnn"
         ],
         "xaxis": "x",
         "y": [
          9.58,
          4,
          3.35,
          1.02,
          0.6,
          0.09
         ],
         "yaxis": "y"
        }
       ],
       "layout": {
        "barmode": "relative",
        "coloraxis": {
         "colorbar": {
          "title": {
           "text": "Average Annual Salary"
          }
         },
         "colorscale": [
          [
           0,
           "rgb(247,251,255)"
          ],
          [
           0.125,
           "rgb(222,235,247)"
          ],
          [
           0.25,
           "rgb(198,219,239)"
          ],
          [
           0.375,
           "rgb(158,202,225)"
          ],
          [
           0.5,
           "rgb(107,174,214)"
          ],
          [
           0.625,
           "rgb(66,146,198)"
          ],
          [
           0.75,
           "rgb(33,113,181)"
          ],
          [
           0.875,
           "rgb(8,81,156)"
          ],
          [
           1,
           "rgb(8,48,107)"
          ]
         ]
        },
        "height": 400,
        "legend": {
         "tracegroupgap": 0
        },
        "margin": {
         "t": 60
        },
        "template": {
         "data": {
          "bar": [
           {
            "error_x": {
             "color": "#2a3f5f"
            },
            "error_y": {
             "color": "#2a3f5f"
            },
            "marker": {
             "line": {
              "color": "#E5ECF6",
              "width": 0.5
             },
             "pattern": {
              "fillmode": "overlay",
              "size": 10,
              "solidity": 0.2
             }
            },
            "type": "bar"
           }
          ],
          "barpolar": [
           {
            "marker": {
             "line": {
              "color": "#E5ECF6",
              "width": 0.5
             },
             "pattern": {
              "fillmode": "overlay",
              "size": 10,
              "solidity": 0.2
             }
            },
            "type": "barpolar"
           }
          ],
          "carpet": [
           {
            "aaxis": {
             "endlinecolor": "#2a3f5f",
             "gridcolor": "white",
             "linecolor": "white",
             "minorgridcolor": "white",
             "startlinecolor": "#2a3f5f"
            },
            "baxis": {
             "endlinecolor": "#2a3f5f",
             "gridcolor": "white",
             "linecolor": "white",
             "minorgridcolor": "white",
             "startlinecolor": "#2a3f5f"
            },
            "type": "carpet"
           }
          ],
          "choropleth": [
           {
            "colorbar": {
             "outlinewidth": 0,
             "ticks": ""
            },
            "type": "choropleth"
           }
          ],
          "contour": [
           {
            "colorbar": {
             "outlinewidth": 0,
             "ticks": ""
            },
            "colorscale": [
             [
              0,
              "#0d0887"
             ],
             [
              0.1111111111111111,
              "#46039f"
             ],
             [
              0.2222222222222222,
              "#7201a8"
             ],
             [
              0.3333333333333333,
              "#9c179e"
             ],
             [
              0.4444444444444444,
              "#bd3786"
             ],
             [
              0.5555555555555556,
              "#d8576b"
             ],
             [
              0.6666666666666666,
              "#ed7953"
             ],
             [
              0.7777777777777778,
              "#fb9f3a"
             ],
             [
              0.8888888888888888,
              "#fdca26"
             ],
             [
              1,
              "#f0f921"
             ]
            ],
            "type": "contour"
           }
          ],
          "contourcarpet": [
           {
            "colorbar": {
             "outlinewidth": 0,
             "ticks": ""
            },
            "type": "contourcarpet"
           }
          ],
          "heatmap": [
           {
            "colorbar": {
             "outlinewidth": 0,
             "ticks": ""
            },
            "colorscale": [
             [
              0,
              "#0d0887"
             ],
             [
              0.1111111111111111,
              "#46039f"
             ],
             [
              0.2222222222222222,
              "#7201a8"
             ],
             [
              0.3333333333333333,
              "#9c179e"
             ],
             [
              0.4444444444444444,
              "#bd3786"
             ],
             [
              0.5555555555555556,
              "#d8576b"
             ],
             [
              0.6666666666666666,
              "#ed7953"
             ],
             [
              0.7777777777777778,
              "#fb9f3a"
             ],
             [
              0.8888888888888888,
              "#fdca26"
             ],
             [
              1,
              "#f0f921"
             ]
            ],
            "type": "heatmap"
           }
          ],
          "heatmapgl": [
           {
            "colorbar": {
             "outlinewidth": 0,
             "ticks": ""
            },
            "colorscale": [
             [
              0,
              "#0d0887"
             ],
             [
              0.1111111111111111,
              "#46039f"
             ],
             [
              0.2222222222222222,
              "#7201a8"
             ],
             [
              0.3333333333333333,
              "#9c179e"
             ],
             [
              0.4444444444444444,
              "#bd3786"
             ],
             [
              0.5555555555555556,
              "#d8576b"
             ],
             [
              0.6666666666666666,
              "#ed7953"
             ],
             [
              0.7777777777777778,
              "#fb9f3a"
             ],
             [
              0.8888888888888888,
              "#fdca26"
             ],
             [
              1,
              "#f0f921"
             ]
            ],
            "type": "heatmapgl"
           }
          ],
          "histogram": [
           {
            "marker": {
             "pattern": {
              "fillmode": "overlay",
              "size": 10,
              "solidity": 0.2
             }
            },
            "type": "histogram"
           }
          ],
          "histogram2d": [
           {
            "colorbar": {
             "outlinewidth": 0,
             "ticks": ""
            },
            "colorscale": [
             [
              0,
              "#0d0887"
             ],
             [
              0.1111111111111111,
              "#46039f"
             ],
             [
              0.2222222222222222,
              "#7201a8"
             ],
             [
              0.3333333333333333,
              "#9c179e"
             ],
             [
              0.4444444444444444,
              "#bd3786"
             ],
             [
              0.5555555555555556,
              "#d8576b"
             ],
             [
              0.6666666666666666,
              "#ed7953"
             ],
             [
              0.7777777777777778,
              "#fb9f3a"
             ],
             [
              0.8888888888888888,
              "#fdca26"
             ],
             [
              1,
              "#f0f921"
             ]
            ],
            "type": "histogram2d"
           }
          ],
          "histogram2dcontour": [
           {
            "colorbar": {
             "outlinewidth": 0,
             "ticks": ""
            },
            "colorscale": [
             [
              0,
              "#0d0887"
             ],
             [
              0.1111111111111111,
              "#46039f"
             ],
             [
              0.2222222222222222,
              "#7201a8"
             ],
             [
              0.3333333333333333,
              "#9c179e"
             ],
             [
              0.4444444444444444,
              "#bd3786"
             ],
             [
              0.5555555555555556,
              "#d8576b"
             ],
             [
              0.6666666666666666,
              "#ed7953"
             ],
             [
              0.7777777777777778,
              "#fb9f3a"
             ],
             [
              0.8888888888888888,
              "#fdca26"
             ],
             [
              1,
              "#f0f921"
             ]
            ],
            "type": "histogram2dcontour"
           }
          ],
          "mesh3d": [
           {
            "colorbar": {
             "outlinewidth": 0,
             "ticks": ""
            },
            "type": "mesh3d"
           }
          ],
          "parcoords": [
           {
            "line": {
             "colorbar": {
              "outlinewidth": 0,
              "ticks": ""
             }
            },
            "type": "parcoords"
           }
          ],
          "pie": [
           {
            "automargin": true,
            "type": "pie"
           }
          ],
          "scatter": [
           {
            "fillpattern": {
             "fillmode": "overlay",
             "size": 10,
             "solidity": 0.2
            },
            "type": "scatter"
           }
          ],
          "scatter3d": [
           {
            "line": {
             "colorbar": {
              "outlinewidth": 0,
              "ticks": ""
             }
            },
            "marker": {
             "colorbar": {
              "outlinewidth": 0,
              "ticks": ""
             }
            },
            "type": "scatter3d"
           }
          ],
          "scattercarpet": [
           {
            "marker": {
             "colorbar": {
              "outlinewidth": 0,
              "ticks": ""
             }
            },
            "type": "scattercarpet"
           }
          ],
          "scattergeo": [
           {
            "marker": {
             "colorbar": {
              "outlinewidth": 0,
              "ticks": ""
             }
            },
            "type": "scattergeo"
           }
          ],
          "scattergl": [
           {
            "marker": {
             "colorbar": {
              "outlinewidth": 0,
              "ticks": ""
             }
            },
            "type": "scattergl"
           }
          ],
          "scattermapbox": [
           {
            "marker": {
             "colorbar": {
              "outlinewidth": 0,
              "ticks": ""
             }
            },
            "type": "scattermapbox"
           }
          ],
          "scatterpolar": [
           {
            "marker": {
             "colorbar": {
              "outlinewidth": 0,
              "ticks": ""
             }
            },
            "type": "scatterpolar"
           }
          ],
          "scatterpolargl": [
           {
            "marker": {
             "colorbar": {
              "outlinewidth": 0,
              "ticks": ""
             }
            },
            "type": "scatterpolargl"
           }
          ],
          "scatterternary": [
           {
            "marker": {
             "colorbar": {
              "outlinewidth": 0,
              "ticks": ""
             }
            },
            "type": "scatterternary"
           }
          ],
          "surface": [
           {
            "colorbar": {
             "outlinewidth": 0,
             "ticks": ""
            },
            "colorscale": [
             [
              0,
              "#0d0887"
             ],
             [
              0.1111111111111111,
              "#46039f"
             ],
             [
              0.2222222222222222,
              "#7201a8"
             ],
             [
              0.3333333333333333,
              "#9c179e"
             ],
             [
              0.4444444444444444,
              "#bd3786"
             ],
             [
              0.5555555555555556,
              "#d8576b"
             ],
             [
              0.6666666666666666,
              "#ed7953"
             ],
             [
              0.7777777777777778,
              "#fb9f3a"
             ],
             [
              0.8888888888888888,
              "#fdca26"
             ],
             [
              1,
              "#f0f921"
             ]
            ],
            "type": "surface"
           }
          ],
          "table": [
           {
            "cells": {
             "fill": {
              "color": "#EBF0F8"
             },
             "line": {
              "color": "white"
             }
            },
            "header": {
             "fill": {
              "color": "#C8D4E3"
             },
             "line": {
              "color": "white"
             }
            },
            "type": "table"
           }
          ]
         },
         "layout": {
          "annotationdefaults": {
           "arrowcolor": "#2a3f5f",
           "arrowhead": 0,
           "arrowwidth": 1
          },
          "autotypenumbers": "strict",
          "coloraxis": {
           "colorbar": {
            "outlinewidth": 0,
            "ticks": ""
           }
          },
          "colorscale": {
           "diverging": [
            [
             0,
             "#8e0152"
            ],
            [
             0.1,
             "#c51b7d"
            ],
            [
             0.2,
             "#de77ae"
            ],
            [
             0.3,
             "#f1b6da"
            ],
            [
             0.4,
             "#fde0ef"
            ],
            [
             0.5,
             "#f7f7f7"
            ],
            [
             0.6,
             "#e6f5d0"
            ],
            [
             0.7,
             "#b8e186"
            ],
            [
             0.8,
             "#7fbc41"
            ],
            [
             0.9,
             "#4d9221"
            ],
            [
             1,
             "#276419"
            ]
           ],
           "sequential": [
            [
             0,
             "#0d0887"
            ],
            [
             0.1111111111111111,
             "#46039f"
            ],
            [
             0.2222222222222222,
             "#7201a8"
            ],
            [
             0.3333333333333333,
             "#9c179e"
            ],
            [
             0.4444444444444444,
             "#bd3786"
            ],
            [
             0.5555555555555556,
             "#d8576b"
            ],
            [
             0.6666666666666666,
             "#ed7953"
            ],
            [
             0.7777777777777778,
             "#fb9f3a"
            ],
            [
             0.8888888888888888,
             "#fdca26"
            ],
            [
             1,
             "#f0f921"
            ]
           ],
           "sequentialminus": [
            [
             0,
             "#0d0887"
            ],
            [
             0.1111111111111111,
             "#46039f"
            ],
            [
             0.2222222222222222,
             "#7201a8"
            ],
            [
             0.3333333333333333,
             "#9c179e"
            ],
            [
             0.4444444444444444,
             "#bd3786"
            ],
            [
             0.5555555555555556,
             "#d8576b"
            ],
            [
             0.6666666666666666,
             "#ed7953"
            ],
            [
             0.7777777777777778,
             "#fb9f3a"
            ],
            [
             0.8888888888888888,
             "#fdca26"
            ],
            [
             1,
             "#f0f921"
            ]
           ]
          },
          "colorway": [
           "#636efa",
           "#EF553B",
           "#00cc96",
           "#ab63fa",
           "#FFA15A",
           "#19d3f3",
           "#FF6692",
           "#B6E880",
           "#FF97FF",
           "#FECB52"
          ],
          "font": {
           "color": "#2a3f5f"
          },
          "geo": {
           "bgcolor": "white",
           "lakecolor": "white",
           "landcolor": "#E5ECF6",
           "showlakes": true,
           "showland": true,
           "subunitcolor": "white"
          },
          "hoverlabel": {
           "align": "left"
          },
          "hovermode": "closest",
          "mapbox": {
           "style": "light"
          },
          "paper_bgcolor": "white",
          "plot_bgcolor": "#E5ECF6",
          "polar": {
           "angularaxis": {
            "gridcolor": "white",
            "linecolor": "white",
            "ticks": ""
           },
           "bgcolor": "#E5ECF6",
           "radialaxis": {
            "gridcolor": "white",
            "linecolor": "white",
            "ticks": ""
           }
          },
          "scene": {
           "xaxis": {
            "backgroundcolor": "#E5ECF6",
            "gridcolor": "white",
            "gridwidth": 2,
            "linecolor": "white",
            "showbackground": true,
            "ticks": "",
            "zerolinecolor": "white"
           },
           "yaxis": {
            "backgroundcolor": "#E5ECF6",
            "gridcolor": "white",
            "gridwidth": 2,
            "linecolor": "white",
            "showbackground": true,
            "ticks": "",
            "zerolinecolor": "white"
           },
           "zaxis": {
            "backgroundcolor": "#E5ECF6",
            "gridcolor": "white",
            "gridwidth": 2,
            "linecolor": "white",
            "showbackground": true,
            "ticks": "",
            "zerolinecolor": "white"
           }
          },
          "shapedefaults": {
           "line": {
            "color": "#2a3f5f"
           }
          },
          "ternary": {
           "aaxis": {
            "gridcolor": "white",
            "linecolor": "white",
            "ticks": ""
           },
           "baxis": {
            "gridcolor": "white",
            "linecolor": "white",
            "ticks": ""
           },
           "bgcolor": "#E5ECF6",
           "caxis": {
            "gridcolor": "white",
            "linecolor": "white",
            "ticks": ""
           }
          },
          "title": {
           "x": 0.05
          },
          "xaxis": {
           "automargin": true,
           "gridcolor": "white",
           "linecolor": "white",
           "ticks": "",
           "title": {
            "standoff": 15
           },
           "zerolinecolor": "white",
           "zerolinewidth": 2
          },
          "yaxis": {
           "automargin": true,
           "gridcolor": "white",
           "linecolor": "white",
           "ticks": "",
           "title": {
            "standoff": 15
           },
           "zerolinecolor": "white",
           "zerolinewidth": 2
          }
         }
        },
        "title": {
         "text": "Data Jobs - Salaries and Popularity<br><i style='font-size: 15px;'>Hover for details</i>"
        },
        "width": 1200,
        "xaxis": {
         "anchor": "y",
         "domain": [
          0,
          1
         ],
         "title": {
          "text": "skill"
         }
        },
        "yaxis": {
         "anchor": "x",
         "domain": [
          0,
          1
         ],
         "title": {
          "text": "frequency (%)"
         }
        }
       }
      }
     },
     "metadata": {},
     "output_type": "display_data"
    },
    {
     "data": {
      "application/vnd.jupyter.widget-view+json": {
       "model_id": "6bf91fc0bc6b45d5abe935b5b8d4f5b2",
       "version_major": 2,
       "version_minor": 0
      },
      "text/plain": [
       "Button(description='Reset', style=ButtonStyle())"
      ]
     },
     "metadata": {},
     "output_type": "display_data"
    }
   ],
   "source": [
    "create_skill_plot(top_skills_df)"
   ]
  },
  {
   "cell_type": "markdown",
   "metadata": {},
   "source": [
    "### A deeper look into individual skills"
   ]
  },
  {
   "cell_type": "code",
   "execution_count": 100,
   "metadata": {},
   "outputs": [
    {
     "data": {
      "application/vnd.plotly.v1+json": {
       "config": {
        "plotlyServerURL": "https://plot.ly"
       },
       "data": [
        {
         "alignmentgroup": "True",
         "customdata": [
          [
           [
            "amazon",
            "sql",
            "s3"
           ],
           "Upwork"
          ],
          [
           [
            "amazon",
            "sql",
            "vba",
            "dax",
            "power_bi"
           ],
           "Future Foam Inc"
          ],
          [
           [
            "excel",
            "amazon",
            "python",
            "r"
           ],
           "VGM"
          ],
          [
           [
            "sql",
            "jira",
            "tableau",
            "classification",
            "looker",
            "powerpoint",
            "excel",
            "amazon"
           ],
           "Channel Bakers"
          ],
          [
           [
            "sql",
            "jira",
            "tableau",
            "classification",
            "looker",
            "powerpoint",
            "excel",
            "amazon"
           ],
           "Channel Bakers"
          ],
          [
           [
            "looker",
            "excel",
            "amazon"
           ],
           "Forbes"
          ],
          [
           [
            "aws",
            "excel",
            "amazon",
            "sql",
            "r",
            "python"
           ],
           "Stand Up Wireless"
          ],
          [
           [
            "powershell",
            "amazon",
            "linux",
            "azure"
           ],
           "AllSTEM Connections"
          ],
          [
           [
            "c",
            "aws",
            "java",
            "amazon",
            "azure"
           ],
           "Parity Group PLC"
          ],
          [
           [
            "sql",
            "github",
            "jira",
            "snowflake",
            "postgresql",
            "amazon",
            "bigquery",
            "redshift"
           ],
           "Super Dispatch"
          ],
          [
           [
            "excel",
            "amazon",
            "vba"
           ],
           "Canopy Management LLC"
          ],
          [
           [
            "excel",
            "amazon",
            "vba"
           ],
           "Canopy Management LLC"
          ],
          [
           [
            "excel",
            "amazon",
            "vba"
           ],
           "Canopy Management LLC"
          ],
          [
           [
            "tableau",
            "excel",
            "amazon",
            "sql"
           ],
           "Digishopgirl Media"
          ],
          [
           [
            "sql",
            "azure",
            "excel",
            "amazon"
           ],
           "BDO USA, LLP"
          ],
          [
           [
            "postgresql",
            "aws",
            "hadoop",
            "amazon",
            "predictive",
            "sharepoint"
           ],
           "rays technologies"
          ],
          [
           [
            "sql",
            "aws",
            "mysql",
            "bitbucket",
            "looker",
            "python",
            "amazon"
           ],
           "Timely MD"
          ],
          [
           [
            "sql",
            "snowflake",
            "aws",
            "power_bi",
            "azure",
            "tableau",
            "python",
            "excel",
            "amazon",
            "r"
           ],
           "EDWARD JONES"
          ],
          [
           [
            "sql",
            "snowflake",
            "aws",
            "power_bi",
            "azure",
            "tableau",
            "python",
            "excel",
            "amazon",
            "r"
           ],
           "EDWARD JONES"
          ],
          [
           [
            "sql",
            "snowflake",
            "aws",
            "power_bi",
            "azure",
            "tableau",
            "python",
            "excel",
            "amazon",
            "r"
           ],
           "EDWARD JONES"
          ],
          [
           [
            "sql",
            "snowflake",
            "aws",
            "power_bi",
            "azure",
            "tableau",
            "python",
            "excel",
            "amazon",
            "r"
           ],
           "EDWARD JONES"
          ],
          [
           [
            "sql",
            "snowflake",
            "aws",
            "power_bi",
            "azure",
            "tableau",
            "python",
            "excel",
            "amazon",
            "r"
           ],
           "EDWARD JONES"
          ],
          [
           [
            "sql",
            "snowflake",
            "aws",
            "power_bi",
            "azure",
            "tableau",
            "python",
            "excel",
            "amazon",
            "r"
           ],
           "EDWARD JONES"
          ],
          [
           [
            "sql",
            "snowflake",
            "aws",
            "power_bi",
            "azure",
            "tableau",
            "python",
            "excel",
            "amazon",
            "r"
           ],
           "EDWARD JONES"
          ],
          [
           [
            "sql",
            "sap",
            "s3",
            "aws",
            "spss",
            "power_bi",
            "mysql",
            "tableau",
            "cognos",
            "looker",
            "sas",
            "amazon",
            "alteryx",
            "redshift"
           ],
           "VF Corporation"
          ],
          [
           [
            "aws",
            "hadoop",
            "plotly",
            "power_bi",
            "amazon",
            "sql",
            "tensorflow",
            "s3",
            "nosql",
            "python"
           ],
           "Archon Resources"
          ],
          [
           [
            "aws",
            "excel",
            "amazon",
            "sql"
           ],
           "RJ Byrd Search Group"
          ],
          [
           [
            "aws",
            "hadoop",
            "amazon",
            "sql",
            "pyspark",
            "snowflake",
            "s3",
            "redshift",
            "nosql"
           ],
           "Getsoftware services inc"
          ],
          [
           [
            "airflow",
            "sql",
            "postgresql",
            "looker",
            "python",
            "amazon",
            "bash",
            "bigquery",
            "r"
           ],
           "hims & hers"
          ],
          [
           [
            "aws",
            "amazon"
           ],
           "ROI·DNA"
          ],
          [
           [
            "amazon",
            "azure",
            "snowflake",
            "power_bi"
           ],
           "Yoh"
          ],
          [
           [
            "tableau",
            "excel",
            "amazon",
            "sql",
            "cognos",
            "redshift",
            "word"
           ],
           "REQUESTTECHNOLOGY.COM"
          ],
          [
           [
            "ec2",
            "amazon",
            "predictive",
            "azure",
            "python",
            "r"
           ],
           "Apex Systems"
          ],
          [
           [
            "sql",
            "scala",
            "ssis",
            "tableau",
            "powerpoint",
            "python",
            "excel",
            "amazon",
            "alteryx",
            "redshift",
            "r",
            "microstrategy"
           ],
           "Brooksource"
          ],
          [
           [
            "java",
            "mongodb",
            "airflow",
            "sql",
            "snowflake",
            "s3",
            "nosql",
            "go",
            "c++",
            "postgresql",
            "aws",
            "tableau",
            "looker",
            "python",
            "typescript",
            "amazon",
            "alteryx",
            "bigquery",
            "redshift",
            "r"
           ],
           "Esusu"
          ],
          [
           [
            "snowflake",
            "aws",
            "docker",
            "python",
            "prediction",
            "amazon",
            "predictive"
           ],
           "VanderHouwen"
          ],
          [
           [
            "aurora",
            "java",
            "sql",
            "postgresql",
            "aws",
            "git",
            "mysql",
            "linux",
            "pyspark",
            "azure",
            "docker",
            "pandas",
            "unix/linux",
            "python",
            "hadoop",
            "redis",
            "amazon",
            "redshift"
           ],
           "Lumin Digital"
          ]
         ],
         "hovertemplate": "<b>%{customdata[1]}</b><br><br><b>Avg Salary:</b> %{y:$,.2f}<br><b>Skills:</b> %{customdata[0]}<br><extra></extra>",
         "legendgroup": "",
         "marker": {
          "color": "#636efa",
          "pattern": {
           "shape": ""
          }
         },
         "name": "",
         "offsetgroup": "",
         "orientation": "v",
         "showlegend": false,
         "textposition": "auto",
         "type": "bar",
         "x": [
          0,
          1,
          2,
          3,
          4,
          5,
          6,
          7,
          8,
          9,
          10,
          11,
          12,
          13,
          14,
          15,
          16,
          17,
          18,
          19,
          20,
          21,
          22,
          23,
          24,
          25,
          26,
          27,
          28,
          29,
          30,
          31,
          32,
          33,
          34,
          35,
          36
         ],
         "xaxis": "x",
         "y": [
          38480,
          52000,
          57500,
          70000,
          70000,
          70000,
          70000,
          71500,
          75000,
          77500,
          87500,
          87500,
          87500,
          90000,
          90000,
          95000,
          95000,
          103781,
          103781,
          103781,
          103781,
          103781,
          103781,
          103781,
          105000,
          112500,
          120000,
          124800,
          125000,
          125000,
          130000,
          135000,
          145600,
          145600,
          160000,
          171600,
          175000
         ],
         "yaxis": "y"
        }
       ],
       "layout": {
        "annotations": [
         {
          "font": {
           "color": "red",
           "size": 20
          },
          "showarrow": false,
          "text": "Average Salary: $102325.59",
          "x": 0,
          "xref": "paper",
          "y": 117325.5945945946,
          "yref": "y"
         }
        ],
        "autosize": true,
        "barmode": "relative",
        "hovermode": "closest",
        "legend": {
         "tracegroupgap": 0
        },
        "plot_bgcolor": "white",
        "shapes": [
         {
          "line": {
           "dash": "dash"
          },
          "type": "line",
          "x0": 0,
          "x1": 1,
          "xref": "paper",
          "y0": 102325.5945945946,
          "y1": 102325.5945945946,
          "yref": "y"
         }
        ],
        "showlegend": false,
        "template": {
         "data": {
          "bar": [
           {
            "error_x": {
             "color": "#2a3f5f"
            },
            "error_y": {
             "color": "#2a3f5f"
            },
            "marker": {
             "line": {
              "color": "#E5ECF6",
              "width": 0.5
             },
             "pattern": {
              "fillmode": "overlay",
              "size": 10,
              "solidity": 0.2
             }
            },
            "type": "bar"
           }
          ],
          "barpolar": [
           {
            "marker": {
             "line": {
              "color": "#E5ECF6",
              "width": 0.5
             },
             "pattern": {
              "fillmode": "overlay",
              "size": 10,
              "solidity": 0.2
             }
            },
            "type": "barpolar"
           }
          ],
          "carpet": [
           {
            "aaxis": {
             "endlinecolor": "#2a3f5f",
             "gridcolor": "white",
             "linecolor": "white",
             "minorgridcolor": "white",
             "startlinecolor": "#2a3f5f"
            },
            "baxis": {
             "endlinecolor": "#2a3f5f",
             "gridcolor": "white",
             "linecolor": "white",
             "minorgridcolor": "white",
             "startlinecolor": "#2a3f5f"
            },
            "type": "carpet"
           }
          ],
          "choropleth": [
           {
            "colorbar": {
             "outlinewidth": 0,
             "ticks": ""
            },
            "type": "choropleth"
           }
          ],
          "contour": [
           {
            "colorbar": {
             "outlinewidth": 0,
             "ticks": ""
            },
            "colorscale": [
             [
              0,
              "#0d0887"
             ],
             [
              0.1111111111111111,
              "#46039f"
             ],
             [
              0.2222222222222222,
              "#7201a8"
             ],
             [
              0.3333333333333333,
              "#9c179e"
             ],
             [
              0.4444444444444444,
              "#bd3786"
             ],
             [
              0.5555555555555556,
              "#d8576b"
             ],
             [
              0.6666666666666666,
              "#ed7953"
             ],
             [
              0.7777777777777778,
              "#fb9f3a"
             ],
             [
              0.8888888888888888,
              "#fdca26"
             ],
             [
              1,
              "#f0f921"
             ]
            ],
            "type": "contour"
           }
          ],
          "contourcarpet": [
           {
            "colorbar": {
             "outlinewidth": 0,
             "ticks": ""
            },
            "type": "contourcarpet"
           }
          ],
          "heatmap": [
           {
            "colorbar": {
             "outlinewidth": 0,
             "ticks": ""
            },
            "colorscale": [
             [
              0,
              "#0d0887"
             ],
             [
              0.1111111111111111,
              "#46039f"
             ],
             [
              0.2222222222222222,
              "#7201a8"
             ],
             [
              0.3333333333333333,
              "#9c179e"
             ],
             [
              0.4444444444444444,
              "#bd3786"
             ],
             [
              0.5555555555555556,
              "#d8576b"
             ],
             [
              0.6666666666666666,
              "#ed7953"
             ],
             [
              0.7777777777777778,
              "#fb9f3a"
             ],
             [
              0.8888888888888888,
              "#fdca26"
             ],
             [
              1,
              "#f0f921"
             ]
            ],
            "type": "heatmap"
           }
          ],
          "heatmapgl": [
           {
            "colorbar": {
             "outlinewidth": 0,
             "ticks": ""
            },
            "colorscale": [
             [
              0,
              "#0d0887"
             ],
             [
              0.1111111111111111,
              "#46039f"
             ],
             [
              0.2222222222222222,
              "#7201a8"
             ],
             [
              0.3333333333333333,
              "#9c179e"
             ],
             [
              0.4444444444444444,
              "#bd3786"
             ],
             [
              0.5555555555555556,
              "#d8576b"
             ],
             [
              0.6666666666666666,
              "#ed7953"
             ],
             [
              0.7777777777777778,
              "#fb9f3a"
             ],
             [
              0.8888888888888888,
              "#fdca26"
             ],
             [
              1,
              "#f0f921"
             ]
            ],
            "type": "heatmapgl"
           }
          ],
          "histogram": [
           {
            "marker": {
             "pattern": {
              "fillmode": "overlay",
              "size": 10,
              "solidity": 0.2
             }
            },
            "type": "histogram"
           }
          ],
          "histogram2d": [
           {
            "colorbar": {
             "outlinewidth": 0,
             "ticks": ""
            },
            "colorscale": [
             [
              0,
              "#0d0887"
             ],
             [
              0.1111111111111111,
              "#46039f"
             ],
             [
              0.2222222222222222,
              "#7201a8"
             ],
             [
              0.3333333333333333,
              "#9c179e"
             ],
             [
              0.4444444444444444,
              "#bd3786"
             ],
             [
              0.5555555555555556,
              "#d8576b"
             ],
             [
              0.6666666666666666,
              "#ed7953"
             ],
             [
              0.7777777777777778,
              "#fb9f3a"
             ],
             [
              0.8888888888888888,
              "#fdca26"
             ],
             [
              1,
              "#f0f921"
             ]
            ],
            "type": "histogram2d"
           }
          ],
          "histogram2dcontour": [
           {
            "colorbar": {
             "outlinewidth": 0,
             "ticks": ""
            },
            "colorscale": [
             [
              0,
              "#0d0887"
             ],
             [
              0.1111111111111111,
              "#46039f"
             ],
             [
              0.2222222222222222,
              "#7201a8"
             ],
             [
              0.3333333333333333,
              "#9c179e"
             ],
             [
              0.4444444444444444,
              "#bd3786"
             ],
             [
              0.5555555555555556,
              "#d8576b"
             ],
             [
              0.6666666666666666,
              "#ed7953"
             ],
             [
              0.7777777777777778,
              "#fb9f3a"
             ],
             [
              0.8888888888888888,
              "#fdca26"
             ],
             [
              1,
              "#f0f921"
             ]
            ],
            "type": "histogram2dcontour"
           }
          ],
          "mesh3d": [
           {
            "colorbar": {
             "outlinewidth": 0,
             "ticks": ""
            },
            "type": "mesh3d"
           }
          ],
          "parcoords": [
           {
            "line": {
             "colorbar": {
              "outlinewidth": 0,
              "ticks": ""
             }
            },
            "type": "parcoords"
           }
          ],
          "pie": [
           {
            "automargin": true,
            "type": "pie"
           }
          ],
          "scatter": [
           {
            "fillpattern": {
             "fillmode": "overlay",
             "size": 10,
             "solidity": 0.2
            },
            "type": "scatter"
           }
          ],
          "scatter3d": [
           {
            "line": {
             "colorbar": {
              "outlinewidth": 0,
              "ticks": ""
             }
            },
            "marker": {
             "colorbar": {
              "outlinewidth": 0,
              "ticks": ""
             }
            },
            "type": "scatter3d"
           }
          ],
          "scattercarpet": [
           {
            "marker": {
             "colorbar": {
              "outlinewidth": 0,
              "ticks": ""
             }
            },
            "type": "scattercarpet"
           }
          ],
          "scattergeo": [
           {
            "marker": {
             "colorbar": {
              "outlinewidth": 0,
              "ticks": ""
             }
            },
            "type": "scattergeo"
           }
          ],
          "scattergl": [
           {
            "marker": {
             "colorbar": {
              "outlinewidth": 0,
              "ticks": ""
             }
            },
            "type": "scattergl"
           }
          ],
          "scattermapbox": [
           {
            "marker": {
             "colorbar": {
              "outlinewidth": 0,
              "ticks": ""
             }
            },
            "type": "scattermapbox"
           }
          ],
          "scatterpolar": [
           {
            "marker": {
             "colorbar": {
              "outlinewidth": 0,
              "ticks": ""
             }
            },
            "type": "scatterpolar"
           }
          ],
          "scatterpolargl": [
           {
            "marker": {
             "colorbar": {
              "outlinewidth": 0,
              "ticks": ""
             }
            },
            "type": "scatterpolargl"
           }
          ],
          "scatterternary": [
           {
            "marker": {
             "colorbar": {
              "outlinewidth": 0,
              "ticks": ""
             }
            },
            "type": "scatterternary"
           }
          ],
          "surface": [
           {
            "colorbar": {
             "outlinewidth": 0,
             "ticks": ""
            },
            "colorscale": [
             [
              0,
              "#0d0887"
             ],
             [
              0.1111111111111111,
              "#46039f"
             ],
             [
              0.2222222222222222,
              "#7201a8"
             ],
             [
              0.3333333333333333,
              "#9c179e"
             ],
             [
              0.4444444444444444,
              "#bd3786"
             ],
             [
              0.5555555555555556,
              "#d8576b"
             ],
             [
              0.6666666666666666,
              "#ed7953"
             ],
             [
              0.7777777777777778,
              "#fb9f3a"
             ],
             [
              0.8888888888888888,
              "#fdca26"
             ],
             [
              1,
              "#f0f921"
             ]
            ],
            "type": "surface"
           }
          ],
          "table": [
           {
            "cells": {
             "fill": {
              "color": "#EBF0F8"
             },
             "line": {
              "color": "white"
             }
            },
            "header": {
             "fill": {
              "color": "#C8D4E3"
             },
             "line": {
              "color": "white"
             }
            },
            "type": "table"
           }
          ]
         },
         "layout": {
          "annotationdefaults": {
           "arrowcolor": "#2a3f5f",
           "arrowhead": 0,
           "arrowwidth": 1
          },
          "autotypenumbers": "strict",
          "coloraxis": {
           "colorbar": {
            "outlinewidth": 0,
            "ticks": ""
           }
          },
          "colorscale": {
           "diverging": [
            [
             0,
             "#8e0152"
            ],
            [
             0.1,
             "#c51b7d"
            ],
            [
             0.2,
             "#de77ae"
            ],
            [
             0.3,
             "#f1b6da"
            ],
            [
             0.4,
             "#fde0ef"
            ],
            [
             0.5,
             "#f7f7f7"
            ],
            [
             0.6,
             "#e6f5d0"
            ],
            [
             0.7,
             "#b8e186"
            ],
            [
             0.8,
             "#7fbc41"
            ],
            [
             0.9,
             "#4d9221"
            ],
            [
             1,
             "#276419"
            ]
           ],
           "sequential": [
            [
             0,
             "#0d0887"
            ],
            [
             0.1111111111111111,
             "#46039f"
            ],
            [
             0.2222222222222222,
             "#7201a8"
            ],
            [
             0.3333333333333333,
             "#9c179e"
            ],
            [
             0.4444444444444444,
             "#bd3786"
            ],
            [
             0.5555555555555556,
             "#d8576b"
            ],
            [
             0.6666666666666666,
             "#ed7953"
            ],
            [
             0.7777777777777778,
             "#fb9f3a"
            ],
            [
             0.8888888888888888,
             "#fdca26"
            ],
            [
             1,
             "#f0f921"
            ]
           ],
           "sequentialminus": [
            [
             0,
             "#0d0887"
            ],
            [
             0.1111111111111111,
             "#46039f"
            ],
            [
             0.2222222222222222,
             "#7201a8"
            ],
            [
             0.3333333333333333,
             "#9c179e"
            ],
            [
             0.4444444444444444,
             "#bd3786"
            ],
            [
             0.5555555555555556,
             "#d8576b"
            ],
            [
             0.6666666666666666,
             "#ed7953"
            ],
            [
             0.7777777777777778,
             "#fb9f3a"
            ],
            [
             0.8888888888888888,
             "#fdca26"
            ],
            [
             1,
             "#f0f921"
            ]
           ]
          },
          "colorway": [
           "#636efa",
           "#EF553B",
           "#00cc96",
           "#ab63fa",
           "#FFA15A",
           "#19d3f3",
           "#FF6692",
           "#B6E880",
           "#FF97FF",
           "#FECB52"
          ],
          "font": {
           "color": "#2a3f5f"
          },
          "geo": {
           "bgcolor": "white",
           "lakecolor": "white",
           "landcolor": "#E5ECF6",
           "showlakes": true,
           "showland": true,
           "subunitcolor": "white"
          },
          "hoverlabel": {
           "align": "left"
          },
          "hovermode": "closest",
          "mapbox": {
           "style": "light"
          },
          "paper_bgcolor": "white",
          "plot_bgcolor": "#E5ECF6",
          "polar": {
           "angularaxis": {
            "gridcolor": "white",
            "linecolor": "white",
            "ticks": ""
           },
           "bgcolor": "#E5ECF6",
           "radialaxis": {
            "gridcolor": "white",
            "linecolor": "white",
            "ticks": ""
           }
          },
          "scene": {
           "xaxis": {
            "backgroundcolor": "#E5ECF6",
            "gridcolor": "white",
            "gridwidth": 2,
            "linecolor": "white",
            "showbackground": true,
            "ticks": "",
            "zerolinecolor": "white"
           },
           "yaxis": {
            "backgroundcolor": "#E5ECF6",
            "gridcolor": "white",
            "gridwidth": 2,
            "linecolor": "white",
            "showbackground": true,
            "ticks": "",
            "zerolinecolor": "white"
           },
           "zaxis": {
            "backgroundcolor": "#E5ECF6",
            "gridcolor": "white",
            "gridwidth": 2,
            "linecolor": "white",
            "showbackground": true,
            "ticks": "",
            "zerolinecolor": "white"
           }
          },
          "shapedefaults": {
           "line": {
            "color": "#2a3f5f"
           }
          },
          "ternary": {
           "aaxis": {
            "gridcolor": "white",
            "linecolor": "white",
            "ticks": ""
           },
           "baxis": {
            "gridcolor": "white",
            "linecolor": "white",
            "ticks": ""
           },
           "bgcolor": "#E5ECF6",
           "caxis": {
            "gridcolor": "white",
            "linecolor": "white",
            "ticks": ""
           }
          },
          "title": {
           "x": 0.05
          },
          "xaxis": {
           "automargin": true,
           "gridcolor": "white",
           "linecolor": "white",
           "ticks": "",
           "title": {
            "standoff": 15
           },
           "zerolinecolor": "white",
           "zerolinewidth": 2
          },
          "yaxis": {
           "automargin": true,
           "gridcolor": "white",
           "linecolor": "white",
           "ticks": "",
           "title": {
            "standoff": 15
           },
           "zerolinecolor": "white",
           "zerolinewidth": 2
          }
         }
        },
        "title": {
         "text": "Salary Distribution for Skill: amazon"
        },
        "xaxis": {
         "anchor": "y",
         "domain": [
          0,
          1
         ],
         "title": {
          "text": "Jobs WITH Salary"
         }
        },
        "yaxis": {
         "anchor": "x",
         "domain": [
          0,
          1
         ],
         "title": {
          "text": "Salary ($)"
         }
        }
       }
      }
     },
     "metadata": {},
     "output_type": "display_data"
    },
    {
     "data": {
      "application/vnd.jupyter.widget-view+json": {
       "model_id": "95d12874e0904eeeb0ad09626a21a2e0",
       "version_major": 2,
       "version_minor": 0
      },
      "text/plain": [
       "Button(description='Reset', style=ButtonStyle())"
      ]
     },
     "metadata": {},
     "output_type": "display_data"
    }
   ],
   "source": [
    "create_interactive_salary_plot(jobs_df_cleaned, top_skills_df)"
   ]
  },
  {
   "cell_type": "markdown",
   "metadata": {},
   "source": [
    "### Job title specific skills"
   ]
  },
  {
   "cell_type": "code",
   "execution_count": 101,
   "metadata": {},
   "outputs": [],
   "source": []
  },
  {
   "cell_type": "code",
   "execution_count": 102,
   "metadata": {},
   "outputs": [
    {
     "data": {
      "application/vnd.jupyter.widget-view+json": {
       "model_id": "bcdefb5ca5e645c28da5916a74e1d50c",
       "version_major": 2,
       "version_minor": 0
      },
      "text/plain": [
       "IntSlider(value=10, description='Top skills:', max=50, min=1)"
      ]
     },
     "metadata": {},
     "output_type": "display_data"
    },
    {
     "data": {
      "application/vnd.jupyter.widget-view+json": {
       "model_id": "237d7542c32040cc80ad04515f4ac7e1",
       "version_major": 2,
       "version_minor": 0
      },
      "text/plain": [
       "Dropdown(description='Job title:', options=('All Data Jobs', 'Data Analyst', 'Data Engineer', 'Data Scientist'…"
      ]
     },
     "metadata": {},
     "output_type": "display_data"
    },
    {
     "data": {
      "application/vnd.jupyter.widget-view+json": {
       "model_id": "c65ec14dec594f3c94d9a6a0e4a7e106",
       "version_major": 2,
       "version_minor": 0
      },
      "text/plain": [
       "Button(description='Update Plot', style=ButtonStyle())"
      ]
     },
     "metadata": {},
     "output_type": "display_data"
    }
   ],
   "source": [
    "create_skill_postings_plot(jobs_df_cleaned, get_top_skills)"
   ]
  },
  {
   "cell_type": "markdown",
   "metadata": {},
   "source": [
    "<div style=\"background-color: #; padding: 0px; \">\n",
    "\n",
    "## <font size='5'><i>Plan → Acquire → Prepare → Explore → </i></font> <font size='10'><i>**Model**</i></font> <font size='5'><i>→ Deliver</i></font>\n",
    "---"
   ]
  },
  {
   "cell_type": "markdown",
   "metadata": {},
   "source": [
    "Useful hyperparameters for `TfidfVectorizer`:\n",
    "\n",
    "- `max_features`: This hyperparameter controls the maximum number of features (i.e., terms) to include in the TF-IDF matrix. Setting this to a smaller value can help reduce the dimensionality of the matrix and improve performance, especially if the dataset is large.\n",
    "\n",
    "- `min_df` and `max_df`: These hyperparameters control the minimum and maximum document frequency of terms to include in the TF-IDF matrix. Setting `min_df` to a higher value will exclude terms that appear in fewer than `min_df` documents, while setting `max_df` to a lower value will exclude terms that appear in more than `max_df` documents. These can be useful for removing very rare or very common terms that may not be informative.\n",
    "\n",
    "- `ngram_range`: This hyperparameter controls the range of n-grams to include in the TF-IDF matrix. An n-gram is a contiguous sequence of n words in a document. Setting `ngram_range` to `(1, 1)` will include only unigrams (i.e., single words), while setting it to `(1, 2)` will include both unigrams and bigrams (i.e., pairs of words).\n",
    "\n",
    "- `stop_words`: This hyperparameter can be set to a list of stop words to exclude from the TF-IDF matrix. Stop words are common words that are unlikely to be informative, such as \"the\", \"and\", and \"of\".\n",
    "\n",
    "- `tokenizer`: This hyperparameter can be set to a custom tokenizer function to use instead of the default tokenizer. The tokenizer function should take a string as input and return a list of tokens (i.e., words).\n",
    "\n",
    "These hyperparameters can be tuned to improve the performance of the TF-IDF vectorization for a specific task or dataset."
   ]
  },
  {
   "cell_type": "markdown",
   "metadata": {},
   "source": [
    "### Unbalanced Dataset Modeling (Precision Metric)"
   ]
  },
  {
   "cell_type": "markdown",
   "metadata": {},
   "source": [
    "#### X and Y Splits for Modeling"
   ]
  },
  {
   "cell_type": "code",
   "execution_count": 80,
   "metadata": {},
   "outputs": [],
   "source": [
    "# Drop Other\n",
    "jobs_unbalanced = jobs_df_cleaned[jobs_df_cleaned['title_cleaned'] != 'Other']"
   ]
  },
  {
   "cell_type": "code",
   "execution_count": 81,
   "metadata": {},
   "outputs": [
    {
     "name": "stdout",
     "output_type": "stream",
     "text": [
      "Train Set:\n",
      "X_train size: 19348\n",
      "y_train size: 19348\n",
      "\n",
      "Test Set:\n",
      "X_test size: 3947\n",
      "y_test size: 3947\n"
     ]
    }
   ],
   "source": [
    "# Make X variatons without target variables\n",
    "X_train_unbalanced = jobs_unbalanced['description_cleaned']\n",
    "X_test_unbalanced = test['description_cleaned']\n",
    "\n",
    "# Make y variables with target variables\n",
    "y_train_unbalanced = jobs_unbalanced['title_cleaned']\n",
    "y_test_unbalanced = test['title_cleaned']\n",
    "\n",
    "print(f'Train Set:')\n",
    "print(f'X_train size: {len(X_train_unbalanced)}')\n",
    "print(f'y_train size: {len(y_train_unbalanced)}')\n",
    "\n",
    "print(f'\\nTest Set:')\n",
    "print(f'X_test size: {len(X_test_unbalanced)}')\n",
    "print(f'y_test size: {len(y_test_unbalanced)}')"
   ]
  },
  {
   "cell_type": "markdown",
   "metadata": {},
   "source": [
    "#### Establishing Baseline"
   ]
  },
  {
   "cell_type": "code",
   "execution_count": 82,
   "metadata": {},
   "outputs": [
    {
     "data": {
      "text/plain": [
       "title_cleaned\n",
       "Data Analyst      0.923920\n",
       "Data Scientist    0.045793\n",
       "Data Engineer     0.030287\n",
       "Name: proportion, dtype: float64"
      ]
     },
     "execution_count": 82,
     "metadata": {},
     "output_type": "execute_result"
    }
   ],
   "source": [
    "# Value counts for titles in train set\n",
    "y_train_unbalanced.value_counts(normalize=True)"
   ]
  },
  {
   "cell_type": "markdown",
   "metadata": {},
   "source": [
    "Baseline is 92%"
   ]
  },
  {
   "cell_type": "markdown",
   "metadata": {},
   "source": [
    "#### Gridsearch Pipeline for TF-IDF & Logistic Regression (Unbalanced)"
   ]
  },
  {
   "cell_type": "code",
   "execution_count": 83,
   "metadata": {},
   "outputs": [],
   "source": [
    "# Convert X sets to be readable by TF-IDF\n",
    "X_train_unbalanced = X_train_unbalanced.astype(str).str.replace(r\"[\\[\\],'']\", '', regex=True)\n",
    "X_test_unbalanced = X_test_unbalanced.astype(str).str.replace(r\"[\\[\\],'']\", '', regex=True)"
   ]
  },
  {
   "cell_type": "code",
   "execution_count": null,
   "metadata": {},
   "outputs": [],
   "source": [
    "from sklearn.pipeline import Pipeline\n",
    "from sklearn.model_selection import GridSearchCV\n",
    "from sklearn.model_selection import train_test_split\n",
    "from sklearn.feature_extraction.text import TfidfVectorizer\n",
    "from sklearn.linear_model import LogisticRegression\n",
    "from sklearn.metrics import make_scorer, precision_score, recall_score\n",
    "import pandas as pd\n",
    "\n",
    "# Create a pipeline\n",
    "pipeline = Pipeline(\n",
    "    [\n",
    "        (\"tfidf\", TfidfVectorizer()),\n",
    "        (\"logreg\", LogisticRegression(max_iter=1000, random_state=321)),\n",
    "    ]\n",
    ")\n",
    "\n",
    "# {'logreg__C': 10,\n",
    "#  'logreg__penalty': 'l2',\n",
    "#  'tfidf__max_df': 500,\n",
    "#  'tfidf__max_features': 750,\n",
    "#  'tfidf__min_df': 50,\n",
    "#  'tfidf__ngram_range': (1, 2)}\n",
    "\n",
    "param_grid = {\n",
    "    \"logreg__C\": [5, 10, 20],\n",
    "    \"logreg__penalty\": [\"l1\", \"l2\"],\n",
    "    \"tfidf__max_df\": [250, 500, 750, 1000],\n",
    "    \"tfidf__max_features\": [500, 750, 1000],\n",
    "    \"tfidf__min_df\": [50, 100, 150],\n",
    "    'tfidf__ngram_range': [(1, 1), (1, 2)]\n",
    "}\n",
    "\n",
    "# Define scoring metrics\n",
    "scoring = {\n",
    "    'precision': make_scorer(precision_score, average='weighted'),\n",
    "    'recall': make_scorer(recall_score, average='weighted'),\n",
    "}\n",
    "\n",
    "# Initialize GridSearchCV with return_train_score=True\n",
    "grid_search = GridSearchCV(\n",
    "    pipeline, param_grid, cv=2, n_jobs=-1, verbose=2, return_train_score=True, scoring=scoring, refit='precision'\n",
    ")\n",
    "\n",
    "# Fit the grid search\n",
    "grid_search.fit(X_train_unbalanced, y_train_unbalanced)\n",
    "\n",
    "# Get the results of the grid search\n",
    "results = pd.DataFrame(grid_search.cv_results_)\n",
    "\n",
    "# Play a sound when completed\n",
    "import os\n",
    "os.system('afplay /System/Library/Sounds/Ping.aiff')"
   ]
  },
  {
   "cell_type": "markdown",
   "metadata": {},
   "source": [
    "#### Pipeline GridSearch Results"
   ]
  },
  {
   "cell_type": "code",
   "execution_count": 35,
   "metadata": {},
   "outputs": [],
   "source": [
    "# Make a column for train_test_diff which is mean_test_precision - mean_train_precision\n",
    "results['score_gap'] =  results['mean_train_precision'] - results['mean_test_precision']"
   ]
  },
  {
   "cell_type": "code",
   "execution_count": 36,
   "metadata": {},
   "outputs": [],
   "source": [
    "# Filter results to what we need\n",
    "\n",
    "results = results[[\n",
    " # 'mean_fit_time',\n",
    " # 'std_fit_time',\n",
    " # 'mean_score_time',\n",
    " # 'std_score_time',\n",
    " 'param_logreg__C',\n",
    " 'param_logreg__penalty',\n",
    " 'param_tfidf__max_df',\n",
    " 'param_tfidf__max_features',\n",
    " 'param_tfidf__min_df',\n",
    " 'param_tfidf__ngram_range',\n",
    " # 'params',\n",
    " # 'split0_test_precision',\n",
    " # 'split1_test_precision',\n",
    " 'mean_test_precision',\n",
    " # 'std_test_precision',\n",
    " # 'rank_test_precision',\n",
    " # 'split0_train_precision',\n",
    " # 'split1_train_precision',\n",
    " 'mean_train_precision',\n",
    " # 'std_train_precision',\n",
    " # 'split0_test_recall',\n",
    " # 'split1_test_recall',\n",
    " # 'mean_test_recall',\n",
    " # 'std_test_recall',\n",
    " # 'rank_test_recall',\n",
    " # 'split0_train_recall',\n",
    " # 'split1_train_recall',\n",
    " # 'mean_train_recall',\n",
    " # 'std_train_recall'\n",
    "  'score_gap']]"
   ]
  },
  {
   "cell_type": "code",
   "execution_count": 40,
   "metadata": {},
   "outputs": [
    {
     "data": {
      "text/html": [
       "<div>\n",
       "<style scoped>\n",
       "    .dataframe tbody tr th:only-of-type {\n",
       "        vertical-align: middle;\n",
       "    }\n",
       "\n",
       "    .dataframe tbody tr th {\n",
       "        vertical-align: top;\n",
       "    }\n",
       "\n",
       "    .dataframe thead th {\n",
       "        text-align: right;\n",
       "    }\n",
       "</style>\n",
       "<table border=\"1\" class=\"dataframe\">\n",
       "  <thead>\n",
       "    <tr style=\"text-align: right;\">\n",
       "      <th></th>\n",
       "      <th>param_logreg__C</th>\n",
       "      <th>param_logreg__penalty</th>\n",
       "      <th>param_tfidf__max_df</th>\n",
       "      <th>param_tfidf__max_features</th>\n",
       "      <th>param_tfidf__min_df</th>\n",
       "      <th>param_tfidf__ngram_range</th>\n",
       "      <th>mean_test_precision</th>\n",
       "      <th>mean_train_precision</th>\n",
       "      <th>score_gap</th>\n",
       "    </tr>\n",
       "  </thead>\n",
       "  <tbody>\n",
       "    <tr>\n",
       "      <th>141</th>\n",
       "      <td>5</td>\n",
       "      <td>l2</td>\n",
       "      <td>1000</td>\n",
       "      <td>1000</td>\n",
       "      <td>100</td>\n",
       "      <td>(1, 2)</td>\n",
       "      <td>0.951815</td>\n",
       "      <td>0.971508</td>\n",
       "      <td>0.019694</td>\n",
       "    </tr>\n",
       "    <tr>\n",
       "      <th>143</th>\n",
       "      <td>5</td>\n",
       "      <td>l2</td>\n",
       "      <td>1000</td>\n",
       "      <td>1000</td>\n",
       "      <td>150</td>\n",
       "      <td>(1, 2)</td>\n",
       "      <td>0.951693</td>\n",
       "      <td>0.971670</td>\n",
       "      <td>0.019977</td>\n",
       "    </tr>\n",
       "    <tr>\n",
       "      <th>139</th>\n",
       "      <td>5</td>\n",
       "      <td>l2</td>\n",
       "      <td>1000</td>\n",
       "      <td>1000</td>\n",
       "      <td>50</td>\n",
       "      <td>(1, 2)</td>\n",
       "      <td>0.951607</td>\n",
       "      <td>0.971225</td>\n",
       "      <td>0.019618</td>\n",
       "    </tr>\n",
       "    <tr>\n",
       "      <th>137</th>\n",
       "      <td>5</td>\n",
       "      <td>l2</td>\n",
       "      <td>1000</td>\n",
       "      <td>750</td>\n",
       "      <td>150</td>\n",
       "      <td>(1, 2)</td>\n",
       "      <td>0.948828</td>\n",
       "      <td>0.967059</td>\n",
       "      <td>0.018232</td>\n",
       "    </tr>\n",
       "    <tr>\n",
       "      <th>133</th>\n",
       "      <td>5</td>\n",
       "      <td>l2</td>\n",
       "      <td>1000</td>\n",
       "      <td>750</td>\n",
       "      <td>50</td>\n",
       "      <td>(1, 2)</td>\n",
       "      <td>0.948754</td>\n",
       "      <td>0.966862</td>\n",
       "      <td>0.018108</td>\n",
       "    </tr>\n",
       "    <tr>\n",
       "      <th>135</th>\n",
       "      <td>5</td>\n",
       "      <td>l2</td>\n",
       "      <td>1000</td>\n",
       "      <td>750</td>\n",
       "      <td>100</td>\n",
       "      <td>(1, 2)</td>\n",
       "      <td>0.948387</td>\n",
       "      <td>0.966898</td>\n",
       "      <td>0.018511</td>\n",
       "    </tr>\n",
       "    <tr>\n",
       "      <th>134</th>\n",
       "      <td>5</td>\n",
       "      <td>l2</td>\n",
       "      <td>1000</td>\n",
       "      <td>750</td>\n",
       "      <td>100</td>\n",
       "      <td>(1, 1)</td>\n",
       "      <td>0.943984</td>\n",
       "      <td>0.963166</td>\n",
       "      <td>0.019181</td>\n",
       "    </tr>\n",
       "    <tr>\n",
       "      <th>132</th>\n",
       "      <td>5</td>\n",
       "      <td>l2</td>\n",
       "      <td>1000</td>\n",
       "      <td>750</td>\n",
       "      <td>50</td>\n",
       "      <td>(1, 1)</td>\n",
       "      <td>0.943843</td>\n",
       "      <td>0.963128</td>\n",
       "      <td>0.019286</td>\n",
       "    </tr>\n",
       "    <tr>\n",
       "      <th>136</th>\n",
       "      <td>5</td>\n",
       "      <td>l2</td>\n",
       "      <td>1000</td>\n",
       "      <td>750</td>\n",
       "      <td>150</td>\n",
       "      <td>(1, 1)</td>\n",
       "      <td>0.943795</td>\n",
       "      <td>0.963115</td>\n",
       "      <td>0.019320</td>\n",
       "    </tr>\n",
       "    <tr>\n",
       "      <th>127</th>\n",
       "      <td>5</td>\n",
       "      <td>l2</td>\n",
       "      <td>1000</td>\n",
       "      <td>500</td>\n",
       "      <td>50</td>\n",
       "      <td>(1, 2)</td>\n",
       "      <td>0.938144</td>\n",
       "      <td>0.956113</td>\n",
       "      <td>0.017968</td>\n",
       "    </tr>\n",
       "    <tr>\n",
       "      <th>131</th>\n",
       "      <td>5</td>\n",
       "      <td>l2</td>\n",
       "      <td>1000</td>\n",
       "      <td>500</td>\n",
       "      <td>150</td>\n",
       "      <td>(1, 2)</td>\n",
       "      <td>0.938144</td>\n",
       "      <td>0.956113</td>\n",
       "      <td>0.017968</td>\n",
       "    </tr>\n",
       "    <tr>\n",
       "      <th>129</th>\n",
       "      <td>5</td>\n",
       "      <td>l2</td>\n",
       "      <td>1000</td>\n",
       "      <td>500</td>\n",
       "      <td>100</td>\n",
       "      <td>(1, 2)</td>\n",
       "      <td>0.938066</td>\n",
       "      <td>0.955937</td>\n",
       "      <td>0.017872</td>\n",
       "    </tr>\n",
       "    <tr>\n",
       "      <th>113</th>\n",
       "      <td>5</td>\n",
       "      <td>l2</td>\n",
       "      <td>750</td>\n",
       "      <td>500</td>\n",
       "      <td>150</td>\n",
       "      <td>(1, 2)</td>\n",
       "      <td>0.937138</td>\n",
       "      <td>0.953419</td>\n",
       "      <td>0.016281</td>\n",
       "    </tr>\n",
       "    <tr>\n",
       "      <th>109</th>\n",
       "      <td>5</td>\n",
       "      <td>l2</td>\n",
       "      <td>750</td>\n",
       "      <td>500</td>\n",
       "      <td>50</td>\n",
       "      <td>(1, 2)</td>\n",
       "      <td>0.937022</td>\n",
       "      <td>0.953325</td>\n",
       "      <td>0.016303</td>\n",
       "    </tr>\n",
       "    <tr>\n",
       "      <th>111</th>\n",
       "      <td>5</td>\n",
       "      <td>l2</td>\n",
       "      <td>750</td>\n",
       "      <td>500</td>\n",
       "      <td>100</td>\n",
       "      <td>(1, 2)</td>\n",
       "      <td>0.936650</td>\n",
       "      <td>0.952998</td>\n",
       "      <td>0.016348</td>\n",
       "    </tr>\n",
       "    <tr>\n",
       "      <th>272</th>\n",
       "      <td>10</td>\n",
       "      <td>l2</td>\n",
       "      <td>1000</td>\n",
       "      <td>500</td>\n",
       "      <td>100</td>\n",
       "      <td>(1, 1)</td>\n",
       "      <td>0.936043</td>\n",
       "      <td>0.955765</td>\n",
       "      <td>0.019722</td>\n",
       "    </tr>\n",
       "    <tr>\n",
       "      <th>274</th>\n",
       "      <td>10</td>\n",
       "      <td>l2</td>\n",
       "      <td>1000</td>\n",
       "      <td>500</td>\n",
       "      <td>150</td>\n",
       "      <td>(1, 1)</td>\n",
       "      <td>0.936043</td>\n",
       "      <td>0.955765</td>\n",
       "      <td>0.019722</td>\n",
       "    </tr>\n",
       "    <tr>\n",
       "      <th>270</th>\n",
       "      <td>10</td>\n",
       "      <td>l2</td>\n",
       "      <td>1000</td>\n",
       "      <td>500</td>\n",
       "      <td>50</td>\n",
       "      <td>(1, 1)</td>\n",
       "      <td>0.936014</td>\n",
       "      <td>0.955647</td>\n",
       "      <td>0.019634</td>\n",
       "    </tr>\n",
       "    <tr>\n",
       "      <th>126</th>\n",
       "      <td>5</td>\n",
       "      <td>l2</td>\n",
       "      <td>1000</td>\n",
       "      <td>500</td>\n",
       "      <td>50</td>\n",
       "      <td>(1, 1)</td>\n",
       "      <td>0.935382</td>\n",
       "      <td>0.951332</td>\n",
       "      <td>0.015950</td>\n",
       "    </tr>\n",
       "    <tr>\n",
       "      <th>128</th>\n",
       "      <td>5</td>\n",
       "      <td>l2</td>\n",
       "      <td>1000</td>\n",
       "      <td>500</td>\n",
       "      <td>100</td>\n",
       "      <td>(1, 1)</td>\n",
       "      <td>0.935361</td>\n",
       "      <td>0.951487</td>\n",
       "      <td>0.016126</td>\n",
       "    </tr>\n",
       "    <tr>\n",
       "      <th>130</th>\n",
       "      <td>5</td>\n",
       "      <td>l2</td>\n",
       "      <td>1000</td>\n",
       "      <td>500</td>\n",
       "      <td>150</td>\n",
       "      <td>(1, 1)</td>\n",
       "      <td>0.935361</td>\n",
       "      <td>0.951487</td>\n",
       "      <td>0.016126</td>\n",
       "    </tr>\n",
       "    <tr>\n",
       "      <th>108</th>\n",
       "      <td>5</td>\n",
       "      <td>l2</td>\n",
       "      <td>750</td>\n",
       "      <td>500</td>\n",
       "      <td>50</td>\n",
       "      <td>(1, 1)</td>\n",
       "      <td>0.923314</td>\n",
       "      <td>0.942679</td>\n",
       "      <td>0.019365</td>\n",
       "    </tr>\n",
       "  </tbody>\n",
       "</table>\n",
       "</div>"
      ],
      "text/plain": [
       "    param_logreg__C param_logreg__penalty param_tfidf__max_df  \\\n",
       "141               5                    l2                1000   \n",
       "143               5                    l2                1000   \n",
       "139               5                    l2                1000   \n",
       "137               5                    l2                1000   \n",
       "133               5                    l2                1000   \n",
       "135               5                    l2                1000   \n",
       "134               5                    l2                1000   \n",
       "132               5                    l2                1000   \n",
       "136               5                    l2                1000   \n",
       "127               5                    l2                1000   \n",
       "131               5                    l2                1000   \n",
       "129               5                    l2                1000   \n",
       "113               5                    l2                 750   \n",
       "109               5                    l2                 750   \n",
       "111               5                    l2                 750   \n",
       "272              10                    l2                1000   \n",
       "274              10                    l2                1000   \n",
       "270              10                    l2                1000   \n",
       "126               5                    l2                1000   \n",
       "128               5                    l2                1000   \n",
       "130               5                    l2                1000   \n",
       "108               5                    l2                 750   \n",
       "\n",
       "    param_tfidf__max_features param_tfidf__min_df param_tfidf__ngram_range  \\\n",
       "141                      1000                 100                   (1, 2)   \n",
       "143                      1000                 150                   (1, 2)   \n",
       "139                      1000                  50                   (1, 2)   \n",
       "137                       750                 150                   (1, 2)   \n",
       "133                       750                  50                   (1, 2)   \n",
       "135                       750                 100                   (1, 2)   \n",
       "134                       750                 100                   (1, 1)   \n",
       "132                       750                  50                   (1, 1)   \n",
       "136                       750                 150                   (1, 1)   \n",
       "127                       500                  50                   (1, 2)   \n",
       "131                       500                 150                   (1, 2)   \n",
       "129                       500                 100                   (1, 2)   \n",
       "113                       500                 150                   (1, 2)   \n",
       "109                       500                  50                   (1, 2)   \n",
       "111                       500                 100                   (1, 2)   \n",
       "272                       500                 100                   (1, 1)   \n",
       "274                       500                 150                   (1, 1)   \n",
       "270                       500                  50                   (1, 1)   \n",
       "126                       500                  50                   (1, 1)   \n",
       "128                       500                 100                   (1, 1)   \n",
       "130                       500                 150                   (1, 1)   \n",
       "108                       500                  50                   (1, 1)   \n",
       "\n",
       "     mean_test_precision  mean_train_precision  score_gap  \n",
       "141             0.951815              0.971508   0.019694  \n",
       "143             0.951693              0.971670   0.019977  \n",
       "139             0.951607              0.971225   0.019618  \n",
       "137             0.948828              0.967059   0.018232  \n",
       "133             0.948754              0.966862   0.018108  \n",
       "135             0.948387              0.966898   0.018511  \n",
       "134             0.943984              0.963166   0.019181  \n",
       "132             0.943843              0.963128   0.019286  \n",
       "136             0.943795              0.963115   0.019320  \n",
       "127             0.938144              0.956113   0.017968  \n",
       "131             0.938144              0.956113   0.017968  \n",
       "129             0.938066              0.955937   0.017872  \n",
       "113             0.937138              0.953419   0.016281  \n",
       "109             0.937022              0.953325   0.016303  \n",
       "111             0.936650              0.952998   0.016348  \n",
       "272             0.936043              0.955765   0.019722  \n",
       "274             0.936043              0.955765   0.019722  \n",
       "270             0.936014              0.955647   0.019634  \n",
       "126             0.935382              0.951332   0.015950  \n",
       "128             0.935361              0.951487   0.016126  \n",
       "130             0.935361              0.951487   0.016126  \n",
       "108             0.923314              0.942679   0.019365  "
      ]
     },
     "execution_count": 40,
     "metadata": {},
     "output_type": "execute_result"
    }
   ],
   "source": [
    "# Show highest test score, then lowest score gap, where test score >= X\n",
    "\n",
    "results[\n",
    "    (results[\"mean_test_precision\"] >= 0.92)\n",
    "    & (results[\"score_gap\"] <= 0.02)\n",
    "].sort_values(by=[\"mean_test_precision\", \"score_gap\"], ascending=[False, True]).head(1)"
   ]
  },
  {
   "cell_type": "markdown",
   "metadata": {},
   "source": [
    "#### Evaluate Best Model on Test"
   ]
  },
  {
   "cell_type": "code",
   "execution_count": 84,
   "metadata": {},
   "outputs": [
    {
     "name": "stdout",
     "output_type": "stream",
     "text": [
      "Logistic Regression Train Accuracy: 0.9608228240645028\n"
     ]
    }
   ],
   "source": [
    "# TF-IDF\n",
    "from sklearn.feature_extraction.text import TfidfVectorizer\n",
    "\n",
    "tfidf = TfidfVectorizer(max_df=1000, max_features=1000, min_df=100, ngram_range=(1, 2))\n",
    "X_train_unbalanced = tfidf.fit_transform(X_train_unbalanced)\n",
    "X_test_unbalanced = tfidf.transform(X_test_unbalanced)\n",
    "\n",
    "# Train a Logistic Regression model\n",
    "from sklearn.linear_model import LogisticRegression\n",
    "\n",
    "logit = LogisticRegression(C=5, penalty=\"l2\", random_state=321, max_iter=1000)\n",
    "logit.fit(X_train_unbalanced, y_train_unbalanced)\n",
    "\n",
    "# Calculate the accuracy of the model\n",
    "print(f\"Logistic Regression Train Accuracy: {logit.score(X_train_unbalanced, y_train_unbalanced)}\")\n"
   ]
  },
  {
   "cell_type": "code",
   "execution_count": 85,
   "metadata": {},
   "outputs": [
    {
     "name": "stdout",
     "output_type": "stream",
     "text": [
      "Logistic Regression Test Accuracy: 0.9429946795034203\n"
     ]
    }
   ],
   "source": [
    "# Calculate accuracy on test model\n",
    "print(f\"Logistic Regression Test Accuracy: {logit.score(X_test_unbalanced, y_test_unbalanced)}\")"
   ]
  },
  {
   "cell_type": "markdown",
   "metadata": {},
   "source": [
    "### Balanced Dataset (Accuracy Metric)"
   ]
  },
  {
   "cell_type": "markdown",
   "metadata": {},
   "source": [
    "#### Balancing the Dataset"
   ]
  },
  {
   "cell_type": "code",
   "execution_count": 70,
   "metadata": {},
   "outputs": [
    {
     "data": {
      "text/plain": [
       "title_cleaned\n",
       "Data Analyst      22316\n",
       "Data Scientist     1109\n",
       "Data Engineer       761\n",
       "Other               483\n",
       "Name: count, dtype: int64"
      ]
     },
     "execution_count": 70,
     "metadata": {},
     "output_type": "execute_result"
    }
   ],
   "source": [
    "# Read in our fully prepped CSV, so we can balance off the lowest represented target variable (prior to split)\n",
    "jobs_balanced = pd.read_csv('../support_files/working_docs/jobs_mvp.csv')\n",
    "\n",
    "jobs_balanced['title_cleaned'].value_counts()"
   ]
  },
  {
   "cell_type": "markdown",
   "metadata": {},
   "source": [
    "Lowest represented in our dataset is data engineer at 761. We'll sample down to that, with a random state for reproducability."
   ]
  },
  {
   "cell_type": "code",
   "execution_count": 71,
   "metadata": {},
   "outputs": [
    {
     "data": {
      "text/plain": [
       "title_cleaned\n",
       "Data Engineer     761\n",
       "Data Scientist    761\n",
       "Data Analyst      761\n",
       "Name: count, dtype: int64"
      ]
     },
     "execution_count": 71,
     "metadata": {},
     "output_type": "execute_result"
    }
   ],
   "source": [
    "# Sample to 761\n",
    "eng = jobs_balanced[jobs_balanced['title_cleaned'] == 'Data Engineer'].sample(761, random_state=321)\n",
    "\n",
    "# Sample to 761\n",
    "sci = jobs_balanced[jobs_balanced['title_cleaned'] == 'Data Scientist'].sample(761, random_state=321)\n",
    "\n",
    "# Sample to 761\n",
    "ana = jobs_balanced[jobs_balanced['title_cleaned'] == 'Data Analyst'].sample(761, random_state=321)\n",
    "\n",
    "# Concat all 3\n",
    "jobs_balanced = pd.concat([eng, sci, ana])\n",
    "\n",
    "# Value counts for titles after sampling\n",
    "jobs_balanced.title_cleaned.value_counts()"
   ]
  },
  {
   "cell_type": "markdown",
   "metadata": {},
   "source": [
    "#### Train & Test Splits"
   ]
  },
  {
   "cell_type": "code",
   "execution_count": 72,
   "metadata": {},
   "outputs": [
    {
     "name": "stdout",
     "output_type": "stream",
     "text": [
      "Train size: 1826 (79.98%)\n",
      "Test size: 457 (20.02%)\n"
     ]
    }
   ],
   "source": [
    "# Split the data into train and test sets (Our validate will be generated during GridSearch)\n",
    "train, test = train_test_split(jobs_balanced, train_size=0.8, test_size=0.2, random_state=321)\n",
    "\n",
    "# Print sizes, length of set and ratio of total\n",
    "print(f\"Train size: {len(train)} ({len(train) / len(jobs_balanced):.2%})\")\n",
    "print(f\"Test size: {len(test)} ({len(test) / len(jobs_balanced):.2%})\")"
   ]
  },
  {
   "cell_type": "markdown",
   "metadata": {},
   "source": [
    "#### X and Y Splits for Modeling"
   ]
  },
  {
   "cell_type": "code",
   "execution_count": 73,
   "metadata": {},
   "outputs": [
    {
     "name": "stdout",
     "output_type": "stream",
     "text": [
      "Train Set:\n",
      "X_train size: 1826\n",
      "y_train size: 1826\n",
      "\n",
      "Test Set:\n",
      "X_test size: 457\n",
      "y_test size: 457\n"
     ]
    }
   ],
   "source": [
    "# Make X variatons without target variables\n",
    "X_train_balanced = train['description_cleaned']\n",
    "X_test_balanced = test['description_cleaned']\n",
    "\n",
    "# Make y variables with target variables\n",
    "y_train_balanced = train['title_cleaned']\n",
    "y_test_balanced = test['title_cleaned']\n",
    "\n",
    "print(f'Train Set:')\n",
    "print(f'X_train size: {len(X_train_balanced)}')\n",
    "print(f'y_train size: {len(y_train_balanced)}')\n",
    "\n",
    "print(f'\\nTest Set:')\n",
    "print(f'X_test size: {len(X_test_balanced)}')\n",
    "print(f'y_test size: {len(y_test_balanced)}')"
   ]
  },
  {
   "cell_type": "markdown",
   "metadata": {},
   "source": [
    "#### Baseline"
   ]
  },
  {
   "cell_type": "code",
   "execution_count": 74,
   "metadata": {},
   "outputs": [
    {
     "data": {
      "text/plain": [
       "title_cleaned\n",
       "Data Scientist    0.337349\n",
       "Data Engineer     0.335706\n",
       "Data Analyst      0.326944\n",
       "Name: proportion, dtype: float64"
      ]
     },
     "execution_count": 74,
     "metadata": {},
     "output_type": "execute_result"
    }
   ],
   "source": [
    "# Verify we're still roughly balanced, and get our baseline\n",
    "y_train_balanced.value_counts(normalize=True)"
   ]
  },
  {
   "cell_type": "markdown",
   "metadata": {},
   "source": [
    "With an balanced dataset and 3 targets, our baseline comes in at 33%"
   ]
  },
  {
   "cell_type": "markdown",
   "metadata": {},
   "source": [
    "#### Gridsearch Pipeline for TF-IDF & Logistic Regression (Balanced)"
   ]
  },
  {
   "cell_type": "code",
   "execution_count": 75,
   "metadata": {},
   "outputs": [],
   "source": [
    "# Convert X sets to be readable by TF-IDF\n",
    "X_train_balanced = X_train_balanced.astype(str).str.replace(r\"[\\[\\],'']\", '', regex=True)\n",
    "X_test_balanced = X_test_balanced.astype(str).str.replace(r\"[\\[\\],'']\", '', regex=True)"
   ]
  },
  {
   "cell_type": "raw",
   "metadata": {},
   "source": [
    "from sklearn.pipeline import Pipeline\n",
    "from sklearn.model_selection import GridSearchCV\n",
    "from sklearn.model_selection import train_test_split\n",
    "from sklearn.feature_extraction.text import TfidfVectorizer\n",
    "from sklearn.linear_model import LogisticRegression\n",
    "from sklearn.metrics import make_scorer, precision_score, recall_score, accuracy_score\n",
    "import pandas as pd\n",
    "\n",
    "# Create a pipeline\n",
    "pipeline = Pipeline(\n",
    "    [\n",
    "        (\"tfidf\", TfidfVectorizer()),\n",
    "        (\"logreg\", LogisticRegression(max_iter=1000, random_state=321)),\n",
    "    ]\n",
    ")\n",
    "\n",
    "param_grid = {\n",
    "    \"logreg__C\": [5, 10, 20],\n",
    "    \"logreg__penalty\": [\"l1\", \"l2\"],\n",
    "    \"tfidf__max_df\": [250, 500, 750, 1000],\n",
    "    \"tfidf__max_features\": [500, 750, 1000],\n",
    "    \"tfidf__min_df\": [50, 100, 150],\n",
    "    'tfidf__ngram_range': [(1, 1), (1, 2)]\n",
    "}\n",
    "\n",
    "# Define scoring metrics\n",
    "scoring = {\n",
    "    'precision': make_scorer(precision_score, average='weighted'),\n",
    "    'recall': make_scorer(recall_score, average='weighted'),\n",
    "    'accuracy': make_scorer(accuracy_score)\n",
    "}\n",
    "\n",
    "# Initialize GridSearchCV with return_train_score=True\n",
    "grid_search = GridSearchCV(\n",
    "    pipeline, param_grid, cv=2, n_jobs=-1, verbose=2, return_train_score=True, scoring=scoring, refit=False)\n",
    "\n",
    "# Fit the grid search\n",
    "grid_search.fit(X_train_balanced, y_train_balanced)\n",
    "\n",
    "# Get the results of the grid search\n",
    "results2 = pd.DataFrame(grid_search.cv_results_)\n",
    "\n",
    "# Play a sound when completed\n",
    "import os\n",
    "os.system('afplay /System/Library/Sounds/Ping.aiff')"
   ]
  },
  {
   "cell_type": "markdown",
   "metadata": {},
   "source": [
    "#### Pipeline Gridsearch Results"
   ]
  },
  {
   "cell_type": "raw",
   "metadata": {},
   "source": [
    "# Make a column for train_test_diff which is mean_test_accuracy - mean_train_accuracy\n",
    "results2['score_gap'] =  results2['mean_train_accuracy'] - results2['mean_test_accuracy']"
   ]
  },
  {
   "cell_type": "raw",
   "metadata": {},
   "source": [
    "results2 = results2[[\n",
    " # 'mean_fit_time',\n",
    " # 'std_fit_time',\n",
    " # 'mean_score_time',\n",
    " # 'std_score_time',\n",
    " 'param_logreg__C',\n",
    " 'param_logreg__penalty',\n",
    " 'param_tfidf__max_df',\n",
    " 'param_tfidf__max_features',\n",
    " 'param_tfidf__min_df',\n",
    " 'param_tfidf__ngram_range',\n",
    " # 'params',\n",
    " # 'split0_test_precision',\n",
    " # 'split1_test_precision',\n",
    " # 'mean_test_precision',\n",
    " # 'std_test_precision',\n",
    " # 'rank_test_precision',\n",
    " # 'split0_train_precision',\n",
    " # 'split1_train_precision',\n",
    " # 'mean_train_precision',\n",
    " # 'std_train_precision',\n",
    " # 'split0_test_recall',\n",
    " # 'split1_test_recall',\n",
    " # 'mean_test_recall',\n",
    " # 'std_test_recall',\n",
    " # 'rank_test_recall',\n",
    " # 'split0_train_recall',\n",
    " # 'split1_train_recall',\n",
    " # 'mean_train_recall',\n",
    " # 'std_train_recall',\n",
    " # 'split0_test_accuracy',\n",
    " # 'split1_test_accuracy',\n",
    " 'mean_test_accuracy',\n",
    " # 'std_test_accuracy',\n",
    " # 'rank_test_accuracy',\n",
    " # 'split0_train_accuracy',\n",
    " # 'split1_train_accuracy',\n",
    " 'mean_train_accuracy',\n",
    " # 'std_train_accuracy',\n",
    " 'score_gap']]"
   ]
  },
  {
   "cell_type": "raw",
   "metadata": {},
   "source": [
    "# Show highest test score, then lowest score gap, where test score >= X\n",
    "\n",
    "results2[\n",
    "    (results2[\"mean_test_accuracy\"] >= 0.6)\n",
    "    & (results2[\"score_gap\"] <= 0.2)\n",
    "].sort_values(by=[\"mean_test_accuracy\", \"score_gap\"], ascending=[False, True]).head(1)"
   ]
  },
  {
   "cell_type": "markdown",
   "metadata": {},
   "source": [
    "#### Evalute Best Model on Test"
   ]
  },
  {
   "cell_type": "code",
   "execution_count": 76,
   "metadata": {},
   "outputs": [
    {
     "name": "stdout",
     "output_type": "stream",
     "text": [
      "Logistic Regression Train Accuracy: 0.9726177437020811\n"
     ]
    }
   ],
   "source": [
    "# TF-IDF\n",
    "from sklearn.feature_extraction.text import TfidfVectorizer\n",
    "\n",
    "tfidf = TfidfVectorizer(max_df=1000, max_features=750, min_df=50, ngram_range=(1, 2))\n",
    "X_train_balanced = tfidf.fit_transform(X_train_balanced)\n",
    "X_test_balanced = tfidf.transform(X_test_balanced)\n",
    "\n",
    "# Train a Logistic Regression model\n",
    "from sklearn.linear_model import LogisticRegression\n",
    "\n",
    "logit = LogisticRegression(C=5, penalty=\"l2\", random_state=321, max_iter=1000)\n",
    "logit.fit(X_train_balanced, y_train_balanced)\n",
    "\n",
    "# Calculate the accuracy of the model\n",
    "print(f\"Logistic Regression Train Accuracy: {logit.score(X_train_balanced, y_train_balanced)}\")"
   ]
  },
  {
   "cell_type": "code",
   "execution_count": 77,
   "metadata": {},
   "outputs": [
    {
     "name": "stdout",
     "output_type": "stream",
     "text": [
      "Logistic Regression Test Accuracy: 0.8774617067833698\n"
     ]
    }
   ],
   "source": [
    "print(f\"Logistic Regression Test Accuracy: {logit.score(X_test_balanced, y_test_balanced)}\")"
   ]
  },
  {
   "cell_type": "markdown",
   "metadata": {},
   "source": [
    "<div style=\"background-color: #; padding: 0px; \">\n",
    "\n",
    "## <font size='5'><i>Plan → Acquire → Prepare → Explore → Model →</i></font> <font size='10'><i>**Deliver**</i></font>\n",
    "---"
   ]
  },
  {
   "cell_type": "markdown",
   "metadata": {},
   "source": [
    "### Takeaways & Recommendation\n"
   ]
  },
  {
   "cell_type": "markdown",
   "metadata": {},
   "source": [
    "#### During Data Collection:\n"
   ]
  },
  {
   "cell_type": "markdown",
   "metadata": {},
   "source": [
    "\n",
    "- Decided to use the 'Full-Time' positions only to deal with outliers\n",
    "    - Freelance jobs will often pay much more, but don't guarantee employment or have benefits\n",
    "    - Freelance jobs also are not very applicable to entry level applicants\n",
    "\n",
    "- Trying to categorize by `sector` proved to be too inaccurate from the nature of the descriptions in the job posts\n",
    "    - Being able to <i>accurately</i> categorize by sector would add value, but would take too much time for this scope\n",
    "\n",
    "- Dataset had very little job positions for engineer/scientists due to the original search term being \"Data Analyst\"\n",
    "    - Scraping for all 3 search terms would add insight for the under-represented categories\n",
    "\n",
    "- `location` in the dataset was primarily from one geographic area and did not include positions from the entire U.S.\n",
    "    - Although the search was for the entire United States, it seems it was limited to a specific region\n",
    "    - If this was due to IP address, area could be more diversified by using a proxy \n",
    "\n",
    "- `date_posted` provided insights that certain fiscal quarters have increased hiring\n",
    "\n",
    "- We were able to distiguish skills for each `title` represented in the dataset\n",
    "    - this was validated by using a classification model to predict the `title`\n",
    "\n",
    "- `salary` was only present in 18% of the job postings. This represents a known issue for job searchers of no salary in the posting"
   ]
  },
  {
   "cell_type": "markdown",
   "metadata": {},
   "source": [
    "#### During Modeling:\n"
   ]
  },
  {
   "cell_type": "markdown",
   "metadata": {},
   "source": [
    "\n",
    "- We down-sampled our dataset in order to demonstrate an accurate model\n",
    "    - Another option, with more time, would be to collect more Data Scientist and Engineer positions\n",
    "    - Data Analyst, will always have more representation than the other two, just due to more Analyst positions\n",
    "\n",
    "- Our model is currently only being used to prove that our analysis of the data job skills are different between the three `titles`\n",
    "\n",
    "- Further data validation could be performed by including trigrams and quadgrams, but very computationally expensive"
   ]
  },
  {
   "cell_type": "markdown",
   "metadata": {},
   "source": [
    "#### During Dashboard:\n"
   ]
  },
  {
   "cell_type": "markdown",
   "metadata": {},
   "source": [
    "\n",
    "- Presenting data with an interactive graph can allow for users to answer their own potential questions\n",
    "- Rather than having scrolls of graphs, it could also be summed up with an interactive graph"
   ]
  },
  {
   "cell_type": "markdown",
   "metadata": {},
   "source": [
    "### Next Steps"
   ]
  },
  {
   "cell_type": "markdown",
   "metadata": {},
   "source": [
    "**Validation:** \n",
    "- Set up a validation framework to periodically test the model on new job scrapings from Google and ensure its predictions remain accurate over time\n",
    "- If the model suddenly is inaccurate, this could represent a shift in the desired skills over time\n",
    "\n",
    "**Continuously add data for continued data insights**\n",
    "- Expand to the entire United States, rather than the limited geographic region\n",
    "- Continue scraping posts, to potentially identify upward and downward trends in certain skills desirability"
   ]
  }
 ],
 "metadata": {
  "kernelspec": {
   "display_name": "base",
   "language": "python",
   "name": "python3"
  },
  "language_info": {
   "codemirror_mode": {
    "name": "ipython",
    "version": 3
   },
   "file_extension": ".py",
   "mimetype": "text/x-python",
   "name": "python",
   "nbconvert_exporter": "python",
   "pygments_lexer": "ipython3",
   "version": "3.11.4"
  }
 },
 "nbformat": 4,
 "nbformat_minor": 2
}
