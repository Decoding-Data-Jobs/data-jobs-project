{
 "cells": [
  {
   "cell_type": "markdown",
   "metadata": {},
   "source": [
    "# TO DO:\n",
    "\n",
    "predictive vs prediction in ml keywords\n",
    "\n",
    "adjust sliders to be max length\n",
    "\n",
    "implement SMOTE\n",
    "\n",
    "degree evaluation?"
   ]
  },
  {
   "cell_type": "markdown",
   "metadata": {},
   "source": [
    "## **Decoding Data Jobs**\n",
    "##### **using Statistical Analysis, Natural Language Processing, and Classification**\n",
    "<p align =\"right\">Zacharia Schmitz <br>\n",
    "Joshua Click<br>\n",
    "November 2023\n",
    "\n",
    "---\n"
   ]
  },
  {
   "cell_type": "markdown",
   "metadata": {},
   "source": [
    "###\n",
    "\n",
    "#### <b><u>*Required Libraries*</u></b>\n"
   ]
  },
  {
   "cell_type": "markdown",
   "metadata": {},
   "source": [
    "\n",
    "1. **numpy:**<br>\n",
    "    - The fundamental package for scientific computing with Python.<br><br>\n",
    "\n",
    "2. **pandas:**<br>\n",
    "    - An open source, BSD-licensed library providing high-performance, easy-to-use data structures and data analysis tools.<br><br>\n",
    "\n",
    "3. **matplotlib:**<br>\n",
    "    - A plotting library for the Python programming language and its numerical mathematics extension NumPy.<br><br>\n",
    "\n",
    "4. **seaborn:**<br>\n",
    "    - A Python data visualization library based on matplotlib. It provides a high-level interface for drawing attractive and informative statistical graphics.<br><br>\n",
    "\n",
    "5. **nltk:**<br>\n",
    "    - Natural Language Toolkit, is a library for symbolic and statistical natural language processing for English written in the Python programming language.<br><br>\n",
    "\n",
    "6. **ipywidgets**:<br> \n",
    "    - IPython widgets for interactive data visualization and manipulation.<br><br>\n",
    "\n",
    "7. **IPython.display**:<br> \n",
    "    - Public API for display tools in IPython.<br><br>\n",
    "\n",
    "8. **plotly.express:**<br> \n",
    "    - A terse, consistent, high-level API for rapid data exploration and figure generation.<br><br>\n",
    "\n",
    "9. **sklearn:**\n",
    "    - .*pipeline*<br><br>\n",
    "        - Provides utilities to build a composite estimator, as a chain of transforms and estimators.<br><br>\n",
    "    - .*model_selection*<br><br>\n",
    "        - Is a module which includes classes and functions for model selection.<br><br>\n",
    "    - .*feature_extraction.text*<br><br>\n",
    "        - Provides classes and functions for text classification.<br><br>\n",
    "    - .*linear_model*<br><br>\n",
    "        - Provides functions for fitting linear models.<br><br>\n",
    "    - .*metrics*<br><br>\n",
    "        - Includes score functions, performance metrics and pairwise metrics and distance computations.<br><br>"
   ]
  },
  {
   "cell_type": "markdown",
   "metadata": {},
   "source": [
    "<div style=\"background-color: #; padding: 0px; \">\n",
    "\n",
    "## <font size='10'><i>**Plan**</i></font> <font size='5'><i>→ Acquire → Prepare → Explore → Model → Deliver</i></font>\n",
    "\n",
    "---"
   ]
  },
  {
   "cell_type": "markdown",
   "metadata": {},
   "source": [
    "- Try multiple ways to gather and create our dataset\n",
    "\n",
    "- Drop columns we won't be using, then prepare the rest.\n",
    "\n",
    "- Do some surface level analysis to determine what we're working with.\n",
    "\n",
    "- Validate our findings, by seeing if a model will predict the same things.\n",
    "\n",
    "- Build a dashbaord deliverable for best user utilization."
   ]
  },
  {
   "cell_type": "markdown",
   "metadata": {},
   "source": [
    "### Some things we are expecting to see:"
   ]
  },
  {
   "cell_type": "markdown",
   "metadata": {},
   "source": [
    "1. What companies have the most job postings?\n",
    "\n",
    "2. What is the location spread for our dataset?\n",
    "\n",
    "3. Within the Google Jobs search, which site has the most postings? \n",
    "\n",
    "4. What words are most common in data job descriptions\n",
    "\n",
    "5. What are the overall top skills to learn for data jobs?\n",
    "\n",
    "6. Do a majority of places allow work from home or want you in the work place?\n",
    "\n",
    "7. What skills are most prevalent in our postings for programming languages, machine learning methods, tools? \n",
    "\n",
    "8. What time of year do we see most data jobs being posted?\n",
    "\n",
    "9. What are the most desirable skills?"
   ]
  },
  {
   "cell_type": "markdown",
   "metadata": {},
   "source": [
    "<div style=\"background-color: #; padding: 0px; \">\n",
    "\n",
    "## <font size='5'><i>Plan → </i></font> <font size='10'><i>**Acquire**</i></font> <font size='5'><i> → Prepare → Explore → Model → Deliver</i></font>\n",
    "\n",
    "---"
   ]
  },
  {
   "cell_type": "markdown",
   "metadata": {},
   "source": [
    "We originally intended on pulling all of the data myself using LinkedIn webscraping or another job resource.\n",
    "\n",
    "We were able to scrape LinkedIn, but after reading into it, they've been known to send cease and desist letters.\n"
   ]
  },
  {
   "cell_type": "markdown",
   "metadata": {},
   "source": [
    "\n",
    "### **Getting our dataset from Google Jobs**\n",
    "\n",
    "For decent analysis, we would need a fairly large dataset.\n",
    "\n",
    "Most job postings do not include salaries. For salary analysis, we needed an even larger dataset to have a decent sample.\n"
   ]
  },
  {
   "cell_type": "markdown",
   "metadata": {},
   "source": [
    "\n",
    "#### **1. Use their API**\n",
    "\n",
    "- You'll need an API key from their [dev website](https://developers.google.com/custom-search/v1/overview)\n",
    "\n",
    "- You can get 100 search queries per day for free.\n",
    "\n",
    "- At a cost of $5 per 1,000, you can get up to 10,000.\n",
    "\n",
    "- The downside to using their API, people often complain that their API results, aren't true to what searches are actually returning.\n",
    "\n",
    "- We also was not able to see if people could use the API for job posting searches.\n"
   ]
  },
  {
   "cell_type": "markdown",
   "metadata": {},
   "source": [
    "\n",
    "#### **2. Scrape the normal result pages**\n",
    "\n",
    "- While Google does not officially allow it, scraping the search engine results page (SERP) is also an option\n",
    "\n",
    "- Google seems to have very sophisticated technology when it comes to scraping their pages\n",
    "\n",
    "- If you scrape at a rate higher than 8 keyword requests per hour you risk detection\n",
    "\n",
    "- If you push it higher than 10 per hour, this will oftentimes get you blocked\n",
    "\n",
    "- By using multiple IPs you can up the rate (100 IPs = 1,000 requests)\n",
    "\n",
    "- There is also an [open source search engine scraper](http://scraping.compunect.com) written in PHP, that can manage proxies and other detection avoidance methods\n"
   ]
  },
  {
   "cell_type": "markdown",
   "metadata": {},
   "source": [
    "\n",
    "#### **3. Use a Scraping Service**\n",
    "\n",
    "- There seem to be many services that offer to do the webscraping\n",
    "\n",
    "- The one that the Kaggle dataset used to scrape was SerpAPI\n",
    "\n",
    "- Their cost was as low as $50 for 5,000 searches per month or as high as $250 for 30,000 searches a month\n"
   ]
  },
  {
   "cell_type": "markdown",
   "metadata": {},
   "source": [
    "\n",
    "### **We decided to try out scraping with Selenium to be more \"human-like\"**\n",
    "\n",
    "```python\n",
    "\n",
    "from selenium import webdriver\n",
    "from selenium.webdriver.common.by import By\n",
    "from selenium.common.exceptions import NoSuchElementException\n",
    "\n",
    "# Initialize Selenium and navigate to the URL\n",
    "driver = webdriver.Chrome(executable_path='/path/to/chromedriver')\n",
    "driver.get('URL')\n",
    "\n",
    "# Define a function to check if \"Load More\" exists\n",
    "def load_more_exists():\n",
    "    try:\n",
    "        driver.find_element(By.XPATH, 'XPATH_OF_LOAD_MORE_BUTTON')\n",
    "        return True\n",
    "    except NoSuchElementException:\n",
    "        return False\n",
    "\n",
    "# Loop to scrape data and click Load More\n",
    "while True:\n",
    "    # Scrape data from the current page\n",
    "    job_elements = driver.find_elements(By.XPATH, 'XPATH_OF_JOB_ELEMENTS')\n",
    "    for job in job_elements:\n",
    "        # Extract and save job data\n",
    "        pass\n",
    "\n",
    "    # Check if \"Load More\" exists and click it\n",
    "    if load_more_exists():\n",
    "        load_more_button = driver.find_element(By.XPATH, 'XPATH_OF_LOAD_MORE_BUTTON')\n",
    "        load_more_button.click()\n",
    "    else:\n",
    "        break\n",
    "\n",
    "driver.close()\n",
    "\n",
    "```\n",
    "While we were able to scrape the job postings using selenium, for the amount of data that we needed, scraping the data ourselves with the amount of time we had wasn't an option.\n"
   ]
  },
  {
   "cell_type": "markdown",
   "metadata": {},
   "source": [
    "\n",
    "### **Pre-Built Dataset**\n",
    "\n",
    "[Kaggle Dataset](https://www.kaggle.com/code/lukebarousse/data-analyst-skill-analysis/notebook)\n",
    "\n",
    "- After looking for faster scraping options, we came across a large dataset with 1 year's worth of job postings that were scraped from Google Jobs\n",
    "\n",
    "- Although a pre-built dataset isn't desired, due to the scale, we decided it was the best way forward\n",
    "\n",
    "- We acquired the data from a Kaggle dataset that has been scraping \"Data Analyst\" job postings for the past year. The dataset has 34,153 entries from 3 November 2022 to 2 November 2023."
   ]
  },
  {
   "cell_type": "code",
   "execution_count": 1,
   "metadata": {},
   "outputs": [],
   "source": [
    "import pandas as pd\n",
    "import wrangle as w\n",
    "from wrangle import (\n",
    "    keywords,\n",
    "    keywords_programming,\n",
    "    keywords_ML_Algorithms,\n",
    "    keywords_analyst_tools,\n",
    "    keywords_cloud_tools,\n",
    ")"
   ]
  },
  {
   "cell_type": "code",
   "execution_count": 2,
   "metadata": {},
   "outputs": [],
   "source": [
    "# Read in job_scrapes\n",
    "jobs_df = pd.read_csv(\"./support_files/jobs.csv\")"
   ]
  },
  {
   "cell_type": "code",
   "execution_count": 3,
   "metadata": {},
   "outputs": [
    {
     "name": "stdout",
     "output_type": "stream",
     "text": [
      "Total rows: 34153\n",
      "Total columns: 27\n"
     ]
    },
    {
     "data": {
      "text/html": [
       "<div>\n",
       "<style scoped>\n",
       "    .dataframe tbody tr th:only-of-type {\n",
       "        vertical-align: middle;\n",
       "    }\n",
       "\n",
       "    .dataframe tbody tr th {\n",
       "        vertical-align: top;\n",
       "    }\n",
       "\n",
       "    .dataframe thead th {\n",
       "        text-align: right;\n",
       "    }\n",
       "</style>\n",
       "<table border=\"1\" class=\"dataframe\">\n",
       "  <thead>\n",
       "    <tr style=\"text-align: right;\">\n",
       "      <th></th>\n",
       "      <th>col_name</th>\n",
       "      <th>dtype</th>\n",
       "      <th>num_unique</th>\n",
       "      <th>num_null</th>\n",
       "      <th>pct_null</th>\n",
       "      <th>unique_values</th>\n",
       "      <th>range (min, max, mean)</th>\n",
       "    </tr>\n",
       "  </thead>\n",
       "  <tbody>\n",
       "    <tr>\n",
       "      <th>0</th>\n",
       "      <td>index</td>\n",
       "      <td>int64</td>\n",
       "      <td>34153</td>\n",
       "      <td>0</td>\n",
       "      <td>0.00000</td>\n",
       "      <td>RangeIndex(start=0, stop=34153, step=1)</td>\n",
       "      <td>None</td>\n",
       "    </tr>\n",
       "    <tr>\n",
       "      <th>1</th>\n",
       "      <td>Unnamed: 0</td>\n",
       "      <td>int64</td>\n",
       "      <td>34153</td>\n",
       "      <td>0</td>\n",
       "      <td>0.00000</td>\n",
       "      <td>[0, 1, 2, 3, 4, 5, 6, 7, 8, 9, 10, 11, 12, 13,...</td>\n",
       "      <td>(0, 34152, 17076.0)</td>\n",
       "    </tr>\n",
       "    <tr>\n",
       "      <th>2</th>\n",
       "      <td>index</td>\n",
       "      <td>int64</td>\n",
       "      <td>3785</td>\n",
       "      <td>0</td>\n",
       "      <td>0.00000</td>\n",
       "      <td>[0, 1, 2, 3, 4, 5, 6, 7, 8, 9, 10, 11, 12, 13,...</td>\n",
       "      <td>(0, 3784, 1141.691418030627)</td>\n",
       "    </tr>\n",
       "    <tr>\n",
       "      <th>3</th>\n",
       "      <td>title</td>\n",
       "      <td>object</td>\n",
       "      <td>13157</td>\n",
       "      <td>0</td>\n",
       "      <td>0.00000</td>\n",
       "      <td>[Data Analyst, Junior Data Analyst/Scientist R...</td>\n",
       "      <td>None</td>\n",
       "    </tr>\n",
       "    <tr>\n",
       "      <th>4</th>\n",
       "      <td>company_name</td>\n",
       "      <td>object</td>\n",
       "      <td>8208</td>\n",
       "      <td>0</td>\n",
       "      <td>0.00000</td>\n",
       "      <td>[Chloeta, Upwork, ATC, Guidehouse, AnMed Healt...</td>\n",
       "      <td>None</td>\n",
       "    </tr>\n",
       "    <tr>\n",
       "      <th>5</th>\n",
       "      <td>location</td>\n",
       "      <td>object</td>\n",
       "      <td>635</td>\n",
       "      <td>24</td>\n",
       "      <td>0.00070</td>\n",
       "      <td>[  Oklahoma City, OK   ,  Anywhere ,   United ...</td>\n",
       "      <td>None</td>\n",
       "    </tr>\n",
       "    <tr>\n",
       "      <th>6</th>\n",
       "      <td>via</td>\n",
       "      <td>object</td>\n",
       "      <td>556</td>\n",
       "      <td>9</td>\n",
       "      <td>0.00026</td>\n",
       "      <td>[via ZipRecruiter, via Upwork, via LinkedIn, v...</td>\n",
       "      <td>None</td>\n",
       "    </tr>\n",
       "    <tr>\n",
       "      <th>7</th>\n",
       "      <td>description</td>\n",
       "      <td>object</td>\n",
       "      <td>24276</td>\n",
       "      <td>0</td>\n",
       "      <td>0.00000</td>\n",
       "      <td>[Job Summary: The Data Analyst oversees data p...</td>\n",
       "      <td>None</td>\n",
       "    </tr>\n",
       "    <tr>\n",
       "      <th>8</th>\n",
       "      <td>extensions</td>\n",
       "      <td>object</td>\n",
       "      <td>5528</td>\n",
       "      <td>0</td>\n",
       "      <td>0.00000</td>\n",
       "      <td>[['21 hours ago', 'Full-time', 'Health insuran...</td>\n",
       "      <td>None</td>\n",
       "    </tr>\n",
       "    <tr>\n",
       "      <th>9</th>\n",
       "      <td>job_id</td>\n",
       "      <td>object</td>\n",
       "      <td>34133</td>\n",
       "      <td>0</td>\n",
       "      <td>0.00000</td>\n",
       "      <td>[eyJqb2JfdGl0bGUiOiJEYXRhIEFuYWx5c3QiLCJodGlkb...</td>\n",
       "      <td>None</td>\n",
       "    </tr>\n",
       "    <tr>\n",
       "      <th>10</th>\n",
       "      <td>thumbnail</td>\n",
       "      <td>object</td>\n",
       "      <td>5967</td>\n",
       "      <td>15125</td>\n",
       "      <td>0.44286</td>\n",
       "      <td>[nan, https://encrypted-tbn0.gstatic.com/image...</td>\n",
       "      <td>None</td>\n",
       "    </tr>\n",
       "    <tr>\n",
       "      <th>11</th>\n",
       "      <td>posted_at</td>\n",
       "      <td>object</td>\n",
       "      <td>80</td>\n",
       "      <td>0</td>\n",
       "      <td>0.00000</td>\n",
       "      <td>[21 hours ago, 17 hours ago, 12 hours ago, 10 ...</td>\n",
       "      <td>None</td>\n",
       "    </tr>\n",
       "    <tr>\n",
       "      <th>12</th>\n",
       "      <td>schedule_type</td>\n",
       "      <td>object</td>\n",
       "      <td>22</td>\n",
       "      <td>177</td>\n",
       "      <td>0.00518</td>\n",
       "      <td>[Full-time, Contractor, Part-time, Internship,...</td>\n",
       "      <td>None</td>\n",
       "    </tr>\n",
       "    <tr>\n",
       "      <th>13</th>\n",
       "      <td>work_from_home</td>\n",
       "      <td>object</td>\n",
       "      <td>1</td>\n",
       "      <td>18896</td>\n",
       "      <td>0.55327</td>\n",
       "      <td>[nan, True]</td>\n",
       "      <td>None</td>\n",
       "    </tr>\n",
       "    <tr>\n",
       "      <th>14</th>\n",
       "      <td>salary</td>\n",
       "      <td>object</td>\n",
       "      <td>1308</td>\n",
       "      <td>28050</td>\n",
       "      <td>0.82130</td>\n",
       "      <td>[nan, 40–75 an hour, 43–48 an hour, 17–46 an h...</td>\n",
       "      <td>None</td>\n",
       "    </tr>\n",
       "    <tr>\n",
       "      <th>15</th>\n",
       "      <td>search_term</td>\n",
       "      <td>object</td>\n",
       "      <td>1</td>\n",
       "      <td>0</td>\n",
       "      <td>0.00000</td>\n",
       "      <td>[data analyst]</td>\n",
       "      <td>None</td>\n",
       "    </tr>\n",
       "    <tr>\n",
       "      <th>16</th>\n",
       "      <td>date_time</td>\n",
       "      <td>object</td>\n",
       "      <td>3559</td>\n",
       "      <td>0</td>\n",
       "      <td>0.00000</td>\n",
       "      <td>[2023-08-03 03:00:09.849838, 2023-08-03 03:00:...</td>\n",
       "      <td>None</td>\n",
       "    </tr>\n",
       "    <tr>\n",
       "      <th>17</th>\n",
       "      <td>search_location</td>\n",
       "      <td>object</td>\n",
       "      <td>1</td>\n",
       "      <td>0</td>\n",
       "      <td>0.00000</td>\n",
       "      <td>[United States]</td>\n",
       "      <td>None</td>\n",
       "    </tr>\n",
       "    <tr>\n",
       "      <th>18</th>\n",
       "      <td>commute_time</td>\n",
       "      <td>float64</td>\n",
       "      <td>0</td>\n",
       "      <td>34153</td>\n",
       "      <td>1.00000</td>\n",
       "      <td>[nan]</td>\n",
       "      <td>(nan, nan, nan)</td>\n",
       "    </tr>\n",
       "    <tr>\n",
       "      <th>19</th>\n",
       "      <td>salary_pay</td>\n",
       "      <td>object</td>\n",
       "      <td>1308</td>\n",
       "      <td>28050</td>\n",
       "      <td>0.82130</td>\n",
       "      <td>[nan, 40–75, 43–48, 17–46, 18.33–28.20, 75–125...</td>\n",
       "      <td>None</td>\n",
       "    </tr>\n",
       "    <tr>\n",
       "      <th>20</th>\n",
       "      <td>salary_rate</td>\n",
       "      <td>object</td>\n",
       "      <td>3</td>\n",
       "      <td>28050</td>\n",
       "      <td>0.82130</td>\n",
       "      <td>[nan, an hour, a year, a month]</td>\n",
       "      <td>None</td>\n",
       "    </tr>\n",
       "    <tr>\n",
       "      <th>21</th>\n",
       "      <td>salary_avg</td>\n",
       "      <td>float64</td>\n",
       "      <td>659</td>\n",
       "      <td>28050</td>\n",
       "      <td>0.82130</td>\n",
       "      <td>[nan, 57.5, 45.5, 31.5, 23.265, 100.0, 41.5, 6...</td>\n",
       "      <td>(7.25, 288000.0, 34835.32406029822)</td>\n",
       "    </tr>\n",
       "    <tr>\n",
       "      <th>22</th>\n",
       "      <td>salary_min</td>\n",
       "      <td>float64</td>\n",
       "      <td>405</td>\n",
       "      <td>28400</td>\n",
       "      <td>0.83155</td>\n",
       "      <td>[nan, 40.0, 43.0, 17.0, 18.33, 75.0, 66053.0, ...</td>\n",
       "      <td>(8.0, 230000.0, 29361.50363810186)</td>\n",
       "    </tr>\n",
       "    <tr>\n",
       "      <th>23</th>\n",
       "      <td>salary_max</td>\n",
       "      <td>float64</td>\n",
       "      <td>445</td>\n",
       "      <td>28400</td>\n",
       "      <td>0.83155</td>\n",
       "      <td>[nan, 75.0, 48.0, 46.0, 28.2, 125.0, 43.0, 709...</td>\n",
       "      <td>(10.0, 346000.0, 41164.45734225622)</td>\n",
       "    </tr>\n",
       "    <tr>\n",
       "      <th>24</th>\n",
       "      <td>salary_hourly</td>\n",
       "      <td>float64</td>\n",
       "      <td>251</td>\n",
       "      <td>30147</td>\n",
       "      <td>0.88270</td>\n",
       "      <td>[nan, 57.5, 45.5, 31.5, 23.265, 100.0, 41.5, 4...</td>\n",
       "      <td>(7.25, 300.0, 42.73529830254617)</td>\n",
       "    </tr>\n",
       "    <tr>\n",
       "      <th>25</th>\n",
       "      <td>salary_yearly</td>\n",
       "      <td>float64</td>\n",
       "      <td>399</td>\n",
       "      <td>32068</td>\n",
       "      <td>0.93895</td>\n",
       "      <td>[nan, 68516.5, 70000.0, 125000.0, 96500.0, 100...</td>\n",
       "      <td>(29289.84, 288000.0, 101847.84247242207)</td>\n",
       "    </tr>\n",
       "    <tr>\n",
       "      <th>26</th>\n",
       "      <td>salary_standardized</td>\n",
       "      <td>float64</td>\n",
       "      <td>653</td>\n",
       "      <td>28050</td>\n",
       "      <td>0.82130</td>\n",
       "      <td>[nan, 119600.0, 94640.0, 65520.0, 48391.2, 208...</td>\n",
       "      <td>(15080.0, 624000.0, 93291.19661068328)</td>\n",
       "    </tr>\n",
       "    <tr>\n",
       "      <th>27</th>\n",
       "      <td>description_tokens</td>\n",
       "      <td>object</td>\n",
       "      <td>6838</td>\n",
       "      <td>0</td>\n",
       "      <td>0.00000</td>\n",
       "      <td>[['r', 'python'], ['r', 'matlab', 'python', 'm...</td>\n",
       "      <td>None</td>\n",
       "    </tr>\n",
       "  </tbody>\n",
       "</table>\n",
       "</div>"
      ],
      "text/plain": [
       "               col_name    dtype  num_unique  num_null  pct_null  \\\n",
       "0                 index    int64       34153         0   0.00000   \n",
       "1            Unnamed: 0    int64       34153         0   0.00000   \n",
       "2                 index    int64        3785         0   0.00000   \n",
       "3                 title   object       13157         0   0.00000   \n",
       "4          company_name   object        8208         0   0.00000   \n",
       "5              location   object         635        24   0.00070   \n",
       "6                   via   object         556         9   0.00026   \n",
       "7           description   object       24276         0   0.00000   \n",
       "8            extensions   object        5528         0   0.00000   \n",
       "9                job_id   object       34133         0   0.00000   \n",
       "10            thumbnail   object        5967     15125   0.44286   \n",
       "11            posted_at   object          80         0   0.00000   \n",
       "12        schedule_type   object          22       177   0.00518   \n",
       "13       work_from_home   object           1     18896   0.55327   \n",
       "14               salary   object        1308     28050   0.82130   \n",
       "15          search_term   object           1         0   0.00000   \n",
       "16            date_time   object        3559         0   0.00000   \n",
       "17      search_location   object           1         0   0.00000   \n",
       "18         commute_time  float64           0     34153   1.00000   \n",
       "19           salary_pay   object        1308     28050   0.82130   \n",
       "20          salary_rate   object           3     28050   0.82130   \n",
       "21           salary_avg  float64         659     28050   0.82130   \n",
       "22           salary_min  float64         405     28400   0.83155   \n",
       "23           salary_max  float64         445     28400   0.83155   \n",
       "24        salary_hourly  float64         251     30147   0.88270   \n",
       "25        salary_yearly  float64         399     32068   0.93895   \n",
       "26  salary_standardized  float64         653     28050   0.82130   \n",
       "27   description_tokens   object        6838         0   0.00000   \n",
       "\n",
       "                                        unique_values  \\\n",
       "0             RangeIndex(start=0, stop=34153, step=1)   \n",
       "1   [0, 1, 2, 3, 4, 5, 6, 7, 8, 9, 10, 11, 12, 13,...   \n",
       "2   [0, 1, 2, 3, 4, 5, 6, 7, 8, 9, 10, 11, 12, 13,...   \n",
       "3   [Data Analyst, Junior Data Analyst/Scientist R...   \n",
       "4   [Chloeta, Upwork, ATC, Guidehouse, AnMed Healt...   \n",
       "5   [  Oklahoma City, OK   ,  Anywhere ,   United ...   \n",
       "6   [via ZipRecruiter, via Upwork, via LinkedIn, v...   \n",
       "7   [Job Summary: The Data Analyst oversees data p...   \n",
       "8   [['21 hours ago', 'Full-time', 'Health insuran...   \n",
       "9   [eyJqb2JfdGl0bGUiOiJEYXRhIEFuYWx5c3QiLCJodGlkb...   \n",
       "10  [nan, https://encrypted-tbn0.gstatic.com/image...   \n",
       "11  [21 hours ago, 17 hours ago, 12 hours ago, 10 ...   \n",
       "12  [Full-time, Contractor, Part-time, Internship,...   \n",
       "13                                        [nan, True]   \n",
       "14  [nan, 40–75 an hour, 43–48 an hour, 17–46 an h...   \n",
       "15                                     [data analyst]   \n",
       "16  [2023-08-03 03:00:09.849838, 2023-08-03 03:00:...   \n",
       "17                                    [United States]   \n",
       "18                                              [nan]   \n",
       "19  [nan, 40–75, 43–48, 17–46, 18.33–28.20, 75–125...   \n",
       "20                    [nan, an hour, a year, a month]   \n",
       "21  [nan, 57.5, 45.5, 31.5, 23.265, 100.0, 41.5, 6...   \n",
       "22  [nan, 40.0, 43.0, 17.0, 18.33, 75.0, 66053.0, ...   \n",
       "23  [nan, 75.0, 48.0, 46.0, 28.2, 125.0, 43.0, 709...   \n",
       "24  [nan, 57.5, 45.5, 31.5, 23.265, 100.0, 41.5, 4...   \n",
       "25  [nan, 68516.5, 70000.0, 125000.0, 96500.0, 100...   \n",
       "26  [nan, 119600.0, 94640.0, 65520.0, 48391.2, 208...   \n",
       "27  [['r', 'python'], ['r', 'matlab', 'python', 'm...   \n",
       "\n",
       "                      range (min, max, mean)  \n",
       "0                                       None  \n",
       "1                        (0, 34152, 17076.0)  \n",
       "2               (0, 3784, 1141.691418030627)  \n",
       "3                                       None  \n",
       "4                                       None  \n",
       "5                                       None  \n",
       "6                                       None  \n",
       "7                                       None  \n",
       "8                                       None  \n",
       "9                                       None  \n",
       "10                                      None  \n",
       "11                                      None  \n",
       "12                                      None  \n",
       "13                                      None  \n",
       "14                                      None  \n",
       "15                                      None  \n",
       "16                                      None  \n",
       "17                                      None  \n",
       "18                           (nan, nan, nan)  \n",
       "19                                      None  \n",
       "20                                      None  \n",
       "21       (7.25, 288000.0, 34835.32406029822)  \n",
       "22        (8.0, 230000.0, 29361.50363810186)  \n",
       "23       (10.0, 346000.0, 41164.45734225622)  \n",
       "24          (7.25, 300.0, 42.73529830254617)  \n",
       "25  (29289.84, 288000.0, 101847.84247242207)  \n",
       "26    (15080.0, 624000.0, 93291.19661068328)  \n",
       "27                                      None  "
      ]
     },
     "execution_count": 3,
     "metadata": {},
     "output_type": "execute_result"
    }
   ],
   "source": [
    "w.check_columns(jobs_df)"
   ]
  },
  {
   "cell_type": "markdown",
   "metadata": {},
   "source": [
    "| Field Name | Description |\n",
    "| --- | --- |\n",
    "| `Unnamed: 0` | Appears to be an auto-incremented identifier. |\n",
    "| `index` | Another identifier, possibly redundant with \"Unnamed: 0\". |\n",
    "| `title` | Job title. |\n",
    "| `company_name` | Name of the company offering the job. |\n",
    "| `location` | Location of the job. |\n",
    "| `via` | Source/platform where the job was posted. |\n",
    "| `description` | Detailed description of the job. |\n",
    "| `extensions` | Additional information about the job (e.g., job type, benefits). |\n",
    "| `job_id` | A unique identifier for the job, possibly encoded. |\n",
    "| `thumbnail` | URL to a thumbnail image associated with the job/company. |\n",
    "| `url` | URL for the job posting. |\n",
    "| `company_description` | Description of the company. |\n",
    "| `company_rating` | Company's rating. |\n",
    "| `rating_count` | Number of ratings the company received. |\n",
    "| `job_type` | Type of the job (e.g., full-time, part-time). |\n",
    "| `benefits` | List of benefits provided by the company. |\n",
    "| `posted` | When the job was posted. |\n",
    "| `deadline` | Application deadline for the job. |\n",
    "| `employment_type` | Employment type (e.g., full-time, contract). |\n",
    "| `commute_time` | Information on commute time, if available. |\n",
    "| `salary_pay` | Salary payment value, if available. |\n",
    "| `salary_rate` | Salary rate (e.g., per hour, per year), if available. |\n",
    "| `salary_avg` | Average salary for the job, if available. |\n",
    "| `salary_min` | Minimum salary for the job, if available. |\n",
    "| `salary_max` | Maximum salary for the job, if available. |\n",
    "| `salary_hourly` | Hourly salary, if available. |\n",
    "| `salary_yearly` | Yearly salary, if available. |\n",
    "| `salary_standardized` | Standardized salary information, if available. |\n",
    "| `description_tokens` | List of skills extracted from the job description. |"
   ]
  },
  {
   "cell_type": "markdown",
   "metadata": {},
   "source": [
    "<div style=\"background-color: #; padding: 0px; \">\n",
    "\n",
    "## <font size='5'><i>Plan → Acquire → </i></font> <font size='10'><i>**Prepare**</i></font> <font size='5'><i> → Explore → Model → Deliver</i></font>\n",
    "\n",
    "--- "
   ]
  },
  {
   "cell_type": "markdown",
   "metadata": {},
   "source": [
    "The dataset had some columns that were engineered since the scraping. Due to us wanting reproducability for our own scraped data, we did not use any of the engineered columns from the dataset, and developed our own. We also dropped columns that we do not intend to use.\n",
    "\n",
    "From the original dataset, we dropped:"
   ]
  },
  {
   "cell_type": "markdown",
   "metadata": {},
   "source": [
    "### Dataframe Preparation\n",
    "\n",
    "Download CSV into /support_files/\n",
    "- [name this \"jobs.csv\"](https://drive.google.com/file/d/1M5UibWPA48zynbNXbB-ZE9m8LVVn5MRR/view?usp=sharing) - Unprepped .csv (takes 10 minutes to prep)\n",
    "    \n",
    "- [name this \"prepped_jobs.csv\"](https://drive.google.com/file/d/1FsXOyZgzOE0AgniY_hdtzTcmOu2KlDni/view?usp=sharing) - Prepped .csv"
   ]
  },
  {
   "cell_type": "code",
   "execution_count": 4,
   "metadata": {},
   "outputs": [],
   "source": [
    "# This will either read in the unprepped CSV, or if it exists, read in the prepped CSV\n",
    "    # - The prepped CSV will take 10~ seconds\n",
    "    # - The unprepped CSV will take 10~ minutes\n",
    "\n",
    "jobs_df_cleaned = w.prepare_jobs(jobs_df)"
   ]
  },
  {
   "cell_type": "markdown",
   "metadata": {},
   "source": [
    "### Drop Columns\n"
   ]
  },
  {
   "cell_type": "markdown",
   "metadata": {},
   "source": [
    "*Looking to reduce dimensionality of the dataset*"
   ]
  },
  {
   "cell_type": "markdown",
   "metadata": {},
   "source": [
    "- Our dataset came with some extra index columns that we dropped\n",
    "\n",
    "    - `Unnamed: 0`\n",
    "    - `index`"
   ]
  },
  {
   "cell_type": "markdown",
   "metadata": {},
   "source": [
    "- These were just columns we didn't see a use for and wanted to reduce dimensionality\n",
    "\n",
    "    - `extensions` - *Google defined tokens for the posting oftentimes benefits packages. Maybe later.*\n",
    "    - `thumbnail` - *The companies thumbnail*\n",
    "    - `search_term` - *All are \"Data Analyst\"*\n",
    "    - `search_location` - *All are \"United States\"*\n",
    "    - `commute_time` - *All nulls*"
   ]
  },
  {
   "cell_type": "markdown",
   "metadata": {},
   "source": [
    "- Although our dataset came with the following columns, we wanted to be able to reproduce on unseen data, so we created functions to create these ourselves:\n",
    "\n",
    "    - `salary_avg`\n",
    "    - `salary_min`\n",
    "    - `salary_max`\n",
    "    - `salary_hourly`\n",
    "    - `salary_yearly`\n",
    "    - `salary_standardized`\n",
    "    - `description_tokens`"
   ]
  },
  {
   "cell_type": "markdown",
   "metadata": {},
   "source": [
    "### Check for Duplicates\n"
   ]
  },
  {
   "cell_type": "markdown",
   "metadata": {},
   "source": [
    "\n",
    "*`job_id` was the only unique column per job posting, turned out to be 20 duplicate posts from scraping*"
   ]
  },
  {
   "cell_type": "markdown",
   "metadata": {},
   "source": [
    "### Handling Missing Data\n"
   ]
  },
  {
   "cell_type": "markdown",
   "metadata": {},
   "source": [
    "*Some columns had nulls. They aren't a big deal for analysis and we won't use those for modeling anyway.*"
   ]
  },
  {
   "cell_type": "markdown",
   "metadata": {},
   "source": [
    "The only assumptions we imputed to the data was `work_from_home`. \n",
    "\n",
    "- This had 55% nulls, and the rest was True.\n",
    "- We imputed the remaining 45% as False."
   ]
  },
  {
   "cell_type": "markdown",
   "metadata": {},
   "source": [
    "\n",
    "`salary` had 82% missing, so most of our jobs don't have the salary included. We decided that was fine and what we had, could still provide insights.\n",
    "\n",
    "`schedule_type` had minimal nulls, but in the end we only worked with \"Full-time\" positions anyway. Full-time was 72% of the original dataset."
   ]
  },
  {
   "cell_type": "markdown",
   "metadata": {},
   "source": [
    "### Work From Home\n"
   ]
  },
  {
   "cell_type": "markdown",
   "metadata": {},
   "source": [
    "\n",
    "`work_from_home` had 55% nulls and the remaining 45% was True. We assumed the remaining 45% was False."
   ]
  },
  {
   "cell_type": "markdown",
   "metadata": {},
   "source": [
    "### Feature Engineering - Standardizing Salary\n"
   ]
  },
  {
   "cell_type": "markdown",
   "metadata": {},
   "source": [
    "*original dataframe had some weird metrics, and we wanted/needed to do it ourselves for reproducability*"
   ]
  },
  {
   "cell_type": "markdown",
   "metadata": {},
   "source": [
    "- With the scraped `salary` column they all were not formatted the same. Some examples are:\n",
    "\n",
    "    - \"77K-116K a year\"\n",
    "    - \"40-75 an hour\"\n",
    "    - \"165K a year\"\n",
    "    - \"53 an hour\"\n",
    "    - \"4.6K-6K a month\""
   ]
  },
  {
   "cell_type": "markdown",
   "metadata": {},
   "source": [
    "- From this column, we engineered:\n",
    "\n",
    "    - `pay_rate` - hourly, monthly, or annually\n",
    "    - `cleaned_salary` - salary stripped to numbers only"
   ]
  },
  {
   "cell_type": "markdown",
   "metadata": {},
   "source": [
    "- For the following, we annualized all of the salaries (hourly * 2080, monthly * 12)\n",
    "\n",
    "    - `min_salary` - lower end of the salary range provided *(or the only digit provided)*\n",
    "    - `max_salary` - upper end of the salary range provided *(or the only digit provided)*\n",
    "    - `avg_salary` - average salary between the two ranges *(or the only digit provided)*"
   ]
  },
  {
   "cell_type": "markdown",
   "metadata": {},
   "source": [
    "### Standardize Location Column\n"
   ]
  },
  {
   "cell_type": "markdown",
   "metadata": {},
   "source": [
    "*`location` had 0.07% nulls. We won't drop those, as they will still provide information for non-location based analytics.*"
   ]
  },
  {
   "cell_type": "markdown",
   "metadata": {},
   "source": [
    "*Some postings had cities in the dataset. We won't be narrowing down that much, so we broadened each posting to the state level, if applicable.*\n",
    "\n",
    "Our dataset only had the following locations:\n",
    "\n",
    "| Location             | Percentage |\n",
    "|----------------------|------------|\n",
    "| United States        | 33%        |\n",
    "| Anywhere             | 29%        |\n",
    "| Missouri             | 14%        |\n",
    "| Oklahoma             | 8%         |\n",
    "| Kansas               | 7%         |\n",
    "| Arkansas             | 6%         |\n",
    "| California           | 0.4%       |\n",
    "| Multiple Locations   | 0.17%      |\n",
    "| Texas                | 0.14%      |\n",
    "| Unknown              | 0.09%      |\n",
    "| Nebraska             | 0.04%      |\n",
    "| Massachusetts        | 0.04%      |\n",
    "| New York             | 0.03%      |\n",
    "| Pennsylvania         | 0.02%      |\n",
    "| District of Columbia | 0.01%      |\n",
    "| New Jersey           | 0.004%     |\n",
    "| Connecticut          | 0.004%     |"
   ]
  },
  {
   "cell_type": "markdown",
   "metadata": {},
   "source": [
    "### Date Formatting\n"
   ]
  },
  {
   "cell_type": "markdown",
   "metadata": {},
   "source": [
    "*feature engineered a `posting_created` column*"
   ]
  },
  {
   "cell_type": "markdown",
   "metadata": {},
   "source": [
    "Our dataframe had `date_time`, which was the date and time that the data was scraped, we converted this to date_time type and renamed to `date_scraped`\n",
    "\n",
    "We also had a `posted_at`, fromatted as \"X hours ago\", which was when the posting was created. We made this a timedelta type.\n",
    "\n",
    "With both of those columns, we created `posting_created`, by subtracting timedelta, from the date_time."
   ]
  },
  {
   "cell_type": "markdown",
   "metadata": {},
   "source": [
    "### Standardize Job Title"
   ]
  },
  {
   "cell_type": "markdown",
   "metadata": {},
   "source": [
    "`title` originally had 13,157 different values in the dataset. We standardized these into `title_cleaned` by:\n",
    "- Data Scientist - titles containing \"scie\"\n",
    "- Data Engineer - titles containing \"eng\"\n",
    "- Data Analyst - titles containing \"ana\"\n",
    "- Other - if it didn't fit any of these\n",
    "\n",
    "We dropped \"Other\". We did not include it in our model predictions, since there was no value in predicting it.\n",
    "\n",
    "Some examples of \"Other\" titles were:\n",
    "- \"Trillium Data Quality\"\n",
    "- \"Systematic review\"\n",
    "- \"GA4 full setup + Conversion and Pixel API setup\""
   ]
  },
  {
   "cell_type": "markdown",
   "metadata": {},
   "source": [
    "### Job Description NLP Processing"
   ]
  },
  {
   "cell_type": "markdown",
   "metadata": {},
   "source": [
    "`description` was the job description in it's scraped format.\n",
    "\n",
    "We made `description_cleaned`, which was a tokenized, normalized, and lemmatized version of `description`\n",
    "\n",
    "From `description_cleaned`, we pulled out categories of keywords related to data jobs. The categories we looked at were:\n",
    "- programming languages\n",
    "- machine learning algorithms\n",
    "- visualization tools\n",
    "- big data tools\n",
    "- cloud tools\n",
    "- business intelligence\n",
    "\n",
    "With the words we defined from these categories, we created `description_tokens`."
   ]
  },
  {
   "cell_type": "markdown",
   "metadata": {},
   "source": [
    "#### Creation of `description_cleaned`\n",
    "*We used `punkt` (for sentence tokenization) and standard `stopwords` for tokenizing, normalizing, and lemmatizing*"
   ]
  },
  {
   "cell_type": "markdown",
   "metadata": {},
   "source": [
    "#### Define Keywords for `description_tokenized`\n",
    "\n",
    "*We selected some keywords that identify into certain data categories. Then we checked the description for single occurences of these words and assigned it to `description_tokens`*"
   ]
  },
  {
   "cell_type": "markdown",
   "metadata": {},
   "source": [
    "| Analyst Tools       | Programming Languages | Business Intelligence | Big Data           | ML Algorithms                                | Visualization Tools       | Cloud Tools   | Computer Vision & NLP        |\n",
    "|---------------------|-----------------------|-----------------------|--------------------|---------------------------------------------|---------------------------|---------------|------------------------------|\n",
    "| excel               | sql                   | tableau               | mysql              | regression                                  | matplotlib                | aws           | computer vision             |\n",
    "| tableau             | python                | power bi              | postgresql         | clustering                                  | seaborn                   | azure         | natural language processing |\n",
    "| word                | r                     | power_bi              | microsoft sql      | classification                              | plotly                    | gcp           |                              |\n",
    "| powerpoint          | c                     | google data studio    | sqlite             | predictive                                  | ggplot                    | snowflake     |                              |\n",
    "| looker              | c#                    | quicksight            | mongodb            | prediction                                  | shiny                     | redshift      |                              |\n",
    "| powerbi             | javascript            | qlik sense            | bigquery           | decision trees                              | geoplotlib                | bigquery      |                              |\n",
    "| outlook             | js                    | azure synapse         | oracle database    | random forests                              | bokeh                     | aurora        |                              |\n",
    "| azure               | java                  | looker                | azure sql          | cnn                                         | d3 js                     | amazon        |                              |\n",
    "| jira                | scala                 | alteryx               | amazon rds         | gradient boosting                           | leaflet / folium          | ec2           |                              |\n",
    "| twilio              | sas                   | sap analytics cloud   | google cloud sql   | bayesian approaches                         | pygal                     | s3            |                              |\n",
    "| snowflake           | matlab                | tibco spotfire        | snowflake          | dense neural networks                       | altair                    |               |                              |\n",
    "| shell               | c++                   | domo                  |                    | mlp                                         | dygraphs                  |               |                              |\n",
    "| linux               | c/c++                 | sisense               |                    | rnn                                         | highcharter               |               |                              |\n",
    "| sas                 | perl                  | thoughtspot           |                    | transformer networks                        | tableau                   |               |                              |\n",
    "| sharepoint          | go                    |                       |                    | bert                                        | microsoft power bi        |               |                              |\n",
    "| mysql               | typescript            |                       |                    | gpt-3                                       | google data studio        |               |                              |\n",
    "| visio               | bash                  |                       |                    | graph neural networks                       | amazon quicksight         |               |                              |\n",
    "| git                 | html                  |                       |                    | autoencoder networks                        | qlik sense                |               |                              |\n",
    "| mssql               | css                   |                       |                    | dae                                         | azure synapse             |               |                              |\n",
    "| powerpoints         | php                   |                       |                    | vae                                         | looker                    |               |                              |\n",
    "| postgresql          | powershell            |                       |                    | gan                                         | alteryx                   |               |                              |\n",
    "| spreadsheets        | rust                  |                       |                    | evolutionary approaches                     | sap analytics cloud       |               |                              |\n",
    "| seaborn             | kotlin                |                       |                    |                                             | tibco spotfire            |               |                              |\n",
    "| pandas              | ruby                  |                       |                    |                                             | domo                      |               |                              |\n",
    "| gdpr                | dart                  |                       |                    |                                             | sisense                   |               |                              |\n",
    "| spreadsheet         | assembly              |                       |                    |                                             | thoughtspot               |               |                              |\n",
    "| alteryx             | swift                 |                       |                    |                                             |                           |               |                              |\n",
    "| github              | vba                   |                       |                    |                                             |                           |               |                              |\n",
    "| postgres            | lua                   |                       |                    |                                             |                           |               |                              |\n",
    "| ssis                | groovy                |                       |                    |                                             |                           |               |                              |\n",
    "| numpy               | delphi                |                       |                    |                                             |                           |               |                              |\n",
    "| power_bi            | objective-c           |                       |                    |                                             |                           |               |                              |\n",
    "| spss                | haskell               |                       |                    |                                             |                           |               |                              |\n",
    "| ssrs                | elixir                |                       |                    |                                             |                           |               |                              |\n",
    "| microstrategy       | julia                 |                       |                    |                                             |                           |               |                              |\n",
    "| cognos              | clojure               |                       |                    |                                             |                           |               |                              |\n",
    "| dax                 | solidity              |                       |                    |                                             |                           |               |                              |\n",
    "| matplotlib          | lisp                  |                       |                    |                                             |                           |               |                              |\n",
    "| dplyr               | f#                    |                       |                    |                                             |                           |               |                              |\n",
    "| tidyr               | fortran               |                       |                    |                                             |                           |               |                              |\n",
    "| ggplot2             | erlang                |                       |                    |                                             |                           |               |                              |\n",
    "| plotly              | apl                   |                       |                    |                                             |                           |               |                              |\n",
    "| esquisse            | cobol                 |                       |                    |                                             |                           |               |                              |\n",
    "| rshiny              | ocaml                 |                       |                    |                                             |                           |               |                              |\n",
    "| mlr                 | crystal               |                       |                    |                                             |                           |               |                              |\n",
    "| docker              | javascript/typescript |                       |                    |                                             |                           |               |                              |\n",
    "| linux               | golang                |                       |                    |                                             |                           |               |                              |\n",
    "| jira                | nosql                 |                       |                    |                                             |                           |               |                              |\n",
    "| hadoop              | mongodb               |                       |                    |                                             |                           |               |                              |\n",
    "| airflow             | t-sql                 |                       |                    |                                             |                           |               |                              |\n",
    "| redis               | no-sql                |                       |                    |                                             |                           |               |                              |\n",
    "| graphql             | visual_basic          |                       |                    |                                             |                           |               |                              |\n",
    "| sap                 | pascal                |                       |                    |                                             |                           |               |                              |\n",
    "| tensorflow          | mongo                 |                       |                    |                                             |                           |               |                              |\n",
    "| node                | pl/sql                |                       |                    |                                             |                           |               |                              |\n",
    "| asp.net             | sass                  |                       |                    |                                             |                           |               |                              |\n",
    "| unix                | vb.net                |                       |                    |                                             |                           |               |                              |\n",
    "| jquery              | mssql                 |                       |                    |                                             |                           |               |                              |\n",
    "| pyspark             |                       |                       |                    |                                             |                           |               |                              |\n",
    "| pytorch             |                       |                       |                    |                                             |                           |               |                              |\n",
    "| gitlab              |                       |                       |                    |                                             |                           |               |                              |\n",
    "| selenium            |                       |                       |                    |                                             |                           |               |                              |\n",
    "| splunk              |                       |                       |                    |                                             |                           |               |                              |\n",
    "| bitbucket           |                       |                       |                    |                                             |                           |               |                              |\n",
    "| qlik                |                       |                       |                    |                                             |                           |               |                              |\n",
    "| terminal            |                       |                       |                    |                                             |                           |               |                              |\n",
    "| atlassian           |                       |                       |                    |                                             |                           |               |                              |\n",
    "| unix/linux          |                       |                       |                    |                                             |                           |               |                              |\n",
    "| linux/unix          |                       |                       |                    |                                             |                           |               |                              |\n",
    "| ubuntu              |                       |                       |                    |                                             |                           |               |                              |\n",
    "| nuix                |                       |                       |                    |                                             |                           |               |                              |\n",
    "| datarobot           |                       |                       |                    |                                             |                           |               |                              |\n"
   ]
  },
  {
   "cell_type": "markdown",
   "metadata": {},
   "source": [
    "### Schedule Types"
   ]
  },
  {
   "cell_type": "markdown",
   "metadata": {},
   "source": [
    "`schedule_type` contained many different values, and comparing freelance work to full-time, wasn't accurate and skewed the metrics.\n",
    "\n",
    "During exploration it was identified that contract (typically freelance) positions tend to pay a lot more than full time.\n",
    "- Some of these positions were offering up to $750 an hour\n",
    "- This caused issues when we annualized the pay (multiplied by 2080 for hourly)\n",
    "\n",
    "Freelance work is typically not something for entry level positions, so for now we will only look into full-time positions."
   ]
  },
  {
   "cell_type": "markdown",
   "metadata": {},
   "source": [
    "### Identify Further Words to Remove"
   ]
  },
  {
   "cell_type": "code",
   "execution_count": 5,
   "metadata": {},
   "outputs": [],
   "source": [
    "# List of words to remove\n",
    "words_to_remove = ['data', 'experience']\n",
    "\n",
    "# Function to remove specific words\n",
    "def remove_words(word_list):\n",
    "    return [word for word in word_list if word not in words_to_remove]\n",
    "\n",
    "jobs_df_cleaned[\"description_cleaned\"] = jobs_df_cleaned[\"description_cleaned\"].apply(remove_words)"
   ]
  },
  {
   "cell_type": "markdown",
   "metadata": {},
   "source": [
    "### Narrow down to what we want"
   ]
  },
  {
   "cell_type": "markdown",
   "metadata": {},
   "source": [
    "We either feature engineered columns using these, or decided not to use them for now.\n",
    "\n",
    "For our analysis and modeling, we'll only be using the following columns:"
   ]
  },
  {
   "cell_type": "code",
   "execution_count": 6,
   "metadata": {},
   "outputs": [],
   "source": [
    "jobs_df_cleaned = jobs_df_cleaned[\n",
    "[# 'title',\n",
    " 'company_name',\n",
    " # 'location',\n",
    " 'via',\n",
    " # 'description',\n",
    " 'posted_at',\n",
    " # 'schedule_type',\n",
    " 'work_from_home',\n",
    " # 'date_scraped',\n",
    " # 'salary_pay',\n",
    " # 'salary_rate',\n",
    " # 'cleaned_salary',\n",
    " # 'pay_rate',\n",
    " # 'min_salary',\n",
    " # 'max_salary',\n",
    " 'avg_salary',\n",
    " 'location_cleaned',\n",
    " 'posting_created',\n",
    " 'title_cleaned',\n",
    " 'description_cleaned',\n",
    " 'description_tokens']\n",
    "]"
   ]
  },
  {
   "cell_type": "markdown",
   "metadata": {},
   "source": [
    "### Check out the final dataframe"
   ]
  },
  {
   "cell_type": "code",
   "execution_count": 7,
   "metadata": {},
   "outputs": [
    {
     "data": {
      "text/plain": [
       "title_cleaned\n",
       "Data Analyst      22316\n",
       "Data Scientist     1109\n",
       "Data Engineer       761\n",
       "Name: count, dtype: int64"
      ]
     },
     "execution_count": 7,
     "metadata": {},
     "output_type": "execute_result"
    }
   ],
   "source": [
    "jobs_df_cleaned['title_cleaned'].value_counts()\n"
   ]
  },
  {
   "cell_type": "code",
   "execution_count": 8,
   "metadata": {},
   "outputs": [
    {
     "name": "stdout",
     "output_type": "stream",
     "text": [
      "Total rows: 24186\n",
      "Total columns: 10\n"
     ]
    },
    {
     "data": {
      "text/html": [
       "<div>\n",
       "<style scoped>\n",
       "    .dataframe tbody tr th:only-of-type {\n",
       "        vertical-align: middle;\n",
       "    }\n",
       "\n",
       "    .dataframe tbody tr th {\n",
       "        vertical-align: top;\n",
       "    }\n",
       "\n",
       "    .dataframe thead th {\n",
       "        text-align: right;\n",
       "    }\n",
       "</style>\n",
       "<table border=\"1\" class=\"dataframe\">\n",
       "  <thead>\n",
       "    <tr style=\"text-align: right;\">\n",
       "      <th></th>\n",
       "      <th>col_name</th>\n",
       "      <th>dtype</th>\n",
       "      <th>num_unique</th>\n",
       "      <th>num_null</th>\n",
       "      <th>pct_null</th>\n",
       "      <th>unique_values</th>\n",
       "      <th>range (min, max, mean)</th>\n",
       "    </tr>\n",
       "  </thead>\n",
       "  <tbody>\n",
       "    <tr>\n",
       "      <th>0</th>\n",
       "      <td>index</td>\n",
       "      <td>datetime64[ns]</td>\n",
       "      <td>6854</td>\n",
       "      <td>0</td>\n",
       "      <td>0.00000</td>\n",
       "      <td>DatetimeIndex(['2023-08-02 06:00:00', '2023-08...</td>\n",
       "      <td>(2022-11-03, 2023-11-02)</td>\n",
       "    </tr>\n",
       "    <tr>\n",
       "      <th>1</th>\n",
       "      <td>company_name</td>\n",
       "      <td>object</td>\n",
       "      <td>7102</td>\n",
       "      <td>0</td>\n",
       "      <td>0.00000</td>\n",
       "      <td>[Chloeta, ATC, Guidehouse, Oregon Health &amp; Sci...</td>\n",
       "      <td>None</td>\n",
       "    </tr>\n",
       "    <tr>\n",
       "      <th>2</th>\n",
       "      <td>via</td>\n",
       "      <td>object</td>\n",
       "      <td>520</td>\n",
       "      <td>9</td>\n",
       "      <td>0.00037</td>\n",
       "      <td>[via ZipRecruiter, via LinkedIn, via Nexxt, vi...</td>\n",
       "      <td>None</td>\n",
       "    </tr>\n",
       "    <tr>\n",
       "      <th>3</th>\n",
       "      <td>posted_at</td>\n",
       "      <td>timedelta64[ns]</td>\n",
       "      <td>54</td>\n",
       "      <td>0</td>\n",
       "      <td>0.00000</td>\n",
       "      <td>[0 days 21:00:00, 0 days 12:00:00, 0 days 10:0...</td>\n",
       "      <td>None</td>\n",
       "    </tr>\n",
       "    <tr>\n",
       "      <th>4</th>\n",
       "      <td>work_from_home</td>\n",
       "      <td>bool</td>\n",
       "      <td>2</td>\n",
       "      <td>0</td>\n",
       "      <td>0.00000</td>\n",
       "      <td>[False, True]</td>\n",
       "      <td>(False, True, 0.28843132390639215)</td>\n",
       "    </tr>\n",
       "    <tr>\n",
       "      <th>5</th>\n",
       "      <td>avg_salary</td>\n",
       "      <td>float64</td>\n",
       "      <td>485</td>\n",
       "      <td>21670</td>\n",
       "      <td>0.89597</td>\n",
       "      <td>[nan, 94640.0, 48391.200000000004, 68516.5, 70...</td>\n",
       "      <td>(24960.0, 288000.0, 98228.84103736088)</td>\n",
       "    </tr>\n",
       "    <tr>\n",
       "      <th>6</th>\n",
       "      <td>location_cleaned</td>\n",
       "      <td>object</td>\n",
       "      <td>17</td>\n",
       "      <td>0</td>\n",
       "      <td>0.00000</td>\n",
       "      <td>[Oklahoma, United States, Kansas, Anywhere, Ar...</td>\n",
       "      <td>None</td>\n",
       "    </tr>\n",
       "    <tr>\n",
       "      <th>7</th>\n",
       "      <td>posting_created</td>\n",
       "      <td>object</td>\n",
       "      <td>6854</td>\n",
       "      <td>0</td>\n",
       "      <td>0.00000</td>\n",
       "      <td>[2023-08-02 06:00, 2023-08-02 15:00, 2023-08-0...</td>\n",
       "      <td>None</td>\n",
       "    </tr>\n",
       "    <tr>\n",
       "      <th>8</th>\n",
       "      <td>title_cleaned</td>\n",
       "      <td>object</td>\n",
       "      <td>3</td>\n",
       "      <td>0</td>\n",
       "      <td>0.00000</td>\n",
       "      <td>[Data Analyst, Data Engineer, Data Scientist]</td>\n",
       "      <td>None</td>\n",
       "    </tr>\n",
       "    <tr>\n",
       "      <th>9</th>\n",
       "      <td>description_cleaned</td>\n",
       "      <td>object</td>\n",
       "      <td>ERROR</td>\n",
       "      <td>0</td>\n",
       "      <td>0.00000</td>\n",
       "      <td>Column contains multiple lists</td>\n",
       "      <td>None</td>\n",
       "    </tr>\n",
       "    <tr>\n",
       "      <th>10</th>\n",
       "      <td>description_tokens</td>\n",
       "      <td>object</td>\n",
       "      <td>ERROR</td>\n",
       "      <td>0</td>\n",
       "      <td>0.00000</td>\n",
       "      <td>Column contains multiple lists</td>\n",
       "      <td>None</td>\n",
       "    </tr>\n",
       "  </tbody>\n",
       "</table>\n",
       "</div>"
      ],
      "text/plain": [
       "               col_name            dtype num_unique  num_null  pct_null  \\\n",
       "0                 index   datetime64[ns]       6854         0   0.00000   \n",
       "1          company_name           object       7102         0   0.00000   \n",
       "2                   via           object        520         9   0.00037   \n",
       "3             posted_at  timedelta64[ns]         54         0   0.00000   \n",
       "4        work_from_home             bool          2         0   0.00000   \n",
       "5            avg_salary          float64        485     21670   0.89597   \n",
       "6      location_cleaned           object         17         0   0.00000   \n",
       "7       posting_created           object       6854         0   0.00000   \n",
       "8         title_cleaned           object          3         0   0.00000   \n",
       "9   description_cleaned           object      ERROR         0   0.00000   \n",
       "10   description_tokens           object      ERROR         0   0.00000   \n",
       "\n",
       "                                        unique_values  \\\n",
       "0   DatetimeIndex(['2023-08-02 06:00:00', '2023-08...   \n",
       "1   [Chloeta, ATC, Guidehouse, Oregon Health & Sci...   \n",
       "2   [via ZipRecruiter, via LinkedIn, via Nexxt, vi...   \n",
       "3   [0 days 21:00:00, 0 days 12:00:00, 0 days 10:0...   \n",
       "4                                       [False, True]   \n",
       "5   [nan, 94640.0, 48391.200000000004, 68516.5, 70...   \n",
       "6   [Oklahoma, United States, Kansas, Anywhere, Ar...   \n",
       "7   [2023-08-02 06:00, 2023-08-02 15:00, 2023-08-0...   \n",
       "8       [Data Analyst, Data Engineer, Data Scientist]   \n",
       "9                      Column contains multiple lists   \n",
       "10                     Column contains multiple lists   \n",
       "\n",
       "                    range (min, max, mean)  \n",
       "0                 (2022-11-03, 2023-11-02)  \n",
       "1                                     None  \n",
       "2                                     None  \n",
       "3                                     None  \n",
       "4       (False, True, 0.28843132390639215)  \n",
       "5   (24960.0, 288000.0, 98228.84103736088)  \n",
       "6                                     None  \n",
       "7                                     None  \n",
       "8                                     None  \n",
       "9                                     None  \n",
       "10                                    None  "
      ]
     },
     "execution_count": 8,
     "metadata": {},
     "output_type": "execute_result"
    }
   ],
   "source": [
    "w.check_columns(jobs_df_cleaned)"
   ]
  },
  {
   "cell_type": "code",
   "execution_count": 48,
   "metadata": {},
   "outputs": [],
   "source": [
    "# Export CSV\n",
    "# jobs_df_cleaned.to_csv(\"./support_files/prepped_jobs.csv\", index=False)"
   ]
  },
  {
   "cell_type": "markdown",
   "metadata": {},
   "source": [
    "<div style=\"background-color: #; padding: 0px; \">\n",
    "\n",
    "## <font size='5'><i>Plan → Acquire → Prepare → </i></font> <font size='10'><i>**Explore**</i></font> <font size='5'><i>→ Model → Deliver</i></font>\n",
    "---"
   ]
  },
  {
   "cell_type": "code",
   "execution_count": 9,
   "metadata": {},
   "outputs": [
    {
     "name": "stdout",
     "output_type": "stream",
     "text": [
      "Total rows: 24186\n",
      "Total columns: 10\n"
     ]
    },
    {
     "data": {
      "text/html": [
       "<div>\n",
       "<style scoped>\n",
       "    .dataframe tbody tr th:only-of-type {\n",
       "        vertical-align: middle;\n",
       "    }\n",
       "\n",
       "    .dataframe tbody tr th {\n",
       "        vertical-align: top;\n",
       "    }\n",
       "\n",
       "    .dataframe thead th {\n",
       "        text-align: right;\n",
       "    }\n",
       "</style>\n",
       "<table border=\"1\" class=\"dataframe\">\n",
       "  <thead>\n",
       "    <tr style=\"text-align: right;\">\n",
       "      <th></th>\n",
       "      <th>col_name</th>\n",
       "      <th>dtype</th>\n",
       "      <th>num_unique</th>\n",
       "      <th>num_null</th>\n",
       "      <th>pct_null</th>\n",
       "      <th>unique_values</th>\n",
       "      <th>range (min, max, mean)</th>\n",
       "    </tr>\n",
       "  </thead>\n",
       "  <tbody>\n",
       "    <tr>\n",
       "      <th>0</th>\n",
       "      <td>index</td>\n",
       "      <td>datetime64[ns]</td>\n",
       "      <td>6854</td>\n",
       "      <td>0</td>\n",
       "      <td>0.00000</td>\n",
       "      <td>DatetimeIndex(['2023-08-02 06:00:00', '2023-08...</td>\n",
       "      <td>(2022-11-03, 2023-11-02)</td>\n",
       "    </tr>\n",
       "    <tr>\n",
       "      <th>1</th>\n",
       "      <td>company_name</td>\n",
       "      <td>object</td>\n",
       "      <td>7102</td>\n",
       "      <td>0</td>\n",
       "      <td>0.00000</td>\n",
       "      <td>[Chloeta, ATC, Guidehouse, Oregon Health &amp; Sci...</td>\n",
       "      <td>None</td>\n",
       "    </tr>\n",
       "    <tr>\n",
       "      <th>2</th>\n",
       "      <td>via</td>\n",
       "      <td>object</td>\n",
       "      <td>520</td>\n",
       "      <td>9</td>\n",
       "      <td>0.00037</td>\n",
       "      <td>[via ZipRecruiter, via LinkedIn, via Nexxt, vi...</td>\n",
       "      <td>None</td>\n",
       "    </tr>\n",
       "    <tr>\n",
       "      <th>3</th>\n",
       "      <td>posted_at</td>\n",
       "      <td>timedelta64[ns]</td>\n",
       "      <td>54</td>\n",
       "      <td>0</td>\n",
       "      <td>0.00000</td>\n",
       "      <td>[0 days 21:00:00, 0 days 12:00:00, 0 days 10:0...</td>\n",
       "      <td>None</td>\n",
       "    </tr>\n",
       "    <tr>\n",
       "      <th>4</th>\n",
       "      <td>work_from_home</td>\n",
       "      <td>bool</td>\n",
       "      <td>2</td>\n",
       "      <td>0</td>\n",
       "      <td>0.00000</td>\n",
       "      <td>[False, True]</td>\n",
       "      <td>(False, True, 0.28843132390639215)</td>\n",
       "    </tr>\n",
       "    <tr>\n",
       "      <th>5</th>\n",
       "      <td>avg_salary</td>\n",
       "      <td>float64</td>\n",
       "      <td>485</td>\n",
       "      <td>21670</td>\n",
       "      <td>0.89597</td>\n",
       "      <td>[nan, 94640.0, 48391.200000000004, 68516.5, 70...</td>\n",
       "      <td>(24960.0, 288000.0, 98228.84103736088)</td>\n",
       "    </tr>\n",
       "    <tr>\n",
       "      <th>6</th>\n",
       "      <td>location_cleaned</td>\n",
       "      <td>object</td>\n",
       "      <td>17</td>\n",
       "      <td>0</td>\n",
       "      <td>0.00000</td>\n",
       "      <td>[Oklahoma, United States, Kansas, Anywhere, Ar...</td>\n",
       "      <td>None</td>\n",
       "    </tr>\n",
       "    <tr>\n",
       "      <th>7</th>\n",
       "      <td>posting_created</td>\n",
       "      <td>object</td>\n",
       "      <td>6854</td>\n",
       "      <td>0</td>\n",
       "      <td>0.00000</td>\n",
       "      <td>[2023-08-02 06:00, 2023-08-02 15:00, 2023-08-0...</td>\n",
       "      <td>None</td>\n",
       "    </tr>\n",
       "    <tr>\n",
       "      <th>8</th>\n",
       "      <td>title_cleaned</td>\n",
       "      <td>object</td>\n",
       "      <td>3</td>\n",
       "      <td>0</td>\n",
       "      <td>0.00000</td>\n",
       "      <td>[Data Analyst, Data Engineer, Data Scientist]</td>\n",
       "      <td>None</td>\n",
       "    </tr>\n",
       "    <tr>\n",
       "      <th>9</th>\n",
       "      <td>description_cleaned</td>\n",
       "      <td>object</td>\n",
       "      <td>ERROR</td>\n",
       "      <td>0</td>\n",
       "      <td>0.00000</td>\n",
       "      <td>Column contains multiple lists</td>\n",
       "      <td>None</td>\n",
       "    </tr>\n",
       "    <tr>\n",
       "      <th>10</th>\n",
       "      <td>description_tokens</td>\n",
       "      <td>object</td>\n",
       "      <td>ERROR</td>\n",
       "      <td>0</td>\n",
       "      <td>0.00000</td>\n",
       "      <td>Column contains multiple lists</td>\n",
       "      <td>None</td>\n",
       "    </tr>\n",
       "  </tbody>\n",
       "</table>\n",
       "</div>"
      ],
      "text/plain": [
       "               col_name            dtype num_unique  num_null  pct_null  \\\n",
       "0                 index   datetime64[ns]       6854         0   0.00000   \n",
       "1          company_name           object       7102         0   0.00000   \n",
       "2                   via           object        520         9   0.00037   \n",
       "3             posted_at  timedelta64[ns]         54         0   0.00000   \n",
       "4        work_from_home             bool          2         0   0.00000   \n",
       "5            avg_salary          float64        485     21670   0.89597   \n",
       "6      location_cleaned           object         17         0   0.00000   \n",
       "7       posting_created           object       6854         0   0.00000   \n",
       "8         title_cleaned           object          3         0   0.00000   \n",
       "9   description_cleaned           object      ERROR         0   0.00000   \n",
       "10   description_tokens           object      ERROR         0   0.00000   \n",
       "\n",
       "                                        unique_values  \\\n",
       "0   DatetimeIndex(['2023-08-02 06:00:00', '2023-08...   \n",
       "1   [Chloeta, ATC, Guidehouse, Oregon Health & Sci...   \n",
       "2   [via ZipRecruiter, via LinkedIn, via Nexxt, vi...   \n",
       "3   [0 days 21:00:00, 0 days 12:00:00, 0 days 10:0...   \n",
       "4                                       [False, True]   \n",
       "5   [nan, 94640.0, 48391.200000000004, 68516.5, 70...   \n",
       "6   [Oklahoma, United States, Kansas, Anywhere, Ar...   \n",
       "7   [2023-08-02 06:00, 2023-08-02 15:00, 2023-08-0...   \n",
       "8       [Data Analyst, Data Engineer, Data Scientist]   \n",
       "9                      Column contains multiple lists   \n",
       "10                     Column contains multiple lists   \n",
       "\n",
       "                    range (min, max, mean)  \n",
       "0                 (2022-11-03, 2023-11-02)  \n",
       "1                                     None  \n",
       "2                                     None  \n",
       "3                                     None  \n",
       "4       (False, True, 0.28843132390639215)  \n",
       "5   (24960.0, 288000.0, 98228.84103736088)  \n",
       "6                                     None  \n",
       "7                                     None  \n",
       "8                                     None  \n",
       "9                                     None  \n",
       "10                                    None  "
      ]
     },
     "execution_count": 9,
     "metadata": {},
     "output_type": "execute_result"
    }
   ],
   "source": [
    "w.check_columns(jobs_df_cleaned)"
   ]
  },
  {
   "cell_type": "markdown",
   "metadata": {},
   "source": [
    "### Questions"
   ]
  },
  {
   "cell_type": "markdown",
   "metadata": {},
   "source": [
    "1. What companies have the most job postings?\n",
    "\n",
    "2. What is the location spread for our dataset?\n",
    "\n",
    "3. Within the Google Jobs search, which site has the most postings? \n",
    "\n",
    "4. What words are most common in data job descriptions\n",
    "\n",
    "5. What are the overall top things to learn for data jobs?\n",
    "\n",
    "6. Do a majority of places allow wor from home or want you in the work place?\n",
    "\n",
    "7. What skills are most prevalent in our postings for programming languages, ML Algorithyms, tools? \n",
    "\n",
    "8. When do we see most data jobs being posted?\n",
    "\n",
    "9. What are top skills overall?"
   ]
  },
  {
   "cell_type": "markdown",
   "metadata": {},
   "source": [
    "### Train, Validate, & Test Splits"
   ]
  },
  {
   "cell_type": "code",
   "execution_count": 10,
   "metadata": {},
   "outputs": [
    {
     "name": "stdout",
     "output_type": "stream",
     "text": [
      "Train size: 19348 (80.00%)\n",
      "Test size: 4838 (20.00%)\n"
     ]
    }
   ],
   "source": [
    "from sklearn.model_selection import train_test_split\n",
    "\n",
    "# Split the data into train and test sets (Our validate will be generated during GridSearch)\n",
    "train, test = train_test_split(\n",
    "    jobs_df_cleaned, train_size=0.8, test_size=0.2, random_state=321\n",
    ")\n",
    "\n",
    "# Print sizes, length of set and ratio of total\n",
    "print(f\"Train size: {len(train)} ({len(train) / len(jobs_df_cleaned):.2%})\")\n",
    "print(f\"Test size: {len(test)} ({len(test) / len(jobs_df_cleaned):.2%})\")"
   ]
  },
  {
   "cell_type": "markdown",
   "metadata": {},
   "source": [
    "### Common Words in Job Posts (Not Keywords)"
   ]
  },
  {
   "cell_type": "markdown",
   "metadata": {},
   "source": [
    "Taking a look at the unique words overall, and then for each title. For each title, if it is in 50% of another titles list, it isn't considered unique."
   ]
  },
  {
   "cell_type": "code",
   "execution_count": 46,
   "metadata": {},
   "outputs": [
    {
     "data": {
      "application/vnd.plotly.v1+json": {
       "config": {
        "plotlyServerURL": "https://plot.ly"
       },
       "data": [
        {
         "name": "All Titles",
         "orientation": "h",
         "type": "bar",
         "visible": true,
         "x": [
          0.8005457702803275,
          0.7793764988009593,
          0.7764409162325312,
          0.7663524352931448,
          0.7199206152319524,
          0.7161994542297196,
          0.6870917059455883,
          0.6770859174729182,
          0.6608368477631688,
          0.6575291490945175
         ],
         "y": [
          "'year',",
          "'team',",
          "'skill',",
          "'analysis',",
          "'degree',",
          "'analyst',",
          "'opportunity',",
          "'support',",
          "'ability',",
          "'process',"
         ]
        },
        {
         "name": "Data Analyst",
         "orientation": "h",
         "type": "bar",
         "visible": false,
         "x": [
          0.6404373543645815,
          0.633939774153074,
          0.6209894246280695,
          0.6196899085857681,
          0.6137748700483958,
          0.6059329628965765,
          0.6004212224412977,
          0.6000627352572145,
          0.5999283025631834,
          0.5899802832048754
         ],
         "y": [
          "'including',",
          "'management',",
          "'requirement',",
          "'information',",
          "'tool',",
          "'bachelor',",
          "'project',",
          "'report',",
          "'related',",
          "'analytics',"
         ]
        },
        {
         "name": "Data Engineer",
         "orientation": "h",
         "type": "bar",
         "visible": false,
         "x": [
          0.6898817345597897,
          0.6898817345597897,
          0.6741130091984231,
          0.6662286465177398,
          0.6465177398160316,
          0.6346911957950065,
          0.6281208935611038,
          0.6149802890932983,
          0.607095926412615,
          0.59526938239159
         ],
         "y": [
          "'engineer',",
          "'tool',",
          "'system',",
          "'engineering',",
          "'sql',",
          "'solution',",
          "'analytics',",
          "'working',",
          "'development',",
          "'requirement',"
         ]
        },
        {
         "name": "Data Scientist",
         "orientation": "h",
         "type": "bar",
         "visible": false,
         "x": [
          0.8286744815148782,
          0.7348963029756538,
          0.6943192064923355,
          0.6537421100090172,
          0.6519386834986475,
          0.6474301172227231,
          0.6212804328223624,
          0.6041478809738503,
          0.5978358881875564,
          0.5969341749323716
         ],
         "y": [
          "'science',",
          "'python',",
          "'analytics',",
          "'learning',",
          "'scientist',",
          "'model',",
          "'solution',",
          "'sql',",
          "'related',",
          "'including',"
         ]
        }
       ],
       "layout": {
        "template": {
         "data": {
          "bar": [
           {
            "error_x": {
             "color": "#2a3f5f"
            },
            "error_y": {
             "color": "#2a3f5f"
            },
            "marker": {
             "line": {
              "color": "#E5ECF6",
              "width": 0.5
             },
             "pattern": {
              "fillmode": "overlay",
              "size": 10,
              "solidity": 0.2
             }
            },
            "type": "bar"
           }
          ],
          "barpolar": [
           {
            "marker": {
             "line": {
              "color": "#E5ECF6",
              "width": 0.5
             },
             "pattern": {
              "fillmode": "overlay",
              "size": 10,
              "solidity": 0.2
             }
            },
            "type": "barpolar"
           }
          ],
          "carpet": [
           {
            "aaxis": {
             "endlinecolor": "#2a3f5f",
             "gridcolor": "white",
             "linecolor": "white",
             "minorgridcolor": "white",
             "startlinecolor": "#2a3f5f"
            },
            "baxis": {
             "endlinecolor": "#2a3f5f",
             "gridcolor": "white",
             "linecolor": "white",
             "minorgridcolor": "white",
             "startlinecolor": "#2a3f5f"
            },
            "type": "carpet"
           }
          ],
          "choropleth": [
           {
            "colorbar": {
             "outlinewidth": 0,
             "ticks": ""
            },
            "type": "choropleth"
           }
          ],
          "contour": [
           {
            "colorbar": {
             "outlinewidth": 0,
             "ticks": ""
            },
            "colorscale": [
             [
              0,
              "#0d0887"
             ],
             [
              0.1111111111111111,
              "#46039f"
             ],
             [
              0.2222222222222222,
              "#7201a8"
             ],
             [
              0.3333333333333333,
              "#9c179e"
             ],
             [
              0.4444444444444444,
              "#bd3786"
             ],
             [
              0.5555555555555556,
              "#d8576b"
             ],
             [
              0.6666666666666666,
              "#ed7953"
             ],
             [
              0.7777777777777778,
              "#fb9f3a"
             ],
             [
              0.8888888888888888,
              "#fdca26"
             ],
             [
              1,
              "#f0f921"
             ]
            ],
            "type": "contour"
           }
          ],
          "contourcarpet": [
           {
            "colorbar": {
             "outlinewidth": 0,
             "ticks": ""
            },
            "type": "contourcarpet"
           }
          ],
          "heatmap": [
           {
            "colorbar": {
             "outlinewidth": 0,
             "ticks": ""
            },
            "colorscale": [
             [
              0,
              "#0d0887"
             ],
             [
              0.1111111111111111,
              "#46039f"
             ],
             [
              0.2222222222222222,
              "#7201a8"
             ],
             [
              0.3333333333333333,
              "#9c179e"
             ],
             [
              0.4444444444444444,
              "#bd3786"
             ],
             [
              0.5555555555555556,
              "#d8576b"
             ],
             [
              0.6666666666666666,
              "#ed7953"
             ],
             [
              0.7777777777777778,
              "#fb9f3a"
             ],
             [
              0.8888888888888888,
              "#fdca26"
             ],
             [
              1,
              "#f0f921"
             ]
            ],
            "type": "heatmap"
           }
          ],
          "heatmapgl": [
           {
            "colorbar": {
             "outlinewidth": 0,
             "ticks": ""
            },
            "colorscale": [
             [
              0,
              "#0d0887"
             ],
             [
              0.1111111111111111,
              "#46039f"
             ],
             [
              0.2222222222222222,
              "#7201a8"
             ],
             [
              0.3333333333333333,
              "#9c179e"
             ],
             [
              0.4444444444444444,
              "#bd3786"
             ],
             [
              0.5555555555555556,
              "#d8576b"
             ],
             [
              0.6666666666666666,
              "#ed7953"
             ],
             [
              0.7777777777777778,
              "#fb9f3a"
             ],
             [
              0.8888888888888888,
              "#fdca26"
             ],
             [
              1,
              "#f0f921"
             ]
            ],
            "type": "heatmapgl"
           }
          ],
          "histogram": [
           {
            "marker": {
             "pattern": {
              "fillmode": "overlay",
              "size": 10,
              "solidity": 0.2
             }
            },
            "type": "histogram"
           }
          ],
          "histogram2d": [
           {
            "colorbar": {
             "outlinewidth": 0,
             "ticks": ""
            },
            "colorscale": [
             [
              0,
              "#0d0887"
             ],
             [
              0.1111111111111111,
              "#46039f"
             ],
             [
              0.2222222222222222,
              "#7201a8"
             ],
             [
              0.3333333333333333,
              "#9c179e"
             ],
             [
              0.4444444444444444,
              "#bd3786"
             ],
             [
              0.5555555555555556,
              "#d8576b"
             ],
             [
              0.6666666666666666,
              "#ed7953"
             ],
             [
              0.7777777777777778,
              "#fb9f3a"
             ],
             [
              0.8888888888888888,
              "#fdca26"
             ],
             [
              1,
              "#f0f921"
             ]
            ],
            "type": "histogram2d"
           }
          ],
          "histogram2dcontour": [
           {
            "colorbar": {
             "outlinewidth": 0,
             "ticks": ""
            },
            "colorscale": [
             [
              0,
              "#0d0887"
             ],
             [
              0.1111111111111111,
              "#46039f"
             ],
             [
              0.2222222222222222,
              "#7201a8"
             ],
             [
              0.3333333333333333,
              "#9c179e"
             ],
             [
              0.4444444444444444,
              "#bd3786"
             ],
             [
              0.5555555555555556,
              "#d8576b"
             ],
             [
              0.6666666666666666,
              "#ed7953"
             ],
             [
              0.7777777777777778,
              "#fb9f3a"
             ],
             [
              0.8888888888888888,
              "#fdca26"
             ],
             [
              1,
              "#f0f921"
             ]
            ],
            "type": "histogram2dcontour"
           }
          ],
          "mesh3d": [
           {
            "colorbar": {
             "outlinewidth": 0,
             "ticks": ""
            },
            "type": "mesh3d"
           }
          ],
          "parcoords": [
           {
            "line": {
             "colorbar": {
              "outlinewidth": 0,
              "ticks": ""
             }
            },
            "type": "parcoords"
           }
          ],
          "pie": [
           {
            "automargin": true,
            "type": "pie"
           }
          ],
          "scatter": [
           {
            "fillpattern": {
             "fillmode": "overlay",
             "size": 10,
             "solidity": 0.2
            },
            "type": "scatter"
           }
          ],
          "scatter3d": [
           {
            "line": {
             "colorbar": {
              "outlinewidth": 0,
              "ticks": ""
             }
            },
            "marker": {
             "colorbar": {
              "outlinewidth": 0,
              "ticks": ""
             }
            },
            "type": "scatter3d"
           }
          ],
          "scattercarpet": [
           {
            "marker": {
             "colorbar": {
              "outlinewidth": 0,
              "ticks": ""
             }
            },
            "type": "scattercarpet"
           }
          ],
          "scattergeo": [
           {
            "marker": {
             "colorbar": {
              "outlinewidth": 0,
              "ticks": ""
             }
            },
            "type": "scattergeo"
           }
          ],
          "scattergl": [
           {
            "marker": {
             "colorbar": {
              "outlinewidth": 0,
              "ticks": ""
             }
            },
            "type": "scattergl"
           }
          ],
          "scattermapbox": [
           {
            "marker": {
             "colorbar": {
              "outlinewidth": 0,
              "ticks": ""
             }
            },
            "type": "scattermapbox"
           }
          ],
          "scatterpolar": [
           {
            "marker": {
             "colorbar": {
              "outlinewidth": 0,
              "ticks": ""
             }
            },
            "type": "scatterpolar"
           }
          ],
          "scatterpolargl": [
           {
            "marker": {
             "colorbar": {
              "outlinewidth": 0,
              "ticks": ""
             }
            },
            "type": "scatterpolargl"
           }
          ],
          "scatterternary": [
           {
            "marker": {
             "colorbar": {
              "outlinewidth": 0,
              "ticks": ""
             }
            },
            "type": "scatterternary"
           }
          ],
          "surface": [
           {
            "colorbar": {
             "outlinewidth": 0,
             "ticks": ""
            },
            "colorscale": [
             [
              0,
              "#0d0887"
             ],
             [
              0.1111111111111111,
              "#46039f"
             ],
             [
              0.2222222222222222,
              "#7201a8"
             ],
             [
              0.3333333333333333,
              "#9c179e"
             ],
             [
              0.4444444444444444,
              "#bd3786"
             ],
             [
              0.5555555555555556,
              "#d8576b"
             ],
             [
              0.6666666666666666,
              "#ed7953"
             ],
             [
              0.7777777777777778,
              "#fb9f3a"
             ],
             [
              0.8888888888888888,
              "#fdca26"
             ],
             [
              1,
              "#f0f921"
             ]
            ],
            "type": "surface"
           }
          ],
          "table": [
           {
            "cells": {
             "fill": {
              "color": "#EBF0F8"
             },
             "line": {
              "color": "white"
             }
            },
            "header": {
             "fill": {
              "color": "#C8D4E3"
             },
             "line": {
              "color": "white"
             }
            },
            "type": "table"
           }
          ]
         },
         "layout": {
          "annotationdefaults": {
           "arrowcolor": "#2a3f5f",
           "arrowhead": 0,
           "arrowwidth": 1
          },
          "autotypenumbers": "strict",
          "coloraxis": {
           "colorbar": {
            "outlinewidth": 0,
            "ticks": ""
           }
          },
          "colorscale": {
           "diverging": [
            [
             0,
             "#8e0152"
            ],
            [
             0.1,
             "#c51b7d"
            ],
            [
             0.2,
             "#de77ae"
            ],
            [
             0.3,
             "#f1b6da"
            ],
            [
             0.4,
             "#fde0ef"
            ],
            [
             0.5,
             "#f7f7f7"
            ],
            [
             0.6,
             "#e6f5d0"
            ],
            [
             0.7,
             "#b8e186"
            ],
            [
             0.8,
             "#7fbc41"
            ],
            [
             0.9,
             "#4d9221"
            ],
            [
             1,
             "#276419"
            ]
           ],
           "sequential": [
            [
             0,
             "#0d0887"
            ],
            [
             0.1111111111111111,
             "#46039f"
            ],
            [
             0.2222222222222222,
             "#7201a8"
            ],
            [
             0.3333333333333333,
             "#9c179e"
            ],
            [
             0.4444444444444444,
             "#bd3786"
            ],
            [
             0.5555555555555556,
             "#d8576b"
            ],
            [
             0.6666666666666666,
             "#ed7953"
            ],
            [
             0.7777777777777778,
             "#fb9f3a"
            ],
            [
             0.8888888888888888,
             "#fdca26"
            ],
            [
             1,
             "#f0f921"
            ]
           ],
           "sequentialminus": [
            [
             0,
             "#0d0887"
            ],
            [
             0.1111111111111111,
             "#46039f"
            ],
            [
             0.2222222222222222,
             "#7201a8"
            ],
            [
             0.3333333333333333,
             "#9c179e"
            ],
            [
             0.4444444444444444,
             "#bd3786"
            ],
            [
             0.5555555555555556,
             "#d8576b"
            ],
            [
             0.6666666666666666,
             "#ed7953"
            ],
            [
             0.7777777777777778,
             "#fb9f3a"
            ],
            [
             0.8888888888888888,
             "#fdca26"
            ],
            [
             1,
             "#f0f921"
            ]
           ]
          },
          "colorway": [
           "#636efa",
           "#EF553B",
           "#00cc96",
           "#ab63fa",
           "#FFA15A",
           "#19d3f3",
           "#FF6692",
           "#B6E880",
           "#FF97FF",
           "#FECB52"
          ],
          "font": {
           "color": "#2a3f5f"
          },
          "geo": {
           "bgcolor": "white",
           "lakecolor": "white",
           "landcolor": "#E5ECF6",
           "showlakes": true,
           "showland": true,
           "subunitcolor": "white"
          },
          "hoverlabel": {
           "align": "left"
          },
          "hovermode": "closest",
          "mapbox": {
           "style": "light"
          },
          "paper_bgcolor": "white",
          "plot_bgcolor": "#E5ECF6",
          "polar": {
           "angularaxis": {
            "gridcolor": "white",
            "linecolor": "white",
            "ticks": ""
           },
           "bgcolor": "#E5ECF6",
           "radialaxis": {
            "gridcolor": "white",
            "linecolor": "white",
            "ticks": ""
           }
          },
          "scene": {
           "xaxis": {
            "backgroundcolor": "#E5ECF6",
            "gridcolor": "white",
            "gridwidth": 2,
            "linecolor": "white",
            "showbackground": true,
            "ticks": "",
            "zerolinecolor": "white"
           },
           "yaxis": {
            "backgroundcolor": "#E5ECF6",
            "gridcolor": "white",
            "gridwidth": 2,
            "linecolor": "white",
            "showbackground": true,
            "ticks": "",
            "zerolinecolor": "white"
           },
           "zaxis": {
            "backgroundcolor": "#E5ECF6",
            "gridcolor": "white",
            "gridwidth": 2,
            "linecolor": "white",
            "showbackground": true,
            "ticks": "",
            "zerolinecolor": "white"
           }
          },
          "shapedefaults": {
           "line": {
            "color": "#2a3f5f"
           }
          },
          "ternary": {
           "aaxis": {
            "gridcolor": "white",
            "linecolor": "white",
            "ticks": ""
           },
           "baxis": {
            "gridcolor": "white",
            "linecolor": "white",
            "ticks": ""
           },
           "bgcolor": "#E5ECF6",
           "caxis": {
            "gridcolor": "white",
            "linecolor": "white",
            "ticks": ""
           }
          },
          "title": {
           "x": 0.05
          },
          "xaxis": {
           "automargin": true,
           "gridcolor": "white",
           "linecolor": "white",
           "ticks": "",
           "title": {
            "standoff": 15
           },
           "zerolinecolor": "white",
           "zerolinewidth": 2
          },
          "yaxis": {
           "automargin": true,
           "gridcolor": "white",
           "linecolor": "white",
           "ticks": "",
           "title": {
            "standoff": 15
           },
           "zerolinecolor": "white",
           "zerolinewidth": 2
          }
         }
        },
        "updatemenus": [
         {
          "buttons": [
           {
            "args": [
             {
              "visible": [
               true,
               false,
               false,
               false
              ]
             },
             {
              "title": "Top Words in All Titles"
             }
            ],
            "label": "All Titles",
            "method": "update"
           },
           {
            "args": [
             {
              "visible": [
               false,
               true,
               false,
               false
              ]
             },
             {
              "title": "Top Words in Data Analyst"
             }
            ],
            "label": "Data Analyst",
            "method": "update"
           },
           {
            "args": [
             {
              "visible": [
               false,
               false,
               true,
               false
              ]
             },
             {
              "title": "Top Words in Data Engineer"
             }
            ],
            "label": "Data Engineer",
            "method": "update"
           },
           {
            "args": [
             {
              "visible": [
               false,
               false,
               false,
               true
              ]
             },
             {
              "title": "Top Words in Data Scientist"
             }
            ],
            "label": "Data Scientist",
            "method": "update"
           }
          ],
          "direction": "down",
          "showactive": true
         }
        ]
       }
      }
     },
     "metadata": {},
     "output_type": "display_data"
    }
   ],
   "source": [
    "plot_top_words_frequency_with_plotly(jobs_df_cleaned)"
   ]
  },
  {
   "cell_type": "markdown",
   "metadata": {},
   "source": [
    "### What words are most common in data job descriptions?"
   ]
  },
  {
   "cell_type": "code",
   "execution_count": 47,
   "metadata": {},
   "outputs": [
    {
     "data": {
      "image/png": "[encoded data removed]",
      "text/plain": [
       "<Figure size 1500x1000 with 1 Axes>"
      ]
     },
     "metadata": {},
     "output_type": "display_data"
    }
   ],
   "source": [
    "w.plot_most_common_words(train, \"description_cleaned\", 20)"
   ]
  },
  {
   "cell_type": "markdown",
   "metadata": {},
   "source": [
    "### What companies have the most job postings?"
   ]
  },
  {
   "cell_type": "markdown",
   "metadata": {},
   "source": [
    "The function eda_plot takes the dataframe, the column, and the specified number 'n' that you would like to see plotted in a bar graph."
   ]
  },
  {
   "cell_type": "code",
   "execution_count": 12,
   "metadata": {},
   "outputs": [
    {
     "data": {
      "text/plain": [
       "company_name\n",
       "Walmart                             876\n",
       "Talentify.io                        628\n",
       "EDWARD JONES                        584\n",
       "Corporate                           460\n",
       "Cox Communications                  425\n",
       "Centene Corporation                 155\n",
       "Staffigo Technical Services, LLC    138\n",
       "Insight Global                      137\n",
       "Dice                                 99\n",
       "Jobot                                85\n",
       "Name: count, dtype: int64"
      ]
     },
     "metadata": {},
     "output_type": "display_data"
    },
    {
     "data": {
      "image/png": "[encoded data removed]",
      "text/plain": [
       "<Figure size 1200x400 with 1 Axes>"
      ]
     },
     "metadata": {},
     "output_type": "display_data"
    }
   ],
   "source": [
    "w.eda_plot(train, \"company_name\", topn=10)"
   ]
  },
  {
   "cell_type": "markdown",
   "metadata": {},
   "source": [
    "Breaking it down by `company_name` we can see the top 10 companies with the most job postings."
   ]
  },
  {
   "cell_type": "markdown",
   "metadata": {},
   "source": [
    "### What is the location spread for our dataset?"
   ]
  },
  {
   "cell_type": "code",
   "execution_count": 13,
   "metadata": {},
   "outputs": [
    {
     "data": {
      "text/plain": [
       "location_cleaned\n",
       "United States         6576\n",
       "Anywhere              5581\n",
       "Missouri              2790\n",
       "Oklahoma              1560\n",
       "Kansas                1421\n",
       "Arkansas              1247\n",
       "California              70\n",
       "Multiple Locations      32\n",
       "Name: count, dtype: int64"
      ]
     },
     "metadata": {},
     "output_type": "display_data"
    },
    {
     "data": {
      "image/png": "[encoded data removed]",
      "text/plain": [
       "<Figure size 1200x400 with 1 Axes>"
      ]
     },
     "metadata": {},
     "output_type": "display_data"
    }
   ],
   "source": [
    "w.eda_plot(train, \"location_cleaned\", topn=8)"
   ]
  },
  {
   "cell_type": "markdown",
   "metadata": {},
   "source": [
    "We thought we had a dataframe of jobs from the entire U.S., but with further evaluation, it seems that the dataset maybe has IP address issues where the person collected the data."
   ]
  },
  {
   "cell_type": "markdown",
   "metadata": {},
   "source": [
    "### Within the Google Jobs search, which site has the most postings?"
   ]
  },
  {
   "cell_type": "code",
   "execution_count": 14,
   "metadata": {},
   "outputs": [
    {
     "data": {
      "text/plain": [
       "via\n",
       "via LinkedIn        6430\n",
       "via BeBee           2575\n",
       "via Trabajo.org     2124\n",
       "via ZipRecruiter    1487\n",
       "via Indeed           999\n",
       "Name: count, dtype: int64"
      ]
     },
     "metadata": {},
     "output_type": "display_data"
    },
    {
     "data": {
      "image/png": "[encoded data removed]",
      "text/plain": [
       "<Figure size 1200x400 with 1 Axes>"
      ]
     },
     "metadata": {},
     "output_type": "display_data"
    }
   ],
   "source": [
    "w.eda_plot(train, \"via\", topn=5)"
   ]
  },
  {
   "cell_type": "markdown",
   "metadata": {},
   "source": [
    "LinkedIn is almost half the dataframe of postings."
   ]
  },
  {
   "cell_type": "markdown",
   "metadata": {},
   "source": [
    "### Do a majority of places allow work from home or want you in the work place?\n",
    "<i> Remember this is full time only </i>"
   ]
  },
  {
   "cell_type": "code",
   "execution_count": 16,
   "metadata": {},
   "outputs": [
    {
     "data": {
      "text/plain": [
       "work_from_home\n",
       "False    13767\n",
       "True      5581\n",
       "Name: count, dtype: int64"
      ]
     },
     "metadata": {},
     "output_type": "display_data"
    },
    {
     "data": {
      "image/png": "[encoded data removed]",
      "text/plain": [
       "<Figure size 1200x400 with 1 Axes>"
      ]
     },
     "metadata": {},
     "output_type": "display_data"
    }
   ],
   "source": [
    "w.eda_plot(train, \"work_from_home\", topn=2)"
   ]
  },
  {
   "cell_type": "markdown",
   "metadata": {},
   "source": [
    "We placed the 'Full-time' positions only and created a bool of the `work_from_home ` values. It seems that work from home is far less than office work."
   ]
  },
  {
   "cell_type": "markdown",
   "metadata": {},
   "source": [
    "### What are the overall top things to learn for data jobs?"
   ]
  },
  {
   "cell_type": "code",
   "execution_count": 17,
   "metadata": {},
   "outputs": [
    {
     "data": {
      "image/png": "[encoded data removed]",
      "text/plain": [
       "<Figure size 640x480 with 1 Axes>"
      ]
     },
     "metadata": {},
     "output_type": "display_data"
    }
   ],
   "source": [
    "w.filtered_keywords(train, keywords, title=\"Tools\", head=10)"
   ]
  },
  {
   "cell_type": "markdown",
   "metadata": {},
   "source": [
    "It seems the most common are 'sql' and 'excel', with 'python', 'power_bi', and 'tableau'following close behind."
   ]
  },
  {
   "cell_type": "markdown",
   "metadata": {},
   "source": [
    "### What are the most common programming languages in data jobs?"
   ]
  },
  {
   "cell_type": "code",
   "execution_count": 18,
   "metadata": {},
   "outputs": [
    {
     "data": {
      "image/png": "[encoded data removed]",
      "text/plain": [
       "<Figure size 640x480 with 1 Axes>"
      ]
     },
     "metadata": {},
     "output_type": "display_data"
    }
   ],
   "source": [
    "w.filtered_keywords(train, keywords_programming, title=\"Programming Languages\", head=10)"
   ]
  },
  {
   "cell_type": "markdown",
   "metadata": {},
   "source": [
    "Again, 'sql' is a top result. "
   ]
  },
  {
   "cell_type": "markdown",
   "metadata": {},
   "source": [
    "### What are the most common Machine Learning principles for data jobs?"
   ]
  },
  {
   "cell_type": "markdown",
   "metadata": {},
   "source": [
    "The filtered_keywords function takes keywords that are defined in the wrangle.py and the dataframe to pull job post descriptions and create a bar graph."
   ]
  },
  {
   "cell_type": "code",
   "execution_count": 19,
   "metadata": {},
   "outputs": [
    {
     "data": {
      "image/png": "[encoded data removed]",
      "text/plain": [
       "<Figure size 640x480 with 1 Axes>"
      ]
     },
     "metadata": {},
     "output_type": "display_data"
    }
   ],
   "source": [
    "w.filtered_keywords(train, keywords_ML_Algorithms, title=\"ML Algorithms\")"
   ]
  },
  {
   "cell_type": "markdown",
   "metadata": {},
   "source": [
    "It seems the job post keep the ML algorithms pretty vague for most of the job posts by the use of 'predictive'."
   ]
  },
  {
   "cell_type": "markdown",
   "metadata": {},
   "source": [
    "### When do we see most data jobs being posted?"
   ]
  },
  {
   "cell_type": "markdown",
   "metadata": {},
   "source": [
    "The plot_monthly_postings function takes the datetime column and creates a bar chart based off of the dates of the jobs posting. "
   ]
  },
  {
   "cell_type": "code",
   "execution_count": 20,
   "metadata": {},
   "outputs": [
    {
     "data": {
      "text/plain": [
       "posting_created\n",
       "1     2234\n",
       "2     1668\n",
       "3     1568\n",
       "4     1374\n",
       "5     1342\n",
       "6     1330\n",
       "7     1460\n",
       "8     1976\n",
       "9     1495\n",
       "10    1664\n",
       "11    1271\n",
       "12    1966\n",
       "Name: count, dtype: int64"
      ]
     },
     "execution_count": 20,
     "metadata": {},
     "output_type": "execute_result"
    }
   ],
   "source": [
    "# Make posting_created dt\n",
    "train[\"posting_created\"] = pd.to_datetime(train[\"posting_created\"])\n",
    "\n",
    "# Tell me how many postings each month had\n",
    "train.posting_created.dt.month.value_counts().sort_index()"
   ]
  },
  {
   "cell_type": "code",
   "execution_count": 21,
   "metadata": {},
   "outputs": [
    {
     "data": {
      "image/png": "[encoded data removed]",
      "text/plain": [
       "<Figure size 1200x400 with 1 Axes>"
      ]
     },
     "metadata": {},
     "output_type": "display_data"
    }
   ],
   "source": [
    "w.plot_monthly_postings(train)"
   ]
  },
  {
   "cell_type": "markdown",
   "metadata": {},
   "source": [
    "The spikes in Dec and Jan seem to be related to start of New Year hiring pushes. "
   ]
  },
  {
   "cell_type": "markdown",
   "metadata": {},
   "source": [
    "### Dataframe Generation for Interactive Plots"
   ]
  },
  {
   "cell_type": "code",
   "execution_count": 22,
   "metadata": {},
   "outputs": [],
   "source": [
    "# Get the top skills\n",
    "top_skills_df = w.get_top_skills(train, qty=100)"
   ]
  },
  {
   "cell_type": "markdown",
   "metadata": {},
   "source": [
    "### What are top skills overall?"
   ]
  },
  {
   "cell_type": "code",
   "execution_count": 23,
   "metadata": {},
   "outputs": [
    {
     "data": {
      "application/vnd.jupyter.widget-view+json": {
       "model_id": "93a003ae1a1b43b7869457e964a26402",
       "version_major": 2,
       "version_minor": 0
      },
      "text/plain": [
       "Dropdown(description='Skill Category:', options=(('All Skills', ['sql', 'python', 'r', 'c', 'c#', 'javascript'…"
      ]
     },
     "metadata": {},
     "output_type": "display_data"
    },
    {
     "data": {
      "application/vnd.jupyter.widget-view+json": {
       "model_id": "d6950e325c16491b90495ad54f0e4d82",
       "version_major": 2,
       "version_minor": 0
      },
      "text/plain": [
       "IntSlider(value=10, description='Number of Skills:', max=50, min=1)"
      ]
     },
     "metadata": {},
     "output_type": "display_data"
    },
    {
     "data": {
      "application/vnd.jupyter.widget-view+json": {
       "model_id": "506dcf56ad94456fb174145d69d5f074",
       "version_major": 2,
       "version_minor": 0
      },
      "text/plain": [
       "Button(description='Plot', style=ButtonStyle())"
      ]
     },
     "metadata": {},
     "output_type": "display_data"
    }
   ],
   "source": [
    "w.create_skill_plot(top_skills_df)"
   ]
  },
  {
   "cell_type": "markdown",
   "metadata": {},
   "source": [
    "### A deeper look into individual skills"
   ]
  },
  {
   "cell_type": "code",
   "execution_count": 24,
   "metadata": {},
   "outputs": [
    {
     "data": {
      "application/vnd.jupyter.widget-view+json": {
       "model_id": "a6d62336ed7945fe910e4ed01550190c",
       "version_major": 2,
       "version_minor": 0
      },
      "text/plain": [
       "Dropdown(description='Skill:', options=('airflow', 'alteryx', 'amazon', 'asp.net', 'assembly', 'atlassian', 'a…"
      ]
     },
     "metadata": {},
     "output_type": "display_data"
    },
    {
     "data": {
      "application/vnd.jupyter.widget-view+json": {
       "model_id": "5afc4f07dd914048979663df99572109",
       "version_major": 2,
       "version_minor": 0
      },
      "text/plain": [
       "Button(description='Plot', style=ButtonStyle())"
      ]
     },
     "metadata": {},
     "output_type": "display_data"
    }
   ],
   "source": [
    "from ipywidgets import widgets\n",
    "\n",
    "w.create_interactive_salary_plot(train, top_skills_df)"
   ]
  },
  {
   "cell_type": "markdown",
   "metadata": {},
   "source": [
    "### Job title specific skills"
   ]
  },
  {
   "cell_type": "code",
   "execution_count": 25,
   "metadata": {},
   "outputs": [
    {
     "data": {
      "application/vnd.jupyter.widget-view+json": {
       "model_id": "6accc7270077462d934578bad6a65b57",
       "version_major": 2,
       "version_minor": 0
      },
      "text/plain": [
       "IntSlider(value=10, description='Top skills:', max=50, min=1)"
      ]
     },
     "metadata": {},
     "output_type": "display_data"
    },
    {
     "data": {
      "application/vnd.jupyter.widget-view+json": {
       "model_id": "7572ed69570b4a0aa4a7d80066e9dd3c",
       "version_major": 2,
       "version_minor": 0
      },
      "text/plain": [
       "Dropdown(description='Job title:', options=('All Data Jobs', 'Data Analyst', 'Data Engineer', 'Data Scientist'…"
      ]
     },
     "metadata": {},
     "output_type": "display_data"
    },
    {
     "data": {
      "application/vnd.jupyter.widget-view+json": {
       "model_id": "1d61ac1c81834d848b1546b9be4ce576",
       "version_major": 2,
       "version_minor": 0
      },
      "text/plain": [
       "Button(description='Update Plot', style=ButtonStyle())"
      ]
     },
     "metadata": {},
     "output_type": "display_data"
    }
   ],
   "source": [
    "w.create_skill_postings_plot(train)"
   ]
  },
  {
   "cell_type": "markdown",
   "metadata": {},
   "source": [
    "<div style=\"background-color: #; padding: 0px; \">\n",
    "\n",
    "## <font size='5'><i>Plan → Acquire → Prepare → Explore → </i></font> <font size='10'><i>**Model**</i></font> <font size='5'><i>→ Deliver</i></font>\n",
    "---"
   ]
  },
  {
   "cell_type": "markdown",
   "metadata": {},
   "source": [
    "Useful hyperparameters for `TfidfVectorizer`:\n",
    "\n",
    "- `max_features`: This hyperparameter controls the maximum number of features (i.e., terms) to include in the TF-IDF matrix. Setting this to a smaller value can help reduce the dimensionality of the matrix and improve performance, especially if the dataset is large.\n",
    "\n",
    "- `min_df` and `max_df`: These hyperparameters control the minimum and maximum document frequency of terms to include in the TF-IDF matrix. Setting `min_df` to a higher value will exclude terms that appear in fewer than `min_df` documents, while setting `max_df` to a lower value will exclude terms that appear in more than `max_df` documents. These can be useful for removing very rare or very common terms that may not be informative.\n",
    "\n",
    "- `ngram_range`: This hyperparameter controls the range of n-grams to include in the TF-IDF matrix. An n-gram is a contiguous sequence of n words in a document. Setting `ngram_range` to `(1, 1)` will include only unigrams (i.e., single words), while setting it to `(1, 2)` will include both unigrams and bigrams (i.e., pairs of words).\n",
    "\n",
    "- `stop_words`: This hyperparameter can be set to a list of stop words to exclude from the TF-IDF matrix. Stop words are common words that are unlikely to be informative, such as \"the\", \"and\", and \"of\".\n",
    "\n",
    "- `tokenizer`: This hyperparameter can be set to a custom tokenizer function to use instead of the default tokenizer. The tokenizer function should take a string as input and return a list of tokens (i.e., words).\n",
    "\n",
    "These hyperparameters can be tuned to improve the performance of the TF-IDF vectorization for a specific task or dataset."
   ]
  },
  {
   "cell_type": "markdown",
   "metadata": {},
   "source": [
    "### Unbalanced Dataset Modeling (Precision Metric)"
   ]
  },
  {
   "cell_type": "markdown",
   "metadata": {},
   "source": [
    "#### X and Y Splits for Modeling"
   ]
  },
  {
   "cell_type": "code",
   "execution_count": 26,
   "metadata": {},
   "outputs": [],
   "source": [
    "# Drop Other\n",
    "jobs_unbalanced = train[train[\"title_cleaned\"] != \"Other\"]"
   ]
  },
  {
   "cell_type": "code",
   "execution_count": 27,
   "metadata": {},
   "outputs": [
    {
     "name": "stdout",
     "output_type": "stream",
     "text": [
      "Train Set:\n",
      "X_train size: 19348\n",
      "y_train size: 19348\n",
      "\n",
      "Test Set:\n",
      "X_test size: 4838\n",
      "y_test size: 4838\n"
     ]
    }
   ],
   "source": [
    "# Make X variatons without target variables\n",
    "X_train_unbalanced = jobs_unbalanced[\"description_cleaned\"]\n",
    "X_test_unbalanced = test[\"description_cleaned\"]\n",
    "\n",
    "# Make y variables with target variables\n",
    "y_train_unbalanced = jobs_unbalanced[\"title_cleaned\"]\n",
    "y_test_unbalanced = test[\"title_cleaned\"]\n",
    "\n",
    "print(f\"Train Set:\")\n",
    "print(f\"X_train size: {len(X_train_unbalanced)}\")\n",
    "print(f\"y_train size: {len(y_train_unbalanced)}\")\n",
    "\n",
    "print(f\"\\nTest Set:\")\n",
    "print(f\"X_test size: {len(X_test_unbalanced)}\")\n",
    "print(f\"y_test size: {len(y_test_unbalanced)}\")"
   ]
  },
  {
   "cell_type": "markdown",
   "metadata": {},
   "source": [
    "#### Establishing Baseline"
   ]
  },
  {
   "cell_type": "code",
   "execution_count": 28,
   "metadata": {},
   "outputs": [
    {
     "data": {
      "text/plain": [
       "title_cleaned\n",
       "Data Analyst      0.923093\n",
       "Data Scientist    0.046051\n",
       "Data Engineer     0.030856\n",
       "Name: proportion, dtype: float64"
      ]
     },
     "execution_count": 28,
     "metadata": {},
     "output_type": "execute_result"
    }
   ],
   "source": [
    "# Value counts for titles in train set\n",
    "y_train_unbalanced.value_counts(normalize=True)"
   ]
  },
  {
   "cell_type": "markdown",
   "metadata": {},
   "source": [
    "Baseline is 92%"
   ]
  },
  {
   "cell_type": "markdown",
   "metadata": {},
   "source": [
    "#### Gridsearch Pipeline for TF-IDF & Logistic Regression (Unbalanced)"
   ]
  },
  {
   "cell_type": "code",
   "execution_count": 29,
   "metadata": {},
   "outputs": [],
   "source": [
    "from sklearn.pipeline import Pipeline\n",
    "from sklearn.feature_extraction.text import TfidfVectorizer\n",
    "from sklearn.linear_model import LogisticRegression\n",
    "from sklearn.model_selection import GridSearchCV\n",
    "from sklearn.metrics import make_scorer, precision_score, recall_score\n",
    "import pandas as pd\n",
    "import warnings\n",
    "\n",
    "warnings.filterwarnings(\"ignore\")"
   ]
  },
  {
   "cell_type": "raw",
   "metadata": {},
   "source": [
    "# Convert X sets to be readable by TF-IDF\n",
    "X_train_unbalanced = X_train_unbalanced.astype(str).str.replace(r\"[\\[\\],'']\", '', regex=True)\n",
    "X_test_unbalanced = X_test_unbalanced.astype(str).str.replace(r\"[\\[\\],'']\", '', regex=True)\n",
    "\n",
    "# Create a pipeline\n",
    "pipeline = Pipeline(\n",
    "    [\n",
    "        (\"tfidf\", TfidfVectorizer()),\n",
    "        (\"logreg\", LogisticRegression(max_iter=1000, random_state=321)),\n",
    "    ]\n",
    ")\n",
    "\n",
    "param_grid = {\n",
    "    \"logreg__C\": [5, 10, 20],\n",
    "    \"logreg__penalty\": [\"l1\", \"l2\"],\n",
    "    \"tfidf__max_df\": [250, 500, 750, 1000],\n",
    "    \"tfidf__max_features\": [500, 750, 1000],\n",
    "    \"tfidf__min_df\": [50, 100, 150],\n",
    "    'tfidf__ngram_range': [(1, 1), (1, 2)]\n",
    "}\n",
    "\n",
    "# Define scoring metrics\n",
    "scoring = {\n",
    "    'precision': make_scorer(precision_score, average='weighted'),\n",
    "    'recall': make_scorer(recall_score, average='weighted'),\n",
    "}\n",
    "\n",
    "# Initialize GridSearchCV with return_train_score=True\n",
    "grid_search = GridSearchCV(\n",
    "    pipeline, param_grid, cv=2, n_jobs=-1, verbose=2, return_train_score=True, scoring=scoring, refit='precision'\n",
    ")\n",
    "\n",
    "# Fit the grid search\n",
    "grid_search.fit(X_train_unbalanced, y_train_unbalanced)\n",
    "\n",
    "# Get the results of the grid search\n",
    "results = pd.DataFrame(grid_search.cv_results_)\n",
    "\n",
    "# Play a sound when completed\n",
    "import os\n",
    "os.system('afplay /System/Library/Sounds/Ping.aiff')"
   ]
  },
  {
   "cell_type": "markdown",
   "metadata": {},
   "source": [
    "#### Pipeline GridSearch Results"
   ]
  },
  {
   "cell_type": "raw",
   "metadata": {},
   "source": [
    "# Make a column for train_test_diff which is mean_test_precision - mean_train_precision\n",
    "results['score_gap'] =  results['mean_train_precision'] - results['mean_test_precision']"
   ]
  },
  {
   "cell_type": "raw",
   "metadata": {},
   "source": [
    "# Filter results to what we need\n",
    "\n",
    "results = results[[\n",
    " # 'mean_fit_time',\n",
    " # 'std_fit_time',\n",
    " # 'mean_score_time',\n",
    " # 'std_score_time',\n",
    " 'param_logreg__C',\n",
    " 'param_logreg__penalty',\n",
    " 'param_tfidf__max_df',\n",
    " 'param_tfidf__max_features',\n",
    " 'param_tfidf__min_df',\n",
    " 'param_tfidf__ngram_range',\n",
    " # 'params',\n",
    " # 'split0_test_precision',\n",
    " # 'split1_test_precision',\n",
    " 'mean_test_precision',\n",
    " # 'std_test_precision',\n",
    " # 'rank_test_precision',\n",
    " # 'split0_train_precision',\n",
    " # 'split1_train_precision',\n",
    " 'mean_train_precision',\n",
    " # 'std_train_precision',\n",
    " # 'split0_test_recall',\n",
    " # 'split1_test_recall',\n",
    " # 'mean_test_recall',\n",
    " # 'std_test_recall',\n",
    " # 'rank_test_recall',\n",
    " # 'split0_train_recall',\n",
    " # 'split1_train_recall',\n",
    " # 'mean_train_recall',\n",
    " # 'std_train_recall'\n",
    "  'score_gap']]"
   ]
  },
  {
   "cell_type": "raw",
   "metadata": {},
   "source": [
    "# Show highest test score, then lowest score gap, where test score >= X\n",
    "\n",
    "results[\n",
    "    (results[\"mean_test_precision\"] >= 0.92)\n",
    "    & (results[\"score_gap\"] <= 0.02)\n",
    "].sort_values(by=[\"mean_test_precision\", \"score_gap\"], ascending=[False, True]).head(1)"
   ]
  },
  {
   "cell_type": "markdown",
   "metadata": {},
   "source": [
    "#### Evaluate Best Unbalanced Model on Test"
   ]
  },
  {
   "cell_type": "code",
   "execution_count": 30,
   "metadata": {},
   "outputs": [
    {
     "name": "stdout",
     "output_type": "stream",
     "text": [
      "Logistic Regression Train Precision: 0.9524932524878748\n"
     ]
    }
   ],
   "source": [
    "# TF-IDF\n",
    "from sklearn.feature_extraction.text import TfidfVectorizer\n",
    "from sklearn.metrics import precision_score\n",
    "from sklearn.linear_model import LogisticRegression\n",
    "\n",
    "# Convert X sets to be readable by TF-IDF\n",
    "X_train_unbalanced = X_train_unbalanced.astype(str).str.replace(\n",
    "    r\"[\\[\\],'']\", \"\", regex=True\n",
    ")\n",
    "X_test_unbalanced = X_test_unbalanced.astype(str).str.replace(\n",
    "    r\"[\\[\\],'']\", \"\", regex=True\n",
    ")\n",
    "\n",
    "tfidf = TfidfVectorizer(max_df=1000, max_features=1000, min_df=100, ngram_range=(1, 2))\n",
    "X_train_unbalanced_tfidf = tfidf.fit_transform(X_train_unbalanced)\n",
    "X_test_unbalanced_tfidf = tfidf.transform(X_test_unbalanced)\n",
    "\n",
    "# Train a Logistic Regression model\n",
    "logit = LogisticRegression(C=5, penalty=\"l2\", random_state=321, max_iter=1000)\n",
    "logit.fit(X_train_unbalanced_tfidf, y_train_unbalanced)\n",
    "\n",
    "# Calculate the accuracy of the model\n",
    "# print(f\"Logistic Regression Train Accuracy: {logit.score(X_train_unbalanced_tfidf, y_train_unbalanced)}\")\n",
    "\n",
    "# Predict the training labels\n",
    "y_train_pred = logit.predict(X_train_unbalanced_tfidf)\n",
    "\n",
    "# Calculate the precision of the model\n",
    "precision = precision_score(y_train_unbalanced, y_train_pred, average=\"weighted\")\n",
    "\n",
    "print(f\"Logistic Regression Train Precision: {precision}\")"
   ]
  },
  {
   "cell_type": "code",
   "execution_count": 31,
   "metadata": {},
   "outputs": [
    {
     "name": "stdout",
     "output_type": "stream",
     "text": [
      "Logistic Regression Test Precision: 0.9288264200920976\n"
     ]
    }
   ],
   "source": [
    "from sklearn.metrics import precision_score\n",
    "\n",
    "# Predict the test labels\n",
    "y_test_pred = logit.predict(X_test_unbalanced_tfidf)\n",
    "\n",
    "# Calculate the precision of the model\n",
    "precision = precision_score(y_test_unbalanced, y_test_pred, average=\"weighted\")\n",
    "\n",
    "print(f\"Logistic Regression Test Precision: {precision}\")"
   ]
  },
  {
   "cell_type": "markdown",
   "metadata": {},
   "source": [
    "### Balanced Dataset (Accuracy Metric)"
   ]
  },
  {
   "cell_type": "markdown",
   "metadata": {},
   "source": [
    "#### Balancing the Dataset"
   ]
  },
  {
   "cell_type": "code",
   "execution_count": 32,
   "metadata": {},
   "outputs": [
    {
     "data": {
      "text/plain": [
       "title_cleaned\n",
       "Data Analyst      22316\n",
       "Data Scientist     1109\n",
       "Data Engineer       761\n",
       "Name: count, dtype: int64"
      ]
     },
     "execution_count": 32,
     "metadata": {},
     "output_type": "execute_result"
    }
   ],
   "source": [
    "# Pull in our variable\n",
    "\n",
    "jobs_df_cleaned[\"title_cleaned\"].value_counts()"
   ]
  },
  {
   "cell_type": "markdown",
   "metadata": {},
   "source": [
    "Lowest represented in our dataset is data engineer at 761. We'll sample down to that, with a random state for reproducability."
   ]
  },
  {
   "cell_type": "code",
   "execution_count": 33,
   "metadata": {},
   "outputs": [
    {
     "data": {
      "text/plain": [
       "title_cleaned\n",
       "Data Engineer     761\n",
       "Data Scientist    761\n",
       "Data Analyst      761\n",
       "Name: count, dtype: int64"
      ]
     },
     "execution_count": 33,
     "metadata": {},
     "output_type": "execute_result"
    }
   ],
   "source": [
    "# Sample to 761\n",
    "eng = jobs_df_cleaned[jobs_df_cleaned[\"title_cleaned\"] == \"Data Engineer\"].sample(\n",
    "    761, random_state=321\n",
    ")\n",
    "\n",
    "# Sample to 761\n",
    "sci = jobs_df_cleaned[jobs_df_cleaned[\"title_cleaned\"] == \"Data Scientist\"].sample(\n",
    "    761, random_state=321\n",
    ")\n",
    "\n",
    "# Sample to 761\n",
    "ana = jobs_df_cleaned[jobs_df_cleaned[\"title_cleaned\"] == \"Data Analyst\"].sample(\n",
    "    761, random_state=321\n",
    ")\n",
    "\n",
    "# Concat all 3\n",
    "jobs_balanced = pd.concat([eng, sci, ana])\n",
    "\n",
    "# Value counts for titles after sampling\n",
    "jobs_balanced.title_cleaned.value_counts()"
   ]
  },
  {
   "cell_type": "markdown",
   "metadata": {},
   "source": [
    "#### Train & Test Splits"
   ]
  },
  {
   "cell_type": "code",
   "execution_count": 34,
   "metadata": {},
   "outputs": [
    {
     "name": "stdout",
     "output_type": "stream",
     "text": [
      "Train size: 1826 (79.98%)\n",
      "Test size: 457 (20.02%)\n"
     ]
    }
   ],
   "source": [
    "# Split the data into train_balanced and test_balanced sets (Our validate will be generated during GridSearch)\n",
    "train_balanced, test_balanced = train_test_split(\n",
    "    jobs_balanced, train_size=0.8, test_size=0.2, random_state=321\n",
    ")\n",
    "\n",
    "# Print sizes, length of set and ratio of total\n",
    "print(\n",
    "    f\"Train size: {len(train_balanced)} ({len(train_balanced) / len(jobs_balanced):.2%})\"\n",
    ")\n",
    "print(\n",
    "    f\"Test size: {len(test_balanced)} ({len(test_balanced) / len(jobs_balanced):.2%})\"\n",
    ")"
   ]
  },
  {
   "cell_type": "markdown",
   "metadata": {},
   "source": [
    "#### X and Y Splits for Modeling"
   ]
  },
  {
   "cell_type": "code",
   "execution_count": 35,
   "metadata": {},
   "outputs": [
    {
     "name": "stdout",
     "output_type": "stream",
     "text": [
      "Train Set:\n",
      "X_train size: 1826\n",
      "y_train size: 1826\n",
      "\n",
      "Test Set:\n",
      "X_test size: 457\n",
      "y_test size: 457\n"
     ]
    }
   ],
   "source": [
    "# Make X variatons without target variables\n",
    "X_train_balanced = train_balanced[\"description_cleaned\"]\n",
    "X_test_balanced = test_balanced[\"description_cleaned\"]\n",
    "\n",
    "# Make y variables with target variables\n",
    "y_train_balanced = train_balanced[\"title_cleaned\"]\n",
    "y_test_balanced = test_balanced[\"title_cleaned\"]\n",
    "\n",
    "print(f\"Train Set:\")\n",
    "print(f\"X_train size: {len(X_train_balanced)}\")\n",
    "print(f\"y_train size: {len(y_train_balanced)}\")\n",
    "\n",
    "print(f\"\\nTest Set:\")\n",
    "print(f\"X_test size: {len(X_test_balanced)}\")\n",
    "print(f\"y_test size: {len(y_test_balanced)}\")"
   ]
  },
  {
   "cell_type": "markdown",
   "metadata": {},
   "source": [
    "#### Baseline"
   ]
  },
  {
   "cell_type": "code",
   "execution_count": 36,
   "metadata": {},
   "outputs": [
    {
     "data": {
      "text/plain": [
       "title_cleaned\n",
       "Data Scientist    0.337349\n",
       "Data Engineer     0.335706\n",
       "Data Analyst      0.326944\n",
       "Name: proportion, dtype: float64"
      ]
     },
     "execution_count": 36,
     "metadata": {},
     "output_type": "execute_result"
    }
   ],
   "source": [
    "# Verify we're still roughly balanced, and get our baseline\n",
    "y_train_balanced.value_counts(normalize=True)"
   ]
  },
  {
   "cell_type": "markdown",
   "metadata": {},
   "source": [
    "With an balanced dataset and 3 targets, our baseline comes in at 33%"
   ]
  },
  {
   "cell_type": "markdown",
   "metadata": {},
   "source": [
    "#### Gridsearch Pipeline for TF-IDF & Logistic Regression (Balanced)"
   ]
  },
  {
   "cell_type": "code",
   "execution_count": 37,
   "metadata": {},
   "outputs": [],
   "source": [
    "# Convert X sets to be readable by TF-IDF\n",
    "X_train_balanced = X_train_balanced.astype(str).str.replace(\n",
    "    r\"[\\[\\],'']\", \"\", regex=True\n",
    ")\n",
    "X_test_balanced = X_test_balanced.astype(str).str.replace(r\"[\\[\\],'']\", \"\", regex=True)"
   ]
  },
  {
   "cell_type": "raw",
   "metadata": {},
   "source": [
    "from sklearn.pipeline import Pipeline\n",
    "from sklearn.model_selection import GridSearchCV\n",
    "from sklearn.model_selection import train_test_split\n",
    "from sklearn.feature_extraction.text import TfidfVectorizer\n",
    "from sklearn.linear_model import LogisticRegression\n",
    "from sklearn.metrics import make_scorer, precision_score, recall_score, accuracy_score\n",
    "import pandas as pd\n",
    "\n",
    "# Create a pipeline\n",
    "pipeline = Pipeline(\n",
    "    [\n",
    "        (\"tfidf\", TfidfVectorizer()),\n",
    "        (\"logreg\", LogisticRegression(max_iter=1000, random_state=321)),\n",
    "    ]\n",
    ")\n",
    "\n",
    "param_grid = {\n",
    "    \"logreg__C\": [5, 10, 20],\n",
    "    \"logreg__penalty\": [\"l1\", \"l2\"],\n",
    "    \"tfidf__max_df\": [250, 500, 750, 1000],\n",
    "    \"tfidf__max_features\": [500, 750, 1000],\n",
    "    \"tfidf__min_df\": [50, 100, 150],\n",
    "    'tfidf__ngram_range': [(1, 1), (1, 2)]\n",
    "}\n",
    "\n",
    "# Define scoring metrics\n",
    "scoring = {\n",
    "    'precision': make_scorer(precision_score, average='weighted'),\n",
    "    'recall': make_scorer(recall_score, average='weighted'),\n",
    "    'accuracy': make_scorer(accuracy_score)\n",
    "}\n",
    "\n",
    "# Initialize GridSearchCV with return_train_score=True\n",
    "grid_search = GridSearchCV(\n",
    "    pipeline, param_grid, cv=2, n_jobs=-1, verbose=2, return_train_score=True, scoring=scoring, refit=False)\n",
    "\n",
    "# Fit the grid search\n",
    "grid_search.fit(X_train_balanced, y_train_balanced)\n",
    "\n",
    "# Get the results of the grid search\n",
    "results2 = pd.DataFrame(grid_search.cv_results_)\n",
    "\n",
    "# Play a sound when completed\n",
    "import os\n",
    "os.system('afplay /System/Library/Sounds/Ping.aiff')"
   ]
  },
  {
   "cell_type": "markdown",
   "metadata": {},
   "source": [
    "#### Pipeline Gridsearch Results"
   ]
  },
  {
   "cell_type": "raw",
   "metadata": {},
   "source": [
    "# Make a column for train_test_diff which is mean_test_accuracy - mean_train_accuracy\n",
    "results2['score_gap'] =  results2['mean_train_accuracy'] - results2['mean_test_accuracy']"
   ]
  },
  {
   "cell_type": "raw",
   "metadata": {},
   "source": [
    "results2 = results2[[\n",
    " # 'mean_fit_time',\n",
    " # 'std_fit_time',\n",
    " # 'mean_score_time',\n",
    " # 'std_score_time',\n",
    " 'param_logreg__C',\n",
    " 'param_logreg__penalty',\n",
    " 'param_tfidf__max_df',\n",
    " 'param_tfidf__max_features',\n",
    " 'param_tfidf__min_df',\n",
    " 'param_tfidf__ngram_range',\n",
    " # 'params',\n",
    " # 'split0_test_precision',\n",
    " # 'split1_test_precision',\n",
    " # 'mean_test_precision',\n",
    " # 'std_test_precision',\n",
    " # 'rank_test_precision',\n",
    " # 'split0_train_precision',\n",
    " # 'split1_train_precision',\n",
    " # 'mean_train_precision',\n",
    " # 'std_train_precision',\n",
    " # 'split0_test_recall',\n",
    " # 'split1_test_recall',\n",
    " # 'mean_test_recall',\n",
    " # 'std_test_recall',\n",
    " # 'rank_test_recall',\n",
    " # 'split0_train_recall',\n",
    " # 'split1_train_recall',\n",
    " # 'mean_train_recall',\n",
    " # 'std_train_recall',\n",
    " # 'split0_test_accuracy',\n",
    " # 'split1_test_accuracy',\n",
    " 'mean_test_accuracy',\n",
    " # 'std_test_accuracy',\n",
    " # 'rank_test_accuracy',\n",
    " # 'split0_train_accuracy',\n",
    " # 'split1_train_accuracy',\n",
    " 'mean_train_accuracy',\n",
    " # 'std_train_accuracy',\n",
    " 'score_gap']]"
   ]
  },
  {
   "cell_type": "raw",
   "metadata": {},
   "source": [
    "# Show highest test score, then lowest score gap, where test score >= X\n",
    "\n",
    "results2[\n",
    "    (results2[\"mean_test_accuracy\"] >= 0.6)\n",
    "    & (results2[\"score_gap\"] <= 0.2)\n",
    "].sort_values(by=[\"mean_test_accuracy\", \"score_gap\"], ascending=[False, True]).head(1)"
   ]
  },
  {
   "cell_type": "markdown",
   "metadata": {},
   "source": [
    "#### Evalute Best Model on Test"
   ]
  },
  {
   "cell_type": "code",
   "execution_count": 38,
   "metadata": {},
   "outputs": [
    {
     "name": "stdout",
     "output_type": "stream",
     "text": [
      "Logistic Regression Train Accuracy: 0.9665936473165389\n"
     ]
    }
   ],
   "source": [
    "# TF-IDF\n",
    "from sklearn.feature_extraction.text import TfidfVectorizer\n",
    "\n",
    "tfidf = TfidfVectorizer(max_df=1000, max_features=750, min_df=50, ngram_range=(1, 2))\n",
    "X_train_balanced = tfidf.fit_transform(X_train_balanced)\n",
    "X_test_balanced = tfidf.transform(X_test_balanced)\n",
    "\n",
    "# Train a Logistic Regression model\n",
    "from sklearn.linear_model import LogisticRegression\n",
    "\n",
    "logit = LogisticRegression(C=5, penalty=\"l2\", random_state=321, max_iter=1000)\n",
    "logit.fit(X_train_balanced, y_train_balanced)\n",
    "\n",
    "# Calculate the accuracy of the model\n",
    "print(\n",
    "    f\"Logistic Regression Train Accuracy: {logit.score(X_train_balanced, y_train_balanced)}\"\n",
    ")"
   ]
  },
  {
   "cell_type": "code",
   "execution_count": 39,
   "metadata": {},
   "outputs": [
    {
     "name": "stdout",
     "output_type": "stream",
     "text": [
      "Logistic Regression Test Accuracy: 0.849015317286652\n"
     ]
    }
   ],
   "source": [
    "print(\n",
    "    f\"Logistic Regression Test Accuracy: {logit.score(X_test_balanced, y_test_balanced)}\"\n",
    ")"
   ]
  },
  {
   "cell_type": "markdown",
   "metadata": {},
   "source": [
    "<div style=\"background-color: #; padding: 0px; \">\n",
    "\n",
    "## <font size='5'><i>Plan → Acquire → Prepare → Explore → Model →</i></font> <font size='10'><i>**Deliver**</i></font>\n",
    "---"
   ]
  },
  {
   "cell_type": "markdown",
   "metadata": {},
   "source": [
    "### **Takeaways & Recommendations**\n"
   ]
  },
  {
   "cell_type": "markdown",
   "metadata": {},
   "source": [
    "#### *During Data Collection:*\n"
   ]
  },
  {
   "cell_type": "markdown",
   "metadata": {},
   "source": [
    "\n",
    "- **Decided to use the 'Full-Time' positions only to deal with outliers**\n",
    "    - Freelance jobs will often pay much more, but don't guarantee employment or have benefits\n",
    "    - Freelance jobs also are not very applicable to entry level applicants<br><br>\n",
    "\n",
    "- **Trying to categorize by `sector` proved to be too inaccurate from the nature of the descriptions in the job posts**\n",
    "    - Being able to <i>accurately</i> categorize by sector would add value, but would take too much time for this scope<br><br>\n",
    "\n",
    "- **Dataset had very little job positions for engineer/scientists due to the original search term being \"Data Analyst\"**\n",
    "    - Scraping for all 3 search terms would add insight for the under-represented categories<br><br>\n",
    "\n",
    "- **`location` in the dataset was primarily from one geographic area and did not include positions from the entire U.S.**\n",
    "    - Although the search was for the entire United States, it seems it was limited to a specific region\n",
    "    - If this was due to IP address, area could be more diversified by using a proxy<br><br>\n",
    "\n",
    "- **`date_posted` provided insights that certain fiscal quarters have increased hiring**\n",
    "\n",
    "- **We were able to distiguish skills for each `title` represented in the dataset**\n",
    "    - this was validated by using a classification model to predict the `title`<br><br>\n",
    "\n",
    "- **`salary` was only present in 18% of the job postings. This represents a known issue for job searchers of no salary in the posting**"
   ]
  },
  {
   "cell_type": "markdown",
   "metadata": {},
   "source": [
    "#### *During Modeling:*\n"
   ]
  },
  {
   "cell_type": "markdown",
   "metadata": {},
   "source": [
    "- **We down-sampled our dataset in order to demonstrate an accurate model**\n",
    "    - Another option, with more time, would be to collect more Data Scientist and Engineer positions\n",
    "    - Data Analyst, will always have more representation than the other two, just due to more Analyst positions<br><br>\n",
    "\n",
    "- **Our model is currently only being used to prove that our analysis of the data job skills are different between the three `titles`**\n",
    "\n",
    "- **Further data validation could be performed by including trigrams and quadgrams, but very computationally expensive**"
   ]
  },
  {
   "cell_type": "markdown",
   "metadata": {},
   "source": [
    "#### *During Dashboard:*\n"
   ]
  },
  {
   "cell_type": "markdown",
   "metadata": {},
   "source": [
    "\n",
    "- Presenting data with an interactive graph can allow for users to answer their own potential questions\n",
    "- Rather than having scrolls of graphs, it could also be summed up with an interactive graph"
   ]
  },
  {
   "cell_type": "markdown",
   "metadata": {},
   "source": [
    "### **Next Steps**"
   ]
  },
  {
   "cell_type": "markdown",
   "metadata": {},
   "source": [
    "#### *Validation:*\n"
   ]
  },
  {
   "cell_type": "markdown",
   "metadata": {},
   "source": [
    "- Set up a validation framework to periodically test the model on new job scrapings from Google and ensure its predictions remain accurate over time\n",
    "- If the model suddenly is inaccurate, this could represent a shift in the desired skills over time\n"
   ]
  },
  {
   "cell_type": "markdown",
   "metadata": {},
   "source": [
    "\n",
    "#### *Continuously add data for continued data insights*\n"
   ]
  },
  {
   "cell_type": "markdown",
   "metadata": {},
   "source": [
    "- Expand to the entire United States, rather than the limited geographic region\n",
    "- Continue scraping posts, to potentially identify upward and downward trends in certain skills desirability"
   ]
  }
 ],
 "metadata": {
  "kernelspec": {
   "display_name": "base",
   "language": "python",
   "name": "python3"
  },
  "language_info": {
   "codemirror_mode": {
    "name": "ipython",
    "version": 3
   },
   "file_extension": ".py",
   "mimetype": "text/x-python",
   "name": "python",
   "nbconvert_exporter": "python",
   "pygments_lexer": "ipython3",
   "version": "3.11.4"
  }
 },
 "nbformat": 4,
 "nbformat_minor": 2
}
